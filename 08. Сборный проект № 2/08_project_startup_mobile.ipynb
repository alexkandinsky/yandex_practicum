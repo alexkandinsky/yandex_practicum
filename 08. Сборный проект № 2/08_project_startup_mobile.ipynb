{
 "cells": [
  {
   "cell_type": "markdown",
   "metadata": {},
   "source": [
    "# Проект: Анализ поведения пользователей мобильного приложения. #\n",
    "\n",
    "## Описание проекта. ##\n",
    "\n",
    "Необходимо провести анализ поведения пользователей мобильного приложения стартапа, который продаёт продукты питания, а так же изучить воронку продаж. \n",
    "- Как пользователи доходят до покупки?\n",
    "- Сколько пользователей доходит до покупки? \n",
    "- Сколько пользователей «застревает» на предыдущих шагах?\n",
    "\n",
    "Исследовать результаты A/A/B-эксперимента. Дизайнеры захотели поменять шрифты во всём приложении, а менеджеры испугались, что пользователям будет непривычно. Договорились принять решение по результатам A/A/B-теста. Пользователей разбили на 3 группы: 2 контрольные со старыми шрифтами и одну экспериментальную — с новыми. Выясним, какой шрифт лучше.\n",
    "\n",
    "Создание двух групп A вместо одной имеет определённые преимущества. Если две контрольные группы окажутся равны, можем быть уверены в точности проведенного тестирования. Если же между значениями A и A будут существенные различия, это поможет обнаружить факторы, которые привели к искажению результатов. Сравнение контрольных групп также помогает понять, сколько времени и данных потребуется для дальнейших тестов.\n",
    "\n",
    "### Описание данных. ###\n",
    "\n",
    "Каждая запись в логе — это действие пользователя, или событие.\n",
    "\n",
    "- <b>EventName</b> — название события;\n",
    "- <b>DeviceIDHash</b> — уникальный идентификатор пользователя;\n",
    "- <b>EventTimestamp</b> — время события;\n",
    "- <b>ExpId</b> — номер эксперимента: *246* и *247* — контрольные группы, а *248* — экспериментальная.\n",
    "\n",
    "### План выполнения проекта. ###\n",
    "\n",
    "<b>Шаг 1.</b> Загрузим файл с данными и изучим общую информацию. Путь к файлу: */datasets/logs_exp.csv*.\n",
    "\n",
    "<b>Шаг 2.</b> Подготовим данные\n",
    "- Исправим нарушения стиля в наименовании столбцов ;\n",
    "- Проверим пропуски и типы данных. Откорректируем, если это потребуется;\n",
    "- Добавим столбец даты и времени, а также отдельный столбец дат;\n",
    "\n",
    "<b>Шаг 3.</b> Изучим и проверим данные\n",
    "- Сколько всего событий в логе?\n",
    "- Сколько всего пользователей в логе?\n",
    "- Сколько в среднем событий приходится на пользователя?\n",
    "- Данными за какой период мы располагаем? Найдем максимальную и минимальную дату. Построим гистограмму по дате и времени. Можно ли быть уверенным, что у вас одинаково полные данные за весь период? Технически в логи новых дней по некоторым пользователям могут «доезжать» события из прошлого — это может «перекашивать данные». Определим, с какого момента данные полные и отбросим более старые. Данными за какой период времени мы располагаем на самом деле?\n",
    "- Много ли событий и пользователей мы потеряли, отбросив старые данные?\n",
    "- Проверим, что у нас есть пользователи из всех трёх экспериментальных групп.\n",
    "\n",
    "<b>Шаг 4.</b> Изучим воронку событий\n",
    "- Посмотрим, какие события есть в логах, как часто они встречаются. Отсортируем события по частоте.\n",
    "- Посчитаем, сколько пользователей совершали каждое из этих событий. Отсортируем события по числу пользователей. Посчитаем долю пользователей, которые хоть раз совершали событие.\n",
    "- Предположим, в каком порядке происходят события. Все ли они выстраиваются в последовательную цепочку? Их не нужно учитывать при расчёте воронки.\n",
    "- По воронке событий посчитаем, какая доля пользователей проходит на следующий шаг воронки (от числа пользователей на предыдущем). То есть для последовательности событий A → B → C посчитаем отношение числа пользователей с событием B к количеству пользователей с событием A, а также отношение числа пользователей с событием C к количеству пользователей с событием B.\n",
    "- На каком шаге теряем больше всего пользователей?\n",
    "- Какая доля пользователей доходит от первого события до оплаты?\n",
    "\n",
    "<b>Шаг 5.</b> Изучим результаты эксперимента\n",
    "- Сколько пользователей в каждой экспериментальной группе?\n",
    "- Есть 2 контрольные группы для А/А-эксперимента, чтобы проверить корректность всех механизмов и расчётов. Проверим, находят ли статистические критерии разницу между выборками *246* и *247*.\n",
    "- Выберем самое популярное событие. Посчитаем число пользователей, совершивших это событие в каждой из контрольных групп. Посчитаем долю пользователей, совершивших это событие. Проверим, будет ли отличие между группами статистически достоверным. Проделаем то же самое для всех других событий (удобно обернуть проверку в отдельную функцию). Можно ли сказать, что разбиение на группы работает корректно?\n",
    "- Аналогично поступим с группой с изменённым шрифтом. Сравним результаты с каждой из контрольных групп в отдельности по каждому событию. Сравним результаты с объединённой контрольной группой. Какие выводы из эксперимента можно сделать?\n",
    "- Какой уровень значимости мы выбрали при проверке статистических гипотез выше? Посчитаем, сколько проверок статистических гипотез мы сделали. При уровне значимости 0.1 каждый десятый раз можно получать ложный результат. Какой уровень значимости стоит применить? Если мы хотите изменить его, проделаем предыдущие пункты и проверим свои выводы.\n",
    "\n",
    "\n",
    "\n"
   ]
  },
  {
   "cell_type": "markdown",
   "metadata": {},
   "source": [
    "## Шаг 1. Загрузим файл с данными и изучим общую информацию. ##"
   ]
  },
  {
   "cell_type": "code",
   "execution_count": 1,
   "metadata": {},
   "outputs": [],
   "source": [
    "# импорт библиотек\n",
    "import pandas as pd\n",
    "import numpy as np\n",
    "import matplotlib.pyplot as plt\n",
    "from plotly import graph_objects as go\n",
    "from scipy import stats as st\n",
    "import math as mth\n",
    "import plotly.io as pio\n",
    "pio.renderers.default = 'png'"
   ]
  },
  {
   "cell_type": "code",
   "execution_count": 2,
   "metadata": {},
   "outputs": [],
   "source": [
    "# загрузка датасета\n",
    "df = pd.read_csv('logs_exp.csv', sep='\\t')"
   ]
  },
  {
   "cell_type": "code",
   "execution_count": 3,
   "metadata": {},
   "outputs": [
    {
     "data": {
      "text/html": [
       "<div>\n",
       "<style scoped>\n",
       "    .dataframe tbody tr th:only-of-type {\n",
       "        vertical-align: middle;\n",
       "    }\n",
       "\n",
       "    .dataframe tbody tr th {\n",
       "        vertical-align: top;\n",
       "    }\n",
       "\n",
       "    .dataframe thead th {\n",
       "        text-align: right;\n",
       "    }\n",
       "</style>\n",
       "<table border=\"1\" class=\"dataframe\">\n",
       "  <thead>\n",
       "    <tr style=\"text-align: right;\">\n",
       "      <th></th>\n",
       "      <th>EventName</th>\n",
       "      <th>DeviceIDHash</th>\n",
       "      <th>EventTimestamp</th>\n",
       "      <th>ExpId</th>\n",
       "    </tr>\n",
       "  </thead>\n",
       "  <tbody>\n",
       "    <tr>\n",
       "      <th>0</th>\n",
       "      <td>MainScreenAppear</td>\n",
       "      <td>4575588528974610257</td>\n",
       "      <td>1564029816</td>\n",
       "      <td>246</td>\n",
       "    </tr>\n",
       "    <tr>\n",
       "      <th>1</th>\n",
       "      <td>MainScreenAppear</td>\n",
       "      <td>7416695313311560658</td>\n",
       "      <td>1564053102</td>\n",
       "      <td>246</td>\n",
       "    </tr>\n",
       "    <tr>\n",
       "      <th>2</th>\n",
       "      <td>PaymentScreenSuccessful</td>\n",
       "      <td>3518123091307005509</td>\n",
       "      <td>1564054127</td>\n",
       "      <td>248</td>\n",
       "    </tr>\n",
       "    <tr>\n",
       "      <th>3</th>\n",
       "      <td>CartScreenAppear</td>\n",
       "      <td>3518123091307005509</td>\n",
       "      <td>1564054127</td>\n",
       "      <td>248</td>\n",
       "    </tr>\n",
       "    <tr>\n",
       "      <th>4</th>\n",
       "      <td>PaymentScreenSuccessful</td>\n",
       "      <td>6217807653094995999</td>\n",
       "      <td>1564055322</td>\n",
       "      <td>248</td>\n",
       "    </tr>\n",
       "  </tbody>\n",
       "</table>\n",
       "</div>"
      ],
      "text/plain": [
       "                 EventName         DeviceIDHash  EventTimestamp  ExpId\n",
       "0         MainScreenAppear  4575588528974610257      1564029816    246\n",
       "1         MainScreenAppear  7416695313311560658      1564053102    246\n",
       "2  PaymentScreenSuccessful  3518123091307005509      1564054127    248\n",
       "3         CartScreenAppear  3518123091307005509      1564054127    248\n",
       "4  PaymentScreenSuccessful  6217807653094995999      1564055322    248"
      ]
     },
     "execution_count": 3,
     "metadata": {},
     "output_type": "execute_result"
    }
   ],
   "source": [
    "# выведем первые 5 строк \n",
    "df.head(5)"
   ]
  },
  {
   "cell_type": "code",
   "execution_count": 4,
   "metadata": {},
   "outputs": [
    {
     "name": "stdout",
     "output_type": "stream",
     "text": [
      "<class 'pandas.core.frame.DataFrame'>\n",
      "RangeIndex: 244126 entries, 0 to 244125\n",
      "Data columns (total 4 columns):\n",
      " #   Column          Non-Null Count   Dtype \n",
      "---  ------          --------------   ----- \n",
      " 0   EventName       244126 non-null  object\n",
      " 1   DeviceIDHash    244126 non-null  int64 \n",
      " 2   EventTimestamp  244126 non-null  int64 \n",
      " 3   ExpId           244126 non-null  int64 \n",
      "dtypes: int64(3), object(1)\n",
      "memory usage: 7.5+ MB\n"
     ]
    }
   ],
   "source": [
    "# выведем основую информацию\n",
    "df.info()"
   ]
  },
  {
   "cell_type": "markdown",
   "metadata": {},
   "source": [
    "***Вывод:***<br><br>Выявлено нарушение стиля в наименовании столбцов. Формат данных в столбце *EventTimestamp* не соотвествует формату *datetime*."
   ]
  },
  {
   "cell_type": "markdown",
   "metadata": {},
   "source": [
    "## Шаг 2. Подготовим данные. ##"
   ]
  },
  {
   "cell_type": "code",
   "execution_count": 5,
   "metadata": {},
   "outputs": [],
   "source": [
    "# приведем наименования столбцов датасета к единому стилю\n",
    "df.columns = ['event_name', 'user_id', 'event_time', 'group']"
   ]
  },
  {
   "cell_type": "code",
   "execution_count": 6,
   "metadata": {},
   "outputs": [
    {
     "data": {
      "text/plain": [
       "event_name    0\n",
       "user_id       0\n",
       "event_time    0\n",
       "group         0\n",
       "dtype: int64"
      ]
     },
     "execution_count": 6,
     "metadata": {},
     "output_type": "execute_result"
    }
   ],
   "source": [
    "# проверим датасет на наличие пропусков\n",
    "df.isna().sum()"
   ]
  },
  {
   "cell_type": "code",
   "execution_count": 7,
   "metadata": {},
   "outputs": [
    {
     "data": {
      "text/plain": [
       "413"
      ]
     },
     "execution_count": 7,
     "metadata": {},
     "output_type": "execute_result"
    }
   ],
   "source": [
    "# проверим датасет на наличие дубликатов\n",
    "df.duplicated().sum()"
   ]
  },
  {
   "cell_type": "code",
   "execution_count": 8,
   "metadata": {},
   "outputs": [],
   "source": [
    "# удалим дубликаты и сменим индекс\n",
    "df = df.drop_duplicates().reset_index(drop=True)"
   ]
  },
  {
   "cell_type": "code",
   "execution_count": 9,
   "metadata": {},
   "outputs": [
    {
     "data": {
      "text/plain": [
       "0"
      ]
     },
     "execution_count": 9,
     "metadata": {},
     "output_type": "execute_result"
    }
   ],
   "source": [
    "# проверим датасет на наличие дубликатов после обработки\n",
    "df.duplicated().sum()"
   ]
  },
  {
   "cell_type": "code",
   "execution_count": 10,
   "metadata": {},
   "outputs": [],
   "source": [
    "# изменим формат данных стоблца event_time на корректный\n",
    "df['event_time'] = pd.to_datetime(df['event_time'], unit='s')"
   ]
  },
  {
   "cell_type": "code",
   "execution_count": 11,
   "metadata": {},
   "outputs": [],
   "source": [
    "# добавим отдельный столбец с датой\n",
    "df['date'] = df['event_time'].dt.date\n",
    "df['date'] = df['date'].astype('datetime64') "
   ]
  },
  {
   "cell_type": "code",
   "execution_count": 12,
   "metadata": {},
   "outputs": [],
   "source": [
    "# переименуем столбцы групп\n",
    "df['group'] = df['group'].replace(246, 'A')\n",
    "df['group'] = df['group'].replace(247, 'A1')\n",
    "df['group'] = df['group'].replace(248, 'B')"
   ]
  },
  {
   "cell_type": "code",
   "execution_count": 13,
   "metadata": {},
   "outputs": [
    {
     "data": {
      "text/html": [
       "<div>\n",
       "<style scoped>\n",
       "    .dataframe tbody tr th:only-of-type {\n",
       "        vertical-align: middle;\n",
       "    }\n",
       "\n",
       "    .dataframe tbody tr th {\n",
       "        vertical-align: top;\n",
       "    }\n",
       "\n",
       "    .dataframe thead th {\n",
       "        text-align: right;\n",
       "    }\n",
       "</style>\n",
       "<table border=\"1\" class=\"dataframe\">\n",
       "  <thead>\n",
       "    <tr style=\"text-align: right;\">\n",
       "      <th></th>\n",
       "      <th>event_name</th>\n",
       "      <th>user_id</th>\n",
       "      <th>event_time</th>\n",
       "      <th>group</th>\n",
       "      <th>date</th>\n",
       "    </tr>\n",
       "  </thead>\n",
       "  <tbody>\n",
       "    <tr>\n",
       "      <th>0</th>\n",
       "      <td>MainScreenAppear</td>\n",
       "      <td>4575588528974610257</td>\n",
       "      <td>2019-07-25 04:43:36</td>\n",
       "      <td>A</td>\n",
       "      <td>2019-07-25</td>\n",
       "    </tr>\n",
       "    <tr>\n",
       "      <th>1</th>\n",
       "      <td>MainScreenAppear</td>\n",
       "      <td>7416695313311560658</td>\n",
       "      <td>2019-07-25 11:11:42</td>\n",
       "      <td>A</td>\n",
       "      <td>2019-07-25</td>\n",
       "    </tr>\n",
       "    <tr>\n",
       "      <th>2</th>\n",
       "      <td>PaymentScreenSuccessful</td>\n",
       "      <td>3518123091307005509</td>\n",
       "      <td>2019-07-25 11:28:47</td>\n",
       "      <td>B</td>\n",
       "      <td>2019-07-25</td>\n",
       "    </tr>\n",
       "    <tr>\n",
       "      <th>3</th>\n",
       "      <td>CartScreenAppear</td>\n",
       "      <td>3518123091307005509</td>\n",
       "      <td>2019-07-25 11:28:47</td>\n",
       "      <td>B</td>\n",
       "      <td>2019-07-25</td>\n",
       "    </tr>\n",
       "    <tr>\n",
       "      <th>4</th>\n",
       "      <td>PaymentScreenSuccessful</td>\n",
       "      <td>6217807653094995999</td>\n",
       "      <td>2019-07-25 11:48:42</td>\n",
       "      <td>B</td>\n",
       "      <td>2019-07-25</td>\n",
       "    </tr>\n",
       "  </tbody>\n",
       "</table>\n",
       "</div>"
      ],
      "text/plain": [
       "                event_name              user_id          event_time group  \\\n",
       "0         MainScreenAppear  4575588528974610257 2019-07-25 04:43:36     A   \n",
       "1         MainScreenAppear  7416695313311560658 2019-07-25 11:11:42     A   \n",
       "2  PaymentScreenSuccessful  3518123091307005509 2019-07-25 11:28:47     B   \n",
       "3         CartScreenAppear  3518123091307005509 2019-07-25 11:28:47     B   \n",
       "4  PaymentScreenSuccessful  6217807653094995999 2019-07-25 11:48:42     B   \n",
       "\n",
       "        date  \n",
       "0 2019-07-25  \n",
       "1 2019-07-25  \n",
       "2 2019-07-25  \n",
       "3 2019-07-25  \n",
       "4 2019-07-25  "
      ]
     },
     "execution_count": 13,
     "metadata": {},
     "output_type": "execute_result"
    }
   ],
   "source": [
    "# проверим результат внесенных изменений\n",
    "df.head(5)"
   ]
  },
  {
   "cell_type": "markdown",
   "metadata": {},
   "source": [
    "***Вывод:***<br><br>В результате проведенной предобработки, были выполнены следующие действия:\n",
    "- Наименовая столбцов приведены к единому стилю\n",
    "- Пропуски не были обнаружены\n",
    "- Обнаружено и удалено 413 дубликатов\n",
    "- Изменен формат данных столбца event_time на корректный \n",
    "- Добавлен отдельный столбец date с датой"
   ]
  },
  {
   "cell_type": "markdown",
   "metadata": {},
   "source": [
    "## Шаг 3. Изучим и проверим данные. ##"
   ]
  },
  {
   "cell_type": "markdown",
   "metadata": {},
   "source": [
    "### Сколько всего событий в логе? ###"
   ]
  },
  {
   "cell_type": "code",
   "execution_count": 14,
   "metadata": {},
   "outputs": [
    {
     "name": "stdout",
     "output_type": "stream",
     "text": [
      "Всего событий в логе: 243713\n"
     ]
    }
   ],
   "source": [
    "# узнаем количество событий в логе\n",
    "print('Всего событий в логе:',df['event_name'].count())"
   ]
  },
  {
   "cell_type": "markdown",
   "metadata": {},
   "source": [
    "### Сколько всего пользователей в логе? ###"
   ]
  },
  {
   "cell_type": "code",
   "execution_count": 15,
   "metadata": {},
   "outputs": [
    {
     "name": "stdout",
     "output_type": "stream",
     "text": [
      "Всего пользователей в логе: 7551\n"
     ]
    }
   ],
   "source": [
    "# узнаем количество пользователей в логе\n",
    "print('Всего пользователей в логе:',df['user_id'].nunique())"
   ]
  },
  {
   "cell_type": "markdown",
   "metadata": {},
   "source": [
    "### Сколько в среднем событий приходится на пользователя? ###"
   ]
  },
  {
   "cell_type": "code",
   "execution_count": 16,
   "metadata": {},
   "outputs": [
    {
     "name": "stdout",
     "output_type": "stream",
     "text": [
      "Количество событий в среднем на одного пользователя: 32.0\n"
     ]
    }
   ],
   "source": [
    "# узнаем количество событий в среднем на одного пользователя\n",
    "print('Количество событий в среднем на одного пользователя:', (df['event_name'].count() / df['user_id'].nunique()).round())"
   ]
  },
  {
   "cell_type": "markdown",
   "metadata": {},
   "source": [
    "### Данными за какой период мы располагаем? ###"
   ]
  },
  {
   "cell_type": "code",
   "execution_count": 17,
   "metadata": {},
   "outputs": [
    {
     "name": "stdout",
     "output_type": "stream",
     "text": [
      " Максимальная дата:  2019-08-07 21:15:17 \n",
      " Минимальная дата:  2019-07-25 04:43:36\n"
     ]
    }
   ],
   "source": [
    "# найдем максимальную и минимальную дату\n",
    "print(' Максимальная дата: ', df['event_time'].max(), '\\n', 'Минимальная дата: ', df['event_time'].min())"
   ]
  },
  {
   "cell_type": "code",
   "execution_count": 18,
   "metadata": {},
   "outputs": [
    {
     "name": "stdout",
     "output_type": "stream",
     "text": [
      "Период анализа:  13 days 16:31:41\n"
     ]
    }
   ],
   "source": [
    "# определим период времени которым мы располагаем\n",
    "print('Период анализа: ', df['event_time'].max() - df['event_time'].min())"
   ]
  },
  {
   "cell_type": "code",
   "execution_count": 19,
   "metadata": {},
   "outputs": [
    {
     "data": {
      "image/png": "[encoded data removed]",
      "text/plain": [
       "<Figure size 1500x500 with 1 Axes>"
      ]
     },
     "metadata": {},
     "output_type": "display_data"
    }
   ],
   "source": [
    "# построим гистограмму по дате и времени.\n",
    "plt.figure(figsize=(15,5))\n",
    "plt.hist(df['event_time'],bins=100, facecolor='g', edgecolor='black', alpha=0.75 )\n",
    "plt.grid(True)\n",
    "plt.xticks(rotation=30)\n",
    "plt.xlabel(\"Дата\")\n",
    "plt.ylabel(\"Частота\")\n",
    "plt.title('Гистограмма по дате и времени');"
   ]
  },
  {
   "cell_type": "code",
   "execution_count": 20,
   "metadata": {},
   "outputs": [],
   "source": [
    "# отбрасываем неполные данные\n",
    "df_new = df.query('date > \"2019-07-31\"')"
   ]
  },
  {
   "cell_type": "markdown",
   "metadata": {},
   "source": [
    "### Много ли событий и пользователей мы потеряли, отбросив старые данные? ###"
   ]
  },
  {
   "cell_type": "code",
   "execution_count": 21,
   "metadata": {},
   "outputs": [
    {
     "name": "stdout",
     "output_type": "stream",
     "text": [
      "Потеряно событий:  2826\n",
      "Что составляет 1.0 % от изначальных данных.\n"
     ]
    }
   ],
   "source": [
    "# узнаем сколько потеряно событий при отброске старых данных\n",
    "print('Потеряно событий: ', df['event_name'].count() - df_new['event_name'].count())\n",
    "print('Что составляет', ((df['event_name'].count() - df_new['event_name'].count())/df['event_name'].count() * 100).round(), '% от изначальных данных.')"
   ]
  },
  {
   "cell_type": "code",
   "execution_count": 22,
   "metadata": {},
   "outputs": [
    {
     "name": "stdout",
     "output_type": "stream",
     "text": [
      "Потеряно пользователей:  17\n",
      "Что составляет 0.22513574361011784 % от изначальных данных.\n"
     ]
    }
   ],
   "source": [
    "# узнаем сколько потеряно пользователей при отброске старых данных\n",
    "print('Потеряно пользователей: ', df['user_id'].nunique() - df_new['user_id'].nunique())\n",
    "print('Что составляет', ((df['user_id'].nunique() - df_new['user_id'].nunique())/df['user_id'].nunique() * 100), '% от изначальных данных.')"
   ]
  },
  {
   "cell_type": "markdown",
   "metadata": {},
   "source": [
    "### Проверим, что у нас есть пользователи из всех трёх экспериментальных групп. ###"
   ]
  },
  {
   "cell_type": "code",
   "execution_count": 23,
   "metadata": {},
   "outputs": [
    {
     "data": {
      "text/plain": [
       "group\n",
       "A     2484\n",
       "A1    2513\n",
       "B     2537\n",
       "Name: user_id, dtype: int64"
      ]
     },
     "execution_count": 23,
     "metadata": {},
     "output_type": "execute_result"
    }
   ],
   "source": [
    "# проверим наличие пользователей из всех 3-х экспериментальных групп\n",
    "df_new.groupby('group')['user_id'].nunique()"
   ]
  },
  {
   "cell_type": "markdown",
   "metadata": {},
   "source": [
    "***Вывод:***<br><br>\n",
    "- Всего событий в логе - *243713*, пользователей - *7551*.\n",
    "- Количество событий в среднем на одного пользователя - *32*.\n",
    "- Имеются данные с *2019-07-25* по *2019-08-07*. Общий период составляет *13* дней.\n",
    "- На гистограмме по дате и времени видно, что данные неполные практически до *2019-07-31*.<br>\n",
    "  Следовательно берем данные с *2019-08-01* по *2019-08-07*, ибо они наиболее информативные.\n",
    "- В результате отброски старых данных, мы потеряли *2826* событий и *17* пользователей.\n",
    "- Данные пользователей из всех трёх экспериментальных групп присутствуют."
   ]
  },
  {
   "cell_type": "markdown",
   "metadata": {},
   "source": [
    "## Шаг 4. Изучим воронку событий. ##"
   ]
  },
  {
   "cell_type": "markdown",
   "metadata": {},
   "source": [
    "### Посмотрим, какие события есть в логах, как часто они встречаются. Отсортируем события по частоте. ###"
   ]
  },
  {
   "cell_type": "code",
   "execution_count": 24,
   "metadata": {},
   "outputs": [
    {
     "data": {
      "text/plain": [
       "MainScreenAppear           117328\n",
       "OffersScreenAppear          46333\n",
       "CartScreenAppear            42303\n",
       "PaymentScreenSuccessful     33918\n",
       "Tutorial                     1005\n",
       "Name: event_name, dtype: int64"
      ]
     },
     "execution_count": 24,
     "metadata": {},
     "output_type": "execute_result"
    }
   ],
   "source": [
    "# отсортируем события по частоте\n",
    "df_new['event_name'].value_counts()"
   ]
  },
  {
   "cell_type": "markdown",
   "metadata": {},
   "source": [
    "### Посчитаем, сколько пользователей совершали каждое из этих событий. Отсортируем события по числу пользователей. Посчитаем долю пользователей, которые хоть раз совершали событие. ###"
   ]
  },
  {
   "cell_type": "code",
   "execution_count": 25,
   "metadata": {},
   "outputs": [],
   "source": [
    "# сгруппируем и отсортируем события по числу пользователей\n",
    "funnel = df_new.groupby('event_name')['user_id'].nunique().sort_values(ascending=False).to_frame().reset_index()\\\n",
    "                                                .rename(columns={'user_id':'total_users'})\n",
    "\n",
    "funnel['percent'] = (funnel['total_users']/ df_new['user_id'].nunique() * 100).round(2)"
   ]
  },
  {
   "cell_type": "code",
   "execution_count": 26,
   "metadata": {},
   "outputs": [
    {
     "data": {
      "text/html": [
       "<div>\n",
       "<style scoped>\n",
       "    .dataframe tbody tr th:only-of-type {\n",
       "        vertical-align: middle;\n",
       "    }\n",
       "\n",
       "    .dataframe tbody tr th {\n",
       "        vertical-align: top;\n",
       "    }\n",
       "\n",
       "    .dataframe thead th {\n",
       "        text-align: right;\n",
       "    }\n",
       "</style>\n",
       "<table border=\"1\" class=\"dataframe\">\n",
       "  <thead>\n",
       "    <tr style=\"text-align: right;\">\n",
       "      <th></th>\n",
       "      <th>event_name</th>\n",
       "      <th>total_users</th>\n",
       "      <th>percent</th>\n",
       "    </tr>\n",
       "  </thead>\n",
       "  <tbody>\n",
       "    <tr>\n",
       "      <th>0</th>\n",
       "      <td>MainScreenAppear</td>\n",
       "      <td>7419</td>\n",
       "      <td>98.47</td>\n",
       "    </tr>\n",
       "    <tr>\n",
       "      <th>1</th>\n",
       "      <td>OffersScreenAppear</td>\n",
       "      <td>4593</td>\n",
       "      <td>60.96</td>\n",
       "    </tr>\n",
       "    <tr>\n",
       "      <th>2</th>\n",
       "      <td>CartScreenAppear</td>\n",
       "      <td>3734</td>\n",
       "      <td>49.56</td>\n",
       "    </tr>\n",
       "    <tr>\n",
       "      <th>3</th>\n",
       "      <td>PaymentScreenSuccessful</td>\n",
       "      <td>3539</td>\n",
       "      <td>46.97</td>\n",
       "    </tr>\n",
       "    <tr>\n",
       "      <th>4</th>\n",
       "      <td>Tutorial</td>\n",
       "      <td>840</td>\n",
       "      <td>11.15</td>\n",
       "    </tr>\n",
       "  </tbody>\n",
       "</table>\n",
       "</div>"
      ],
      "text/plain": [
       "                event_name  total_users  percent\n",
       "0         MainScreenAppear         7419    98.47\n",
       "1       OffersScreenAppear         4593    60.96\n",
       "2         CartScreenAppear         3734    49.56\n",
       "3  PaymentScreenSuccessful         3539    46.97\n",
       "4                 Tutorial          840    11.15"
      ]
     },
     "execution_count": 26,
     "metadata": {},
     "output_type": "execute_result"
    }
   ],
   "source": [
    "# отобразим результат\n",
    "funnel"
   ]
  },
  {
   "cell_type": "markdown",
   "metadata": {},
   "source": [
    "### Предположим, в каком порядке происходят события. Все ли они выстраиваются в последовательную цепочку? Их не нужно учитывать при расчёте воронки. ###"
   ]
  },
  {
   "cell_type": "markdown",
   "metadata": {},
   "source": [
    "События происходят в следующем порядке:\n",
    "\n",
    "- *MainScreenAppear* - Появление главного экрана. Через данное событие прошли 7419 пользователей(98.47% от общего количества)\n",
    "- *OffersScreenAppear* - Появление экрана с предложением о покупке. 4593 пользователя (60.96% от общего количества)\n",
    "- *CartScreenApper* - Появление экрана с корзиной. 3734 пользователя (49.96% от общего количества)\n",
    "- *PaymentScreenSuccessful* - Экран успешного платежа. 3539 пользователей (46.97% от общего количества)\n",
    "\n",
    "Событие *Tutorial* не встраивается в нашу последовательную цепочку, учитывать данное событие при расчете воронки мы не будем."
   ]
  },
  {
   "cell_type": "markdown",
   "metadata": {},
   "source": [
    "### По воронке событий посчитаем, какая доля пользователей проходит на следующий шаг воронки (от числа пользователей на предыдущем). То есть для последовательности событий A → B → C посчитаем отношение числа пользователей с событием B к количеству пользователей с событием A, а также отношение числа пользователей с событием C к количеству пользователей с событием B. ###"
   ]
  },
  {
   "cell_type": "code",
   "execution_count": 27,
   "metadata": {},
   "outputs": [],
   "source": [
    "# исключаем событие Tutorial\n",
    "funnel = funnel.query('event_name != \"Tutorial\"')"
   ]
  },
  {
   "cell_type": "code",
   "execution_count": 50,
   "metadata": {
    "scrolled": false
   },
   "outputs": [
    {
     "data": {
      "image/png": "[encoded data removed]"
     },
     "metadata": {},
     "output_type": "display_data"
    }
   ],
   "source": [
    "# строим воронку событий\n",
    "fig = go.Figure(\n",
    "      go.Funnel(\n",
    "        y=[ 'Появление главного экрана',\n",
    "            'Появление экрана предложения о покупке',\n",
    "            'Появление экрана с корзиной',\n",
    "            'Экран успешного платежа'],\n",
    "        x=funnel['total_users']))\n",
    "fig.update_layout(title='Воронка событий', title_x = 0.6)\n",
    "fig.show(renderer='png', width=1000, height=500) "
   ]
  },
  {
   "cell_type": "markdown",
   "metadata": {},
   "source": [
    "### На каком шаге теряем больше всего пользователей? ###"
   ]
  },
  {
   "cell_type": "markdown",
   "metadata": {},
   "source": [
    "При переходе с 1 шага(Главный экран) на 2 –ой(Предложение покупки), мы теряем 38 % пользователей, что является самым высоким показателем среди остальных событий. Возможно предложение о покупке слишком навязчивое, стоит внести коррективы в данный раздел."
   ]
  },
  {
   "cell_type": "markdown",
   "metadata": {},
   "source": [
    "### Какая доля пользователей доходит от первого события до оплаты? ###"
   ]
  },
  {
   "cell_type": "markdown",
   "metadata": {},
   "source": [
    "От первого события до оплаты доходит 47.7% пользователей."
   ]
  },
  {
   "cell_type": "markdown",
   "metadata": {},
   "source": [
    "***Вывод:***<br><br>\n",
    "- Самым часто встречающемся событием является «Появление главного экрана» (MainScreenAppear).<br> Данное событие совершали *7419* пользователей (*98.47 %* от общего количества).\n",
    "- События происходят в следующем порядке:<br>1.MainScreenAppear(*7419 – 98.47 %*) – Появление главного экрана,<br> 2.OffersScreenApper(*4595 – 60.96 %*) – Появление  экрана с предложением о покупке,<br> 3.CartScreenAppear(*3734 – 49.56 %*) – Появление экрана с корзиной, <br>4.PaymentScreenSuccessful(*3539 – 46.97 %*) – Экран успешного платежа.<br> 5.Tutorial(*810 – 11.15 %*) – Руководство пользователя (учитывать данное событие при расчете воронки мы не будем).\n",
    "- При переходе с главного экрана на экран предложения покупки, мы теряем *38.1 %* пользователей.<br>До появления экрана с корзиной дошли около *50.3 %* пользователей, совершили успешный платеж *47.7 %* от общего количества пользователей.<br>При переходе с главного экрана на экран предложения покупки остается – *61.9 %* пользователей, с экрана предложения покупки на экран корзины – *81.3 %* пользователей, с экрана корзины на экран успешной оплаты – *94.8 %* пользователей. \n",
    "- С первого до последнего шага доходит *47.7 %* пользователей.\n"
   ]
  },
  {
   "cell_type": "markdown",
   "metadata": {},
   "source": [
    "## Шаг 5. Изучим результаты эксперимента. ##"
   ]
  },
  {
   "cell_type": "markdown",
   "metadata": {},
   "source": [
    "### Сколько пользователей в каждой экспериментальной группе? ###"
   ]
  },
  {
   "cell_type": "code",
   "execution_count": 29,
   "metadata": {},
   "outputs": [],
   "source": [
    "# проверим число уникальных пользователей\n",
    "users = df_new.groupby('group')['user_id'].nunique()"
   ]
  },
  {
   "cell_type": "code",
   "execution_count": 30,
   "metadata": {},
   "outputs": [
    {
     "data": {
      "text/plain": [
       "group\n",
       "A     2484\n",
       "A1    2513\n",
       "B     2537\n",
       "Name: user_id, dtype: int64"
      ]
     },
     "execution_count": 30,
     "metadata": {},
     "output_type": "execute_result"
    }
   ],
   "source": [
    "users"
   ]
  },
  {
   "cell_type": "code",
   "execution_count": 31,
   "metadata": {},
   "outputs": [
    {
     "data": {
      "text/html": [
       "<div>\n",
       "<style scoped>\n",
       "    .dataframe tbody tr th:only-of-type {\n",
       "        vertical-align: middle;\n",
       "    }\n",
       "\n",
       "    .dataframe tbody tr th {\n",
       "        vertical-align: top;\n",
       "    }\n",
       "\n",
       "    .dataframe thead th {\n",
       "        text-align: right;\n",
       "    }\n",
       "</style>\n",
       "<table border=\"1\" class=\"dataframe\">\n",
       "  <thead>\n",
       "    <tr style=\"text-align: right;\">\n",
       "      <th></th>\n",
       "      <th>user_id</th>\n",
       "      <th>group</th>\n",
       "    </tr>\n",
       "  </thead>\n",
       "  <tbody>\n",
       "  </tbody>\n",
       "</table>\n",
       "</div>"
      ],
      "text/plain": [
       "Empty DataFrame\n",
       "Columns: [user_id, group]\n",
       "Index: []"
      ]
     },
     "execution_count": 31,
     "metadata": {},
     "output_type": "execute_result"
    }
   ],
   "source": [
    "# проверим не пересекаются ли пользователи в группах\n",
    "df_new.groupby('user_id')['group'].nunique().reset_index().query('group > 1')"
   ]
  },
  {
   "cell_type": "markdown",
   "metadata": {},
   "source": [
    "### Есть 2 контрольные группы для А/А-эксперимента, чтобы проверить корректность всех механизмов и расчётов. Проверим, находят ли статистические критерии разницу между выборками 246 и 247. ###"
   ]
  },
  {
   "cell_type": "markdown",
   "metadata": {},
   "source": [
    "<b>Критерии успешного A/A-теста:</b>\n",
    "\n",
    "- Количество пользователей в различных группах различается не более, чем на 1% или 0.5%\n",
    "- Для всех групп фиксируют и отправляют в системы аналитики данные об одном и том же\n",
    "- Различие ключевых метрик по группам не превышает 1% и не имеет статистической значимости\n",
    "- Попавший в одну из групп посетитель остаётся в этой группе до конца теста."
   ]
  },
  {
   "cell_type": "code",
   "execution_count": 32,
   "metadata": {},
   "outputs": [
    {
     "data": {
      "text/plain": [
       "2484"
      ]
     },
     "execution_count": 32,
     "metadata": {},
     "output_type": "execute_result"
    }
   ],
   "source": [
    "# получим число пользователей группы А\n",
    "users_A = (df_new[df_new['group'] == 'A']['user_id']).nunique()\n",
    "users_A"
   ]
  },
  {
   "cell_type": "code",
   "execution_count": 33,
   "metadata": {},
   "outputs": [
    {
     "data": {
      "text/plain": [
       "2513"
      ]
     },
     "execution_count": 33,
     "metadata": {},
     "output_type": "execute_result"
    }
   ],
   "source": [
    "# получим число пользователей группы А1\n",
    "users_A1 = (df_new[df_new['group'] == 'A1']['user_id']).nunique()\n",
    "users_A1"
   ]
  },
  {
   "cell_type": "code",
   "execution_count": 34,
   "metadata": {},
   "outputs": [
    {
     "name": "stdout",
     "output_type": "stream",
     "text": [
      "Количество пользователей в группах A и A1 различается на 1.15 %\n"
     ]
    }
   ],
   "source": [
    "print('Количество пользователей в группах A и A1 различается на', round(100 - users_A / users_A1 * 100, 2), '%')"
   ]
  },
  {
   "cell_type": "markdown",
   "metadata": {},
   "source": [
    "### Выберем самое популярное событие. Посчитаем число пользователей, совершивших это событие в каждой из контрольных групп. Посчитаем долю пользователей, совершивших это событие. Проверим, будет ли отличие между группами статистически достоверным. Проделаем то же самое для всех других событий (удобно обернуть проверку в отдельную функцию). Можно ли сказать, что разбиение на группы работает корректно? ###"
   ]
  },
  {
   "cell_type": "markdown",
   "metadata": {},
   "source": [
    "*Самым популярным событием является - 'MainScreenAppear'*"
   ]
  },
  {
   "cell_type": "code",
   "execution_count": 35,
   "metadata": {},
   "outputs": [],
   "source": [
    "# создадим таблицу с числом пользователей по каждому событию с разбивкой на группы\n",
    "all_funnels = df_new.pivot_table(index='event_name', \n",
    "                                 columns='group',\n",
    "                                 values='user_id', \n",
    "                                 aggfunc='nunique').sort_values(by='A', ascending=False).reset_index()"
   ]
  },
  {
   "cell_type": "code",
   "execution_count": 36,
   "metadata": {},
   "outputs": [],
   "source": [
    "# добавим объединенную группа А + А1\n",
    "all_funnels['A+A1'] = all_funnels['A'] + all_funnels['A1']"
   ]
  },
  {
   "cell_type": "code",
   "execution_count": 37,
   "metadata": {},
   "outputs": [],
   "source": [
    "# посчитаем долю пользователей группы А\n",
    "all_funnels['percent_A'] = (all_funnels['A'] / users['A'] * 100).round(1)"
   ]
  },
  {
   "cell_type": "code",
   "execution_count": 38,
   "metadata": {},
   "outputs": [],
   "source": [
    "# посчитаем долю пользователей группы А1\n",
    "all_funnels['percent_A1'] = (all_funnels['A1'] / users['A1'] * 100).round(1)"
   ]
  },
  {
   "cell_type": "code",
   "execution_count": 39,
   "metadata": {},
   "outputs": [],
   "source": [
    "# посчитаем долю пользователей группы B\n",
    "all_funnels['percent_B'] = (all_funnels['B'] / users['B'] * 100).round(1)"
   ]
  },
  {
   "cell_type": "code",
   "execution_count": 40,
   "metadata": {},
   "outputs": [],
   "source": [
    "# исключим событие Tutorial\n",
    "all_funnels = all_funnels.query('event_name != \"Tutorial\"')"
   ]
  },
  {
   "cell_type": "code",
   "execution_count": 41,
   "metadata": {},
   "outputs": [
    {
     "data": {
      "text/html": [
       "<div>\n",
       "<style scoped>\n",
       "    .dataframe tbody tr th:only-of-type {\n",
       "        vertical-align: middle;\n",
       "    }\n",
       "\n",
       "    .dataframe tbody tr th {\n",
       "        vertical-align: top;\n",
       "    }\n",
       "\n",
       "    .dataframe thead th {\n",
       "        text-align: right;\n",
       "    }\n",
       "</style>\n",
       "<table border=\"1\" class=\"dataframe\">\n",
       "  <thead>\n",
       "    <tr style=\"text-align: right;\">\n",
       "      <th>group</th>\n",
       "      <th>event_name</th>\n",
       "      <th>A</th>\n",
       "      <th>A1</th>\n",
       "      <th>B</th>\n",
       "      <th>A+A1</th>\n",
       "      <th>percent_A</th>\n",
       "      <th>percent_A1</th>\n",
       "      <th>percent_B</th>\n",
       "    </tr>\n",
       "  </thead>\n",
       "  <tbody>\n",
       "    <tr>\n",
       "      <th>0</th>\n",
       "      <td>MainScreenAppear</td>\n",
       "      <td>2450</td>\n",
       "      <td>2476</td>\n",
       "      <td>2493</td>\n",
       "      <td>4926</td>\n",
       "      <td>98.6</td>\n",
       "      <td>98.5</td>\n",
       "      <td>98.3</td>\n",
       "    </tr>\n",
       "    <tr>\n",
       "      <th>1</th>\n",
       "      <td>OffersScreenAppear</td>\n",
       "      <td>1542</td>\n",
       "      <td>1520</td>\n",
       "      <td>1531</td>\n",
       "      <td>3062</td>\n",
       "      <td>62.1</td>\n",
       "      <td>60.5</td>\n",
       "      <td>60.3</td>\n",
       "    </tr>\n",
       "    <tr>\n",
       "      <th>2</th>\n",
       "      <td>CartScreenAppear</td>\n",
       "      <td>1266</td>\n",
       "      <td>1238</td>\n",
       "      <td>1230</td>\n",
       "      <td>2504</td>\n",
       "      <td>51.0</td>\n",
       "      <td>49.3</td>\n",
       "      <td>48.5</td>\n",
       "    </tr>\n",
       "    <tr>\n",
       "      <th>3</th>\n",
       "      <td>PaymentScreenSuccessful</td>\n",
       "      <td>1200</td>\n",
       "      <td>1158</td>\n",
       "      <td>1181</td>\n",
       "      <td>2358</td>\n",
       "      <td>48.3</td>\n",
       "      <td>46.1</td>\n",
       "      <td>46.6</td>\n",
       "    </tr>\n",
       "  </tbody>\n",
       "</table>\n",
       "</div>"
      ],
      "text/plain": [
       "group               event_name     A    A1     B  A+A1  percent_A  percent_A1  \\\n",
       "0             MainScreenAppear  2450  2476  2493  4926       98.6        98.5   \n",
       "1           OffersScreenAppear  1542  1520  1531  3062       62.1        60.5   \n",
       "2             CartScreenAppear  1266  1238  1230  2504       51.0        49.3   \n",
       "3      PaymentScreenSuccessful  1200  1158  1181  2358       48.3        46.1   \n",
       "\n",
       "group  percent_B  \n",
       "0           98.3  \n",
       "1           60.3  \n",
       "2           48.5  \n",
       "3           46.6  "
      ]
     },
     "execution_count": 41,
     "metadata": {},
     "output_type": "execute_result"
    }
   ],
   "source": [
    "all_funnels"
   ]
  },
  {
   "cell_type": "code",
   "execution_count": 42,
   "metadata": {},
   "outputs": [],
   "source": [
    "# добавим в таблицу число пользователей общей группы А и А1\n",
    "users['A+A1'] = users['A'] + users['A1']"
   ]
  },
  {
   "cell_type": "code",
   "execution_count": 43,
   "metadata": {},
   "outputs": [
    {
     "data": {
      "text/plain": [
       "group\n",
       "A       2484\n",
       "A1      2513\n",
       "B       2537\n",
       "A+A1    4997\n",
       "Name: user_id, dtype: int64"
      ]
     },
     "execution_count": 43,
     "metadata": {},
     "output_type": "execute_result"
    }
   ],
   "source": [
    "users"
   ]
  },
  {
   "cell_type": "markdown",
   "metadata": {},
   "source": [
    "Для проверки гипотез воспользуемся Z-критерием и применим поправку Бонферрони.\n",
    "\n",
    "Сформулируем гипотезы:\n",
    "\n",
    "- <b>H0</b>: Конверсия пользователей в обеих группах равна\n",
    "- <b>H1</b>: Конверсия в обеих группах не равна"
   ]
  },
  {
   "cell_type": "code",
   "execution_count": 44,
   "metadata": {},
   "outputs": [],
   "source": [
    "# функция для z-критерия\n",
    "def z_test(group1, group2, alpha, n): \n",
    "    p1_event = all_funnels.loc[event_name, group1]\n",
    "    p2_event = all_funnels.loc[event_name, group2] \n",
    "    p1_users = users.loc[group1] \n",
    "    p2_users = users.loc[group2] \n",
    "    \n",
    "    p1 = p1_event / p1_users \n",
    "    p2 = p2_event / p2_users \n",
    "    p_combined = (p1_event + p2_event) / (p1_users + p2_users) \n",
    "    difference = p1 - p2\n",
    "    \n",
    "    z_value = difference / mth.sqrt(p_combined * (1 - p_combined) * (1 / p1_users + 1 / p2_users))\n",
    "    \n",
    "    distr = st.norm(0, 1)\n",
    "    p_value = (1 - distr.cdf(abs(z_value))) * 2\n",
    "    \n",
    "    # так как мы проводим множественное сравнение, применим поправку Бонферрони\n",
    "    bonferroni_alpha = alpha / n\n",
    "    \n",
    "    print('Проверка для групп {} и {}, событие: {}, p-значение: {p_value}'.format(group1, group2, event_name, p_value=p_value))\n",
    "    if (p_value < bonferroni_alpha):\n",
    "        print(\"Отвергаем нулевую гипотезу о равенстве данных в группах\")\n",
    "    else:\n",
    "        print(\"Не получилось отвергнуть нулевую гипотезу о равенстве данных в группах\")"
   ]
  },
  {
   "cell_type": "code",
   "execution_count": 45,
   "metadata": {},
   "outputs": [
    {
     "name": "stdout",
     "output_type": "stream",
     "text": [
      "Проверка для групп A и A1, событие: 0, p-значение: 0.7570597232046099\n",
      "Не получилось отвергнуть нулевую гипотезу о равенстве данных в группах\n",
      "Проверка для групп A и A1, событие: 1, p-значение: 0.2480954578522181\n",
      "Не получилось отвергнуть нулевую гипотезу о равенстве данных в группах\n",
      "Проверка для групп A и A1, событие: 2, p-значение: 0.22883372237997213\n",
      "Не получилось отвергнуть нулевую гипотезу о равенстве данных в группах\n",
      "Проверка для групп A и A1, событие: 3, p-значение: 0.11456679313141849\n",
      "Не получилось отвергнуть нулевую гипотезу о равенстве данных в группах\n"
     ]
    }
   ],
   "source": [
    "# сравним группу А с группой А1\n",
    "for event_name in all_funnels.index:\n",
    "    z_test('A', 'A1', 0.05, 16)"
   ]
  },
  {
   "cell_type": "markdown",
   "metadata": {},
   "source": [
    "Статистически значимая разница между конверсиями пользователей группы А и А1 отсуствует."
   ]
  },
  {
   "cell_type": "markdown",
   "metadata": {},
   "source": [
    "### Аналогично поступим с группой с изменённым шрифтом. Сравним результаты с каждой из контрольных групп в отдельности по каждому событию. Сравним результаты с объединённой контрольной группой. Какие выводы из эксперимента можно сделать? ###"
   ]
  },
  {
   "cell_type": "code",
   "execution_count": 46,
   "metadata": {},
   "outputs": [
    {
     "name": "stdout",
     "output_type": "stream",
     "text": [
      "Проверка для групп A и B, событие: 0, p-значение: 0.2949721933554552\n",
      "Не получилось отвергнуть нулевую гипотезу о равенстве данных в группах\n",
      "Проверка для групп A и B, событие: 1, p-значение: 0.20836205402738917\n",
      "Не получилось отвергнуть нулевую гипотезу о равенстве данных в группах\n",
      "Проверка для групп A и B, событие: 2, p-значение: 0.07842923237520116\n",
      "Не получилось отвергнуть нулевую гипотезу о равенстве данных в группах\n",
      "Проверка для групп A и B, событие: 3, p-значение: 0.2122553275697796\n",
      "Не получилось отвергнуть нулевую гипотезу о равенстве данных в группах\n"
     ]
    }
   ],
   "source": [
    "# сравним группу А с группой B\n",
    "for event_name in all_funnels.index:\n",
    "    z_test('A', 'B', 0.05, 16)"
   ]
  },
  {
   "cell_type": "code",
   "execution_count": 47,
   "metadata": {},
   "outputs": [
    {
     "name": "stdout",
     "output_type": "stream",
     "text": [
      "Проверка для групп A1 и B, событие: 0, p-значение: 0.4587053616621515\n",
      "Не получилось отвергнуть нулевую гипотезу о равенстве данных в группах\n",
      "Проверка для групп A1 и B, событие: 1, p-значение: 0.9197817830592261\n",
      "Не получилось отвергнуть нулевую гипотезу о равенстве данных в группах\n",
      "Проверка для групп A1 и B, событие: 2, p-значение: 0.5786197879539783\n",
      "Не получилось отвергнуть нулевую гипотезу о равенстве данных в группах\n",
      "Проверка для групп A1 и B, событие: 3, p-значение: 0.7373415053803964\n",
      "Не получилось отвергнуть нулевую гипотезу о равенстве данных в группах\n"
     ]
    }
   ],
   "source": [
    "# сравним группу А1 с группой B\n",
    "for event_name in all_funnels.index:\n",
    "    z_test('A1', 'B', 0.05, 16)"
   ]
  },
  {
   "cell_type": "code",
   "execution_count": 48,
   "metadata": {},
   "outputs": [
    {
     "name": "stdout",
     "output_type": "stream",
     "text": [
      "Проверка для групп A+A1 и B, событие: 0, p-значение: 0.29424526837179577\n",
      "Не получилось отвергнуть нулевую гипотезу о равенстве данных в группах\n",
      "Проверка для групп A+A1 и B, событие: 1, p-значение: 0.43425549655188256\n",
      "Не получилось отвергнуть нулевую гипотезу о равенстве данных в группах\n",
      "Проверка для групп A+A1 и B, событие: 2, p-значение: 0.18175875284404386\n",
      "Не получилось отвергнуть нулевую гипотезу о равенстве данных в группах\n",
      "Проверка для групп A+A1 и B, событие: 3, p-значение: 0.6004294282308704\n",
      "Не получилось отвергнуть нулевую гипотезу о равенстве данных в группах\n"
     ]
    }
   ],
   "source": [
    "# сравним группу А+A1 с группой B\n",
    "for event_name in all_funnels.index:\n",
    "    z_test('A+A1', 'B', 0.05, 16)"
   ]
  },
  {
   "cell_type": "markdown",
   "metadata": {},
   "source": [
    "Аналогичный результат, статистически значимая разница не наблюдается для всех событий воронки продаж, в том числе и для объединенных групп А + А1. Можно сделать вывод, что изменения шрифта никак не повлияло на пользователей."
   ]
  },
  {
   "cell_type": "markdown",
   "metadata": {},
   "source": [
    "***Вывод:***<br><br>\n",
    "- Получены группы размером А - 2484, А1 - 2513, B - 2537.\n",
    "- Пересечения пользователей в группах отсутствует.\n",
    "- Количество пользователей в группах A и A1 различается на 1.15 %.\n",
    "- Для проверки гипотез был использован Z-критерий и поправка Бонферрони.\n",
    "- Сформулированы гипотезы:<br><b>H0</b>: Конверсия пользователей в обеих группах равна<br>\n",
    "    <b>H1</b>: Конверсия в обеих группах не равна\n",
    "- Проведено 16 проверок А/А/В-эксперимента (внутри контрольных групп,между экспериментальной,двумя контрольными и объединенной контрольной)\n",
    "- В результате статистически значимая разница между конверсиями пользователей группы А и А1 отсуствует. Аналогичный результат был получен в остальных 12 тестах.\n"
   ]
  },
  {
   "cell_type": "markdown",
   "metadata": {},
   "source": [
    "### Какой уровень значимости мы выбрали при проверке статистических гипотез выше? Посчитаем, сколько проверок статистических гипотез мы сделали. При уровне значимости 0.1 каждый десятый раз можно получать ложный результат. Какой уровень значимости стоит применить? Если мы хотите изменить его, проделаем предыдущие пункты и проверим свои выводы. ###"
   ]
  },
  {
   "cell_type": "markdown",
   "metadata": {},
   "source": [
    "- Был использован коэффициент статистической значимости α, равный 0,05%.\n",
    "- Проведено 16 проверок А/А/В-эксперимента (4 АА теста и 12 АB тестов).\n",
    "- Более высокое значение альфа увеличит риск ошибки первого рода, чтобы снизить групповую вероятность ошибки первого рода и скорректировать требуемый уровень значимости alpha, была применена поправка Бонферрони."
   ]
  },
  {
   "cell_type": "markdown",
   "metadata": {},
   "source": [
    "## Общий вывод ##"
   ]
  },
  {
   "cell_type": "markdown",
   "metadata": {},
   "source": [
    "В результате предобработки данных были внесены следующие изменения:\n",
    "1. Наименования столбцов были приведены к единому стилю(snake_case),\n",
    "2. Проведена проверка на наличие пропусков,\n",
    "3. Пропуски не обнаружены,\n",
    "4. Обнаружено и удалено <b>413</b> дубликатов,\n",
    "5. Скорректирован формат данных столбца event_time на корректный,\n",
    "6. Добавлен отдельный столбец date с датой.\n",
    "\n",
    "В нашем распоряжении имелись данные с *2019-07-25* по *2019-08-07* (13 дней). Построив гистограмму по дате и времени, мы увидели, что данные неполные и период с *2019-07-25* по *2019-07-31* неинформативен.Для дальнейшего исследования был взят период с *2019-08-01* по *2019-08-07*.\n",
    "\n",
    "После проведенной обработки и отброски старых данных, мы потеряли <b>286</b> событий и <b>17</b> пользователей (около 1 % от общего количества). Проведена проверка на присутствие данных пользователей всех 3-ех экспериментальных групп.\n",
    "\n",
    "При выстраивании последовательной цепочки, мы сделали вывод, что события происходят в следующем порядке:\n",
    "1. MainScreenAppear - Появление главного экрана. Через данное событие прошли <b>7419</b> пользователей (<b>98.47 %</b> от общего количества),\n",
    "2. OffersScreenAppear - Появление экрана с предложением о покупке. <b>4593</b> пользователя (<b>60.96 %</b> от общего количества), \n",
    "3. CartScreenApper - Появление экрана с корзиной. <b>3734</b> пользователя (<b>49.96 %</b> от общего количества), \n",
    "4. PaymentScreenSuccessful - Экран успешного платежа. <b>3539</b> пользователей (<b>46.97 %</b> от общего количества),\n",
    "5. Tutorial - Руководство пользователя. <b>810</b> пользователей (<b>11.15 %</b> от общего количства).\n",
    "\n",
    "Событие Tutorial малочисленное (возможно по причине игнорирования пользователем) не встраивается в нашу последовательную цепочку, учитывать данное событие при расчете воронки мы стали.\n",
    "\n",
    "При переходе с этапа главного экрана на этап предложение покупки, мы теряем около <b>38 %</b> пользователей, что является самым высоким показателей, среди остальных шагов в воронке.\n",
    "\n",
    "До появления экрана с корзиной дошли около <b>50.3 %</b> пользователей, совершили успешный платеж <b>47.7 %</b> от общего количества пользователей.\n",
    "\n",
    "При переходе с главного экрана на экран предложения покупки остается – <b>61.9 %</b> пользователей, с экрана предложения покупки на экран корзины – <b>81.3 %</b> пользователей, с экрана корзины на экран успешной оплаты – <b>94.8 %</b> пользователей.\n",
    "\n",
    "От первого события (главный экран) до оплаты доходит <b>47.7 %</b>.\n",
    "\n",
    "Количество пользователей групп А и А1 отличается на <b>1.15 %</b> (рекомендовано 0.5 – 1%). \n",
    "\n",
    "Проведено 16 проверок А/А/В-эксперимента (4 АА теста и 12 АB тестов).\n",
    "По результатам А/А/B тестов не было обнаружено каких либо различий внутри контрольных групп, между экспериментальной, двумя контрольными и объединенной контрольной.\n",
    "Следовательно, можно сделать вывод, что замена шрифта не повлияла ни на один шаг воронки продаж.\n"
   ]
  }
 ],
 "metadata": {
  "ExecuteTimeLog": [
   {
    "duration": 437,
    "start_time": "2022-12-26T08:28:33.433Z"
   },
   {
    "duration": 3,
    "start_time": "2022-12-26T08:28:37.917Z"
   },
   {
    "duration": 129,
    "start_time": "2022-12-26T08:29:12.522Z"
   },
   {
    "duration": 815,
    "start_time": "2022-12-26T08:29:26.704Z"
   },
   {
    "duration": 14,
    "start_time": "2022-12-26T08:29:29.904Z"
   },
   {
    "duration": 69,
    "start_time": "2022-12-26T08:47:42.409Z"
   },
   {
    "duration": 417,
    "start_time": "2022-12-26T08:54:08.425Z"
   },
   {
    "duration": 342,
    "start_time": "2022-12-26T08:56:08.689Z"
   },
   {
    "duration": 11,
    "start_time": "2022-12-26T08:56:20.263Z"
   },
   {
    "duration": 176,
    "start_time": "2022-12-26T08:57:27.016Z"
   },
   {
    "duration": 10,
    "start_time": "2022-12-26T08:57:27.513Z"
   },
   {
    "duration": 8,
    "start_time": "2022-12-26T09:10:34.190Z"
   },
   {
    "duration": 21,
    "start_time": "2022-12-26T09:11:14.370Z"
   },
   {
    "duration": 4,
    "start_time": "2022-12-26T09:24:37.123Z"
   },
   {
    "duration": 20,
    "start_time": "2022-12-26T09:24:43.600Z"
   },
   {
    "duration": 4,
    "start_time": "2022-12-26T09:24:53.242Z"
   },
   {
    "duration": 37,
    "start_time": "2022-12-26T09:26:32.665Z"
   },
   {
    "duration": 22,
    "start_time": "2022-12-26T09:26:48.916Z"
   },
   {
    "duration": 7,
    "start_time": "2022-12-26T09:27:03.197Z"
   },
   {
    "duration": 16,
    "start_time": "2022-12-26T09:28:06.722Z"
   },
   {
    "duration": 23,
    "start_time": "2022-12-26T09:28:07.800Z"
   },
   {
    "duration": 9,
    "start_time": "2022-12-26T09:28:09.697Z"
   },
   {
    "duration": 8,
    "start_time": "2022-12-26T09:28:25.973Z"
   },
   {
    "duration": 11,
    "start_time": "2022-12-26T09:30:27.914Z"
   },
   {
    "duration": 20,
    "start_time": "2022-12-26T09:30:28.545Z"
   },
   {
    "duration": 8,
    "start_time": "2022-12-26T09:30:29.085Z"
   },
   {
    "duration": 702,
    "start_time": "2022-12-26T09:30:41.202Z"
   },
   {
    "duration": 189,
    "start_time": "2022-12-26T09:30:41.906Z"
   },
   {
    "duration": 12,
    "start_time": "2022-12-26T09:30:42.097Z"
   },
   {
    "duration": 33,
    "start_time": "2022-12-26T09:30:42.111Z"
   },
   {
    "duration": 4,
    "start_time": "2022-12-26T09:30:42.146Z"
   },
   {
    "duration": 10,
    "start_time": "2022-12-26T09:30:42.152Z"
   },
   {
    "duration": 45,
    "start_time": "2022-12-26T09:30:42.165Z"
   },
   {
    "duration": 28,
    "start_time": "2022-12-26T09:30:42.212Z"
   },
   {
    "duration": 8,
    "start_time": "2022-12-26T09:30:42.242Z"
   },
   {
    "duration": 12,
    "start_time": "2022-12-26T09:31:04.983Z"
   },
   {
    "duration": 21,
    "start_time": "2022-12-26T09:31:05.436Z"
   },
   {
    "duration": 8,
    "start_time": "2022-12-26T09:31:06.010Z"
   },
   {
    "duration": 11,
    "start_time": "2022-12-26T09:31:13.277Z"
   },
   {
    "duration": 21,
    "start_time": "2022-12-26T09:31:13.898Z"
   },
   {
    "duration": 8,
    "start_time": "2022-12-26T09:31:14.385Z"
   },
   {
    "duration": 9,
    "start_time": "2022-12-26T09:31:52.089Z"
   },
   {
    "duration": 13,
    "start_time": "2022-12-26T09:34:12.515Z"
   },
   {
    "duration": 23,
    "start_time": "2022-12-26T09:34:13.002Z"
   },
   {
    "duration": 9,
    "start_time": "2022-12-26T09:34:13.725Z"
   },
   {
    "duration": 693,
    "start_time": "2022-12-26T09:34:47.499Z"
   },
   {
    "duration": 165,
    "start_time": "2022-12-26T09:34:48.194Z"
   },
   {
    "duration": 12,
    "start_time": "2022-12-26T09:34:48.361Z"
   },
   {
    "duration": 62,
    "start_time": "2022-12-26T09:34:48.374Z"
   },
   {
    "duration": 37,
    "start_time": "2022-12-26T09:34:48.439Z"
   },
   {
    "duration": 86,
    "start_time": "2022-12-26T09:34:48.477Z"
   },
   {
    "duration": 71,
    "start_time": "2022-12-26T09:34:48.565Z"
   },
   {
    "duration": 65,
    "start_time": "2022-12-26T09:34:48.638Z"
   },
   {
    "duration": 34,
    "start_time": "2022-12-26T09:34:48.705Z"
   },
   {
    "duration": 633,
    "start_time": "2022-12-26T09:39:29.255Z"
   },
   {
    "duration": 177,
    "start_time": "2022-12-26T09:39:29.890Z"
   },
   {
    "duration": 11,
    "start_time": "2022-12-26T09:39:30.069Z"
   },
   {
    "duration": 46,
    "start_time": "2022-12-26T09:39:30.081Z"
   },
   {
    "duration": 5,
    "start_time": "2022-12-26T09:39:41.529Z"
   },
   {
    "duration": 3,
    "start_time": "2022-12-26T09:40:25.769Z"
   },
   {
    "duration": 10,
    "start_time": "2022-12-26T09:40:33.740Z"
   },
   {
    "duration": 38,
    "start_time": "2022-12-26T09:41:00.206Z"
   },
   {
    "duration": 23,
    "start_time": "2022-12-26T09:41:03.583Z"
   },
   {
    "duration": 8,
    "start_time": "2022-12-26T09:41:09.252Z"
   },
   {
    "duration": 73,
    "start_time": "2022-12-26T09:44:06.289Z"
   },
   {
    "duration": 16,
    "start_time": "2022-12-26T09:44:15.543Z"
   },
   {
    "duration": 69,
    "start_time": "2022-12-26T09:44:34.776Z"
   },
   {
    "duration": 99,
    "start_time": "2022-12-26T09:45:36.008Z"
   },
   {
    "duration": 72,
    "start_time": "2022-12-26T09:46:01.234Z"
   },
   {
    "duration": 68,
    "start_time": "2022-12-26T09:46:13.307Z"
   },
   {
    "duration": 11,
    "start_time": "2022-12-26T09:46:17.862Z"
   },
   {
    "duration": 665,
    "start_time": "2022-12-26T09:51:00.996Z"
   },
   {
    "duration": 177,
    "start_time": "2022-12-26T09:51:01.663Z"
   },
   {
    "duration": 16,
    "start_time": "2022-12-26T09:51:01.842Z"
   },
   {
    "duration": 24,
    "start_time": "2022-12-26T09:51:01.862Z"
   },
   {
    "duration": 11,
    "start_time": "2022-12-26T09:51:01.888Z"
   },
   {
    "duration": 35,
    "start_time": "2022-12-26T09:51:01.901Z"
   },
   {
    "duration": 87,
    "start_time": "2022-12-26T09:51:01.938Z"
   },
   {
    "duration": 77,
    "start_time": "2022-12-26T09:51:02.027Z"
   },
   {
    "duration": 72,
    "start_time": "2022-12-26T09:51:02.106Z"
   },
   {
    "duration": 9,
    "start_time": "2022-12-26T09:51:11.343Z"
   },
   {
    "duration": 53,
    "start_time": "2022-12-26T09:52:09.133Z"
   },
   {
    "duration": 9,
    "start_time": "2022-12-26T09:52:14.140Z"
   },
   {
    "duration": 931,
    "start_time": "2022-12-26T09:59:52.807Z"
   },
   {
    "duration": 16,
    "start_time": "2022-12-26T09:59:55.081Z"
   },
   {
    "duration": 119,
    "start_time": "2022-12-26T10:01:55.108Z"
   },
   {
    "duration": 16,
    "start_time": "2022-12-26T10:01:55.937Z"
   },
   {
    "duration": 726,
    "start_time": "2022-12-26T10:03:05.039Z"
   },
   {
    "duration": 183,
    "start_time": "2022-12-26T10:03:05.767Z"
   },
   {
    "duration": 14,
    "start_time": "2022-12-26T10:03:05.952Z"
   },
   {
    "duration": 58,
    "start_time": "2022-12-26T10:03:05.968Z"
   },
   {
    "duration": 3,
    "start_time": "2022-12-26T10:03:06.028Z"
   },
   {
    "duration": 31,
    "start_time": "2022-12-26T10:03:06.033Z"
   },
   {
    "duration": 93,
    "start_time": "2022-12-26T10:03:06.066Z"
   },
   {
    "duration": 89,
    "start_time": "2022-12-26T10:03:06.161Z"
   },
   {
    "duration": 65,
    "start_time": "2022-12-26T10:03:06.253Z"
   },
   {
    "duration": 22,
    "start_time": "2022-12-26T10:03:06.320Z"
   },
   {
    "duration": 52,
    "start_time": "2022-12-26T10:03:06.345Z"
   },
   {
    "duration": 172,
    "start_time": "2022-12-26T10:03:06.398Z"
   },
   {
    "duration": 15,
    "start_time": "2022-12-26T10:03:06.572Z"
   },
   {
    "duration": 12,
    "start_time": "2022-12-26T10:07:40.629Z"
   },
   {
    "duration": 128,
    "start_time": "2022-12-26T10:07:41.370Z"
   },
   {
    "duration": 22,
    "start_time": "2022-12-26T10:07:42.527Z"
   },
   {
    "duration": 10,
    "start_time": "2022-12-26T10:07:54.197Z"
   },
   {
    "duration": 119,
    "start_time": "2022-12-26T10:07:55.312Z"
   },
   {
    "duration": 21,
    "start_time": "2022-12-26T10:07:55.845Z"
   },
   {
    "duration": 12,
    "start_time": "2022-12-26T10:08:03.810Z"
   },
   {
    "duration": 117,
    "start_time": "2022-12-26T10:08:29.449Z"
   },
   {
    "duration": 17,
    "start_time": "2022-12-26T10:08:30.633Z"
   },
   {
    "duration": 11,
    "start_time": "2022-12-26T10:13:00.155Z"
   },
   {
    "duration": 826,
    "start_time": "2022-12-26T12:59:13.414Z"
   },
   {
    "duration": 701,
    "start_time": "2022-12-26T12:59:14.243Z"
   },
   {
    "duration": 13,
    "start_time": "2022-12-26T12:59:14.946Z"
   },
   {
    "duration": 28,
    "start_time": "2022-12-26T12:59:14.962Z"
   },
   {
    "duration": 3,
    "start_time": "2022-12-26T12:59:14.992Z"
   },
   {
    "duration": 41,
    "start_time": "2022-12-26T12:59:14.997Z"
   },
   {
    "duration": 61,
    "start_time": "2022-12-26T12:59:15.040Z"
   },
   {
    "duration": 86,
    "start_time": "2022-12-26T12:59:15.103Z"
   },
   {
    "duration": 56,
    "start_time": "2022-12-26T12:59:15.191Z"
   },
   {
    "duration": 47,
    "start_time": "2022-12-26T12:59:15.249Z"
   },
   {
    "duration": 129,
    "start_time": "2022-12-26T12:59:15.297Z"
   },
   {
    "duration": 11,
    "start_time": "2022-12-26T12:59:15.427Z"
   },
   {
    "duration": 11,
    "start_time": "2022-12-26T13:00:12.279Z"
   },
   {
    "duration": 110,
    "start_time": "2022-12-26T13:00:12.975Z"
   },
   {
    "duration": 9,
    "start_time": "2022-12-26T13:00:13.792Z"
   },
   {
    "duration": 2,
    "start_time": "2022-12-26T13:00:31.806Z"
   },
   {
    "duration": 143,
    "start_time": "2022-12-26T13:00:32.196Z"
   },
   {
    "duration": 7,
    "start_time": "2022-12-26T13:00:32.673Z"
   },
   {
    "duration": 18,
    "start_time": "2022-12-26T13:00:33.606Z"
   },
   {
    "duration": 3,
    "start_time": "2022-12-26T13:00:37.069Z"
   },
   {
    "duration": 12,
    "start_time": "2022-12-26T13:00:37.409Z"
   },
   {
    "duration": 54,
    "start_time": "2022-12-26T13:00:38.020Z"
   },
   {
    "duration": 61,
    "start_time": "2022-12-26T13:00:41.211Z"
   },
   {
    "duration": 51,
    "start_time": "2022-12-26T13:00:41.613Z"
   },
   {
    "duration": 9,
    "start_time": "2022-12-26T13:00:42.508Z"
   },
   {
    "duration": 105,
    "start_time": "2022-12-26T13:00:43.159Z"
   },
   {
    "duration": 8,
    "start_time": "2022-12-26T13:00:43.809Z"
   },
   {
    "duration": 12,
    "start_time": "2022-12-26T13:06:54.290Z"
   },
   {
    "duration": 91,
    "start_time": "2022-12-26T13:07:55.821Z"
   },
   {
    "duration": 11,
    "start_time": "2022-12-26T13:08:00.355Z"
   },
   {
    "duration": 3,
    "start_time": "2022-12-26T13:15:43.874Z"
   },
   {
    "duration": 6,
    "start_time": "2022-12-26T13:15:52.700Z"
   },
   {
    "duration": 9,
    "start_time": "2022-12-26T13:16:03.573Z"
   },
   {
    "duration": 25,
    "start_time": "2022-12-26T13:23:12.506Z"
   },
   {
    "duration": 14,
    "start_time": "2022-12-26T13:23:33.756Z"
   },
   {
    "duration": 15,
    "start_time": "2022-12-26T13:23:38.971Z"
   },
   {
    "duration": 19,
    "start_time": "2022-12-26T13:24:21.216Z"
   },
   {
    "duration": 14,
    "start_time": "2022-12-26T13:24:40.260Z"
   },
   {
    "duration": 5,
    "start_time": "2022-12-26T13:38:03.085Z"
   },
   {
    "duration": 6,
    "start_time": "2022-12-26T13:38:47.775Z"
   },
   {
    "duration": 5,
    "start_time": "2022-12-26T13:38:57.874Z"
   },
   {
    "duration": 5,
    "start_time": "2022-12-26T13:39:02.515Z"
   },
   {
    "duration": 7,
    "start_time": "2022-12-26T13:39:19.813Z"
   },
   {
    "duration": 320,
    "start_time": "2022-12-26T13:42:35.032Z"
   },
   {
    "duration": 233,
    "start_time": "2022-12-26T13:42:46.418Z"
   },
   {
    "duration": 309,
    "start_time": "2022-12-26T13:43:32.654Z"
   },
   {
    "duration": 249,
    "start_time": "2022-12-26T13:43:59.570Z"
   },
   {
    "duration": 223,
    "start_time": "2022-12-26T13:45:47.833Z"
   },
   {
    "duration": 222,
    "start_time": "2022-12-26T13:46:00.168Z"
   },
   {
    "duration": 246,
    "start_time": "2022-12-26T13:46:27.282Z"
   },
   {
    "duration": 249,
    "start_time": "2022-12-26T13:46:52.707Z"
   },
   {
    "duration": 6,
    "start_time": "2022-12-26T13:48:19.074Z"
   },
   {
    "duration": 93,
    "start_time": "2022-12-26T13:51:59.661Z"
   },
   {
    "duration": 5,
    "start_time": "2022-12-26T13:52:05.066Z"
   },
   {
    "duration": 240,
    "start_time": "2022-12-26T13:54:16.300Z"
   },
   {
    "duration": 235,
    "start_time": "2022-12-26T13:55:21.368Z"
   },
   {
    "duration": 225,
    "start_time": "2022-12-26T13:55:34.827Z"
   },
   {
    "duration": 300,
    "start_time": "2022-12-26T13:57:27.754Z"
   },
   {
    "duration": 278,
    "start_time": "2022-12-26T13:57:55.618Z"
   },
   {
    "duration": 208,
    "start_time": "2022-12-26T13:58:11.767Z"
   },
   {
    "duration": 259,
    "start_time": "2022-12-26T13:59:04.309Z"
   },
   {
    "duration": 212,
    "start_time": "2022-12-26T13:59:24.816Z"
   },
   {
    "duration": 179,
    "start_time": "2022-12-26T13:59:33.599Z"
   },
   {
    "duration": 204,
    "start_time": "2022-12-26T13:59:40.442Z"
   },
   {
    "duration": 239,
    "start_time": "2022-12-26T13:59:55.564Z"
   },
   {
    "duration": 211,
    "start_time": "2022-12-26T14:00:03.375Z"
   },
   {
    "duration": 196,
    "start_time": "2022-12-26T14:00:27.455Z"
   },
   {
    "duration": 227,
    "start_time": "2022-12-26T14:05:09.727Z"
   },
   {
    "duration": 304,
    "start_time": "2022-12-26T14:05:39.696Z"
   },
   {
    "duration": 6,
    "start_time": "2022-12-26T14:05:49.254Z"
   },
   {
    "duration": 236,
    "start_time": "2022-12-26T14:05:52.845Z"
   },
   {
    "duration": 218,
    "start_time": "2022-12-26T14:06:23.745Z"
   },
   {
    "duration": 200,
    "start_time": "2022-12-26T14:06:46.948Z"
   },
   {
    "duration": 224,
    "start_time": "2022-12-26T14:06:53.292Z"
   },
   {
    "duration": 222,
    "start_time": "2022-12-26T14:06:59.364Z"
   },
   {
    "duration": 210,
    "start_time": "2022-12-26T14:07:04.825Z"
   },
   {
    "duration": 210,
    "start_time": "2022-12-26T14:07:10.286Z"
   },
   {
    "duration": 249,
    "start_time": "2022-12-26T14:07:20.652Z"
   },
   {
    "duration": 21,
    "start_time": "2022-12-26T14:09:46.424Z"
   },
   {
    "duration": 8,
    "start_time": "2022-12-26T14:09:55.414Z"
   },
   {
    "duration": 28,
    "start_time": "2022-12-26T14:10:03.848Z"
   },
   {
    "duration": 22,
    "start_time": "2022-12-26T14:13:20.660Z"
   },
   {
    "duration": 20,
    "start_time": "2022-12-26T14:13:27.780Z"
   },
   {
    "duration": 19,
    "start_time": "2022-12-26T14:16:52.905Z"
   },
   {
    "duration": 13,
    "start_time": "2022-12-26T14:17:34.565Z"
   },
   {
    "duration": 20,
    "start_time": "2022-12-26T14:19:20.701Z"
   },
   {
    "duration": 10,
    "start_time": "2022-12-26T14:19:40.575Z"
   },
   {
    "duration": 11,
    "start_time": "2022-12-26T14:19:49.358Z"
   },
   {
    "duration": 144,
    "start_time": "2022-12-26T14:22:09.774Z"
   },
   {
    "duration": 1313,
    "start_time": "2022-12-26T14:22:26.119Z"
   },
   {
    "duration": 6,
    "start_time": "2022-12-26T14:22:29.459Z"
   },
   {
    "duration": 9,
    "start_time": "2022-12-26T14:28:40.719Z"
   },
   {
    "duration": 6,
    "start_time": "2022-12-26T14:28:47.409Z"
   },
   {
    "duration": 16,
    "start_time": "2022-12-26T14:29:31.240Z"
   },
   {
    "duration": 31,
    "start_time": "2022-12-26T14:30:02.838Z"
   },
   {
    "duration": 849,
    "start_time": "2022-12-27T08:35:03.356Z"
   },
   {
    "duration": 542,
    "start_time": "2022-12-27T08:35:04.207Z"
   },
   {
    "duration": 12,
    "start_time": "2022-12-27T08:35:04.751Z"
   },
   {
    "duration": 51,
    "start_time": "2022-12-27T08:35:04.765Z"
   },
   {
    "duration": 6,
    "start_time": "2022-12-27T08:35:04.818Z"
   },
   {
    "duration": 45,
    "start_time": "2022-12-27T08:35:04.826Z"
   },
   {
    "duration": 97,
    "start_time": "2022-12-27T08:35:04.874Z"
   },
   {
    "duration": 88,
    "start_time": "2022-12-27T08:35:04.973Z"
   },
   {
    "duration": 66,
    "start_time": "2022-12-27T08:35:05.064Z"
   },
   {
    "duration": 13,
    "start_time": "2022-12-27T08:35:05.133Z"
   },
   {
    "duration": 156,
    "start_time": "2022-12-27T08:35:05.147Z"
   },
   {
    "duration": 9,
    "start_time": "2022-12-27T08:35:05.305Z"
   },
   {
    "duration": 35,
    "start_time": "2022-12-27T08:35:05.316Z"
   },
   {
    "duration": 37,
    "start_time": "2022-12-27T08:35:05.353Z"
   },
   {
    "duration": 62,
    "start_time": "2022-12-27T08:35:05.392Z"
   },
   {
    "duration": 41,
    "start_time": "2022-12-27T08:35:05.456Z"
   },
   {
    "duration": 39,
    "start_time": "2022-12-27T08:35:05.499Z"
   },
   {
    "duration": 353,
    "start_time": "2022-12-27T08:35:05.539Z"
   },
   {
    "duration": 31,
    "start_time": "2022-12-27T08:35:05.894Z"
   },
   {
    "duration": 67,
    "start_time": "2022-12-27T08:35:05.928Z"
   },
   {
    "duration": 79,
    "start_time": "2022-12-27T08:35:05.997Z"
   },
   {
    "duration": 80,
    "start_time": "2022-12-27T08:35:06.078Z"
   },
   {
    "duration": 22,
    "start_time": "2022-12-27T08:40:27.242Z"
   },
   {
    "duration": 57,
    "start_time": "2022-12-27T08:52:00.757Z"
   },
   {
    "duration": 10,
    "start_time": "2022-12-27T08:52:05.378Z"
   },
   {
    "duration": 52,
    "start_time": "2022-12-27T08:52:36.349Z"
   },
   {
    "duration": 14,
    "start_time": "2022-12-27T08:52:37.577Z"
   },
   {
    "duration": 49,
    "start_time": "2022-12-27T08:52:46.917Z"
   },
   {
    "duration": 6,
    "start_time": "2022-12-27T08:52:47.593Z"
   },
   {
    "duration": 57,
    "start_time": "2022-12-27T08:52:56.466Z"
   },
   {
    "duration": 7,
    "start_time": "2022-12-27T08:52:57.229Z"
   },
   {
    "duration": 60,
    "start_time": "2022-12-27T08:54:36.829Z"
   },
   {
    "duration": 60,
    "start_time": "2022-12-27T08:54:48.188Z"
   },
   {
    "duration": 54,
    "start_time": "2022-12-27T08:55:17.596Z"
   },
   {
    "duration": 8,
    "start_time": "2022-12-27T08:55:18.593Z"
   },
   {
    "duration": 63,
    "start_time": "2022-12-27T09:00:19.961Z"
   },
   {
    "duration": 8,
    "start_time": "2022-12-27T09:00:20.765Z"
   },
   {
    "duration": 65,
    "start_time": "2022-12-27T09:00:28.131Z"
   },
   {
    "duration": 9,
    "start_time": "2022-12-27T09:00:29.021Z"
   },
   {
    "duration": 72,
    "start_time": "2022-12-27T09:00:36.290Z"
   },
   {
    "duration": 8,
    "start_time": "2022-12-27T09:00:36.741Z"
   },
   {
    "duration": 58,
    "start_time": "2022-12-27T09:00:49.509Z"
   },
   {
    "duration": 8,
    "start_time": "2022-12-27T09:00:50.168Z"
   },
   {
    "duration": 57,
    "start_time": "2022-12-27T09:00:59.297Z"
   },
   {
    "duration": 10,
    "start_time": "2022-12-27T09:00:59.685Z"
   },
   {
    "duration": 80,
    "start_time": "2022-12-27T09:10:55.054Z"
   },
   {
    "duration": 3,
    "start_time": "2022-12-27T09:11:04.894Z"
   },
   {
    "duration": 149,
    "start_time": "2022-12-27T09:11:33.682Z"
   },
   {
    "duration": 156,
    "start_time": "2022-12-27T09:11:53.715Z"
   },
   {
    "duration": 758,
    "start_time": "2022-12-27T09:27:05.059Z"
   },
   {
    "duration": 523,
    "start_time": "2022-12-27T09:27:05.819Z"
   },
   {
    "duration": 13,
    "start_time": "2022-12-27T09:27:06.345Z"
   },
   {
    "duration": 28,
    "start_time": "2022-12-27T09:27:06.360Z"
   },
   {
    "duration": 3,
    "start_time": "2022-12-27T09:27:06.391Z"
   },
   {
    "duration": 21,
    "start_time": "2022-12-27T09:27:06.396Z"
   },
   {
    "duration": 71,
    "start_time": "2022-12-27T09:27:06.419Z"
   },
   {
    "duration": 104,
    "start_time": "2022-12-27T09:27:06.492Z"
   },
   {
    "duration": 68,
    "start_time": "2022-12-27T09:27:06.601Z"
   },
   {
    "duration": 12,
    "start_time": "2022-12-27T09:27:06.671Z"
   },
   {
    "duration": 134,
    "start_time": "2022-12-27T09:27:06.685Z"
   },
   {
    "duration": 9,
    "start_time": "2022-12-27T09:27:06.821Z"
   },
   {
    "duration": 17,
    "start_time": "2022-12-27T09:27:06.832Z"
   },
   {
    "duration": 10,
    "start_time": "2022-12-27T09:27:06.852Z"
   },
   {
    "duration": 14,
    "start_time": "2022-12-27T09:27:06.863Z"
   },
   {
    "duration": 34,
    "start_time": "2022-12-27T09:27:06.879Z"
   },
   {
    "duration": 5,
    "start_time": "2022-12-27T09:27:06.915Z"
   },
   {
    "duration": 317,
    "start_time": "2022-12-27T09:27:06.922Z"
   },
   {
    "duration": 21,
    "start_time": "2022-12-27T09:27:07.241Z"
   },
   {
    "duration": 18,
    "start_time": "2022-12-27T09:27:07.264Z"
   },
   {
    "duration": 35,
    "start_time": "2022-12-27T09:27:07.283Z"
   },
   {
    "duration": 31,
    "start_time": "2022-12-27T09:27:07.319Z"
   },
   {
    "duration": 19,
    "start_time": "2022-12-27T09:27:07.352Z"
   },
   {
    "duration": 73,
    "start_time": "2022-12-27T09:27:07.373Z"
   },
   {
    "duration": 8,
    "start_time": "2022-12-27T09:27:07.448Z"
   },
   {
    "duration": 71,
    "start_time": "2022-12-27T09:34:35.148Z"
   },
   {
    "duration": 5,
    "start_time": "2022-12-27T09:35:22.417Z"
   },
   {
    "duration": 25,
    "start_time": "2022-12-27T09:35:29.021Z"
   },
   {
    "duration": 208,
    "start_time": "2022-12-27T09:35:45.935Z"
   },
   {
    "duration": 61,
    "start_time": "2022-12-27T09:37:19.687Z"
   },
   {
    "duration": 49,
    "start_time": "2022-12-27T09:37:28.281Z"
   },
   {
    "duration": 17,
    "start_time": "2022-12-27T09:42:18.120Z"
   },
   {
    "duration": 100,
    "start_time": "2022-12-27T09:42:41.207Z"
   },
   {
    "duration": 240,
    "start_time": "2022-12-27T09:42:55.211Z"
   },
   {
    "duration": 212,
    "start_time": "2022-12-27T09:43:32.460Z"
   },
   {
    "duration": 214,
    "start_time": "2022-12-27T09:43:40.192Z"
   },
   {
    "duration": 211,
    "start_time": "2022-12-27T09:43:48.456Z"
   },
   {
    "duration": 230,
    "start_time": "2022-12-27T09:44:14.135Z"
   },
   {
    "duration": 704,
    "start_time": "2022-12-27T09:49:07.860Z"
   },
   {
    "duration": 15,
    "start_time": "2022-12-27T09:49:46.177Z"
   },
   {
    "duration": 9,
    "start_time": "2022-12-27T09:51:47.052Z"
   },
   {
    "duration": 5,
    "start_time": "2022-12-27T09:52:12.863Z"
   },
   {
    "duration": 585,
    "start_time": "2022-12-27T09:52:19.653Z"
   },
   {
    "duration": 12,
    "start_time": "2022-12-27T09:52:28.073Z"
   },
   {
    "duration": 10,
    "start_time": "2022-12-27T09:53:17.083Z"
   },
   {
    "duration": 11,
    "start_time": "2022-12-27T09:53:23.349Z"
   },
   {
    "duration": 12,
    "start_time": "2022-12-27T09:53:33.049Z"
   },
   {
    "duration": 12,
    "start_time": "2022-12-27T09:53:44.798Z"
   },
   {
    "duration": 8,
    "start_time": "2022-12-27T09:54:15.105Z"
   },
   {
    "duration": 10,
    "start_time": "2022-12-27T09:54:41.607Z"
   },
   {
    "duration": 12,
    "start_time": "2022-12-27T09:56:57.986Z"
   },
   {
    "duration": 12,
    "start_time": "2022-12-27T09:57:12.273Z"
   },
   {
    "duration": 8,
    "start_time": "2022-12-27T09:57:22.359Z"
   },
   {
    "duration": 10,
    "start_time": "2022-12-27T10:00:21.593Z"
   },
   {
    "duration": 10,
    "start_time": "2022-12-27T10:01:09.472Z"
   },
   {
    "duration": 9,
    "start_time": "2022-12-27T10:01:51.821Z"
   },
   {
    "duration": 9,
    "start_time": "2022-12-27T10:02:47.678Z"
   },
   {
    "duration": 12,
    "start_time": "2022-12-27T10:02:54.921Z"
   },
   {
    "duration": 730,
    "start_time": "2022-12-28T13:43:33.872Z"
   },
   {
    "duration": 501,
    "start_time": "2022-12-28T13:43:34.604Z"
   },
   {
    "duration": 13,
    "start_time": "2022-12-28T13:43:35.107Z"
   },
   {
    "duration": 28,
    "start_time": "2022-12-28T13:43:35.122Z"
   },
   {
    "duration": 3,
    "start_time": "2022-12-28T13:43:35.152Z"
   },
   {
    "duration": 17,
    "start_time": "2022-12-28T13:43:35.157Z"
   },
   {
    "duration": 71,
    "start_time": "2022-12-28T13:43:35.175Z"
   },
   {
    "duration": 83,
    "start_time": "2022-12-28T13:43:35.248Z"
   },
   {
    "duration": 56,
    "start_time": "2022-12-28T13:43:35.332Z"
   },
   {
    "duration": 24,
    "start_time": "2022-12-28T13:43:35.392Z"
   },
   {
    "duration": 125,
    "start_time": "2022-12-28T13:43:35.419Z"
   },
   {
    "duration": 9,
    "start_time": "2022-12-28T13:43:35.545Z"
   },
   {
    "duration": 23,
    "start_time": "2022-12-28T13:43:35.556Z"
   },
   {
    "duration": 15,
    "start_time": "2022-12-28T13:43:35.581Z"
   },
   {
    "duration": 27,
    "start_time": "2022-12-28T13:43:35.597Z"
   },
   {
    "duration": 6,
    "start_time": "2022-12-28T13:43:35.626Z"
   },
   {
    "duration": 6,
    "start_time": "2022-12-28T13:43:35.634Z"
   },
   {
    "duration": 324,
    "start_time": "2022-12-28T13:43:35.641Z"
   },
   {
    "duration": 21,
    "start_time": "2022-12-28T13:43:35.967Z"
   },
   {
    "duration": 38,
    "start_time": "2022-12-28T13:43:35.990Z"
   },
   {
    "duration": 15,
    "start_time": "2022-12-28T13:43:36.030Z"
   },
   {
    "duration": 32,
    "start_time": "2022-12-28T13:43:36.047Z"
   },
   {
    "duration": 49,
    "start_time": "2022-12-28T13:43:36.081Z"
   },
   {
    "duration": 58,
    "start_time": "2022-12-28T13:43:36.131Z"
   },
   {
    "duration": 8,
    "start_time": "2022-12-28T13:43:36.190Z"
   },
   {
    "duration": 5,
    "start_time": "2022-12-28T13:43:36.215Z"
   },
   {
    "duration": 245,
    "start_time": "2022-12-28T13:43:36.222Z"
   },
   {
    "duration": 14,
    "start_time": "2022-12-28T13:44:58.279Z"
   },
   {
    "duration": 41,
    "start_time": "2022-12-28T13:46:11.820Z"
   },
   {
    "duration": 4,
    "start_time": "2022-12-28T13:46:26.559Z"
   },
   {
    "duration": 730,
    "start_time": "2022-12-28T14:32:37.619Z"
   },
   {
    "duration": 588,
    "start_time": "2022-12-28T14:33:32.907Z"
   },
   {
    "duration": 29,
    "start_time": "2022-12-28T14:34:04.082Z"
   },
   {
    "duration": 6,
    "start_time": "2022-12-28T14:34:04.810Z"
   },
   {
    "duration": 11,
    "start_time": "2022-12-28T14:34:14.688Z"
   },
   {
    "duration": 3,
    "start_time": "2022-12-28T14:34:23.377Z"
   },
   {
    "duration": 4,
    "start_time": "2022-12-28T14:34:46.177Z"
   },
   {
    "duration": 5,
    "start_time": "2022-12-28T14:35:24.069Z"
   },
   {
    "duration": 5,
    "start_time": "2022-12-28T14:35:37.029Z"
   },
   {
    "duration": 4,
    "start_time": "2022-12-28T14:36:22.005Z"
   },
   {
    "duration": 4,
    "start_time": "2022-12-28T14:36:36.688Z"
   },
   {
    "duration": 4,
    "start_time": "2022-12-28T14:36:51.462Z"
   },
   {
    "duration": 4,
    "start_time": "2022-12-28T14:37:15.621Z"
   },
   {
    "duration": 4,
    "start_time": "2022-12-28T14:37:22.837Z"
   },
   {
    "duration": 4,
    "start_time": "2022-12-28T14:38:50.996Z"
   },
   {
    "duration": 3,
    "start_time": "2022-12-28T14:38:58.436Z"
   },
   {
    "duration": 77,
    "start_time": "2022-12-28T14:53:36.833Z"
   },
   {
    "duration": 6,
    "start_time": "2022-12-28T14:53:44.503Z"
   },
   {
    "duration": 617,
    "start_time": "2022-12-28T14:59:56.700Z"
   },
   {
    "duration": 718,
    "start_time": "2022-12-28T15:00:07.963Z"
   },
   {
    "duration": 6,
    "start_time": "2022-12-28T15:00:35.402Z"
   },
   {
    "duration": 578,
    "start_time": "2022-12-28T15:01:38.454Z"
   },
   {
    "duration": 531,
    "start_time": "2022-12-28T15:02:10.970Z"
   },
   {
    "duration": 713,
    "start_time": "2022-12-28T15:02:42.568Z"
   },
   {
    "duration": 749,
    "start_time": "2022-12-28T15:04:00.255Z"
   },
   {
    "duration": 768,
    "start_time": "2022-12-28T15:04:06.964Z"
   },
   {
    "duration": 741,
    "start_time": "2022-12-28T15:06:25.307Z"
   },
   {
    "duration": 37,
    "start_time": "2022-12-28T15:07:06.172Z"
   },
   {
    "duration": 10,
    "start_time": "2022-12-28T15:07:07.904Z"
   },
   {
    "duration": 9,
    "start_time": "2022-12-28T15:07:19.169Z"
   },
   {
    "duration": 10,
    "start_time": "2022-12-28T15:07:26.212Z"
   },
   {
    "duration": 10,
    "start_time": "2022-12-28T15:07:33.857Z"
   },
   {
    "duration": 10,
    "start_time": "2022-12-28T15:09:09.315Z"
   },
   {
    "duration": 5,
    "start_time": "2022-12-28T15:09:18.966Z"
   },
   {
    "duration": 9,
    "start_time": "2022-12-28T15:09:23.369Z"
   },
   {
    "duration": 9,
    "start_time": "2022-12-28T15:09:44.160Z"
   },
   {
    "duration": 646,
    "start_time": "2022-12-28T15:11:23.102Z"
   },
   {
    "duration": 175,
    "start_time": "2022-12-28T15:11:23.751Z"
   },
   {
    "duration": 10,
    "start_time": "2022-12-28T15:11:23.928Z"
   },
   {
    "duration": 19,
    "start_time": "2022-12-28T15:11:23.940Z"
   },
   {
    "duration": 3,
    "start_time": "2022-12-28T15:11:23.960Z"
   },
   {
    "duration": 21,
    "start_time": "2022-12-28T15:11:23.965Z"
   },
   {
    "duration": 88,
    "start_time": "2022-12-28T15:11:23.987Z"
   },
   {
    "duration": 94,
    "start_time": "2022-12-28T15:11:24.077Z"
   },
   {
    "duration": 65,
    "start_time": "2022-12-28T15:11:24.172Z"
   },
   {
    "duration": 11,
    "start_time": "2022-12-28T15:11:24.239Z"
   },
   {
    "duration": 136,
    "start_time": "2022-12-28T15:11:24.251Z"
   },
   {
    "duration": 43,
    "start_time": "2022-12-28T15:11:24.389Z"
   },
   {
    "duration": 9,
    "start_time": "2022-12-28T15:11:24.434Z"
   },
   {
    "duration": 13,
    "start_time": "2022-12-28T15:11:24.447Z"
   },
   {
    "duration": 11,
    "start_time": "2022-12-28T15:11:24.462Z"
   },
   {
    "duration": 17,
    "start_time": "2022-12-28T15:11:24.475Z"
   },
   {
    "duration": 27,
    "start_time": "2022-12-28T15:11:24.493Z"
   },
   {
    "duration": 12,
    "start_time": "2022-12-28T15:11:24.522Z"
   },
   {
    "duration": 311,
    "start_time": "2022-12-28T15:11:24.535Z"
   },
   {
    "duration": 30,
    "start_time": "2022-12-28T15:11:24.848Z"
   },
   {
    "duration": 38,
    "start_time": "2022-12-28T15:11:24.880Z"
   },
   {
    "duration": 14,
    "start_time": "2022-12-28T15:11:24.919Z"
   },
   {
    "duration": 40,
    "start_time": "2022-12-28T15:11:24.935Z"
   },
   {
    "duration": 42,
    "start_time": "2022-12-28T15:11:24.976Z"
   },
   {
    "duration": 62,
    "start_time": "2022-12-28T15:11:25.020Z"
   },
   {
    "duration": 8,
    "start_time": "2022-12-28T15:11:25.084Z"
   },
   {
    "duration": 15,
    "start_time": "2022-12-28T15:11:25.093Z"
   },
   {
    "duration": 240,
    "start_time": "2022-12-28T15:11:25.115Z"
   },
   {
    "duration": 87,
    "start_time": "2022-12-28T15:11:25.358Z"
   },
   {
    "duration": 7,
    "start_time": "2022-12-28T15:11:25.448Z"
   },
   {
    "duration": 6,
    "start_time": "2022-12-28T15:11:25.456Z"
   },
   {
    "duration": 7,
    "start_time": "2022-12-28T15:11:25.515Z"
   },
   {
    "duration": 129,
    "start_time": "2022-12-28T15:11:25.523Z"
   },
   {
    "duration": 0,
    "start_time": "2022-12-28T15:11:25.653Z"
   },
   {
    "duration": 0,
    "start_time": "2022-12-28T15:11:25.655Z"
   },
   {
    "duration": 0,
    "start_time": "2022-12-28T15:11:25.656Z"
   },
   {
    "duration": 4,
    "start_time": "2022-12-28T15:12:48.186Z"
   },
   {
    "duration": 87,
    "start_time": "2022-12-28T15:14:05.871Z"
   },
   {
    "duration": 7,
    "start_time": "2022-12-28T15:14:06.542Z"
   },
   {
    "duration": 816,
    "start_time": "2022-12-28T15:15:34.768Z"
   },
   {
    "duration": 86,
    "start_time": "2022-12-28T15:16:30.211Z"
   },
   {
    "duration": 8,
    "start_time": "2022-12-28T15:16:30.768Z"
   },
   {
    "duration": 774,
    "start_time": "2022-12-28T15:16:34.121Z"
   },
   {
    "duration": 826,
    "start_time": "2022-12-28T15:17:51.883Z"
   },
   {
    "duration": 84,
    "start_time": "2022-12-28T15:18:38.212Z"
   },
   {
    "duration": 8,
    "start_time": "2022-12-28T15:18:38.878Z"
   },
   {
    "duration": 818,
    "start_time": "2022-12-28T15:18:39.614Z"
   },
   {
    "duration": 6,
    "start_time": "2022-12-28T15:19:46.014Z"
   },
   {
    "duration": 907,
    "start_time": "2022-12-28T15:19:56.059Z"
   },
   {
    "duration": 5,
    "start_time": "2022-12-28T15:20:43.947Z"
   },
   {
    "duration": 43,
    "start_time": "2022-12-28T15:23:10.354Z"
   },
   {
    "duration": 5,
    "start_time": "2022-12-28T15:23:11.078Z"
   },
   {
    "duration": 770,
    "start_time": "2022-12-28T15:23:16.122Z"
   },
   {
    "duration": 29,
    "start_time": "2022-12-28T15:25:22.065Z"
   },
   {
    "duration": 22,
    "start_time": "2022-12-28T15:25:41.190Z"
   },
   {
    "duration": 22,
    "start_time": "2022-12-28T15:25:56.429Z"
   },
   {
    "duration": 21,
    "start_time": "2022-12-28T15:26:21.151Z"
   },
   {
    "duration": 3,
    "start_time": "2022-12-28T15:26:23.676Z"
   },
   {
    "duration": 84,
    "start_time": "2022-12-28T15:26:37.094Z"
   },
   {
    "duration": 7,
    "start_time": "2022-12-28T15:26:38.424Z"
   },
   {
    "duration": 4,
    "start_time": "2022-12-28T15:26:41.528Z"
   },
   {
    "duration": 5,
    "start_time": "2022-12-28T15:28:01.068Z"
   },
   {
    "duration": 9,
    "start_time": "2022-12-28T15:28:07.683Z"
   },
   {
    "duration": 4,
    "start_time": "2022-12-28T15:29:29.281Z"
   },
   {
    "duration": 5,
    "start_time": "2022-12-28T15:29:40.431Z"
   },
   {
    "duration": 10,
    "start_time": "2022-12-28T15:29:49.295Z"
   },
   {
    "duration": 569,
    "start_time": "2022-12-28T16:13:31.165Z"
   },
   {
    "duration": 160,
    "start_time": "2022-12-28T16:13:31.736Z"
   },
   {
    "duration": 11,
    "start_time": "2022-12-28T16:13:31.897Z"
   },
   {
    "duration": 20,
    "start_time": "2022-12-28T16:13:31.915Z"
   },
   {
    "duration": 3,
    "start_time": "2022-12-28T16:13:31.937Z"
   },
   {
    "duration": 20,
    "start_time": "2022-12-28T16:13:31.941Z"
   },
   {
    "duration": 83,
    "start_time": "2022-12-28T16:13:31.963Z"
   },
   {
    "duration": 95,
    "start_time": "2022-12-28T16:13:32.048Z"
   },
   {
    "duration": 76,
    "start_time": "2022-12-28T16:13:32.144Z"
   },
   {
    "duration": 11,
    "start_time": "2022-12-28T16:13:32.222Z"
   },
   {
    "duration": 131,
    "start_time": "2022-12-28T16:13:32.234Z"
   },
   {
    "duration": 34,
    "start_time": "2022-12-28T16:13:32.367Z"
   },
   {
    "duration": 23,
    "start_time": "2022-12-28T16:13:32.403Z"
   },
   {
    "duration": 16,
    "start_time": "2022-12-28T16:13:32.428Z"
   },
   {
    "duration": 13,
    "start_time": "2022-12-28T16:13:32.446Z"
   },
   {
    "duration": 18,
    "start_time": "2022-12-28T16:13:32.460Z"
   },
   {
    "duration": 8,
    "start_time": "2022-12-28T16:13:32.480Z"
   },
   {
    "duration": 26,
    "start_time": "2022-12-28T16:13:32.490Z"
   },
   {
    "duration": 301,
    "start_time": "2022-12-28T16:13:32.518Z"
   },
   {
    "duration": 28,
    "start_time": "2022-12-28T16:13:32.821Z"
   },
   {
    "duration": 21,
    "start_time": "2022-12-28T16:13:32.851Z"
   },
   {
    "duration": 16,
    "start_time": "2022-12-28T16:13:32.874Z"
   },
   {
    "duration": 59,
    "start_time": "2022-12-28T16:13:32.892Z"
   },
   {
    "duration": 23,
    "start_time": "2022-12-28T16:13:32.952Z"
   },
   {
    "duration": 74,
    "start_time": "2022-12-28T16:13:32.976Z"
   },
   {
    "duration": 7,
    "start_time": "2022-12-28T16:13:33.052Z"
   },
   {
    "duration": 9,
    "start_time": "2022-12-28T16:13:33.061Z"
   },
   {
    "duration": 249,
    "start_time": "2022-12-28T16:13:33.073Z"
   },
   {
    "duration": 45,
    "start_time": "2022-12-28T16:13:33.324Z"
   },
   {
    "duration": 46,
    "start_time": "2022-12-28T16:13:33.371Z"
   },
   {
    "duration": 25,
    "start_time": "2022-12-28T16:13:33.418Z"
   },
   {
    "duration": 27,
    "start_time": "2022-12-28T16:13:33.444Z"
   },
   {
    "duration": 3,
    "start_time": "2022-12-28T16:13:33.473Z"
   },
   {
    "duration": 117,
    "start_time": "2022-12-28T16:13:33.478Z"
   },
   {
    "duration": 4,
    "start_time": "2022-12-28T16:13:33.597Z"
   },
   {
    "duration": 13,
    "start_time": "2022-12-28T16:13:33.603Z"
   },
   {
    "duration": 8,
    "start_time": "2022-12-28T16:13:33.617Z"
   },
   {
    "duration": 13,
    "start_time": "2022-12-28T16:13:33.627Z"
   },
   {
    "duration": 13,
    "start_time": "2022-12-28T16:25:55.391Z"
   },
   {
    "duration": 5,
    "start_time": "2022-12-28T16:38:27.327Z"
   },
   {
    "duration": 4,
    "start_time": "2022-12-28T16:40:16.681Z"
   },
   {
    "duration": 4,
    "start_time": "2022-12-28T16:40:17.420Z"
   },
   {
    "duration": 4,
    "start_time": "2022-12-28T16:40:17.824Z"
   },
   {
    "duration": 5,
    "start_time": "2022-12-28T16:40:18.284Z"
   },
   {
    "duration": 10,
    "start_time": "2022-12-28T16:40:18.961Z"
   },
   {
    "duration": 5,
    "start_time": "2022-12-28T16:40:25.251Z"
   },
   {
    "duration": 4,
    "start_time": "2022-12-28T16:43:10.658Z"
   },
   {
    "duration": 5,
    "start_time": "2022-12-28T16:43:19.507Z"
   },
   {
    "duration": 96,
    "start_time": "2022-12-28T16:43:36.243Z"
   },
   {
    "duration": 4,
    "start_time": "2022-12-28T16:43:49.301Z"
   },
   {
    "duration": 5,
    "start_time": "2022-12-28T16:44:20.154Z"
   },
   {
    "duration": 4,
    "start_time": "2022-12-28T16:44:21.020Z"
   },
   {
    "duration": 3,
    "start_time": "2022-12-28T16:44:50.228Z"
   },
   {
    "duration": 4,
    "start_time": "2022-12-28T16:45:09.066Z"
   },
   {
    "duration": 6,
    "start_time": "2022-12-28T16:45:09.680Z"
   },
   {
    "duration": 4,
    "start_time": "2022-12-28T16:45:47.765Z"
   },
   {
    "duration": 6,
    "start_time": "2022-12-28T16:45:48.360Z"
   },
   {
    "duration": 658,
    "start_time": "2022-12-28T16:46:01.783Z"
   },
   {
    "duration": 166,
    "start_time": "2022-12-28T16:46:02.443Z"
   },
   {
    "duration": 11,
    "start_time": "2022-12-28T16:46:02.611Z"
   },
   {
    "duration": 21,
    "start_time": "2022-12-28T16:46:02.624Z"
   },
   {
    "duration": 3,
    "start_time": "2022-12-28T16:46:02.647Z"
   },
   {
    "duration": 19,
    "start_time": "2022-12-28T16:46:02.651Z"
   },
   {
    "duration": 84,
    "start_time": "2022-12-28T16:46:02.672Z"
   },
   {
    "duration": 86,
    "start_time": "2022-12-28T16:46:02.757Z"
   },
   {
    "duration": 61,
    "start_time": "2022-12-28T16:46:02.845Z"
   },
   {
    "duration": 17,
    "start_time": "2022-12-28T16:46:02.908Z"
   },
   {
    "duration": 136,
    "start_time": "2022-12-28T16:46:02.926Z"
   },
   {
    "duration": 36,
    "start_time": "2022-12-28T16:46:03.064Z"
   },
   {
    "duration": 16,
    "start_time": "2022-12-28T16:46:03.102Z"
   },
   {
    "duration": 18,
    "start_time": "2022-12-28T16:46:03.120Z"
   },
   {
    "duration": 19,
    "start_time": "2022-12-28T16:46:03.140Z"
   },
   {
    "duration": 16,
    "start_time": "2022-12-28T16:46:03.161Z"
   },
   {
    "duration": 6,
    "start_time": "2022-12-28T16:46:03.179Z"
   },
   {
    "duration": 5,
    "start_time": "2022-12-28T16:46:03.187Z"
   },
   {
    "duration": 295,
    "start_time": "2022-12-28T16:46:03.216Z"
   },
   {
    "duration": 27,
    "start_time": "2022-12-28T16:46:03.515Z"
   },
   {
    "duration": 20,
    "start_time": "2022-12-28T16:46:03.544Z"
   },
   {
    "duration": 13,
    "start_time": "2022-12-28T16:46:03.566Z"
   },
   {
    "duration": 65,
    "start_time": "2022-12-28T16:46:03.581Z"
   },
   {
    "duration": 22,
    "start_time": "2022-12-28T16:46:03.648Z"
   },
   {
    "duration": 67,
    "start_time": "2022-12-28T16:46:03.672Z"
   },
   {
    "duration": 8,
    "start_time": "2022-12-28T16:46:03.740Z"
   },
   {
    "duration": 7,
    "start_time": "2022-12-28T16:46:03.749Z"
   },
   {
    "duration": 266,
    "start_time": "2022-12-28T16:46:03.759Z"
   },
   {
    "duration": 90,
    "start_time": "2022-12-28T16:46:04.027Z"
   },
   {
    "duration": 5,
    "start_time": "2022-12-28T16:46:04.119Z"
   },
   {
    "duration": 25,
    "start_time": "2022-12-28T16:46:04.126Z"
   },
   {
    "duration": 21,
    "start_time": "2022-12-28T16:46:04.153Z"
   },
   {
    "duration": 4,
    "start_time": "2022-12-28T16:46:04.176Z"
   },
   {
    "duration": 88,
    "start_time": "2022-12-28T16:46:04.215Z"
   },
   {
    "duration": 11,
    "start_time": "2022-12-28T16:46:04.305Z"
   },
   {
    "duration": 24,
    "start_time": "2022-12-28T16:46:04.318Z"
   },
   {
    "duration": 9,
    "start_time": "2022-12-28T16:46:04.344Z"
   },
   {
    "duration": 16,
    "start_time": "2022-12-28T16:46:04.355Z"
   },
   {
    "duration": 9,
    "start_time": "2022-12-28T16:46:04.373Z"
   },
   {
    "duration": 10,
    "start_time": "2022-12-28T16:46:04.384Z"
   },
   {
    "duration": 4,
    "start_time": "2022-12-28T16:46:44.812Z"
   },
   {
    "duration": 6,
    "start_time": "2022-12-28T16:46:45.417Z"
   },
   {
    "duration": 88,
    "start_time": "2022-12-28T16:47:20.039Z"
   },
   {
    "duration": 4,
    "start_time": "2022-12-28T16:47:29.018Z"
   },
   {
    "duration": 6,
    "start_time": "2022-12-28T16:47:29.675Z"
   },
   {
    "duration": 951,
    "start_time": "2022-12-28T22:12:34.821Z"
   },
   {
    "duration": 642,
    "start_time": "2022-12-28T22:12:35.775Z"
   },
   {
    "duration": 21,
    "start_time": "2022-12-28T22:12:36.419Z"
   },
   {
    "duration": 54,
    "start_time": "2022-12-28T22:12:36.443Z"
   },
   {
    "duration": 4,
    "start_time": "2022-12-28T22:12:36.500Z"
   },
   {
    "duration": 44,
    "start_time": "2022-12-28T22:12:36.506Z"
   },
   {
    "duration": 125,
    "start_time": "2022-12-28T22:12:36.552Z"
   },
   {
    "duration": 134,
    "start_time": "2022-12-28T22:12:36.679Z"
   },
   {
    "duration": 86,
    "start_time": "2022-12-28T22:12:36.815Z"
   },
   {
    "duration": 15,
    "start_time": "2022-12-28T22:12:36.905Z"
   },
   {
    "duration": 200,
    "start_time": "2022-12-28T22:12:36.936Z"
   },
   {
    "duration": 54,
    "start_time": "2022-12-28T22:12:37.138Z"
   },
   {
    "duration": 15,
    "start_time": "2022-12-28T22:12:37.194Z"
   },
   {
    "duration": 45,
    "start_time": "2022-12-28T22:12:37.212Z"
   },
   {
    "duration": 24,
    "start_time": "2022-12-28T22:12:37.260Z"
   },
   {
    "duration": 32,
    "start_time": "2022-12-28T22:12:37.286Z"
   },
   {
    "duration": 29,
    "start_time": "2022-12-28T22:12:37.320Z"
   },
   {
    "duration": 31,
    "start_time": "2022-12-28T22:12:37.352Z"
   },
   {
    "duration": 432,
    "start_time": "2022-12-28T22:12:37.386Z"
   },
   {
    "duration": 44,
    "start_time": "2022-12-28T22:12:37.820Z"
   },
   {
    "duration": 23,
    "start_time": "2022-12-28T22:12:37.866Z"
   },
   {
    "duration": 25,
    "start_time": "2022-12-28T22:12:37.891Z"
   },
   {
    "duration": 66,
    "start_time": "2022-12-28T22:12:37.919Z"
   },
   {
    "duration": 55,
    "start_time": "2022-12-28T22:12:37.988Z"
   },
   {
    "duration": 92,
    "start_time": "2022-12-28T22:12:38.047Z"
   },
   {
    "duration": 9,
    "start_time": "2022-12-28T22:12:38.141Z"
   },
   {
    "duration": 26,
    "start_time": "2022-12-28T22:12:38.152Z"
   },
   {
    "duration": 394,
    "start_time": "2022-12-28T22:12:38.182Z"
   },
   {
    "duration": 123,
    "start_time": "2022-12-28T22:12:38.578Z"
   },
   {
    "duration": 6,
    "start_time": "2022-12-28T22:12:38.703Z"
   },
   {
    "duration": 46,
    "start_time": "2022-12-28T22:12:38.711Z"
   },
   {
    "duration": 40,
    "start_time": "2022-12-28T22:12:38.759Z"
   },
   {
    "duration": 6,
    "start_time": "2022-12-28T22:12:38.801Z"
   },
   {
    "duration": 122,
    "start_time": "2022-12-28T22:12:38.809Z"
   },
   {
    "duration": 6,
    "start_time": "2022-12-28T22:12:38.933Z"
   },
   {
    "duration": 26,
    "start_time": "2022-12-28T22:12:38.941Z"
   },
   {
    "duration": 16,
    "start_time": "2022-12-28T22:12:38.969Z"
   },
   {
    "duration": 18,
    "start_time": "2022-12-28T22:12:38.986Z"
   },
   {
    "duration": 8,
    "start_time": "2022-12-28T22:17:09.122Z"
   },
   {
    "duration": 6,
    "start_time": "2022-12-28T22:17:15.383Z"
   },
   {
    "duration": 5,
    "start_time": "2022-12-28T22:17:25.279Z"
   },
   {
    "duration": 4,
    "start_time": "2022-12-28T22:17:33.205Z"
   },
   {
    "duration": 94,
    "start_time": "2022-12-28T22:17:38.788Z"
   },
   {
    "duration": 1104,
    "start_time": "2022-12-28T22:18:31.135Z"
   },
   {
    "duration": 6,
    "start_time": "2022-12-28T22:18:59.009Z"
   },
   {
    "duration": 7,
    "start_time": "2022-12-28T22:19:03.656Z"
   },
   {
    "duration": 5,
    "start_time": "2022-12-28T22:19:52.500Z"
   },
   {
    "duration": 11,
    "start_time": "2022-12-28T22:19:54.710Z"
   },
   {
    "duration": 873,
    "start_time": "2022-12-28T22:20:03.872Z"
   },
   {
    "duration": 276,
    "start_time": "2022-12-28T22:20:04.748Z"
   },
   {
    "duration": 20,
    "start_time": "2022-12-28T22:20:05.027Z"
   },
   {
    "duration": 72,
    "start_time": "2022-12-28T22:20:05.050Z"
   },
   {
    "duration": 7,
    "start_time": "2022-12-28T22:20:05.124Z"
   },
   {
    "duration": 59,
    "start_time": "2022-12-28T22:20:05.133Z"
   },
   {
    "duration": 164,
    "start_time": "2022-12-28T22:20:05.195Z"
   },
   {
    "duration": 131,
    "start_time": "2022-12-28T22:20:05.362Z"
   },
   {
    "duration": 110,
    "start_time": "2022-12-28T22:20:05.495Z"
   },
   {
    "duration": 27,
    "start_time": "2022-12-28T22:20:05.608Z"
   },
   {
    "duration": 233,
    "start_time": "2022-12-28T22:20:05.638Z"
   },
   {
    "duration": 68,
    "start_time": "2022-12-28T22:20:05.873Z"
   },
   {
    "duration": 14,
    "start_time": "2022-12-28T22:20:05.944Z"
   },
   {
    "duration": 31,
    "start_time": "2022-12-28T22:20:05.960Z"
   },
   {
    "duration": 23,
    "start_time": "2022-12-28T22:20:05.993Z"
   },
   {
    "duration": 45,
    "start_time": "2022-12-28T22:20:06.018Z"
   },
   {
    "duration": 11,
    "start_time": "2022-12-28T22:20:06.066Z"
   },
   {
    "duration": 16,
    "start_time": "2022-12-28T22:20:06.079Z"
   },
   {
    "duration": 514,
    "start_time": "2022-12-28T22:20:06.097Z"
   },
   {
    "duration": 59,
    "start_time": "2022-12-28T22:20:06.614Z"
   },
   {
    "duration": 43,
    "start_time": "2022-12-28T22:20:06.675Z"
   },
   {
    "duration": 37,
    "start_time": "2022-12-28T22:20:06.720Z"
   },
   {
    "duration": 103,
    "start_time": "2022-12-28T22:20:06.760Z"
   },
   {
    "duration": 44,
    "start_time": "2022-12-28T22:20:06.866Z"
   },
   {
    "duration": 129,
    "start_time": "2022-12-28T22:20:06.914Z"
   },
   {
    "duration": 12,
    "start_time": "2022-12-28T22:20:07.045Z"
   },
   {
    "duration": 29,
    "start_time": "2022-12-28T22:20:07.059Z"
   },
   {
    "duration": 368,
    "start_time": "2022-12-28T22:20:07.093Z"
   },
   {
    "duration": 127,
    "start_time": "2022-12-28T22:20:07.465Z"
   },
   {
    "duration": 6,
    "start_time": "2022-12-28T22:20:07.595Z"
   },
   {
    "duration": 37,
    "start_time": "2022-12-28T22:20:07.635Z"
   },
   {
    "duration": 34,
    "start_time": "2022-12-28T22:20:07.674Z"
   },
   {
    "duration": 26,
    "start_time": "2022-12-28T22:20:07.711Z"
   },
   {
    "duration": 149,
    "start_time": "2022-12-28T22:20:07.740Z"
   },
   {
    "duration": 5,
    "start_time": "2022-12-28T22:20:07.892Z"
   },
   {
    "duration": 11,
    "start_time": "2022-12-28T22:20:07.899Z"
   },
   {
    "duration": 23,
    "start_time": "2022-12-28T22:20:07.912Z"
   },
   {
    "duration": 8,
    "start_time": "2022-12-28T22:20:07.938Z"
   },
   {
    "duration": 22,
    "start_time": "2022-12-28T22:20:07.949Z"
   },
   {
    "duration": 6,
    "start_time": "2022-12-28T22:21:02.496Z"
   },
   {
    "duration": 17,
    "start_time": "2022-12-28T22:41:14.522Z"
   },
   {
    "duration": 6,
    "start_time": "2022-12-28T22:41:56.972Z"
   },
   {
    "duration": 11,
    "start_time": "2022-12-28T22:43:30.271Z"
   },
   {
    "duration": 5,
    "start_time": "2022-12-28T22:51:27.024Z"
   },
   {
    "duration": 88,
    "start_time": "2022-12-28T22:55:37.840Z"
   },
   {
    "duration": 8,
    "start_time": "2022-12-28T22:55:45.480Z"
   },
   {
    "duration": 599,
    "start_time": "2022-12-28T22:56:35.014Z"
   },
   {
    "duration": 605,
    "start_time": "2022-12-28T22:56:41.813Z"
   },
   {
    "duration": 11,
    "start_time": "2022-12-28T23:20:09.667Z"
   },
   {
    "duration": 4,
    "start_time": "2022-12-28T23:20:48.009Z"
   },
   {
    "duration": 10,
    "start_time": "2022-12-28T23:20:55.478Z"
   },
   {
    "duration": 448,
    "start_time": "2022-12-28T23:21:38.303Z"
   },
   {
    "duration": 7,
    "start_time": "2022-12-28T23:21:44.367Z"
   },
   {
    "duration": 8,
    "start_time": "2022-12-28T23:30:21.409Z"
   },
   {
    "duration": 5,
    "start_time": "2022-12-28T23:40:41.189Z"
   },
   {
    "duration": 5,
    "start_time": "2022-12-28T23:40:45.168Z"
   },
   {
    "duration": 60,
    "start_time": "2022-12-28T23:41:08.856Z"
   },
   {
    "duration": 5,
    "start_time": "2022-12-28T23:41:59.468Z"
   },
   {
    "duration": 4,
    "start_time": "2022-12-28T23:43:33.930Z"
   },
   {
    "duration": 8,
    "start_time": "2022-12-28T23:43:51.737Z"
   },
   {
    "duration": 4,
    "start_time": "2022-12-28T23:43:59.376Z"
   },
   {
    "duration": 6,
    "start_time": "2022-12-28T23:43:59.841Z"
   },
   {
    "duration": 1338,
    "start_time": "2022-12-29T07:20:01.740Z"
   },
   {
    "duration": 513,
    "start_time": "2022-12-29T07:20:03.080Z"
   },
   {
    "duration": 12,
    "start_time": "2022-12-29T07:20:03.595Z"
   },
   {
    "duration": 28,
    "start_time": "2022-12-29T07:20:03.609Z"
   },
   {
    "duration": 3,
    "start_time": "2022-12-29T07:20:03.639Z"
   },
   {
    "duration": 16,
    "start_time": "2022-12-29T07:20:03.643Z"
   },
   {
    "duration": 89,
    "start_time": "2022-12-29T07:20:03.661Z"
   },
   {
    "duration": 90,
    "start_time": "2022-12-29T07:20:03.751Z"
   },
   {
    "duration": 73,
    "start_time": "2022-12-29T07:20:03.843Z"
   },
   {
    "duration": 9,
    "start_time": "2022-12-29T07:20:03.920Z"
   },
   {
    "duration": 150,
    "start_time": "2022-12-29T07:20:03.930Z"
   },
   {
    "duration": 34,
    "start_time": "2022-12-29T07:20:04.082Z"
   },
   {
    "duration": 9,
    "start_time": "2022-12-29T07:20:04.118Z"
   },
   {
    "duration": 15,
    "start_time": "2022-12-29T07:20:04.128Z"
   },
   {
    "duration": 13,
    "start_time": "2022-12-29T07:20:04.145Z"
   },
   {
    "duration": 14,
    "start_time": "2022-12-29T07:20:04.160Z"
   },
   {
    "duration": 7,
    "start_time": "2022-12-29T07:20:04.196Z"
   },
   {
    "duration": 15,
    "start_time": "2022-12-29T07:20:04.204Z"
   },
   {
    "duration": 333,
    "start_time": "2022-12-29T07:20:04.220Z"
   },
   {
    "duration": 28,
    "start_time": "2022-12-29T07:20:04.555Z"
   },
   {
    "duration": 26,
    "start_time": "2022-12-29T07:20:04.585Z"
   },
   {
    "duration": 23,
    "start_time": "2022-12-29T07:20:04.613Z"
   },
   {
    "duration": 63,
    "start_time": "2022-12-29T07:20:04.638Z"
   },
   {
    "duration": 60,
    "start_time": "2022-12-29T07:20:04.703Z"
   },
   {
    "duration": 97,
    "start_time": "2022-12-29T07:20:04.766Z"
   },
   {
    "duration": 8,
    "start_time": "2022-12-29T07:20:04.865Z"
   },
   {
    "duration": 37,
    "start_time": "2022-12-29T07:20:04.875Z"
   },
   {
    "duration": 187,
    "start_time": "2022-12-29T07:20:04.916Z"
   },
   {
    "duration": 116,
    "start_time": "2022-12-29T07:20:05.105Z"
   },
   {
    "duration": 7,
    "start_time": "2022-12-29T07:20:05.224Z"
   },
   {
    "duration": 74,
    "start_time": "2022-12-29T07:20:05.233Z"
   },
   {
    "duration": 21,
    "start_time": "2022-12-29T07:20:05.309Z"
   },
   {
    "duration": 9,
    "start_time": "2022-12-29T07:20:05.332Z"
   },
   {
    "duration": 111,
    "start_time": "2022-12-29T07:20:05.343Z"
   },
   {
    "duration": 5,
    "start_time": "2022-12-29T07:20:05.456Z"
   },
   {
    "duration": 8,
    "start_time": "2022-12-29T07:20:05.463Z"
   },
   {
    "duration": 8,
    "start_time": "2022-12-29T07:20:05.473Z"
   },
   {
    "duration": 5,
    "start_time": "2022-12-29T07:20:05.496Z"
   },
   {
    "duration": 10,
    "start_time": "2022-12-29T07:20:05.503Z"
   },
   {
    "duration": 16,
    "start_time": "2022-12-29T07:20:05.514Z"
   },
   {
    "duration": 10,
    "start_time": "2022-12-29T07:20:05.532Z"
   },
   {
    "duration": 6,
    "start_time": "2022-12-29T07:20:05.544Z"
   },
   {
    "duration": 10,
    "start_time": "2022-12-29T07:20:05.552Z"
   },
   {
    "duration": 55,
    "start_time": "2022-12-29T07:21:07.784Z"
   },
   {
    "duration": 297,
    "start_time": "2022-12-29T07:21:18.250Z"
   },
   {
    "duration": 56,
    "start_time": "2022-12-29T07:25:11.250Z"
   },
   {
    "duration": 3,
    "start_time": "2022-12-29T07:29:24.554Z"
   },
   {
    "duration": 6,
    "start_time": "2022-12-29T07:29:25.516Z"
   },
   {
    "duration": 6,
    "start_time": "2022-12-29T07:30:03.111Z"
   },
   {
    "duration": 705,
    "start_time": "2022-12-29T07:33:41.285Z"
   },
   {
    "duration": 580,
    "start_time": "2022-12-29T07:35:10.999Z"
   },
   {
    "duration": 9,
    "start_time": "2022-12-29T07:38:18.773Z"
   },
   {
    "duration": 815,
    "start_time": "2022-12-29T07:38:25.046Z"
   },
   {
    "duration": 676,
    "start_time": "2022-12-29T07:38:39.581Z"
   },
   {
    "duration": 702,
    "start_time": "2022-12-29T07:39:39.713Z"
   },
   {
    "duration": 5,
    "start_time": "2022-12-29T07:41:50.653Z"
   },
   {
    "duration": 539,
    "start_time": "2022-12-29T07:41:52.800Z"
   },
   {
    "duration": 6,
    "start_time": "2022-12-29T07:44:20.745Z"
   },
   {
    "duration": 12,
    "start_time": "2022-12-29T07:44:49.542Z"
   },
   {
    "duration": 6,
    "start_time": "2022-12-29T07:45:28.142Z"
   },
   {
    "duration": 9,
    "start_time": "2022-12-29T07:45:30.865Z"
   },
   {
    "duration": 9,
    "start_time": "2022-12-29T07:47:20.232Z"
   },
   {
    "duration": 596,
    "start_time": "2022-12-29T07:47:28.730Z"
   },
   {
    "duration": 563,
    "start_time": "2022-12-29T07:47:51.354Z"
   },
   {
    "duration": 9,
    "start_time": "2022-12-29T07:48:05.670Z"
   },
   {
    "duration": 9,
    "start_time": "2022-12-29T07:50:16.986Z"
   },
   {
    "duration": 9,
    "start_time": "2022-12-29T07:52:06.455Z"
   },
   {
    "duration": 8,
    "start_time": "2022-12-29T07:53:49.527Z"
   },
   {
    "duration": 10,
    "start_time": "2022-12-29T07:53:55.787Z"
   },
   {
    "duration": 8,
    "start_time": "2022-12-29T07:54:32.339Z"
   },
   {
    "duration": 9,
    "start_time": "2022-12-29T07:54:41.364Z"
   },
   {
    "duration": 9,
    "start_time": "2022-12-29T07:54:44.972Z"
   },
   {
    "duration": 9,
    "start_time": "2022-12-29T07:54:49.072Z"
   },
   {
    "duration": 9,
    "start_time": "2022-12-29T07:55:27.598Z"
   },
   {
    "duration": 66,
    "start_time": "2022-12-29T07:58:14.920Z"
   },
   {
    "duration": 1118,
    "start_time": "2022-12-29T08:34:19.372Z"
   },
   {
    "duration": 155,
    "start_time": "2022-12-29T08:34:20.492Z"
   },
   {
    "duration": 12,
    "start_time": "2022-12-29T08:34:20.649Z"
   },
   {
    "duration": 20,
    "start_time": "2022-12-29T08:34:20.664Z"
   },
   {
    "duration": 2,
    "start_time": "2022-12-29T08:34:20.697Z"
   },
   {
    "duration": 16,
    "start_time": "2022-12-29T08:34:20.701Z"
   },
   {
    "duration": 81,
    "start_time": "2022-12-29T08:34:20.719Z"
   },
   {
    "duration": 75,
    "start_time": "2022-12-29T08:34:20.802Z"
   },
   {
    "duration": 71,
    "start_time": "2022-12-29T08:34:20.878Z"
   },
   {
    "duration": 8,
    "start_time": "2022-12-29T08:34:20.951Z"
   },
   {
    "duration": 135,
    "start_time": "2022-12-29T08:34:20.961Z"
   },
   {
    "duration": 33,
    "start_time": "2022-12-29T08:34:21.098Z"
   },
   {
    "duration": 10,
    "start_time": "2022-12-29T08:34:21.133Z"
   },
   {
    "duration": 14,
    "start_time": "2022-12-29T08:34:21.145Z"
   },
   {
    "duration": 11,
    "start_time": "2022-12-29T08:34:21.160Z"
   },
   {
    "duration": 14,
    "start_time": "2022-12-29T08:34:21.196Z"
   },
   {
    "duration": 6,
    "start_time": "2022-12-29T08:34:21.212Z"
   },
   {
    "duration": 4,
    "start_time": "2022-12-29T08:34:21.220Z"
   },
   {
    "duration": 420,
    "start_time": "2022-12-29T08:34:21.225Z"
   },
   {
    "duration": 25,
    "start_time": "2022-12-29T08:34:21.647Z"
   },
   {
    "duration": 31,
    "start_time": "2022-12-29T08:34:21.674Z"
   },
   {
    "duration": 16,
    "start_time": "2022-12-29T08:34:21.706Z"
   },
   {
    "duration": 43,
    "start_time": "2022-12-29T08:34:21.723Z"
   },
   {
    "duration": 41,
    "start_time": "2022-12-29T08:34:21.768Z"
   },
   {
    "duration": 57,
    "start_time": "2022-12-29T08:34:21.811Z"
   },
   {
    "duration": 9,
    "start_time": "2022-12-29T08:34:21.870Z"
   },
   {
    "duration": 7,
    "start_time": "2022-12-29T08:34:21.896Z"
   },
   {
    "duration": 186,
    "start_time": "2022-12-29T08:34:21.908Z"
   },
   {
    "duration": 102,
    "start_time": "2022-12-29T08:34:22.095Z"
   },
   {
    "duration": 6,
    "start_time": "2022-12-29T08:34:22.199Z"
   },
   {
    "duration": 119,
    "start_time": "2022-12-29T08:34:22.207Z"
   },
   {
    "duration": 32,
    "start_time": "2022-12-29T08:34:22.328Z"
   },
   {
    "duration": 46,
    "start_time": "2022-12-29T08:34:22.362Z"
   },
   {
    "duration": 3,
    "start_time": "2022-12-29T08:34:22.410Z"
   },
   {
    "duration": 116,
    "start_time": "2022-12-29T08:34:22.415Z"
   },
   {
    "duration": 5,
    "start_time": "2022-12-29T08:34:22.532Z"
   },
   {
    "duration": 8,
    "start_time": "2022-12-29T08:34:22.539Z"
   },
   {
    "duration": 10,
    "start_time": "2022-12-29T08:34:22.549Z"
   },
   {
    "duration": 7,
    "start_time": "2022-12-29T08:34:22.561Z"
   },
   {
    "duration": 9,
    "start_time": "2022-12-29T08:34:22.570Z"
   },
   {
    "duration": 25,
    "start_time": "2022-12-29T08:34:22.580Z"
   },
   {
    "duration": 8,
    "start_time": "2022-12-29T08:34:22.606Z"
   },
   {
    "duration": 6,
    "start_time": "2022-12-29T08:34:22.616Z"
   },
   {
    "duration": 8,
    "start_time": "2022-12-29T08:34:22.624Z"
   },
   {
    "duration": 11,
    "start_time": "2022-12-29T08:34:22.633Z"
   },
   {
    "duration": 8,
    "start_time": "2022-12-29T08:34:22.646Z"
   },
   {
    "duration": 20,
    "start_time": "2022-12-29T08:34:22.656Z"
   },
   {
    "duration": 27,
    "start_time": "2022-12-29T08:34:22.678Z"
   },
   {
    "duration": 1272,
    "start_time": "2022-12-30T09:43:45.949Z"
   },
   {
    "duration": 705,
    "start_time": "2022-12-30T09:43:47.223Z"
   },
   {
    "duration": 10,
    "start_time": "2022-12-30T09:43:47.930Z"
   },
   {
    "duration": 36,
    "start_time": "2022-12-30T09:43:47.942Z"
   },
   {
    "duration": 14,
    "start_time": "2022-12-30T09:43:47.979Z"
   },
   {
    "duration": 28,
    "start_time": "2022-12-30T09:43:47.995Z"
   },
   {
    "duration": 76,
    "start_time": "2022-12-30T09:43:48.024Z"
   },
   {
    "duration": 67,
    "start_time": "2022-12-30T09:43:48.101Z"
   },
   {
    "duration": 55,
    "start_time": "2022-12-30T09:43:48.170Z"
   },
   {
    "duration": 8,
    "start_time": "2022-12-30T09:43:48.227Z"
   },
   {
    "duration": 116,
    "start_time": "2022-12-30T09:43:48.236Z"
   },
   {
    "duration": 33,
    "start_time": "2022-12-30T09:43:48.354Z"
   },
   {
    "duration": 9,
    "start_time": "2022-12-30T09:43:48.389Z"
   },
   {
    "duration": 24,
    "start_time": "2022-12-30T09:43:48.399Z"
   },
   {
    "duration": 21,
    "start_time": "2022-12-30T09:43:48.425Z"
   },
   {
    "duration": 18,
    "start_time": "2022-12-30T09:43:48.448Z"
   },
   {
    "duration": 28,
    "start_time": "2022-12-30T09:43:48.467Z"
   },
   {
    "duration": 20,
    "start_time": "2022-12-30T09:43:48.496Z"
   },
   {
    "duration": 351,
    "start_time": "2022-12-30T09:43:48.518Z"
   },
   {
    "duration": 29,
    "start_time": "2022-12-30T09:43:48.871Z"
   },
   {
    "duration": 18,
    "start_time": "2022-12-30T09:43:48.902Z"
   },
   {
    "duration": 44,
    "start_time": "2022-12-30T09:43:48.921Z"
   },
   {
    "duration": 44,
    "start_time": "2022-12-30T09:43:48.967Z"
   },
   {
    "duration": 21,
    "start_time": "2022-12-30T09:43:49.012Z"
   },
   {
    "duration": 73,
    "start_time": "2022-12-30T09:43:49.034Z"
   },
   {
    "duration": 9,
    "start_time": "2022-12-30T09:43:49.109Z"
   },
   {
    "duration": 10,
    "start_time": "2022-12-30T09:43:49.120Z"
   },
   {
    "duration": 165,
    "start_time": "2022-12-30T09:43:49.134Z"
   },
   {
    "duration": 41,
    "start_time": "2022-12-30T09:43:49.302Z"
   },
   {
    "duration": 4,
    "start_time": "2022-12-30T09:43:49.378Z"
   },
   {
    "duration": 53,
    "start_time": "2022-12-30T09:43:49.384Z"
   },
   {
    "duration": 44,
    "start_time": "2022-12-30T09:43:49.439Z"
   },
   {
    "duration": 20,
    "start_time": "2022-12-30T09:43:49.485Z"
   },
   {
    "duration": 5,
    "start_time": "2022-12-30T09:43:49.506Z"
   },
   {
    "duration": 106,
    "start_time": "2022-12-30T09:43:49.513Z"
   },
   {
    "duration": 4,
    "start_time": "2022-12-30T09:43:49.621Z"
   },
   {
    "duration": 11,
    "start_time": "2022-12-30T09:43:49.626Z"
   },
   {
    "duration": 10,
    "start_time": "2022-12-30T09:43:49.638Z"
   },
   {
    "duration": 13,
    "start_time": "2022-12-30T09:43:49.650Z"
   },
   {
    "duration": 10,
    "start_time": "2022-12-30T09:43:49.664Z"
   },
   {
    "duration": 24,
    "start_time": "2022-12-30T09:43:49.676Z"
   },
   {
    "duration": 11,
    "start_time": "2022-12-30T09:43:49.702Z"
   },
   {
    "duration": 14,
    "start_time": "2022-12-30T09:43:49.715Z"
   },
   {
    "duration": 15,
    "start_time": "2022-12-30T09:43:49.730Z"
   },
   {
    "duration": 20,
    "start_time": "2022-12-30T09:43:49.747Z"
   },
   {
    "duration": 28,
    "start_time": "2022-12-30T09:43:49.768Z"
   },
   {
    "duration": 12,
    "start_time": "2022-12-30T09:43:49.798Z"
   },
   {
    "duration": 15,
    "start_time": "2022-12-30T09:43:49.812Z"
   },
   {
    "duration": 1289,
    "start_time": "2022-12-30T09:55:18.181Z"
   },
   {
    "duration": 84,
    "start_time": "2022-12-30T09:55:46.831Z"
   },
   {
    "duration": 35,
    "start_time": "2022-12-30T09:56:13.029Z"
   },
   {
    "duration": 38,
    "start_time": "2022-12-30T09:57:08.354Z"
   },
   {
    "duration": 27,
    "start_time": "2022-12-30T09:59:37.135Z"
   },
   {
    "duration": 20,
    "start_time": "2022-12-30T10:00:14.310Z"
   },
   {
    "duration": 5,
    "start_time": "2022-12-30T10:12:24.605Z"
   },
   {
    "duration": 7,
    "start_time": "2022-12-30T10:12:31.903Z"
   },
   {
    "duration": 8,
    "start_time": "2022-12-30T10:12:58.147Z"
   },
   {
    "duration": 11,
    "start_time": "2022-12-30T10:13:06.837Z"
   },
   {
    "duration": 8,
    "start_time": "2022-12-30T10:13:09.472Z"
   },
   {
    "duration": 8,
    "start_time": "2022-12-30T10:13:15.397Z"
   },
   {
    "duration": 8,
    "start_time": "2022-12-30T10:13:18.489Z"
   },
   {
    "duration": 85,
    "start_time": "2022-12-30T10:13:56.908Z"
   },
   {
    "duration": 1169,
    "start_time": "2022-12-31T07:29:16.585Z"
   },
   {
    "duration": 485,
    "start_time": "2022-12-31T07:29:17.755Z"
   },
   {
    "duration": 10,
    "start_time": "2022-12-31T07:29:18.241Z"
   },
   {
    "duration": 21,
    "start_time": "2022-12-31T07:29:18.253Z"
   },
   {
    "duration": 2,
    "start_time": "2022-12-31T07:29:18.276Z"
   },
   {
    "duration": 17,
    "start_time": "2022-12-31T07:29:18.279Z"
   },
   {
    "duration": 63,
    "start_time": "2022-12-31T07:29:18.297Z"
   },
   {
    "duration": 71,
    "start_time": "2022-12-31T07:29:18.361Z"
   },
   {
    "duration": 51,
    "start_time": "2022-12-31T07:29:18.433Z"
   },
   {
    "duration": 8,
    "start_time": "2022-12-31T07:29:18.486Z"
   },
   {
    "duration": 128,
    "start_time": "2022-12-31T07:29:18.495Z"
   },
   {
    "duration": 29,
    "start_time": "2022-12-31T07:29:18.624Z"
   },
   {
    "duration": 8,
    "start_time": "2022-12-31T07:29:18.655Z"
   },
   {
    "duration": 18,
    "start_time": "2022-12-31T07:29:18.664Z"
   },
   {
    "duration": 19,
    "start_time": "2022-12-31T07:29:18.684Z"
   },
   {
    "duration": 28,
    "start_time": "2022-12-31T07:29:18.704Z"
   },
   {
    "duration": 19,
    "start_time": "2022-12-31T07:29:18.733Z"
   },
   {
    "duration": 12,
    "start_time": "2022-12-31T07:29:18.754Z"
   },
   {
    "duration": 382,
    "start_time": "2022-12-31T07:29:18.768Z"
   },
   {
    "duration": 24,
    "start_time": "2022-12-31T07:29:19.152Z"
   },
   {
    "duration": 59,
    "start_time": "2022-12-31T07:29:19.177Z"
   },
   {
    "duration": 18,
    "start_time": "2022-12-31T07:29:19.237Z"
   },
   {
    "duration": 38,
    "start_time": "2022-12-31T07:29:19.257Z"
   },
   {
    "duration": 36,
    "start_time": "2022-12-31T07:29:19.296Z"
   },
   {
    "duration": 51,
    "start_time": "2022-12-31T07:29:19.333Z"
   },
   {
    "duration": 7,
    "start_time": "2022-12-31T07:29:19.386Z"
   },
   {
    "duration": 31,
    "start_time": "2022-12-31T07:29:19.395Z"
   },
   {
    "duration": 187,
    "start_time": "2022-12-31T07:29:19.430Z"
   },
   {
    "duration": 41,
    "start_time": "2022-12-31T07:29:19.619Z"
   },
   {
    "duration": 4,
    "start_time": "2022-12-31T07:29:19.662Z"
   },
   {
    "duration": 108,
    "start_time": "2022-12-31T07:29:19.668Z"
   },
   {
    "duration": 54,
    "start_time": "2022-12-31T07:29:19.777Z"
   },
   {
    "duration": 23,
    "start_time": "2022-12-31T07:29:19.833Z"
   },
   {
    "duration": 4,
    "start_time": "2022-12-31T07:29:19.858Z"
   },
   {
    "duration": 111,
    "start_time": "2022-12-31T07:29:19.864Z"
   },
   {
    "duration": 3,
    "start_time": "2022-12-31T07:29:19.976Z"
   },
   {
    "duration": 7,
    "start_time": "2022-12-31T07:29:19.981Z"
   },
   {
    "duration": 7,
    "start_time": "2022-12-31T07:29:19.989Z"
   },
   {
    "duration": 7,
    "start_time": "2022-12-31T07:29:19.997Z"
   },
   {
    "duration": 17,
    "start_time": "2022-12-31T07:29:20.005Z"
   },
   {
    "duration": 15,
    "start_time": "2022-12-31T07:29:20.023Z"
   },
   {
    "duration": 5,
    "start_time": "2022-12-31T07:29:20.040Z"
   },
   {
    "duration": 8,
    "start_time": "2022-12-31T07:29:20.047Z"
   },
   {
    "duration": 6,
    "start_time": "2022-12-31T07:29:20.056Z"
   },
   {
    "duration": 20,
    "start_time": "2022-12-31T07:29:20.064Z"
   },
   {
    "duration": 8,
    "start_time": "2022-12-31T07:29:20.086Z"
   },
   {
    "duration": 12,
    "start_time": "2022-12-31T07:29:20.095Z"
   },
   {
    "duration": 18,
    "start_time": "2022-12-31T07:29:20.109Z"
   },
   {
    "duration": 52,
    "start_time": "2023-03-15T13:27:29.097Z"
   },
   {
    "duration": 8,
    "start_time": "2023-03-15T13:27:30.395Z"
   },
   {
    "duration": 1339,
    "start_time": "2023-03-15T13:27:40.307Z"
   },
   {
    "duration": 748,
    "start_time": "2023-03-15T13:27:41.648Z"
   },
   {
    "duration": 12,
    "start_time": "2023-03-15T13:27:42.397Z"
   },
   {
    "duration": 23,
    "start_time": "2023-03-15T13:27:42.411Z"
   },
   {
    "duration": 3,
    "start_time": "2023-03-15T13:27:42.436Z"
   },
   {
    "duration": 19,
    "start_time": "2023-03-15T13:27:42.441Z"
   },
   {
    "duration": 88,
    "start_time": "2023-03-15T13:27:42.462Z"
   },
   {
    "duration": 90,
    "start_time": "2023-03-15T13:27:42.552Z"
   },
   {
    "duration": 70,
    "start_time": "2023-03-15T13:27:42.644Z"
   },
   {
    "duration": 8,
    "start_time": "2023-03-15T13:27:42.716Z"
   },
   {
    "duration": 180,
    "start_time": "2023-03-15T13:27:42.726Z"
   },
   {
    "duration": 37,
    "start_time": "2023-03-15T13:27:42.908Z"
   },
   {
    "duration": 9,
    "start_time": "2023-03-15T13:27:42.947Z"
   },
   {
    "duration": 36,
    "start_time": "2023-03-15T13:27:42.958Z"
   },
   {
    "duration": 9,
    "start_time": "2023-03-15T13:27:42.996Z"
   },
   {
    "duration": 26,
    "start_time": "2023-03-15T13:27:43.008Z"
   },
   {
    "duration": 6,
    "start_time": "2023-03-15T13:27:43.035Z"
   },
   {
    "duration": 7,
    "start_time": "2023-03-15T13:27:43.042Z"
   },
   {
    "duration": 442,
    "start_time": "2023-03-15T13:27:43.050Z"
   },
   {
    "duration": 28,
    "start_time": "2023-03-15T13:27:43.494Z"
   },
   {
    "duration": 64,
    "start_time": "2023-03-15T13:27:43.524Z"
   },
   {
    "duration": 22,
    "start_time": "2023-03-15T13:27:43.589Z"
   },
   {
    "duration": 47,
    "start_time": "2023-03-15T13:27:43.613Z"
   },
   {
    "duration": 47,
    "start_time": "2023-03-15T13:27:43.662Z"
   },
   {
    "duration": 104,
    "start_time": "2023-03-15T13:27:43.711Z"
   },
   {
    "duration": 9,
    "start_time": "2023-03-15T13:27:43.817Z"
   },
   {
    "duration": 56,
    "start_time": "2023-03-15T13:27:43.827Z"
   },
   {
    "duration": 200,
    "start_time": "2023-03-15T13:27:43.886Z"
   },
   {
    "duration": 119,
    "start_time": "2023-03-15T13:27:44.089Z"
   },
   {
    "duration": 6,
    "start_time": "2023-03-15T13:27:44.211Z"
   },
   {
    "duration": 118,
    "start_time": "2023-03-15T13:27:44.219Z"
   },
   {
    "duration": 28,
    "start_time": "2023-03-15T13:27:44.339Z"
   },
   {
    "duration": 33,
    "start_time": "2023-03-15T13:27:44.388Z"
   },
   {
    "duration": 4,
    "start_time": "2023-03-15T13:27:44.423Z"
   },
   {
    "duration": 120,
    "start_time": "2023-03-15T13:27:44.429Z"
   },
   {
    "duration": 4,
    "start_time": "2023-03-15T13:27:44.551Z"
   },
   {
    "duration": 7,
    "start_time": "2023-03-15T13:27:44.556Z"
   },
   {
    "duration": 23,
    "start_time": "2023-03-15T13:27:44.564Z"
   },
   {
    "duration": 11,
    "start_time": "2023-03-15T13:27:44.589Z"
   },
   {
    "duration": 14,
    "start_time": "2023-03-15T13:27:44.601Z"
   },
   {
    "duration": 37,
    "start_time": "2023-03-15T13:27:44.617Z"
   },
   {
    "duration": 15,
    "start_time": "2023-03-15T13:27:44.657Z"
   },
   {
    "duration": 13,
    "start_time": "2023-03-15T13:27:44.674Z"
   },
   {
    "duration": 8,
    "start_time": "2023-03-15T13:27:44.689Z"
   },
   {
    "duration": 12,
    "start_time": "2023-03-15T13:27:44.700Z"
   },
   {
    "duration": 11,
    "start_time": "2023-03-15T13:27:44.714Z"
   },
   {
    "duration": 19,
    "start_time": "2023-03-15T13:27:44.727Z"
   },
   {
    "duration": 27,
    "start_time": "2023-03-15T13:27:44.748Z"
   }
  ],
  "kernelspec": {
   "display_name": "Python 3 (ipykernel)",
   "language": "python",
   "name": "python3"
  },
  "language_info": {
   "codemirror_mode": {
    "name": "ipython",
    "version": 3
   },
   "file_extension": ".py",
   "mimetype": "text/x-python",
   "name": "python",
   "nbconvert_exporter": "python",
   "pygments_lexer": "ipython3",
   "version": "3.8.6"
  },
  "toc": {
   "base_numbering": 1,
   "nav_menu": {},
   "number_sections": true,
   "sideBar": true,
   "skip_h1_title": true,
   "title_cell": "Table of Contents",
   "title_sidebar": "Contents",
   "toc_cell": false,
   "toc_position": {
    "height": "calc(100% - 180px)",
    "left": "10px",
    "top": "150px",
    "width": "366.188px"
   },
   "toc_section_display": true,
   "toc_window_display": true
  }
 },
 "nbformat": 4,
 "nbformat_minor": 2
}
