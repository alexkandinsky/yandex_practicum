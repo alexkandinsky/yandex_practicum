{
 "cells": [
  {
   "cell_type": "markdown",
   "metadata": {},
   "source": [
    "# Проект: Оценка результатов A/B-теста. #"
   ]
  },
  {
   "cell_type": "markdown",
   "metadata": {},
   "source": [
    "## Описание проекта : ##\n",
    "\n",
    "В нашем распоряжении есть датасет с действиями пользователей, техническое задание и несколько вспомогательных датасетов.\n",
    "\n",
    "<b>Цели исследования</b>:\n",
    "\n",
    "- Оценика корректности проведения теста;\n",
    "- Анализ результата теста.\n",
    "\n",
    "### Описание данных : ###\n",
    "\n",
    "<b>ab_project_marketing_events.csv</b> — календарь маркетинговых событий на 2020 год.\n",
    "\n",
    "*Структура файла:*\n",
    "\n",
    "- <b>name</b> — название маркетингового события;\n",
    "- <b>regions</b> — регионы, в которых будет проводиться рекламная кампания;\n",
    "- <b>start_dt</b> — дата начала кампании;\n",
    "- <b>finish_dt</b> — дата завершения кампании.\n",
    "\n",
    "<b>final_ab_new_users.csv</b> — пользователи, зарегистрировавшиеся с 7 по 21 декабря 2020 года.\n",
    "\n",
    "*Структура файла:*\n",
    "\n",
    "- <b>user_id</b> — идентификатор пользователя;\n",
    "- <b>first_date</b> — дата регистрации;\n",
    "- <b>region</b> — регион пользователя;\n",
    "- <b>device</b> — устройство, с которого происходила регистрация.\n",
    "\n",
    "<b>final_ab_events.csv</b> — действия новых пользователей в период с 7 декабря 2020 по 4 января 2021 года.\n",
    "\n",
    "*Структура файла:*\n",
    "\n",
    "- <b>user_id</b> — идентификатор пользователя;\n",
    "- <b>event_dt</b> — дата и время события;\n",
    "- <b>event_name</b> — тип события;\n",
    "- <b>details</b> — дополнительные данные о событии. Например, для покупок, <b>purchase</b>, в этом поле хранится стоимость покупки в долларах.\n",
    "\n",
    "<b>final_ab_participants.csv</b> — таблица участников тестов.\n",
    "\n",
    "*Структура файла:*\n",
    "\n",
    "- <b>user_id</b> — идентификатор пользователя;\n",
    "- <b>ab_test</b> — название теста;\n",
    "- <b>group</b> — группа пользователя.\n",
    "\n",
    "\n",
    "### Техническое задание : ###\n",
    "\n",
    "- Название теста: <b>recommender_system_test</b>;\n",
    "- группы: А — контрольная, B — новая платёжная воронка;\n",
    "- дата запуска: 2020-12-07;\n",
    "- дата остановки набора новых пользователей: 2020-12-21;\n",
    "- дата остановки: 2021-01-04;\n",
    "- аудитория: 15% новых пользователей из региона EU;\n",
    "- назначение теста: тестирование изменений, связанных с внедрением улучшенной рекомендательной системы;\n",
    "- ожидаемое количество участников теста: 6000.\n",
    "- ожидаемый эффект: за 14 дней с момента регистрации пользователи покажут улучшение каждой метрики не менее, чем на 10%:\n",
    "    - конверсии в просмотр карточек товаров — событие <b>product_page</b>,\n",
    "    - просмотры корзины — <b>product_cart</b>,\n",
    "    - покупки — <b>purchase</b>."
   ]
  },
  {
   "cell_type": "markdown",
   "metadata": {},
   "source": [
    "## Загрузим файлы с данными и изучим общую информацию. ##"
   ]
  },
  {
   "cell_type": "code",
   "execution_count": 3,
   "metadata": {},
   "outputs": [],
   "source": [
    "# загружаем библиотеки.\n",
    "import pandas as pd\n",
    "import numpy as np\n",
    "import matplotlib.pyplot as plt\n",
    "import seaborn as sns\n",
    "from plotly import graph_objects as go\n",
    "import plotly.express as px\n",
    "import math as mth\n",
    "from scipy import stats as st\n",
    "import plotly.io as pio\n",
    "pio.renderers.default = 'png'"
   ]
  },
  {
   "cell_type": "code",
   "execution_count": 2,
   "metadata": {},
   "outputs": [],
   "source": [
    "# считываем данные. \n",
    "marketing_events = pd.read_csv('https://code.s3.yandex.net/datasets/ab_project_marketing_events.csv')\n",
    "new_users = pd.read_csv('https://code.s3.yandex.net/datasets/final_ab_new_users.csv') \n",
    "ab_events = pd.read_csv('https://code.s3.yandex.net/datasets/final_ab_events.csv')\n",
    "ab_participants = pd.read_csv('https://code.s3.yandex.net/datasets/final_ab_participants.csv')"
   ]
  },
  {
   "cell_type": "code",
   "execution_count": 4,
   "metadata": {},
   "outputs": [],
   "source": [
    "# функция для выведения общений информации о датафрейме.\n",
    "def description (df_1, df_2, df_3, df_4):\n",
    "    for i in (df_1, df_2, df_3, df_4):\n",
    "        display(i.head())\n",
    "        print()\n",
    "        print(i.info())\n",
    "        print()\n",
    "        print('Кол-во дубликатов в датасете:', i.duplicated().sum())   "
   ]
  },
  {
   "cell_type": "code",
   "execution_count": 5,
   "metadata": {
    "scrolled": false
   },
   "outputs": [
    {
     "data": {
      "text/html": [
       "<div>\n",
       "<style scoped>\n",
       "    .dataframe tbody tr th:only-of-type {\n",
       "        vertical-align: middle;\n",
       "    }\n",
       "\n",
       "    .dataframe tbody tr th {\n",
       "        vertical-align: top;\n",
       "    }\n",
       "\n",
       "    .dataframe thead th {\n",
       "        text-align: right;\n",
       "    }\n",
       "</style>\n",
       "<table border=\"1\" class=\"dataframe\">\n",
       "  <thead>\n",
       "    <tr style=\"text-align: right;\">\n",
       "      <th></th>\n",
       "      <th>name</th>\n",
       "      <th>regions</th>\n",
       "      <th>start_dt</th>\n",
       "      <th>finish_dt</th>\n",
       "    </tr>\n",
       "  </thead>\n",
       "  <tbody>\n",
       "    <tr>\n",
       "      <th>0</th>\n",
       "      <td>Christmas&amp;New Year Promo</td>\n",
       "      <td>EU, N.America</td>\n",
       "      <td>2020-12-25</td>\n",
       "      <td>2021-01-03</td>\n",
       "    </tr>\n",
       "    <tr>\n",
       "      <th>1</th>\n",
       "      <td>St. Valentine's Day Giveaway</td>\n",
       "      <td>EU, CIS, APAC, N.America</td>\n",
       "      <td>2020-02-14</td>\n",
       "      <td>2020-02-16</td>\n",
       "    </tr>\n",
       "    <tr>\n",
       "      <th>2</th>\n",
       "      <td>St. Patric's Day Promo</td>\n",
       "      <td>EU, N.America</td>\n",
       "      <td>2020-03-17</td>\n",
       "      <td>2020-03-19</td>\n",
       "    </tr>\n",
       "    <tr>\n",
       "      <th>3</th>\n",
       "      <td>Easter Promo</td>\n",
       "      <td>EU, CIS, APAC, N.America</td>\n",
       "      <td>2020-04-12</td>\n",
       "      <td>2020-04-19</td>\n",
       "    </tr>\n",
       "    <tr>\n",
       "      <th>4</th>\n",
       "      <td>4th of July Promo</td>\n",
       "      <td>N.America</td>\n",
       "      <td>2020-07-04</td>\n",
       "      <td>2020-07-11</td>\n",
       "    </tr>\n",
       "  </tbody>\n",
       "</table>\n",
       "</div>"
      ],
      "text/plain": [
       "                           name                   regions    start_dt  \\\n",
       "0      Christmas&New Year Promo             EU, N.America  2020-12-25   \n",
       "1  St. Valentine's Day Giveaway  EU, CIS, APAC, N.America  2020-02-14   \n",
       "2        St. Patric's Day Promo             EU, N.America  2020-03-17   \n",
       "3                  Easter Promo  EU, CIS, APAC, N.America  2020-04-12   \n",
       "4             4th of July Promo                 N.America  2020-07-04   \n",
       "\n",
       "    finish_dt  \n",
       "0  2021-01-03  \n",
       "1  2020-02-16  \n",
       "2  2020-03-19  \n",
       "3  2020-04-19  \n",
       "4  2020-07-11  "
      ]
     },
     "metadata": {},
     "output_type": "display_data"
    },
    {
     "name": "stdout",
     "output_type": "stream",
     "text": [
      "\n",
      "<class 'pandas.core.frame.DataFrame'>\n",
      "RangeIndex: 14 entries, 0 to 13\n",
      "Data columns (total 4 columns):\n",
      " #   Column     Non-Null Count  Dtype \n",
      "---  ------     --------------  ----- \n",
      " 0   name       14 non-null     object\n",
      " 1   regions    14 non-null     object\n",
      " 2   start_dt   14 non-null     object\n",
      " 3   finish_dt  14 non-null     object\n",
      "dtypes: object(4)\n",
      "memory usage: 576.0+ bytes\n",
      "None\n",
      "\n",
      "Кол-во дубликатов в датасете: 0\n"
     ]
    },
    {
     "data": {
      "text/html": [
       "<div>\n",
       "<style scoped>\n",
       "    .dataframe tbody tr th:only-of-type {\n",
       "        vertical-align: middle;\n",
       "    }\n",
       "\n",
       "    .dataframe tbody tr th {\n",
       "        vertical-align: top;\n",
       "    }\n",
       "\n",
       "    .dataframe thead th {\n",
       "        text-align: right;\n",
       "    }\n",
       "</style>\n",
       "<table border=\"1\" class=\"dataframe\">\n",
       "  <thead>\n",
       "    <tr style=\"text-align: right;\">\n",
       "      <th></th>\n",
       "      <th>user_id</th>\n",
       "      <th>first_date</th>\n",
       "      <th>region</th>\n",
       "      <th>device</th>\n",
       "    </tr>\n",
       "  </thead>\n",
       "  <tbody>\n",
       "    <tr>\n",
       "      <th>0</th>\n",
       "      <td>D72A72121175D8BE</td>\n",
       "      <td>2020-12-07</td>\n",
       "      <td>EU</td>\n",
       "      <td>PC</td>\n",
       "    </tr>\n",
       "    <tr>\n",
       "      <th>1</th>\n",
       "      <td>F1C668619DFE6E65</td>\n",
       "      <td>2020-12-07</td>\n",
       "      <td>N.America</td>\n",
       "      <td>Android</td>\n",
       "    </tr>\n",
       "    <tr>\n",
       "      <th>2</th>\n",
       "      <td>2E1BF1D4C37EA01F</td>\n",
       "      <td>2020-12-07</td>\n",
       "      <td>EU</td>\n",
       "      <td>PC</td>\n",
       "    </tr>\n",
       "    <tr>\n",
       "      <th>3</th>\n",
       "      <td>50734A22C0C63768</td>\n",
       "      <td>2020-12-07</td>\n",
       "      <td>EU</td>\n",
       "      <td>iPhone</td>\n",
       "    </tr>\n",
       "    <tr>\n",
       "      <th>4</th>\n",
       "      <td>E1BDDCE0DAFA2679</td>\n",
       "      <td>2020-12-07</td>\n",
       "      <td>N.America</td>\n",
       "      <td>iPhone</td>\n",
       "    </tr>\n",
       "  </tbody>\n",
       "</table>\n",
       "</div>"
      ],
      "text/plain": [
       "            user_id  first_date     region   device\n",
       "0  D72A72121175D8BE  2020-12-07         EU       PC\n",
       "1  F1C668619DFE6E65  2020-12-07  N.America  Android\n",
       "2  2E1BF1D4C37EA01F  2020-12-07         EU       PC\n",
       "3  50734A22C0C63768  2020-12-07         EU   iPhone\n",
       "4  E1BDDCE0DAFA2679  2020-12-07  N.America   iPhone"
      ]
     },
     "metadata": {},
     "output_type": "display_data"
    },
    {
     "name": "stdout",
     "output_type": "stream",
     "text": [
      "\n",
      "<class 'pandas.core.frame.DataFrame'>\n",
      "RangeIndex: 61733 entries, 0 to 61732\n",
      "Data columns (total 4 columns):\n",
      " #   Column      Non-Null Count  Dtype \n",
      "---  ------      --------------  ----- \n",
      " 0   user_id     61733 non-null  object\n",
      " 1   first_date  61733 non-null  object\n",
      " 2   region      61733 non-null  object\n",
      " 3   device      61733 non-null  object\n",
      "dtypes: object(4)\n",
      "memory usage: 1.9+ MB\n",
      "None\n",
      "\n",
      "Кол-во дубликатов в датасете: 0\n"
     ]
    },
    {
     "data": {
      "text/html": [
       "<div>\n",
       "<style scoped>\n",
       "    .dataframe tbody tr th:only-of-type {\n",
       "        vertical-align: middle;\n",
       "    }\n",
       "\n",
       "    .dataframe tbody tr th {\n",
       "        vertical-align: top;\n",
       "    }\n",
       "\n",
       "    .dataframe thead th {\n",
       "        text-align: right;\n",
       "    }\n",
       "</style>\n",
       "<table border=\"1\" class=\"dataframe\">\n",
       "  <thead>\n",
       "    <tr style=\"text-align: right;\">\n",
       "      <th></th>\n",
       "      <th>user_id</th>\n",
       "      <th>event_dt</th>\n",
       "      <th>event_name</th>\n",
       "      <th>details</th>\n",
       "    </tr>\n",
       "  </thead>\n",
       "  <tbody>\n",
       "    <tr>\n",
       "      <th>0</th>\n",
       "      <td>E1BDDCE0DAFA2679</td>\n",
       "      <td>2020-12-07 20:22:03</td>\n",
       "      <td>purchase</td>\n",
       "      <td>99.99</td>\n",
       "    </tr>\n",
       "    <tr>\n",
       "      <th>1</th>\n",
       "      <td>7B6452F081F49504</td>\n",
       "      <td>2020-12-07 09:22:53</td>\n",
       "      <td>purchase</td>\n",
       "      <td>9.99</td>\n",
       "    </tr>\n",
       "    <tr>\n",
       "      <th>2</th>\n",
       "      <td>9CD9F34546DF254C</td>\n",
       "      <td>2020-12-07 12:59:29</td>\n",
       "      <td>purchase</td>\n",
       "      <td>4.99</td>\n",
       "    </tr>\n",
       "    <tr>\n",
       "      <th>3</th>\n",
       "      <td>96F27A054B191457</td>\n",
       "      <td>2020-12-07 04:02:40</td>\n",
       "      <td>purchase</td>\n",
       "      <td>4.99</td>\n",
       "    </tr>\n",
       "    <tr>\n",
       "      <th>4</th>\n",
       "      <td>1FD7660FDF94CA1F</td>\n",
       "      <td>2020-12-07 10:15:09</td>\n",
       "      <td>purchase</td>\n",
       "      <td>4.99</td>\n",
       "    </tr>\n",
       "  </tbody>\n",
       "</table>\n",
       "</div>"
      ],
      "text/plain": [
       "            user_id             event_dt event_name  details\n",
       "0  E1BDDCE0DAFA2679  2020-12-07 20:22:03   purchase    99.99\n",
       "1  7B6452F081F49504  2020-12-07 09:22:53   purchase     9.99\n",
       "2  9CD9F34546DF254C  2020-12-07 12:59:29   purchase     4.99\n",
       "3  96F27A054B191457  2020-12-07 04:02:40   purchase     4.99\n",
       "4  1FD7660FDF94CA1F  2020-12-07 10:15:09   purchase     4.99"
      ]
     },
     "metadata": {},
     "output_type": "display_data"
    },
    {
     "name": "stdout",
     "output_type": "stream",
     "text": [
      "\n",
      "<class 'pandas.core.frame.DataFrame'>\n",
      "RangeIndex: 440317 entries, 0 to 440316\n",
      "Data columns (total 4 columns):\n",
      " #   Column      Non-Null Count   Dtype  \n",
      "---  ------      --------------   -----  \n",
      " 0   user_id     440317 non-null  object \n",
      " 1   event_dt    440317 non-null  object \n",
      " 2   event_name  440317 non-null  object \n",
      " 3   details     62740 non-null   float64\n",
      "dtypes: float64(1), object(3)\n",
      "memory usage: 13.4+ MB\n",
      "None\n",
      "\n",
      "Кол-во дубликатов в датасете: 0\n"
     ]
    },
    {
     "data": {
      "text/html": [
       "<div>\n",
       "<style scoped>\n",
       "    .dataframe tbody tr th:only-of-type {\n",
       "        vertical-align: middle;\n",
       "    }\n",
       "\n",
       "    .dataframe tbody tr th {\n",
       "        vertical-align: top;\n",
       "    }\n",
       "\n",
       "    .dataframe thead th {\n",
       "        text-align: right;\n",
       "    }\n",
       "</style>\n",
       "<table border=\"1\" class=\"dataframe\">\n",
       "  <thead>\n",
       "    <tr style=\"text-align: right;\">\n",
       "      <th></th>\n",
       "      <th>user_id</th>\n",
       "      <th>group</th>\n",
       "      <th>ab_test</th>\n",
       "    </tr>\n",
       "  </thead>\n",
       "  <tbody>\n",
       "    <tr>\n",
       "      <th>0</th>\n",
       "      <td>D1ABA3E2887B6A73</td>\n",
       "      <td>A</td>\n",
       "      <td>recommender_system_test</td>\n",
       "    </tr>\n",
       "    <tr>\n",
       "      <th>1</th>\n",
       "      <td>A7A3664BD6242119</td>\n",
       "      <td>A</td>\n",
       "      <td>recommender_system_test</td>\n",
       "    </tr>\n",
       "    <tr>\n",
       "      <th>2</th>\n",
       "      <td>DABC14FDDFADD29E</td>\n",
       "      <td>A</td>\n",
       "      <td>recommender_system_test</td>\n",
       "    </tr>\n",
       "    <tr>\n",
       "      <th>3</th>\n",
       "      <td>04988C5DF189632E</td>\n",
       "      <td>A</td>\n",
       "      <td>recommender_system_test</td>\n",
       "    </tr>\n",
       "    <tr>\n",
       "      <th>4</th>\n",
       "      <td>482F14783456D21B</td>\n",
       "      <td>B</td>\n",
       "      <td>recommender_system_test</td>\n",
       "    </tr>\n",
       "  </tbody>\n",
       "</table>\n",
       "</div>"
      ],
      "text/plain": [
       "            user_id group                  ab_test\n",
       "0  D1ABA3E2887B6A73     A  recommender_system_test\n",
       "1  A7A3664BD6242119     A  recommender_system_test\n",
       "2  DABC14FDDFADD29E     A  recommender_system_test\n",
       "3  04988C5DF189632E     A  recommender_system_test\n",
       "4  482F14783456D21B     B  recommender_system_test"
      ]
     },
     "metadata": {},
     "output_type": "display_data"
    },
    {
     "name": "stdout",
     "output_type": "stream",
     "text": [
      "\n",
      "<class 'pandas.core.frame.DataFrame'>\n",
      "RangeIndex: 18268 entries, 0 to 18267\n",
      "Data columns (total 3 columns):\n",
      " #   Column   Non-Null Count  Dtype \n",
      "---  ------   --------------  ----- \n",
      " 0   user_id  18268 non-null  object\n",
      " 1   group    18268 non-null  object\n",
      " 2   ab_test  18268 non-null  object\n",
      "dtypes: object(3)\n",
      "memory usage: 428.3+ KB\n",
      "None\n",
      "\n",
      "Кол-во дубликатов в датасете: 0\n"
     ]
    }
   ],
   "source": [
    "# применение функции\n",
    "description(marketing_events, new_users, ab_events, ab_participants)"
   ]
  },
  {
   "cell_type": "markdown",
   "metadata": {},
   "source": [
    "<span style='color:#00541F'><b>ВЫВОД ПО РАЗДЕЛУ:</b></span><br>\n",
    "\n",
    "Датафрейм <b>marketing_events</b>:\n",
    "\n",
    "- Файл с данными имеет <b>14</b> строк и <b>4</b> столбца; \n",
    "- Типы данных в столбцах <b>start_dt</b> и <b>finish_dt</b> не соответствуют значениям; \n",
    "- Явные дубликаты в данных отсутствуют.\n",
    "\n",
    "Датафрейм <b>new_users</b>:\n",
    "\n",
    "- Файл с данными имеет <b>61733</b> строк и <b>4</b> столбца; \n",
    "- Тип данных в столбце <b>first_date</b> не соответствуют значению; \n",
    "- Явные дубликаты в данных отсутствуют.\n",
    "\n",
    "Датафрейм <b>ab_events</b>:\n",
    "\n",
    "- Файл с данными имеет <b>440317</b> строк и <b>4</b> столбца; \n",
    "- Тип данных в столбце <b>event_dt</b> не соответствуют значению;\n",
    "- В столбце <b>details</b> присутствует только (<b>62740</b>) <b>14%</b> значений от общего количества;\n",
    "- Явные дубликаты в данных отсутствуют.\n",
    "\n",
    "Датафрейм <b>ab_participants</b>:\n",
    "\n",
    "- Файл с данными имеет <b>18268</b> строк и <b>4</b> столбца; \n",
    "- Тип данных в столбцах соответствуют значениям; \n",
    "- Явные дубликаты в данных отсутствуют."
   ]
  },
  {
   "cell_type": "markdown",
   "metadata": {},
   "source": [
    "## Предобработаем данные. ##"
   ]
  },
  {
   "cell_type": "code",
   "execution_count": 6,
   "metadata": {},
   "outputs": [],
   "source": [
    "# преобразование данных столбцов start_dt и finish_dt к типу datetime.\n",
    "marketing_events['start_dt'] = pd.to_datetime(marketing_events['start_dt'])\n",
    "marketing_events['finish_dt'] = pd.to_datetime(marketing_events['finish_dt'])\n",
    "\n",
    "# преобразование данных столбца first_date к типу datetime.\n",
    "new_users['first_date'] = pd.to_datetime(new_users['first_date'])\n",
    "\n",
    "# преобразование данных столбца event_dt к типу datetime.\n",
    "ab_events['event_dt'] = pd.to_datetime(ab_events['event_dt'])"
   ]
  },
  {
   "cell_type": "code",
   "execution_count": 7,
   "metadata": {},
   "outputs": [
    {
     "data": {
      "text/html": [
       "<div>\n",
       "<style scoped>\n",
       "    .dataframe tbody tr th:only-of-type {\n",
       "        vertical-align: middle;\n",
       "    }\n",
       "\n",
       "    .dataframe tbody tr th {\n",
       "        vertical-align: top;\n",
       "    }\n",
       "\n",
       "    .dataframe thead th {\n",
       "        text-align: right;\n",
       "    }\n",
       "</style>\n",
       "<table border=\"1\" class=\"dataframe\">\n",
       "  <thead>\n",
       "    <tr style=\"text-align: right;\">\n",
       "      <th></th>\n",
       "      <th>event_name</th>\n",
       "      <th>user_id</th>\n",
       "      <th>event_dt</th>\n",
       "      <th>details</th>\n",
       "    </tr>\n",
       "  </thead>\n",
       "  <tbody>\n",
       "    <tr>\n",
       "      <th>0</th>\n",
       "      <td>login</td>\n",
       "      <td>189552</td>\n",
       "      <td>189552</td>\n",
       "      <td>0</td>\n",
       "    </tr>\n",
       "    <tr>\n",
       "      <th>1</th>\n",
       "      <td>product_cart</td>\n",
       "      <td>62462</td>\n",
       "      <td>62462</td>\n",
       "      <td>0</td>\n",
       "    </tr>\n",
       "    <tr>\n",
       "      <th>2</th>\n",
       "      <td>product_page</td>\n",
       "      <td>125563</td>\n",
       "      <td>125563</td>\n",
       "      <td>0</td>\n",
       "    </tr>\n",
       "    <tr>\n",
       "      <th>3</th>\n",
       "      <td>purchase</td>\n",
       "      <td>62740</td>\n",
       "      <td>62740</td>\n",
       "      <td>62740</td>\n",
       "    </tr>\n",
       "  </tbody>\n",
       "</table>\n",
       "</div>"
      ],
      "text/plain": [
       "     event_name  user_id  event_dt  details\n",
       "0         login   189552    189552        0\n",
       "1  product_cart    62462     62462        0\n",
       "2  product_page   125563    125563        0\n",
       "3      purchase    62740     62740    62740"
      ]
     },
     "execution_count": 7,
     "metadata": {},
     "output_type": "execute_result"
    }
   ],
   "source": [
    "# группировка пропущенных значений по событиям.\n",
    "ab_events.groupby('event_name').count().reset_index()"
   ]
  },
  {
   "cell_type": "markdown",
   "metadata": {},
   "source": [
    "<span style='color:#00541F'><b>ВЫВОД ПО РАЗДЕЛУ:</b></span><br>\n",
    "\n",
    "- Было произведено преобразование данных столбцов к типу *datetime*; \n",
    "- В столбце <b>details</b> есть только полные данные для события <b>purchase</b>, для остальных событий данные отсутствует, что составляет приблизительно <b>86%</b> данных от общего кол-ва. Исходя из того, что данный признак несет дополнительную информацию, мы допускаем такое наличие пропусков и не будем вносить каких либо изменений;\n",
    "- Данные готовы к работе."
   ]
  },
  {
   "cell_type": "markdown",
   "metadata": {},
   "source": [
    "## Оценка корректности проведения теста. ##"
   ]
  },
  {
   "cell_type": "markdown",
   "metadata": {},
   "source": [
    "- Название теста: recommender_system_test;\n",
    "- группы: А — контрольная, B — новая платёжная воронка;\n",
    "- дата запуска: 2020-12-07;\n",
    "- дата остановки набора новых пользователей: 2020-12-21;\n",
    "- дата остановки: 2021-01-04;\n",
    "- аудитория: 15% новых пользователей из региона EU;\n",
    "- назначение теста: тестирование изменений, связанных с внедрением улучшенной рекомендательной системы;\n",
    "- ожидаемое количество участников теста: 6000.\n",
    "- ожидаемый эффект: за 14 дней с момента регистрации пользователи покажут улучшение каждой метрики не менее, чем на 10%:\n",
    "- конверсии в просмотр карточек товаров — событие product_page,\n",
    "- просмотры корзины — product_cart,\n",
    "- покупки — purchase."
   ]
  },
  {
   "cell_type": "code",
   "execution_count": 8,
   "metadata": {},
   "outputs": [
    {
     "data": {
      "text/plain": [
       "interface_eu_test          11567\n",
       "recommender_system_test     6701\n",
       "Name: ab_test, dtype: int64"
      ]
     },
     "execution_count": 8,
     "metadata": {},
     "output_type": "execute_result"
    }
   ],
   "source": [
    "# посмотрим названия и кол-во тестов.\n",
    "ab_participants['ab_test'].value_counts()"
   ]
  },
  {
   "cell_type": "code",
   "execution_count": 9,
   "metadata": {},
   "outputs": [
    {
     "name": "stdout",
     "output_type": "stream",
     "text": [
      "Дата запуска: 2020-12-07 00:00:00\n",
      "Дата остановки набора новых пользователей: 2020-12-23 00:00:00\n"
     ]
    }
   ],
   "source": [
    "# проверим соответсвие дат.\n",
    "print('Дата запуска:', new_users['first_date'].min())\n",
    "print('Дата остановки набора новых пользователей:', new_users['first_date'].max())"
   ]
  },
  {
   "cell_type": "code",
   "execution_count": 10,
   "metadata": {},
   "outputs": [],
   "source": [
    "# в тех. задании обозначена дата 2020-12-21, отбросим  лишнее.\n",
    "new_users = new_users[new_users['first_date'] <= '2020-12-21']"
   ]
  },
  {
   "cell_type": "code",
   "execution_count": 11,
   "metadata": {},
   "outputs": [
    {
     "name": "stdout",
     "output_type": "stream",
     "text": [
      "Дата остановки набора новых пользователей: 2020-12-21 00:00:00\n"
     ]
    }
   ],
   "source": [
    "# проверим внесенные изменения.\n",
    "print('Дата остановки набора новых пользователей:', new_users['first_date'].max())"
   ]
  },
  {
   "cell_type": "code",
   "execution_count": 12,
   "metadata": {},
   "outputs": [
    {
     "name": "stdout",
     "output_type": "stream",
     "text": [
      "Дата последнего события: 2020-12-30 23:36:33\n"
     ]
    }
   ],
   "source": [
    "# проверим дату последнего события.\n",
    "print('Дата последнего события:', ab_events['event_dt'].max())"
   ]
  },
  {
   "cell_type": "code",
   "execution_count": 13,
   "metadata": {
    "scrolled": true
   },
   "outputs": [
    {
     "name": "stdout",
     "output_type": "stream",
     "text": [
      "В наличии данные за период размером: 23 days 23:36:00\n"
     ]
    }
   ],
   "source": [
    "# размер периода исследования.\n",
    "print('В наличии данные за период размером:', ab_events['event_dt'].max() - ab_events['event_dt'].min())"
   ]
  },
  {
   "cell_type": "code",
   "execution_count": 14,
   "metadata": {},
   "outputs": [
    {
     "data": {
      "text/html": [
       "<div>\n",
       "<style scoped>\n",
       "    .dataframe tbody tr th:only-of-type {\n",
       "        vertical-align: middle;\n",
       "    }\n",
       "\n",
       "    .dataframe tbody tr th {\n",
       "        vertical-align: top;\n",
       "    }\n",
       "\n",
       "    .dataframe thead th {\n",
       "        text-align: right;\n",
       "    }\n",
       "</style>\n",
       "<table border=\"1\" class=\"dataframe\">\n",
       "  <thead>\n",
       "    <tr style=\"text-align: right;\">\n",
       "      <th></th>\n",
       "      <th>name</th>\n",
       "      <th>regions</th>\n",
       "      <th>start_dt</th>\n",
       "      <th>finish_dt</th>\n",
       "    </tr>\n",
       "  </thead>\n",
       "  <tbody>\n",
       "    <tr>\n",
       "      <th>0</th>\n",
       "      <td>Christmas&amp;New Year Promo</td>\n",
       "      <td>EU, N.America</td>\n",
       "      <td>2020-12-25</td>\n",
       "      <td>2021-01-03</td>\n",
       "    </tr>\n",
       "  </tbody>\n",
       "</table>\n",
       "</div>"
      ],
      "text/plain": [
       "                       name        regions   start_dt  finish_dt\n",
       "0  Christmas&New Year Promo  EU, N.America 2020-12-25 2021-01-03"
      ]
     },
     "execution_count": 14,
     "metadata": {},
     "output_type": "execute_result"
    }
   ],
   "source": [
    "# отфильтруем выбранный период и проверим наличие маркетинговых событий.\n",
    "marketing_events[marketing_events['regions'].str.contains(\"EU\")]\\\n",
    "                .query('(start_dt >= \"2020-12-07\" & start_dt <= \"2021-01-04\")\\\n",
    "                or (finish_dt >= \"2020-12-07\" & finish_dt <= \"2021-01-04\")\\\n",
    "                or (start_dt < \"2020-12-07\" & finish_dt > \"2021-01-04\")')"
   ]
  },
  {
   "cell_type": "code",
   "execution_count": 15,
   "metadata": {
    "scrolled": true
   },
   "outputs": [
    {
     "data": {
      "text/plain": [
       "ab_test    1602\n",
       "dtype: int64"
      ]
     },
     "execution_count": 15,
     "metadata": {},
     "output_type": "execute_result"
    }
   ],
   "source": [
    "# проверим пользователей,участвующих в обоих тестах.\n",
    "ab_participants.groupby('user_id')\\\n",
    "               .agg({'ab_test':'nunique'})\\\n",
    "               .query('ab_test > 1')\\\n",
    "               .count()"
   ]
  },
  {
   "cell_type": "code",
   "execution_count": 16,
   "metadata": {},
   "outputs": [
    {
     "data": {
      "text/plain": [
       "group    0\n",
       "dtype: int64"
      ]
     },
     "execution_count": 16,
     "metadata": {},
     "output_type": "execute_result"
    }
   ],
   "source": [
    "# проверим пользователей, участвующих в двух группах теста \"recommender_system_test\"\n",
    "ab_participants.query('ab_test == \"recommender_system_test\"')\\\n",
    "                    .groupby('user_id')\\\n",
    "                    .agg({'group':'nunique'})\\\n",
    "                    .query('group > 1')\\\n",
    "                    .count()"
   ]
  },
  {
   "cell_type": "code",
   "execution_count": 17,
   "metadata": {},
   "outputs": [
    {
     "data": {
      "text/html": [
       "<div>\n",
       "<style scoped>\n",
       "    .dataframe tbody tr th:only-of-type {\n",
       "        vertical-align: middle;\n",
       "    }\n",
       "\n",
       "    .dataframe tbody tr th {\n",
       "        vertical-align: top;\n",
       "    }\n",
       "\n",
       "    .dataframe thead th {\n",
       "        text-align: right;\n",
       "    }\n",
       "</style>\n",
       "<table border=\"1\" class=\"dataframe\">\n",
       "  <thead>\n",
       "    <tr style=\"text-align: right;\">\n",
       "      <th></th>\n",
       "      <th>user_id</th>\n",
       "      <th>group</th>\n",
       "      <th>ab_test</th>\n",
       "    </tr>\n",
       "  </thead>\n",
       "  <tbody>\n",
       "    <tr>\n",
       "      <th>0</th>\n",
       "      <td>D1ABA3E2887B6A73</td>\n",
       "      <td>A</td>\n",
       "      <td>recommender_system_test</td>\n",
       "    </tr>\n",
       "    <tr>\n",
       "      <th>1</th>\n",
       "      <td>A7A3664BD6242119</td>\n",
       "      <td>A</td>\n",
       "      <td>recommender_system_test</td>\n",
       "    </tr>\n",
       "    <tr>\n",
       "      <th>2</th>\n",
       "      <td>DABC14FDDFADD29E</td>\n",
       "      <td>A</td>\n",
       "      <td>recommender_system_test</td>\n",
       "    </tr>\n",
       "    <tr>\n",
       "      <th>3</th>\n",
       "      <td>04988C5DF189632E</td>\n",
       "      <td>A</td>\n",
       "      <td>recommender_system_test</td>\n",
       "    </tr>\n",
       "    <tr>\n",
       "      <th>4</th>\n",
       "      <td>482F14783456D21B</td>\n",
       "      <td>B</td>\n",
       "      <td>recommender_system_test</td>\n",
       "    </tr>\n",
       "  </tbody>\n",
       "</table>\n",
       "</div>"
      ],
      "text/plain": [
       "            user_id group                  ab_test\n",
       "0  D1ABA3E2887B6A73     A  recommender_system_test\n",
       "1  A7A3664BD6242119     A  recommender_system_test\n",
       "2  DABC14FDDFADD29E     A  recommender_system_test\n",
       "3  04988C5DF189632E     A  recommender_system_test\n",
       "4  482F14783456D21B     B  recommender_system_test"
      ]
     },
     "execution_count": 17,
     "metadata": {},
     "output_type": "execute_result"
    }
   ],
   "source": [
    "# сделаем срез по событие recommender_system_test.\n",
    "participants_rec = ab_participants.query('ab_test == \"recommender_system_test\"')\n",
    "participants_rec.head()"
   ]
  },
  {
   "cell_type": "code",
   "execution_count": 18,
   "metadata": {},
   "outputs": [
    {
     "data": {
      "text/html": [
       "<div>\n",
       "<style scoped>\n",
       "    .dataframe tbody tr th:only-of-type {\n",
       "        vertical-align: middle;\n",
       "    }\n",
       "\n",
       "    .dataframe tbody tr th {\n",
       "        vertical-align: top;\n",
       "    }\n",
       "\n",
       "    .dataframe thead th {\n",
       "        text-align: right;\n",
       "    }\n",
       "</style>\n",
       "<table border=\"1\" class=\"dataframe\">\n",
       "  <thead>\n",
       "    <tr style=\"text-align: right;\">\n",
       "      <th></th>\n",
       "      <th>user_id</th>\n",
       "      <th>group</th>\n",
       "      <th>ab_test</th>\n",
       "      <th>first_date</th>\n",
       "      <th>region</th>\n",
       "      <th>device</th>\n",
       "    </tr>\n",
       "  </thead>\n",
       "  <tbody>\n",
       "    <tr>\n",
       "      <th>0</th>\n",
       "      <td>D1ABA3E2887B6A73</td>\n",
       "      <td>A</td>\n",
       "      <td>recommender_system_test</td>\n",
       "      <td>2020-12-07</td>\n",
       "      <td>EU</td>\n",
       "      <td>PC</td>\n",
       "    </tr>\n",
       "    <tr>\n",
       "      <th>1</th>\n",
       "      <td>A7A3664BD6242119</td>\n",
       "      <td>A</td>\n",
       "      <td>recommender_system_test</td>\n",
       "      <td>2020-12-20</td>\n",
       "      <td>EU</td>\n",
       "      <td>iPhone</td>\n",
       "    </tr>\n",
       "    <tr>\n",
       "      <th>2</th>\n",
       "      <td>DABC14FDDFADD29E</td>\n",
       "      <td>A</td>\n",
       "      <td>recommender_system_test</td>\n",
       "      <td>2020-12-08</td>\n",
       "      <td>EU</td>\n",
       "      <td>Mac</td>\n",
       "    </tr>\n",
       "    <tr>\n",
       "      <th>3</th>\n",
       "      <td>04988C5DF189632E</td>\n",
       "      <td>A</td>\n",
       "      <td>recommender_system_test</td>\n",
       "      <td>2020-12-14</td>\n",
       "      <td>EU</td>\n",
       "      <td>iPhone</td>\n",
       "    </tr>\n",
       "    <tr>\n",
       "      <th>4</th>\n",
       "      <td>482F14783456D21B</td>\n",
       "      <td>B</td>\n",
       "      <td>recommender_system_test</td>\n",
       "      <td>2020-12-14</td>\n",
       "      <td>EU</td>\n",
       "      <td>PC</td>\n",
       "    </tr>\n",
       "  </tbody>\n",
       "</table>\n",
       "</div>"
      ],
      "text/plain": [
       "            user_id group                  ab_test first_date region  device\n",
       "0  D1ABA3E2887B6A73     A  recommender_system_test 2020-12-07     EU      PC\n",
       "1  A7A3664BD6242119     A  recommender_system_test 2020-12-20     EU  iPhone\n",
       "2  DABC14FDDFADD29E     A  recommender_system_test 2020-12-08     EU     Mac\n",
       "3  04988C5DF189632E     A  recommender_system_test 2020-12-14     EU  iPhone\n",
       "4  482F14783456D21B     B  recommender_system_test 2020-12-14     EU      PC"
      ]
     },
     "execution_count": 18,
     "metadata": {},
     "output_type": "execute_result"
    }
   ],
   "source": [
    "# объединим таблицу participants_rec и new_users по общему ключу.\n",
    "users_rec = participants_rec.merge(new_users, on='user_id')\n",
    "users_rec.head()"
   ]
  },
  {
   "cell_type": "code",
   "execution_count": 19,
   "metadata": {},
   "outputs": [
    {
     "data": {
      "text/plain": [
       "EU           6351\n",
       "N.America     223\n",
       "APAC           72\n",
       "CIS            55\n",
       "Name: region, dtype: int64"
      ]
     },
     "execution_count": 19,
     "metadata": {},
     "output_type": "execute_result"
    }
   ],
   "source": [
    "# посмотрим регионы пользователей.\n",
    "users_rec['region'].value_counts()"
   ]
  },
  {
   "cell_type": "code",
   "execution_count": 20,
   "metadata": {
    "scrolled": true
   },
   "outputs": [
    {
     "name": "stdout",
     "output_type": "stream",
     "text": [
      "Доля пользователей EU задействованных в тесте, от общего кол-ва пользователей EU:  0.15 %\n"
     ]
    }
   ],
   "source": [
    "# посчитаем процент от общего кол-ва.\n",
    "print('Доля пользователей EU задействованных в тесте, от общего кол-ва пользователей EU: ',\n",
    "      users_rec['region'].value_counts()[0] / new_users['region'].value_counts()[0], '%')"
   ]
  },
  {
   "cell_type": "code",
   "execution_count": 21,
   "metadata": {},
   "outputs": [
    {
     "name": "stdout",
     "output_type": "stream",
     "text": [
      "Кол-во участников теста: 6701\n"
     ]
    }
   ],
   "source": [
    "# проверим кол-во участников теста.\n",
    "print('Кол-во участников теста:', users_rec['user_id'].nunique())"
   ]
  },
  {
   "cell_type": "code",
   "execution_count": 22,
   "metadata": {
    "scrolled": true
   },
   "outputs": [
    {
     "data": {
      "text/plain": [
       "A    0.57\n",
       "B    0.43\n",
       "Name: group, dtype: float64"
      ]
     },
     "execution_count": 22,
     "metadata": {},
     "output_type": "execute_result"
    }
   ],
   "source": [
    "# распределение по группам.\n",
    "users_rec['group'].value_counts(normalize=True).round(2)"
   ]
  },
  {
   "cell_type": "code",
   "execution_count": 23,
   "metadata": {},
   "outputs": [],
   "source": [
    "# объединим таблицу users_events_rec и ab_events по общему ключу.\n",
    "users_events_rec = users_rec.merge(ab_events, on='user_id')"
   ]
  },
  {
   "cell_type": "code",
   "execution_count": 24,
   "metadata": {},
   "outputs": [],
   "source": [
    "# отфильтруем по региону EU.\n",
    "users_events_rec = users_events_rec.query('region == \"EU\"')"
   ]
  },
  {
   "cell_type": "code",
   "execution_count": 25,
   "metadata": {},
   "outputs": [],
   "source": [
    "# расчитаем время жизни клиента.\n",
    "users_events_rec['lifetime'] = (users_events_rec['event_dt'] - users_events_rec['first_date']).dt.days"
   ]
  },
  {
   "cell_type": "code",
   "execution_count": 26,
   "metadata": {},
   "outputs": [
    {
     "data": {
      "text/html": [
       "<div>\n",
       "<style scoped>\n",
       "    .dataframe tbody tr th:only-of-type {\n",
       "        vertical-align: middle;\n",
       "    }\n",
       "\n",
       "    .dataframe tbody tr th {\n",
       "        vertical-align: top;\n",
       "    }\n",
       "\n",
       "    .dataframe thead th {\n",
       "        text-align: right;\n",
       "    }\n",
       "</style>\n",
       "<table border=\"1\" class=\"dataframe\">\n",
       "  <thead>\n",
       "    <tr style=\"text-align: right;\">\n",
       "      <th></th>\n",
       "      <th>user_id</th>\n",
       "      <th>group</th>\n",
       "      <th>ab_test</th>\n",
       "      <th>first_date</th>\n",
       "      <th>region</th>\n",
       "      <th>device</th>\n",
       "      <th>event_dt</th>\n",
       "      <th>event_name</th>\n",
       "      <th>details</th>\n",
       "      <th>lifetime</th>\n",
       "    </tr>\n",
       "  </thead>\n",
       "  <tbody>\n",
       "    <tr>\n",
       "      <th>1</th>\n",
       "      <td>D1ABA3E2887B6A73</td>\n",
       "      <td>A</td>\n",
       "      <td>recommender_system_test</td>\n",
       "      <td>2020-12-07</td>\n",
       "      <td>EU</td>\n",
       "      <td>PC</td>\n",
       "      <td>2020-12-25 00:04:56</td>\n",
       "      <td>purchase</td>\n",
       "      <td>4.99</td>\n",
       "      <td>18</td>\n",
       "    </tr>\n",
       "    <tr>\n",
       "      <th>3</th>\n",
       "      <td>D1ABA3E2887B6A73</td>\n",
       "      <td>A</td>\n",
       "      <td>recommender_system_test</td>\n",
       "      <td>2020-12-07</td>\n",
       "      <td>EU</td>\n",
       "      <td>PC</td>\n",
       "      <td>2020-12-25 00:04:57</td>\n",
       "      <td>product_cart</td>\n",
       "      <td>NaN</td>\n",
       "      <td>18</td>\n",
       "    </tr>\n",
       "    <tr>\n",
       "      <th>5</th>\n",
       "      <td>D1ABA3E2887B6A73</td>\n",
       "      <td>A</td>\n",
       "      <td>recommender_system_test</td>\n",
       "      <td>2020-12-07</td>\n",
       "      <td>EU</td>\n",
       "      <td>PC</td>\n",
       "      <td>2020-12-25 00:04:57</td>\n",
       "      <td>product_page</td>\n",
       "      <td>NaN</td>\n",
       "      <td>18</td>\n",
       "    </tr>\n",
       "    <tr>\n",
       "      <th>7</th>\n",
       "      <td>D1ABA3E2887B6A73</td>\n",
       "      <td>A</td>\n",
       "      <td>recommender_system_test</td>\n",
       "      <td>2020-12-07</td>\n",
       "      <td>EU</td>\n",
       "      <td>PC</td>\n",
       "      <td>2020-12-25 00:04:56</td>\n",
       "      <td>login</td>\n",
       "      <td>NaN</td>\n",
       "      <td>18</td>\n",
       "    </tr>\n",
       "    <tr>\n",
       "      <th>55</th>\n",
       "      <td>92CB588012C10D3D</td>\n",
       "      <td>A</td>\n",
       "      <td>recommender_system_test</td>\n",
       "      <td>2020-12-09</td>\n",
       "      <td>EU</td>\n",
       "      <td>PC</td>\n",
       "      <td>2020-12-25 18:11:49</td>\n",
       "      <td>product_page</td>\n",
       "      <td>NaN</td>\n",
       "      <td>16</td>\n",
       "    </tr>\n",
       "    <tr>\n",
       "      <th>...</th>\n",
       "      <td>...</td>\n",
       "      <td>...</td>\n",
       "      <td>...</td>\n",
       "      <td>...</td>\n",
       "      <td>...</td>\n",
       "      <td>...</td>\n",
       "      <td>...</td>\n",
       "      <td>...</td>\n",
       "      <td>...</td>\n",
       "      <td>...</td>\n",
       "    </tr>\n",
       "    <tr>\n",
       "      <th>23198</th>\n",
       "      <td>DA111496CD9749B0</td>\n",
       "      <td>A</td>\n",
       "      <td>recommender_system_test</td>\n",
       "      <td>2020-12-08</td>\n",
       "      <td>EU</td>\n",
       "      <td>Android</td>\n",
       "      <td>2020-12-24 19:40:50</td>\n",
       "      <td>product_page</td>\n",
       "      <td>NaN</td>\n",
       "      <td>16</td>\n",
       "    </tr>\n",
       "    <tr>\n",
       "      <th>23202</th>\n",
       "      <td>DA111496CD9749B0</td>\n",
       "      <td>A</td>\n",
       "      <td>recommender_system_test</td>\n",
       "      <td>2020-12-08</td>\n",
       "      <td>EU</td>\n",
       "      <td>Android</td>\n",
       "      <td>2020-12-24 19:40:49</td>\n",
       "      <td>login</td>\n",
       "      <td>NaN</td>\n",
       "      <td>16</td>\n",
       "    </tr>\n",
       "    <tr>\n",
       "      <th>23279</th>\n",
       "      <td>89332BD0C491D0F8</td>\n",
       "      <td>A</td>\n",
       "      <td>recommender_system_test</td>\n",
       "      <td>2020-12-14</td>\n",
       "      <td>EU</td>\n",
       "      <td>iPhone</td>\n",
       "      <td>2020-12-29 09:45:04</td>\n",
       "      <td>purchase</td>\n",
       "      <td>4.99</td>\n",
       "      <td>15</td>\n",
       "    </tr>\n",
       "    <tr>\n",
       "      <th>23283</th>\n",
       "      <td>89332BD0C491D0F8</td>\n",
       "      <td>A</td>\n",
       "      <td>recommender_system_test</td>\n",
       "      <td>2020-12-14</td>\n",
       "      <td>EU</td>\n",
       "      <td>iPhone</td>\n",
       "      <td>2020-12-29 09:45:07</td>\n",
       "      <td>product_page</td>\n",
       "      <td>NaN</td>\n",
       "      <td>15</td>\n",
       "    </tr>\n",
       "    <tr>\n",
       "      <th>23287</th>\n",
       "      <td>89332BD0C491D0F8</td>\n",
       "      <td>A</td>\n",
       "      <td>recommender_system_test</td>\n",
       "      <td>2020-12-14</td>\n",
       "      <td>EU</td>\n",
       "      <td>iPhone</td>\n",
       "      <td>2020-12-29 09:45:04</td>\n",
       "      <td>login</td>\n",
       "      <td>NaN</td>\n",
       "      <td>15</td>\n",
       "    </tr>\n",
       "  </tbody>\n",
       "</table>\n",
       "<p>592 rows × 10 columns</p>\n",
       "</div>"
      ],
      "text/plain": [
       "                user_id group                  ab_test first_date region  \\\n",
       "1      D1ABA3E2887B6A73     A  recommender_system_test 2020-12-07     EU   \n",
       "3      D1ABA3E2887B6A73     A  recommender_system_test 2020-12-07     EU   \n",
       "5      D1ABA3E2887B6A73     A  recommender_system_test 2020-12-07     EU   \n",
       "7      D1ABA3E2887B6A73     A  recommender_system_test 2020-12-07     EU   \n",
       "55     92CB588012C10D3D     A  recommender_system_test 2020-12-09     EU   \n",
       "...                 ...   ...                      ...        ...    ...   \n",
       "23198  DA111496CD9749B0     A  recommender_system_test 2020-12-08     EU   \n",
       "23202  DA111496CD9749B0     A  recommender_system_test 2020-12-08     EU   \n",
       "23279  89332BD0C491D0F8     A  recommender_system_test 2020-12-14     EU   \n",
       "23283  89332BD0C491D0F8     A  recommender_system_test 2020-12-14     EU   \n",
       "23287  89332BD0C491D0F8     A  recommender_system_test 2020-12-14     EU   \n",
       "\n",
       "        device            event_dt    event_name  details  lifetime  \n",
       "1           PC 2020-12-25 00:04:56      purchase     4.99        18  \n",
       "3           PC 2020-12-25 00:04:57  product_cart      NaN        18  \n",
       "5           PC 2020-12-25 00:04:57  product_page      NaN        18  \n",
       "7           PC 2020-12-25 00:04:56         login      NaN        18  \n",
       "55          PC 2020-12-25 18:11:49  product_page      NaN        16  \n",
       "...        ...                 ...           ...      ...       ...  \n",
       "23198  Android 2020-12-24 19:40:50  product_page      NaN        16  \n",
       "23202  Android 2020-12-24 19:40:49         login      NaN        16  \n",
       "23279   iPhone 2020-12-29 09:45:04      purchase     4.99        15  \n",
       "23283   iPhone 2020-12-29 09:45:07  product_page      NaN        15  \n",
       "23287   iPhone 2020-12-29 09:45:04         login      NaN        15  \n",
       "\n",
       "[592 rows x 10 columns]"
      ]
     },
     "execution_count": 26,
     "metadata": {},
     "output_type": "execute_result"
    }
   ],
   "source": [
    "# проверим кол-во клиентов превышающие 14 дневный lifetime.\n",
    "users_events_rec.query('lifetime > 14')"
   ]
  },
  {
   "cell_type": "code",
   "execution_count": 27,
   "metadata": {},
   "outputs": [],
   "source": [
    "# сформируем новый датасет в рамка 14 дневного lifetime.\n",
    "users_events_rec = users_events_rec.query('lifetime <= 14')"
   ]
  },
  {
   "cell_type": "markdown",
   "metadata": {},
   "source": [
    "<span style='color:#00541F'><b>ВЫВОД ПО РАЗДЕЛУ:</b></span><br>\n",
    "\n",
    "- Дата запуска и дата остановки набора новых пользователей - корректны;\n",
    "- Дата остановки: <b>2020-12-30</b>, требуется <b>2021-01-04</b>. Данные за <b>5</b> дней отсутствуют;\n",
    "- В наличии данные за период размером <b>23</b> дня;\n",
    "- Были обнаружены <b>2</b> маркетинговое событие, которое непосредственно имеет влияние на поведение пользователей;\n",
    "- В данных теста recommender_system_test не обнаружено пересечений пользователей между группами А и B;\n",
    "- В двух конкурирующих тестах участвуют одновременно  <b>1602</b> пользователя;\n",
    "- Доля пользователей EU задействованных в тесте, от общего кол-ва пользователей EU - <b>15 %</b>;\n",
    "- Количество участников теста <b>6701</b>, на <b>701</b> больше ожидаемого;\n",
    "- Тестовые группы распределены не равномерно. Группа «A» - <b>57 %</b>, группа «B» - <b>43 %</b>. \n"
   ]
  },
  {
   "cell_type": "markdown",
   "metadata": {},
   "source": [
    "## Исследовательский анализ данных. ##"
   ]
  },
  {
   "cell_type": "markdown",
   "metadata": {},
   "source": [
    "### Кол - во событий по пользователям. ###"
   ]
  },
  {
   "cell_type": "code",
   "execution_count": 28,
   "metadata": {},
   "outputs": [
    {
     "data": {
      "text/plain": [
       "A    17977\n",
       "B     4851\n",
       "Name: group, dtype: int64"
      ]
     },
     "execution_count": 28,
     "metadata": {},
     "output_type": "execute_result"
    }
   ],
   "source": [
    "# посчитаем контрольную и тестовую группы.\n",
    "users_events_rec['group'].value_counts()"
   ]
  },
  {
   "cell_type": "code",
   "execution_count": 29,
   "metadata": {},
   "outputs": [
    {
     "name": "stdout",
     "output_type": "stream",
     "text": [
      "Среднее кол-во действий совершаемых пользователем группы А: 6.9\n",
      "Среднее кол-во действий совершаемых пользователем группы B: 5.53\n"
     ]
    }
   ],
   "source": [
    "# посмотрим среднее кол-во совершаемых действий обеих групп.\n",
    "print('Среднее кол-во действий совершаемых пользователем группы А:', users_events_rec.query('group == \"A\"').groupby('user_id')['event_name'].count().mean().round(2))\n",
    "print('Среднее кол-во действий совершаемых пользователем группы B:', users_events_rec.query('group == \"B\"').groupby('user_id')['event_name'].count().mean().round(2))"
   ]
  },
  {
   "cell_type": "code",
   "execution_count": 30,
   "metadata": {},
   "outputs": [
    {
     "data": {
      "text/html": [
       "<div>\n",
       "<style scoped>\n",
       "    .dataframe tbody tr th:only-of-type {\n",
       "        vertical-align: middle;\n",
       "    }\n",
       "\n",
       "    .dataframe tbody tr th {\n",
       "        vertical-align: top;\n",
       "    }\n",
       "\n",
       "    .dataframe thead th {\n",
       "        text-align: right;\n",
       "    }\n",
       "</style>\n",
       "<table border=\"1\" class=\"dataframe\">\n",
       "  <thead>\n",
       "    <tr style=\"text-align: right;\">\n",
       "      <th></th>\n",
       "      <th>user_id</th>\n",
       "      <th>group</th>\n",
       "      <th>event_name</th>\n",
       "    </tr>\n",
       "  </thead>\n",
       "  <tbody>\n",
       "    <tr>\n",
       "      <th>0</th>\n",
       "      <td>001064FEAAB631A1</td>\n",
       "      <td>B</td>\n",
       "      <td>6</td>\n",
       "    </tr>\n",
       "    <tr>\n",
       "      <th>1</th>\n",
       "      <td>0010A1C096941592</td>\n",
       "      <td>A</td>\n",
       "      <td>12</td>\n",
       "    </tr>\n",
       "    <tr>\n",
       "      <th>2</th>\n",
       "      <td>00341D8401F0F665</td>\n",
       "      <td>A</td>\n",
       "      <td>2</td>\n",
       "    </tr>\n",
       "    <tr>\n",
       "      <th>3</th>\n",
       "      <td>003DF44D7589BBD4</td>\n",
       "      <td>A</td>\n",
       "      <td>15</td>\n",
       "    </tr>\n",
       "    <tr>\n",
       "      <th>4</th>\n",
       "      <td>00505E15A9D81546</td>\n",
       "      <td>A</td>\n",
       "      <td>5</td>\n",
       "    </tr>\n",
       "    <tr>\n",
       "      <th>...</th>\n",
       "      <td>...</td>\n",
       "      <td>...</td>\n",
       "      <td>...</td>\n",
       "    </tr>\n",
       "    <tr>\n",
       "      <th>3476</th>\n",
       "      <td>FF5B24BCE4387F86</td>\n",
       "      <td>A</td>\n",
       "      <td>9</td>\n",
       "    </tr>\n",
       "    <tr>\n",
       "      <th>3477</th>\n",
       "      <td>FF825C1D791989B5</td>\n",
       "      <td>A</td>\n",
       "      <td>8</td>\n",
       "    </tr>\n",
       "    <tr>\n",
       "      <th>3478</th>\n",
       "      <td>FF8CF7057415EB29</td>\n",
       "      <td>B</td>\n",
       "      <td>4</td>\n",
       "    </tr>\n",
       "    <tr>\n",
       "      <th>3479</th>\n",
       "      <td>FFAE9489C76F352B</td>\n",
       "      <td>A</td>\n",
       "      <td>6</td>\n",
       "    </tr>\n",
       "    <tr>\n",
       "      <th>3480</th>\n",
       "      <td>FFF28D02B1EACBE1</td>\n",
       "      <td>B</td>\n",
       "      <td>9</td>\n",
       "    </tr>\n",
       "  </tbody>\n",
       "</table>\n",
       "<p>3481 rows × 3 columns</p>\n",
       "</div>"
      ],
      "text/plain": [
       "               user_id group  event_name\n",
       "0     001064FEAAB631A1     B           6\n",
       "1     0010A1C096941592     A          12\n",
       "2     00341D8401F0F665     A           2\n",
       "3     003DF44D7589BBD4     A          15\n",
       "4     00505E15A9D81546     A           5\n",
       "...                ...   ...         ...\n",
       "3476  FF5B24BCE4387F86     A           9\n",
       "3477  FF825C1D791989B5     A           8\n",
       "3478  FF8CF7057415EB29     B           4\n",
       "3479  FFAE9489C76F352B     A           6\n",
       "3480  FFF28D02B1EACBE1     B           9\n",
       "\n",
       "[3481 rows x 3 columns]"
      ]
     },
     "execution_count": 30,
     "metadata": {},
     "output_type": "execute_result"
    }
   ],
   "source": [
    "# построим таблицу с группировкой кол-ва событий по пользователям и группам.\n",
    "users_group_events = users_events_rec.groupby(['user_id','group'])['event_name'].count().reset_index()\n",
    "users_group_events"
   ]
  },
  {
   "cell_type": "code",
   "execution_count": 31,
   "metadata": {
    "scrolled": false
   },
   "outputs": [
    {
     "data": {
      "image/png": "[encoded data removed]",
      "text/plain": [
       "<Figure size 1500x500 with 1 Axes>"
      ]
     },
     "metadata": {},
     "output_type": "display_data"
    }
   ],
   "source": [
    "# построим график распределения кол-ва событий по пользователям.\n",
    "plt.figure(figsize=(15,5))\n",
    "sns.histplot(data=users_group_events, x='event_name', bins=40, kde=True, hue='group', multiple='stack')\n",
    "plt.xlabel('Кол-во событий на одного пользователя', fontsize=12)\n",
    "plt.ylabel('Кол-во пользователей', fontsize=12)\n",
    "plt.title ('Распределение кол-ва событий по пользователям', fontsize=14)\n",
    "plt.grid()\n",
    "plt.show()"
   ]
  },
  {
   "cell_type": "markdown",
   "metadata": {},
   "source": [
    "### Рапределение кол - ва событий по дням. ###"
   ]
  },
  {
   "cell_type": "code",
   "execution_count": 33,
   "metadata": {},
   "outputs": [
    {
     "data": {
      "image/png": "[encoded data removed]",
      "text/plain": [
       "<Figure size 1500x500 with 1 Axes>"
      ]
     },
     "metadata": {},
     "output_type": "display_data"
    }
   ],
   "source": [
    "# построим график распределения кол-ва событий в группах по дням.\n",
    "plt.figure(figsize=(15,5))\n",
    "sns.histplot(data=users_events_rec, x='event_dt', bins=40, kde=True, hue='group', multiple='stack')\n",
    "plt.xlabel('Дата', fontsize=12)\n",
    "plt.ylabel('Кол-во событий', fontsize=12)\n",
    "plt.title ('Распределение кол-ва событий в группах по дням', fontsize=14)\n",
    "plt.grid()\n",
    "plt.show()"
   ]
  },
  {
   "cell_type": "markdown",
   "metadata": {},
   "source": [
    "- Резкий всплеск в группе А по событиям пользователей с 14 декабря;\n",
    "- Кол-во событий в группе А возрастает к 21 декабря. В группе B так же наблюдается рост, но более умеренный;\n",
    "- Пик активности группы А и B - 21 декабря;\n",
    "- После своих пиков активности, c 22 декабря наблюдается снижение событий в обеих группах;\n",
    "- Рост активности объясняется кануном новогодних празников, в частности Рождеством по григорианскому календарю."
   ]
  },
  {
   "cell_type": "markdown",
   "metadata": {},
   "source": [
    "### Конверсия в воронке в выборках на разных этапах. ###"
   ]
  },
  {
   "cell_type": "code",
   "execution_count": 34,
   "metadata": {},
   "outputs": [
    {
     "data": {
      "text/plain": [
       "group\n",
       "A    2604\n",
       "B     877\n",
       "Name: user_id, dtype: int64"
      ]
     },
     "execution_count": 34,
     "metadata": {},
     "output_type": "execute_result"
    }
   ],
   "source": [
    "# посмотрим кол-во пользователей в каждой группе.\n",
    "users_events_rec.groupby('group')['user_id'].nunique()"
   ]
  },
  {
   "cell_type": "code",
   "execution_count": 35,
   "metadata": {},
   "outputs": [
    {
     "data": {
      "text/html": [
       "<div>\n",
       "<style scoped>\n",
       "    .dataframe tbody tr th:only-of-type {\n",
       "        vertical-align: middle;\n",
       "    }\n",
       "\n",
       "    .dataframe tbody tr th {\n",
       "        vertical-align: top;\n",
       "    }\n",
       "\n",
       "    .dataframe thead th {\n",
       "        text-align: right;\n",
       "    }\n",
       "</style>\n",
       "<table border=\"1\" class=\"dataframe\">\n",
       "  <thead>\n",
       "    <tr style=\"text-align: right;\">\n",
       "      <th>group</th>\n",
       "      <th>event_name</th>\n",
       "      <th>A</th>\n",
       "      <th>B</th>\n",
       "    </tr>\n",
       "  </thead>\n",
       "  <tbody>\n",
       "    <tr>\n",
       "      <th>0</th>\n",
       "      <td>login</td>\n",
       "      <td>2604</td>\n",
       "      <td>876</td>\n",
       "    </tr>\n",
       "    <tr>\n",
       "      <th>1</th>\n",
       "      <td>product_page</td>\n",
       "      <td>1685</td>\n",
       "      <td>493</td>\n",
       "    </tr>\n",
       "    <tr>\n",
       "      <th>2</th>\n",
       "      <td>product_cart</td>\n",
       "      <td>782</td>\n",
       "      <td>244</td>\n",
       "    </tr>\n",
       "    <tr>\n",
       "      <th>3</th>\n",
       "      <td>purchase</td>\n",
       "      <td>833</td>\n",
       "      <td>249</td>\n",
       "    </tr>\n",
       "  </tbody>\n",
       "</table>\n",
       "</div>"
      ],
      "text/plain": [
       "group    event_name     A    B\n",
       "0             login  2604  876\n",
       "1      product_page  1685  493\n",
       "2      product_cart   782  244\n",
       "3          purchase   833  249"
      ]
     },
     "execution_count": 35,
     "metadata": {},
     "output_type": "execute_result"
    }
   ],
   "source": [
    "# построим таблицу с количеством пользователей каждой группы и разобъем её на шаги воронки.\n",
    "funnel_events = users_events_rec.pivot_table(index='event_name', columns='group', values='user_id', aggfunc='nunique')\\\n",
    "                             .reindex(['login', 'product_page', 'product_cart', 'purchase'])\\\n",
    "                             .reset_index()\n",
    "funnel_events"
   ]
  },
  {
   "cell_type": "code",
   "execution_count": 36,
   "metadata": {},
   "outputs": [
    {
     "data": {
      "image/png": "[encoded data removed]"
     },
     "metadata": {},
     "output_type": "display_data"
    }
   ],
   "source": [
    "# построим графическую воронку продаж по группам А и B. \n",
    "fig = go.Figure()\n",
    "fig.add_trace(go.Funnel(\n",
    "    name='Group A',\n",
    "    y = funnel_events['event_name'],\n",
    "    x = funnel_events['A'],\n",
    "    textposition = 'inside',\n",
    "    textinfo = 'value+percent previous+percent initial'\n",
    "    ))\n",
    "fig.add_trace(go.Funnel(\n",
    "    name='Group B',\n",
    "    y = funnel_events['event_name'],\n",
    "    x = funnel_events['B'],\n",
    "    textposition = 'auto',\n",
    "    textinfo = 'value+percent previous+percent initial'\n",
    "    )) \n",
    "fig.update_layout(title_text='Воронка по группам А/В')\n",
    "fig.show(renderer='png', width=1200, height=500)"
   ]
  },
  {
   "cell_type": "code",
   "execution_count": 37,
   "metadata": {},
   "outputs": [
    {
     "name": "stdout",
     "output_type": "stream",
     "text": [
      "в группе A: 22.16\n",
      "в группе B: 16.27\n"
     ]
    }
   ],
   "source": [
    "# посчитаем среднюю выручку по группам.\n",
    "print('в группе A:', round(users_events_rec.query('group==\"A\"')['details'].sum()\n",
    "                    / users_events_rec.query('group==\"A\"')['user_id'].nunique(), 2))\n",
    "print('в группе B:', round(users_events_rec.query('group==\"B\"')['details'].sum()\n",
    "                    / users_events_rec.query('group==\"B\"')['user_id'].nunique(), 2))"
   ]
  },
  {
   "cell_type": "markdown",
   "metadata": {},
   "source": [
    "<span style='color:#00541F'><b>ВЫВОД ПО РАЗДЕЛУ:</b></span><br>\n",
    "- Среднее кол-во действий совершаемых пользователем группы A оказалось выше на 1, чем показатель группы B;\n",
    "- На графике распределения кол-ва событий в группах по дням, можно заметить резкий рост активности группы А с <b>2020-12-14</b> по <b>2020-12-21</b>, затем С <b>2020-12-22</b> начинается планомерное снижение.<br>Данная предновогодняя активность является причиной серьезных искажений результатов.;\n",
    "- Кол-во участников обеих тестируемых групп значительно ниже(<b>3481</b>), чем заявлено в техническом задании(<b>6000</b>);\n",
    "- Распределение кол-ва участников по тестируемым группам сильно различается. Группа А - <b>2604</b>, группа B - <b>877</b>. Допустимая погрешность в  1%;\n",
    "- Согласно ТЗ, ожидаемое улучшения конверсии группы B не менее, чем на 10% не состоялось. Показатели конверсии группы А значительно лучше, чем у конверсии группы B:\n",
    "    - Просмотр карточек товаров - событие (*product_page*) - группа <b>А - 65%</b>, группа <b>B - 56%</b>;\n",
    "    - Просмотр коризины (*product_cart*) - группа <b>А - 46%</b>, группа <b>B - 49%</b>;\n",
    "    - Покупки (*purchase*) - группа <b>А - 107%</b>, группа <b>B - 102%</b>.\n",
    "- До этапа покупки дошли <b>32%</b> группы А и <b>28%</b> группы B;\n",
    "- Выручка группы А - <b>22.61</b>, группы B - <b>16.83</b>."
   ]
  },
  {
   "cell_type": "markdown",
   "metadata": {},
   "source": [
    "## Оценка результатов A/B-тестирования. ##"
   ]
  },
  {
   "cell_type": "markdown",
   "metadata": {},
   "source": [
    "### Анализ результатов A/B-тестирования. ###"
   ]
  },
  {
   "cell_type": "markdown",
   "metadata": {},
   "source": [
    "Ряд условий технического задания не были выполнены, следовательно А/В тест можно считаться несостоявшимся.\n",
    "- По условию ТЗ Дата остановки - 2021-01-04, в наличии до 2020-12-30. Не хватает 5 дней;\n",
    "- Ожидаемое кол-во участников тестируемых групп - 6000, в наличии 3481;\n",
    "- Увеличение конверсии каждого шага воронки на 10% не было достигнуто;\n",
    "- Контрольная группа А практически в 3 раза больше тестовой группы В. Подобное распределение искажает результаты;\n",
    "- Присутствуют пересечения с маркетинговыми событиями в период предновогодних распродаж, что так же повлияет на результат."
   ]
  },
  {
   "cell_type": "markdown",
   "metadata": {},
   "source": [
    "### Проверка статистической разницы долей z-критерием. ###"
   ]
  },
  {
   "cell_type": "markdown",
   "metadata": {},
   "source": [
    "Сформулируем гипотезы:\n",
    "\n",
    "H0: Конверсии тестируемых групп A и B равны.<br>\n",
    "Н1: Конверсии тестируемых групп A и B не равны.\n",
    "\n",
    "Проверим статистическую разницу долей z-критерием.\n",
    "Определим критический уровень статистической значимости alpha = 0.5."
   ]
  },
  {
   "cell_type": "code",
   "execution_count": 38,
   "metadata": {},
   "outputs": [],
   "source": [
    "# определим функцию для проверки гипотез.\n",
    "def z_test(first_group, second_group, alpha_value):\n",
    "    alpha = alpha_value\n",
    "    event_name = funnel_events['event_name']\n",
    "    \n",
    "    for i in range(1,len(first_group)):\n",
    "        successes = np.array([first_group[i], second_group[i]])\n",
    "        trials = np.array([first_group[0], second_group[0]])\n",
    "       \n",
    "        # пропорция успехов в 1 группе.\n",
    "        p1 = successes[0] / trials[0]  \n",
    "        # пропорция успехов во 2 группе.\n",
    "        p2 = successes[1] / trials[1]  \n",
    "        \n",
    "        # пропорция успехов в комбинированном датасете.\n",
    "        p_combined = (successes[0] + successes[1]) / (trials[0] + trials[1]) \n",
    "        # разница пропорций в датасетах\n",
    "        difference = p1 - p2  \n",
    "        \n",
    "        # считаем статистику в ст.отклонениях стандартного нормального распределения.\n",
    "        z_value = difference / mth.sqrt(p_combined * (1 - p_combined) * (1/trials[0] + 1/trials[1]))\n",
    "        \n",
    "        # задаем стандартное нормальное распределение (среднее 0, ст.отклонение 1).\n",
    "        distr = st.norm(0, 1)  \n",
    "        p_value = (1 - distr.cdf(abs(z_value))) * 2\n",
    "        \n",
    "        # введём поправку Бонферрони.\n",
    "        bonferroni_alpha = alpha / 3\n",
    "    \n",
    "        print('Событие:', event_name[i])\n",
    "        print('p-value =', p_value.round(3))\n",
    "        if (p_value < bonferroni_alpha):\n",
    "            print('Отвергаем нулевую гипотезу о равенстве конверсии в тестируемых группах')\n",
    "        else:\n",
    "            print('Не получилось отвергнуть нулевую гипотезу о равенстве конверсии в тестируемых группах') \n",
    "            \n",
    "        print('')"
   ]
  },
  {
   "cell_type": "code",
   "execution_count": 39,
   "metadata": {},
   "outputs": [
    {
     "name": "stdout",
     "output_type": "stream",
     "text": [
      "Событие: product_page\n",
      "p-value = 0.0\n",
      "Отвергаем нулевую гипотезу о равенстве конверсии в тестируемых группах\n",
      "\n",
      "Событие: product_cart\n",
      "p-value = 0.222\n",
      "Не получилось отвергнуть нулевую гипотезу о равенстве конверсии в тестируемых группах\n",
      "\n",
      "Событие: purchase\n",
      "p-value = 0.049\n",
      "Не получилось отвергнуть нулевую гипотезу о равенстве конверсии в тестируемых группах\n",
      "\n"
     ]
    }
   ],
   "source": [
    "# применение функции.\n",
    "z_test(funnel_events['A'], funnel_events['B'], 0.05)"
   ]
  },
  {
   "cell_type": "markdown",
   "metadata": {},
   "source": [
    "<span style='color:#00541F'><b>ВЫВОД ПО РАЗДЕЛУ:</b></span><br>\n",
    "- Результаты статистического теста показали что, значимое различие между группами <b>А</b> и <b>В</b> присутствует в шаге воронки <b>product_page</b> - *просмотр карточки товара*;\n",
    "- По остальным событиям (<b>product_cart</b> - *просмотр корзины*, <b>purchase</b> - *покупки*) нулевую гипотезу отвергнуть не получилось."
   ]
  },
  {
   "cell_type": "markdown",
   "metadata": {},
   "source": [
    "## Общий вывод. ##"
   ]
  },
  {
   "cell_type": "markdown",
   "metadata": {},
   "source": [
    "В ходе анализа теста recommender_system_test сделаем следующие выводы:\n",
    "\n",
    "<b>По результату исследовательского анализа данных:</b>\n",
    "- Дата запуска и дата остановки набора новых пользователей - корректны;\n",
    "- Дата остановки: <b>2020-12-30</b>, требуется <b>2021-01-04</b>.\n",
    "- В наличии данные за период размером <b>23</b> дня;\n",
    "- Было обнаружено <b>1</b> маркетинговое событие, которое непосредственно имеет влияние на поведение пользователей;\n",
    "- В двух конкурирующих тестах участвуют одновременно  <b>1602</b> пользователя;\n",
    "- Доля пользователей EU задействованных в тесте, от общего кол-ва пользователей EU - <b>15 %</b>;\n",
    "- Количество участников теста <b>6701</b>, на <b>701</b> больше ожидаемого;\n",
    "- Тестовые группы распределены не равномерно. Группа «A» - <b>57 %</b>, группа «B» - <b>43 %</b>. \n",
    "\n",
    "<b>По оценке результатов A/B - тестирования:</b>\n",
    "- По условию ТЗ Дата остановки - <b>2021-01-04</b>, в наличии до <b>2020-12-30</b>. Не хватает 5 дней;\n",
    "- Ожидаемое кол-во участников тестируемых групп - <b>6000</b>, в наличии <b>3481</b>;\n",
    "- Увеличение конверсии каждого шага воронки на <b>10%</b> в течении 14 дней не было достигнуто;\n",
    "- Контрольная группа А практически в <b>3</b> раза больше тестовой группы В. Подобное распределение искажает результаты;\n",
    "- Присутствуют пересечения с маркетинговыми событиями в период предновогодних распродаж, что так же повлияет на результат;\n",
    "- Результаты статистического теста показали что, значимая разница между группами <b>А</b> и <b>В</b> присутствует в шаге воронки <b>product_page</b> - *просмотр карточки товара*.\n",
    "\n",
    "Тестирование проведено некорректно, с многочисленными нарушениями, результаты не стоит рассматривать как окончательные.<br> Рекомендуется провести повторное тестирование, в соответсвии с техническим заданием соблюдая методологию.\n",
    "\n",
    "<b>Критерии успешного A/B-теста:</b>\n",
    "- Количество пользователей в различных группах различается не более, чем на 1% или 0.5%\n",
    "\n",
    "- Выдерженна запланированная длительность эксперимента. Рекомендованная длительность проведения теста не менее 2 недель\n",
    "\n",
    "- Желательно, чтобы проведение теста не пересекалось с проведением других тестов. Особенно конкурирующего теста\n",
    "\n",
    "- В анализ включены только те пользователи, которые могли быть затронуты тестируемыми изменениями\n",
    "\n",
    "- Для всех групп фиксируются и отправляются в системы аналитики данные об одном и том же\n",
    "\n",
    "- Различие ключевых метрик по группам не превышает 1% и не имеет статистической значимости\n",
    "\n",
    "- Попавший в одну из групп пользователь остаётся в этой группе до конца теста. Если пользователь видит разные версии исследуемой страницы в ходе одного исследования, неизвестно, какая именно повлияла на его решения. Значит, и результаты такого теста нельзя интерпретировать однозначно\n",
    "\n",
    "- Нельзя \"добирать\" выборки, чтобы получить значимый результат тестирования\n",
    "\n",
    "- Нельзя \"подглядывать\" за результатами теста, не дожидаясь минимальной длительности теста и стабилизации метрик"
   ]
  }
 ],
 "metadata": {
  "ExecuteTimeLog": [
   {
    "duration": 416,
    "start_time": "2023-03-01T08:54:38.005Z"
   },
   {
    "duration": 1058,
    "start_time": "2023-03-01T08:54:38.423Z"
   },
   {
    "duration": 5,
    "start_time": "2023-03-01T08:54:39.483Z"
   },
   {
    "duration": 530,
    "start_time": "2023-03-01T08:54:39.490Z"
   },
   {
    "duration": 127,
    "start_time": "2023-03-01T08:54:40.021Z"
   },
   {
    "duration": 84,
    "start_time": "2023-03-01T08:54:40.150Z"
   },
   {
    "duration": 10,
    "start_time": "2023-03-01T09:26:54.910Z"
   },
   {
    "duration": 5,
    "start_time": "2023-03-01T09:28:17.960Z"
   },
   {
    "duration": 66,
    "start_time": "2023-03-01T09:28:25.107Z"
   },
   {
    "duration": 2,
    "start_time": "2023-03-01T09:28:38.010Z"
   },
   {
    "duration": 10,
    "start_time": "2023-03-01T09:28:44.001Z"
   },
   {
    "duration": 7,
    "start_time": "2023-03-01T09:28:58.971Z"
   },
   {
    "duration": 6,
    "start_time": "2023-03-01T09:30:50.017Z"
   },
   {
    "duration": 8,
    "start_time": "2023-03-01T09:36:01.684Z"
   },
   {
    "duration": 11,
    "start_time": "2023-03-01T09:36:06.008Z"
   },
   {
    "duration": 6,
    "start_time": "2023-03-01T09:36:45.292Z"
   },
   {
    "duration": 5,
    "start_time": "2023-03-01T09:39:13.865Z"
   },
   {
    "duration": 7,
    "start_time": "2023-03-01T09:48:04.376Z"
   },
   {
    "duration": 6,
    "start_time": "2023-03-01T09:48:05.486Z"
   },
   {
    "duration": 12,
    "start_time": "2023-03-01T09:48:46.111Z"
   },
   {
    "duration": 5,
    "start_time": "2023-03-01T09:50:27.998Z"
   },
   {
    "duration": 4,
    "start_time": "2023-03-01T09:50:49.222Z"
   },
   {
    "duration": 8,
    "start_time": "2023-03-01T10:04:36.435Z"
   },
   {
    "duration": 5,
    "start_time": "2023-03-01T10:19:13.562Z"
   },
   {
    "duration": 11,
    "start_time": "2023-03-01T10:19:18.237Z"
   },
   {
    "duration": 10,
    "start_time": "2023-03-01T10:21:19.310Z"
   },
   {
    "duration": 18,
    "start_time": "2023-03-01T10:21:24.202Z"
   },
   {
    "duration": 9,
    "start_time": "2023-03-01T10:32:35.768Z"
   },
   {
    "duration": 5,
    "start_time": "2023-03-01T10:32:43.819Z"
   },
   {
    "duration": 10,
    "start_time": "2023-03-01T10:32:58.375Z"
   },
   {
    "duration": 9,
    "start_time": "2023-03-01T10:43:40.971Z"
   },
   {
    "duration": 17,
    "start_time": "2023-03-01T10:44:07.210Z"
   },
   {
    "duration": 6,
    "start_time": "2023-03-01T10:44:17.863Z"
   },
   {
    "duration": 6,
    "start_time": "2023-03-01T10:44:33.283Z"
   },
   {
    "duration": 449,
    "start_time": "2023-03-01T11:47:18.877Z"
   },
   {
    "duration": 1082,
    "start_time": "2023-03-01T11:47:19.328Z"
   },
   {
    "duration": 4,
    "start_time": "2023-03-01T11:47:20.412Z"
   },
   {
    "duration": 487,
    "start_time": "2023-03-01T11:47:20.418Z"
   },
   {
    "duration": 119,
    "start_time": "2023-03-01T11:47:20.907Z"
   },
   {
    "duration": 83,
    "start_time": "2023-03-01T11:47:21.028Z"
   },
   {
    "duration": 7,
    "start_time": "2023-03-01T11:47:21.112Z"
   },
   {
    "duration": 13,
    "start_time": "2023-03-01T11:47:21.121Z"
   },
   {
    "duration": 15,
    "start_time": "2023-03-01T11:47:21.136Z"
   },
   {
    "duration": 9,
    "start_time": "2023-03-01T11:47:21.154Z"
   },
   {
    "duration": 10,
    "start_time": "2023-03-01T11:47:21.165Z"
   },
   {
    "duration": 9,
    "start_time": "2023-03-01T11:47:21.177Z"
   },
   {
    "duration": 9,
    "start_time": "2023-03-01T11:47:21.204Z"
   },
   {
    "duration": 7,
    "start_time": "2023-03-01T11:50:12.909Z"
   },
   {
    "duration": 5,
    "start_time": "2023-03-01T11:58:03.491Z"
   },
   {
    "duration": 95,
    "start_time": "2023-03-01T12:02:04.316Z"
   },
   {
    "duration": 5,
    "start_time": "2023-03-01T12:02:14.939Z"
   },
   {
    "duration": 10,
    "start_time": "2023-03-01T12:02:24.230Z"
   },
   {
    "duration": 7,
    "start_time": "2023-03-01T12:03:04.558Z"
   },
   {
    "duration": 5,
    "start_time": "2023-03-01T12:03:10.553Z"
   },
   {
    "duration": 8,
    "start_time": "2023-03-01T12:04:11.788Z"
   },
   {
    "duration": 13,
    "start_time": "2023-03-01T12:04:14.723Z"
   },
   {
    "duration": 6,
    "start_time": "2023-03-01T12:04:27.610Z"
   },
   {
    "duration": 9,
    "start_time": "2023-03-01T12:04:33.188Z"
   },
   {
    "duration": 12,
    "start_time": "2023-03-01T12:04:41.148Z"
   },
   {
    "duration": 7,
    "start_time": "2023-03-01T12:04:46.965Z"
   },
   {
    "duration": 6,
    "start_time": "2023-03-01T12:04:51.573Z"
   },
   {
    "duration": 10,
    "start_time": "2023-03-01T12:05:23.437Z"
   },
   {
    "duration": 4,
    "start_time": "2023-03-01T12:05:48.568Z"
   },
   {
    "duration": 16,
    "start_time": "2023-03-01T12:07:48.145Z"
   },
   {
    "duration": 6,
    "start_time": "2023-03-01T12:08:14.209Z"
   },
   {
    "duration": 5,
    "start_time": "2023-03-01T12:08:25.740Z"
   },
   {
    "duration": 6,
    "start_time": "2023-03-01T12:14:12.901Z"
   },
   {
    "duration": 7,
    "start_time": "2023-03-01T12:16:35.612Z"
   },
   {
    "duration": 9,
    "start_time": "2023-03-01T12:19:39.127Z"
   },
   {
    "duration": 391,
    "start_time": "2023-03-01T12:27:28.848Z"
   },
   {
    "duration": 1001,
    "start_time": "2023-03-01T12:27:29.241Z"
   },
   {
    "duration": 3,
    "start_time": "2023-03-01T12:27:30.244Z"
   },
   {
    "duration": 516,
    "start_time": "2023-03-01T12:27:30.250Z"
   },
   {
    "duration": 131,
    "start_time": "2023-03-01T12:27:30.768Z"
   },
   {
    "duration": 78,
    "start_time": "2023-03-01T12:27:30.901Z"
   },
   {
    "duration": 5,
    "start_time": "2023-03-01T12:27:30.981Z"
   },
   {
    "duration": 43,
    "start_time": "2023-03-01T12:27:30.988Z"
   },
   {
    "duration": 53,
    "start_time": "2023-03-01T12:27:31.034Z"
   },
   {
    "duration": 15,
    "start_time": "2023-03-01T12:28:16.175Z"
   },
   {
    "duration": 7,
    "start_time": "2023-03-01T12:28:35.084Z"
   },
   {
    "duration": 12,
    "start_time": "2023-03-01T12:28:45.542Z"
   },
   {
    "duration": 14,
    "start_time": "2023-03-01T12:29:04.840Z"
   },
   {
    "duration": 5,
    "start_time": "2023-03-01T12:29:14.391Z"
   },
   {
    "duration": 7,
    "start_time": "2023-03-01T12:30:32.636Z"
   },
   {
    "duration": 1207,
    "start_time": "2023-03-01T12:31:58.806Z"
   },
   {
    "duration": 11,
    "start_time": "2023-03-01T12:32:12.246Z"
   },
   {
    "duration": 16,
    "start_time": "2023-03-01T12:32:18.031Z"
   },
   {
    "duration": 43,
    "start_time": "2023-03-01T12:33:07.262Z"
   },
   {
    "duration": 11,
    "start_time": "2023-03-01T12:33:13.654Z"
   },
   {
    "duration": 22,
    "start_time": "2023-03-01T12:33:16.910Z"
   },
   {
    "duration": 63,
    "start_time": "2023-03-01T12:33:56.601Z"
   },
   {
    "duration": 1300,
    "start_time": "2023-03-01T12:34:21.036Z"
   },
   {
    "duration": 1187,
    "start_time": "2023-03-01T12:34:58.562Z"
   },
   {
    "duration": 46,
    "start_time": "2023-03-01T12:35:07.412Z"
   },
   {
    "duration": 8,
    "start_time": "2023-03-01T12:35:08.327Z"
   },
   {
    "duration": 13,
    "start_time": "2023-03-01T12:35:18.738Z"
   },
   {
    "duration": 6,
    "start_time": "2023-03-01T12:36:15.736Z"
   },
   {
    "duration": 8,
    "start_time": "2023-03-01T12:36:25.364Z"
   },
   {
    "duration": 73,
    "start_time": "2023-03-01T12:37:41.075Z"
   },
   {
    "duration": 13,
    "start_time": "2023-03-01T12:37:53.206Z"
   },
   {
    "duration": 23,
    "start_time": "2023-03-01T12:38:07.608Z"
   },
   {
    "duration": 23,
    "start_time": "2023-03-01T12:39:01.126Z"
   },
   {
    "duration": 15,
    "start_time": "2023-03-01T12:55:11.291Z"
   },
   {
    "duration": 6,
    "start_time": "2023-03-01T12:59:32.561Z"
   },
   {
    "duration": 7,
    "start_time": "2023-03-01T12:59:38.021Z"
   },
   {
    "duration": 7,
    "start_time": "2023-03-01T12:59:40.241Z"
   },
   {
    "duration": 10,
    "start_time": "2023-03-01T12:59:41.456Z"
   },
   {
    "duration": 78,
    "start_time": "2023-03-01T13:00:46.685Z"
   },
   {
    "duration": 25,
    "start_time": "2023-03-01T13:00:49.854Z"
   },
   {
    "duration": 101,
    "start_time": "2023-03-01T13:01:35.939Z"
   },
   {
    "duration": 27,
    "start_time": "2023-03-01T13:01:36.615Z"
   },
   {
    "duration": 577,
    "start_time": "2023-03-01T13:01:53.988Z"
   },
   {
    "duration": 1062,
    "start_time": "2023-03-01T13:01:54.567Z"
   },
   {
    "duration": 4,
    "start_time": "2023-03-01T13:01:55.631Z"
   },
   {
    "duration": 481,
    "start_time": "2023-03-01T13:01:55.637Z"
   },
   {
    "duration": 118,
    "start_time": "2023-03-01T13:01:56.120Z"
   },
   {
    "duration": 86,
    "start_time": "2023-03-01T13:01:56.239Z"
   },
   {
    "duration": 6,
    "start_time": "2023-03-01T13:01:56.327Z"
   },
   {
    "duration": 10,
    "start_time": "2023-03-01T13:01:56.335Z"
   },
   {
    "duration": 9,
    "start_time": "2023-03-01T13:01:56.347Z"
   },
   {
    "duration": 8,
    "start_time": "2023-03-01T13:01:56.359Z"
   },
   {
    "duration": 41,
    "start_time": "2023-03-01T13:01:56.370Z"
   },
   {
    "duration": 15,
    "start_time": "2023-03-01T13:03:29.751Z"
   },
   {
    "duration": 12,
    "start_time": "2023-03-01T13:03:57.411Z"
   },
   {
    "duration": 44,
    "start_time": "2023-03-01T13:05:11.052Z"
   },
   {
    "duration": 22,
    "start_time": "2023-03-01T13:05:23.969Z"
   },
   {
    "duration": 28,
    "start_time": "2023-03-01T13:06:35.417Z"
   },
   {
    "duration": 15,
    "start_time": "2023-03-01T13:07:05.625Z"
   },
   {
    "duration": 10,
    "start_time": "2023-03-01T13:07:20.966Z"
   },
   {
    "duration": 382,
    "start_time": "2023-03-01T17:58:46.958Z"
   },
   {
    "duration": 1159,
    "start_time": "2023-03-01T17:58:47.342Z"
   },
   {
    "duration": 5,
    "start_time": "2023-03-01T17:58:48.502Z"
   },
   {
    "duration": 458,
    "start_time": "2023-03-01T17:58:48.509Z"
   },
   {
    "duration": 126,
    "start_time": "2023-03-01T17:58:48.968Z"
   },
   {
    "duration": 77,
    "start_time": "2023-03-01T17:58:49.096Z"
   },
   {
    "duration": 59,
    "start_time": "2023-03-01T18:06:30.399Z"
   },
   {
    "duration": 33,
    "start_time": "2023-03-01T18:06:38.829Z"
   },
   {
    "duration": 14,
    "start_time": "2023-03-01T18:06:43.904Z"
   },
   {
    "duration": 185,
    "start_time": "2023-03-01T18:07:42.160Z"
   },
   {
    "duration": 17,
    "start_time": "2023-03-01T18:07:42.931Z"
   },
   {
    "duration": 116,
    "start_time": "2023-03-01T18:10:18.055Z"
   },
   {
    "duration": 19,
    "start_time": "2023-03-01T18:10:22.938Z"
   },
   {
    "duration": 396,
    "start_time": "2023-03-01T18:16:52.212Z"
   },
   {
    "duration": 1015,
    "start_time": "2023-03-01T18:16:53.154Z"
   },
   {
    "duration": 3,
    "start_time": "2023-03-01T18:16:54.550Z"
   },
   {
    "duration": 455,
    "start_time": "2023-03-01T18:16:56.495Z"
   },
   {
    "duration": 115,
    "start_time": "2023-03-01T18:17:12.595Z"
   },
   {
    "duration": 72,
    "start_time": "2023-03-01T18:17:13.321Z"
   },
   {
    "duration": 10,
    "start_time": "2023-03-01T18:17:37.462Z"
   },
   {
    "duration": 7,
    "start_time": "2023-03-01T18:18:09.617Z"
   },
   {
    "duration": 11,
    "start_time": "2023-03-01T18:18:26.605Z"
   },
   {
    "duration": 9,
    "start_time": "2023-03-01T18:18:38.582Z"
   },
   {
    "duration": 19,
    "start_time": "2023-03-01T18:19:19.239Z"
   },
   {
    "duration": 13,
    "start_time": "2023-03-01T18:19:30.275Z"
   },
   {
    "duration": 5,
    "start_time": "2023-03-01T18:19:42.412Z"
   },
   {
    "duration": 5,
    "start_time": "2023-03-01T18:19:48.331Z"
   },
   {
    "duration": 5,
    "start_time": "2023-03-01T18:20:42.211Z"
   },
   {
    "duration": 4,
    "start_time": "2023-03-01T18:23:00.296Z"
   },
   {
    "duration": 1238,
    "start_time": "2023-03-01T18:23:25.103Z"
   },
   {
    "duration": 14,
    "start_time": "2023-03-01T18:23:35.381Z"
   },
   {
    "duration": 6,
    "start_time": "2023-03-01T18:23:46.731Z"
   },
   {
    "duration": 7,
    "start_time": "2023-03-01T18:26:27.509Z"
   },
   {
    "duration": 13,
    "start_time": "2023-03-01T18:27:07.397Z"
   },
   {
    "duration": 8,
    "start_time": "2023-03-01T18:27:47.484Z"
   },
   {
    "duration": 12,
    "start_time": "2023-03-01T18:27:51.281Z"
   },
   {
    "duration": 33,
    "start_time": "2023-03-01T18:28:37.334Z"
   },
   {
    "duration": 9,
    "start_time": "2023-03-01T18:28:57.863Z"
   },
   {
    "duration": 264,
    "start_time": "2023-03-01T18:39:45.862Z"
   },
   {
    "duration": 139,
    "start_time": "2023-03-01T18:39:46.643Z"
   },
   {
    "duration": 21,
    "start_time": "2023-03-01T18:39:47.197Z"
   },
   {
    "duration": 40,
    "start_time": "2023-03-01T18:40:05.784Z"
   },
   {
    "duration": 28,
    "start_time": "2023-03-01T18:41:44.461Z"
   },
   {
    "duration": 68,
    "start_time": "2023-03-01T18:47:39.983Z"
   },
   {
    "duration": 71,
    "start_time": "2023-03-01T18:47:55.795Z"
   },
   {
    "duration": 66,
    "start_time": "2023-03-01T18:48:05.146Z"
   },
   {
    "duration": 68,
    "start_time": "2023-03-01T18:48:11.113Z"
   },
   {
    "duration": 58,
    "start_time": "2023-03-01T18:48:18.747Z"
   },
   {
    "duration": 18,
    "start_time": "2023-03-01T18:48:25.197Z"
   },
   {
    "duration": 14,
    "start_time": "2023-03-01T18:48:40.568Z"
   },
   {
    "duration": 18,
    "start_time": "2023-03-01T18:55:45.302Z"
   },
   {
    "duration": 5,
    "start_time": "2023-03-01T18:56:05.447Z"
   },
   {
    "duration": 10,
    "start_time": "2023-03-01T18:56:11.529Z"
   },
   {
    "duration": 19,
    "start_time": "2023-03-01T18:59:46.647Z"
   },
   {
    "duration": 55,
    "start_time": "2023-03-01T19:01:32.983Z"
   },
   {
    "duration": 21,
    "start_time": "2023-03-01T19:07:03.266Z"
   },
   {
    "duration": 21,
    "start_time": "2023-03-01T19:09:21.561Z"
   },
   {
    "duration": 16,
    "start_time": "2023-03-01T19:10:04.924Z"
   },
   {
    "duration": 20,
    "start_time": "2023-03-01T19:10:12.797Z"
   },
   {
    "duration": 11,
    "start_time": "2023-03-01T19:12:53.727Z"
   },
   {
    "duration": 389,
    "start_time": "2023-03-01T21:45:23.208Z"
   },
   {
    "duration": 1124,
    "start_time": "2023-03-01T21:45:23.599Z"
   },
   {
    "duration": 3,
    "start_time": "2023-03-01T21:45:24.724Z"
   },
   {
    "duration": 395,
    "start_time": "2023-03-01T21:45:24.729Z"
   },
   {
    "duration": 123,
    "start_time": "2023-03-01T21:45:25.125Z"
   },
   {
    "duration": 77,
    "start_time": "2023-03-01T21:45:25.249Z"
   },
   {
    "duration": 79,
    "start_time": "2023-03-01T21:45:25.328Z"
   },
   {
    "duration": 10,
    "start_time": "2023-03-01T21:45:33.099Z"
   },
   {
    "duration": 8,
    "start_time": "2023-03-01T21:45:46.631Z"
   },
   {
    "duration": 4,
    "start_time": "2023-03-01T21:46:49.113Z"
   },
   {
    "duration": 6,
    "start_time": "2023-03-01T21:47:08.155Z"
   },
   {
    "duration": 4,
    "start_time": "2023-03-01T21:47:12.101Z"
   },
   {
    "duration": 7,
    "start_time": "2023-03-01T21:50:59.810Z"
   },
   {
    "duration": 6,
    "start_time": "2023-03-01T21:51:18.012Z"
   },
   {
    "duration": 5,
    "start_time": "2023-03-01T21:55:00.707Z"
   },
   {
    "duration": 5,
    "start_time": "2023-03-01T21:55:08.473Z"
   },
   {
    "duration": 4,
    "start_time": "2023-03-01T21:57:25.522Z"
   },
   {
    "duration": 6,
    "start_time": "2023-03-01T21:58:06.707Z"
   },
   {
    "duration": 5,
    "start_time": "2023-03-01T21:59:38.969Z"
   },
   {
    "duration": 6,
    "start_time": "2023-03-01T22:04:37.665Z"
   },
   {
    "duration": 7,
    "start_time": "2023-03-01T22:05:24.228Z"
   },
   {
    "duration": 6,
    "start_time": "2023-03-01T22:05:50.756Z"
   },
   {
    "duration": 7,
    "start_time": "2023-03-01T22:06:35.347Z"
   },
   {
    "duration": 48,
    "start_time": "2023-03-01T22:08:13.563Z"
   },
   {
    "duration": 6,
    "start_time": "2023-03-01T22:13:31.072Z"
   },
   {
    "duration": 7,
    "start_time": "2023-03-01T22:13:38.322Z"
   },
   {
    "duration": 5,
    "start_time": "2023-03-01T22:13:42.457Z"
   },
   {
    "duration": 5,
    "start_time": "2023-03-01T22:15:06.401Z"
   },
   {
    "duration": 7,
    "start_time": "2023-03-01T22:15:18.874Z"
   },
   {
    "duration": 11,
    "start_time": "2023-03-01T22:15:24.451Z"
   },
   {
    "duration": 27,
    "start_time": "2023-03-01T22:22:54.962Z"
   },
   {
    "duration": 85,
    "start_time": "2023-03-01T22:23:27.272Z"
   },
   {
    "duration": 338,
    "start_time": "2023-03-01T22:23:31.051Z"
   },
   {
    "duration": 30,
    "start_time": "2023-03-01T22:24:15.768Z"
   },
   {
    "duration": 27,
    "start_time": "2023-03-01T22:24:30.815Z"
   },
   {
    "duration": 11,
    "start_time": "2023-03-01T22:27:59.188Z"
   },
   {
    "duration": 12,
    "start_time": "2023-03-01T22:28:23.480Z"
   },
   {
    "duration": 5,
    "start_time": "2023-03-01T22:29:22.869Z"
   },
   {
    "duration": 12,
    "start_time": "2023-03-01T22:29:33.676Z"
   },
   {
    "duration": 11,
    "start_time": "2023-03-01T22:30:36.885Z"
   },
   {
    "duration": 23,
    "start_time": "2023-03-01T22:32:31.360Z"
   },
   {
    "duration": 33,
    "start_time": "2023-03-01T22:32:37.820Z"
   },
   {
    "duration": 10,
    "start_time": "2023-03-01T22:33:02.449Z"
   },
   {
    "duration": 28,
    "start_time": "2023-03-01T22:33:08.828Z"
   },
   {
    "duration": 8,
    "start_time": "2023-03-01T22:36:05.005Z"
   },
   {
    "duration": 6,
    "start_time": "2023-03-01T22:36:12.296Z"
   },
   {
    "duration": 6,
    "start_time": "2023-03-01T22:36:23.349Z"
   },
   {
    "duration": 5,
    "start_time": "2023-03-01T22:36:29.343Z"
   },
   {
    "duration": 6,
    "start_time": "2023-03-01T22:36:37.101Z"
   },
   {
    "duration": 127,
    "start_time": "2023-03-01T22:38:34.286Z"
   },
   {
    "duration": 5,
    "start_time": "2023-03-01T22:38:39.632Z"
   },
   {
    "duration": 5,
    "start_time": "2023-03-01T22:38:46.988Z"
   },
   {
    "duration": 9,
    "start_time": "2023-03-01T22:39:17.933Z"
   },
   {
    "duration": 9,
    "start_time": "2023-03-01T22:40:27.909Z"
   },
   {
    "duration": 9,
    "start_time": "2023-03-01T22:40:55.029Z"
   },
   {
    "duration": 9,
    "start_time": "2023-03-01T22:44:00.333Z"
   },
   {
    "duration": 8,
    "start_time": "2023-03-01T22:44:11.292Z"
   },
   {
    "duration": 16,
    "start_time": "2023-03-01T22:44:52.617Z"
   },
   {
    "duration": 5,
    "start_time": "2023-03-01T22:44:59.483Z"
   },
   {
    "duration": 5,
    "start_time": "2023-03-01T22:45:10.358Z"
   },
   {
    "duration": 6,
    "start_time": "2023-03-01T22:45:17.447Z"
   },
   {
    "duration": 7,
    "start_time": "2023-03-01T22:45:31.397Z"
   },
   {
    "duration": 7,
    "start_time": "2023-03-01T22:45:38.398Z"
   },
   {
    "duration": 7,
    "start_time": "2023-03-01T22:45:41.064Z"
   },
   {
    "duration": 5,
    "start_time": "2023-03-01T22:46:19.107Z"
   },
   {
    "duration": 6,
    "start_time": "2023-03-01T22:48:49.251Z"
   },
   {
    "duration": 12,
    "start_time": "2023-03-01T22:48:49.949Z"
   },
   {
    "duration": 8,
    "start_time": "2023-03-01T22:48:50.262Z"
   },
   {
    "duration": 6,
    "start_time": "2023-03-01T22:50:34.235Z"
   },
   {
    "duration": 6,
    "start_time": "2023-03-01T22:50:42.950Z"
   },
   {
    "duration": 5,
    "start_time": "2023-03-01T22:52:31.070Z"
   },
   {
    "duration": 14,
    "start_time": "2023-03-01T22:53:27.818Z"
   },
   {
    "duration": 4,
    "start_time": "2023-03-01T22:53:37.848Z"
   },
   {
    "duration": 5,
    "start_time": "2023-03-01T22:53:42.430Z"
   },
   {
    "duration": 4,
    "start_time": "2023-03-01T23:01:44.079Z"
   },
   {
    "duration": 5,
    "start_time": "2023-03-01T23:01:48.568Z"
   },
   {
    "duration": 5,
    "start_time": "2023-03-01T23:02:46.289Z"
   },
   {
    "duration": 7,
    "start_time": "2023-03-01T23:02:57.526Z"
   },
   {
    "duration": 5,
    "start_time": "2023-03-01T23:03:05.417Z"
   },
   {
    "duration": 6,
    "start_time": "2023-03-01T23:03:43.441Z"
   },
   {
    "duration": 8,
    "start_time": "2023-03-01T23:24:00.495Z"
   },
   {
    "duration": 604,
    "start_time": "2023-03-01T23:24:05.023Z"
   },
   {
    "duration": 21,
    "start_time": "2023-03-01T23:24:22.105Z"
   },
   {
    "duration": 458,
    "start_time": "2023-03-01T23:25:25.080Z"
   },
   {
    "duration": 40,
    "start_time": "2023-03-01T23:25:31.759Z"
   },
   {
    "duration": 303,
    "start_time": "2023-03-01T23:26:12.039Z"
   },
   {
    "duration": 280,
    "start_time": "2023-03-01T23:26:33.830Z"
   },
   {
    "duration": 107,
    "start_time": "2023-03-01T23:27:00.862Z"
   },
   {
    "duration": 289,
    "start_time": "2023-03-01T23:29:03.361Z"
   },
   {
    "duration": 70,
    "start_time": "2023-03-01T23:29:29.023Z"
   },
   {
    "duration": 288,
    "start_time": "2023-03-01T23:29:32.444Z"
   },
   {
    "duration": 278,
    "start_time": "2023-03-01T23:29:38.048Z"
   },
   {
    "duration": 260,
    "start_time": "2023-03-01T23:30:38.928Z"
   },
   {
    "duration": 15,
    "start_time": "2023-03-01T23:33:07.259Z"
   },
   {
    "duration": 158,
    "start_time": "2023-03-01T23:34:03.595Z"
   },
   {
    "duration": 16,
    "start_time": "2023-03-01T23:34:13.950Z"
   },
   {
    "duration": 105,
    "start_time": "2023-03-01T23:34:32.014Z"
   },
   {
    "duration": 1353,
    "start_time": "2023-03-02T07:29:18.671Z"
   },
   {
    "duration": 1370,
    "start_time": "2023-03-02T07:29:20.026Z"
   },
   {
    "duration": 4,
    "start_time": "2023-03-02T07:29:21.398Z"
   },
   {
    "duration": 494,
    "start_time": "2023-03-02T07:29:21.404Z"
   },
   {
    "duration": 134,
    "start_time": "2023-03-02T07:29:21.901Z"
   },
   {
    "duration": 109,
    "start_time": "2023-03-02T07:29:22.037Z"
   },
   {
    "duration": 19,
    "start_time": "2023-03-02T07:29:22.148Z"
   },
   {
    "duration": 20,
    "start_time": "2023-03-02T07:29:22.170Z"
   },
   {
    "duration": 10,
    "start_time": "2023-03-02T07:29:22.193Z"
   },
   {
    "duration": 21,
    "start_time": "2023-03-02T07:29:22.205Z"
   },
   {
    "duration": 9,
    "start_time": "2023-03-02T07:29:22.228Z"
   },
   {
    "duration": 16,
    "start_time": "2023-03-02T07:29:22.238Z"
   },
   {
    "duration": 42,
    "start_time": "2023-03-02T07:29:22.258Z"
   },
   {
    "duration": 38,
    "start_time": "2023-03-02T07:29:22.303Z"
   },
   {
    "duration": 15,
    "start_time": "2023-03-02T07:29:22.343Z"
   },
   {
    "duration": 70,
    "start_time": "2023-03-02T07:29:22.359Z"
   },
   {
    "duration": 6,
    "start_time": "2023-03-02T07:29:22.430Z"
   },
   {
    "duration": 21,
    "start_time": "2023-03-02T07:29:22.438Z"
   },
   {
    "duration": 19,
    "start_time": "2023-03-02T07:29:22.460Z"
   },
   {
    "duration": 21,
    "start_time": "2023-03-02T07:29:22.482Z"
   },
   {
    "duration": 16,
    "start_time": "2023-03-02T07:39:27.881Z"
   },
   {
    "duration": 10,
    "start_time": "2023-03-02T07:41:34.381Z"
   },
   {
    "duration": 124,
    "start_time": "2023-03-02T07:42:56.264Z"
   },
   {
    "duration": 17,
    "start_time": "2023-03-02T07:42:59.883Z"
   },
   {
    "duration": 198,
    "start_time": "2023-03-02T07:46:01.911Z"
   },
   {
    "duration": 217,
    "start_time": "2023-03-02T07:46:32.424Z"
   },
   {
    "duration": 540,
    "start_time": "2023-03-02T07:48:01.669Z"
   },
   {
    "duration": 238,
    "start_time": "2023-03-02T07:54:34.848Z"
   },
   {
    "duration": 101,
    "start_time": "2023-03-02T07:56:06.895Z"
   },
   {
    "duration": 5,
    "start_time": "2023-03-02T07:56:15.062Z"
   },
   {
    "duration": 7,
    "start_time": "2023-03-02T07:56:22.697Z"
   },
   {
    "duration": 16,
    "start_time": "2023-03-02T07:58:54.442Z"
   },
   {
    "duration": 7,
    "start_time": "2023-03-02T07:59:01.711Z"
   },
   {
    "duration": 5,
    "start_time": "2023-03-02T07:59:58.466Z"
   },
   {
    "duration": 5,
    "start_time": "2023-03-02T08:00:10.031Z"
   },
   {
    "duration": 5,
    "start_time": "2023-03-02T08:00:17.473Z"
   },
   {
    "duration": 7,
    "start_time": "2023-03-02T08:00:53.602Z"
   },
   {
    "duration": 5,
    "start_time": "2023-03-02T08:01:01.788Z"
   },
   {
    "duration": 8,
    "start_time": "2023-03-02T08:01:09.100Z"
   },
   {
    "duration": 11,
    "start_time": "2023-03-02T08:03:32.088Z"
   },
   {
    "duration": 17,
    "start_time": "2023-03-02T08:05:37.125Z"
   },
   {
    "duration": 4,
    "start_time": "2023-03-02T08:05:42.369Z"
   },
   {
    "duration": 5,
    "start_time": "2023-03-02T08:05:50.235Z"
   },
   {
    "duration": 17,
    "start_time": "2023-03-02T08:05:56.586Z"
   },
   {
    "duration": 305,
    "start_time": "2023-03-02T08:08:01.185Z"
   },
   {
    "duration": 13,
    "start_time": "2023-03-02T08:09:28.485Z"
   },
   {
    "duration": 4785,
    "start_time": "2023-03-02T08:09:29.341Z"
   },
   {
    "duration": 64986,
    "start_time": "2023-03-02T08:09:45.532Z"
   },
   {
    "duration": 1381,
    "start_time": "2023-03-02T08:27:14.359Z"
   },
   {
    "duration": 1420,
    "start_time": "2023-03-02T08:27:15.743Z"
   },
   {
    "duration": 6,
    "start_time": "2023-03-02T08:27:17.165Z"
   },
   {
    "duration": 621,
    "start_time": "2023-03-02T08:27:17.175Z"
   },
   {
    "duration": 183,
    "start_time": "2023-03-02T08:27:17.799Z"
   },
   {
    "duration": 114,
    "start_time": "2023-03-02T08:27:17.990Z"
   },
   {
    "duration": 9,
    "start_time": "2023-03-02T08:27:18.106Z"
   },
   {
    "duration": 6,
    "start_time": "2023-03-02T08:27:18.117Z"
   },
   {
    "duration": 32,
    "start_time": "2023-03-02T08:27:18.125Z"
   },
   {
    "duration": 37,
    "start_time": "2023-03-02T08:27:18.165Z"
   },
   {
    "duration": 7,
    "start_time": "2023-03-02T08:27:18.204Z"
   },
   {
    "duration": 8,
    "start_time": "2023-03-02T08:27:18.213Z"
   },
   {
    "duration": 20,
    "start_time": "2023-03-02T08:27:18.223Z"
   },
   {
    "duration": 65,
    "start_time": "2023-03-02T08:27:18.245Z"
   },
   {
    "duration": 17,
    "start_time": "2023-03-02T08:27:18.312Z"
   },
   {
    "duration": 86,
    "start_time": "2023-03-02T08:27:18.332Z"
   },
   {
    "duration": 8,
    "start_time": "2023-03-02T08:27:18.420Z"
   },
   {
    "duration": 29,
    "start_time": "2023-03-02T08:27:18.430Z"
   },
   {
    "duration": 40,
    "start_time": "2023-03-02T08:27:18.461Z"
   },
   {
    "duration": 9,
    "start_time": "2023-03-02T08:27:18.503Z"
   },
   {
    "duration": 192,
    "start_time": "2023-03-02T08:27:18.514Z"
   },
   {
    "duration": 13,
    "start_time": "2023-03-02T08:27:18.708Z"
   },
   {
    "duration": 10,
    "start_time": "2023-03-02T08:27:18.724Z"
   },
   {
    "duration": 17,
    "start_time": "2023-03-02T08:27:50.794Z"
   },
   {
    "duration": 292,
    "start_time": "2023-03-02T08:27:53.800Z"
   },
   {
    "duration": 417,
    "start_time": "2023-03-02T08:28:56.146Z"
   },
   {
    "duration": 12,
    "start_time": "2023-03-02T08:36:20.674Z"
   },
   {
    "duration": 22,
    "start_time": "2023-03-02T08:36:33.696Z"
   },
   {
    "duration": 10,
    "start_time": "2023-03-02T08:36:51.408Z"
   },
   {
    "duration": 26,
    "start_time": "2023-03-02T08:38:04.541Z"
   },
   {
    "duration": 12,
    "start_time": "2023-03-02T08:39:19.186Z"
   },
   {
    "duration": 21,
    "start_time": "2023-03-02T08:39:44.412Z"
   },
   {
    "duration": 105,
    "start_time": "2023-03-02T08:39:53.277Z"
   },
   {
    "duration": 126,
    "start_time": "2023-03-02T08:39:58.283Z"
   },
   {
    "duration": 20,
    "start_time": "2023-03-02T08:40:10.571Z"
   },
   {
    "duration": 17,
    "start_time": "2023-03-02T08:40:32.392Z"
   },
   {
    "duration": 16,
    "start_time": "2023-03-02T08:40:48.108Z"
   },
   {
    "duration": 30,
    "start_time": "2023-03-02T08:41:09.751Z"
   },
   {
    "duration": 24,
    "start_time": "2023-03-02T08:41:56.298Z"
   },
   {
    "duration": 131,
    "start_time": "2023-03-02T08:42:10.366Z"
   },
   {
    "duration": 21,
    "start_time": "2023-03-02T08:42:14.077Z"
   },
   {
    "duration": 14,
    "start_time": "2023-03-02T08:42:21.410Z"
   },
   {
    "duration": 100,
    "start_time": "2023-03-02T08:42:24.882Z"
   },
   {
    "duration": 15,
    "start_time": "2023-03-02T08:42:28.678Z"
   },
   {
    "duration": 6055,
    "start_time": "2023-03-02T08:44:31.027Z"
   },
   {
    "duration": 342,
    "start_time": "2023-03-02T08:44:59.968Z"
   },
   {
    "duration": 314,
    "start_time": "2023-03-02T08:45:16.382Z"
   },
   {
    "duration": 336,
    "start_time": "2023-03-02T08:47:24.173Z"
   },
   {
    "duration": 16,
    "start_time": "2023-03-02T08:48:10.574Z"
   },
   {
    "duration": 27,
    "start_time": "2023-03-02T08:50:57.126Z"
   },
   {
    "duration": 23,
    "start_time": "2023-03-02T08:51:23.502Z"
   },
   {
    "duration": 305,
    "start_time": "2023-03-02T08:51:33.804Z"
   },
   {
    "duration": 365,
    "start_time": "2023-03-02T08:52:39.151Z"
   },
   {
    "duration": 33,
    "start_time": "2023-03-02T09:43:35.039Z"
   },
   {
    "duration": 18,
    "start_time": "2023-03-02T09:43:44.415Z"
   },
   {
    "duration": 27,
    "start_time": "2023-03-02T09:43:58.973Z"
   },
   {
    "duration": 13,
    "start_time": "2023-03-02T09:44:04.191Z"
   },
   {
    "duration": 21,
    "start_time": "2023-03-02T09:44:31.802Z"
   },
   {
    "duration": 19,
    "start_time": "2023-03-02T09:44:54.720Z"
   },
   {
    "duration": 17,
    "start_time": "2023-03-02T09:45:04.477Z"
   },
   {
    "duration": 1230,
    "start_time": "2023-03-02T09:45:14.399Z"
   },
   {
    "duration": 22,
    "start_time": "2023-03-02T09:45:19.279Z"
   },
   {
    "duration": 20,
    "start_time": "2023-03-02T09:45:39.090Z"
   },
   {
    "duration": 14,
    "start_time": "2023-03-02T09:45:48.290Z"
   },
   {
    "duration": 14,
    "start_time": "2023-03-02T09:46:02.624Z"
   },
   {
    "duration": 18,
    "start_time": "2023-03-02T09:46:19.986Z"
   },
   {
    "duration": 1428,
    "start_time": "2023-03-02T09:46:31.365Z"
   },
   {
    "duration": 26,
    "start_time": "2023-03-02T09:46:40.870Z"
   },
   {
    "duration": 15,
    "start_time": "2023-03-02T09:46:51.216Z"
   },
   {
    "duration": 24,
    "start_time": "2023-03-02T09:47:00.877Z"
   },
   {
    "duration": 16,
    "start_time": "2023-03-02T09:47:33.535Z"
   },
   {
    "duration": 227,
    "start_time": "2023-03-02T09:47:41.882Z"
   },
   {
    "duration": 24,
    "start_time": "2023-03-02T09:47:45.572Z"
   },
   {
    "duration": 89,
    "start_time": "2023-03-02T09:48:00.849Z"
   },
   {
    "duration": 10,
    "start_time": "2023-03-02T09:48:10.395Z"
   },
   {
    "duration": 15,
    "start_time": "2023-03-02T09:48:25.816Z"
   },
   {
    "duration": 13,
    "start_time": "2023-03-02T09:48:37.008Z"
   },
   {
    "duration": 12,
    "start_time": "2023-03-02T09:48:37.618Z"
   },
   {
    "duration": 19,
    "start_time": "2023-03-02T09:48:45.577Z"
   },
   {
    "duration": 30,
    "start_time": "2023-03-02T09:54:22.822Z"
   },
   {
    "duration": 31,
    "start_time": "2023-03-02T09:54:32.570Z"
   },
   {
    "duration": 784,
    "start_time": "2023-03-02T09:54:47.907Z"
   },
   {
    "duration": 7,
    "start_time": "2023-03-02T09:58:48.505Z"
   },
   {
    "duration": 40,
    "start_time": "2023-03-02T09:58:50.545Z"
   },
   {
    "duration": 10,
    "start_time": "2023-03-02T09:59:14.922Z"
   },
   {
    "duration": 13,
    "start_time": "2023-03-02T09:59:19.522Z"
   },
   {
    "duration": 23,
    "start_time": "2023-03-02T09:59:20.075Z"
   },
   {
    "duration": 10,
    "start_time": "2023-03-02T10:00:10.864Z"
   },
   {
    "duration": 15,
    "start_time": "2023-03-02T10:00:14.023Z"
   },
   {
    "duration": 4,
    "start_time": "2023-03-02T10:00:27.476Z"
   },
   {
    "duration": 35,
    "start_time": "2023-03-02T10:00:31.380Z"
   },
   {
    "duration": 41,
    "start_time": "2023-03-02T10:01:22.321Z"
   },
   {
    "duration": 39,
    "start_time": "2023-03-02T10:02:05.379Z"
   },
   {
    "duration": 25,
    "start_time": "2023-03-02T10:03:03.712Z"
   },
   {
    "duration": 15,
    "start_time": "2023-03-02T10:03:15.876Z"
   },
   {
    "duration": 1075,
    "start_time": "2023-03-02T10:03:30.415Z"
   },
   {
    "duration": 601,
    "start_time": "2023-03-02T10:04:32.289Z"
   },
   {
    "duration": 536,
    "start_time": "2023-03-02T10:06:11.223Z"
   },
   {
    "duration": 524,
    "start_time": "2023-03-02T10:07:57.243Z"
   },
   {
    "duration": 13,
    "start_time": "2023-03-02T10:08:18.613Z"
   },
   {
    "duration": 18,
    "start_time": "2023-03-02T10:08:38.378Z"
   },
   {
    "duration": 600,
    "start_time": "2023-03-02T10:09:05.533Z"
   },
   {
    "duration": 24,
    "start_time": "2023-03-02T10:09:09.668Z"
   },
   {
    "duration": 22,
    "start_time": "2023-03-02T10:09:17.207Z"
   },
   {
    "duration": 27,
    "start_time": "2023-03-02T10:09:49.664Z"
   },
   {
    "duration": 1002,
    "start_time": "2023-03-02T10:10:32.938Z"
   },
   {
    "duration": 937,
    "start_time": "2023-03-02T10:11:23.398Z"
   },
   {
    "duration": 1477,
    "start_time": "2023-03-02T10:11:43.384Z"
   },
   {
    "duration": 818,
    "start_time": "2023-03-02T10:12:00.259Z"
   },
   {
    "duration": 840,
    "start_time": "2023-03-02T10:12:10.300Z"
   },
   {
    "duration": 765,
    "start_time": "2023-03-02T10:12:34.048Z"
   },
   {
    "duration": 992,
    "start_time": "2023-03-02T10:12:47.404Z"
   },
   {
    "duration": 825,
    "start_time": "2023-03-02T10:13:00.038Z"
   },
   {
    "duration": 989,
    "start_time": "2023-03-02T10:13:04.578Z"
   },
   {
    "duration": 1482,
    "start_time": "2023-03-02T10:13:19.017Z"
   },
   {
    "duration": 1062,
    "start_time": "2023-03-02T10:13:32.810Z"
   },
   {
    "duration": 1054,
    "start_time": "2023-03-02T10:13:38.792Z"
   },
   {
    "duration": 880,
    "start_time": "2023-03-02T10:13:47.006Z"
   },
   {
    "duration": 1086,
    "start_time": "2023-03-02T10:15:48.171Z"
   },
   {
    "duration": 1118,
    "start_time": "2023-03-02T10:15:53.844Z"
   },
   {
    "duration": 1007,
    "start_time": "2023-03-02T10:18:09.592Z"
   },
   {
    "duration": 587,
    "start_time": "2023-03-02T10:18:58.397Z"
   },
   {
    "duration": 30,
    "start_time": "2023-03-02T10:20:07.426Z"
   },
   {
    "duration": 1272,
    "start_time": "2023-03-02T13:15:44.298Z"
   },
   {
    "duration": 1106,
    "start_time": "2023-03-02T13:15:45.572Z"
   },
   {
    "duration": 4,
    "start_time": "2023-03-02T13:15:46.679Z"
   },
   {
    "duration": 448,
    "start_time": "2023-03-02T13:15:46.684Z"
   },
   {
    "duration": 126,
    "start_time": "2023-03-02T13:15:47.134Z"
   },
   {
    "duration": 68,
    "start_time": "2023-03-02T13:15:47.262Z"
   },
   {
    "duration": 5,
    "start_time": "2023-03-02T13:15:47.332Z"
   },
   {
    "duration": 20,
    "start_time": "2023-03-02T13:15:47.349Z"
   },
   {
    "duration": 29,
    "start_time": "2023-03-02T13:15:47.371Z"
   },
   {
    "duration": 27,
    "start_time": "2023-03-02T13:15:47.402Z"
   },
   {
    "duration": 17,
    "start_time": "2023-03-02T13:15:47.431Z"
   },
   {
    "duration": 25,
    "start_time": "2023-03-02T13:15:47.449Z"
   },
   {
    "duration": 23,
    "start_time": "2023-03-02T13:15:47.476Z"
   },
   {
    "duration": 40,
    "start_time": "2023-03-02T13:15:47.501Z"
   },
   {
    "duration": 13,
    "start_time": "2023-03-02T13:15:47.543Z"
   },
   {
    "duration": 52,
    "start_time": "2023-03-02T13:15:47.558Z"
   },
   {
    "duration": 6,
    "start_time": "2023-03-02T13:15:47.612Z"
   },
   {
    "duration": 24,
    "start_time": "2023-03-02T13:15:47.620Z"
   },
   {
    "duration": 29,
    "start_time": "2023-03-02T13:15:47.646Z"
   },
   {
    "duration": 40,
    "start_time": "2023-03-02T13:15:47.677Z"
   },
   {
    "duration": 162,
    "start_time": "2023-03-02T13:15:47.719Z"
   },
   {
    "duration": 10,
    "start_time": "2023-03-02T13:15:47.883Z"
   },
   {
    "duration": 6,
    "start_time": "2023-03-02T13:15:47.895Z"
   },
   {
    "duration": 48,
    "start_time": "2023-03-02T13:15:47.902Z"
   },
   {
    "duration": 18,
    "start_time": "2023-03-02T13:15:47.952Z"
   },
   {
    "duration": 379,
    "start_time": "2023-03-02T13:15:47.972Z"
   },
   {
    "duration": 759,
    "start_time": "2023-03-02T13:15:48.353Z"
   },
   {
    "duration": 10,
    "start_time": "2023-03-02T13:15:49.116Z"
   },
   {
    "duration": 10,
    "start_time": "2023-03-02T13:31:14.767Z"
   },
   {
    "duration": 21,
    "start_time": "2023-03-02T13:31:28.310Z"
   },
   {
    "duration": 25,
    "start_time": "2023-03-02T13:32:01.889Z"
   },
   {
    "duration": 92,
    "start_time": "2023-03-02T13:33:04.918Z"
   },
   {
    "duration": 6,
    "start_time": "2023-03-02T13:33:35.217Z"
   },
   {
    "duration": 262,
    "start_time": "2023-03-02T13:33:40.579Z"
   },
   {
    "duration": 50,
    "start_time": "2023-03-02T13:36:01.344Z"
   },
   {
    "duration": 60,
    "start_time": "2023-03-02T13:36:16.544Z"
   },
   {
    "duration": 25,
    "start_time": "2023-03-02T13:36:33.480Z"
   },
   {
    "duration": 12,
    "start_time": "2023-03-02T13:38:13.860Z"
   },
   {
    "duration": 23,
    "start_time": "2023-03-02T13:43:27.019Z"
   },
   {
    "duration": 22,
    "start_time": "2023-03-02T13:43:31.737Z"
   },
   {
    "duration": 17,
    "start_time": "2023-03-02T13:43:33.212Z"
   },
   {
    "duration": 345,
    "start_time": "2023-03-02T13:52:58.219Z"
   },
   {
    "duration": 636,
    "start_time": "2023-03-02T13:53:06.070Z"
   },
   {
    "duration": 514,
    "start_time": "2023-03-02T13:53:38.424Z"
   },
   {
    "duration": 405,
    "start_time": "2023-03-02T14:08:32.903Z"
   },
   {
    "duration": 388,
    "start_time": "2023-03-02T14:08:38.834Z"
   },
   {
    "duration": 403,
    "start_time": "2023-03-02T14:08:43.218Z"
   },
   {
    "duration": 389,
    "start_time": "2023-03-02T14:08:51.310Z"
   },
   {
    "duration": 331,
    "start_time": "2023-03-02T14:08:58.974Z"
   },
   {
    "duration": 805,
    "start_time": "2023-03-02T14:09:06.103Z"
   },
   {
    "duration": 320,
    "start_time": "2023-03-02T14:09:42.258Z"
   },
   {
    "duration": 1485,
    "start_time": "2023-03-02T14:09:49.563Z"
   },
   {
    "duration": 375,
    "start_time": "2023-03-02T14:09:53.240Z"
   },
   {
    "duration": 305,
    "start_time": "2023-03-02T14:09:59.876Z"
   },
   {
    "duration": 374,
    "start_time": "2023-03-02T14:10:09.836Z"
   },
   {
    "duration": 547,
    "start_time": "2023-03-02T14:10:17.932Z"
   },
   {
    "duration": 331,
    "start_time": "2023-03-02T14:10:28.950Z"
   },
   {
    "duration": 355,
    "start_time": "2023-03-02T14:10:33.815Z"
   },
   {
    "duration": 778,
    "start_time": "2023-03-02T14:10:50.143Z"
   },
   {
    "duration": 19,
    "start_time": "2023-03-02T14:19:49.097Z"
   },
   {
    "duration": 18,
    "start_time": "2023-03-02T14:21:06.386Z"
   },
   {
    "duration": 36,
    "start_time": "2023-03-02T14:27:11.139Z"
   },
   {
    "duration": 455,
    "start_time": "2023-03-02T14:27:24.305Z"
   },
   {
    "duration": 1128,
    "start_time": "2023-03-02T14:27:31.184Z"
   },
   {
    "duration": 9,
    "start_time": "2023-03-02T14:27:35.592Z"
   },
   {
    "duration": 34,
    "start_time": "2023-03-02T14:27:38.269Z"
   },
   {
    "duration": 19,
    "start_time": "2023-03-02T14:27:40.921Z"
   },
   {
    "duration": 455,
    "start_time": "2023-03-02T14:28:48.790Z"
   },
   {
    "duration": 527,
    "start_time": "2023-03-02T14:28:55.942Z"
   },
   {
    "duration": 859,
    "start_time": "2023-03-02T14:29:07.375Z"
   },
   {
    "duration": 17,
    "start_time": "2023-03-02T14:34:28.880Z"
   },
   {
    "duration": 14,
    "start_time": "2023-03-02T14:40:27.398Z"
   },
   {
    "duration": 10,
    "start_time": "2023-03-02T14:41:15.108Z"
   },
   {
    "duration": 74,
    "start_time": "2023-03-02T14:41:34.042Z"
   },
   {
    "duration": 271,
    "start_time": "2023-03-02T14:41:43.405Z"
   },
   {
    "duration": 70,
    "start_time": "2023-03-02T14:41:56.783Z"
   },
   {
    "duration": 55,
    "start_time": "2023-03-02T14:42:40.544Z"
   },
   {
    "duration": 72,
    "start_time": "2023-03-02T14:42:45.436Z"
   },
   {
    "duration": 1369,
    "start_time": "2023-03-02T20:28:41.262Z"
   },
   {
    "duration": 971,
    "start_time": "2023-03-02T20:28:42.633Z"
   },
   {
    "duration": 4,
    "start_time": "2023-03-02T20:28:43.608Z"
   },
   {
    "duration": 425,
    "start_time": "2023-03-02T20:28:43.613Z"
   },
   {
    "duration": 119,
    "start_time": "2023-03-02T20:28:44.040Z"
   },
   {
    "duration": 76,
    "start_time": "2023-03-02T20:28:44.161Z"
   },
   {
    "duration": 6,
    "start_time": "2023-03-02T20:28:44.239Z"
   },
   {
    "duration": 10,
    "start_time": "2023-03-02T20:28:44.246Z"
   },
   {
    "duration": 9,
    "start_time": "2023-03-02T20:28:44.259Z"
   },
   {
    "duration": 4,
    "start_time": "2023-03-02T20:28:44.270Z"
   },
   {
    "duration": 7,
    "start_time": "2023-03-02T20:28:44.275Z"
   },
   {
    "duration": 18,
    "start_time": "2023-03-02T20:28:44.283Z"
   },
   {
    "duration": 12,
    "start_time": "2023-03-02T20:28:44.302Z"
   },
   {
    "duration": 43,
    "start_time": "2023-03-02T20:28:44.316Z"
   },
   {
    "duration": 9,
    "start_time": "2023-03-02T20:28:44.361Z"
   },
   {
    "duration": 40,
    "start_time": "2023-03-02T20:28:44.371Z"
   },
   {
    "duration": 23,
    "start_time": "2023-03-02T20:28:44.413Z"
   },
   {
    "duration": 11,
    "start_time": "2023-03-02T20:28:44.438Z"
   },
   {
    "duration": 8,
    "start_time": "2023-03-02T20:28:44.450Z"
   },
   {
    "duration": 12,
    "start_time": "2023-03-02T20:28:44.460Z"
   },
   {
    "duration": 146,
    "start_time": "2023-03-02T20:28:44.473Z"
   },
   {
    "duration": 18,
    "start_time": "2023-03-02T20:28:44.621Z"
   },
   {
    "duration": 7,
    "start_time": "2023-03-02T20:28:44.640Z"
   },
   {
    "duration": 19,
    "start_time": "2023-03-02T20:28:44.649Z"
   },
   {
    "duration": 18,
    "start_time": "2023-03-02T20:28:44.670Z"
   },
   {
    "duration": 391,
    "start_time": "2023-03-02T20:28:44.690Z"
   },
   {
    "duration": 713,
    "start_time": "2023-03-02T20:28:45.084Z"
   },
   {
    "duration": 9,
    "start_time": "2023-03-02T20:28:45.798Z"
   },
   {
    "duration": 31,
    "start_time": "2023-03-02T20:28:45.809Z"
   },
   {
    "duration": 225,
    "start_time": "2023-03-02T20:28:45.842Z"
   },
   {
    "duration": 7,
    "start_time": "2023-03-02T20:42:44.018Z"
   },
   {
    "duration": 18,
    "start_time": "2023-03-02T20:43:02.473Z"
   },
   {
    "duration": 14,
    "start_time": "2023-03-02T20:44:28.965Z"
   },
   {
    "duration": 15,
    "start_time": "2023-03-02T20:45:01.240Z"
   },
   {
    "duration": 21,
    "start_time": "2023-03-02T20:45:24.998Z"
   },
   {
    "duration": 23,
    "start_time": "2023-03-02T20:46:13.510Z"
   },
   {
    "duration": 7,
    "start_time": "2023-03-02T20:55:56.872Z"
   },
   {
    "duration": 7,
    "start_time": "2023-03-02T20:56:53.263Z"
   },
   {
    "duration": 7,
    "start_time": "2023-03-02T21:58:18.735Z"
   },
   {
    "duration": 112,
    "start_time": "2023-03-02T21:59:07.806Z"
   },
   {
    "duration": 6,
    "start_time": "2023-03-02T21:59:20.974Z"
   },
   {
    "duration": 13,
    "start_time": "2023-03-02T21:59:21.885Z"
   },
   {
    "duration": 4,
    "start_time": "2023-03-02T21:59:55.278Z"
   },
   {
    "duration": 8,
    "start_time": "2023-03-02T22:00:01.342Z"
   },
   {
    "duration": 17,
    "start_time": "2023-03-02T22:00:01.976Z"
   },
   {
    "duration": 4,
    "start_time": "2023-03-02T22:00:28.876Z"
   },
   {
    "duration": 6,
    "start_time": "2023-03-02T22:00:34.198Z"
   },
   {
    "duration": 7,
    "start_time": "2023-03-02T22:00:34.695Z"
   },
   {
    "duration": 4,
    "start_time": "2023-03-02T22:06:07.985Z"
   },
   {
    "duration": 14,
    "start_time": "2023-03-02T22:06:29.442Z"
   },
   {
    "duration": 910,
    "start_time": "2023-03-02T22:07:29.966Z"
   },
   {
    "duration": 7,
    "start_time": "2023-03-02T22:11:35.767Z"
   },
   {
    "duration": 8,
    "start_time": "2023-03-02T22:11:36.498Z"
   },
   {
    "duration": 7,
    "start_time": "2023-03-02T22:12:39.678Z"
   },
   {
    "duration": 9,
    "start_time": "2023-03-02T22:12:40.283Z"
   },
   {
    "duration": 7,
    "start_time": "2023-03-02T22:12:54.642Z"
   },
   {
    "duration": 9,
    "start_time": "2023-03-02T22:12:55.111Z"
   },
   {
    "duration": 6,
    "start_time": "2023-03-02T22:18:05.719Z"
   },
   {
    "duration": 13,
    "start_time": "2023-03-03T00:00:09.906Z"
   },
   {
    "duration": 11,
    "start_time": "2023-03-03T00:01:22.297Z"
   },
   {
    "duration": 369,
    "start_time": "2023-03-03T00:03:29.988Z"
   },
   {
    "duration": 794,
    "start_time": "2023-03-03T00:04:03.856Z"
   },
   {
    "duration": 1166,
    "start_time": "2023-03-03T00:06:33.170Z"
   },
   {
    "duration": 1072,
    "start_time": "2023-03-03T00:06:34.338Z"
   },
   {
    "duration": 4,
    "start_time": "2023-03-03T00:06:35.412Z"
   },
   {
    "duration": 464,
    "start_time": "2023-03-03T00:06:35.418Z"
   },
   {
    "duration": 126,
    "start_time": "2023-03-03T00:06:35.884Z"
   },
   {
    "duration": 79,
    "start_time": "2023-03-03T00:06:36.012Z"
   },
   {
    "duration": 6,
    "start_time": "2023-03-03T00:06:36.092Z"
   },
   {
    "duration": 7,
    "start_time": "2023-03-03T00:06:36.100Z"
   },
   {
    "duration": 7,
    "start_time": "2023-03-03T00:06:36.109Z"
   },
   {
    "duration": 4,
    "start_time": "2023-03-03T00:06:36.138Z"
   },
   {
    "duration": 9,
    "start_time": "2023-03-03T00:06:36.144Z"
   },
   {
    "duration": 10,
    "start_time": "2023-03-03T00:06:36.155Z"
   },
   {
    "duration": 14,
    "start_time": "2023-03-03T00:06:36.167Z"
   },
   {
    "duration": 28,
    "start_time": "2023-03-03T00:06:36.183Z"
   },
   {
    "duration": 33,
    "start_time": "2023-03-03T00:06:36.213Z"
   },
   {
    "duration": 32,
    "start_time": "2023-03-03T00:06:36.248Z"
   },
   {
    "duration": 6,
    "start_time": "2023-03-03T00:06:36.281Z"
   },
   {
    "duration": 13,
    "start_time": "2023-03-03T00:06:36.289Z"
   },
   {
    "duration": 7,
    "start_time": "2023-03-03T00:06:36.304Z"
   },
   {
    "duration": 7,
    "start_time": "2023-03-03T00:06:36.337Z"
   },
   {
    "duration": 154,
    "start_time": "2023-03-03T00:06:36.346Z"
   },
   {
    "duration": 11,
    "start_time": "2023-03-03T00:06:36.502Z"
   },
   {
    "duration": 6,
    "start_time": "2023-03-03T00:06:36.515Z"
   },
   {
    "duration": 18,
    "start_time": "2023-03-03T00:06:36.537Z"
   },
   {
    "duration": 18,
    "start_time": "2023-03-03T00:06:36.556Z"
   },
   {
    "duration": 384,
    "start_time": "2023-03-03T00:06:36.576Z"
   },
   {
    "duration": 719,
    "start_time": "2023-03-03T00:06:36.962Z"
   },
   {
    "duration": 10,
    "start_time": "2023-03-03T00:06:37.684Z"
   },
   {
    "duration": 25,
    "start_time": "2023-03-03T00:06:37.695Z"
   },
   {
    "duration": 234,
    "start_time": "2023-03-03T00:06:37.737Z"
   },
   {
    "duration": 20,
    "start_time": "2023-03-03T00:06:37.973Z"
   },
   {
    "duration": 6,
    "start_time": "2023-03-03T00:06:37.995Z"
   },
   {
    "duration": 41,
    "start_time": "2023-03-03T00:06:38.002Z"
   },
   {
    "duration": 1185,
    "start_time": "2023-03-03T10:13:27.698Z"
   },
   {
    "duration": 141,
    "start_time": "2023-03-03T10:13:28.885Z"
   },
   {
    "duration": 0,
    "start_time": "2023-03-03T10:13:29.029Z"
   },
   {
    "duration": 0,
    "start_time": "2023-03-03T10:13:29.030Z"
   },
   {
    "duration": 0,
    "start_time": "2023-03-03T10:13:29.031Z"
   },
   {
    "duration": 0,
    "start_time": "2023-03-03T10:13:29.032Z"
   },
   {
    "duration": 0,
    "start_time": "2023-03-03T10:13:29.034Z"
   },
   {
    "duration": 0,
    "start_time": "2023-03-03T10:13:29.040Z"
   },
   {
    "duration": 0,
    "start_time": "2023-03-03T10:13:29.041Z"
   },
   {
    "duration": 0,
    "start_time": "2023-03-03T10:13:29.042Z"
   },
   {
    "duration": 0,
    "start_time": "2023-03-03T10:13:29.044Z"
   },
   {
    "duration": 0,
    "start_time": "2023-03-03T10:13:29.045Z"
   },
   {
    "duration": 0,
    "start_time": "2023-03-03T10:13:29.046Z"
   },
   {
    "duration": 0,
    "start_time": "2023-03-03T10:13:29.047Z"
   },
   {
    "duration": 0,
    "start_time": "2023-03-03T10:13:29.048Z"
   },
   {
    "duration": 0,
    "start_time": "2023-03-03T10:13:29.050Z"
   },
   {
    "duration": 0,
    "start_time": "2023-03-03T10:13:29.051Z"
   },
   {
    "duration": 0,
    "start_time": "2023-03-03T10:13:29.053Z"
   },
   {
    "duration": 0,
    "start_time": "2023-03-03T10:13:29.054Z"
   },
   {
    "duration": 0,
    "start_time": "2023-03-03T10:13:29.055Z"
   },
   {
    "duration": 0,
    "start_time": "2023-03-03T10:13:29.056Z"
   },
   {
    "duration": 0,
    "start_time": "2023-03-03T10:13:29.057Z"
   },
   {
    "duration": 0,
    "start_time": "2023-03-03T10:13:29.058Z"
   },
   {
    "duration": 0,
    "start_time": "2023-03-03T10:13:29.060Z"
   },
   {
    "duration": 0,
    "start_time": "2023-03-03T10:13:29.060Z"
   },
   {
    "duration": 0,
    "start_time": "2023-03-03T10:13:29.061Z"
   },
   {
    "duration": 0,
    "start_time": "2023-03-03T10:13:29.062Z"
   },
   {
    "duration": 0,
    "start_time": "2023-03-03T10:13:29.064Z"
   },
   {
    "duration": 0,
    "start_time": "2023-03-03T10:13:29.065Z"
   },
   {
    "duration": 0,
    "start_time": "2023-03-03T10:13:29.065Z"
   },
   {
    "duration": 0,
    "start_time": "2023-03-03T10:13:29.066Z"
   },
   {
    "duration": 0,
    "start_time": "2023-03-03T10:13:29.067Z"
   },
   {
    "duration": 0,
    "start_time": "2023-03-03T10:13:29.068Z"
   },
   {
    "duration": 1522,
    "start_time": "2023-03-03T10:31:26.904Z"
   },
   {
    "duration": 1338,
    "start_time": "2023-03-03T10:31:29.765Z"
   },
   {
    "duration": 2672,
    "start_time": "2023-03-03T10:38:31.986Z"
   },
   {
    "duration": 1522,
    "start_time": "2023-03-03T10:40:06.577Z"
   },
   {
    "duration": 4390,
    "start_time": "2023-03-03T10:47:48.842Z"
   },
   {
    "duration": 4,
    "start_time": "2023-03-03T10:47:56.720Z"
   },
   {
    "duration": 1472,
    "start_time": "2023-03-03T10:47:57.318Z"
   },
   {
    "duration": 6,
    "start_time": "2023-03-03T10:48:03.756Z"
   },
   {
    "duration": 495,
    "start_time": "2023-03-03T10:48:05.773Z"
   },
   {
    "duration": 106,
    "start_time": "2023-03-03T10:48:57.536Z"
   },
   {
    "duration": 81,
    "start_time": "2023-03-03T10:48:59.668Z"
   },
   {
    "duration": 10,
    "start_time": "2023-03-03T10:49:05.268Z"
   },
   {
    "duration": 7,
    "start_time": "2023-03-03T10:49:07.793Z"
   },
   {
    "duration": 8,
    "start_time": "2023-03-03T10:49:10.407Z"
   },
   {
    "duration": 7,
    "start_time": "2023-03-03T10:49:11.124Z"
   },
   {
    "duration": 6,
    "start_time": "2023-03-03T10:49:11.514Z"
   },
   {
    "duration": 8,
    "start_time": "2023-03-03T10:49:13.368Z"
   },
   {
    "duration": 14,
    "start_time": "2023-03-03T10:49:13.801Z"
   },
   {
    "duration": 32,
    "start_time": "2023-03-03T10:49:14.724Z"
   },
   {
    "duration": 13,
    "start_time": "2023-03-03T10:49:16.758Z"
   },
   {
    "duration": 49,
    "start_time": "2023-03-03T10:49:17.441Z"
   },
   {
    "duration": 9,
    "start_time": "2023-03-03T10:49:21.403Z"
   },
   {
    "duration": 11,
    "start_time": "2023-03-03T10:49:21.541Z"
   },
   {
    "duration": 6,
    "start_time": "2023-03-03T10:49:23.269Z"
   },
   {
    "duration": 8,
    "start_time": "2023-03-03T10:49:23.674Z"
   },
   {
    "duration": 127,
    "start_time": "2023-03-03T10:49:28.307Z"
   },
   {
    "duration": 10,
    "start_time": "2023-03-03T10:49:28.714Z"
   },
   {
    "duration": 10,
    "start_time": "2023-03-03T10:49:29.112Z"
   },
   {
    "duration": 20,
    "start_time": "2023-03-03T10:49:29.721Z"
   },
   {
    "duration": 21,
    "start_time": "2023-03-03T10:49:30.196Z"
   },
   {
    "duration": 399,
    "start_time": "2023-03-03T10:49:32.667Z"
   },
   {
    "duration": 950,
    "start_time": "2023-03-03T10:49:36.278Z"
   },
   {
    "duration": 16,
    "start_time": "2023-03-03T10:49:39.570Z"
   },
   {
    "duration": 33,
    "start_time": "2023-03-03T10:49:43.900Z"
   },
   {
    "duration": 157,
    "start_time": "2023-03-03T10:49:44.467Z"
   },
   {
    "duration": 29,
    "start_time": "2023-03-03T10:49:48.976Z"
   },
   {
    "duration": 7,
    "start_time": "2023-03-03T10:49:55.688Z"
   },
   {
    "duration": 9,
    "start_time": "2023-03-03T10:49:57.415Z"
   },
   {
    "duration": 1252,
    "start_time": "2023-03-03T12:53:16.453Z"
   },
   {
    "duration": 1614,
    "start_time": "2023-03-03T12:53:17.707Z"
   },
   {
    "duration": 5,
    "start_time": "2023-03-03T12:53:19.323Z"
   },
   {
    "duration": 403,
    "start_time": "2023-03-03T12:53:19.330Z"
   },
   {
    "duration": 116,
    "start_time": "2023-03-03T12:53:19.741Z"
   },
   {
    "duration": 106,
    "start_time": "2023-03-03T12:53:19.859Z"
   },
   {
    "duration": 7,
    "start_time": "2023-03-03T12:53:19.967Z"
   },
   {
    "duration": 14,
    "start_time": "2023-03-03T12:53:19.976Z"
   },
   {
    "duration": 14,
    "start_time": "2023-03-03T12:53:19.992Z"
   },
   {
    "duration": 20,
    "start_time": "2023-03-03T12:53:20.009Z"
   },
   {
    "duration": 19,
    "start_time": "2023-03-03T12:53:20.031Z"
   },
   {
    "duration": 17,
    "start_time": "2023-03-03T12:53:20.052Z"
   },
   {
    "duration": 14,
    "start_time": "2023-03-03T12:53:20.071Z"
   },
   {
    "duration": 38,
    "start_time": "2023-03-03T12:53:20.087Z"
   },
   {
    "duration": 21,
    "start_time": "2023-03-03T12:53:20.127Z"
   },
   {
    "duration": 41,
    "start_time": "2023-03-03T12:53:20.150Z"
   },
   {
    "duration": 6,
    "start_time": "2023-03-03T12:53:20.193Z"
   },
   {
    "duration": 15,
    "start_time": "2023-03-03T12:53:20.200Z"
   },
   {
    "duration": 24,
    "start_time": "2023-03-03T12:53:20.216Z"
   },
   {
    "duration": 38,
    "start_time": "2023-03-03T12:53:20.242Z"
   },
   {
    "duration": 124,
    "start_time": "2023-03-03T12:53:20.281Z"
   },
   {
    "duration": 9,
    "start_time": "2023-03-03T12:53:20.406Z"
   },
   {
    "duration": 29,
    "start_time": "2023-03-03T12:53:20.416Z"
   },
   {
    "duration": 26,
    "start_time": "2023-03-03T12:53:20.447Z"
   },
   {
    "duration": 18,
    "start_time": "2023-03-03T12:53:20.475Z"
   },
   {
    "duration": 368,
    "start_time": "2023-03-03T12:53:20.495Z"
   },
   {
    "duration": 680,
    "start_time": "2023-03-03T12:53:20.865Z"
   },
   {
    "duration": 12,
    "start_time": "2023-03-03T12:53:21.548Z"
   },
   {
    "duration": 20,
    "start_time": "2023-03-03T12:53:21.562Z"
   },
   {
    "duration": 321,
    "start_time": "2023-03-03T12:53:21.584Z"
   },
   {
    "duration": 43,
    "start_time": "2023-03-03T12:53:21.907Z"
   },
   {
    "duration": 5,
    "start_time": "2023-03-03T12:53:21.953Z"
   },
   {
    "duration": 16,
    "start_time": "2023-03-03T12:53:21.960Z"
   },
   {
    "duration": 54,
    "start_time": "2023-03-03T14:11:22.472Z"
   },
   {
    "duration": 1388,
    "start_time": "2023-03-03T14:12:28.367Z"
   },
   {
    "duration": 962,
    "start_time": "2023-03-03T14:12:29.757Z"
   },
   {
    "duration": 4,
    "start_time": "2023-03-03T14:12:30.723Z"
   },
   {
    "duration": 478,
    "start_time": "2023-03-03T14:12:30.728Z"
   },
   {
    "duration": 121,
    "start_time": "2023-03-03T14:12:31.207Z"
   },
   {
    "duration": 83,
    "start_time": "2023-03-03T14:12:31.330Z"
   },
   {
    "duration": 7,
    "start_time": "2023-03-03T14:12:31.414Z"
   },
   {
    "duration": 35,
    "start_time": "2023-03-03T14:12:31.422Z"
   },
   {
    "duration": 34,
    "start_time": "2023-03-03T14:12:31.460Z"
   },
   {
    "duration": 40,
    "start_time": "2023-03-03T14:12:31.496Z"
   },
   {
    "duration": 44,
    "start_time": "2023-03-03T14:12:31.538Z"
   },
   {
    "duration": 18,
    "start_time": "2023-03-03T14:12:31.584Z"
   },
   {
    "duration": 28,
    "start_time": "2023-03-03T14:12:31.603Z"
   },
   {
    "duration": 46,
    "start_time": "2023-03-03T14:12:31.633Z"
   },
   {
    "duration": 9,
    "start_time": "2023-03-03T14:12:31.681Z"
   },
   {
    "duration": 48,
    "start_time": "2023-03-03T14:12:31.692Z"
   },
   {
    "duration": 6,
    "start_time": "2023-03-03T14:12:31.742Z"
   },
   {
    "duration": 48,
    "start_time": "2023-03-03T14:12:31.750Z"
   },
   {
    "duration": 22,
    "start_time": "2023-03-03T14:12:31.799Z"
   },
   {
    "duration": 22,
    "start_time": "2023-03-03T14:12:31.823Z"
   },
   {
    "duration": 140,
    "start_time": "2023-03-03T14:12:31.847Z"
   },
   {
    "duration": 11,
    "start_time": "2023-03-03T14:12:31.989Z"
   },
   {
    "duration": 29,
    "start_time": "2023-03-03T14:12:32.002Z"
   },
   {
    "duration": 83,
    "start_time": "2023-03-03T14:12:32.034Z"
   },
   {
    "duration": 0,
    "start_time": "2023-03-03T14:12:32.119Z"
   },
   {
    "duration": 0,
    "start_time": "2023-03-03T14:12:32.122Z"
   },
   {
    "duration": 0,
    "start_time": "2023-03-03T14:12:32.124Z"
   },
   {
    "duration": 0,
    "start_time": "2023-03-03T14:12:32.125Z"
   },
   {
    "duration": 0,
    "start_time": "2023-03-03T14:12:32.127Z"
   },
   {
    "duration": 0,
    "start_time": "2023-03-03T14:12:32.128Z"
   },
   {
    "duration": 0,
    "start_time": "2023-03-03T14:12:32.130Z"
   },
   {
    "duration": 0,
    "start_time": "2023-03-03T14:12:32.131Z"
   },
   {
    "duration": 0,
    "start_time": "2023-03-03T14:12:32.132Z"
   },
   {
    "duration": 25,
    "start_time": "2023-03-03T14:13:20.384Z"
   },
   {
    "duration": 13,
    "start_time": "2023-03-03T14:15:27.504Z"
   },
   {
    "duration": 13,
    "start_time": "2023-03-03T14:15:53.242Z"
   },
   {
    "duration": 11,
    "start_time": "2023-03-03T14:17:20.339Z"
   },
   {
    "duration": 30,
    "start_time": "2023-03-03T14:18:57.908Z"
   },
   {
    "duration": 1023,
    "start_time": "2023-03-03T14:19:01.026Z"
   },
   {
    "duration": 17,
    "start_time": "2023-03-03T14:20:25.683Z"
   },
   {
    "duration": 29,
    "start_time": "2023-03-03T14:20:57.680Z"
   },
   {
    "duration": 4,
    "start_time": "2023-03-03T14:24:00.748Z"
   },
   {
    "duration": 103,
    "start_time": "2023-03-03T14:24:07.340Z"
   },
   {
    "duration": 16,
    "start_time": "2023-03-03T14:24:20.519Z"
   },
   {
    "duration": 12,
    "start_time": "2023-03-03T14:24:41.004Z"
   },
   {
    "duration": 10,
    "start_time": "2023-03-03T14:25:47.375Z"
   },
   {
    "duration": 25,
    "start_time": "2023-03-03T14:25:48.165Z"
   },
   {
    "duration": 166,
    "start_time": "2023-03-03T14:25:50.277Z"
   },
   {
    "duration": 12,
    "start_time": "2023-03-03T14:28:45.583Z"
   },
   {
    "duration": 10,
    "start_time": "2023-03-03T14:30:13.856Z"
   },
   {
    "duration": 5,
    "start_time": "2023-03-03T14:30:24.805Z"
   },
   {
    "duration": 19,
    "start_time": "2023-03-03T14:51:27.753Z"
   },
   {
    "duration": 363,
    "start_time": "2023-03-03T14:51:33.359Z"
   },
   {
    "duration": 371,
    "start_time": "2023-03-03T14:51:38.944Z"
   },
   {
    "duration": 372,
    "start_time": "2023-03-03T14:52:44.424Z"
   },
   {
    "duration": 388,
    "start_time": "2023-03-03T14:53:09.089Z"
   },
   {
    "duration": 446,
    "start_time": "2023-03-03T14:53:15.131Z"
   },
   {
    "duration": 10,
    "start_time": "2023-03-03T14:53:59.098Z"
   },
   {
    "duration": 10,
    "start_time": "2023-03-03T14:57:28.884Z"
   },
   {
    "duration": 8,
    "start_time": "2023-03-03T14:57:44.124Z"
   },
   {
    "duration": 9,
    "start_time": "2023-03-03T14:58:18.417Z"
   },
   {
    "duration": 9,
    "start_time": "2023-03-03T15:01:03.651Z"
   },
   {
    "duration": 6,
    "start_time": "2023-03-03T15:01:14.659Z"
   },
   {
    "duration": 5,
    "start_time": "2023-03-03T15:01:53.569Z"
   },
   {
    "duration": 10,
    "start_time": "2023-03-03T15:03:35.160Z"
   },
   {
    "duration": 11,
    "start_time": "2023-03-03T15:04:33.559Z"
   },
   {
    "duration": 9,
    "start_time": "2023-03-03T15:05:09.456Z"
   },
   {
    "duration": 12,
    "start_time": "2023-03-03T15:05:11.130Z"
   },
   {
    "duration": 13,
    "start_time": "2023-03-03T15:07:26.571Z"
   },
   {
    "duration": 14,
    "start_time": "2023-03-03T15:07:51.865Z"
   },
   {
    "duration": 10,
    "start_time": "2023-03-03T15:11:25.763Z"
   },
   {
    "duration": 12,
    "start_time": "2023-03-03T15:11:33.465Z"
   },
   {
    "duration": 1262,
    "start_time": "2023-03-03T15:12:07.366Z"
   },
   {
    "duration": 1023,
    "start_time": "2023-03-03T15:12:08.630Z"
   },
   {
    "duration": 10,
    "start_time": "2023-03-03T15:14:31.087Z"
   },
   {
    "duration": 12,
    "start_time": "2023-03-03T15:14:33.376Z"
   },
   {
    "duration": 17,
    "start_time": "2023-03-03T15:14:34.268Z"
   },
   {
    "duration": 145,
    "start_time": "2023-03-03T15:17:33.689Z"
   },
   {
    "duration": 64,
    "start_time": "2023-03-03T15:17:50.090Z"
   },
   {
    "duration": 32,
    "start_time": "2023-03-03T15:18:46.091Z"
   },
   {
    "duration": 40,
    "start_time": "2023-03-03T15:26:55.097Z"
   },
   {
    "duration": 29,
    "start_time": "2023-03-03T15:27:21.329Z"
   },
   {
    "duration": 46,
    "start_time": "2023-03-03T15:31:16.930Z"
   },
   {
    "duration": 109,
    "start_time": "2023-03-03T15:31:20.901Z"
   },
   {
    "duration": 11,
    "start_time": "2023-03-03T15:31:35.921Z"
   },
   {
    "duration": 11,
    "start_time": "2023-03-03T15:32:13.803Z"
   },
   {
    "duration": 10,
    "start_time": "2023-03-03T15:32:41.863Z"
   },
   {
    "duration": 19,
    "start_time": "2023-03-03T15:32:56.365Z"
   },
   {
    "duration": 30,
    "start_time": "2023-03-03T15:33:10.063Z"
   },
   {
    "duration": 34,
    "start_time": "2023-03-03T15:33:33.296Z"
   },
   {
    "duration": 58,
    "start_time": "2023-03-03T15:33:47.183Z"
   },
   {
    "duration": 29,
    "start_time": "2023-03-03T15:34:09.771Z"
   },
   {
    "duration": 30,
    "start_time": "2023-03-03T15:34:36.205Z"
   },
   {
    "duration": 47,
    "start_time": "2023-03-03T15:34:53.560Z"
   },
   {
    "duration": 30,
    "start_time": "2023-03-03T15:35:07.452Z"
   },
   {
    "duration": 56,
    "start_time": "2023-03-03T15:35:20.000Z"
   },
   {
    "duration": 29,
    "start_time": "2023-03-03T15:35:25.118Z"
   },
   {
    "duration": 31,
    "start_time": "2023-03-03T15:35:46.584Z"
   },
   {
    "duration": 30,
    "start_time": "2023-03-03T15:35:51.981Z"
   },
   {
    "duration": 29,
    "start_time": "2023-03-03T15:36:06.173Z"
   },
   {
    "duration": 29,
    "start_time": "2023-03-03T15:41:36.808Z"
   },
   {
    "duration": 12,
    "start_time": "2023-03-03T15:41:53.286Z"
   },
   {
    "duration": 53,
    "start_time": "2023-03-03T15:42:04.197Z"
   },
   {
    "duration": 64,
    "start_time": "2023-03-03T15:42:55.256Z"
   },
   {
    "duration": 54,
    "start_time": "2023-03-03T15:43:35.667Z"
   },
   {
    "duration": 46,
    "start_time": "2023-03-03T15:44:07.159Z"
   },
   {
    "duration": 40,
    "start_time": "2023-03-03T15:44:17.884Z"
   },
   {
    "duration": 46,
    "start_time": "2023-03-03T15:44:23.481Z"
   },
   {
    "duration": 39,
    "start_time": "2023-03-03T15:44:44.683Z"
   },
   {
    "duration": 59,
    "start_time": "2023-03-03T15:51:14.597Z"
   },
   {
    "duration": 229,
    "start_time": "2023-03-03T15:51:35.116Z"
   },
   {
    "duration": 11,
    "start_time": "2023-03-03T15:51:51.966Z"
   },
   {
    "duration": 14,
    "start_time": "2023-03-03T15:52:02.803Z"
   },
   {
    "duration": 12,
    "start_time": "2023-03-03T15:52:59.862Z"
   },
   {
    "duration": 8,
    "start_time": "2023-03-03T15:56:47.674Z"
   },
   {
    "duration": 17,
    "start_time": "2023-03-03T15:56:56.466Z"
   },
   {
    "duration": 14,
    "start_time": "2023-03-03T15:57:41.598Z"
   },
   {
    "duration": 14,
    "start_time": "2023-03-03T15:57:50.570Z"
   },
   {
    "duration": 8,
    "start_time": "2023-03-03T15:58:08.112Z"
   },
   {
    "duration": 21,
    "start_time": "2023-03-03T15:59:02.910Z"
   },
   {
    "duration": 10,
    "start_time": "2023-03-03T15:59:18.585Z"
   },
   {
    "duration": 13,
    "start_time": "2023-03-03T15:59:56.582Z"
   },
   {
    "duration": 13,
    "start_time": "2023-03-03T16:00:14.381Z"
   },
   {
    "duration": 12,
    "start_time": "2023-03-03T16:00:32.775Z"
   },
   {
    "duration": 10,
    "start_time": "2023-03-03T16:01:13.207Z"
   },
   {
    "duration": 12,
    "start_time": "2023-03-03T16:01:21.501Z"
   },
   {
    "duration": 552,
    "start_time": "2023-03-03T16:01:38.262Z"
   },
   {
    "duration": 573,
    "start_time": "2023-03-03T16:01:44.126Z"
   },
   {
    "duration": 10,
    "start_time": "2023-03-03T16:02:30.968Z"
   },
   {
    "duration": 15,
    "start_time": "2023-03-03T16:02:37.374Z"
   },
   {
    "duration": 14,
    "start_time": "2023-03-03T16:03:38.883Z"
   },
   {
    "duration": 13,
    "start_time": "2023-03-03T16:03:47.670Z"
   },
   {
    "duration": 398,
    "start_time": "2023-03-03T16:05:43.531Z"
   },
   {
    "duration": 360,
    "start_time": "2023-03-03T16:06:13.330Z"
   },
   {
    "duration": 381,
    "start_time": "2023-03-03T16:06:22.750Z"
   },
   {
    "duration": 346,
    "start_time": "2023-03-03T16:06:38.430Z"
   },
   {
    "duration": 364,
    "start_time": "2023-03-03T16:06:53.274Z"
   },
   {
    "duration": 359,
    "start_time": "2023-03-03T16:07:11.306Z"
   },
   {
    "duration": 344,
    "start_time": "2023-03-03T16:07:52.178Z"
   },
   {
    "duration": 13,
    "start_time": "2023-03-03T16:08:26.026Z"
   },
   {
    "duration": 12,
    "start_time": "2023-03-03T16:08:33.030Z"
   },
   {
    "duration": 39,
    "start_time": "2023-03-03T16:11:32.728Z"
   },
   {
    "duration": 16,
    "start_time": "2023-03-03T16:11:58.706Z"
   },
   {
    "duration": 10,
    "start_time": "2023-03-03T16:12:15.207Z"
   },
   {
    "duration": 12,
    "start_time": "2023-03-03T16:12:31.218Z"
   },
   {
    "duration": 12,
    "start_time": "2023-03-03T16:12:53.032Z"
   },
   {
    "duration": 7,
    "start_time": "2023-03-03T16:13:10.578Z"
   },
   {
    "duration": 20,
    "start_time": "2023-03-03T16:13:34.390Z"
   },
   {
    "duration": 346,
    "start_time": "2023-03-03T16:13:41.266Z"
   },
   {
    "duration": 21,
    "start_time": "2023-03-03T16:13:46.576Z"
   },
   {
    "duration": 21,
    "start_time": "2023-03-03T16:14:10.023Z"
   },
   {
    "duration": 19,
    "start_time": "2023-03-03T16:14:23.464Z"
   },
   {
    "duration": 19,
    "start_time": "2023-03-03T16:21:11.067Z"
   },
   {
    "duration": 23,
    "start_time": "2023-03-03T16:24:33.674Z"
   },
   {
    "duration": 51,
    "start_time": "2023-03-03T16:26:08.499Z"
   },
   {
    "duration": 52,
    "start_time": "2023-03-03T16:26:43.322Z"
   },
   {
    "duration": 18,
    "start_time": "2023-03-03T16:26:48.208Z"
   },
   {
    "duration": 1544,
    "start_time": "2023-03-03T19:19:06.659Z"
   },
   {
    "duration": 1394,
    "start_time": "2023-03-03T19:19:08.576Z"
   },
   {
    "duration": 4,
    "start_time": "2023-03-03T19:19:11.665Z"
   },
   {
    "duration": 443,
    "start_time": "2023-03-03T19:19:14.928Z"
   },
   {
    "duration": 117,
    "start_time": "2023-03-03T19:19:16.865Z"
   },
   {
    "duration": 33,
    "start_time": "2023-03-03T19:19:22.878Z"
   },
   {
    "duration": 86,
    "start_time": "2023-03-03T19:19:23.870Z"
   },
   {
    "duration": 9,
    "start_time": "2023-03-03T19:19:28.497Z"
   },
   {
    "duration": 6,
    "start_time": "2023-03-03T19:19:29.184Z"
   },
   {
    "duration": 8,
    "start_time": "2023-03-03T19:19:29.672Z"
   },
   {
    "duration": 4,
    "start_time": "2023-03-03T19:19:30.126Z"
   },
   {
    "duration": 6,
    "start_time": "2023-03-03T19:19:30.810Z"
   },
   {
    "duration": 8,
    "start_time": "2023-03-03T19:19:43.382Z"
   },
   {
    "duration": 14,
    "start_time": "2023-03-03T19:19:47.630Z"
   },
   {
    "duration": 29,
    "start_time": "2023-03-03T19:19:55.877Z"
   },
   {
    "duration": 20,
    "start_time": "2023-03-03T19:19:58.401Z"
   },
   {
    "duration": 20,
    "start_time": "2023-03-03T19:21:01.801Z"
   },
   {
    "duration": 390,
    "start_time": "2023-03-03T19:21:17.465Z"
   },
   {
    "duration": 390,
    "start_time": "2023-03-03T19:21:50.878Z"
   },
   {
    "duration": 18,
    "start_time": "2023-03-03T19:23:01.659Z"
   },
   {
    "duration": 300,
    "start_time": "2023-03-03T19:23:13.497Z"
   },
   {
    "duration": 21,
    "start_time": "2023-03-03T19:23:17.513Z"
   },
   {
    "duration": 12,
    "start_time": "2023-03-03T19:23:28.110Z"
   },
   {
    "duration": 36,
    "start_time": "2023-03-03T19:23:29.105Z"
   },
   {
    "duration": 7,
    "start_time": "2023-03-03T19:23:29.569Z"
   },
   {
    "duration": 11,
    "start_time": "2023-03-03T19:23:31.488Z"
   },
   {
    "duration": 5,
    "start_time": "2023-03-03T19:23:32.478Z"
   },
   {
    "duration": 10,
    "start_time": "2023-03-03T19:23:33.635Z"
   },
   {
    "duration": 19,
    "start_time": "2023-03-03T19:37:00.567Z"
   },
   {
    "duration": 26,
    "start_time": "2023-03-03T19:37:14.355Z"
   },
   {
    "duration": 135,
    "start_time": "2023-03-03T19:37:40.294Z"
   },
   {
    "duration": 166,
    "start_time": "2023-03-03T19:37:51.966Z"
   },
   {
    "duration": 10,
    "start_time": "2023-03-03T19:37:57.206Z"
   },
   {
    "duration": 22,
    "start_time": "2023-03-03T19:38:09.114Z"
   },
   {
    "duration": 126,
    "start_time": "2023-03-03T19:39:38.377Z"
   },
   {
    "duration": 16,
    "start_time": "2023-03-03T19:39:51.838Z"
   },
   {
    "duration": 20,
    "start_time": "2023-03-03T19:40:07.959Z"
   },
   {
    "duration": 11,
    "start_time": "2023-03-03T19:41:09.953Z"
   },
   {
    "duration": 11,
    "start_time": "2023-03-03T19:41:29.636Z"
   },
   {
    "duration": 6,
    "start_time": "2023-03-03T19:42:08.222Z"
   },
   {
    "duration": 21,
    "start_time": "2023-03-03T19:42:15.971Z"
   },
   {
    "duration": 31,
    "start_time": "2023-03-03T19:44:15.535Z"
   },
   {
    "duration": 42,
    "start_time": "2023-03-03T19:45:02.486Z"
   },
   {
    "duration": 12,
    "start_time": "2023-03-03T19:45:13.715Z"
   },
   {
    "duration": 15,
    "start_time": "2023-03-03T19:45:21.677Z"
   },
   {
    "duration": 30,
    "start_time": "2023-03-03T19:47:01.332Z"
   },
   {
    "duration": 65,
    "start_time": "2023-03-03T19:47:54.330Z"
   },
   {
    "duration": 72,
    "start_time": "2023-03-03T19:48:35.378Z"
   },
   {
    "duration": 26,
    "start_time": "2023-03-03T19:48:41.005Z"
   },
   {
    "duration": 52,
    "start_time": "2023-03-03T19:54:38.606Z"
   },
   {
    "duration": 78,
    "start_time": "2023-03-03T19:55:27.402Z"
   },
   {
    "duration": 31,
    "start_time": "2023-03-03T19:58:01.480Z"
   },
   {
    "duration": 32,
    "start_time": "2023-03-03T20:00:45.991Z"
   },
   {
    "duration": 12,
    "start_time": "2023-03-03T20:01:08.471Z"
   },
   {
    "duration": 6,
    "start_time": "2023-03-03T20:02:58.691Z"
   },
   {
    "duration": 19,
    "start_time": "2023-03-03T20:02:59.194Z"
   },
   {
    "duration": 13,
    "start_time": "2023-03-03T20:03:03.470Z"
   },
   {
    "duration": 1505,
    "start_time": "2023-03-03T20:04:08.769Z"
   },
   {
    "duration": 1694,
    "start_time": "2023-03-03T20:04:10.277Z"
   },
   {
    "duration": 5,
    "start_time": "2023-03-03T20:04:11.974Z"
   },
   {
    "duration": 515,
    "start_time": "2023-03-03T20:04:11.981Z"
   },
   {
    "duration": 141,
    "start_time": "2023-03-03T20:04:12.498Z"
   },
   {
    "duration": 80,
    "start_time": "2023-03-03T20:04:12.641Z"
   },
   {
    "duration": 10,
    "start_time": "2023-03-03T20:04:12.724Z"
   },
   {
    "duration": 6,
    "start_time": "2023-03-03T20:04:12.748Z"
   },
   {
    "duration": 33,
    "start_time": "2023-03-03T20:04:12.760Z"
   },
   {
    "duration": 6,
    "start_time": "2023-03-03T20:04:12.795Z"
   },
   {
    "duration": 9,
    "start_time": "2023-03-03T20:04:12.803Z"
   },
   {
    "duration": 8,
    "start_time": "2023-03-03T20:04:12.814Z"
   },
   {
    "duration": 34,
    "start_time": "2023-03-03T20:04:12.824Z"
   },
   {
    "duration": 45,
    "start_time": "2023-03-03T20:04:12.868Z"
   },
   {
    "duration": 21,
    "start_time": "2023-03-03T20:04:12.914Z"
   },
   {
    "duration": 28,
    "start_time": "2023-03-03T20:04:12.937Z"
   },
   {
    "duration": 50,
    "start_time": "2023-03-03T20:04:12.967Z"
   },
   {
    "duration": 8,
    "start_time": "2023-03-03T20:04:13.020Z"
   },
   {
    "duration": 27,
    "start_time": "2023-03-03T20:04:13.030Z"
   },
   {
    "duration": 18,
    "start_time": "2023-03-03T20:04:13.062Z"
   },
   {
    "duration": 9,
    "start_time": "2023-03-03T20:04:13.082Z"
   },
   {
    "duration": 128,
    "start_time": "2023-03-03T20:04:13.093Z"
   },
   {
    "duration": 10,
    "start_time": "2023-03-03T20:04:13.223Z"
   },
   {
    "duration": 19,
    "start_time": "2023-03-03T20:04:13.234Z"
   },
   {
    "duration": 32,
    "start_time": "2023-03-03T20:04:13.260Z"
   },
   {
    "duration": 12,
    "start_time": "2023-03-03T20:04:13.294Z"
   },
   {
    "duration": 8,
    "start_time": "2023-03-03T20:04:13.308Z"
   },
   {
    "duration": 21,
    "start_time": "2023-03-03T20:04:13.318Z"
   },
   {
    "duration": 39,
    "start_time": "2023-03-03T20:04:13.341Z"
   },
   {
    "duration": 482,
    "start_time": "2023-03-03T20:04:13.381Z"
   },
   {
    "duration": 794,
    "start_time": "2023-03-03T20:04:13.867Z"
   },
   {
    "duration": 12,
    "start_time": "2023-03-03T20:04:14.668Z"
   },
   {
    "duration": 25,
    "start_time": "2023-03-03T20:04:14.681Z"
   },
   {
    "duration": 466,
    "start_time": "2023-03-03T20:04:14.708Z"
   },
   {
    "duration": 29,
    "start_time": "2023-03-03T20:04:15.176Z"
   },
   {
    "duration": 55,
    "start_time": "2023-03-03T20:04:15.207Z"
   },
   {
    "duration": 29,
    "start_time": "2023-03-03T20:04:15.266Z"
   },
   {
    "duration": 7,
    "start_time": "2023-03-03T20:24:15.572Z"
   },
   {
    "duration": 17,
    "start_time": "2023-03-03T20:24:16.037Z"
   },
   {
    "duration": 13,
    "start_time": "2023-03-03T20:24:17.868Z"
   },
   {
    "duration": 12,
    "start_time": "2023-03-03T20:26:48.691Z"
   },
   {
    "duration": 24,
    "start_time": "2023-03-03T20:54:03.269Z"
   },
   {
    "duration": 15,
    "start_time": "2023-03-03T20:54:09.734Z"
   },
   {
    "duration": 13,
    "start_time": "2023-03-03T20:54:21.699Z"
   },
   {
    "duration": 11,
    "start_time": "2023-03-03T20:55:17.572Z"
   },
   {
    "duration": 6,
    "start_time": "2023-03-03T21:00:26.870Z"
   },
   {
    "duration": 9,
    "start_time": "2023-03-03T21:00:27.790Z"
   },
   {
    "duration": 1285,
    "start_time": "2023-03-03T21:04:20.320Z"
   },
   {
    "duration": 1262,
    "start_time": "2023-03-03T21:04:21.607Z"
   },
   {
    "duration": 4,
    "start_time": "2023-03-03T21:04:22.871Z"
   },
   {
    "duration": 461,
    "start_time": "2023-03-03T21:04:22.878Z"
   },
   {
    "duration": 158,
    "start_time": "2023-03-03T21:04:23.348Z"
   },
   {
    "duration": 90,
    "start_time": "2023-03-03T21:04:23.507Z"
   },
   {
    "duration": 9,
    "start_time": "2023-03-03T21:04:23.599Z"
   },
   {
    "duration": 28,
    "start_time": "2023-03-03T21:04:23.611Z"
   },
   {
    "duration": 34,
    "start_time": "2023-03-03T21:04:23.641Z"
   },
   {
    "duration": 12,
    "start_time": "2023-03-03T21:04:23.678Z"
   },
   {
    "duration": 19,
    "start_time": "2023-03-03T21:04:23.692Z"
   },
   {
    "duration": 27,
    "start_time": "2023-03-03T21:04:23.713Z"
   },
   {
    "duration": 24,
    "start_time": "2023-03-03T21:04:23.742Z"
   },
   {
    "duration": 52,
    "start_time": "2023-03-03T21:04:23.768Z"
   },
   {
    "duration": 23,
    "start_time": "2023-03-03T21:04:23.821Z"
   },
   {
    "duration": 29,
    "start_time": "2023-03-03T21:04:23.848Z"
   },
   {
    "duration": 57,
    "start_time": "2023-03-03T21:04:23.879Z"
   },
   {
    "duration": 6,
    "start_time": "2023-03-03T21:04:23.938Z"
   },
   {
    "duration": 21,
    "start_time": "2023-03-03T21:04:23.946Z"
   },
   {
    "duration": 17,
    "start_time": "2023-03-03T21:04:23.969Z"
   },
   {
    "duration": 20,
    "start_time": "2023-03-03T21:04:23.988Z"
   },
   {
    "duration": 150,
    "start_time": "2023-03-03T21:04:24.010Z"
   },
   {
    "duration": 11,
    "start_time": "2023-03-03T21:04:24.161Z"
   },
   {
    "duration": 27,
    "start_time": "2023-03-03T21:04:24.173Z"
   },
   {
    "duration": 35,
    "start_time": "2023-03-03T21:04:24.201Z"
   },
   {
    "duration": 7,
    "start_time": "2023-03-03T21:04:24.237Z"
   },
   {
    "duration": 7,
    "start_time": "2023-03-03T21:04:24.246Z"
   },
   {
    "duration": 20,
    "start_time": "2023-03-03T21:04:24.257Z"
   },
   {
    "duration": 26,
    "start_time": "2023-03-03T21:04:24.279Z"
   },
   {
    "duration": 425,
    "start_time": "2023-03-03T21:04:24.307Z"
   },
   {
    "duration": 799,
    "start_time": "2023-03-03T21:04:24.735Z"
   },
   {
    "duration": 13,
    "start_time": "2023-03-03T21:04:25.536Z"
   },
   {
    "duration": 24,
    "start_time": "2023-03-03T21:04:25.550Z"
   },
   {
    "duration": 273,
    "start_time": "2023-03-03T21:04:25.575Z"
   },
   {
    "duration": 31,
    "start_time": "2023-03-03T21:04:25.850Z"
   },
   {
    "duration": 6,
    "start_time": "2023-03-03T21:04:25.883Z"
   },
   {
    "duration": 64,
    "start_time": "2023-03-03T21:04:25.891Z"
   },
   {
    "duration": 1307,
    "start_time": "2023-03-04T09:14:22.318Z"
   },
   {
    "duration": 1174,
    "start_time": "2023-03-04T09:14:23.627Z"
   },
   {
    "duration": 3,
    "start_time": "2023-03-04T09:14:24.803Z"
   },
   {
    "duration": 391,
    "start_time": "2023-03-04T09:14:24.808Z"
   },
   {
    "duration": 125,
    "start_time": "2023-03-04T09:14:25.201Z"
   },
   {
    "duration": 80,
    "start_time": "2023-03-04T09:14:25.328Z"
   },
   {
    "duration": 5,
    "start_time": "2023-03-04T09:14:25.410Z"
   },
   {
    "duration": 12,
    "start_time": "2023-03-04T09:14:25.417Z"
   },
   {
    "duration": 14,
    "start_time": "2023-03-04T09:14:25.431Z"
   },
   {
    "duration": 7,
    "start_time": "2023-03-04T09:14:25.453Z"
   },
   {
    "duration": 8,
    "start_time": "2023-03-04T09:14:25.462Z"
   },
   {
    "duration": 7,
    "start_time": "2023-03-04T09:14:25.472Z"
   },
   {
    "duration": 38,
    "start_time": "2023-03-04T09:14:25.481Z"
   },
   {
    "duration": 38,
    "start_time": "2023-03-04T09:14:25.521Z"
   },
   {
    "duration": 21,
    "start_time": "2023-03-04T09:14:25.560Z"
   },
   {
    "duration": 9,
    "start_time": "2023-03-04T09:14:25.583Z"
   },
   {
    "duration": 62,
    "start_time": "2023-03-04T09:14:25.593Z"
   },
   {
    "duration": 7,
    "start_time": "2023-03-04T09:14:25.657Z"
   },
   {
    "duration": 9,
    "start_time": "2023-03-04T09:14:25.665Z"
   },
   {
    "duration": 6,
    "start_time": "2023-03-04T09:14:25.676Z"
   },
   {
    "duration": 6,
    "start_time": "2023-03-04T09:14:25.683Z"
   },
   {
    "duration": 151,
    "start_time": "2023-03-04T09:14:25.690Z"
   },
   {
    "duration": 14,
    "start_time": "2023-03-04T09:14:25.844Z"
   },
   {
    "duration": 10,
    "start_time": "2023-03-04T09:14:25.860Z"
   },
   {
    "duration": 23,
    "start_time": "2023-03-04T09:14:25.872Z"
   },
   {
    "duration": 6,
    "start_time": "2023-03-04T09:14:25.897Z"
   },
   {
    "duration": 8,
    "start_time": "2023-03-04T09:14:25.904Z"
   },
   {
    "duration": 30,
    "start_time": "2023-03-04T09:14:25.915Z"
   },
   {
    "duration": 27,
    "start_time": "2023-03-04T09:14:25.946Z"
   },
   {
    "duration": 369,
    "start_time": "2023-03-04T09:14:25.975Z"
   },
   {
    "duration": 743,
    "start_time": "2023-03-04T09:14:26.346Z"
   },
   {
    "duration": 8,
    "start_time": "2023-03-04T09:14:27.091Z"
   },
   {
    "duration": 20,
    "start_time": "2023-03-04T09:14:27.101Z"
   },
   {
    "duration": 335,
    "start_time": "2023-03-04T09:14:27.123Z"
   },
   {
    "duration": 22,
    "start_time": "2023-03-04T09:14:27.460Z"
   },
   {
    "duration": 8,
    "start_time": "2023-03-04T09:14:27.483Z"
   },
   {
    "duration": 54,
    "start_time": "2023-03-04T09:14:27.493Z"
   },
   {
    "duration": 1116,
    "start_time": "2023-03-04T09:17:24.080Z"
   },
   {
    "duration": 1044,
    "start_time": "2023-03-04T09:17:25.198Z"
   },
   {
    "duration": 3,
    "start_time": "2023-03-04T09:17:26.244Z"
   },
   {
    "duration": 463,
    "start_time": "2023-03-04T09:17:26.249Z"
   },
   {
    "duration": 110,
    "start_time": "2023-03-04T09:17:26.724Z"
   },
   {
    "duration": 90,
    "start_time": "2023-03-04T09:17:26.836Z"
   },
   {
    "duration": 17,
    "start_time": "2023-03-04T09:17:26.927Z"
   },
   {
    "duration": 6,
    "start_time": "2023-03-04T09:17:26.946Z"
   },
   {
    "duration": 10,
    "start_time": "2023-03-04T09:17:26.954Z"
   },
   {
    "duration": 4,
    "start_time": "2023-03-04T09:17:26.966Z"
   },
   {
    "duration": 10,
    "start_time": "2023-03-04T09:17:26.972Z"
   },
   {
    "duration": 11,
    "start_time": "2023-03-04T09:17:26.984Z"
   },
   {
    "duration": 19,
    "start_time": "2023-03-04T09:17:26.997Z"
   },
   {
    "duration": 58,
    "start_time": "2023-03-04T09:17:27.018Z"
   },
   {
    "duration": 21,
    "start_time": "2023-03-04T09:17:27.078Z"
   },
   {
    "duration": 10,
    "start_time": "2023-03-04T09:17:27.101Z"
   },
   {
    "duration": 50,
    "start_time": "2023-03-04T09:17:27.113Z"
   },
   {
    "duration": 6,
    "start_time": "2023-03-04T09:17:27.164Z"
   },
   {
    "duration": 15,
    "start_time": "2023-03-04T09:17:27.171Z"
   },
   {
    "duration": 10,
    "start_time": "2023-03-04T09:17:27.188Z"
   },
   {
    "duration": 6,
    "start_time": "2023-03-04T09:17:27.200Z"
   },
   {
    "duration": 134,
    "start_time": "2023-03-04T09:17:27.207Z"
   },
   {
    "duration": 9,
    "start_time": "2023-03-04T09:17:27.343Z"
   },
   {
    "duration": 4,
    "start_time": "2023-03-04T09:17:27.354Z"
   },
   {
    "duration": 22,
    "start_time": "2023-03-04T09:17:27.360Z"
   },
   {
    "duration": 7,
    "start_time": "2023-03-04T09:17:27.384Z"
   },
   {
    "duration": 8,
    "start_time": "2023-03-04T09:17:27.393Z"
   },
   {
    "duration": 51,
    "start_time": "2023-03-04T09:17:27.405Z"
   },
   {
    "duration": 22,
    "start_time": "2023-03-04T09:17:27.458Z"
   },
   {
    "duration": 384,
    "start_time": "2023-03-04T09:17:27.481Z"
   },
   {
    "duration": 799,
    "start_time": "2023-03-04T09:17:27.867Z"
   },
   {
    "duration": 9,
    "start_time": "2023-03-04T09:17:28.668Z"
   },
   {
    "duration": 23,
    "start_time": "2023-03-04T09:17:28.678Z"
   },
   {
    "duration": 300,
    "start_time": "2023-03-04T09:17:28.702Z"
   },
   {
    "duration": 37,
    "start_time": "2023-03-04T09:17:29.004Z"
   },
   {
    "duration": 6,
    "start_time": "2023-03-04T09:17:29.042Z"
   },
   {
    "duration": 12,
    "start_time": "2023-03-04T09:17:29.050Z"
   },
   {
    "duration": 17,
    "start_time": "2023-03-04T09:53:37.833Z"
   },
   {
    "duration": 50,
    "start_time": "2023-03-04T09:53:38.324Z"
   },
   {
    "duration": 1586,
    "start_time": "2023-03-04T09:53:51.756Z"
   },
   {
    "duration": 1061,
    "start_time": "2023-03-04T09:53:53.345Z"
   },
   {
    "duration": 3,
    "start_time": "2023-03-04T09:53:54.408Z"
   },
   {
    "duration": 475,
    "start_time": "2023-03-04T09:53:54.413Z"
   },
   {
    "duration": 148,
    "start_time": "2023-03-04T09:53:54.891Z"
   },
   {
    "duration": 87,
    "start_time": "2023-03-04T09:53:55.041Z"
   },
   {
    "duration": 28,
    "start_time": "2023-03-04T09:53:55.130Z"
   },
   {
    "duration": 25,
    "start_time": "2023-03-04T09:53:55.160Z"
   },
   {
    "duration": 16,
    "start_time": "2023-03-04T09:53:55.187Z"
   },
   {
    "duration": 4,
    "start_time": "2023-03-04T09:53:55.206Z"
   },
   {
    "duration": 9,
    "start_time": "2023-03-04T09:53:55.212Z"
   },
   {
    "duration": 8,
    "start_time": "2023-03-04T09:53:55.223Z"
   },
   {
    "duration": 26,
    "start_time": "2023-03-04T09:53:55.232Z"
   },
   {
    "duration": 43,
    "start_time": "2023-03-04T09:53:55.260Z"
   },
   {
    "duration": 21,
    "start_time": "2023-03-04T09:53:55.305Z"
   },
   {
    "duration": 29,
    "start_time": "2023-03-04T09:53:55.328Z"
   },
   {
    "duration": 39,
    "start_time": "2023-03-04T09:53:55.361Z"
   },
   {
    "duration": 6,
    "start_time": "2023-03-04T09:53:55.402Z"
   },
   {
    "duration": 15,
    "start_time": "2023-03-04T09:53:55.409Z"
   },
   {
    "duration": 21,
    "start_time": "2023-03-04T09:53:55.427Z"
   },
   {
    "duration": 22,
    "start_time": "2023-03-04T09:53:55.456Z"
   },
   {
    "duration": 136,
    "start_time": "2023-03-04T09:53:55.480Z"
   },
   {
    "duration": 11,
    "start_time": "2023-03-04T09:53:55.618Z"
   },
   {
    "duration": 16,
    "start_time": "2023-03-04T09:53:55.631Z"
   },
   {
    "duration": 31,
    "start_time": "2023-03-04T09:53:55.648Z"
   },
   {
    "duration": 7,
    "start_time": "2023-03-04T09:53:55.681Z"
   },
   {
    "duration": 13,
    "start_time": "2023-03-04T09:53:55.690Z"
   },
   {
    "duration": 25,
    "start_time": "2023-03-04T09:53:55.706Z"
   },
   {
    "duration": 36,
    "start_time": "2023-03-04T09:53:55.733Z"
   },
   {
    "duration": 422,
    "start_time": "2023-03-04T09:53:55.771Z"
   },
   {
    "duration": 900,
    "start_time": "2023-03-04T09:53:56.195Z"
   },
   {
    "duration": 14,
    "start_time": "2023-03-04T09:53:57.097Z"
   },
   {
    "duration": 56,
    "start_time": "2023-03-04T09:53:57.113Z"
   },
   {
    "duration": 262,
    "start_time": "2023-03-04T09:53:57.172Z"
   },
   {
    "duration": 41,
    "start_time": "2023-03-04T09:53:57.437Z"
   },
   {
    "duration": 38,
    "start_time": "2023-03-04T09:53:57.483Z"
   },
   {
    "duration": 17,
    "start_time": "2023-03-04T09:53:57.545Z"
   },
   {
    "duration": 123,
    "start_time": "2023-03-04T10:21:32.014Z"
   },
   {
    "duration": 17,
    "start_time": "2023-03-04T10:21:54.761Z"
   },
   {
    "duration": 10,
    "start_time": "2023-03-04T10:22:39.897Z"
   },
   {
    "duration": 44,
    "start_time": "2023-03-04T10:23:10.889Z"
   },
   {
    "duration": 13,
    "start_time": "2023-03-04T10:23:16.377Z"
   },
   {
    "duration": 14,
    "start_time": "2023-03-04T10:26:39.557Z"
   },
   {
    "duration": 16,
    "start_time": "2023-03-04T10:26:53.159Z"
   },
   {
    "duration": 19,
    "start_time": "2023-03-04T10:38:39.171Z"
   },
   {
    "duration": 12,
    "start_time": "2023-03-04T10:40:27.869Z"
   },
   {
    "duration": 25,
    "start_time": "2023-03-04T10:40:44.685Z"
   },
   {
    "duration": 17,
    "start_time": "2023-03-04T10:40:45.537Z"
   },
   {
    "duration": 15,
    "start_time": "2023-03-04T10:41:08.839Z"
   },
   {
    "duration": 12,
    "start_time": "2023-03-04T10:41:30.061Z"
   },
   {
    "duration": 15,
    "start_time": "2023-03-04T10:41:34.125Z"
   },
   {
    "duration": 7,
    "start_time": "2023-03-04T10:41:48.993Z"
   },
   {
    "duration": 8,
    "start_time": "2023-03-04T10:54:41.362Z"
   },
   {
    "duration": 10,
    "start_time": "2023-03-04T10:54:42.089Z"
   },
   {
    "duration": 1410,
    "start_time": "2023-03-04T11:02:23.006Z"
   },
   {
    "duration": 1211,
    "start_time": "2023-03-04T11:02:24.419Z"
   },
   {
    "duration": 4,
    "start_time": "2023-03-04T11:02:25.632Z"
   },
   {
    "duration": 559,
    "start_time": "2023-03-04T11:02:25.639Z"
   },
   {
    "duration": 224,
    "start_time": "2023-03-04T11:02:26.200Z"
   },
   {
    "duration": 150,
    "start_time": "2023-03-04T11:02:26.427Z"
   },
   {
    "duration": 8,
    "start_time": "2023-03-04T11:02:26.579Z"
   },
   {
    "duration": 18,
    "start_time": "2023-03-04T11:02:26.590Z"
   },
   {
    "duration": 18,
    "start_time": "2023-03-04T11:02:26.610Z"
   },
   {
    "duration": 13,
    "start_time": "2023-03-04T11:02:26.632Z"
   },
   {
    "duration": 31,
    "start_time": "2023-03-04T11:02:26.647Z"
   },
   {
    "duration": 14,
    "start_time": "2023-03-04T11:02:26.681Z"
   },
   {
    "duration": 21,
    "start_time": "2023-03-04T11:02:26.697Z"
   },
   {
    "duration": 60,
    "start_time": "2023-03-04T11:02:26.720Z"
   },
   {
    "duration": 31,
    "start_time": "2023-03-04T11:02:26.783Z"
   },
   {
    "duration": 16,
    "start_time": "2023-03-04T11:02:26.817Z"
   },
   {
    "duration": 60,
    "start_time": "2023-03-04T11:02:26.845Z"
   },
   {
    "duration": 9,
    "start_time": "2023-03-04T11:02:26.907Z"
   },
   {
    "duration": 44,
    "start_time": "2023-03-04T11:02:26.919Z"
   },
   {
    "duration": 27,
    "start_time": "2023-03-04T11:02:26.965Z"
   },
   {
    "duration": 16,
    "start_time": "2023-03-04T11:02:26.994Z"
   },
   {
    "duration": 232,
    "start_time": "2023-03-04T11:02:27.013Z"
   },
   {
    "duration": 16,
    "start_time": "2023-03-04T11:02:27.247Z"
   },
   {
    "duration": 22,
    "start_time": "2023-03-04T11:02:27.265Z"
   },
   {
    "duration": 34,
    "start_time": "2023-03-04T11:02:27.289Z"
   },
   {
    "duration": 8,
    "start_time": "2023-03-04T11:02:27.325Z"
   },
   {
    "duration": 18,
    "start_time": "2023-03-04T11:02:27.336Z"
   },
   {
    "duration": 41,
    "start_time": "2023-03-04T11:02:27.357Z"
   },
   {
    "duration": 31,
    "start_time": "2023-03-04T11:02:27.400Z"
   },
   {
    "duration": 540,
    "start_time": "2023-03-04T11:02:27.433Z"
   },
   {
    "duration": 867,
    "start_time": "2023-03-04T11:02:27.976Z"
   },
   {
    "duration": 12,
    "start_time": "2023-03-04T11:02:28.845Z"
   },
   {
    "duration": 80,
    "start_time": "2023-03-04T11:02:28.858Z"
   },
   {
    "duration": 270,
    "start_time": "2023-03-04T11:02:28.939Z"
   },
   {
    "duration": 36,
    "start_time": "2023-03-04T11:02:29.212Z"
   },
   {
    "duration": 28,
    "start_time": "2023-03-04T11:02:29.251Z"
   },
   {
    "duration": 23,
    "start_time": "2023-03-04T11:02:29.280Z"
   },
   {
    "duration": 1288,
    "start_time": "2023-03-05T07:22:32.805Z"
   },
   {
    "duration": 1169,
    "start_time": "2023-03-05T07:22:34.104Z"
   },
   {
    "duration": 3,
    "start_time": "2023-03-05T07:22:35.275Z"
   },
   {
    "duration": 420,
    "start_time": "2023-03-05T07:22:35.280Z"
   },
   {
    "duration": 117,
    "start_time": "2023-03-05T07:22:35.702Z"
   },
   {
    "duration": 106,
    "start_time": "2023-03-05T07:22:35.821Z"
   },
   {
    "duration": 8,
    "start_time": "2023-03-05T07:22:35.928Z"
   },
   {
    "duration": 16,
    "start_time": "2023-03-05T07:22:35.939Z"
   },
   {
    "duration": 14,
    "start_time": "2023-03-05T07:22:35.957Z"
   },
   {
    "duration": 9,
    "start_time": "2023-03-05T07:22:35.973Z"
   },
   {
    "duration": 9,
    "start_time": "2023-03-05T07:22:35.991Z"
   },
   {
    "duration": 17,
    "start_time": "2023-03-05T07:22:36.006Z"
   },
   {
    "duration": 16,
    "start_time": "2023-03-05T07:22:36.025Z"
   },
   {
    "duration": 27,
    "start_time": "2023-03-05T07:22:36.044Z"
   },
   {
    "duration": 46,
    "start_time": "2023-03-05T07:22:36.073Z"
   },
   {
    "duration": 11,
    "start_time": "2023-03-05T07:22:36.121Z"
   },
   {
    "duration": 46,
    "start_time": "2023-03-05T07:22:36.133Z"
   },
   {
    "duration": 6,
    "start_time": "2023-03-05T07:22:36.181Z"
   },
   {
    "duration": 26,
    "start_time": "2023-03-05T07:22:36.188Z"
   },
   {
    "duration": 17,
    "start_time": "2023-03-05T07:22:36.216Z"
   },
   {
    "duration": 14,
    "start_time": "2023-03-05T07:22:36.235Z"
   },
   {
    "duration": 156,
    "start_time": "2023-03-05T07:22:36.252Z"
   },
   {
    "duration": 10,
    "start_time": "2023-03-05T07:22:36.414Z"
   },
   {
    "duration": 11,
    "start_time": "2023-03-05T07:22:36.426Z"
   },
   {
    "duration": 49,
    "start_time": "2023-03-05T07:22:36.439Z"
   },
   {
    "duration": 39,
    "start_time": "2023-03-05T07:22:36.490Z"
   },
   {
    "duration": 189,
    "start_time": "2023-03-05T07:22:36.531Z"
   },
   {
    "duration": 22,
    "start_time": "2023-03-05T07:22:36.721Z"
   },
   {
    "duration": 19,
    "start_time": "2023-03-05T07:22:36.744Z"
   },
   {
    "duration": 370,
    "start_time": "2023-03-05T07:22:36.765Z"
   },
   {
    "duration": 811,
    "start_time": "2023-03-05T07:22:37.136Z"
   },
   {
    "duration": 9,
    "start_time": "2023-03-05T07:22:37.949Z"
   },
   {
    "duration": 100,
    "start_time": "2023-03-05T07:22:37.959Z"
   },
   {
    "duration": 295,
    "start_time": "2023-03-05T07:22:38.061Z"
   },
   {
    "duration": 23,
    "start_time": "2023-03-05T07:22:38.358Z"
   },
   {
    "duration": 7,
    "start_time": "2023-03-05T07:22:38.383Z"
   },
   {
    "duration": 30,
    "start_time": "2023-03-05T07:22:38.392Z"
   },
   {
    "duration": 1662,
    "start_time": "2023-03-05T07:49:33.549Z"
   },
   {
    "duration": 1870,
    "start_time": "2023-03-05T07:49:36.309Z"
   },
   {
    "duration": 5,
    "start_time": "2023-03-05T07:49:40.817Z"
   },
   {
    "duration": 634,
    "start_time": "2023-03-05T07:49:43.371Z"
   },
   {
    "duration": 193,
    "start_time": "2023-03-05T07:49:48.085Z"
   },
   {
    "duration": 94,
    "start_time": "2023-03-05T07:49:49.330Z"
   },
   {
    "duration": 12,
    "start_time": "2023-03-05T07:49:52.784Z"
   },
   {
    "duration": 6,
    "start_time": "2023-03-05T07:49:53.306Z"
   },
   {
    "duration": 9,
    "start_time": "2023-03-05T07:49:53.701Z"
   },
   {
    "duration": 14,
    "start_time": "2023-03-05T07:49:55.485Z"
   },
   {
    "duration": 7,
    "start_time": "2023-03-05T07:49:55.821Z"
   },
   {
    "duration": 10,
    "start_time": "2023-03-05T07:49:56.197Z"
   },
   {
    "duration": 16,
    "start_time": "2023-03-05T07:49:58.313Z"
   }
  ],
  "kernelspec": {
   "display_name": "Python 3 (ipykernel)",
   "language": "python",
   "name": "python3"
  },
  "language_info": {
   "codemirror_mode": {
    "name": "ipython",
    "version": 3
   },
   "file_extension": ".py",
   "mimetype": "text/x-python",
   "name": "python",
   "nbconvert_exporter": "python",
   "pygments_lexer": "ipython3",
   "version": "3.8.6"
  },
  "toc": {
   "base_numbering": 1,
   "nav_menu": {},
   "number_sections": true,
   "sideBar": true,
   "skip_h1_title": true,
   "title_cell": "Table of Contents",
   "title_sidebar": "Contents",
   "toc_cell": false,
   "toc_position": {
    "height": "calc(100% - 180px)",
    "left": "10px",
    "top": "150px",
    "width": "165px"
   },
   "toc_section_display": true,
   "toc_window_display": true
  }
 },
 "nbformat": 4,
 "nbformat_minor": 2
}
