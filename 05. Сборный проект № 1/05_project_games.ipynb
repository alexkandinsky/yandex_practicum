{
 "cells": [
  {
   "cell_type": "markdown",
   "metadata": {},
   "source": [
    "# Проект: Исследование рынка видеоигр. #"
   ]
  },
  {
   "cell_type": "markdown",
   "metadata": {},
   "source": [
    "### Описание проекта ###\n",
    "Вы работаете в интернет-магазине «Стримчик», который продаёт по всему миру компьютерные игры. Из открытых источников доступны исторические данные о продажах игр, оценки пользователей и экспертов, жанры и платформы (например, Xbox или PlayStation). Вам нужно выявить определяющие успешность игры закономерности. Это позволит сделать ставку на потенциально популярный продукт и спланировать рекламные кампании.<br><br>\n",
    "Перед вами данные до 2016 года. Представим, что сейчас декабрь 2016 г., и вы планируете кампанию на 2017-й. Нужно отработать принцип работы с данными. Неважно, прогнозируете ли вы продажи на 2017 год по данным 2016-го или же 2027-й — по данным 2026 года.<br><br>\n",
    "В наборе данных попадается аббревиатура ESRB (Entertainment Software Rating Board) — это ассоциация, определяющая возрастной рейтинг компьютерных игр. ESRB оценивает игровой контент и присваивает ему подходящую возрастную категорию, например, «Для взрослых», «Для детей младшего возраста» или «Для подростков»."
   ]
  },
  {
   "cell_type": "markdown",
   "metadata": {},
   "source": [
    "### Датафрейм имеет следующую структуру: ###\n",
    "Name — название игры<br><br>\n",
    "Platform — платформа<br><br>\n",
    "Year_of_Release — год выпуска<br><br>\n",
    "Genre — жанр игры<br><br>\n",
    "NA_sales — продажи в Северной Америке (миллионы проданных копий)<br><br>\n",
    "EU_sales — продажи в Европе (миллионы проданных копий)<br><br>\n",
    "JP_sales — продажи в Японии (миллионы проданных копий)<br><br>\n",
    "Other_sales — продажи в других странах (миллионы проданных копий)<br><br>\n",
    "Critic_Score — оценка критиков (максимум 100)<br><br>\n",
    "User_Score — оценка пользователей (максимум 10)<br><br>\n",
    "Rating — рейтинг от организации ESRB (англ. Entertainment Software Rating Board). Эта ассоциация определяет рейтинг компьютерных игр и присваивает им подходящую возрастную категорию."
   ]
  },
  {
   "cell_type": "markdown",
   "metadata": {},
   "source": [
    "### План работы над проектом: ###\n",
    "1.Изучение данных из файла.<br><br>2.Предобработка данных.<br><br>3.Проведение исследовательского анализа и подготовка актуальных данных.<br><br>4.Составление портретов пользователей для крупных регионов продаж.<br><br>5.Проверка гипотез предложенных гипотез.<br><br>6.Итоговый вывод"
   ]
  },
  {
   "cell_type": "markdown",
   "metadata": {},
   "source": [
    "# Шаг 1. Откройте файл с данными и изучите общую информацию #"
   ]
  },
  {
   "cell_type": "code",
   "execution_count": 1,
   "metadata": {},
   "outputs": [],
   "source": [
    "# импорт библиотек\n",
    "import pandas as pd\n",
    "import numpy as np\n",
    "import matplotlib.pyplot as plt\n",
    "import seaborn as sns\n",
    "import scipy.stats as st"
   ]
  },
  {
   "cell_type": "code",
   "execution_count": 2,
   "metadata": {},
   "outputs": [],
   "source": [
    "# чтение файла с данными и сохранение в df\n",
    "df = pd.read_csv('/datasets/games.csv')"
   ]
  },
  {
   "cell_type": "code",
   "execution_count": 3,
   "metadata": {},
   "outputs": [
    {
     "data": {
      "text/html": [
       "<div>\n",
       "<style scoped>\n",
       "    .dataframe tbody tr th:only-of-type {\n",
       "        vertical-align: middle;\n",
       "    }\n",
       "\n",
       "    .dataframe tbody tr th {\n",
       "        vertical-align: top;\n",
       "    }\n",
       "\n",
       "    .dataframe thead th {\n",
       "        text-align: right;\n",
       "    }\n",
       "</style>\n",
       "<table border=\"1\" class=\"dataframe\">\n",
       "  <thead>\n",
       "    <tr style=\"text-align: right;\">\n",
       "      <th></th>\n",
       "      <th>Name</th>\n",
       "      <th>Platform</th>\n",
       "      <th>Year_of_Release</th>\n",
       "      <th>Genre</th>\n",
       "      <th>NA_sales</th>\n",
       "      <th>EU_sales</th>\n",
       "      <th>JP_sales</th>\n",
       "      <th>Other_sales</th>\n",
       "      <th>Critic_Score</th>\n",
       "      <th>User_Score</th>\n",
       "      <th>Rating</th>\n",
       "    </tr>\n",
       "  </thead>\n",
       "  <tbody>\n",
       "    <tr>\n",
       "      <th>0</th>\n",
       "      <td>Wii Sports</td>\n",
       "      <td>Wii</td>\n",
       "      <td>2006.0</td>\n",
       "      <td>Sports</td>\n",
       "      <td>41.36</td>\n",
       "      <td>28.96</td>\n",
       "      <td>3.77</td>\n",
       "      <td>8.45</td>\n",
       "      <td>76.0</td>\n",
       "      <td>8</td>\n",
       "      <td>E</td>\n",
       "    </tr>\n",
       "    <tr>\n",
       "      <th>1</th>\n",
       "      <td>Super Mario Bros.</td>\n",
       "      <td>NES</td>\n",
       "      <td>1985.0</td>\n",
       "      <td>Platform</td>\n",
       "      <td>29.08</td>\n",
       "      <td>3.58</td>\n",
       "      <td>6.81</td>\n",
       "      <td>0.77</td>\n",
       "      <td>NaN</td>\n",
       "      <td>NaN</td>\n",
       "      <td>NaN</td>\n",
       "    </tr>\n",
       "    <tr>\n",
       "      <th>2</th>\n",
       "      <td>Mario Kart Wii</td>\n",
       "      <td>Wii</td>\n",
       "      <td>2008.0</td>\n",
       "      <td>Racing</td>\n",
       "      <td>15.68</td>\n",
       "      <td>12.76</td>\n",
       "      <td>3.79</td>\n",
       "      <td>3.29</td>\n",
       "      <td>82.0</td>\n",
       "      <td>8.3</td>\n",
       "      <td>E</td>\n",
       "    </tr>\n",
       "    <tr>\n",
       "      <th>3</th>\n",
       "      <td>Wii Sports Resort</td>\n",
       "      <td>Wii</td>\n",
       "      <td>2009.0</td>\n",
       "      <td>Sports</td>\n",
       "      <td>15.61</td>\n",
       "      <td>10.93</td>\n",
       "      <td>3.28</td>\n",
       "      <td>2.95</td>\n",
       "      <td>80.0</td>\n",
       "      <td>8</td>\n",
       "      <td>E</td>\n",
       "    </tr>\n",
       "    <tr>\n",
       "      <th>4</th>\n",
       "      <td>Pokemon Red/Pokemon Blue</td>\n",
       "      <td>GB</td>\n",
       "      <td>1996.0</td>\n",
       "      <td>Role-Playing</td>\n",
       "      <td>11.27</td>\n",
       "      <td>8.89</td>\n",
       "      <td>10.22</td>\n",
       "      <td>1.00</td>\n",
       "      <td>NaN</td>\n",
       "      <td>NaN</td>\n",
       "      <td>NaN</td>\n",
       "    </tr>\n",
       "    <tr>\n",
       "      <th>5</th>\n",
       "      <td>Tetris</td>\n",
       "      <td>GB</td>\n",
       "      <td>1989.0</td>\n",
       "      <td>Puzzle</td>\n",
       "      <td>23.20</td>\n",
       "      <td>2.26</td>\n",
       "      <td>4.22</td>\n",
       "      <td>0.58</td>\n",
       "      <td>NaN</td>\n",
       "      <td>NaN</td>\n",
       "      <td>NaN</td>\n",
       "    </tr>\n",
       "    <tr>\n",
       "      <th>6</th>\n",
       "      <td>New Super Mario Bros.</td>\n",
       "      <td>DS</td>\n",
       "      <td>2006.0</td>\n",
       "      <td>Platform</td>\n",
       "      <td>11.28</td>\n",
       "      <td>9.14</td>\n",
       "      <td>6.50</td>\n",
       "      <td>2.88</td>\n",
       "      <td>89.0</td>\n",
       "      <td>8.5</td>\n",
       "      <td>E</td>\n",
       "    </tr>\n",
       "    <tr>\n",
       "      <th>7</th>\n",
       "      <td>Wii Play</td>\n",
       "      <td>Wii</td>\n",
       "      <td>2006.0</td>\n",
       "      <td>Misc</td>\n",
       "      <td>13.96</td>\n",
       "      <td>9.18</td>\n",
       "      <td>2.93</td>\n",
       "      <td>2.84</td>\n",
       "      <td>58.0</td>\n",
       "      <td>6.6</td>\n",
       "      <td>E</td>\n",
       "    </tr>\n",
       "    <tr>\n",
       "      <th>8</th>\n",
       "      <td>New Super Mario Bros. Wii</td>\n",
       "      <td>Wii</td>\n",
       "      <td>2009.0</td>\n",
       "      <td>Platform</td>\n",
       "      <td>14.44</td>\n",
       "      <td>6.94</td>\n",
       "      <td>4.70</td>\n",
       "      <td>2.24</td>\n",
       "      <td>87.0</td>\n",
       "      <td>8.4</td>\n",
       "      <td>E</td>\n",
       "    </tr>\n",
       "    <tr>\n",
       "      <th>9</th>\n",
       "      <td>Duck Hunt</td>\n",
       "      <td>NES</td>\n",
       "      <td>1984.0</td>\n",
       "      <td>Shooter</td>\n",
       "      <td>26.93</td>\n",
       "      <td>0.63</td>\n",
       "      <td>0.28</td>\n",
       "      <td>0.47</td>\n",
       "      <td>NaN</td>\n",
       "      <td>NaN</td>\n",
       "      <td>NaN</td>\n",
       "    </tr>\n",
       "  </tbody>\n",
       "</table>\n",
       "</div>"
      ],
      "text/plain": [
       "                        Name Platform  Year_of_Release         Genre  \\\n",
       "0                 Wii Sports      Wii           2006.0        Sports   \n",
       "1          Super Mario Bros.      NES           1985.0      Platform   \n",
       "2             Mario Kart Wii      Wii           2008.0        Racing   \n",
       "3          Wii Sports Resort      Wii           2009.0        Sports   \n",
       "4   Pokemon Red/Pokemon Blue       GB           1996.0  Role-Playing   \n",
       "5                     Tetris       GB           1989.0        Puzzle   \n",
       "6      New Super Mario Bros.       DS           2006.0      Platform   \n",
       "7                   Wii Play      Wii           2006.0          Misc   \n",
       "8  New Super Mario Bros. Wii      Wii           2009.0      Platform   \n",
       "9                  Duck Hunt      NES           1984.0       Shooter   \n",
       "\n",
       "   NA_sales  EU_sales  JP_sales  Other_sales  Critic_Score User_Score Rating  \n",
       "0     41.36     28.96      3.77         8.45          76.0          8      E  \n",
       "1     29.08      3.58      6.81         0.77           NaN        NaN    NaN  \n",
       "2     15.68     12.76      3.79         3.29          82.0        8.3      E  \n",
       "3     15.61     10.93      3.28         2.95          80.0          8      E  \n",
       "4     11.27      8.89     10.22         1.00           NaN        NaN    NaN  \n",
       "5     23.20      2.26      4.22         0.58           NaN        NaN    NaN  \n",
       "6     11.28      9.14      6.50         2.88          89.0        8.5      E  \n",
       "7     13.96      9.18      2.93         2.84          58.0        6.6      E  \n",
       "8     14.44      6.94      4.70         2.24          87.0        8.4      E  \n",
       "9     26.93      0.63      0.28         0.47           NaN        NaN    NaN  "
      ]
     },
     "execution_count": 3,
     "metadata": {},
     "output_type": "execute_result"
    }
   ],
   "source": [
    "df.head(10)"
   ]
  },
  {
   "cell_type": "code",
   "execution_count": 4,
   "metadata": {},
   "outputs": [
    {
     "name": "stdout",
     "output_type": "stream",
     "text": [
      "<class 'pandas.core.frame.DataFrame'>\n",
      "RangeIndex: 16715 entries, 0 to 16714\n",
      "Data columns (total 11 columns):\n",
      " #   Column           Non-Null Count  Dtype  \n",
      "---  ------           --------------  -----  \n",
      " 0   Name             16713 non-null  object \n",
      " 1   Platform         16715 non-null  object \n",
      " 2   Year_of_Release  16446 non-null  float64\n",
      " 3   Genre            16713 non-null  object \n",
      " 4   NA_sales         16715 non-null  float64\n",
      " 5   EU_sales         16715 non-null  float64\n",
      " 6   JP_sales         16715 non-null  float64\n",
      " 7   Other_sales      16715 non-null  float64\n",
      " 8   Critic_Score     8137 non-null   float64\n",
      " 9   User_Score       10014 non-null  object \n",
      " 10  Rating           9949 non-null   object \n",
      "dtypes: float64(6), object(5)\n",
      "memory usage: 1.4+ MB\n"
     ]
    }
   ],
   "source": [
    "df.info()"
   ]
  },
  {
   "cell_type": "code",
   "execution_count": 5,
   "metadata": {},
   "outputs": [
    {
     "data": {
      "text/plain": [
       "Name                  2\n",
       "Platform              0\n",
       "Year_of_Release     269\n",
       "Genre                 2\n",
       "NA_sales              0\n",
       "EU_sales              0\n",
       "JP_sales              0\n",
       "Other_sales           0\n",
       "Critic_Score       8578\n",
       "User_Score         6701\n",
       "Rating             6766\n",
       "dtype: int64"
      ]
     },
     "execution_count": 5,
     "metadata": {},
     "output_type": "execute_result"
    }
   ],
   "source": [
    "df.isna().sum()"
   ]
  },
  {
   "cell_type": "markdown",
   "metadata": {},
   "source": [
    "**Вывод:**<br><br>\n",
    "При первом визуальном ознакомлении с данными мы видим, что необходимо привести наименование всех столбцов к нижнему регистру, проанализировать пропуски(Name, Year_of_Release, Genre, Critic_Score, User_Score, Rating), по возможности заполнить их данными, а так же заменить тип данных в некоторых стобцах.('Year_of_Release' и 'User_Score')."
   ]
  },
  {
   "cell_type": "markdown",
   "metadata": {},
   "source": [
    "# Шаг 2. Подготовим данные #"
   ]
  },
  {
   "cell_type": "code",
   "execution_count": 6,
   "metadata": {},
   "outputs": [],
   "source": [
    "# названия столбцов не соответствуют snake case, приведем все к нижнему регистру.\n",
    "df.columns = df.columns.str.lower() "
   ]
  },
  {
   "cell_type": "code",
   "execution_count": 7,
   "metadata": {},
   "outputs": [
    {
     "data": {
      "text/plain": [
       "Index(['name', 'platform', 'year_of_release', 'genre', 'na_sales', 'eu_sales',\n",
       "       'jp_sales', 'other_sales', 'critic_score', 'user_score', 'rating'],\n",
       "      dtype='object')"
      ]
     },
     "execution_count": 7,
     "metadata": {},
     "output_type": "execute_result"
    }
   ],
   "source": [
    "df.columns"
   ]
  },
  {
   "cell_type": "code",
   "execution_count": 8,
   "metadata": {},
   "outputs": [],
   "source": [
    "# в столбце name имеются пропуски, заполним их.\n",
    "df['name'] = df['name'].fillna('no name')"
   ]
  },
  {
   "cell_type": "code",
   "execution_count": 9,
   "metadata": {},
   "outputs": [
    {
     "data": {
      "text/plain": [
       "0"
      ]
     },
     "execution_count": 9,
     "metadata": {},
     "output_type": "execute_result"
    }
   ],
   "source": [
    "df['name'].isna().sum()"
   ]
  },
  {
   "cell_type": "code",
   "execution_count": 10,
   "metadata": {},
   "outputs": [],
   "source": [
    "# в столбце genre имеются пропуски, заполним их.\n",
    "df['genre'] = df['genre'].fillna('no genre')"
   ]
  },
  {
   "cell_type": "code",
   "execution_count": 11,
   "metadata": {},
   "outputs": [
    {
     "data": {
      "text/plain": [
       "0"
      ]
     },
     "execution_count": 11,
     "metadata": {},
     "output_type": "execute_result"
    }
   ],
   "source": [
    "df['genre'].isna().sum()"
   ]
  },
  {
   "cell_type": "code",
   "execution_count": 12,
   "metadata": {},
   "outputs": [],
   "source": [
    "# cтроки с пропущенным годом релиза удалим, их количество не на столько высоко, от общего объема данных.\n",
    "df.dropna(subset=['year_of_release'], inplace=True)"
   ]
  },
  {
   "cell_type": "code",
   "execution_count": 13,
   "metadata": {},
   "outputs": [],
   "source": [
    "# год выпуска приведем к целочисленному типу данных.\n",
    "df['year_of_release'] = df['year_of_release'].astype('int')"
   ]
  },
  {
   "cell_type": "code",
   "execution_count": 14,
   "metadata": {},
   "outputs": [],
   "source": [
    "# аббревиатура \"tbd\" означает \"to be defined\" - предстоит определить, заменим на их на NaN.\n",
    "df['user_score'] = df['user_score'].replace('tbd', np.nan, regex=True)"
   ]
  },
  {
   "cell_type": "code",
   "execution_count": 15,
   "metadata": {},
   "outputs": [],
   "source": [
    "# оценку пользователей переведем к типу данных c плавающей точкой.\n",
    "df['user_score'] = df['user_score'].astype('float')"
   ]
  },
  {
   "cell_type": "code",
   "execution_count": 16,
   "metadata": {},
   "outputs": [],
   "source": [
    "# пропуски в рейтинге ESRB заменим на without rating\n",
    "df['rating'] = df['rating'].fillna('without rating')"
   ]
  },
  {
   "cell_type": "code",
   "execution_count": 17,
   "metadata": {},
   "outputs": [
    {
     "data": {
      "text/plain": [
       "0"
      ]
     },
     "execution_count": 17,
     "metadata": {},
     "output_type": "execute_result"
    }
   ],
   "source": [
    "# поиск дубликатов\n",
    "df.duplicated().sum()"
   ]
  },
  {
   "cell_type": "code",
   "execution_count": 18,
   "metadata": {},
   "outputs": [],
   "source": [
    "# cоздадим столбец с суммарными продажами во всех регионах\n",
    "df['total_sales'] = df['na_sales'] + df['eu_sales'] + df['jp_sales'] + df['other_sales']"
   ]
  },
  {
   "cell_type": "code",
   "execution_count": 19,
   "metadata": {},
   "outputs": [
    {
     "name": "stdout",
     "output_type": "stream",
     "text": [
      "<class 'pandas.core.frame.DataFrame'>\n",
      "Int64Index: 16446 entries, 0 to 16714\n",
      "Data columns (total 12 columns):\n",
      " #   Column           Non-Null Count  Dtype  \n",
      "---  ------           --------------  -----  \n",
      " 0   name             16446 non-null  object \n",
      " 1   platform         16446 non-null  object \n",
      " 2   year_of_release  16446 non-null  int64  \n",
      " 3   genre            16446 non-null  object \n",
      " 4   na_sales         16446 non-null  float64\n",
      " 5   eu_sales         16446 non-null  float64\n",
      " 6   jp_sales         16446 non-null  float64\n",
      " 7   other_sales      16446 non-null  float64\n",
      " 8   critic_score     7983 non-null   float64\n",
      " 9   user_score       7463 non-null   float64\n",
      " 10  rating           16446 non-null  object \n",
      " 11  total_sales      16446 non-null  float64\n",
      "dtypes: float64(7), int64(1), object(4)\n",
      "memory usage: 1.6+ MB\n"
     ]
    }
   ],
   "source": [
    "df.info()"
   ]
  },
  {
   "cell_type": "markdown",
   "metadata": {},
   "source": [
    "**Вывод:**<br><br>В результате предобработки данных, наименование столбцов было приведено к нижнему регистру, пропущенные значения в стобцах 'name' и 'genre' заменены на соотвественные значения 'no name' и 'no genre', удалены строки с пропусками в столбце 'year_of_release' и значения столбца приведены к типу данных int, значения user_score, равные 'tbd' изменено на пропуск (nan)и значения столбца приведены к типу данных float, пропуски значений столбца 'rating' заменены на значение 'without rating', дубликаты не обнаружены, подсчитаны суммарные продажи во всех регионах в столбце 'total_sales'. "
   ]
  },
  {
   "cell_type": "markdown",
   "metadata": {},
   "source": [
    "Пропуски в столбце 'year_of_release' могли возникнуть в случе, если агрегатор игр не получил всю необходимую информацию от производителя. Пропуски в столбцах 'critic_score' и 'user_score' оставляем без изменений, во избежание искажения результатов анализа. Вероятно, пропуски связны с тем, что не каждая игра удостаивалась внимания критиков или доходила до широких международных рынков, а также с региональными особенностями. Пропуски в столбце 'rating' возможно связаны с тем что, агенство по рейтингу игр не оценила данные продукты игровой индустрии.\n"
   ]
  },
  {
   "cell_type": "markdown",
   "metadata": {},
   "source": [
    "# Шаг 3. Проведите исследовательский анализ данных #"
   ]
  },
  {
   "cell_type": "code",
   "execution_count": 20,
   "metadata": {},
   "outputs": [
    {
     "data": {
      "image/png": "[encoded data removed]",
      "text/plain": [
       "<Figure size 1152x576 with 1 Axes>"
      ]
     },
     "metadata": {
      "needs_background": "light"
     },
     "output_type": "display_data"
    }
   ],
   "source": [
    "# посмотрим, какое количество релизов и продаж было в разные годы.\n",
    "games_year = df.groupby('year_of_release')['name'].count()\n",
    "games_year.plot(title='Количество выпущенных игр в разные года', xlabel='Год релиза', ylabel='Количество выпущенных игр', grid=True,figsize=(16,8)).legend();"
   ]
  },
  {
   "cell_type": "markdown",
   "metadata": {},
   "source": [
    "**Вывод:**<br><br>\n",
    "Образование игр пришлось на 80-ые. Количество игр на компьютеры и игровые приставки начало расти резкими темпами с 94 -95х годов до 2008 - 2009 года. Спад 2009 года объясняется тем что, начали массово создавать мобильные игры и приложения."
   ]
  },
  {
   "cell_type": "code",
   "execution_count": 21,
   "metadata": {},
   "outputs": [
    {
     "data": {
      "text/plain": [
       "year_of_release\n",
       "1980       9\n",
       "1981      46\n",
       "1982      36\n",
       "1983      17\n",
       "1984      14\n",
       "1985      14\n",
       "1986      21\n",
       "1987      16\n",
       "1988      15\n",
       "1989      17\n",
       "1990      16\n",
       "1991      41\n",
       "1992      43\n",
       "1993      62\n",
       "1994     121\n",
       "1995     219\n",
       "1996     263\n",
       "1997     289\n",
       "1998     379\n",
       "1999     338\n",
       "2000     350\n",
       "2001     482\n",
       "2002     829\n",
       "2003     775\n",
       "2004     762\n",
       "2005     939\n",
       "2006    1006\n",
       "2007    1197\n",
       "2008    1427\n",
       "2009    1426\n",
       "2010    1255\n",
       "2011    1136\n",
       "2012     653\n",
       "2013     544\n",
       "2014     581\n",
       "2015     606\n",
       "2016     502\n",
       "Name: name, dtype: int64"
      ]
     },
     "execution_count": 21,
     "metadata": {},
     "output_type": "execute_result"
    }
   ],
   "source": [
    "games_year"
   ]
  },
  {
   "cell_type": "code",
   "execution_count": 22,
   "metadata": {},
   "outputs": [
    {
     "data": {
      "image/png": "[encoded data removed]",
      "text/plain": [
       "<Figure size 1152x576 with 1 Axes>"
      ]
     },
     "metadata": {
      "needs_background": "light"
     },
     "output_type": "display_data"
    }
   ],
   "source": [
    "# посмотрим, как менялось количество выпущенных игр год от года на различных типах платформ.\n",
    "platform_year = df.groupby('platform')['total_sales'].sum().sort_values(ascending=False)\n",
    "platform_year.plot(title='Продажи платформ за весь период', xlabel='Название платформы', ylabel='Количество продаж', grid=True,figsize=(16,8)).legend();"
   ]
  },
  {
   "cell_type": "code",
   "execution_count": 23,
   "metadata": {},
   "outputs": [
    {
     "data": {
      "text/plain": [
       "platform\n",
       "PS2     1233.56\n",
       "X360     961.24\n",
       "PS3      931.34\n",
       "Wii      891.18\n",
       "DS       802.78\n",
       "PS       727.58\n",
       "PS4      314.14\n",
       "GBA      312.88\n",
       "PSP      289.53\n",
       "3DS      257.81\n",
       "PC       255.76\n",
       "GB       254.43\n",
       "XB       251.57\n",
       "NES      251.05\n",
       "N64      218.01\n",
       "SNES     200.04\n",
       "GC       196.73\n",
       "XOne     159.32\n",
       "2600      86.48\n",
       "WiiU      82.19\n",
       "PSV       53.81\n",
       "SAT       33.59\n",
       "GEN       30.77\n",
       "DC        15.95\n",
       "SCD        1.86\n",
       "NG         1.44\n",
       "WS         1.42\n",
       "TG16       0.16\n",
       "3DO        0.10\n",
       "GG         0.04\n",
       "PCFX       0.03\n",
       "Name: total_sales, dtype: float64"
      ]
     },
     "execution_count": 23,
     "metadata": {},
     "output_type": "execute_result"
    }
   ],
   "source": [
    "platform_year"
   ]
  },
  {
   "cell_type": "markdown",
   "metadata": {},
   "source": [
    "**Вывод:**<br><br>Cамыми популярными игровыми платформами за весь период являются: PS2, X360, PS3, Wii, DS, PS"
   ]
  },
  {
   "cell_type": "code",
   "execution_count": 61,
   "metadata": {},
   "outputs": [
    {
     "data": {
      "text/html": [
       "<div>\n",
       "<style scoped>\n",
       "    .dataframe tbody tr th:only-of-type {\n",
       "        vertical-align: middle;\n",
       "    }\n",
       "\n",
       "    .dataframe tbody tr th {\n",
       "        vertical-align: top;\n",
       "    }\n",
       "\n",
       "    .dataframe thead th {\n",
       "        text-align: right;\n",
       "    }\n",
       "</style>\n",
       "<table border=\"1\" class=\"dataframe\">\n",
       "  <thead>\n",
       "    <tr style=\"text-align: right;\">\n",
       "      <th></th>\n",
       "      <th>name</th>\n",
       "      <th>platform</th>\n",
       "      <th>year_of_release</th>\n",
       "      <th>genre</th>\n",
       "      <th>na_sales</th>\n",
       "      <th>eu_sales</th>\n",
       "      <th>jp_sales</th>\n",
       "      <th>other_sales</th>\n",
       "      <th>critic_score</th>\n",
       "      <th>user_score</th>\n",
       "      <th>rating</th>\n",
       "      <th>total_sales</th>\n",
       "    </tr>\n",
       "  </thead>\n",
       "  <tbody>\n",
       "    <tr>\n",
       "      <th>31</th>\n",
       "      <td>Call of Duty: Black Ops 3</td>\n",
       "      <td>PS4</td>\n",
       "      <td>2015</td>\n",
       "      <td>Shooter</td>\n",
       "      <td>6.03</td>\n",
       "      <td>5.86</td>\n",
       "      <td>0.36</td>\n",
       "      <td>2.38</td>\n",
       "      <td>NaN</td>\n",
       "      <td>NaN</td>\n",
       "      <td>without rating</td>\n",
       "      <td>14.63</td>\n",
       "    </tr>\n",
       "    <tr>\n",
       "      <th>42</th>\n",
       "      <td>Grand Theft Auto V</td>\n",
       "      <td>PS4</td>\n",
       "      <td>2014</td>\n",
       "      <td>Action</td>\n",
       "      <td>3.96</td>\n",
       "      <td>6.31</td>\n",
       "      <td>0.38</td>\n",
       "      <td>1.97</td>\n",
       "      <td>97.0</td>\n",
       "      <td>8.3</td>\n",
       "      <td>M</td>\n",
       "      <td>12.62</td>\n",
       "    </tr>\n",
       "    <tr>\n",
       "      <th>47</th>\n",
       "      <td>Pokemon Omega Ruby/Pokemon Alpha Sapphire</td>\n",
       "      <td>3DS</td>\n",
       "      <td>2014</td>\n",
       "      <td>Role-Playing</td>\n",
       "      <td>4.35</td>\n",
       "      <td>3.49</td>\n",
       "      <td>3.10</td>\n",
       "      <td>0.74</td>\n",
       "      <td>NaN</td>\n",
       "      <td>NaN</td>\n",
       "      <td>without rating</td>\n",
       "      <td>11.68</td>\n",
       "    </tr>\n",
       "    <tr>\n",
       "      <th>77</th>\n",
       "      <td>FIFA 16</td>\n",
       "      <td>PS4</td>\n",
       "      <td>2015</td>\n",
       "      <td>Sports</td>\n",
       "      <td>1.12</td>\n",
       "      <td>6.12</td>\n",
       "      <td>0.06</td>\n",
       "      <td>1.28</td>\n",
       "      <td>82.0</td>\n",
       "      <td>4.3</td>\n",
       "      <td>E</td>\n",
       "      <td>8.58</td>\n",
       "    </tr>\n",
       "    <tr>\n",
       "      <th>87</th>\n",
       "      <td>Star Wars Battlefront (2015)</td>\n",
       "      <td>PS4</td>\n",
       "      <td>2015</td>\n",
       "      <td>Shooter</td>\n",
       "      <td>2.99</td>\n",
       "      <td>3.49</td>\n",
       "      <td>0.22</td>\n",
       "      <td>1.28</td>\n",
       "      <td>NaN</td>\n",
       "      <td>NaN</td>\n",
       "      <td>without rating</td>\n",
       "      <td>7.98</td>\n",
       "    </tr>\n",
       "  </tbody>\n",
       "</table>\n",
       "</div>"
      ],
      "text/plain": [
       "                                         name platform  year_of_release  \\\n",
       "31                  Call of Duty: Black Ops 3      PS4             2015   \n",
       "42                         Grand Theft Auto V      PS4             2014   \n",
       "47  Pokemon Omega Ruby/Pokemon Alpha Sapphire      3DS             2014   \n",
       "77                                    FIFA 16      PS4             2015   \n",
       "87               Star Wars Battlefront (2015)      PS4             2015   \n",
       "\n",
       "           genre  na_sales  eu_sales  jp_sales  other_sales  critic_score  \\\n",
       "31       Shooter      6.03      5.86      0.36         2.38           NaN   \n",
       "42        Action      3.96      6.31      0.38         1.97          97.0   \n",
       "47  Role-Playing      4.35      3.49      3.10         0.74           NaN   \n",
       "77        Sports      1.12      6.12      0.06         1.28          82.0   \n",
       "87       Shooter      2.99      3.49      0.22         1.28           NaN   \n",
       "\n",
       "    user_score          rating  total_sales  \n",
       "31         NaN  without rating        14.63  \n",
       "42         8.3               M        12.62  \n",
       "47         NaN  without rating        11.68  \n",
       "77         4.3               E         8.58  \n",
       "87         NaN  without rating         7.98  "
      ]
     },
     "execution_count": 61,
     "metadata": {},
     "output_type": "execute_result"
    }
   ],
   "source": [
    "df_actual = df.query('year_of_release >= 2014')\n",
    "df_actual.head()"
   ]
  },
  {
   "cell_type": "code",
   "execution_count": 62,
   "metadata": {},
   "outputs": [
    {
     "data": {
      "image/png": "[encoded data removed]",
      "text/plain": [
       "<Figure size 1152x576 with 1 Axes>"
      ]
     },
     "metadata": {
      "needs_background": "light"
     },
     "output_type": "display_data"
    }
   ],
   "source": [
    "df_actual.pivot_table(index='platform', columns='year_of_release', values='total_sales', aggfunc='sum').T.plot(title='Рост и падение продаж игровых платформ (с 2014 года)', xlabel='Год', ylabel='Количество продаж', grid=True,figsize=(16,8));"
   ]
  },
  {
   "cell_type": "markdown",
   "metadata": {},
   "source": [
    "**Вывод:**<br><br>К категории потенциально прибыльных относятся такие платформы как PS4, XOne, 3DS, WiiU и PC. В общем и целом на графике можно наблюдать отрциательную тендецию у всех платформ. Падение спроса других моделей объясняется тем, что выходят более новые версии."
   ]
  },
  {
   "cell_type": "code",
   "execution_count": 67,
   "metadata": {},
   "outputs": [
    {
     "data": {
      "image/png": "[encoded data removed]",
      "text/plain": [
       "<Figure size 1152x576 with 1 Axes>"
      ]
     },
     "metadata": {
      "needs_background": "light"
     },
     "output_type": "display_data"
    }
   ],
   "source": [
    "df_actual.boxplot(by='platform', column='total_sales', figsize=(16,8));\n",
    "plt.title('Диаграммы размаха по продажам на актуальных платформах');"
   ]
  },
  {
   "cell_type": "code",
   "execution_count": 69,
   "metadata": {},
   "outputs": [
    {
     "data": {
      "image/png": "[encoded data removed]",
      "text/plain": [
       "<Figure size 1152x576 with 1 Axes>"
      ]
     },
     "metadata": {
      "needs_background": "light"
     },
     "output_type": "display_data"
    }
   ],
   "source": [
    "df_actual.boxplot(by='platform', column='total_sales', figsize=(16,8)).set(ylim=(0,4));\n",
    "plt.title('Диаграммы размаха по продажам на актуальных платформах');"
   ]
  },
  {
   "cell_type": "markdown",
   "metadata": {},
   "source": [
    "**Вывод:**<br><br>Лидером продаж является PS4, но и размах продаж по годам у нее самый большой. Из топ потенциальных прибыльных платформ, лидером продаж является PS4, но и размах продаж по годам у нее самый большой. Аутсайдером является PC, но и самой стабильной платформой, размах самый маленький. Выбросы обусловлены выходом популярных игровых проектов на данные платформы."
   ]
  },
  {
   "cell_type": "code",
   "execution_count": 27,
   "metadata": {},
   "outputs": [],
   "source": [
    "df_ps4 = df.query('platform == \"PS4\"')"
   ]
  },
  {
   "cell_type": "code",
   "execution_count": 72,
   "metadata": {},
   "outputs": [
    {
     "data": {
      "image/png": "[encoded data removed]",
      "text/plain": [
       "<Figure size 1152x576 with 1 Axes>"
      ]
     },
     "metadata": {
      "needs_background": "light"
     },
     "output_type": "display_data"
    }
   ],
   "source": [
    "# построим диаграмму рассеяния по оценкам критиков \n",
    "plt.figure(figsize=(16,8))\n",
    "sns.scatterplot(x='critic_score', y='total_sales', data=df_ps4).set(title='Диаграмма рассеяния по оценкам критиков ');"
   ]
  },
  {
   "cell_type": "code",
   "execution_count": 74,
   "metadata": {},
   "outputs": [
    {
     "data": {
      "image/png": "[encoded data removed]",
      "text/plain": [
       "<Figure size 1152x576 with 1 Axes>"
      ]
     },
     "metadata": {
      "needs_background": "light"
     },
     "output_type": "display_data"
    }
   ],
   "source": [
    "# построим диаграмму рассеяния по оценкам пользователей\n",
    "plt.figure(figsize=(16,8))\n",
    "sns.scatterplot(x='user_score', y='total_sales', data=df_ps4).set(title='Диаграмма рассеяния по оценкам пользователей ');"
   ]
  },
  {
   "cell_type": "code",
   "execution_count": 30,
   "metadata": {},
   "outputs": [
    {
     "data": {
      "text/plain": [
       "0.40656790206178095"
      ]
     },
     "execution_count": 30,
     "metadata": {},
     "output_type": "execute_result"
    }
   ],
   "source": [
    "# корреляция между оценкой критиков и продажами\n",
    "df_ps4['critic_score'].corr(df_ps4['total_sales'])"
   ]
  },
  {
   "cell_type": "code",
   "execution_count": 31,
   "metadata": {},
   "outputs": [
    {
     "data": {
      "text/plain": [
       "-0.031957110204556376"
      ]
     },
     "execution_count": 31,
     "metadata": {},
     "output_type": "execute_result"
    }
   ],
   "source": [
    "# корреляция между оценкой пользователей и продажами\n",
    "df_ps4['user_score'].corr(df_ps4['total_sales'])"
   ]
  },
  {
   "cell_type": "code",
   "execution_count": 32,
   "metadata": {},
   "outputs": [
    {
     "name": "stdout",
     "output_type": "stream",
     "text": [
      "\n",
      "PS3:\n",
      "Коэффициент корреляции user_score и total_sales: 0.08581058090172905\n",
      "Коэффициент корреляции critic_score и total_sales: 0.3936035470871838\n",
      "\n",
      "XOne:\n",
      "Коэффициент корреляции user_score и total_sales: -0.1069648304783788\n",
      "Коэффициент корреляции critic_score и total_sales: 0.41042203561296375\n",
      "\n",
      "3DS:\n",
      "Коэффициент корреляции user_score и total_sales: 0.21350415036249507\n",
      "Коэффициент корреляции critic_score и total_sales: 0.33890386446332155\n",
      "\n",
      "X360:\n",
      "Коэффициент корреляции user_score и total_sales: 0.04598092101380614\n",
      "Коэффициент корреляции critic_score и total_sales: 0.33628027358399615\n",
      "\n",
      "WiiU:\n",
      "Коэффициент корреляции user_score и total_sales: 0.38762774753677104\n",
      "Коэффициент корреляции critic_score и total_sales: 0.350882422488643\n",
      "\n",
      "PC:\n",
      "Коэффициент корреляции user_score и total_sales: -0.012671962149418407\n",
      "Коэффициент корреляции critic_score и total_sales: 0.33666765996406944\n"
     ]
    },
    {
     "data": {
      "image/png": "[encoded data removed]",
      "text/plain": [
       "<Figure size 360x360 with 1 Axes>"
      ]
     },
     "metadata": {
      "needs_background": "light"
     },
     "output_type": "display_data"
    },
    {
     "data": {
      "image/png": "[encoded data removed]",
      "text/plain": [
       "<Figure size 360x360 with 1 Axes>"
      ]
     },
     "metadata": {
      "needs_background": "light"
     },
     "output_type": "display_data"
    },
    {
     "data": {
      "image/png": "[encoded data removed]",
      "text/plain": [
       "<Figure size 360x360 with 1 Axes>"
      ]
     },
     "metadata": {
      "needs_background": "light"
     },
     "output_type": "display_data"
    },
    {
     "data": {
      "image/png": "[encoded data removed]",
      "text/plain": [
       "<Figure size 360x360 with 1 Axes>"
      ]
     },
     "metadata": {
      "needs_background": "light"
     },
     "output_type": "display_data"
    },
    {
     "data": {
      "image/png": "[encoded data removed]",
      "text/plain": [
       "<Figure size 360x360 with 1 Axes>"
      ]
     },
     "metadata": {
      "needs_background": "light"
     },
     "output_type": "display_data"
    },
    {
     "data": {
      "image/png": "[encoded data removed]",
      "text/plain": [
       "<Figure size 360x360 with 1 Axes>"
      ]
     },
     "metadata": {
      "needs_background": "light"
     },
     "output_type": "display_data"
    },
    {
     "data": {
      "image/png": "[encoded data removed]",
      "text/plain": [
       "<Figure size 360x360 with 1 Axes>"
      ]
     },
     "metadata": {
      "needs_background": "light"
     },
     "output_type": "display_data"
    },
    {
     "data": {
      "image/png": "[encoded data removed]",
      "text/plain": [
       "<Figure size 360x360 with 1 Axes>"
      ]
     },
     "metadata": {
      "needs_background": "light"
     },
     "output_type": "display_data"
    },
    {
     "data": {
      "image/png": "[encoded data removed]",
      "text/plain": [
       "<Figure size 360x360 with 1 Axes>"
      ]
     },
     "metadata": {
      "needs_background": "light"
     },
     "output_type": "display_data"
    },
    {
     "data": {
      "image/png": "[encoded data removed]",
      "text/plain": [
       "<Figure size 360x360 with 1 Axes>"
      ]
     },
     "metadata": {
      "needs_background": "light"
     },
     "output_type": "display_data"
    },
    {
     "data": {
      "image/png": "[encoded data removed]",
      "text/plain": [
       "<Figure size 360x360 with 1 Axes>"
      ]
     },
     "metadata": {
      "needs_background": "light"
     },
     "output_type": "display_data"
    },
    {
     "data": {
      "image/png": "[encoded data removed]",
      "text/plain": [
       "<Figure size 360x360 with 1 Axes>"
      ]
     },
     "metadata": {
      "needs_background": "light"
     },
     "output_type": "display_data"
    }
   ],
   "source": [
    "for platform in ['PS3', 'XOne', '3DS', 'X360', 'WiiU', 'PC']:\n",
    "    print('\\n{0}:'.format(platform))\n",
    "    for column in ['user_score', 'critic_score']:\n",
    "        temp = df_actual.query('platform == @platform and user_score >= 0 and critic_score >= 0')\n",
    "        print('Коэффициент корреляции {0} и total_sales: {1}'.\\\n",
    "              format(column, round(temp[column]).corr(temp['total_sales']), 2))\n",
    "        sns.relplot(x=column, y='total_sales', data=temp)\n",
    "        _ = plt.title(platform)"
   ]
  },
  {
   "cell_type": "markdown",
   "metadata": {},
   "source": [
    "**Вывод:**<br><br>Наблюдается зависимость количества продаж от оценки критиков или пользователей. Продажи имеют более высокий показатель, а так же выбросы, если оценки критиков высокие."
   ]
  },
  {
   "cell_type": "code",
   "execution_count": 33,
   "metadata": {},
   "outputs": [
    {
     "data": {
      "text/html": [
       "<div>\n",
       "<style scoped>\n",
       "    .dataframe tbody tr th:only-of-type {\n",
       "        vertical-align: middle;\n",
       "    }\n",
       "\n",
       "    .dataframe tbody tr th {\n",
       "        vertical-align: top;\n",
       "    }\n",
       "\n",
       "    .dataframe thead th {\n",
       "        text-align: right;\n",
       "    }\n",
       "</style>\n",
       "<table border=\"1\" class=\"dataframe\">\n",
       "  <thead>\n",
       "    <tr style=\"text-align: right;\">\n",
       "      <th></th>\n",
       "      <th>genre</th>\n",
       "      <th>total_sales</th>\n",
       "    </tr>\n",
       "  </thead>\n",
       "  <tbody>\n",
       "    <tr>\n",
       "      <th>0</th>\n",
       "      <td>Shooter</td>\n",
       "      <td>1.170098</td>\n",
       "    </tr>\n",
       "    <tr>\n",
       "      <th>1</th>\n",
       "      <td>Platform</td>\n",
       "      <td>0.782484</td>\n",
       "    </tr>\n",
       "    <tr>\n",
       "      <th>2</th>\n",
       "      <td>Sports</td>\n",
       "      <td>0.571113</td>\n",
       "    </tr>\n",
       "    <tr>\n",
       "      <th>3</th>\n",
       "      <td>Role-Playing</td>\n",
       "      <td>0.555070</td>\n",
       "    </tr>\n",
       "    <tr>\n",
       "      <th>4</th>\n",
       "      <td>Racing</td>\n",
       "      <td>0.517637</td>\n",
       "    </tr>\n",
       "    <tr>\n",
       "      <th>5</th>\n",
       "      <td>Action</td>\n",
       "      <td>0.450227</td>\n",
       "    </tr>\n",
       "    <tr>\n",
       "      <th>6</th>\n",
       "      <td>Fighting</td>\n",
       "      <td>0.410000</td>\n",
       "    </tr>\n",
       "    <tr>\n",
       "      <th>7</th>\n",
       "      <td>Misc</td>\n",
       "      <td>0.407222</td>\n",
       "    </tr>\n",
       "    <tr>\n",
       "      <th>8</th>\n",
       "      <td>Simulation</td>\n",
       "      <td>0.330645</td>\n",
       "    </tr>\n",
       "    <tr>\n",
       "      <th>9</th>\n",
       "      <td>Strategy</td>\n",
       "      <td>0.210824</td>\n",
       "    </tr>\n",
       "    <tr>\n",
       "      <th>10</th>\n",
       "      <td>Puzzle</td>\n",
       "      <td>0.180702</td>\n",
       "    </tr>\n",
       "    <tr>\n",
       "      <th>11</th>\n",
       "      <td>Adventure</td>\n",
       "      <td>0.108348</td>\n",
       "    </tr>\n",
       "  </tbody>\n",
       "</table>\n",
       "</div>"
      ],
      "text/plain": [
       "           genre  total_sales\n",
       "0        Shooter     1.170098\n",
       "1       Platform     0.782484\n",
       "2         Sports     0.571113\n",
       "3   Role-Playing     0.555070\n",
       "4         Racing     0.517637\n",
       "5         Action     0.450227\n",
       "6       Fighting     0.410000\n",
       "7           Misc     0.407222\n",
       "8     Simulation     0.330645\n",
       "9       Strategy     0.210824\n",
       "10        Puzzle     0.180702\n",
       "11     Adventure     0.108348"
      ]
     },
     "execution_count": 33,
     "metadata": {},
     "output_type": "execute_result"
    }
   ],
   "source": [
    "# выведем в виде сводной таблицы жанры и их продажи\n",
    "genre_total_pivot = df_actual.pivot_table(index='genre', values='total_sales', aggfunc='mean').sort_values('total_sales', ascending=False)\n",
    "genre_total_pivot = genre_total_pivot.reset_index().rename_axis(None, axis=1)\n",
    "genre_total_pivot"
   ]
  },
  {
   "cell_type": "code",
   "execution_count": 82,
   "metadata": {},
   "outputs": [
    {
     "data": {
      "image/png": "[encoded data removed]",
      "text/plain": [
       "<Figure size 1152x576 with 1 Axes>"
      ]
     },
     "metadata": {
      "needs_background": "light"
     },
     "output_type": "display_data"
    }
   ],
   "source": [
    "plt.figure(figsize=(16,8))\n",
    "sns.barplot(data=genre_total_pivot, x='genre', y='total_sales').set(title='Распределение игр по жанрам');"
   ]
  },
  {
   "cell_type": "markdown",
   "metadata": {},
   "source": [
    "**Вывод:**<br><br>Абсолютными лидерами по продажам являются игры жанра Shooter. Игры жанра Strategy, Puzzle и Adventure не имеют популярности среди потребителя."
   ]
  },
  {
   "cell_type": "markdown",
   "metadata": {},
   "source": [
    "# Шаг 4. Составьте портрет пользователя каждого региона #"
   ]
  },
  {
   "cell_type": "code",
   "execution_count": 35,
   "metadata": {},
   "outputs": [
    {
     "data": {
      "text/html": [
       "<div>\n",
       "<style scoped>\n",
       "    .dataframe tbody tr th:only-of-type {\n",
       "        vertical-align: middle;\n",
       "    }\n",
       "\n",
       "    .dataframe tbody tr th {\n",
       "        vertical-align: top;\n",
       "    }\n",
       "\n",
       "    .dataframe thead th {\n",
       "        text-align: right;\n",
       "    }\n",
       "</style>\n",
       "<table border=\"1\" class=\"dataframe\">\n",
       "  <thead>\n",
       "    <tr style=\"text-align: right;\">\n",
       "      <th></th>\n",
       "      <th>na_sales</th>\n",
       "    </tr>\n",
       "    <tr>\n",
       "      <th>Платформа</th>\n",
       "      <th></th>\n",
       "    </tr>\n",
       "  </thead>\n",
       "  <tbody>\n",
       "    <tr>\n",
       "      <th>X360</th>\n",
       "      <td>334.0</td>\n",
       "    </tr>\n",
       "    <tr>\n",
       "      <th>PS3</th>\n",
       "      <td>229.0</td>\n",
       "    </tr>\n",
       "    <tr>\n",
       "      <th>Wii</th>\n",
       "      <td>121.0</td>\n",
       "    </tr>\n",
       "    <tr>\n",
       "      <th>PS4</th>\n",
       "      <td>109.0</td>\n",
       "    </tr>\n",
       "    <tr>\n",
       "      <th>XOne</th>\n",
       "      <td>93.0</td>\n",
       "    </tr>\n",
       "  </tbody>\n",
       "</table>\n",
       "</div>"
      ],
      "text/plain": [
       "           na_sales\n",
       "Платформа          \n",
       "X360          334.0\n",
       "PS3           229.0\n",
       "Wii           121.0\n",
       "PS4           109.0\n",
       "XOne           93.0"
      ]
     },
     "metadata": {},
     "output_type": "display_data"
    },
    {
     "data": {
      "text/html": [
       "<div>\n",
       "<style scoped>\n",
       "    .dataframe tbody tr th:only-of-type {\n",
       "        vertical-align: middle;\n",
       "    }\n",
       "\n",
       "    .dataframe tbody tr th {\n",
       "        vertical-align: top;\n",
       "    }\n",
       "\n",
       "    .dataframe thead th {\n",
       "        text-align: right;\n",
       "    }\n",
       "</style>\n",
       "<table border=\"1\" class=\"dataframe\">\n",
       "  <thead>\n",
       "    <tr style=\"text-align: right;\">\n",
       "      <th></th>\n",
       "      <th>eu_sales</th>\n",
       "    </tr>\n",
       "    <tr>\n",
       "      <th>Платформа</th>\n",
       "      <th></th>\n",
       "    </tr>\n",
       "  </thead>\n",
       "  <tbody>\n",
       "    <tr>\n",
       "      <th>PS3</th>\n",
       "      <td>214.0</td>\n",
       "    </tr>\n",
       "    <tr>\n",
       "      <th>X360</th>\n",
       "      <td>163.0</td>\n",
       "    </tr>\n",
       "    <tr>\n",
       "      <th>PS4</th>\n",
       "      <td>141.0</td>\n",
       "    </tr>\n",
       "    <tr>\n",
       "      <th>PC</th>\n",
       "      <td>69.0</td>\n",
       "    </tr>\n",
       "    <tr>\n",
       "      <th>Wii</th>\n",
       "      <td>66.0</td>\n",
       "    </tr>\n",
       "  </tbody>\n",
       "</table>\n",
       "</div>"
      ],
      "text/plain": [
       "           eu_sales\n",
       "Платформа          \n",
       "PS3           214.0\n",
       "X360          163.0\n",
       "PS4           141.0\n",
       "PC             69.0\n",
       "Wii            66.0"
      ]
     },
     "metadata": {},
     "output_type": "display_data"
    },
    {
     "data": {
      "text/html": [
       "<div>\n",
       "<style scoped>\n",
       "    .dataframe tbody tr th:only-of-type {\n",
       "        vertical-align: middle;\n",
       "    }\n",
       "\n",
       "    .dataframe tbody tr th {\n",
       "        vertical-align: top;\n",
       "    }\n",
       "\n",
       "    .dataframe thead th {\n",
       "        text-align: right;\n",
       "    }\n",
       "</style>\n",
       "<table border=\"1\" class=\"dataframe\">\n",
       "  <thead>\n",
       "    <tr style=\"text-align: right;\">\n",
       "      <th></th>\n",
       "      <th>jp_sales</th>\n",
       "    </tr>\n",
       "    <tr>\n",
       "      <th>Платформа</th>\n",
       "      <th></th>\n",
       "    </tr>\n",
       "  </thead>\n",
       "  <tbody>\n",
       "    <tr>\n",
       "      <th>3DS</th>\n",
       "      <td>101.0</td>\n",
       "    </tr>\n",
       "    <tr>\n",
       "      <th>PS3</th>\n",
       "      <td>59.0</td>\n",
       "    </tr>\n",
       "    <tr>\n",
       "      <th>PSP</th>\n",
       "      <td>42.0</td>\n",
       "    </tr>\n",
       "    <tr>\n",
       "      <th>DS</th>\n",
       "      <td>28.0</td>\n",
       "    </tr>\n",
       "    <tr>\n",
       "      <th>PSV</th>\n",
       "      <td>22.0</td>\n",
       "    </tr>\n",
       "  </tbody>\n",
       "</table>\n",
       "</div>"
      ],
      "text/plain": [
       "           jp_sales\n",
       "Платформа          \n",
       "3DS           101.0\n",
       "PS3            59.0\n",
       "PSP            42.0\n",
       "DS             28.0\n",
       "PSV            22.0"
      ]
     },
     "metadata": {},
     "output_type": "display_data"
    }
   ],
   "source": [
    "for column in ['na_sales', 'eu_sales', 'jp_sales']:\n",
    "    region = df_actual.pivot_table(index='platform', values=column, aggfunc='sum').round()\n",
    "    region.index.names = ['Платформа']\n",
    "    display(region.nlargest(5, column))"
   ]
  },
  {
   "cell_type": "code",
   "execution_count": 81,
   "metadata": {},
   "outputs": [
    {
     "data": {
      "image/png": "[encoded data removed]",
      "text/plain": [
       "<Figure size 1080x360 with 3 Axes>"
      ]
     },
     "metadata": {},
     "output_type": "display_data"
    }
   ],
   "source": [
    "countries = df.columns[4:7]\n",
    "\n",
    "fig, axs = plt.subplots(1, 3, figsize=(15, 5))\n",
    "fig.suptitle('ТОП-5 платформ в регионах')\n",
    "for i in range(3):\n",
    "    df_i = (df_actual.groupby('platform')[countries[i]].sum().\n",
    "             reset_index().\n",
    "             sort_values(countries[i], ascending = False, ignore_index = True).\n",
    "             head(5))\n",
    "    df_i = df_i.append({'platform': 'Other_platforms', countries[i]: df_actual[countries[i]].sum() - df_i[countries[i]].sum()}, ignore_index= True)\n",
    "    axs[i].pie(df_i[countries[i]], labels = df_i['platform'])\n",
    "    axs[i].set_title(df_i.columns[1].split('_')[0].upper())\n",
    "plt.show()"
   ]
  },
  {
   "cell_type": "code",
   "execution_count": 37,
   "metadata": {},
   "outputs": [
    {
     "data": {
      "text/html": [
       "<div>\n",
       "<style scoped>\n",
       "    .dataframe tbody tr th:only-of-type {\n",
       "        vertical-align: middle;\n",
       "    }\n",
       "\n",
       "    .dataframe tbody tr th {\n",
       "        vertical-align: top;\n",
       "    }\n",
       "\n",
       "    .dataframe thead th {\n",
       "        text-align: right;\n",
       "    }\n",
       "</style>\n",
       "<table border=\"1\" class=\"dataframe\">\n",
       "  <thead>\n",
       "    <tr style=\"text-align: right;\">\n",
       "      <th></th>\n",
       "      <th>na_sales</th>\n",
       "    </tr>\n",
       "    <tr>\n",
       "      <th>Жанр</th>\n",
       "      <th></th>\n",
       "    </tr>\n",
       "  </thead>\n",
       "  <tbody>\n",
       "    <tr>\n",
       "      <th>Action</th>\n",
       "      <td>291.0</td>\n",
       "    </tr>\n",
       "    <tr>\n",
       "      <th>Shooter</th>\n",
       "      <td>237.0</td>\n",
       "    </tr>\n",
       "    <tr>\n",
       "      <th>Sports</th>\n",
       "      <td>157.0</td>\n",
       "    </tr>\n",
       "    <tr>\n",
       "      <th>Misc</th>\n",
       "      <td>124.0</td>\n",
       "    </tr>\n",
       "    <tr>\n",
       "      <th>Role-Playing</th>\n",
       "      <td>112.0</td>\n",
       "    </tr>\n",
       "  </tbody>\n",
       "</table>\n",
       "</div>"
      ],
      "text/plain": [
       "              na_sales\n",
       "Жанр                  \n",
       "Action           291.0\n",
       "Shooter          237.0\n",
       "Sports           157.0\n",
       "Misc             124.0\n",
       "Role-Playing     112.0"
      ]
     },
     "metadata": {},
     "output_type": "display_data"
    },
    {
     "data": {
      "text/html": [
       "<div>\n",
       "<style scoped>\n",
       "    .dataframe tbody tr th:only-of-type {\n",
       "        vertical-align: middle;\n",
       "    }\n",
       "\n",
       "    .dataframe tbody tr th {\n",
       "        vertical-align: top;\n",
       "    }\n",
       "\n",
       "    .dataframe thead th {\n",
       "        text-align: right;\n",
       "    }\n",
       "</style>\n",
       "<table border=\"1\" class=\"dataframe\">\n",
       "  <thead>\n",
       "    <tr style=\"text-align: right;\">\n",
       "      <th></th>\n",
       "      <th>eu_sales</th>\n",
       "    </tr>\n",
       "    <tr>\n",
       "      <th>Жанр</th>\n",
       "      <th></th>\n",
       "    </tr>\n",
       "  </thead>\n",
       "  <tbody>\n",
       "    <tr>\n",
       "      <th>Action</th>\n",
       "      <td>234.0</td>\n",
       "    </tr>\n",
       "    <tr>\n",
       "      <th>Shooter</th>\n",
       "      <td>171.0</td>\n",
       "    </tr>\n",
       "    <tr>\n",
       "      <th>Sports</th>\n",
       "      <td>117.0</td>\n",
       "    </tr>\n",
       "    <tr>\n",
       "      <th>Role-Playing</th>\n",
       "      <td>75.0</td>\n",
       "    </tr>\n",
       "    <tr>\n",
       "      <th>Misc</th>\n",
       "      <td>66.0</td>\n",
       "    </tr>\n",
       "  </tbody>\n",
       "</table>\n",
       "</div>"
      ],
      "text/plain": [
       "              eu_sales\n",
       "Жанр                  \n",
       "Action           234.0\n",
       "Shooter          171.0\n",
       "Sports           117.0\n",
       "Role-Playing      75.0\n",
       "Misc              66.0"
      ]
     },
     "metadata": {},
     "output_type": "display_data"
    },
    {
     "data": {
      "text/html": [
       "<div>\n",
       "<style scoped>\n",
       "    .dataframe tbody tr th:only-of-type {\n",
       "        vertical-align: middle;\n",
       "    }\n",
       "\n",
       "    .dataframe tbody tr th {\n",
       "        vertical-align: top;\n",
       "    }\n",
       "\n",
       "    .dataframe thead th {\n",
       "        text-align: right;\n",
       "    }\n",
       "</style>\n",
       "<table border=\"1\" class=\"dataframe\">\n",
       "  <thead>\n",
       "    <tr style=\"text-align: right;\">\n",
       "      <th></th>\n",
       "      <th>jp_sales</th>\n",
       "    </tr>\n",
       "    <tr>\n",
       "      <th>Жанр</th>\n",
       "      <th></th>\n",
       "    </tr>\n",
       "  </thead>\n",
       "  <tbody>\n",
       "    <tr>\n",
       "      <th>Role-Playing</th>\n",
       "      <td>104.0</td>\n",
       "    </tr>\n",
       "    <tr>\n",
       "      <th>Action</th>\n",
       "      <td>72.0</td>\n",
       "    </tr>\n",
       "    <tr>\n",
       "      <th>Misc</th>\n",
       "      <td>24.0</td>\n",
       "    </tr>\n",
       "    <tr>\n",
       "      <th>Adventure</th>\n",
       "      <td>16.0</td>\n",
       "    </tr>\n",
       "    <tr>\n",
       "      <th>Platform</th>\n",
       "      <td>16.0</td>\n",
       "    </tr>\n",
       "  </tbody>\n",
       "</table>\n",
       "</div>"
      ],
      "text/plain": [
       "              jp_sales\n",
       "Жанр                  \n",
       "Role-Playing     104.0\n",
       "Action            72.0\n",
       "Misc              24.0\n",
       "Adventure         16.0\n",
       "Platform          16.0"
      ]
     },
     "metadata": {},
     "output_type": "display_data"
    }
   ],
   "source": [
    "for column in ['na_sales', 'eu_sales', 'jp_sales']:\n",
    "    region = df_actual.pivot_table(index='genre', values=column, aggfunc='sum').round()\n",
    "    region.index.names = ['Жанр']\n",
    "    display(region.nlargest(5, column))"
   ]
  },
  {
   "cell_type": "code",
   "execution_count": 38,
   "metadata": {},
   "outputs": [
    {
     "data": {
      "image/png": "[encoded data removed]",
      "text/plain": [
       "<Figure size 1080x360 with 3 Axes>"
      ]
     },
     "metadata": {},
     "output_type": "display_data"
    }
   ],
   "source": [
    "countries = df.columns[4:7]\n",
    "\n",
    "fig, axs = plt.subplots(1, 3, figsize=(15, 5))\n",
    "fig.suptitle('ТОП-5 жанров в регионах')\n",
    "for i in range(3):\n",
    "    df_i = (df_actual.groupby('genre')[countries[i]].sum().\n",
    "             reset_index().\n",
    "             sort_values(countries[i], ascending = False, ignore_index = True).\n",
    "             head(5))\n",
    "    df_i = df_i.append({'genre': 'Other_genre', countries[i]: df_actual[countries[i]].sum() - df_i[countries[i]].sum()}, ignore_index= True)\n",
    "    axs[i].pie(df_i[countries[i]], labels = df_i['genre'])\n",
    "    axs[i].set_title(df_i.columns[1].split('_')[0].upper())\n",
    "plt.show()"
   ]
  },
  {
   "cell_type": "code",
   "execution_count": 39,
   "metadata": {},
   "outputs": [
    {
     "data": {
      "image/png": "[encoded data removed]",
      "text/plain": [
       "<Figure size 1440x360 with 1 Axes>"
      ]
     },
     "metadata": {
      "needs_background": "light"
     },
     "output_type": "display_data"
    },
    {
     "data": {
      "image/png": "[encoded data removed]",
      "text/plain": [
       "<Figure size 1440x360 with 1 Axes>"
      ]
     },
     "metadata": {
      "needs_background": "light"
     },
     "output_type": "display_data"
    },
    {
     "data": {
      "image/png": "[encoded data removed]",
      "text/plain": [
       "<Figure size 1440x360 with 1 Axes>"
      ]
     },
     "metadata": {
      "needs_background": "light"
     },
     "output_type": "display_data"
    },
    {
     "data": {
      "image/png": "[encoded data removed]",
      "text/plain": [
       "<Figure size 1440x360 with 1 Axes>"
      ]
     },
     "metadata": {
      "needs_background": "light"
     },
     "output_type": "display_data"
    }
   ],
   "source": [
    "for region in ['eu_sales', 'na_sales', 'jp_sales', 'other_sales']:\n",
    "    plt.figure(figsize = (20,5))\n",
    "    mvp = df_actual.pivot_table(index = 'rating',\n",
    "                         values = region,\n",
    "                         aggfunc = 'sum').sort_values(by = region,\n",
    "                                                      ascending = False).reset_index()    \n",
    "    sns.barplot(data = mvp, x = 'rating', y = region)\n",
    "    plt.xlabel('Рейтинг')\n",
    "    plt.ylabel('Продажи')\n",
    "    plt.title(region)\n",
    "    plt.show()"
   ]
  },
  {
   "cell_type": "markdown",
   "metadata": {},
   "source": [
    "***Вывод:***<br><br>1.Самые популярные платформы в Северной Америке и Европе являются XOne и PlayStation 4. В Японии преобладает лидерство 3DS.<br><br>\n",
    "2.Самые популярные жанры игр в Северной Америке и Европе являются Action и Shooter. В Японии \n",
    "Предпочитают игры жанра Role-Playing и Action.<br><br>\n",
    "3.В Северной Америке и Европе топ рейтингов игр – 'От 17 и выше' и 'для всех'. В Японии точно сказать невозможно, ибо доминирующее количество игр не имеют рейтинга. Будем считать, что преобладает категория ‘для всех’.\n"
   ]
  },
  {
   "cell_type": "markdown",
   "metadata": {},
   "source": [
    "# Шаг 5. Проверьте гипотезы #"
   ]
  },
  {
   "cell_type": "markdown",
   "metadata": {},
   "source": [
    "**Средние пользовательские рейтинги платформ Xbox One и PC одинаковые**<br><br>\n",
    "Сформулируем нулевые гипотезы:\n",
    "\n",
    "Нулевая гипотеза H₀: Средние пользовательские рейтинги платформ Xbox One и PC одинаковые.<br><br>\n",
    "Альтернативная гипотеза H₁: Средние пользовательские рейтинги платформ Xbox One и PC различаются."
   ]
  },
  {
   "cell_type": "code",
   "execution_count": 77,
   "metadata": {},
   "outputs": [],
   "source": [
    "xone = df_actual.query('platform == \"XOne\" and user_score.notna()')['user_score']\n",
    "pc = df_actual.query('platform == \"PC\" and user_score.notna()')['user_score']"
   ]
  },
  {
   "cell_type": "code",
   "execution_count": 78,
   "metadata": {},
   "outputs": [
    {
     "name": "stdout",
     "output_type": "stream",
     "text": [
      "p-значение: 0.10450507919348415\n",
      "Не получилось отвергнуть нулевую гипотезу\n"
     ]
    }
   ],
   "source": [
    "alpha = 0.05\n",
    "results = st.ttest_ind(xone, pc)\n",
    "print('p-значение:', results.pvalue)\n",
    "\n",
    "if (results.pvalue < alpha):\n",
    "    print(\"Отвергаем нулевую гипотезу\")\n",
    "else:\n",
    "    print(\"Не получилось отвергнуть нулевую гипотезу\")"
   ]
  },
  {
   "cell_type": "markdown",
   "metadata": {},
   "source": [
    "***Вывод:***<br><br> Значение p-value равно чуть больше 10%. Нулевую гипотезу не получилось опровергнуть, с вероятностью в 10% можно получить различность рейтингов двух платформ."
   ]
  },
  {
   "cell_type": "markdown",
   "metadata": {},
   "source": [
    "**Средние пользовательские рейтинги жанров Action (англ. «действие», экшен-игры) и Sports (англ. «спортивные соревнования») разные.**<br><br>\n",
    "\n",
    "Сформулируем нулевые гипотезы:\n",
    "\n",
    "Нулевая гипотеза H₀: Средние пользовательские рейтинги жанров Action и Sports одинаковые.<br><br>\n",
    "Альтернативная гипотеза H₁: Средние пользовательские рейтинги жанров Action и Sports различаются."
   ]
  },
  {
   "cell_type": "code",
   "execution_count": 79,
   "metadata": {},
   "outputs": [],
   "source": [
    "action = df_actual.query('genre == \"Action\" and user_score.notna()')['user_score']\n",
    "sports = df_actual.query('genre == \"Sports\" and user_score.notna()')['user_score']"
   ]
  },
  {
   "cell_type": "code",
   "execution_count": 80,
   "metadata": {},
   "outputs": [
    {
     "name": "stdout",
     "output_type": "stream",
     "text": [
      "p-значение: 2.8711147985105864e-19\n",
      "Отвергаем нулевую гипотезу\n"
     ]
    }
   ],
   "source": [
    "alpha = 0.05\n",
    "results = st.ttest_ind(action, sports)\n",
    "print('p-значение:', results.pvalue)\n",
    "\n",
    "if (results.pvalue < alpha):\n",
    "    print(\"Отвергаем нулевую гипотезу\")\n",
    "else:\n",
    "    print(\"Не получилось отвергнуть нулевую гипотезу\")"
   ]
  },
  {
   "cell_type": "markdown",
   "metadata": {},
   "source": [
    "***Вывод:***<br><br> Получив значение p-value, мы отвергли Нулевую гипотезу. Вероятности получить одиноковые средние рейтинги по двум жанрам практически нет."
   ]
  },
  {
   "cell_type": "markdown",
   "metadata": {},
   "source": [
    "***Общий вывод по проверке гипотез:***<br><br>Используем критерий Стьюдента, потому что сравниваем две независимые выборки.<br><br>\n",
    "1.Гипотеза: \"Средние пользовательские рейтинги платформ Xbox one и PC одинаковые\". Нулевую гипотезу не удалось опровергнуть.<br><br>\n",
    "2.Гипотеза: \"Средние пользовательские рейтинги жанров Action и Sports разные\". Отвергаем нулевую гипотезу."
   ]
  },
  {
   "cell_type": "markdown",
   "metadata": {},
   "source": [
    "# Шаг 6. Напишите общий вывод #"
   ]
  },
  {
   "cell_type": "markdown",
   "metadata": {},
   "source": [
    "***Вывод:***<br><br>1.В результате визуального ознакомления с данными, была проведена обработка данных в виде приведения столбцов к нижнему регистру, заполнение пропусков при необходимости(пропуски в столбцах Critic_score и User_score остались без изменений, дабы не исказить результаты анализа),изменение типа данных. Дубликаты обнаружены не были.<br><br>\n",
    "2.Образование игр пришлось на начало 80-х, индустрия особо не развивалась, до 94 года, когда произошел резкий скачок и последующий рост количества выпускаемых игр и разработка новых платформ. Активное развитие игровой индустрии продолжалось до 2009 года, затем на сцену вышли мобильные телефоны, из за чего рынок переориентировался. Данную тенденцию мы может наблюдать и по сей день.<br><br>\n",
    "3.За весь активный период развития игровой индустрии, самыми популярными игровыми платформами были PS2, X360, PS3, Wii, DS, PS.  Потенциально прибыльные платформы являются PS4, XOne, 3DS, WiiU и PC. После выхода платформы наблюдается временный ажиотаж и затем спад продаж. Падение спроса объясняется тем, что выходят новые модели.<br><br>\n",
    "4.Наблюдается зависимость количества продаж от оценки критиков и незначительно от оценки пользователей. Продажи имеют более высокий показатель, если оценки критиков высокие, что очевидно.<br><br>\n",
    "5.Лидером по продажам среди игр является жанр Shooter. Игры жанра Strategy, Puzzle и Adventure имеют самые низкие продажи среди всех жанров игр.<br><br>\n",
    "6.В Северной Америке и Европе пользуются популярностью такие платформы как XOne и PS4. В Японии более популярна платформа 3DS. В предпочтении игровых жанров, Северная Америка и Европа схожи, в основном пользуются популярностью такие жанры как Action и Shooter. В Японии предпочитают игры жанра Role-Playing и Action. В Северной Америке и Европе покупают больше игры рейтинга ‘От 17 и выше’ и ‘для всех’. Что касается Японии, доминирующее количество игр не имеют рейтинга. Чем это обусловлено, неизвестно.\n",
    "По результатам проверки гипотезы - \"Средние пользовательские рейтинги платформ Xbox one и PC одинаковые\", нулевую гипотезу не удалось опровергнуть, что нельзя сказать в случае гипотезы - \"Средние пользовательские рейтинги жанров Action и Sports разные\", здесь мы отвергаем нулевую гипотезу.\n"
   ]
  }
 ],
 "metadata": {
  "ExecuteTimeLog": [
   {
    "duration": 375,
    "start_time": "2022-10-17T08:11:44.191Z"
   },
   {
    "duration": 69,
    "start_time": "2022-10-17T08:12:09.466Z"
   },
   {
    "duration": 27,
    "start_time": "2022-10-17T08:12:10.924Z"
   },
   {
    "duration": 17,
    "start_time": "2022-10-17T08:12:30.187Z"
   },
   {
    "duration": 16,
    "start_time": "2022-10-17T08:14:55.028Z"
   },
   {
    "duration": 16,
    "start_time": "2022-10-17T08:15:04.418Z"
   },
   {
    "duration": 17,
    "start_time": "2022-10-17T08:15:23.401Z"
   },
   {
    "duration": 16,
    "start_time": "2022-10-17T08:15:41.935Z"
   },
   {
    "duration": 32,
    "start_time": "2022-10-17T08:15:48.364Z"
   },
   {
    "duration": 4,
    "start_time": "2022-10-17T08:17:01.308Z"
   },
   {
    "duration": 11,
    "start_time": "2022-10-17T08:17:16.909Z"
   },
   {
    "duration": 19,
    "start_time": "2022-10-17T08:18:22.695Z"
   },
   {
    "duration": 17,
    "start_time": "2022-10-17T08:18:30.808Z"
   },
   {
    "duration": 4,
    "start_time": "2022-10-17T08:23:16.717Z"
   },
   {
    "duration": 4,
    "start_time": "2022-10-17T08:23:21.158Z"
   },
   {
    "duration": 3,
    "start_time": "2022-10-17T08:36:31.319Z"
   },
   {
    "duration": 4,
    "start_time": "2022-10-17T08:36:32.907Z"
   },
   {
    "duration": 74,
    "start_time": "2022-10-17T08:36:34.448Z"
   },
   {
    "duration": 11,
    "start_time": "2022-10-17T08:39:06.822Z"
   },
   {
    "duration": 5,
    "start_time": "2022-10-17T08:39:28.681Z"
   },
   {
    "duration": 5,
    "start_time": "2022-10-17T08:40:10.698Z"
   },
   {
    "duration": 22,
    "start_time": "2022-10-17T08:40:16.114Z"
   },
   {
    "duration": 6,
    "start_time": "2022-10-17T08:40:21.495Z"
   },
   {
    "duration": 16,
    "start_time": "2022-10-17T08:40:22.882Z"
   },
   {
    "duration": 5,
    "start_time": "2022-10-17T08:42:17.091Z"
   },
   {
    "duration": 22,
    "start_time": "2022-10-17T08:42:17.613Z"
   },
   {
    "duration": 72,
    "start_time": "2022-10-17T08:43:55.980Z"
   },
   {
    "duration": 15,
    "start_time": "2022-10-17T08:43:59.901Z"
   },
   {
    "duration": 3,
    "start_time": "2022-10-17T08:46:48.964Z"
   },
   {
    "duration": 18,
    "start_time": "2022-10-17T08:46:53.837Z"
   },
   {
    "duration": 5,
    "start_time": "2022-10-17T08:47:19.498Z"
   },
   {
    "duration": 17,
    "start_time": "2022-10-17T08:47:23.451Z"
   },
   {
    "duration": 8,
    "start_time": "2022-10-17T08:50:06.415Z"
   },
   {
    "duration": 15,
    "start_time": "2022-10-17T08:50:17.406Z"
   },
   {
    "duration": 31,
    "start_time": "2022-10-17T08:50:23.834Z"
   },
   {
    "duration": 6,
    "start_time": "2022-10-17T08:50:51.465Z"
   },
   {
    "duration": 17,
    "start_time": "2022-10-17T08:50:58.756Z"
   },
   {
    "duration": 20,
    "start_time": "2022-10-17T08:51:35.822Z"
   },
   {
    "duration": 5,
    "start_time": "2022-10-17T08:52:33.232Z"
   },
   {
    "duration": 26,
    "start_time": "2022-10-17T08:52:34.993Z"
   },
   {
    "duration": 23,
    "start_time": "2022-10-17T09:02:28.578Z"
   },
   {
    "duration": 17,
    "start_time": "2022-10-17T09:02:34.219Z"
   },
   {
    "duration": 6,
    "start_time": "2022-10-17T09:02:44.203Z"
   },
   {
    "duration": 9,
    "start_time": "2022-10-17T09:04:52.979Z"
   },
   {
    "duration": 4,
    "start_time": "2022-10-17T09:05:06.127Z"
   },
   {
    "duration": 5,
    "start_time": "2022-10-17T09:05:16.024Z"
   },
   {
    "duration": 7,
    "start_time": "2022-10-17T09:13:58.232Z"
   },
   {
    "duration": 9,
    "start_time": "2022-10-17T09:14:34.799Z"
   },
   {
    "duration": 9,
    "start_time": "2022-10-17T09:14:39.941Z"
   },
   {
    "duration": 6,
    "start_time": "2022-10-17T09:14:48.979Z"
   },
   {
    "duration": 5,
    "start_time": "2022-10-17T09:21:23.439Z"
   },
   {
    "duration": 5,
    "start_time": "2022-10-17T09:21:34.055Z"
   },
   {
    "duration": 23,
    "start_time": "2022-10-17T09:21:42.758Z"
   },
   {
    "duration": 12,
    "start_time": "2022-10-17T09:22:22.861Z"
   },
   {
    "duration": 6,
    "start_time": "2022-10-17T09:23:00.105Z"
   },
   {
    "duration": 7,
    "start_time": "2022-10-17T09:23:25.575Z"
   },
   {
    "duration": 7,
    "start_time": "2022-10-17T09:23:29.793Z"
   },
   {
    "duration": 6,
    "start_time": "2022-10-17T09:38:07.412Z"
   },
   {
    "duration": 6,
    "start_time": "2022-10-17T09:38:23.320Z"
   },
   {
    "duration": 15,
    "start_time": "2022-10-17T09:41:23.515Z"
   },
   {
    "duration": 16,
    "start_time": "2022-10-17T09:59:19.302Z"
   },
   {
    "duration": 17,
    "start_time": "2022-10-17T10:01:15.572Z"
   },
   {
    "duration": 10,
    "start_time": "2022-10-17T10:06:46.245Z"
   },
   {
    "duration": 8,
    "start_time": "2022-10-17T10:06:58.568Z"
   },
   {
    "duration": 69,
    "start_time": "2022-10-17T10:07:16.744Z"
   },
   {
    "duration": 11,
    "start_time": "2022-10-17T10:07:22.190Z"
   },
   {
    "duration": 10,
    "start_time": "2022-10-17T10:07:26.746Z"
   },
   {
    "duration": 11,
    "start_time": "2022-10-17T10:07:28.982Z"
   },
   {
    "duration": 9,
    "start_time": "2022-10-17T10:07:29.533Z"
   },
   {
    "duration": 13,
    "start_time": "2022-10-17T10:09:02.103Z"
   },
   {
    "duration": 9,
    "start_time": "2022-10-17T10:09:43.224Z"
   },
   {
    "duration": 10,
    "start_time": "2022-10-17T10:09:52.326Z"
   },
   {
    "duration": 627,
    "start_time": "2022-10-17T10:11:01.136Z"
   },
   {
    "duration": 428,
    "start_time": "2022-10-19T07:37:01.872Z"
   },
   {
    "duration": 89,
    "start_time": "2022-10-19T07:37:02.303Z"
   },
   {
    "duration": 25,
    "start_time": "2022-10-19T07:37:02.397Z"
   },
   {
    "duration": 36,
    "start_time": "2022-10-19T07:37:02.425Z"
   },
   {
    "duration": 22,
    "start_time": "2022-10-19T07:37:02.463Z"
   },
   {
    "duration": 11,
    "start_time": "2022-10-19T07:37:02.486Z"
   },
   {
    "duration": 41,
    "start_time": "2022-10-19T07:37:02.499Z"
   },
   {
    "duration": 45,
    "start_time": "2022-10-19T07:37:02.542Z"
   },
   {
    "duration": 30,
    "start_time": "2022-10-19T07:37:02.589Z"
   },
   {
    "duration": 22,
    "start_time": "2022-10-19T07:37:02.625Z"
   },
   {
    "duration": 31,
    "start_time": "2022-10-19T07:37:02.649Z"
   },
   {
    "duration": 22,
    "start_time": "2022-10-19T07:37:02.682Z"
   },
   {
    "duration": 31,
    "start_time": "2022-10-19T07:37:02.706Z"
   },
   {
    "duration": 19,
    "start_time": "2022-10-19T07:37:02.739Z"
   },
   {
    "duration": 8,
    "start_time": "2022-10-19T07:37:02.760Z"
   },
   {
    "duration": 25,
    "start_time": "2022-10-19T07:37:02.769Z"
   },
   {
    "duration": 18,
    "start_time": "2022-10-19T07:37:02.796Z"
   },
   {
    "duration": 48,
    "start_time": "2022-10-19T07:37:02.816Z"
   },
   {
    "duration": 27,
    "start_time": "2022-10-19T07:37:02.866Z"
   },
   {
    "duration": 116,
    "start_time": "2022-10-19T07:42:08.669Z"
   },
   {
    "duration": 11,
    "start_time": "2022-10-19T07:42:16.239Z"
   },
   {
    "duration": 690,
    "start_time": "2022-10-19T07:44:41.262Z"
   },
   {
    "duration": 59,
    "start_time": "2022-10-19T07:44:53.946Z"
   },
   {
    "duration": 208,
    "start_time": "2022-10-19T07:45:00.167Z"
   },
   {
    "duration": 245,
    "start_time": "2022-10-19T07:46:08.105Z"
   },
   {
    "duration": 384,
    "start_time": "2022-10-19T07:46:17.749Z"
   },
   {
    "duration": 265,
    "start_time": "2022-10-19T07:46:32.595Z"
   },
   {
    "duration": 16,
    "start_time": "2022-10-19T07:47:02.695Z"
   },
   {
    "duration": 319,
    "start_time": "2022-10-19T07:47:10.262Z"
   },
   {
    "duration": 277,
    "start_time": "2022-10-19T07:47:17.391Z"
   },
   {
    "duration": 234,
    "start_time": "2022-10-19T07:47:32.960Z"
   },
   {
    "duration": 270,
    "start_time": "2022-10-19T07:48:02.585Z"
   },
   {
    "duration": 241,
    "start_time": "2022-10-19T07:49:42.869Z"
   },
   {
    "duration": 361,
    "start_time": "2022-10-19T07:50:34.292Z"
   },
   {
    "duration": 272,
    "start_time": "2022-10-19T07:50:49.363Z"
   },
   {
    "duration": 220,
    "start_time": "2022-10-19T07:52:08.043Z"
   },
   {
    "duration": 276,
    "start_time": "2022-10-19T07:52:19.641Z"
   },
   {
    "duration": 390,
    "start_time": "2022-10-19T07:52:26.114Z"
   },
   {
    "duration": 271,
    "start_time": "2022-10-19T07:52:31.847Z"
   },
   {
    "duration": 47,
    "start_time": "2022-10-19T07:52:48.338Z"
   },
   {
    "duration": 287,
    "start_time": "2022-10-19T07:52:55.305Z"
   },
   {
    "duration": 331,
    "start_time": "2022-10-19T08:03:00.136Z"
   },
   {
    "duration": 399,
    "start_time": "2022-10-19T08:03:11.198Z"
   },
   {
    "duration": 339,
    "start_time": "2022-10-19T08:03:25.313Z"
   },
   {
    "duration": 477,
    "start_time": "2022-10-19T08:03:29.619Z"
   },
   {
    "duration": 494,
    "start_time": "2022-10-19T08:05:57.691Z"
   },
   {
    "duration": 38,
    "start_time": "2022-10-19T08:06:51.265Z"
   },
   {
    "duration": 26,
    "start_time": "2022-10-19T08:08:15.816Z"
   },
   {
    "duration": 25,
    "start_time": "2022-10-19T08:08:28.167Z"
   },
   {
    "duration": 379,
    "start_time": "2022-10-19T08:08:51.572Z"
   },
   {
    "duration": 26,
    "start_time": "2022-10-19T08:09:50.948Z"
   },
   {
    "duration": 19,
    "start_time": "2022-10-19T08:09:58.280Z"
   },
   {
    "duration": 6,
    "start_time": "2022-10-19T08:10:03.762Z"
   },
   {
    "duration": 324,
    "start_time": "2022-10-19T08:10:10.895Z"
   },
   {
    "duration": 275,
    "start_time": "2022-10-19T08:11:11.498Z"
   },
   {
    "duration": 236,
    "start_time": "2022-10-19T08:12:58.276Z"
   },
   {
    "duration": 327,
    "start_time": "2022-10-19T08:13:09.886Z"
   },
   {
    "duration": 306,
    "start_time": "2022-10-19T08:13:14.284Z"
   },
   {
    "duration": 39,
    "start_time": "2022-10-19T08:16:58.707Z"
   },
   {
    "duration": 16,
    "start_time": "2022-10-19T08:17:05.807Z"
   },
   {
    "duration": 219,
    "start_time": "2022-10-19T08:17:27.740Z"
   },
   {
    "duration": 214,
    "start_time": "2022-10-19T08:17:51.490Z"
   },
   {
    "duration": 242,
    "start_time": "2022-10-19T08:18:17.871Z"
   },
   {
    "duration": 11,
    "start_time": "2022-10-19T08:20:00.620Z"
   },
   {
    "duration": 21,
    "start_time": "2022-10-19T08:20:22.282Z"
   },
   {
    "duration": 502,
    "start_time": "2022-10-19T08:20:39.089Z"
   },
   {
    "duration": 247,
    "start_time": "2022-10-19T08:49:54.758Z"
   },
   {
    "duration": 289,
    "start_time": "2022-10-19T08:50:06.548Z"
   },
   {
    "duration": 78,
    "start_time": "2022-10-19T08:50:35.373Z"
   },
   {
    "duration": 67,
    "start_time": "2022-10-19T08:51:33.792Z"
   },
   {
    "duration": 212,
    "start_time": "2022-10-19T08:51:39.408Z"
   },
   {
    "duration": 212,
    "start_time": "2022-10-19T08:51:50.552Z"
   },
   {
    "duration": 232,
    "start_time": "2022-10-19T08:52:11.765Z"
   },
   {
    "duration": 233,
    "start_time": "2022-10-19T08:52:32.501Z"
   },
   {
    "duration": 213,
    "start_time": "2022-10-19T08:52:44.258Z"
   },
   {
    "duration": 225,
    "start_time": "2022-10-19T08:53:00.040Z"
   },
   {
    "duration": 250,
    "start_time": "2022-10-19T08:56:35.591Z"
   },
   {
    "duration": 11,
    "start_time": "2022-10-19T09:03:16.891Z"
   },
   {
    "duration": 199,
    "start_time": "2022-10-19T09:03:23.831Z"
   },
   {
    "duration": 152,
    "start_time": "2022-10-19T09:03:58.076Z"
   },
   {
    "duration": 18,
    "start_time": "2022-10-19T09:06:59.857Z"
   },
   {
    "duration": 20,
    "start_time": "2022-10-19T09:07:27.870Z"
   },
   {
    "duration": 13,
    "start_time": "2022-10-19T09:07:39.072Z"
   },
   {
    "duration": 242,
    "start_time": "2022-10-19T09:08:22.092Z"
   },
   {
    "duration": 551,
    "start_time": "2022-10-19T09:08:47.749Z"
   },
   {
    "duration": 282,
    "start_time": "2022-10-19T09:08:53.851Z"
   },
   {
    "duration": 217,
    "start_time": "2022-10-19T09:09:08.563Z"
   },
   {
    "duration": 4,
    "start_time": "2022-10-19T09:09:26.586Z"
   },
   {
    "duration": 224,
    "start_time": "2022-10-19T09:10:45.970Z"
   },
   {
    "duration": 66,
    "start_time": "2022-10-19T09:10:52.697Z"
   },
   {
    "duration": 216,
    "start_time": "2022-10-19T09:10:56.192Z"
   },
   {
    "duration": 4,
    "start_time": "2022-10-19T09:12:19.845Z"
   },
   {
    "duration": 10,
    "start_time": "2022-10-19T09:12:26.683Z"
   },
   {
    "duration": 12,
    "start_time": "2022-10-19T09:12:46.588Z"
   },
   {
    "duration": 12,
    "start_time": "2022-10-19T09:12:52.595Z"
   },
   {
    "duration": 11,
    "start_time": "2022-10-19T09:13:00.744Z"
   },
   {
    "duration": 222,
    "start_time": "2022-10-19T09:13:22.050Z"
   },
   {
    "duration": 11,
    "start_time": "2022-10-19T09:13:51.907Z"
   },
   {
    "duration": 12,
    "start_time": "2022-10-19T09:14:21.240Z"
   },
   {
    "duration": 4,
    "start_time": "2022-10-19T09:14:22.558Z"
   },
   {
    "duration": 8,
    "start_time": "2022-10-19T09:14:23.074Z"
   },
   {
    "duration": 65,
    "start_time": "2022-10-19T12:29:29.594Z"
   },
   {
    "duration": 7,
    "start_time": "2022-10-19T12:29:36.460Z"
   },
   {
    "duration": 465,
    "start_time": "2022-10-19T12:29:44.879Z"
   },
   {
    "duration": 83,
    "start_time": "2022-10-19T12:29:45.347Z"
   },
   {
    "duration": 34,
    "start_time": "2022-10-19T12:29:45.433Z"
   },
   {
    "duration": 21,
    "start_time": "2022-10-19T12:29:45.469Z"
   },
   {
    "duration": 29,
    "start_time": "2022-10-19T12:29:45.493Z"
   },
   {
    "duration": 16,
    "start_time": "2022-10-19T12:29:45.524Z"
   },
   {
    "duration": 21,
    "start_time": "2022-10-19T12:29:45.542Z"
   },
   {
    "duration": 25,
    "start_time": "2022-10-19T12:29:45.565Z"
   },
   {
    "duration": 16,
    "start_time": "2022-10-19T12:29:45.592Z"
   },
   {
    "duration": 15,
    "start_time": "2022-10-19T12:29:45.611Z"
   },
   {
    "duration": 13,
    "start_time": "2022-10-19T12:29:45.628Z"
   },
   {
    "duration": 34,
    "start_time": "2022-10-19T12:29:45.643Z"
   },
   {
    "duration": 20,
    "start_time": "2022-10-19T12:29:45.679Z"
   },
   {
    "duration": 19,
    "start_time": "2022-10-19T12:29:45.702Z"
   },
   {
    "duration": 8,
    "start_time": "2022-10-19T12:29:45.723Z"
   },
   {
    "duration": 14,
    "start_time": "2022-10-19T12:29:45.733Z"
   },
   {
    "duration": 84,
    "start_time": "2022-10-19T12:29:45.749Z"
   },
   {
    "duration": 7,
    "start_time": "2022-10-19T12:29:45.835Z"
   },
   {
    "duration": 62,
    "start_time": "2022-10-19T12:29:45.849Z"
   },
   {
    "duration": 586,
    "start_time": "2022-10-19T12:29:45.913Z"
   },
   {
    "duration": 238,
    "start_time": "2022-10-19T12:29:46.502Z"
   },
   {
    "duration": 11,
    "start_time": "2022-10-19T12:29:46.742Z"
   },
   {
    "duration": 8,
    "start_time": "2022-10-19T12:29:46.755Z"
   },
   {
    "duration": 108,
    "start_time": "2022-10-19T12:29:46.764Z"
   },
   {
    "duration": 9,
    "start_time": "2022-10-19T12:29:55.221Z"
   },
   {
    "duration": 200,
    "start_time": "2022-10-19T12:35:48.228Z"
   },
   {
    "duration": 216,
    "start_time": "2022-10-19T12:36:18.911Z"
   },
   {
    "duration": 214,
    "start_time": "2022-10-19T12:36:30.823Z"
   },
   {
    "duration": 158,
    "start_time": "2022-10-19T12:44:01.016Z"
   },
   {
    "duration": 166,
    "start_time": "2022-10-19T12:44:32.720Z"
   },
   {
    "duration": 213,
    "start_time": "2022-10-19T12:44:45.500Z"
   },
   {
    "duration": 212,
    "start_time": "2022-10-19T12:45:16.178Z"
   },
   {
    "duration": 151,
    "start_time": "2022-10-19T12:46:29.090Z"
   },
   {
    "duration": 11,
    "start_time": "2022-10-19T12:46:43.876Z"
   },
   {
    "duration": 5,
    "start_time": "2022-10-19T12:47:12.691Z"
   },
   {
    "duration": 135,
    "start_time": "2022-10-19T12:47:17.374Z"
   },
   {
    "duration": 155,
    "start_time": "2022-10-19T12:47:27.092Z"
   },
   {
    "duration": 194,
    "start_time": "2022-10-19T12:48:49.857Z"
   },
   {
    "duration": 195,
    "start_time": "2022-10-19T12:48:57.349Z"
   },
   {
    "duration": 13,
    "start_time": "2022-10-19T12:51:15.028Z"
   },
   {
    "duration": 10,
    "start_time": "2022-10-19T12:52:29.649Z"
   },
   {
    "duration": 5,
    "start_time": "2022-10-19T12:53:28.505Z"
   },
   {
    "duration": 4,
    "start_time": "2022-10-19T12:55:35.746Z"
   },
   {
    "duration": 10,
    "start_time": "2022-10-19T12:56:16.397Z"
   },
   {
    "duration": 20,
    "start_time": "2022-10-19T12:56:45.961Z"
   },
   {
    "duration": 206,
    "start_time": "2022-10-19T12:56:53.465Z"
   },
   {
    "duration": 202,
    "start_time": "2022-10-19T12:56:58.035Z"
   },
   {
    "duration": 22,
    "start_time": "2022-10-19T12:58:24.994Z"
   },
   {
    "duration": 224,
    "start_time": "2022-10-19T12:58:32.913Z"
   },
   {
    "duration": 248,
    "start_time": "2022-10-19T12:58:41.706Z"
   },
   {
    "duration": 307,
    "start_time": "2022-10-19T12:58:51.572Z"
   },
   {
    "duration": 274,
    "start_time": "2022-10-19T13:00:49.625Z"
   },
   {
    "duration": 53,
    "start_time": "2022-10-19T13:01:54.006Z"
   },
   {
    "duration": 12,
    "start_time": "2022-10-19T13:02:02.346Z"
   },
   {
    "duration": 185,
    "start_time": "2022-10-19T13:02:09.404Z"
   },
   {
    "duration": 202,
    "start_time": "2022-10-19T13:02:44.589Z"
   },
   {
    "duration": 250,
    "start_time": "2022-10-19T13:02:55.476Z"
   },
   {
    "duration": 17,
    "start_time": "2022-10-19T13:03:42.617Z"
   },
   {
    "duration": 270,
    "start_time": "2022-10-19T13:03:48.371Z"
   },
   {
    "duration": 39,
    "start_time": "2022-10-19T13:07:50.081Z"
   },
   {
    "duration": 9,
    "start_time": "2022-10-19T13:08:35.620Z"
   },
   {
    "duration": 8,
    "start_time": "2022-10-19T13:14:43.891Z"
   },
   {
    "duration": 6,
    "start_time": "2022-10-19T13:15:39.394Z"
   },
   {
    "duration": 10,
    "start_time": "2022-10-19T13:15:40.536Z"
   },
   {
    "duration": 465,
    "start_time": "2022-10-19T13:15:48.524Z"
   },
   {
    "duration": 5,
    "start_time": "2022-10-19T13:16:00.321Z"
   },
   {
    "duration": 251,
    "start_time": "2022-10-19T13:16:02.799Z"
   },
   {
    "duration": 345,
    "start_time": "2022-10-19T13:16:42.415Z"
   },
   {
    "duration": 7,
    "start_time": "2022-10-19T13:16:50.267Z"
   },
   {
    "duration": 354,
    "start_time": "2022-10-19T13:16:51.920Z"
   },
   {
    "duration": 5,
    "start_time": "2022-10-19T13:17:48.697Z"
   },
   {
    "duration": 338,
    "start_time": "2022-10-19T13:17:50.928Z"
   },
   {
    "duration": 7,
    "start_time": "2022-10-19T13:17:57.758Z"
   },
   {
    "duration": 346,
    "start_time": "2022-10-19T13:17:59.456Z"
   },
   {
    "duration": 7,
    "start_time": "2022-10-19T13:18:11.571Z"
   },
   {
    "duration": 409,
    "start_time": "2022-10-19T13:18:12.614Z"
   },
   {
    "duration": 10,
    "start_time": "2022-10-19T13:20:34.628Z"
   },
   {
    "duration": 16,
    "start_time": "2022-10-19T13:20:46.380Z"
   },
   {
    "duration": 255,
    "start_time": "2022-10-19T13:20:59.281Z"
   },
   {
    "duration": 13,
    "start_time": "2022-10-19T13:22:25.375Z"
   },
   {
    "duration": 9,
    "start_time": "2022-10-19T13:22:39.955Z"
   },
   {
    "duration": 15,
    "start_time": "2022-10-19T13:22:57.586Z"
   },
   {
    "duration": 7,
    "start_time": "2022-10-19T13:29:53.843Z"
   },
   {
    "duration": 13,
    "start_time": "2022-10-19T13:30:45.741Z"
   },
   {
    "duration": 396,
    "start_time": "2022-10-19T13:30:53.183Z"
   },
   {
    "duration": 378,
    "start_time": "2022-10-19T13:30:59.929Z"
   },
   {
    "duration": 404,
    "start_time": "2022-10-19T13:34:09.763Z"
   },
   {
    "duration": 544,
    "start_time": "2022-10-19T13:34:17.119Z"
   },
   {
    "duration": 360,
    "start_time": "2022-10-19T13:40:22.795Z"
   },
   {
    "duration": 339,
    "start_time": "2022-10-19T13:40:34.370Z"
   },
   {
    "duration": 65,
    "start_time": "2022-10-19T13:41:20.995Z"
   },
   {
    "duration": 157,
    "start_time": "2022-10-19T13:41:27.613Z"
   },
   {
    "duration": 361,
    "start_time": "2022-10-19T13:41:38.193Z"
   },
   {
    "duration": 158,
    "start_time": "2022-10-19T13:47:30.430Z"
   },
   {
    "duration": 217,
    "start_time": "2022-10-19T13:47:38.236Z"
   },
   {
    "duration": 195,
    "start_time": "2022-10-19T13:47:51.130Z"
   },
   {
    "duration": 228,
    "start_time": "2022-10-19T13:48:49.851Z"
   },
   {
    "duration": 226,
    "start_time": "2022-10-19T13:48:55.314Z"
   },
   {
    "duration": 197,
    "start_time": "2022-10-19T13:49:25.199Z"
   },
   {
    "duration": 7,
    "start_time": "2022-10-19T13:50:57.841Z"
   },
   {
    "duration": 8,
    "start_time": "2022-10-19T13:51:08.587Z"
   },
   {
    "duration": 6,
    "start_time": "2022-10-19T13:51:23.915Z"
   },
   {
    "duration": 8,
    "start_time": "2022-10-19T13:55:36.341Z"
   },
   {
    "duration": 5,
    "start_time": "2022-10-19T13:56:10.870Z"
   },
   {
    "duration": 390,
    "start_time": "2022-10-19T13:56:27.899Z"
   },
   {
    "duration": 211,
    "start_time": "2022-10-19T13:56:34.852Z"
   },
   {
    "duration": 6,
    "start_time": "2022-10-19T13:56:41.619Z"
   },
   {
    "duration": 5,
    "start_time": "2022-10-19T13:58:03.736Z"
   },
   {
    "duration": 6,
    "start_time": "2022-10-19T14:01:41.549Z"
   },
   {
    "duration": 14,
    "start_time": "2022-10-19T14:01:53.433Z"
   },
   {
    "duration": 18,
    "start_time": "2022-10-19T14:02:20.958Z"
   },
   {
    "duration": 6,
    "start_time": "2022-10-19T14:20:12.608Z"
   },
   {
    "duration": 17,
    "start_time": "2022-10-19T14:20:46.460Z"
   },
   {
    "duration": 18,
    "start_time": "2022-10-19T14:21:37.531Z"
   },
   {
    "duration": 4,
    "start_time": "2022-10-19T14:21:52.929Z"
   },
   {
    "duration": 14,
    "start_time": "2022-10-19T14:22:08.422Z"
   },
   {
    "duration": 3,
    "start_time": "2022-10-19T14:22:54.980Z"
   },
   {
    "duration": 455,
    "start_time": "2022-10-19T14:23:04.667Z"
   },
   {
    "duration": 765,
    "start_time": "2022-10-22T10:16:27.704Z"
   },
   {
    "duration": 227,
    "start_time": "2022-10-22T10:16:28.471Z"
   },
   {
    "duration": 19,
    "start_time": "2022-10-22T10:16:28.699Z"
   },
   {
    "duration": 14,
    "start_time": "2022-10-22T10:16:28.720Z"
   },
   {
    "duration": 7,
    "start_time": "2022-10-22T10:16:28.736Z"
   },
   {
    "duration": 5,
    "start_time": "2022-10-22T10:16:28.744Z"
   },
   {
    "duration": 7,
    "start_time": "2022-10-22T10:16:28.750Z"
   },
   {
    "duration": 7,
    "start_time": "2022-10-22T10:16:28.759Z"
   },
   {
    "duration": 30,
    "start_time": "2022-10-22T10:16:28.767Z"
   },
   {
    "duration": 5,
    "start_time": "2022-10-22T10:16:28.806Z"
   },
   {
    "duration": 17,
    "start_time": "2022-10-22T10:16:28.812Z"
   },
   {
    "duration": 21,
    "start_time": "2022-10-22T10:16:28.830Z"
   },
   {
    "duration": 7,
    "start_time": "2022-10-22T10:16:28.853Z"
   },
   {
    "duration": 20,
    "start_time": "2022-10-22T10:16:28.862Z"
   },
   {
    "duration": 16,
    "start_time": "2022-10-22T10:16:28.891Z"
   },
   {
    "duration": 14,
    "start_time": "2022-10-22T10:16:28.908Z"
   },
   {
    "duration": 24,
    "start_time": "2022-10-22T10:16:28.923Z"
   },
   {
    "duration": 4,
    "start_time": "2022-10-22T10:16:28.948Z"
   },
   {
    "duration": 20,
    "start_time": "2022-10-22T10:16:28.954Z"
   },
   {
    "duration": 228,
    "start_time": "2022-10-22T10:16:28.975Z"
   },
   {
    "duration": 4,
    "start_time": "2022-10-22T10:16:29.205Z"
   },
   {
    "duration": 195,
    "start_time": "2022-10-22T10:16:29.210Z"
   },
   {
    "duration": 6,
    "start_time": "2022-10-22T10:16:29.407Z"
   },
   {
    "duration": 12,
    "start_time": "2022-10-22T10:16:29.414Z"
   },
   {
    "duration": 383,
    "start_time": "2022-10-22T10:16:29.428Z"
   },
   {
    "duration": 363,
    "start_time": "2022-10-22T10:16:29.812Z"
   },
   {
    "duration": 865,
    "start_time": "2022-10-23T07:06:47.034Z"
   },
   {
    "duration": 264,
    "start_time": "2022-10-23T07:06:47.901Z"
   },
   {
    "duration": 19,
    "start_time": "2022-10-23T07:06:48.169Z"
   },
   {
    "duration": 13,
    "start_time": "2022-10-23T07:06:48.190Z"
   },
   {
    "duration": 43,
    "start_time": "2022-10-23T07:06:48.204Z"
   },
   {
    "duration": 11,
    "start_time": "2022-10-23T07:06:48.249Z"
   },
   {
    "duration": 15,
    "start_time": "2022-10-23T07:06:48.261Z"
   },
   {
    "duration": 8,
    "start_time": "2022-10-23T07:06:48.277Z"
   },
   {
    "duration": 10,
    "start_time": "2022-10-23T07:06:48.286Z"
   },
   {
    "duration": 5,
    "start_time": "2022-10-23T07:06:48.298Z"
   },
   {
    "duration": 51,
    "start_time": "2022-10-23T07:06:48.308Z"
   },
   {
    "duration": 10,
    "start_time": "2022-10-23T07:06:48.360Z"
   },
   {
    "duration": 3,
    "start_time": "2022-10-23T07:06:48.373Z"
   },
   {
    "duration": 15,
    "start_time": "2022-10-23T07:06:48.378Z"
   },
   {
    "duration": 8,
    "start_time": "2022-10-23T07:06:48.395Z"
   },
   {
    "duration": 47,
    "start_time": "2022-10-23T07:06:48.404Z"
   },
   {
    "duration": 17,
    "start_time": "2022-10-23T07:06:48.452Z"
   },
   {
    "duration": 4,
    "start_time": "2022-10-23T07:06:48.470Z"
   },
   {
    "duration": 13,
    "start_time": "2022-10-23T07:06:48.475Z"
   },
   {
    "duration": 212,
    "start_time": "2022-10-23T07:06:48.489Z"
   },
   {
    "duration": 8,
    "start_time": "2022-10-23T07:06:48.706Z"
   },
   {
    "duration": 220,
    "start_time": "2022-10-23T07:06:48.716Z"
   },
   {
    "duration": 6,
    "start_time": "2022-10-23T07:06:48.940Z"
   },
   {
    "duration": 7,
    "start_time": "2022-10-23T07:06:48.947Z"
   },
   {
    "duration": 378,
    "start_time": "2022-10-23T07:06:48.956Z"
   },
   {
    "duration": 372,
    "start_time": "2022-10-23T07:06:49.335Z"
   },
   {
    "duration": 17,
    "start_time": "2022-10-23T07:18:13.208Z"
   },
   {
    "duration": 33,
    "start_time": "2022-10-23T07:19:10.639Z"
   },
   {
    "duration": 15,
    "start_time": "2022-10-23T07:23:31.162Z"
   },
   {
    "duration": 19,
    "start_time": "2022-10-23T07:23:45.467Z"
   },
   {
    "duration": 319,
    "start_time": "2022-10-23T07:26:06.068Z"
   },
   {
    "duration": 264,
    "start_time": "2022-10-23T07:27:38.446Z"
   },
   {
    "duration": 72,
    "start_time": "2022-10-23T07:34:06.650Z"
   },
   {
    "duration": 13,
    "start_time": "2022-10-23T07:34:38.949Z"
   },
   {
    "duration": 17,
    "start_time": "2022-10-23T07:36:04.435Z"
   },
   {
    "duration": 12,
    "start_time": "2022-10-23T07:36:13.335Z"
   },
   {
    "duration": 21,
    "start_time": "2022-10-23T07:37:24.960Z"
   },
   {
    "duration": 21,
    "start_time": "2022-10-23T07:38:37.032Z"
   },
   {
    "duration": 18,
    "start_time": "2022-10-23T07:38:44.074Z"
   },
   {
    "duration": 8,
    "start_time": "2022-10-23T07:44:32.181Z"
   },
   {
    "duration": 173,
    "start_time": "2022-10-23T07:44:49.753Z"
   },
   {
    "duration": 160,
    "start_time": "2022-10-23T07:45:10.060Z"
   },
   {
    "duration": 166,
    "start_time": "2022-10-23T07:48:18.958Z"
   },
   {
    "duration": 1618,
    "start_time": "2022-10-23T07:51:20.548Z"
   },
   {
    "duration": 10,
    "start_time": "2022-10-23T07:51:36.848Z"
   },
   {
    "duration": 10,
    "start_time": "2022-10-23T07:51:57.639Z"
   },
   {
    "duration": 269,
    "start_time": "2022-10-23T07:56:18.892Z"
   },
   {
    "duration": 172,
    "start_time": "2022-10-23T07:56:32.627Z"
   },
   {
    "duration": 6,
    "start_time": "2022-10-23T07:57:27.269Z"
   },
   {
    "duration": 7,
    "start_time": "2022-10-23T07:59:12.544Z"
   },
   {
    "duration": 6,
    "start_time": "2022-10-23T07:59:39.965Z"
   },
   {
    "duration": 9,
    "start_time": "2022-10-23T08:02:12.750Z"
   },
   {
    "duration": 32,
    "start_time": "2022-10-23T08:02:37.466Z"
   },
   {
    "duration": 10,
    "start_time": "2022-10-23T08:34:03.084Z"
   },
   {
    "duration": 20,
    "start_time": "2022-10-23T08:34:31.935Z"
   },
   {
    "duration": 22,
    "start_time": "2022-10-23T08:34:58.469Z"
   },
   {
    "duration": 5,
    "start_time": "2022-10-23T08:38:06.781Z"
   },
   {
    "duration": 9,
    "start_time": "2022-10-23T08:38:14.102Z"
   },
   {
    "duration": 144,
    "start_time": "2022-10-23T08:38:34.965Z"
   },
   {
    "duration": 14,
    "start_time": "2022-10-23T08:39:06.499Z"
   },
   {
    "duration": 445,
    "start_time": "2022-10-23T08:39:45.599Z"
   },
   {
    "duration": 6,
    "start_time": "2022-10-23T08:39:53.076Z"
   },
   {
    "duration": 157,
    "start_time": "2022-10-23T08:39:53.544Z"
   },
   {
    "duration": 154,
    "start_time": "2022-10-23T08:40:17.117Z"
   },
   {
    "duration": 151,
    "start_time": "2022-10-23T08:40:28.568Z"
   },
   {
    "duration": 147,
    "start_time": "2022-10-23T08:40:33.675Z"
   },
   {
    "duration": 141,
    "start_time": "2022-10-23T08:40:53.662Z"
   },
   {
    "duration": 253,
    "start_time": "2022-10-23T08:41:03.643Z"
   },
   {
    "duration": 159,
    "start_time": "2022-10-23T08:41:10.779Z"
   },
   {
    "duration": 5,
    "start_time": "2022-10-23T08:43:56.635Z"
   },
   {
    "duration": 237,
    "start_time": "2022-10-23T09:13:46.790Z"
   },
   {
    "duration": 257,
    "start_time": "2022-10-23T09:14:47.102Z"
   },
   {
    "duration": 5,
    "start_time": "2022-10-23T09:15:38.086Z"
   },
   {
    "duration": 4,
    "start_time": "2022-10-23T09:15:54.669Z"
   },
   {
    "duration": 4,
    "start_time": "2022-10-23T09:16:49.620Z"
   },
   {
    "duration": 262,
    "start_time": "2022-10-23T09:44:14.439Z"
   },
   {
    "duration": 242,
    "start_time": "2022-10-23T09:44:20.956Z"
   },
   {
    "duration": 173,
    "start_time": "2022-10-23T09:45:35.482Z"
   },
   {
    "duration": 199,
    "start_time": "2022-10-23T09:45:59.260Z"
   },
   {
    "duration": 251,
    "start_time": "2022-10-23T09:46:20.122Z"
   },
   {
    "duration": 209,
    "start_time": "2022-10-23T09:46:48.630Z"
   },
   {
    "duration": 190,
    "start_time": "2022-10-23T09:47:31.657Z"
   },
   {
    "duration": 246,
    "start_time": "2022-10-23T09:47:35.214Z"
   },
   {
    "duration": 21,
    "start_time": "2022-10-23T09:48:15.140Z"
   },
   {
    "duration": 18,
    "start_time": "2022-10-23T09:48:26.419Z"
   },
   {
    "duration": 241,
    "start_time": "2022-10-23T09:50:55.466Z"
   },
   {
    "duration": 357,
    "start_time": "2022-10-23T10:00:39.555Z"
   },
   {
    "duration": 70,
    "start_time": "2022-10-23T10:00:49.635Z"
   },
   {
    "duration": 231,
    "start_time": "2022-10-23T10:01:03.890Z"
   },
   {
    "duration": 220,
    "start_time": "2022-10-23T10:01:14.574Z"
   },
   {
    "duration": 207,
    "start_time": "2022-10-23T10:01:31.596Z"
   },
   {
    "duration": 227,
    "start_time": "2022-10-23T10:01:44.623Z"
   },
   {
    "duration": 218,
    "start_time": "2022-10-23T10:01:58.884Z"
   },
   {
    "duration": 238,
    "start_time": "2022-10-23T10:02:05.922Z"
   },
   {
    "duration": 8,
    "start_time": "2022-10-23T10:14:31.275Z"
   },
   {
    "duration": 8,
    "start_time": "2022-10-23T10:15:13.664Z"
   },
   {
    "duration": 7,
    "start_time": "2022-10-23T10:15:37.251Z"
   },
   {
    "duration": 9,
    "start_time": "2022-10-23T10:16:13.169Z"
   },
   {
    "duration": 9,
    "start_time": "2022-10-23T10:16:34.311Z"
   },
   {
    "duration": 8,
    "start_time": "2022-10-23T10:17:02.934Z"
   },
   {
    "duration": 7,
    "start_time": "2022-10-23T10:17:27.798Z"
   },
   {
    "duration": 6,
    "start_time": "2022-10-23T10:18:52.666Z"
   },
   {
    "duration": 4,
    "start_time": "2022-10-23T10:19:04.301Z"
   },
   {
    "duration": 4,
    "start_time": "2022-10-23T10:19:21.868Z"
   },
   {
    "duration": 4,
    "start_time": "2022-10-23T10:20:30.476Z"
   },
   {
    "duration": 7,
    "start_time": "2022-10-23T10:20:47.270Z"
   },
   {
    "duration": 5,
    "start_time": "2022-10-23T10:21:05.388Z"
   },
   {
    "duration": 5,
    "start_time": "2022-10-23T10:21:23.358Z"
   },
   {
    "duration": 7,
    "start_time": "2022-10-23T10:21:39.495Z"
   },
   {
    "duration": 5,
    "start_time": "2022-10-23T10:22:02.967Z"
   },
   {
    "duration": 5,
    "start_time": "2022-10-23T10:22:24.026Z"
   },
   {
    "duration": 16,
    "start_time": "2022-10-23T10:28:44.682Z"
   },
   {
    "duration": 179,
    "start_time": "2022-10-23T10:29:04.837Z"
   },
   {
    "duration": 1240,
    "start_time": "2022-10-23T12:13:44.470Z"
   },
   {
    "duration": 71,
    "start_time": "2022-10-23T12:13:45.712Z"
   },
   {
    "duration": 18,
    "start_time": "2022-10-23T12:13:45.785Z"
   },
   {
    "duration": 13,
    "start_time": "2022-10-23T12:13:45.805Z"
   },
   {
    "duration": 9,
    "start_time": "2022-10-23T12:13:45.819Z"
   },
   {
    "duration": 4,
    "start_time": "2022-10-23T12:13:45.829Z"
   },
   {
    "duration": 13,
    "start_time": "2022-10-23T12:13:45.834Z"
   },
   {
    "duration": 6,
    "start_time": "2022-10-23T12:13:45.848Z"
   },
   {
    "duration": 8,
    "start_time": "2022-10-23T12:13:45.855Z"
   },
   {
    "duration": 6,
    "start_time": "2022-10-23T12:13:45.865Z"
   },
   {
    "duration": 6,
    "start_time": "2022-10-23T12:13:45.872Z"
   },
   {
    "duration": 24,
    "start_time": "2022-10-23T12:13:45.880Z"
   },
   {
    "duration": 3,
    "start_time": "2022-10-23T12:13:45.905Z"
   },
   {
    "duration": 13,
    "start_time": "2022-10-23T12:13:45.910Z"
   },
   {
    "duration": 4,
    "start_time": "2022-10-23T12:13:45.925Z"
   },
   {
    "duration": 13,
    "start_time": "2022-10-23T12:13:45.930Z"
   },
   {
    "duration": 15,
    "start_time": "2022-10-23T12:13:45.944Z"
   },
   {
    "duration": 4,
    "start_time": "2022-10-23T12:13:45.961Z"
   },
   {
    "duration": 14,
    "start_time": "2022-10-23T12:13:45.967Z"
   },
   {
    "duration": 208,
    "start_time": "2022-10-23T12:13:46.001Z"
   },
   {
    "duration": 5,
    "start_time": "2022-10-23T12:13:46.211Z"
   },
   {
    "duration": 194,
    "start_time": "2022-10-23T12:13:46.218Z"
   },
   {
    "duration": 6,
    "start_time": "2022-10-23T12:13:46.414Z"
   },
   {
    "duration": 13,
    "start_time": "2022-10-23T12:13:46.422Z"
   },
   {
    "duration": 16,
    "start_time": "2022-10-23T12:13:46.437Z"
   },
   {
    "duration": 324,
    "start_time": "2022-10-23T12:13:46.455Z"
   },
   {
    "duration": 244,
    "start_time": "2022-10-23T12:13:46.780Z"
   },
   {
    "duration": 5,
    "start_time": "2022-10-23T12:13:47.027Z"
   },
   {
    "duration": 178,
    "start_time": "2022-10-23T12:13:47.034Z"
   },
   {
    "duration": 165,
    "start_time": "2022-10-23T12:13:47.214Z"
   },
   {
    "duration": 5,
    "start_time": "2022-10-23T12:13:47.380Z"
   },
   {
    "duration": 16,
    "start_time": "2022-10-23T12:13:47.386Z"
   },
   {
    "duration": 229,
    "start_time": "2022-10-23T12:13:47.403Z"
   },
   {
    "duration": 7,
    "start_time": "2022-10-23T12:13:47.634Z"
   },
   {
    "duration": 9,
    "start_time": "2022-10-23T12:13:47.642Z"
   },
   {
    "duration": 288,
    "start_time": "2022-10-23T12:13:47.652Z"
   },
   {
    "duration": 7,
    "start_time": "2022-10-23T12:13:47.942Z"
   },
   {
    "duration": 5,
    "start_time": "2022-10-23T12:13:47.950Z"
   },
   {
    "duration": 228,
    "start_time": "2022-10-23T12:13:47.957Z"
   },
   {
    "duration": 14,
    "start_time": "2022-10-23T12:13:48.187Z"
   },
   {
    "duration": 6,
    "start_time": "2022-10-23T12:13:48.202Z"
   },
   {
    "duration": 219,
    "start_time": "2022-10-23T12:13:48.209Z"
   },
   {
    "duration": 9,
    "start_time": "2022-10-23T12:13:48.429Z"
   },
   {
    "duration": 5,
    "start_time": "2022-10-23T12:13:48.440Z"
   },
   {
    "duration": 250,
    "start_time": "2022-10-23T12:13:48.446Z"
   },
   {
    "duration": 8,
    "start_time": "2022-10-23T12:13:48.700Z"
   },
   {
    "duration": 6,
    "start_time": "2022-10-23T12:13:48.709Z"
   },
   {
    "duration": 228,
    "start_time": "2022-10-23T12:13:48.717Z"
   },
   {
    "duration": 7,
    "start_time": "2022-10-23T12:13:48.947Z"
   },
   {
    "duration": 16,
    "start_time": "2022-10-23T12:13:48.956Z"
   },
   {
    "duration": 262,
    "start_time": "2022-10-23T12:13:48.973Z"
   },
   {
    "duration": 7,
    "start_time": "2022-10-23T12:13:49.236Z"
   },
   {
    "duration": 7,
    "start_time": "2022-10-23T12:13:49.245Z"
   },
   {
    "duration": 16,
    "start_time": "2022-10-23T12:13:49.254Z"
   },
   {
    "duration": 204,
    "start_time": "2022-10-23T12:13:49.271Z"
   },
   {
    "duration": 177,
    "start_time": "2022-10-23T12:14:13.719Z"
   },
   {
    "duration": 180,
    "start_time": "2022-10-23T12:14:20.290Z"
   },
   {
    "duration": 15,
    "start_time": "2022-10-23T12:16:58.324Z"
   },
   {
    "duration": 176,
    "start_time": "2022-10-23T12:17:06.002Z"
   },
   {
    "duration": 188,
    "start_time": "2022-10-23T12:17:14.832Z"
   },
   {
    "duration": 235,
    "start_time": "2022-10-23T12:18:19.772Z"
   },
   {
    "duration": 169,
    "start_time": "2022-10-23T12:19:17.026Z"
   },
   {
    "duration": 88,
    "start_time": "2022-10-23T12:22:55.688Z"
   },
   {
    "duration": 668,
    "start_time": "2022-10-23T12:23:03.112Z"
   },
   {
    "duration": 195,
    "start_time": "2022-10-23T12:23:54.019Z"
   },
   {
    "duration": 184,
    "start_time": "2022-10-23T12:24:50.343Z"
   },
   {
    "duration": 217,
    "start_time": "2022-10-23T12:24:55.562Z"
   },
   {
    "duration": 201,
    "start_time": "2022-10-23T12:25:04.141Z"
   },
   {
    "duration": 9,
    "start_time": "2022-10-23T12:41:17.454Z"
   },
   {
    "duration": 136,
    "start_time": "2022-10-23T12:41:21.868Z"
   },
   {
    "duration": 119,
    "start_time": "2022-10-23T12:41:28.261Z"
   },
   {
    "duration": 15,
    "start_time": "2022-10-23T12:42:47.631Z"
   },
   {
    "duration": 15,
    "start_time": "2022-10-23T12:42:53.123Z"
   },
   {
    "duration": 127,
    "start_time": "2022-10-23T12:42:59.460Z"
   },
   {
    "duration": 44,
    "start_time": "2022-10-23T12:43:49.601Z"
   },
   {
    "duration": 163,
    "start_time": "2022-10-23T12:44:02.319Z"
   },
   {
    "duration": 156,
    "start_time": "2022-10-23T12:44:09.689Z"
   },
   {
    "duration": 361,
    "start_time": "2022-10-23T12:47:05.100Z"
   },
   {
    "duration": 145,
    "start_time": "2022-10-23T12:47:39.073Z"
   },
   {
    "duration": 143,
    "start_time": "2022-10-23T12:49:37.252Z"
   },
   {
    "duration": 140,
    "start_time": "2022-10-23T12:49:55.642Z"
   },
   {
    "duration": 137,
    "start_time": "2022-10-23T12:51:12.335Z"
   },
   {
    "duration": 163,
    "start_time": "2022-10-23T12:51:28.298Z"
   },
   {
    "duration": 11,
    "start_time": "2022-10-23T12:52:23.977Z"
   },
   {
    "duration": 20,
    "start_time": "2022-10-23T12:52:58.637Z"
   },
   {
    "duration": 357,
    "start_time": "2022-10-23T12:54:57.962Z"
   },
   {
    "duration": 363,
    "start_time": "2022-10-23T12:55:54.560Z"
   },
   {
    "duration": 830,
    "start_time": "2022-10-23T12:57:12.465Z"
   },
   {
    "duration": 47,
    "start_time": "2022-10-23T13:17:55.733Z"
   },
   {
    "duration": 31,
    "start_time": "2022-10-23T13:18:03.422Z"
   },
   {
    "duration": 9,
    "start_time": "2022-10-23T13:23:06.107Z"
   },
   {
    "duration": 4,
    "start_time": "2022-10-23T13:23:10.450Z"
   },
   {
    "duration": 119,
    "start_time": "2022-10-23T13:24:29.051Z"
   },
   {
    "duration": 122,
    "start_time": "2022-10-23T13:27:02.954Z"
   },
   {
    "duration": 127,
    "start_time": "2022-10-23T13:27:19.879Z"
   },
   {
    "duration": 1251,
    "start_time": "2022-10-24T06:13:28.260Z"
   },
   {
    "duration": 73,
    "start_time": "2022-10-24T06:13:29.513Z"
   },
   {
    "duration": 19,
    "start_time": "2022-10-24T06:13:29.587Z"
   },
   {
    "duration": 14,
    "start_time": "2022-10-24T06:13:29.608Z"
   },
   {
    "duration": 8,
    "start_time": "2022-10-24T06:13:29.623Z"
   },
   {
    "duration": 3,
    "start_time": "2022-10-24T06:13:29.632Z"
   },
   {
    "duration": 7,
    "start_time": "2022-10-24T06:13:29.637Z"
   },
   {
    "duration": 5,
    "start_time": "2022-10-24T06:13:29.645Z"
   },
   {
    "duration": 7,
    "start_time": "2022-10-24T06:13:29.652Z"
   },
   {
    "duration": 5,
    "start_time": "2022-10-24T06:13:29.662Z"
   },
   {
    "duration": 6,
    "start_time": "2022-10-24T06:13:29.668Z"
   },
   {
    "duration": 7,
    "start_time": "2022-10-24T06:13:29.675Z"
   },
   {
    "duration": 38,
    "start_time": "2022-10-24T06:13:29.684Z"
   },
   {
    "duration": 16,
    "start_time": "2022-10-24T06:13:29.723Z"
   },
   {
    "duration": 5,
    "start_time": "2022-10-24T06:13:29.740Z"
   },
   {
    "duration": 5,
    "start_time": "2022-10-24T06:13:29.747Z"
   },
   {
    "duration": 16,
    "start_time": "2022-10-24T06:13:29.753Z"
   },
   {
    "duration": 4,
    "start_time": "2022-10-24T06:13:29.771Z"
   },
   {
    "duration": 14,
    "start_time": "2022-10-24T06:13:29.776Z"
   },
   {
    "duration": 225,
    "start_time": "2022-10-24T06:13:29.792Z"
   },
   {
    "duration": 6,
    "start_time": "2022-10-24T06:13:30.019Z"
   },
   {
    "duration": 184,
    "start_time": "2022-10-24T06:13:30.027Z"
   },
   {
    "duration": 10,
    "start_time": "2022-10-24T06:13:30.213Z"
   },
   {
    "duration": 20,
    "start_time": "2022-10-24T06:13:30.224Z"
   },
   {
    "duration": 19,
    "start_time": "2022-10-24T06:13:30.245Z"
   },
   {
    "duration": 307,
    "start_time": "2022-10-24T06:13:30.266Z"
   },
   {
    "duration": 246,
    "start_time": "2022-10-24T06:13:30.574Z"
   },
   {
    "duration": 5,
    "start_time": "2022-10-24T06:13:30.824Z"
   },
   {
    "duration": 184,
    "start_time": "2022-10-24T06:13:30.830Z"
   },
   {
    "duration": 169,
    "start_time": "2022-10-24T06:13:31.015Z"
   },
   {
    "duration": 5,
    "start_time": "2022-10-24T06:13:31.185Z"
   },
   {
    "duration": 12,
    "start_time": "2022-10-24T06:13:31.191Z"
   },
   {
    "duration": 244,
    "start_time": "2022-10-24T06:13:31.205Z"
   },
   {
    "duration": 8,
    "start_time": "2022-10-24T06:13:31.451Z"
   },
   {
    "duration": 14,
    "start_time": "2022-10-24T06:13:31.461Z"
   },
   {
    "duration": 307,
    "start_time": "2022-10-24T06:13:31.477Z"
   },
   {
    "duration": 8,
    "start_time": "2022-10-24T06:13:31.786Z"
   },
   {
    "duration": 5,
    "start_time": "2022-10-24T06:13:31.795Z"
   },
   {
    "duration": 241,
    "start_time": "2022-10-24T06:13:31.802Z"
   },
   {
    "duration": 8,
    "start_time": "2022-10-24T06:13:32.045Z"
   },
   {
    "duration": 4,
    "start_time": "2022-10-24T06:13:32.055Z"
   },
   {
    "duration": 227,
    "start_time": "2022-10-24T06:13:32.061Z"
   },
   {
    "duration": 7,
    "start_time": "2022-10-24T06:13:32.290Z"
   },
   {
    "duration": 4,
    "start_time": "2022-10-24T06:13:32.299Z"
   },
   {
    "duration": 264,
    "start_time": "2022-10-24T06:13:32.304Z"
   },
   {
    "duration": 10,
    "start_time": "2022-10-24T06:13:32.569Z"
   },
   {
    "duration": 9,
    "start_time": "2022-10-24T06:13:32.580Z"
   },
   {
    "duration": 227,
    "start_time": "2022-10-24T06:13:32.591Z"
   },
   {
    "duration": 7,
    "start_time": "2022-10-24T06:13:32.821Z"
   },
   {
    "duration": 5,
    "start_time": "2022-10-24T06:13:32.829Z"
   },
   {
    "duration": 259,
    "start_time": "2022-10-24T06:13:32.836Z"
   },
   {
    "duration": 7,
    "start_time": "2022-10-24T06:13:33.097Z"
   },
   {
    "duration": 17,
    "start_time": "2022-10-24T06:13:33.105Z"
   },
   {
    "duration": 16,
    "start_time": "2022-10-24T06:13:33.123Z"
   },
   {
    "duration": 200,
    "start_time": "2022-10-24T06:13:33.140Z"
   },
   {
    "duration": 158,
    "start_time": "2022-10-24T06:13:33.342Z"
   },
   {
    "duration": 150,
    "start_time": "2022-10-24T06:13:33.502Z"
   },
   {
    "duration": 156,
    "start_time": "2022-10-24T06:13:33.654Z"
   },
   {
    "duration": 150,
    "start_time": "2022-10-24T06:13:33.811Z"
   },
   {
    "duration": 233,
    "start_time": "2022-10-24T06:13:33.962Z"
   },
   {
    "duration": 158,
    "start_time": "2022-10-24T06:13:34.197Z"
   },
   {
    "duration": 697,
    "start_time": "2022-10-24T06:13:34.357Z"
   },
   {
    "duration": 128,
    "start_time": "2022-10-24T06:13:35.056Z"
   },
   {
    "duration": 125,
    "start_time": "2022-10-24T06:13:35.186Z"
   },
   {
    "duration": 136,
    "start_time": "2022-10-24T06:13:35.313Z"
   },
   {
    "duration": 101,
    "start_time": "2022-10-24T06:15:19.412Z"
   },
   {
    "duration": 3,
    "start_time": "2022-10-24T06:19:47.167Z"
   },
   {
    "duration": 10,
    "start_time": "2022-10-24T06:19:52.603Z"
   },
   {
    "duration": 10,
    "start_time": "2022-10-24T06:20:21.942Z"
   },
   {
    "duration": 8,
    "start_time": "2022-10-24T06:22:42.728Z"
   },
   {
    "duration": 3,
    "start_time": "2022-10-24T06:22:50.246Z"
   },
   {
    "duration": 4,
    "start_time": "2022-10-24T06:22:58.152Z"
   },
   {
    "duration": 9,
    "start_time": "2022-10-24T06:23:24.637Z"
   },
   {
    "duration": 4,
    "start_time": "2022-10-24T06:23:25.052Z"
   },
   {
    "duration": 4,
    "start_time": "2022-10-24T06:23:25.451Z"
   },
   {
    "duration": 3,
    "start_time": "2022-10-24T06:24:06.500Z"
   },
   {
    "duration": 10,
    "start_time": "2022-10-24T06:25:11.860Z"
   },
   {
    "duration": 9,
    "start_time": "2022-10-24T06:25:20.193Z"
   },
   {
    "duration": 4,
    "start_time": "2022-10-24T06:25:29.280Z"
   },
   {
    "duration": 5,
    "start_time": "2022-10-24T06:25:39.845Z"
   },
   {
    "duration": 9,
    "start_time": "2022-10-24T06:41:19.395Z"
   },
   {
    "duration": 4,
    "start_time": "2022-10-24T06:41:19.839Z"
   },
   {
    "duration": 4,
    "start_time": "2022-10-24T06:41:22.323Z"
   },
   {
    "duration": 8,
    "start_time": "2022-10-24T06:41:23.365Z"
   },
   {
    "duration": 3,
    "start_time": "2022-10-24T06:41:23.904Z"
   },
   {
    "duration": 4,
    "start_time": "2022-10-24T06:41:25.121Z"
   },
   {
    "duration": 7,
    "start_time": "2022-10-24T07:20:03.238Z"
   },
   {
    "duration": 3,
    "start_time": "2022-10-24T07:20:03.955Z"
   },
   {
    "duration": 3,
    "start_time": "2022-10-24T07:20:04.914Z"
   },
   {
    "duration": 7,
    "start_time": "2022-10-24T07:40:39.737Z"
   },
   {
    "duration": 4,
    "start_time": "2022-10-24T07:40:40.481Z"
   },
   {
    "duration": 4,
    "start_time": "2022-10-24T07:40:41.681Z"
   },
   {
    "duration": 9,
    "start_time": "2022-10-24T07:41:16.783Z"
   },
   {
    "duration": 4,
    "start_time": "2022-10-24T07:41:17.267Z"
   },
   {
    "duration": 4,
    "start_time": "2022-10-24T07:41:17.688Z"
   },
   {
    "duration": 9,
    "start_time": "2022-10-24T07:41:39.778Z"
   },
   {
    "duration": 4,
    "start_time": "2022-10-24T07:41:40.119Z"
   },
   {
    "duration": 3,
    "start_time": "2022-10-24T07:41:40.660Z"
   },
   {
    "duration": 1457,
    "start_time": "2022-10-25T12:00:45.002Z"
   },
   {
    "duration": 551,
    "start_time": "2022-10-25T12:00:46.462Z"
   },
   {
    "duration": 24,
    "start_time": "2022-10-25T12:00:47.016Z"
   },
   {
    "duration": 15,
    "start_time": "2022-10-25T12:00:47.042Z"
   },
   {
    "duration": 34,
    "start_time": "2022-10-25T12:00:47.060Z"
   },
   {
    "duration": 35,
    "start_time": "2022-10-25T12:00:47.095Z"
   },
   {
    "duration": 21,
    "start_time": "2022-10-25T12:00:47.132Z"
   },
   {
    "duration": 21,
    "start_time": "2022-10-25T12:00:47.155Z"
   },
   {
    "duration": 41,
    "start_time": "2022-10-25T12:00:47.178Z"
   },
   {
    "duration": 14,
    "start_time": "2022-10-25T12:00:47.221Z"
   },
   {
    "duration": 21,
    "start_time": "2022-10-25T12:00:47.237Z"
   },
   {
    "duration": 23,
    "start_time": "2022-10-25T12:00:47.260Z"
   },
   {
    "duration": 27,
    "start_time": "2022-10-25T12:00:47.285Z"
   },
   {
    "duration": 38,
    "start_time": "2022-10-25T12:00:47.316Z"
   },
   {
    "duration": 20,
    "start_time": "2022-10-25T12:00:47.357Z"
   },
   {
    "duration": 26,
    "start_time": "2022-10-25T12:00:47.379Z"
   },
   {
    "duration": 38,
    "start_time": "2022-10-25T12:00:47.407Z"
   },
   {
    "duration": 16,
    "start_time": "2022-10-25T12:00:47.447Z"
   },
   {
    "duration": 26,
    "start_time": "2022-10-25T12:00:47.465Z"
   },
   {
    "duration": 222,
    "start_time": "2022-10-25T12:00:47.493Z"
   },
   {
    "duration": 7,
    "start_time": "2022-10-25T12:00:47.717Z"
   },
   {
    "duration": 203,
    "start_time": "2022-10-25T12:00:47.725Z"
   },
   {
    "duration": 5,
    "start_time": "2022-10-25T12:00:47.930Z"
   },
   {
    "duration": 33,
    "start_time": "2022-10-25T12:00:47.937Z"
   },
   {
    "duration": 26,
    "start_time": "2022-10-25T12:00:47.972Z"
   },
   {
    "duration": 348,
    "start_time": "2022-10-25T12:00:47.999Z"
   },
   {
    "duration": 290,
    "start_time": "2022-10-25T12:00:48.349Z"
   },
   {
    "duration": 7,
    "start_time": "2022-10-25T12:00:48.641Z"
   },
   {
    "duration": 202,
    "start_time": "2022-10-25T12:00:48.649Z"
   },
   {
    "duration": 183,
    "start_time": "2022-10-25T12:00:48.853Z"
   },
   {
    "duration": 5,
    "start_time": "2022-10-25T12:00:49.038Z"
   },
   {
    "duration": 13,
    "start_time": "2022-10-25T12:00:49.045Z"
   },
   {
    "duration": 289,
    "start_time": "2022-10-25T12:00:49.060Z"
   },
   {
    "duration": 8,
    "start_time": "2022-10-25T12:00:49.351Z"
   },
   {
    "duration": 23,
    "start_time": "2022-10-25T12:00:49.360Z"
   },
   {
    "duration": 352,
    "start_time": "2022-10-25T12:00:49.384Z"
   },
   {
    "duration": 8,
    "start_time": "2022-10-25T12:00:49.737Z"
   },
   {
    "duration": 24,
    "start_time": "2022-10-25T12:00:49.747Z"
   },
   {
    "duration": 296,
    "start_time": "2022-10-25T12:00:49.773Z"
   },
   {
    "duration": 9,
    "start_time": "2022-10-25T12:00:50.070Z"
   },
   {
    "duration": 5,
    "start_time": "2022-10-25T12:00:50.084Z"
   },
   {
    "duration": 290,
    "start_time": "2022-10-25T12:00:50.091Z"
   },
   {
    "duration": 8,
    "start_time": "2022-10-25T12:00:50.383Z"
   },
   {
    "duration": 5,
    "start_time": "2022-10-25T12:00:50.393Z"
   },
   {
    "duration": 285,
    "start_time": "2022-10-25T12:00:50.399Z"
   },
   {
    "duration": 8,
    "start_time": "2022-10-25T12:00:50.686Z"
   },
   {
    "duration": 5,
    "start_time": "2022-10-25T12:00:50.696Z"
   },
   {
    "duration": 264,
    "start_time": "2022-10-25T12:00:50.702Z"
   },
   {
    "duration": 9,
    "start_time": "2022-10-25T12:00:50.968Z"
   },
   {
    "duration": 5,
    "start_time": "2022-10-25T12:00:50.979Z"
   },
   {
    "duration": 298,
    "start_time": "2022-10-25T12:00:50.986Z"
   },
   {
    "duration": 9,
    "start_time": "2022-10-25T12:00:51.286Z"
   },
   {
    "duration": 5,
    "start_time": "2022-10-25T12:00:51.297Z"
   },
   {
    "duration": 33,
    "start_time": "2022-10-25T12:00:51.304Z"
   },
   {
    "duration": 260,
    "start_time": "2022-10-25T12:00:51.339Z"
   },
   {
    "duration": 177,
    "start_time": "2022-10-25T12:00:51.601Z"
   },
   {
    "duration": 230,
    "start_time": "2022-10-25T12:00:51.781Z"
   },
   {
    "duration": 187,
    "start_time": "2022-10-25T12:00:52.014Z"
   },
   {
    "duration": 170,
    "start_time": "2022-10-25T12:00:52.204Z"
   },
   {
    "duration": 256,
    "start_time": "2022-10-25T12:00:52.376Z"
   },
   {
    "duration": 184,
    "start_time": "2022-10-25T12:00:52.634Z"
   },
   {
    "duration": 840,
    "start_time": "2022-10-25T12:00:52.819Z"
   },
   {
    "duration": 144,
    "start_time": "2022-10-25T12:00:53.661Z"
   },
   {
    "duration": 151,
    "start_time": "2022-10-25T12:00:53.806Z"
   },
   {
    "duration": 191,
    "start_time": "2022-10-25T12:00:53.959Z"
   },
   {
    "duration": 8,
    "start_time": "2022-10-25T12:00:54.152Z"
   },
   {
    "duration": 6,
    "start_time": "2022-10-25T12:00:54.161Z"
   },
   {
    "duration": 5,
    "start_time": "2022-10-25T12:00:54.168Z"
   },
   {
    "duration": 9,
    "start_time": "2022-10-25T12:00:54.175Z"
   },
   {
    "duration": 3,
    "start_time": "2022-10-25T12:00:54.186Z"
   },
   {
    "duration": 34,
    "start_time": "2022-10-25T12:00:54.191Z"
   },
   {
    "duration": 104,
    "start_time": "2022-10-25T12:24:37.699Z"
   },
   {
    "duration": 4096,
    "start_time": "2022-10-25T12:25:11.698Z"
   },
   {
    "duration": 16,
    "start_time": "2022-10-25T12:28:33.039Z"
   },
   {
    "duration": 23,
    "start_time": "2022-10-25T12:28:44.234Z"
   },
   {
    "duration": 21,
    "start_time": "2022-10-25T12:29:12.008Z"
   },
   {
    "duration": 205,
    "start_time": "2022-10-25T12:30:08.042Z"
   },
   {
    "duration": 25,
    "start_time": "2022-10-25T12:32:36.394Z"
   },
   {
    "duration": 318,
    "start_time": "2022-10-25T12:32:39.247Z"
   },
   {
    "duration": 38,
    "start_time": "2022-10-25T12:35:05.884Z"
   },
   {
    "duration": 309,
    "start_time": "2022-10-25T12:40:00.219Z"
   },
   {
    "duration": 280,
    "start_time": "2022-10-25T12:40:13.237Z"
   },
   {
    "duration": 267,
    "start_time": "2022-10-25T12:40:25.998Z"
   },
   {
    "duration": 251,
    "start_time": "2022-10-25T12:41:08.598Z"
   },
   {
    "duration": 391,
    "start_time": "2022-10-25T12:41:17.323Z"
   },
   {
    "duration": 40,
    "start_time": "2022-10-25T12:42:13.525Z"
   },
   {
    "duration": 289,
    "start_time": "2022-10-25T12:43:32.197Z"
   },
   {
    "duration": 685,
    "start_time": "2022-10-25T12:44:28.494Z"
   },
   {
    "duration": 10,
    "start_time": "2022-10-25T13:04:28.711Z"
   },
   {
    "duration": 13,
    "start_time": "2022-10-25T13:04:44.735Z"
   },
   {
    "duration": 40,
    "start_time": "2022-10-25T13:05:48.575Z"
   },
   {
    "duration": 7,
    "start_time": "2022-10-25T13:06:08.310Z"
   },
   {
    "duration": 14,
    "start_time": "2022-10-25T13:06:46.442Z"
   },
   {
    "duration": 20,
    "start_time": "2022-10-25T13:07:24.418Z"
   },
   {
    "duration": 4,
    "start_time": "2022-10-25T13:07:24.900Z"
   },
   {
    "duration": 4,
    "start_time": "2022-10-25T13:07:25.449Z"
   },
   {
    "duration": 9,
    "start_time": "2022-10-25T13:07:53.445Z"
   },
   {
    "duration": 3,
    "start_time": "2022-10-25T13:07:53.908Z"
   },
   {
    "duration": 4,
    "start_time": "2022-10-25T13:07:54.446Z"
   },
   {
    "duration": 20,
    "start_time": "2022-10-25T13:09:16.807Z"
   },
   {
    "duration": 7,
    "start_time": "2022-10-25T13:10:21.419Z"
   },
   {
    "duration": 13,
    "start_time": "2022-10-25T13:18:47.648Z"
   },
   {
    "duration": 16,
    "start_time": "2022-10-25T13:19:03.233Z"
   },
   {
    "duration": 13,
    "start_time": "2022-10-25T13:21:05.933Z"
   },
   {
    "duration": 17,
    "start_time": "2022-10-25T13:21:18.052Z"
   },
   {
    "duration": 4,
    "start_time": "2022-10-25T13:40:35.546Z"
   },
   {
    "duration": 4,
    "start_time": "2022-10-25T13:40:36.200Z"
   },
   {
    "duration": 11,
    "start_time": "2022-10-25T13:41:51.519Z"
   },
   {
    "duration": 5,
    "start_time": "2022-10-25T13:42:04.104Z"
   },
   {
    "duration": 5,
    "start_time": "2022-10-25T13:44:39.009Z"
   },
   {
    "duration": 4,
    "start_time": "2022-10-25T13:44:50.941Z"
   },
   {
    "duration": 5,
    "start_time": "2022-10-25T13:46:06.498Z"
   },
   {
    "duration": 5,
    "start_time": "2022-10-25T13:47:11.295Z"
   },
   {
    "duration": 5,
    "start_time": "2022-10-25T13:47:19.311Z"
   },
   {
    "duration": 11,
    "start_time": "2022-10-25T13:49:11.091Z"
   },
   {
    "duration": 5,
    "start_time": "2022-10-25T13:49:28.592Z"
   },
   {
    "duration": 1410,
    "start_time": "2022-10-26T10:03:19.289Z"
   },
   {
    "duration": 212,
    "start_time": "2022-10-26T10:03:20.701Z"
   },
   {
    "duration": 22,
    "start_time": "2022-10-26T10:03:20.915Z"
   },
   {
    "duration": 18,
    "start_time": "2022-10-26T10:03:20.939Z"
   },
   {
    "duration": 10,
    "start_time": "2022-10-26T10:03:20.959Z"
   },
   {
    "duration": 4,
    "start_time": "2022-10-26T10:03:20.971Z"
   },
   {
    "duration": 9,
    "start_time": "2022-10-26T10:03:20.976Z"
   },
   {
    "duration": 7,
    "start_time": "2022-10-26T10:03:20.987Z"
   },
   {
    "duration": 8,
    "start_time": "2022-10-26T10:03:21.023Z"
   },
   {
    "duration": 6,
    "start_time": "2022-10-26T10:03:21.034Z"
   },
   {
    "duration": 7,
    "start_time": "2022-10-26T10:03:21.042Z"
   },
   {
    "duration": 18,
    "start_time": "2022-10-26T10:03:21.051Z"
   },
   {
    "duration": 6,
    "start_time": "2022-10-26T10:03:21.070Z"
   },
   {
    "duration": 18,
    "start_time": "2022-10-26T10:03:21.078Z"
   },
   {
    "duration": 6,
    "start_time": "2022-10-26T10:03:21.125Z"
   },
   {
    "duration": 11,
    "start_time": "2022-10-26T10:03:21.133Z"
   },
   {
    "duration": 18,
    "start_time": "2022-10-26T10:03:21.146Z"
   },
   {
    "duration": 5,
    "start_time": "2022-10-26T10:03:21.166Z"
   },
   {
    "duration": 19,
    "start_time": "2022-10-26T10:03:21.173Z"
   },
   {
    "duration": 279,
    "start_time": "2022-10-26T10:03:21.193Z"
   },
   {
    "duration": 5,
    "start_time": "2022-10-26T10:03:21.474Z"
   },
   {
    "duration": 216,
    "start_time": "2022-10-26T10:03:21.480Z"
   },
   {
    "duration": 5,
    "start_time": "2022-10-26T10:03:21.698Z"
   },
   {
    "duration": 31,
    "start_time": "2022-10-26T10:03:21.704Z"
   },
   {
    "duration": 443,
    "start_time": "2022-10-26T10:03:21.737Z"
   },
   {
    "duration": 293,
    "start_time": "2022-10-26T10:03:22.181Z"
   },
   {
    "duration": 7,
    "start_time": "2022-10-26T10:03:22.476Z"
   },
   {
    "duration": 199,
    "start_time": "2022-10-26T10:03:22.486Z"
   },
   {
    "duration": 216,
    "start_time": "2022-10-26T10:03:22.687Z"
   },
   {
    "duration": 4,
    "start_time": "2022-10-26T10:03:22.905Z"
   },
   {
    "duration": 15,
    "start_time": "2022-10-26T10:03:22.911Z"
   },
   {
    "duration": 3861,
    "start_time": "2022-10-26T10:03:22.928Z"
   },
   {
    "duration": 16,
    "start_time": "2022-10-26T10:03:26.791Z"
   },
   {
    "duration": 236,
    "start_time": "2022-10-26T10:03:26.808Z"
   },
   {
    "duration": 43,
    "start_time": "2022-10-26T10:03:27.046Z"
   },
   {
    "duration": 292,
    "start_time": "2022-10-26T10:03:27.091Z"
   },
   {
    "duration": 58,
    "start_time": "2022-10-26T10:03:27.385Z"
   },
   {
    "duration": 286,
    "start_time": "2022-10-26T10:03:27.445Z"
   },
   {
    "duration": 830,
    "start_time": "2022-10-26T10:03:27.733Z"
   },
   {
    "duration": 14,
    "start_time": "2022-10-26T10:03:28.565Z"
   },
   {
    "duration": 18,
    "start_time": "2022-10-26T10:03:28.580Z"
   },
   {
    "duration": 27,
    "start_time": "2022-10-26T10:03:28.600Z"
   },
   {
    "duration": 11,
    "start_time": "2022-10-26T10:03:28.629Z"
   },
   {
    "duration": 1240,
    "start_time": "2022-10-26T12:02:15.721Z"
   },
   {
    "duration": 57,
    "start_time": "2022-10-26T12:02:16.963Z"
   },
   {
    "duration": 22,
    "start_time": "2022-10-26T12:02:17.022Z"
   },
   {
    "duration": 18,
    "start_time": "2022-10-26T12:02:17.046Z"
   },
   {
    "duration": 10,
    "start_time": "2022-10-26T12:02:17.066Z"
   },
   {
    "duration": 4,
    "start_time": "2022-10-26T12:02:17.078Z"
   },
   {
    "duration": 40,
    "start_time": "2022-10-26T12:02:17.084Z"
   },
   {
    "duration": 7,
    "start_time": "2022-10-26T12:02:17.126Z"
   },
   {
    "duration": 6,
    "start_time": "2022-10-26T12:02:17.134Z"
   },
   {
    "duration": 4,
    "start_time": "2022-10-26T12:02:17.143Z"
   },
   {
    "duration": 8,
    "start_time": "2022-10-26T12:02:17.149Z"
   },
   {
    "duration": 14,
    "start_time": "2022-10-26T12:02:17.159Z"
   },
   {
    "duration": 5,
    "start_time": "2022-10-26T12:02:17.174Z"
   },
   {
    "duration": 44,
    "start_time": "2022-10-26T12:02:17.180Z"
   },
   {
    "duration": 5,
    "start_time": "2022-10-26T12:02:17.226Z"
   },
   {
    "duration": 15,
    "start_time": "2022-10-26T12:02:17.232Z"
   },
   {
    "duration": 18,
    "start_time": "2022-10-26T12:02:17.249Z"
   },
   {
    "duration": 5,
    "start_time": "2022-10-26T12:02:17.269Z"
   },
   {
    "duration": 19,
    "start_time": "2022-10-26T12:02:17.276Z"
   },
   {
    "duration": 266,
    "start_time": "2022-10-26T12:02:17.297Z"
   },
   {
    "duration": 6,
    "start_time": "2022-10-26T12:02:17.565Z"
   },
   {
    "duration": 213,
    "start_time": "2022-10-26T12:02:17.572Z"
   },
   {
    "duration": 7,
    "start_time": "2022-10-26T12:02:17.786Z"
   },
   {
    "duration": 35,
    "start_time": "2022-10-26T12:02:17.794Z"
   },
   {
    "duration": 358,
    "start_time": "2022-10-26T12:02:17.830Z"
   },
   {
    "duration": 291,
    "start_time": "2022-10-26T12:02:18.189Z"
   },
   {
    "duration": 6,
    "start_time": "2022-10-26T12:02:18.482Z"
   },
   {
    "duration": 188,
    "start_time": "2022-10-26T12:02:18.492Z"
   },
   {
    "duration": 180,
    "start_time": "2022-10-26T12:02:18.681Z"
   },
   {
    "duration": 5,
    "start_time": "2022-10-26T12:02:18.863Z"
   },
   {
    "duration": 7,
    "start_time": "2022-10-26T12:02:18.870Z"
   },
   {
    "duration": 4025,
    "start_time": "2022-10-26T12:02:18.879Z"
   },
   {
    "duration": 25,
    "start_time": "2022-10-26T12:02:22.906Z"
   },
   {
    "duration": 232,
    "start_time": "2022-10-26T12:02:22.932Z"
   },
   {
    "duration": 41,
    "start_time": "2022-10-26T12:02:23.165Z"
   },
   {
    "duration": 297,
    "start_time": "2022-10-26T12:02:23.224Z"
   },
   {
    "duration": 40,
    "start_time": "2022-10-26T12:02:23.522Z"
   },
   {
    "duration": 297,
    "start_time": "2022-10-26T12:02:23.564Z"
   },
   {
    "duration": 826,
    "start_time": "2022-10-26T12:02:23.864Z"
   },
   {
    "duration": 12,
    "start_time": "2022-10-26T12:02:24.692Z"
   },
   {
    "duration": 28,
    "start_time": "2022-10-26T12:02:24.706Z"
   },
   {
    "duration": 17,
    "start_time": "2022-10-26T12:02:24.736Z"
   },
   {
    "duration": 19,
    "start_time": "2022-10-26T12:02:24.754Z"
   },
   {
    "duration": 72,
    "start_time": "2022-10-26T12:28:43.932Z"
   },
   {
    "duration": 73,
    "start_time": "2022-10-26T12:29:40.936Z"
   },
   {
    "duration": 71,
    "start_time": "2022-10-26T12:29:58.030Z"
   },
   {
    "duration": 28,
    "start_time": "2022-10-26T13:04:22.855Z"
   },
   {
    "duration": 5,
    "start_time": "2022-10-26T13:04:33.096Z"
   },
   {
    "duration": 23,
    "start_time": "2022-10-26T13:04:40.667Z"
   },
   {
    "duration": 17,
    "start_time": "2022-10-26T13:08:55.268Z"
   },
   {
    "duration": 300,
    "start_time": "2022-10-26T13:09:15.446Z"
   },
   {
    "duration": 19,
    "start_time": "2022-10-26T13:09:24.281Z"
   },
   {
    "duration": 324,
    "start_time": "2022-10-26T13:09:26.580Z"
   },
   {
    "duration": 331,
    "start_time": "2022-10-26T13:09:34.570Z"
   },
   {
    "duration": 22,
    "start_time": "2022-10-26T13:09:41.887Z"
   },
   {
    "duration": 333,
    "start_time": "2022-10-26T13:09:44.499Z"
   },
   {
    "duration": 17,
    "start_time": "2022-10-26T13:09:56.091Z"
   },
   {
    "duration": 300,
    "start_time": "2022-10-26T13:09:58.048Z"
   },
   {
    "duration": 18,
    "start_time": "2022-10-26T13:30:14.234Z"
   },
   {
    "duration": 328,
    "start_time": "2022-10-26T13:30:16.799Z"
   },
   {
    "duration": 18,
    "start_time": "2022-10-26T13:30:38.689Z"
   },
   {
    "duration": 324,
    "start_time": "2022-10-26T13:31:38.942Z"
   },
   {
    "duration": 534,
    "start_time": "2022-10-26T13:40:01.726Z"
   },
   {
    "duration": 269,
    "start_time": "2022-10-26T13:40:11.985Z"
   },
   {
    "duration": 279,
    "start_time": "2022-10-26T13:40:17.529Z"
   },
   {
    "duration": 278,
    "start_time": "2022-10-26T13:43:35.880Z"
   },
   {
    "duration": 273,
    "start_time": "2022-10-26T13:58:34.012Z"
   },
   {
    "duration": 316,
    "start_time": "2022-10-26T13:58:40.224Z"
   },
   {
    "duration": 371,
    "start_time": "2022-10-26T13:59:26.011Z"
   },
   {
    "duration": 3,
    "start_time": "2022-10-26T14:00:56.475Z"
   },
   {
    "duration": 208,
    "start_time": "2022-10-26T14:21:07.215Z"
   },
   {
    "duration": 176,
    "start_time": "2022-10-26T14:21:26.286Z"
   },
   {
    "duration": 72,
    "start_time": "2022-10-26T14:21:58.934Z"
   },
   {
    "duration": 200,
    "start_time": "2022-10-26T14:22:04.055Z"
   },
   {
    "duration": 201,
    "start_time": "2022-10-26T14:24:38.048Z"
   },
   {
    "duration": 221,
    "start_time": "2022-10-26T14:25:00.544Z"
   },
   {
    "duration": 12,
    "start_time": "2022-10-26T14:30:29.291Z"
   },
   {
    "duration": 6,
    "start_time": "2022-10-26T14:30:30.251Z"
   },
   {
    "duration": 12,
    "start_time": "2022-10-26T14:30:34.636Z"
   },
   {
    "duration": 5,
    "start_time": "2022-10-26T14:30:37.457Z"
   },
   {
    "duration": 252,
    "start_time": "2022-10-26T15:51:20.851Z"
   },
   {
    "duration": 210,
    "start_time": "2022-10-26T15:51:28.895Z"
   }
  ],
  "kernelspec": {
   "display_name": "Python 3 (ipykernel)",
   "language": "python",
   "name": "python3"
  },
  "language_info": {
   "codemirror_mode": {
    "name": "ipython",
    "version": 3
   },
   "file_extension": ".py",
   "mimetype": "text/x-python",
   "name": "python",
   "nbconvert_exporter": "python",
   "pygments_lexer": "ipython3",
   "version": "3.8.6"
  },
  "toc": {
   "base_numbering": 1,
   "nav_menu": {},
   "number_sections": true,
   "sideBar": true,
   "skip_h1_title": true,
   "title_cell": "Table of Contents",
   "title_sidebar": "Contents",
   "toc_cell": false,
   "toc_position": {},
   "toc_section_display": true,
   "toc_window_display": false
  }
 },
 "nbformat": 4,
 "nbformat_minor": 2
}
