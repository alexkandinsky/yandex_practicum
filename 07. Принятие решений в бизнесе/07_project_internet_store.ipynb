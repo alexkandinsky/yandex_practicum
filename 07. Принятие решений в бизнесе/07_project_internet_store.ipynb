{
 "cells": [
  {
   "cell_type": "markdown",
   "metadata": {},
   "source": [
    "# Проект: Проверка гипотез по увеличению выручки в интернет-магазине — оценить результаты A/B теста. #\n",
    "## Описание проекта: ##\n",
    "\n",
    "В крупном интернет магазине был подготовлен список гипотез для увеличения выручки.<br>\n",
    "Необходимо приоритизировать гипотезы, запустить A/B-тесты и проанализировать результат. \n",
    "\n",
    "### Часть 1. Приоритизация гипотез ###\n",
    "\n",
    "В файле <b>hypothesis.csv</b> - 9 гипотез по увеличению выручки интернет-магазина с указанными параметрами:<br>\n",
    "- Reach,\n",
    "- Impact,\n",
    "- Confidence,\n",
    "- Effort.\n",
    "\n",
    "<b>Задача</b>\n",
    "\n",
    "- Применить фреймворк <b>ICE</b> для приоритизации гипотез. Отсортировать их по убыванию приоритета.\n",
    "- Применить фреймворк <b>RICE</b> для приоритизации гипотез. Отсортировать их по убыванию приоритета.\n",
    "- Указать, как изменилась приоритизация гипотез при применении <b>RICE</b> вместо <b>ICE</b>. Объяснить, почему так произошло.\n",
    "\n",
    "### Часть 2. Анализ A/B-теста ###\n",
    "\n",
    "Проведен A/B-тест и получены результаты, которые описаны в файлах <b>orders.csv</b> и <b>visitors.csv</b>.\n",
    "\n",
    "<b>Задача</b>\n",
    "\n",
    "- Построить график кумулятивной выручки по группам. Сделать выводы и предположения.\n",
    "- Построить график кумулятивного среднего чека по группам. Сделать выводы и предположения.\n",
    "- Построить график относительного изменения кумулятивного среднего чека группы B к группе A. Сделать выводы и предположения.\n",
    "- Построить график кумулятивного среднего количества заказов на посетителя по группам. Сделать выводы и предположения.\n",
    "- Построить график относительного изменения кумулятивного среднего количества заказов на посетителя группы B к группе A.    Сделать выводы и предположения.\n",
    "- Построить точечный график количества заказов по пользователям. Сделать выводы и предположения.\n",
    "- Посчитать 95-й и 99-й перцентили количества заказов на пользователя. Выбрать границу для определения аномальных пользователей.\n",
    "- Построить точечный график стоимостей заказов. Сделать выводы и предположения.\n",
    "- Посчитать 95-й и 99-й перцентили стоимости заказов. Выбрать границу для определения аномальных заказов.\n",
    "- Посчитать статистическую значимость различий в среднем количестве заказов на посетителя между группами по «сырым» данным. Сделать выводы и предположения.\n",
    "- Посчитать статистическую значимость различий в среднем чеке заказа между группами по «сырым» данным. Сделать выводы и предположения.\n",
    "- Посчитать статистическую значимость различий в среднем количестве заказов на посетителя между группами по «очищенным» данным. Сделать выводы и предположения.\n",
    "- Посчитать статистическую значимость различий в среднем чеке заказа между группами по «очищенным» данным. Сделать выводы и предположения.\n",
    "- Принять решение по результатам теста и объяснить его. Варианты решений: <br>\n",
    "    <b>1.</b> Остановить тест, зафиксировать победу одной из групп.<br> \n",
    "    <b>2.</b> Остановить тест, зафиксировать отсутствие различий между группами.<br>\n",
    "    <b>3.</b> Продолжить тест.\n",
    "    \n",
    "### Описание данных: ###\n",
    "\n",
    "<b>Файл hypothesis.csv:</b>\n",
    "\n",
    "- *Hypothesis* — краткое описание гипотезы;\n",
    "- *Reach* — охват пользователей по 10-балльной шкале;\n",
    "- *Impact* — влияние на пользователей по 10-балльной шкале;\n",
    "- *Confidence* — уверенность в гипотезе по 10-балльной шкале;\n",
    "- *Efforts* — затраты ресурсов на проверку гипотезы по 10-балльной шкале. Чем больше значение Efforts, тем дороже проверка гипотезы.\n",
    "\n",
    "<b>Файл orders.csv</b>\n",
    "\n",
    "- *transactionId* — идентификатор заказа;\n",
    "- *visitorId* — идентификатор пользователя, совершившего заказ;\n",
    "- *date* — дата, когда был совершён заказ;\n",
    "- *revenue* — выручка заказа;\n",
    "- *group* — группа A/B-теста, в которую попал заказ.\n",
    "\n",
    "<b>Файл visitors.csv</b>\n",
    "\n",
    "- *date* — дата;\n",
    "- *group* — группа A/B-теста;\n",
    "- *visitors* — количество пользователей в указанную дату в указанной группе A/B-теста\n"
   ]
  },
  {
   "cell_type": "markdown",
   "metadata": {},
   "source": [
    "## Часть 1. Приоритизация гипотез. ##\n",
    "\n",
    "### Загрузка и предобработка данных. ###"
   ]
  },
  {
   "cell_type": "code",
   "execution_count": 1,
   "metadata": {},
   "outputs": [],
   "source": [
    "# импорт библиотек\n",
    "import pandas as pd\n",
    "import numpy as np\n",
    "import scipy.stats as stats\n",
    "import matplotlib.pyplot as plt"
   ]
  },
  {
   "cell_type": "code",
   "execution_count": 2,
   "metadata": {},
   "outputs": [],
   "source": [
    "# загрузка датасетов\n",
    "hypothesis = pd.read_csv('/datasets/hypothesis.csv')\n",
    "orders = pd.read_csv('/datasets/orders.csv')\n",
    "visitors = pd.read_csv('/datasets/visitors.csv')"
   ]
  },
  {
   "cell_type": "code",
   "execution_count": 3,
   "metadata": {},
   "outputs": [
    {
     "data": {
      "text/html": [
       "<div>\n",
       "<style scoped>\n",
       "    .dataframe tbody tr th:only-of-type {\n",
       "        vertical-align: middle;\n",
       "    }\n",
       "\n",
       "    .dataframe tbody tr th {\n",
       "        vertical-align: top;\n",
       "    }\n",
       "\n",
       "    .dataframe thead th {\n",
       "        text-align: right;\n",
       "    }\n",
       "</style>\n",
       "<table border=\"1\" class=\"dataframe\">\n",
       "  <thead>\n",
       "    <tr style=\"text-align: right;\">\n",
       "      <th></th>\n",
       "      <th>Hypothesis</th>\n",
       "      <th>Reach</th>\n",
       "      <th>Impact</th>\n",
       "      <th>Confidence</th>\n",
       "      <th>Efforts</th>\n",
       "    </tr>\n",
       "  </thead>\n",
       "  <tbody>\n",
       "    <tr>\n",
       "      <th>0</th>\n",
       "      <td>Добавить два новых канала привлечения трафика,...</td>\n",
       "      <td>3</td>\n",
       "      <td>10</td>\n",
       "      <td>8</td>\n",
       "      <td>6</td>\n",
       "    </tr>\n",
       "    <tr>\n",
       "      <th>1</th>\n",
       "      <td>Запустить собственную службу доставки, что сок...</td>\n",
       "      <td>2</td>\n",
       "      <td>5</td>\n",
       "      <td>4</td>\n",
       "      <td>10</td>\n",
       "    </tr>\n",
       "    <tr>\n",
       "      <th>2</th>\n",
       "      <td>Добавить блоки рекомендаций товаров на сайт ин...</td>\n",
       "      <td>8</td>\n",
       "      <td>3</td>\n",
       "      <td>7</td>\n",
       "      <td>3</td>\n",
       "    </tr>\n",
       "    <tr>\n",
       "      <th>3</th>\n",
       "      <td>Изменить структура категорий, что увеличит кон...</td>\n",
       "      <td>8</td>\n",
       "      <td>3</td>\n",
       "      <td>3</td>\n",
       "      <td>8</td>\n",
       "    </tr>\n",
       "    <tr>\n",
       "      <th>4</th>\n",
       "      <td>Изменить цвет фона главной страницы, чтобы уве...</td>\n",
       "      <td>3</td>\n",
       "      <td>1</td>\n",
       "      <td>1</td>\n",
       "      <td>1</td>\n",
       "    </tr>\n",
       "  </tbody>\n",
       "</table>\n",
       "</div>"
      ],
      "text/plain": [
       "                                          Hypothesis  Reach  Impact  \\\n",
       "0  Добавить два новых канала привлечения трафика,...      3      10   \n",
       "1  Запустить собственную службу доставки, что сок...      2       5   \n",
       "2  Добавить блоки рекомендаций товаров на сайт ин...      8       3   \n",
       "3  Изменить структура категорий, что увеличит кон...      8       3   \n",
       "4  Изменить цвет фона главной страницы, чтобы уве...      3       1   \n",
       "\n",
       "   Confidence  Efforts  \n",
       "0           8        6  \n",
       "1           4       10  \n",
       "2           7        3  \n",
       "3           3        8  \n",
       "4           1        1  "
      ]
     },
     "execution_count": 3,
     "metadata": {},
     "output_type": "execute_result"
    }
   ],
   "source": [
    "# выведем первые 5 строки датасета hypothesis\n",
    "hypothesis.head(5)"
   ]
  },
  {
   "cell_type": "code",
   "execution_count": 4,
   "metadata": {},
   "outputs": [
    {
     "name": "stdout",
     "output_type": "stream",
     "text": [
      "<class 'pandas.core.frame.DataFrame'>\n",
      "RangeIndex: 9 entries, 0 to 8\n",
      "Data columns (total 5 columns):\n",
      " #   Column      Non-Null Count  Dtype \n",
      "---  ------      --------------  ----- \n",
      " 0   Hypothesis  9 non-null      object\n",
      " 1   Reach       9 non-null      int64 \n",
      " 2   Impact      9 non-null      int64 \n",
      " 3   Confidence  9 non-null      int64 \n",
      " 4   Efforts     9 non-null      int64 \n",
      "dtypes: int64(4), object(1)\n",
      "memory usage: 488.0+ bytes\n"
     ]
    }
   ],
   "source": [
    "# выведем основую информацию о датасете hypothesis\n",
    "hypothesis.info()"
   ]
  },
  {
   "cell_type": "code",
   "execution_count": 5,
   "metadata": {},
   "outputs": [
    {
     "data": {
      "text/plain": [
       "0"
      ]
     },
     "execution_count": 5,
     "metadata": {},
     "output_type": "execute_result"
    }
   ],
   "source": [
    "# проверим датасет hypothesis на наличие дубликатов\n",
    "hypothesis.duplicated().sum()"
   ]
  },
  {
   "cell_type": "markdown",
   "metadata": {},
   "source": [
    "***Вывод:***<br><br>Выявлено нарушение стиля в наименовании столбцов.Формат данных соотвествует ячейкам. Пропуски и дубликаты отсутствуют."
   ]
  },
  {
   "cell_type": "code",
   "execution_count": 6,
   "metadata": {},
   "outputs": [
    {
     "data": {
      "text/html": [
       "<div>\n",
       "<style scoped>\n",
       "    .dataframe tbody tr th:only-of-type {\n",
       "        vertical-align: middle;\n",
       "    }\n",
       "\n",
       "    .dataframe tbody tr th {\n",
       "        vertical-align: top;\n",
       "    }\n",
       "\n",
       "    .dataframe thead th {\n",
       "        text-align: right;\n",
       "    }\n",
       "</style>\n",
       "<table border=\"1\" class=\"dataframe\">\n",
       "  <thead>\n",
       "    <tr style=\"text-align: right;\">\n",
       "      <th></th>\n",
       "      <th>transactionId</th>\n",
       "      <th>visitorId</th>\n",
       "      <th>date</th>\n",
       "      <th>revenue</th>\n",
       "      <th>group</th>\n",
       "    </tr>\n",
       "  </thead>\n",
       "  <tbody>\n",
       "    <tr>\n",
       "      <th>0</th>\n",
       "      <td>3667963787</td>\n",
       "      <td>3312258926</td>\n",
       "      <td>2019-08-15</td>\n",
       "      <td>1650</td>\n",
       "      <td>B</td>\n",
       "    </tr>\n",
       "    <tr>\n",
       "      <th>1</th>\n",
       "      <td>2804400009</td>\n",
       "      <td>3642806036</td>\n",
       "      <td>2019-08-15</td>\n",
       "      <td>730</td>\n",
       "      <td>B</td>\n",
       "    </tr>\n",
       "    <tr>\n",
       "      <th>2</th>\n",
       "      <td>2961555356</td>\n",
       "      <td>4069496402</td>\n",
       "      <td>2019-08-15</td>\n",
       "      <td>400</td>\n",
       "      <td>A</td>\n",
       "    </tr>\n",
       "    <tr>\n",
       "      <th>3</th>\n",
       "      <td>3797467345</td>\n",
       "      <td>1196621759</td>\n",
       "      <td>2019-08-15</td>\n",
       "      <td>9759</td>\n",
       "      <td>B</td>\n",
       "    </tr>\n",
       "    <tr>\n",
       "      <th>4</th>\n",
       "      <td>2282983706</td>\n",
       "      <td>2322279887</td>\n",
       "      <td>2019-08-15</td>\n",
       "      <td>2308</td>\n",
       "      <td>B</td>\n",
       "    </tr>\n",
       "  </tbody>\n",
       "</table>\n",
       "</div>"
      ],
      "text/plain": [
       "   transactionId   visitorId        date  revenue group\n",
       "0     3667963787  3312258926  2019-08-15     1650     B\n",
       "1     2804400009  3642806036  2019-08-15      730     B\n",
       "2     2961555356  4069496402  2019-08-15      400     A\n",
       "3     3797467345  1196621759  2019-08-15     9759     B\n",
       "4     2282983706  2322279887  2019-08-15     2308     B"
      ]
     },
     "execution_count": 6,
     "metadata": {},
     "output_type": "execute_result"
    }
   ],
   "source": [
    "# выведем первые 5 строки датасета orders\n",
    "orders.head(5)"
   ]
  },
  {
   "cell_type": "code",
   "execution_count": 7,
   "metadata": {},
   "outputs": [
    {
     "name": "stdout",
     "output_type": "stream",
     "text": [
      "<class 'pandas.core.frame.DataFrame'>\n",
      "RangeIndex: 1197 entries, 0 to 1196\n",
      "Data columns (total 5 columns):\n",
      " #   Column         Non-Null Count  Dtype \n",
      "---  ------         --------------  ----- \n",
      " 0   transactionId  1197 non-null   int64 \n",
      " 1   visitorId      1197 non-null   int64 \n",
      " 2   date           1197 non-null   object\n",
      " 3   revenue        1197 non-null   int64 \n",
      " 4   group          1197 non-null   object\n",
      "dtypes: int64(3), object(2)\n",
      "memory usage: 46.9+ KB\n"
     ]
    }
   ],
   "source": [
    "# выведем основую информацию о датасете orders\n",
    "orders.info()"
   ]
  },
  {
   "cell_type": "code",
   "execution_count": 8,
   "metadata": {},
   "outputs": [
    {
     "data": {
      "text/plain": [
       "0"
      ]
     },
     "execution_count": 8,
     "metadata": {},
     "output_type": "execute_result"
    }
   ],
   "source": [
    "# проверим датасет orders на наличие дубликатов\n",
    "orders.duplicated().sum()"
   ]
  },
  {
   "cell_type": "markdown",
   "metadata": {},
   "source": [
    "***Вывод:***<br><br>Выявлено нарушение стиля в наименовании столбцов. Формат данных в столбце *date* не соотвествует формату *datetime*.<br> Пропуски и дубликаты отсутствуют."
   ]
  },
  {
   "cell_type": "code",
   "execution_count": 9,
   "metadata": {},
   "outputs": [
    {
     "data": {
      "text/html": [
       "<div>\n",
       "<style scoped>\n",
       "    .dataframe tbody tr th:only-of-type {\n",
       "        vertical-align: middle;\n",
       "    }\n",
       "\n",
       "    .dataframe tbody tr th {\n",
       "        vertical-align: top;\n",
       "    }\n",
       "\n",
       "    .dataframe thead th {\n",
       "        text-align: right;\n",
       "    }\n",
       "</style>\n",
       "<table border=\"1\" class=\"dataframe\">\n",
       "  <thead>\n",
       "    <tr style=\"text-align: right;\">\n",
       "      <th></th>\n",
       "      <th>date</th>\n",
       "      <th>group</th>\n",
       "      <th>visitors</th>\n",
       "    </tr>\n",
       "  </thead>\n",
       "  <tbody>\n",
       "    <tr>\n",
       "      <th>0</th>\n",
       "      <td>2019-08-01</td>\n",
       "      <td>A</td>\n",
       "      <td>719</td>\n",
       "    </tr>\n",
       "    <tr>\n",
       "      <th>1</th>\n",
       "      <td>2019-08-02</td>\n",
       "      <td>A</td>\n",
       "      <td>619</td>\n",
       "    </tr>\n",
       "    <tr>\n",
       "      <th>2</th>\n",
       "      <td>2019-08-03</td>\n",
       "      <td>A</td>\n",
       "      <td>507</td>\n",
       "    </tr>\n",
       "    <tr>\n",
       "      <th>3</th>\n",
       "      <td>2019-08-04</td>\n",
       "      <td>A</td>\n",
       "      <td>717</td>\n",
       "    </tr>\n",
       "    <tr>\n",
       "      <th>4</th>\n",
       "      <td>2019-08-05</td>\n",
       "      <td>A</td>\n",
       "      <td>756</td>\n",
       "    </tr>\n",
       "  </tbody>\n",
       "</table>\n",
       "</div>"
      ],
      "text/plain": [
       "         date group  visitors\n",
       "0  2019-08-01     A       719\n",
       "1  2019-08-02     A       619\n",
       "2  2019-08-03     A       507\n",
       "3  2019-08-04     A       717\n",
       "4  2019-08-05     A       756"
      ]
     },
     "execution_count": 9,
     "metadata": {},
     "output_type": "execute_result"
    }
   ],
   "source": [
    "# выведем первые 5 строки датасета visitors\n",
    "visitors.head(5)"
   ]
  },
  {
   "cell_type": "code",
   "execution_count": 10,
   "metadata": {},
   "outputs": [
    {
     "name": "stdout",
     "output_type": "stream",
     "text": [
      "<class 'pandas.core.frame.DataFrame'>\n",
      "RangeIndex: 62 entries, 0 to 61\n",
      "Data columns (total 3 columns):\n",
      " #   Column    Non-Null Count  Dtype \n",
      "---  ------    --------------  ----- \n",
      " 0   date      62 non-null     object\n",
      " 1   group     62 non-null     object\n",
      " 2   visitors  62 non-null     int64 \n",
      "dtypes: int64(1), object(2)\n",
      "memory usage: 1.6+ KB\n"
     ]
    }
   ],
   "source": [
    "# выведем основую информацию о датасете visitors\n",
    "visitors.info()"
   ]
  },
  {
   "cell_type": "code",
   "execution_count": 11,
   "metadata": {},
   "outputs": [
    {
     "data": {
      "text/plain": [
       "0"
      ]
     },
     "execution_count": 11,
     "metadata": {},
     "output_type": "execute_result"
    }
   ],
   "source": [
    "# проверим датасет visitors на наличие дубликатов\n",
    "visitors.duplicated().sum()"
   ]
  },
  {
   "cell_type": "markdown",
   "metadata": {},
   "source": [
    "***Вывод:***<br><br>Нарушения стиля в наименовании столбцов не выявлено. Формат данных в столбце *date* не соотвествует формату *datetime*.<br> Пропуски и дубликаты отсутствуют."
   ]
  },
  {
   "cell_type": "markdown",
   "metadata": {},
   "source": [
    "***Вывод по подразделу:*** \n",
    "- Исправить нарушения стиля в наименовании столбцов датасетов **hypothesis** и **orders**. \n",
    "- Изменить формат данных для столбцов *date* датасетов **orders** и **visitors**.\n",
    "- Пропуски и дубликаты отсутствуют.\n"
   ]
  },
  {
   "cell_type": "code",
   "execution_count": 12,
   "metadata": {},
   "outputs": [],
   "source": [
    "# приведем наименования столбцов датасета hypothesis к единому стилю\n",
    "hypothesis.columns = ['hypothesis', 'reach', 'impact', 'confidence', 'efforts']"
   ]
  },
  {
   "cell_type": "code",
   "execution_count": 13,
   "metadata": {},
   "outputs": [
    {
     "data": {
      "text/plain": [
       "['hypothesis', 'reach', 'impact', 'confidence', 'efforts']"
      ]
     },
     "execution_count": 13,
     "metadata": {},
     "output_type": "execute_result"
    }
   ],
   "source": [
    "# проверим внесенные изменения\n",
    "hypothesis.columns.to_list()"
   ]
  },
  {
   "cell_type": "code",
   "execution_count": 14,
   "metadata": {},
   "outputs": [],
   "source": [
    "# приведем наименования столбцов датасета orders к единому стилю\n",
    "orders.columns = ['transaction_id', 'visitor_id', 'date', 'revenue', 'group']"
   ]
  },
  {
   "cell_type": "code",
   "execution_count": 15,
   "metadata": {},
   "outputs": [
    {
     "data": {
      "text/plain": [
       "['transaction_id', 'visitor_id', 'date', 'revenue', 'group']"
      ]
     },
     "execution_count": 15,
     "metadata": {},
     "output_type": "execute_result"
    }
   ],
   "source": [
    "# проверерим внесенные изменения\n",
    "orders.columns.to_list()"
   ]
  },
  {
   "cell_type": "code",
   "execution_count": 16,
   "metadata": {},
   "outputs": [],
   "source": [
    "# изменим формат данных столбца date на корректный\n",
    "orders['date'] = pd.to_datetime(orders['date'])"
   ]
  },
  {
   "cell_type": "code",
   "execution_count": 17,
   "metadata": {},
   "outputs": [
    {
     "name": "stdout",
     "output_type": "stream",
     "text": [
      "<class 'pandas.core.frame.DataFrame'>\n",
      "RangeIndex: 1197 entries, 0 to 1196\n",
      "Data columns (total 5 columns):\n",
      " #   Column          Non-Null Count  Dtype         \n",
      "---  ------          --------------  -----         \n",
      " 0   transaction_id  1197 non-null   int64         \n",
      " 1   visitor_id      1197 non-null   int64         \n",
      " 2   date            1197 non-null   datetime64[ns]\n",
      " 3   revenue         1197 non-null   int64         \n",
      " 4   group           1197 non-null   object        \n",
      "dtypes: datetime64[ns](1), int64(3), object(1)\n",
      "memory usage: 46.9+ KB\n"
     ]
    }
   ],
   "source": [
    "# проверим внесенные изменения\n",
    "orders.info()"
   ]
  },
  {
   "cell_type": "code",
   "execution_count": 18,
   "metadata": {},
   "outputs": [],
   "source": [
    "# изменим формат данных стоблца date на корректный\n",
    "visitors['date'] = pd.to_datetime(visitors['date'])"
   ]
  },
  {
   "cell_type": "code",
   "execution_count": 19,
   "metadata": {},
   "outputs": [
    {
     "name": "stdout",
     "output_type": "stream",
     "text": [
      "<class 'pandas.core.frame.DataFrame'>\n",
      "RangeIndex: 62 entries, 0 to 61\n",
      "Data columns (total 3 columns):\n",
      " #   Column    Non-Null Count  Dtype         \n",
      "---  ------    --------------  -----         \n",
      " 0   date      62 non-null     datetime64[ns]\n",
      " 1   group     62 non-null     object        \n",
      " 2   visitors  62 non-null     int64         \n",
      "dtypes: datetime64[ns](1), int64(1), object(1)\n",
      "memory usage: 1.6+ KB\n"
     ]
    }
   ],
   "source": [
    "# проверим внесенные изменения\n",
    "visitors.info()"
   ]
  },
  {
   "cell_type": "code",
   "execution_count": 20,
   "metadata": {},
   "outputs": [],
   "source": [
    "# определим пользователей попавших в обе группы\n",
    "duplicated_users = np.intersect1d(orders.query('group == \"A\"')['visitor_id'].unique(),\n",
    "                                  orders.query('group == \"B\"')['visitor_id'].unique())"
   ]
  },
  {
   "cell_type": "code",
   "execution_count": 21,
   "metadata": {},
   "outputs": [
    {
     "data": {
      "text/plain": [
       "1031"
      ]
     },
     "execution_count": 21,
     "metadata": {},
     "output_type": "execute_result"
    }
   ],
   "source": [
    "# выведем общее количество пользователей\n",
    "orders['visitor_id'].nunique()"
   ]
  },
  {
   "cell_type": "code",
   "execution_count": 22,
   "metadata": {},
   "outputs": [],
   "source": [
    "# удалим пользователей поваших в обе группы\n",
    "orders = orders[~orders['visitor_id'].isin(duplicated_users)]"
   ]
  },
  {
   "cell_type": "code",
   "execution_count": 23,
   "metadata": {},
   "outputs": [
    {
     "data": {
      "text/plain": [
       "973"
      ]
     },
     "execution_count": 23,
     "metadata": {},
     "output_type": "execute_result"
    }
   ],
   "source": [
    "# вывыдем 'очищенное' количество пользователей\n",
    "orders['visitor_id'].nunique()"
   ]
  },
  {
   "cell_type": "markdown",
   "metadata": {},
   "source": [
    "***Вывод по подразделу:*** \n",
    "- В результате проведенной предобработки, данные готовы к работе."
   ]
  },
  {
   "cell_type": "markdown",
   "metadata": {},
   "source": [
    "### Применение фреймфорка ICE для приоритизации гипотез. Сортировка их по убыванию приоритета. ###"
   ]
  },
  {
   "cell_type": "markdown",
   "metadata": {},
   "source": [
    "*Формула ICE выглядит так: (impact * confidence) / efforts*"
   ]
  },
  {
   "cell_type": "code",
   "execution_count": 24,
   "metadata": {},
   "outputs": [],
   "source": [
    "# зададим параметры полного отображения названия гипотез\n",
    "pd.set_option(\"max_colwidth\", 400)"
   ]
  },
  {
   "cell_type": "code",
   "execution_count": 25,
   "metadata": {},
   "outputs": [],
   "source": [
    "# подсчитаем ICE для гипотез\n",
    "hypothesis['ICE'] = (hypothesis['impact'] * hypothesis['confidence']) / hypothesis['efforts']"
   ]
  },
  {
   "cell_type": "code",
   "execution_count": 26,
   "metadata": {},
   "outputs": [
    {
     "data": {
      "text/html": [
       "<div>\n",
       "<style scoped>\n",
       "    .dataframe tbody tr th:only-of-type {\n",
       "        vertical-align: middle;\n",
       "    }\n",
       "\n",
       "    .dataframe tbody tr th {\n",
       "        vertical-align: top;\n",
       "    }\n",
       "\n",
       "    .dataframe thead th {\n",
       "        text-align: right;\n",
       "    }\n",
       "</style>\n",
       "<table border=\"1\" class=\"dataframe\">\n",
       "  <thead>\n",
       "    <tr style=\"text-align: right;\">\n",
       "      <th></th>\n",
       "      <th>hypothesis</th>\n",
       "      <th>reach</th>\n",
       "      <th>impact</th>\n",
       "      <th>confidence</th>\n",
       "      <th>efforts</th>\n",
       "      <th>ICE</th>\n",
       "    </tr>\n",
       "  </thead>\n",
       "  <tbody>\n",
       "    <tr>\n",
       "      <th>8</th>\n",
       "      <td>Запустить акцию, дающую скидку на товар в день рождения</td>\n",
       "      <td>1</td>\n",
       "      <td>9</td>\n",
       "      <td>9</td>\n",
       "      <td>5</td>\n",
       "      <td>16.20</td>\n",
       "    </tr>\n",
       "    <tr>\n",
       "      <th>0</th>\n",
       "      <td>Добавить два новых канала привлечения трафика, что позволит привлекать на 30% больше пользователей</td>\n",
       "      <td>3</td>\n",
       "      <td>10</td>\n",
       "      <td>8</td>\n",
       "      <td>6</td>\n",
       "      <td>13.33</td>\n",
       "    </tr>\n",
       "    <tr>\n",
       "      <th>7</th>\n",
       "      <td>Добавить форму подписки на все основные страницы, чтобы собрать базу клиентов для email-рассылок</td>\n",
       "      <td>10</td>\n",
       "      <td>7</td>\n",
       "      <td>8</td>\n",
       "      <td>5</td>\n",
       "      <td>11.20</td>\n",
       "    </tr>\n",
       "    <tr>\n",
       "      <th>6</th>\n",
       "      <td>Показать на главной странице баннеры с актуальными акциями и распродажами, чтобы увеличить конверсию</td>\n",
       "      <td>5</td>\n",
       "      <td>3</td>\n",
       "      <td>8</td>\n",
       "      <td>3</td>\n",
       "      <td>8.00</td>\n",
       "    </tr>\n",
       "    <tr>\n",
       "      <th>2</th>\n",
       "      <td>Добавить блоки рекомендаций товаров на сайт интернет магазина, чтобы повысить конверсию и средний чек заказа</td>\n",
       "      <td>8</td>\n",
       "      <td>3</td>\n",
       "      <td>7</td>\n",
       "      <td>3</td>\n",
       "      <td>7.00</td>\n",
       "    </tr>\n",
       "    <tr>\n",
       "      <th>1</th>\n",
       "      <td>Запустить собственную службу доставки, что сократит срок доставки заказов</td>\n",
       "      <td>2</td>\n",
       "      <td>5</td>\n",
       "      <td>4</td>\n",
       "      <td>10</td>\n",
       "      <td>2.00</td>\n",
       "    </tr>\n",
       "    <tr>\n",
       "      <th>5</th>\n",
       "      <td>Добавить страницу отзывов клиентов о магазине, что позволит увеличить количество заказов</td>\n",
       "      <td>3</td>\n",
       "      <td>2</td>\n",
       "      <td>2</td>\n",
       "      <td>3</td>\n",
       "      <td>1.33</td>\n",
       "    </tr>\n",
       "    <tr>\n",
       "      <th>3</th>\n",
       "      <td>Изменить структура категорий, что увеличит конверсию, т.к. пользователи быстрее найдут нужный товар</td>\n",
       "      <td>8</td>\n",
       "      <td>3</td>\n",
       "      <td>3</td>\n",
       "      <td>8</td>\n",
       "      <td>1.12</td>\n",
       "    </tr>\n",
       "    <tr>\n",
       "      <th>4</th>\n",
       "      <td>Изменить цвет фона главной страницы, чтобы увеличить вовлеченность пользователей</td>\n",
       "      <td>3</td>\n",
       "      <td>1</td>\n",
       "      <td>1</td>\n",
       "      <td>1</td>\n",
       "      <td>1.00</td>\n",
       "    </tr>\n",
       "  </tbody>\n",
       "</table>\n",
       "</div>"
      ],
      "text/plain": [
       "                                                                                                     hypothesis  \\\n",
       "8                                                       Запустить акцию, дающую скидку на товар в день рождения   \n",
       "0            Добавить два новых канала привлечения трафика, что позволит привлекать на 30% больше пользователей   \n",
       "7              Добавить форму подписки на все основные страницы, чтобы собрать базу клиентов для email-рассылок   \n",
       "6          Показать на главной странице баннеры с актуальными акциями и распродажами, чтобы увеличить конверсию   \n",
       "2  Добавить блоки рекомендаций товаров на сайт интернет магазина, чтобы повысить конверсию и средний чек заказа   \n",
       "1                                     Запустить собственную службу доставки, что сократит срок доставки заказов   \n",
       "5                      Добавить страницу отзывов клиентов о магазине, что позволит увеличить количество заказов   \n",
       "3           Изменить структура категорий, что увеличит конверсию, т.к. пользователи быстрее найдут нужный товар   \n",
       "4                              Изменить цвет фона главной страницы, чтобы увеличить вовлеченность пользователей   \n",
       "\n",
       "   reach  impact  confidence  efforts    ICE  \n",
       "8      1       9           9        5  16.20  \n",
       "0      3      10           8        6  13.33  \n",
       "7     10       7           8        5  11.20  \n",
       "6      5       3           8        3   8.00  \n",
       "2      8       3           7        3   7.00  \n",
       "1      2       5           4       10   2.00  \n",
       "5      3       2           2        3   1.33  \n",
       "3      8       3           3        8   1.12  \n",
       "4      3       1           1        1   1.00  "
      ]
     },
     "execution_count": 26,
     "metadata": {},
     "output_type": "execute_result"
    }
   ],
   "source": [
    "# выведем результат \n",
    "hypothesis.sort_values(by='ICE', ascending=False).round(2)"
   ]
  },
  {
   "cell_type": "markdown",
   "metadata": {},
   "source": [
    "***Вывод:***<br><br>В первой тройке лидеров находятся 9, 1 и 8 гипотезы. Наибольший приоритет имеет 9 гипотеза."
   ]
  },
  {
   "cell_type": "markdown",
   "metadata": {},
   "source": [
    "### Применение фреймфорка RICE для приоритизации гипотез. ###"
   ]
  },
  {
   "cell_type": "markdown",
   "metadata": {},
   "source": [
    "*Формула RICE выглядит так: (reach * impact * confidence) / efforts*"
   ]
  },
  {
   "cell_type": "code",
   "execution_count": 27,
   "metadata": {},
   "outputs": [],
   "source": [
    "# зададим параметры полного отображения названия гипотез\n",
    "pd.set_option(\"max_colwidth\", 400)"
   ]
  },
  {
   "cell_type": "code",
   "execution_count": 28,
   "metadata": {},
   "outputs": [],
   "source": [
    "# подсчитаем RICE для гипотез\n",
    "hypothesis['RICE'] = (hypothesis['reach'] * hypothesis['impact'] * hypothesis['confidence']) / hypothesis['efforts']"
   ]
  },
  {
   "cell_type": "code",
   "execution_count": 29,
   "metadata": {},
   "outputs": [
    {
     "data": {
      "text/html": [
       "<div>\n",
       "<style scoped>\n",
       "    .dataframe tbody tr th:only-of-type {\n",
       "        vertical-align: middle;\n",
       "    }\n",
       "\n",
       "    .dataframe tbody tr th {\n",
       "        vertical-align: top;\n",
       "    }\n",
       "\n",
       "    .dataframe thead th {\n",
       "        text-align: right;\n",
       "    }\n",
       "</style>\n",
       "<table border=\"1\" class=\"dataframe\">\n",
       "  <thead>\n",
       "    <tr style=\"text-align: right;\">\n",
       "      <th></th>\n",
       "      <th>hypothesis</th>\n",
       "      <th>reach</th>\n",
       "      <th>impact</th>\n",
       "      <th>confidence</th>\n",
       "      <th>efforts</th>\n",
       "      <th>ICE</th>\n",
       "      <th>RICE</th>\n",
       "    </tr>\n",
       "  </thead>\n",
       "  <tbody>\n",
       "    <tr>\n",
       "      <th>7</th>\n",
       "      <td>Добавить форму подписки на все основные страницы, чтобы собрать базу клиентов для email-рассылок</td>\n",
       "      <td>10</td>\n",
       "      <td>7</td>\n",
       "      <td>8</td>\n",
       "      <td>5</td>\n",
       "      <td>11.20</td>\n",
       "      <td>112.0</td>\n",
       "    </tr>\n",
       "    <tr>\n",
       "      <th>2</th>\n",
       "      <td>Добавить блоки рекомендаций товаров на сайт интернет магазина, чтобы повысить конверсию и средний чек заказа</td>\n",
       "      <td>8</td>\n",
       "      <td>3</td>\n",
       "      <td>7</td>\n",
       "      <td>3</td>\n",
       "      <td>7.00</td>\n",
       "      <td>56.0</td>\n",
       "    </tr>\n",
       "    <tr>\n",
       "      <th>0</th>\n",
       "      <td>Добавить два новых канала привлечения трафика, что позволит привлекать на 30% больше пользователей</td>\n",
       "      <td>3</td>\n",
       "      <td>10</td>\n",
       "      <td>8</td>\n",
       "      <td>6</td>\n",
       "      <td>13.33</td>\n",
       "      <td>40.0</td>\n",
       "    </tr>\n",
       "    <tr>\n",
       "      <th>6</th>\n",
       "      <td>Показать на главной странице баннеры с актуальными акциями и распродажами, чтобы увеличить конверсию</td>\n",
       "      <td>5</td>\n",
       "      <td>3</td>\n",
       "      <td>8</td>\n",
       "      <td>3</td>\n",
       "      <td>8.00</td>\n",
       "      <td>40.0</td>\n",
       "    </tr>\n",
       "    <tr>\n",
       "      <th>8</th>\n",
       "      <td>Запустить акцию, дающую скидку на товар в день рождения</td>\n",
       "      <td>1</td>\n",
       "      <td>9</td>\n",
       "      <td>9</td>\n",
       "      <td>5</td>\n",
       "      <td>16.20</td>\n",
       "      <td>16.2</td>\n",
       "    </tr>\n",
       "    <tr>\n",
       "      <th>3</th>\n",
       "      <td>Изменить структура категорий, что увеличит конверсию, т.к. пользователи быстрее найдут нужный товар</td>\n",
       "      <td>8</td>\n",
       "      <td>3</td>\n",
       "      <td>3</td>\n",
       "      <td>8</td>\n",
       "      <td>1.12</td>\n",
       "      <td>9.0</td>\n",
       "    </tr>\n",
       "    <tr>\n",
       "      <th>1</th>\n",
       "      <td>Запустить собственную службу доставки, что сократит срок доставки заказов</td>\n",
       "      <td>2</td>\n",
       "      <td>5</td>\n",
       "      <td>4</td>\n",
       "      <td>10</td>\n",
       "      <td>2.00</td>\n",
       "      <td>4.0</td>\n",
       "    </tr>\n",
       "    <tr>\n",
       "      <th>5</th>\n",
       "      <td>Добавить страницу отзывов клиентов о магазине, что позволит увеличить количество заказов</td>\n",
       "      <td>3</td>\n",
       "      <td>2</td>\n",
       "      <td>2</td>\n",
       "      <td>3</td>\n",
       "      <td>1.33</td>\n",
       "      <td>4.0</td>\n",
       "    </tr>\n",
       "    <tr>\n",
       "      <th>4</th>\n",
       "      <td>Изменить цвет фона главной страницы, чтобы увеличить вовлеченность пользователей</td>\n",
       "      <td>3</td>\n",
       "      <td>1</td>\n",
       "      <td>1</td>\n",
       "      <td>1</td>\n",
       "      <td>1.00</td>\n",
       "      <td>3.0</td>\n",
       "    </tr>\n",
       "  </tbody>\n",
       "</table>\n",
       "</div>"
      ],
      "text/plain": [
       "                                                                                                     hypothesis  \\\n",
       "7              Добавить форму подписки на все основные страницы, чтобы собрать базу клиентов для email-рассылок   \n",
       "2  Добавить блоки рекомендаций товаров на сайт интернет магазина, чтобы повысить конверсию и средний чек заказа   \n",
       "0            Добавить два новых канала привлечения трафика, что позволит привлекать на 30% больше пользователей   \n",
       "6          Показать на главной странице баннеры с актуальными акциями и распродажами, чтобы увеличить конверсию   \n",
       "8                                                       Запустить акцию, дающую скидку на товар в день рождения   \n",
       "3           Изменить структура категорий, что увеличит конверсию, т.к. пользователи быстрее найдут нужный товар   \n",
       "1                                     Запустить собственную службу доставки, что сократит срок доставки заказов   \n",
       "5                      Добавить страницу отзывов клиентов о магазине, что позволит увеличить количество заказов   \n",
       "4                              Изменить цвет фона главной страницы, чтобы увеличить вовлеченность пользователей   \n",
       "\n",
       "   reach  impact  confidence  efforts    ICE   RICE  \n",
       "7     10       7           8        5  11.20  112.0  \n",
       "2      8       3           7        3   7.00   56.0  \n",
       "0      3      10           8        6  13.33   40.0  \n",
       "6      5       3           8        3   8.00   40.0  \n",
       "8      1       9           9        5  16.20   16.2  \n",
       "3      8       3           3        8   1.12    9.0  \n",
       "1      2       5           4       10   2.00    4.0  \n",
       "5      3       2           2        3   1.33    4.0  \n",
       "4      3       1           1        1   1.00    3.0  "
      ]
     },
     "execution_count": 29,
     "metadata": {},
     "output_type": "execute_result"
    }
   ],
   "source": [
    "# выведем результат\n",
    "hypothesis.sort_values(by='RICE', ascending=False).round(2)"
   ]
  },
  {
   "cell_type": "markdown",
   "metadata": {},
   "source": [
    "***Вывод:***<br><br>В первой тройке лидеров находятся 8, 3 и 1 гипотезы. Наибольший приоритет имеет 8 гипотеза. "
   ]
  },
  {
   "cell_type": "markdown",
   "metadata": {},
   "source": [
    "***Вывод по подразделу:*** \n",
    "- При расчете ICE, наибольший приоритет получила 9 гипотеза.\n",
    "- При расчете RICE, наибольший приоритет получила 8 гипотеза.\n",
    "- 9 гипотеза откатилась на 5 место по приоритету, по причине того, что при расчете ICE, мы не учитывали параметр *reach*(охват пользователей). Метод RICE расставил все на свои места, 8 гипотеза имеет наибольший показатель reach, который играет немало важную роль. "
   ]
  },
  {
   "cell_type": "markdown",
   "metadata": {},
   "source": [
    "## Часть 2. Анализ A/B-теста. ##\n",
    "\n",
    "### Построим график кумулятивной выручки по группам. ###"
   ]
  },
  {
   "cell_type": "code",
   "execution_count": 30,
   "metadata": {},
   "outputs": [],
   "source": [
    "# создаем массив уникальных пар значений дат и групп\n",
    "datesGroups = orders[['date', 'group']].drop_duplicates()"
   ]
  },
  {
   "cell_type": "code",
   "execution_count": 31,
   "metadata": {},
   "outputs": [],
   "source": [
    "# получаем агрегированные кумулятивные данные о заказах\n",
    "ordersAggregated = datesGroups.apply(\n",
    "    lambda x: orders[\n",
    "        np.logical_and(\n",
    "            orders['date'] <= x['date'], orders['group'] == x['group']\n",
    "        )\n",
    "    ].agg(\n",
    "        {\n",
    "            'date': 'max',\n",
    "            'group': 'max',\n",
    "            'transaction_id': 'nunique',\n",
    "            'visitor_id': 'nunique',\n",
    "            'revenue': 'sum'\n",
    "        }\n",
    "    ),\n",
    "    axis=1,\n",
    ").sort_values(by=['date', 'group'])"
   ]
  },
  {
   "cell_type": "code",
   "execution_count": 32,
   "metadata": {},
   "outputs": [],
   "source": [
    "# получаем агрегированные кумулятивные данные о посетителях\n",
    "visitorsAggregated = datesGroups.apply(\n",
    "    lambda x: visitors[\n",
    "        np.logical_and(\n",
    "            visitors['date'] <= x['date'], visitors['group'] == x['group']\n",
    "        )\n",
    "    ].agg(\n",
    "        {\n",
    "            'date': 'max', \n",
    "            'group': 'max',\n",
    "            'visitors': 'sum'\n",
    "          }\n",
    "         ),\n",
    "    axis=1,\n",
    ").sort_values(by=['date', 'group'])"
   ]
  },
  {
   "cell_type": "code",
   "execution_count": 33,
   "metadata": {},
   "outputs": [],
   "source": [
    "# обьединяем кумулятивные данные в один массив\n",
    "cumulativeData = ordersAggregated.merge(\n",
    "    visitorsAggregated, left_on=['date', 'group'], right_on=['date', 'group'])"
   ]
  },
  {
   "cell_type": "code",
   "execution_count": 34,
   "metadata": {},
   "outputs": [],
   "source": [
    "# корректируем названия столбцов\n",
    "cumulativeData.columns = ['date', 'group', 'orders', 'buyers', 'revenue', 'visitors']"
   ]
  },
  {
   "cell_type": "code",
   "execution_count": 35,
   "metadata": {},
   "outputs": [],
   "source": [
    "# датасет с датой и выручкой в группе А\n",
    "cumulativeDataA = cumulativeData[cumulativeData['group'] == 'A'][['date', 'revenue']]"
   ]
  },
  {
   "cell_type": "code",
   "execution_count": 36,
   "metadata": {},
   "outputs": [],
   "source": [
    "# датасет с датой и выручкой в группе B\n",
    "cumulativeDataB = cumulativeData[cumulativeData['group'] == 'B'][['date', 'revenue']]"
   ]
  },
  {
   "cell_type": "code",
   "execution_count": 37,
   "metadata": {
    "scrolled": false
   },
   "outputs": [
    {
     "data": {
      "image/png": "[encoded data removed]",
      "text/plain": [
       "<Figure size 1080x360 with 1 Axes>"
      ]
     },
     "metadata": {
      "needs_background": "light"
     },
     "output_type": "display_data"
    }
   ],
   "source": [
    "plt.figure(figsize=(15,5))\n",
    "# строим график для группы A\n",
    "plt.plot(cumulativeDataA['date'], cumulativeDataA['revenue'], label = 'Кумулятивная выручка группы A');\n",
    "# строим график для группы B\n",
    "plt.plot(cumulativeDataB['date'], cumulativeDataB['revenue'], label = 'Кумулятивная выручка группы B');\n",
    "plt.legend()\n",
    "plt.grid()\n",
    "plt.xticks(rotation=30)\n",
    "plt.xlabel('Дата')\n",
    "plt.ylabel('Выручка')\n",
    "plt.title('График кумулятивной выручки по группам');"
   ]
  },
  {
   "cell_type": "markdown",
   "metadata": {},
   "source": [
    "***Вывод:***<br><br>На графике можно заметить, что показатель группы <b>B</b>, на протяжении всего периода анализа, находится выше, чем показатель группы <b>А</b>.<br>Так же наблюдается резкий скачок показателя группы <b>B</b> в промежутке с *2019-08-18 - 2019-08-19*. <br>Данный скачок обусловлен объемной выручкой в заданный период. Далее показатели группы <b>A</b> и <b>B</b> продолжают стабильный, паралельный рост."
   ]
  },
  {
   "cell_type": "markdown",
   "metadata": {},
   "source": [
    "**Построим график кумулятивного среднего чека по группам.**"
   ]
  },
  {
   "cell_type": "code",
   "execution_count": 38,
   "metadata": {},
   "outputs": [],
   "source": [
    "# подсчитаем средний чек\n",
    "cumulativeData['avg_check'] = (cumulativeData['revenue'] / cumulativeData['orders'])"
   ]
  },
  {
   "cell_type": "code",
   "execution_count": 39,
   "metadata": {},
   "outputs": [],
   "source": [
    "# датасет с датой и средним чеком группы A\n",
    "cumulativeDataA = cumulativeData[cumulativeData['group'] == 'A'][['date', 'avg_check']]"
   ]
  },
  {
   "cell_type": "code",
   "execution_count": 40,
   "metadata": {},
   "outputs": [],
   "source": [
    "# датасет с датой и средним чеком группы B\n",
    "cumulativeDataB = cumulativeData[cumulativeData['group'] == 'B'][['date', 'avg_check']]"
   ]
  },
  {
   "cell_type": "code",
   "execution_count": 41,
   "metadata": {
    "scrolled": false
   },
   "outputs": [
    {
     "data": {
      "image/png": "[encoded data removed]",
      "text/plain": [
       "<Figure size 1080x360 with 1 Axes>"
      ]
     },
     "metadata": {
      "needs_background": "light"
     },
     "output_type": "display_data"
    }
   ],
   "source": [
    "plt.figure(figsize=(15,5))\n",
    "# строим график для группы A\n",
    "plt.plot(cumulativeDataA['date'], cumulativeDataA['avg_check'], label = 'Средний кумулятивный чек группы A');\n",
    "# строим график для группы B\n",
    "plt.plot(cumulativeDataB['date'], cumulativeDataB['avg_check'], label = 'Средний кумулятивный чек группы B');\n",
    "plt.legend()\n",
    "plt.grid()\n",
    "plt.xticks(rotation=30)\n",
    "plt.xlabel('Дата')\n",
    "plt.ylabel('Средний чек')\n",
    "plt.title('График кумулятивного среднего чека по группам');\n"
   ]
  },
  {
   "cell_type": "markdown",
   "metadata": {},
   "source": [
    "***Вывод:***<br><br>Происходит снижение показателя группы <b>B</b> по отношению к группе <b>A</b> на период с *2019-08-11 - 2019-08-15*.<br>Далее наблюдается аналогичная ситуация, что и в графике кумулятивной выручки.<br>Показатель группы <b>B</b> испытывает резкий прирост в промежутке с *2019-08-18 - 2019-08-19*. Далее оба показателя идут параллельно."
   ]
  },
  {
   "cell_type": "markdown",
   "metadata": {},
   "source": [
    "### Построим график относительного изменения кумулятивного среднего чека группы B к группе A. ###"
   ]
  },
  {
   "cell_type": "code",
   "execution_count": 42,
   "metadata": {},
   "outputs": [],
   "source": [
    "# объединим таблицы с предыдущего шага методом merge, тем самым собрав данные в одном датасете\n",
    "mergedCumulativeAvg = cumulativeDataA[['date', 'avg_check']].merge(cumulativeDataB[['date', 'avg_check']], left_on='date', right_on='date', how='left', suffixes=['A', 'B'])"
   ]
  },
  {
   "cell_type": "code",
   "execution_count": 43,
   "metadata": {
    "scrolled": false
   },
   "outputs": [
    {
     "data": {
      "image/png": "[encoded data removed]",
      "text/plain": [
       "<Figure size 1080x360 with 1 Axes>"
      ]
     },
     "metadata": {
      "needs_background": "light"
     },
     "output_type": "display_data"
    }
   ],
   "source": [
    "# строим график относительного изменения кумулятивного среднего чека группы B к группе A\n",
    "plt.figure(figsize=(15,5))\n",
    "plt.plot(mergedCumulativeAvg['date'], mergedCumulativeAvg['avg_checkB'] / mergedCumulativeAvg['avg_checkA'] - 1)\n",
    "plt.grid()\n",
    "plt.xticks(rotation=30)\n",
    "# добавляем ось X со значением y=0\n",
    "plt.axhline(y=0, color='black', linestyle='--')\n",
    "plt.xlabel('Дата')\n",
    "plt.title('График относительного изменения кумулятивного среднего чека группы B к группе A');"
   ]
  },
  {
   "cell_type": "markdown",
   "metadata": {},
   "source": [
    "***Вывод:***<br><br>Показатель группы <b>B</b> испытывает рост до *2019-08-05*, далее резкий спад до *2019-08-13* и последующий рост до *2019-08-20*<br> с плавным падением не ниже нулевого уровня.<br> Возможно в данные временные отрезки были совершены крупные заказы, что и отражается в динамике на графике.<br>Средний чек группы <b>B</b> выше, чем у группы <b>А</b>."
   ]
  },
  {
   "cell_type": "markdown",
   "metadata": {},
   "source": [
    "### Построим график кумулятивного среднего количества заказов на посетителя по группам. ###"
   ]
  },
  {
   "cell_type": "code",
   "execution_count": 44,
   "metadata": {},
   "outputs": [],
   "source": [
    "# подсчитаем конверсию\n",
    "cumulativeData['conversion'] = (cumulativeData['orders']/cumulativeData['visitors'])"
   ]
  },
  {
   "cell_type": "code",
   "execution_count": 45,
   "metadata": {},
   "outputs": [],
   "source": [
    "# датасет с датой и конверсией группы A\n",
    "cumulativeDataA = cumulativeData[cumulativeData['group']=='A'][['date', 'conversion']]"
   ]
  },
  {
   "cell_type": "code",
   "execution_count": 46,
   "metadata": {},
   "outputs": [],
   "source": [
    "# датасет с датой и конверсией группы B\n",
    "cumulativeDataB = cumulativeData[cumulativeData['group']=='B'][['date', 'conversion']]"
   ]
  },
  {
   "cell_type": "code",
   "execution_count": 47,
   "metadata": {},
   "outputs": [
    {
     "data": {
      "image/png": "[encoded data removed]",
      "text/plain": [
       "<Figure size 1080x360 with 1 Axes>"
      ]
     },
     "metadata": {
      "needs_background": "light"
     },
     "output_type": "display_data"
    }
   ],
   "source": [
    "plt.figure(figsize=(15,5))\n",
    "# строим график для группы A\n",
    "plt.plot(cumulativeDataA['date'], cumulativeDataA['conversion'], label = 'Кумулятивная конверсия группы A');\n",
    "# строим график для группы B\n",
    "plt.plot(cumulativeDataB['date'], cumulativeDataB['conversion'], label = 'Кумулятивная конверсия группы B');\n",
    "plt.legend()\n",
    "plt.grid()\n",
    "plt.xticks(rotation=30)\n",
    "plt.xlabel('Дата')\n",
    "plt.ylabel('Изменения количества заказов на посетителя')\n",
    "plt.title('График кумулятивного среднего количества заказов на посетителя по группам.');"
   ]
  },
  {
   "cell_type": "markdown",
   "metadata": {},
   "source": [
    "***Вывод:***<br><br>В первых числах показатель группы <b>A</b> имел стремительный, пиковый рост и столь же стремительное падение.<br> Далее на протяжении всего отрезка анализа, показатель группы <b>А</b> стабильно ниже, чем показатель группы <b>B</b>."
   ]
  },
  {
   "cell_type": "markdown",
   "metadata": {},
   "source": [
    "### Построим график относительного изменения кумулятивного среднего количества заказов на посетителя группы B к группе A. ###"
   ]
  },
  {
   "cell_type": "code",
   "execution_count": 48,
   "metadata": {},
   "outputs": [],
   "source": [
    "# объединим таблицы с предыдущего шага методом merge, тем самым собрав данные в одном датасете\n",
    "mergedCumulativeConversions = cumulativeDataA[['date','conversion']].merge(cumulativeDataB[['date','conversion']], left_on='date', right_on='date', how='left', suffixes=['A', 'B'])"
   ]
  },
  {
   "cell_type": "code",
   "execution_count": 49,
   "metadata": {},
   "outputs": [
    {
     "data": {
      "image/png": "[encoded data removed]",
      "text/plain": [
       "<Figure size 1080x360 with 1 Axes>"
      ]
     },
     "metadata": {
      "needs_background": "light"
     },
     "output_type": "display_data"
    }
   ],
   "source": [
    "# строим график относительного изменения кумулятивного среднего количества заказов на посетителя группы B к группе A\n",
    "plt.figure(figsize=(15,5))\n",
    "plt.plot(mergedCumulativeConversions['date'], mergedCumulativeConversions['conversionB']/mergedCumulativeConversions['conversionA']-1)\n",
    "plt.grid()\n",
    "plt.xticks(rotation=30)\n",
    "# добавляем оси Х со значением y=0 и y=0.2(серый пунктир)\n",
    "plt.axhline(y=0, color='black', linestyle='--')\n",
    "plt.axhline(y=0.2, color='grey', linestyle='--')\n",
    "plt.xlabel('Дата')\n",
    "plt.title('График относительного изменения кумулятивного среднего количества заказов на посетителя группы B к группе A');"
   ]
  },
  {
   "cell_type": "markdown",
   "metadata": {},
   "source": [
    "***Вывод:***<br><br>Показатель группы <b>B</b> лидирует по отношению к показателю группы <b>A</b> на протяжении всего периода анализа.<br> Тенденция стабильно сохраняется на уровне *14- 16 %*. На *2019-08-14* по *2019-08-17*  приходился пик, который доходил до *20 %*."
   ]
  },
  {
   "cell_type": "markdown",
   "metadata": {},
   "source": [
    "### Построить точечный график количества заказов по пользователям. ###"
   ]
  },
  {
   "cell_type": "code",
   "execution_count": 50,
   "metadata": {},
   "outputs": [],
   "source": [
    "# создадим датасет с пользователями и количеством заказов\n",
    "ordersByUsers = (orders.groupby('visitor_id', as_index=False).agg({'transaction_id': 'nunique'}))"
   ]
  },
  {
   "cell_type": "code",
   "execution_count": 51,
   "metadata": {},
   "outputs": [],
   "source": [
    "# серия из чисел от 0 до количества наблюдений в ordersByUsers\n",
    "x_values = pd.Series(range(0, len(ordersByUsers)))"
   ]
  },
  {
   "cell_type": "code",
   "execution_count": 52,
   "metadata": {},
   "outputs": [
    {
     "data": {
      "image/png": "[encoded data removed]",
      "text/plain": [
       "<Figure size 1080x360 with 1 Axes>"
      ]
     },
     "metadata": {
      "needs_background": "light"
     },
     "output_type": "display_data"
    }
   ],
   "source": [
    "# строим точечный график количества заказов по пользователям\n",
    "plt.figure(figsize=(15,5))\n",
    "plt.grid()\n",
    "plt.scatter(x_values, ordersByUsers['transaction_id'])\n",
    "plt.xlabel('Количество пользователей')\n",
    "plt.ylabel('Количество заказов')\n",
    "plt.title('График количества заказов по пользователям');"
   ]
  },
  {
   "cell_type": "markdown",
   "metadata": {},
   "source": [
    "***Вывод:***<br><br>Доминирующее число пользователей совершали 1 заказ, пользователей с 2 заказами гораздо меньше. <br>Пользователей с 3 заказами - единицы."
   ]
  },
  {
   "cell_type": "markdown",
   "metadata": {},
   "source": [
    "### Посчитаем 95-й и 99-й перцентили количества заказов на пользователя. ###"
   ]
  },
  {
   "cell_type": "code",
   "execution_count": 53,
   "metadata": {},
   "outputs": [
    {
     "name": "stdout",
     "output_type": "stream",
     "text": [
      "[1. 2.]\n"
     ]
    }
   ],
   "source": [
    "print(np.percentile(ordersByUsers['transaction_id'], [95, 99]))"
   ]
  },
  {
   "cell_type": "markdown",
   "metadata": {},
   "source": [
    "***Вывод:***<br><br>Не более *5 %* пользователей совершали больше одного заказа. Не более *1 %* больше 2. Все что за 99 перцентилем будем считать аномальным"
   ]
  },
  {
   "cell_type": "markdown",
   "metadata": {},
   "source": [
    "### Построим точечный график стоимостей заказов. ###"
   ]
  },
  {
   "cell_type": "code",
   "execution_count": 54,
   "metadata": {},
   "outputs": [],
   "source": [
    "# серия из чисел от 0 до количества наблюдений в orders['revenue']\n",
    "x_values = pd.Series(range(0, len(orders['revenue'])))"
   ]
  },
  {
   "cell_type": "code",
   "execution_count": 55,
   "metadata": {
    "scrolled": true
   },
   "outputs": [
    {
     "data": {
      "image/png": "[encoded data removed]",
      "text/plain": [
       "<Figure size 1080x360 with 1 Axes>"
      ]
     },
     "metadata": {
      "needs_background": "light"
     },
     "output_type": "display_data"
    }
   ],
   "source": [
    "# строим график стоимостей заказов\n",
    "plt.figure(figsize=(15,5))\n",
    "plt.grid()\n",
    "plt.scatter(x_values, orders['revenue'])\n",
    "plt.xlabel('Количество пользователей')\n",
    "plt.ylabel('Стоимость заказа')\n",
    "plt.title('График стоимостей заказов');"
   ]
  },
  {
   "cell_type": "markdown",
   "metadata": {},
   "source": [
    "***Вывод:***<br><br>График не информативен по причине наличия 2 аномальных значений. <br>Возможно это именно те заказы, которые вызвали скачки на предыдущих графиках суммы и среднего чека. <br> Изучим данный вопрос более детально."
   ]
  },
  {
   "cell_type": "code",
   "execution_count": 56,
   "metadata": {},
   "outputs": [
    {
     "data": {
      "text/plain": [
       "425     1294500\n",
       "1196     202740\n",
       "1136      92550\n",
       "744       86620\n",
       "743       67990\n",
       "         ...   \n",
       "404          70\n",
       "933          60\n",
       "584          50\n",
       "756          50\n",
       "459          50\n",
       "Name: revenue, Length: 1016, dtype: int64"
      ]
     },
     "execution_count": 56,
     "metadata": {},
     "output_type": "execute_result"
    }
   ],
   "source": [
    "# посмотрим суммы аномальных заказов\n",
    "orders['revenue'].sort_values(ascending=False)"
   ]
  },
  {
   "cell_type": "code",
   "execution_count": 57,
   "metadata": {},
   "outputs": [],
   "source": [
    "# отфильтруем данные от выбросов\n",
    "orders_without_outliers = orders.query('revenue < 100000')"
   ]
  },
  {
   "cell_type": "code",
   "execution_count": 58,
   "metadata": {},
   "outputs": [],
   "source": [
    "# серия из чисел от 0 до количества наблюдений в orders_without_outliers['revenue']\n",
    "x_values = pd.Series(range(0, len(orders_without_outliers['revenue'])))"
   ]
  },
  {
   "cell_type": "code",
   "execution_count": 59,
   "metadata": {
    "scrolled": false
   },
   "outputs": [
    {
     "data": {
      "image/png": "[encoded data removed]",
      "text/plain": [
       "<Figure size 1080x360 with 1 Axes>"
      ]
     },
     "metadata": {
      "needs_background": "light"
     },
     "output_type": "display_data"
    }
   ],
   "source": [
    "# строим график стоимостей заказов без выбросов\n",
    "plt.figure(figsize=(15,5))\n",
    "plt.grid()\n",
    "plt.scatter(x_values, orders_without_outliers['revenue'])\n",
    "plt.xlabel('Количество пользователей')\n",
    "plt.ylabel('Стоимость заказа')\n",
    "plt.title('График стоимостей заказов');"
   ]
  },
  {
   "cell_type": "markdown",
   "metadata": {},
   "source": [
    "***Вывод:***<br><br>У доминирующей части пользователей сумма заказа не превышает 20 тысяч рублей. Так же есть единичные заказы свыше 80 тысяч рублей."
   ]
  },
  {
   "cell_type": "markdown",
   "metadata": {},
   "source": [
    "### Посчитаем 95-й и 99-й перцентили стоимости заказов. ###"
   ]
  },
  {
   "cell_type": "code",
   "execution_count": 60,
   "metadata": {},
   "outputs": [
    {
     "name": "stdout",
     "output_type": "stream",
     "text": [
      "[26785. 53904.]\n"
     ]
    }
   ],
   "source": [
    "print(np.percentile(orders['revenue'], [95, 99]))"
   ]
  },
  {
   "cell_type": "markdown",
   "metadata": {},
   "source": [
    "***Вывод:***<br><br>Не более, чем у *5 %* заказов сумма составляет 26 785 рублей. И не больше, чем у *1 %* заказов дороже 53 904 рублей. <br>Все что за пределам 99 перцентиля - аномально."
   ]
  },
  {
   "cell_type": "markdown",
   "metadata": {},
   "source": [
    "### Посчитаем статистическую значимость различий в среднем количестве заказов на посетителя между группами по «сырым» данным. ### "
   ]
  },
  {
   "cell_type": "code",
   "execution_count": 61,
   "metadata": {},
   "outputs": [],
   "source": [
    "# для начала, соберем все данные (визиты, заказы, кумулятивные показатели)\n",
    "visitorsADaily = visitors[visitors['group'] == 'A'][['date', 'visitors']]\n",
    "visitorsADaily.columns = ['date', 'visitorsPerDateA']\n",
    "\n",
    "visitorsACummulative = visitorsADaily.apply(\n",
    "    lambda x: visitorsADaily[visitorsADaily['date'] <= x['date']].agg(\n",
    "        {'date': 'max', 'visitorsPerDateA': 'sum'}\n",
    "    ),\n",
    "    axis=1,\n",
    ")\n",
    "visitorsACummulative.columns = ['date', 'visitorsCummulativeA']\n",
    "\n",
    "visitorsBDaily = visitors[visitors['group'] == 'B'][['date', 'visitors']]\n",
    "visitorsBDaily.columns = ['date', 'visitorsPerDateB']\n",
    "\n",
    "visitorsBCummulative = visitorsBDaily.apply(\n",
    "    lambda x: visitorsBDaily[visitorsBDaily['date'] <= x['date']].agg(\n",
    "        {'date': 'max', 'visitorsPerDateB': 'sum'}\n",
    "    ),\n",
    "    axis=1,\n",
    ")\n",
    "visitorsBCummulative.columns = ['date', 'visitorsCummulativeB']\n",
    "\n",
    "ordersADaily = (\n",
    "    orders[orders['group'] == 'A'][['date', 'transaction_id', 'visitor_id', 'revenue']]\n",
    "    .groupby('date', as_index=False)\n",
    "    .agg({'transaction_id': pd.Series.nunique, 'revenue': 'sum'})\n",
    ")\n",
    "ordersADaily.columns = ['date', 'ordersPerDateA', 'revenuePerDateA']\n",
    "\n",
    "ordersACummulative = ordersADaily.apply(\n",
    "    lambda x: ordersADaily[ordersADaily['date'] <= x['date']].agg(\n",
    "        {'date': 'max', 'ordersPerDateA': 'sum', 'revenuePerDateA': 'sum'}\n",
    "    ),\n",
    "    axis=1,\n",
    ").sort_values(by=['date'])\n",
    "ordersACummulative.columns = [\n",
    "    'date',\n",
    "    'ordersCummulativeA',\n",
    "    'revenueCummulativeA',\n",
    "]\n",
    "\n",
    "ordersBDaily = (\n",
    "    orders[orders['group'] == 'B'][['date', 'transaction_id', 'visitor_id', 'revenue']]\n",
    "    .groupby('date', as_index=False)\n",
    "    .agg({'transaction_id': pd.Series.nunique, 'revenue': 'sum'})\n",
    ")\n",
    "ordersBDaily.columns = ['date', 'ordersPerDateB', 'revenuePerDateB']\n",
    "\n",
    "ordersBCummulative = ordersBDaily.apply(\n",
    "    lambda x: ordersBDaily[ordersBDaily['date'] <= x['date']].agg(\n",
    "        {'date': 'max', 'ordersPerDateB': 'sum', 'revenuePerDateB': 'sum'}\n",
    "    ),\n",
    "    axis=1,\n",
    ").sort_values(by=['date'])\n",
    "ordersBCummulative.columns = [\n",
    "    'date',\n",
    "    'ordersCummulativeB',\n",
    "    'revenueCummulativeB',\n",
    "]\n"
   ]
  },
  {
   "cell_type": "code",
   "execution_count": 62,
   "metadata": {},
   "outputs": [],
   "source": [
    "# объединим все в одну таблицу\n",
    "data = (\n",
    "    ordersADaily.merge(\n",
    "        ordersBDaily, left_on='date', right_on='date', how='left'\n",
    "    )\n",
    "    .merge(ordersACummulative, left_on='date', right_on='date', how='left')\n",
    "    .merge(ordersBCummulative, left_on='date', right_on='date', how='left')\n",
    "    .merge(visitorsADaily, left_on='date', right_on='date', how='left')\n",
    "    .merge(visitorsBDaily, left_on='date', right_on='date', how='left')\n",
    "    .merge(visitorsACummulative, left_on='date', right_on='date', how='left')\n",
    "    .merge(visitorsBCummulative, left_on='date', right_on='date', how='left')\n",
    ")"
   ]
  },
  {
   "cell_type": "code",
   "execution_count": 63,
   "metadata": {},
   "outputs": [
    {
     "data": {
      "text/html": [
       "<div>\n",
       "<style scoped>\n",
       "    .dataframe tbody tr th:only-of-type {\n",
       "        vertical-align: middle;\n",
       "    }\n",
       "\n",
       "    .dataframe tbody tr th {\n",
       "        vertical-align: top;\n",
       "    }\n",
       "\n",
       "    .dataframe thead th {\n",
       "        text-align: right;\n",
       "    }\n",
       "</style>\n",
       "<table border=\"1\" class=\"dataframe\">\n",
       "  <thead>\n",
       "    <tr style=\"text-align: right;\">\n",
       "      <th></th>\n",
       "      <th>date</th>\n",
       "      <th>ordersPerDateA</th>\n",
       "      <th>revenuePerDateA</th>\n",
       "      <th>ordersPerDateB</th>\n",
       "      <th>revenuePerDateB</th>\n",
       "      <th>ordersCummulativeA</th>\n",
       "      <th>revenueCummulativeA</th>\n",
       "      <th>ordersCummulativeB</th>\n",
       "      <th>revenueCummulativeB</th>\n",
       "      <th>visitorsPerDateA</th>\n",
       "      <th>visitorsPerDateB</th>\n",
       "      <th>visitorsCummulativeA</th>\n",
       "      <th>visitorsCummulativeB</th>\n",
       "    </tr>\n",
       "  </thead>\n",
       "  <tbody>\n",
       "    <tr>\n",
       "      <th>0</th>\n",
       "      <td>2019-08-01</td>\n",
       "      <td>23</td>\n",
       "      <td>142779</td>\n",
       "      <td>17</td>\n",
       "      <td>59758</td>\n",
       "      <td>23</td>\n",
       "      <td>142779</td>\n",
       "      <td>17</td>\n",
       "      <td>59758</td>\n",
       "      <td>719</td>\n",
       "      <td>713</td>\n",
       "      <td>719</td>\n",
       "      <td>713</td>\n",
       "    </tr>\n",
       "    <tr>\n",
       "      <th>1</th>\n",
       "      <td>2019-08-02</td>\n",
       "      <td>19</td>\n",
       "      <td>91602</td>\n",
       "      <td>23</td>\n",
       "      <td>162043</td>\n",
       "      <td>42</td>\n",
       "      <td>234381</td>\n",
       "      <td>40</td>\n",
       "      <td>221801</td>\n",
       "      <td>619</td>\n",
       "      <td>581</td>\n",
       "      <td>1338</td>\n",
       "      <td>1294</td>\n",
       "    </tr>\n",
       "    <tr>\n",
       "      <th>2</th>\n",
       "      <td>2019-08-03</td>\n",
       "      <td>24</td>\n",
       "      <td>112473</td>\n",
       "      <td>14</td>\n",
       "      <td>67049</td>\n",
       "      <td>66</td>\n",
       "      <td>346854</td>\n",
       "      <td>54</td>\n",
       "      <td>288850</td>\n",
       "      <td>507</td>\n",
       "      <td>509</td>\n",
       "      <td>1845</td>\n",
       "      <td>1803</td>\n",
       "    </tr>\n",
       "    <tr>\n",
       "      <th>3</th>\n",
       "      <td>2019-08-04</td>\n",
       "      <td>11</td>\n",
       "      <td>41176</td>\n",
       "      <td>14</td>\n",
       "      <td>96890</td>\n",
       "      <td>77</td>\n",
       "      <td>388030</td>\n",
       "      <td>68</td>\n",
       "      <td>385740</td>\n",
       "      <td>717</td>\n",
       "      <td>770</td>\n",
       "      <td>2562</td>\n",
       "      <td>2573</td>\n",
       "    </tr>\n",
       "    <tr>\n",
       "      <th>4</th>\n",
       "      <td>2019-08-05</td>\n",
       "      <td>22</td>\n",
       "      <td>86383</td>\n",
       "      <td>21</td>\n",
       "      <td>89908</td>\n",
       "      <td>99</td>\n",
       "      <td>474413</td>\n",
       "      <td>89</td>\n",
       "      <td>475648</td>\n",
       "      <td>756</td>\n",
       "      <td>707</td>\n",
       "      <td>3318</td>\n",
       "      <td>3280</td>\n",
       "    </tr>\n",
       "  </tbody>\n",
       "</table>\n",
       "</div>"
      ],
      "text/plain": [
       "        date  ordersPerDateA  revenuePerDateA  ordersPerDateB  \\\n",
       "0 2019-08-01              23           142779              17   \n",
       "1 2019-08-02              19            91602              23   \n",
       "2 2019-08-03              24           112473              14   \n",
       "3 2019-08-04              11            41176              14   \n",
       "4 2019-08-05              22            86383              21   \n",
       "\n",
       "   revenuePerDateB  ordersCummulativeA  revenueCummulativeA  \\\n",
       "0            59758                  23               142779   \n",
       "1           162043                  42               234381   \n",
       "2            67049                  66               346854   \n",
       "3            96890                  77               388030   \n",
       "4            89908                  99               474413   \n",
       "\n",
       "   ordersCummulativeB  revenueCummulativeB  visitorsPerDateA  \\\n",
       "0                  17                59758               719   \n",
       "1                  40               221801               619   \n",
       "2                  54               288850               507   \n",
       "3                  68               385740               717   \n",
       "4                  89               475648               756   \n",
       "\n",
       "   visitorsPerDateB  visitorsCummulativeA  visitorsCummulativeB  \n",
       "0               713                   719                   713  \n",
       "1               581                  1338                  1294  \n",
       "2               509                  1845                  1803  \n",
       "3               770                  2562                  2573  \n",
       "4               707                  3318                  3280  "
      ]
     },
     "execution_count": 63,
     "metadata": {},
     "output_type": "execute_result"
    }
   ],
   "source": [
    "# выведем результат \n",
    "data.head()"
   ]
  },
  {
   "cell_type": "code",
   "execution_count": 64,
   "metadata": {},
   "outputs": [],
   "source": [
    "# создадим переменные ordersByUsersA и ordersByUsersB со столбцами ['user_id', 'orders'].\n",
    "# в них для пользователей, которые заказывали хотя бы 1 раз, укажем число совершённых заказов.\n",
    "ordersByUsersA = (\n",
    "    orders[orders['group'] == 'A']\n",
    "    .groupby('visitor_id', as_index=False)\n",
    "    .agg({'transaction_id': pd.Series.nunique})\n",
    ")\n",
    "ordersByUsersA.columns = ['user_id', 'orders']\n",
    "\n",
    "ordersByUsersB = (\n",
    "    orders[orders['group'] == 'B']\n",
    "    .groupby('visitor_id', as_index=False)\n",
    "    .agg({'transaction_id': pd.Series.nunique})\n",
    ")\n",
    "ordersByUsersB.columns = ['user_id', 'orders'] "
   ]
  },
  {
   "cell_type": "code",
   "execution_count": 65,
   "metadata": {},
   "outputs": [],
   "source": [
    "# объявим переменные sampleA и sampleB, в которых пользователям из разных групп будет соответствовать количество заказов.\n",
    "sampleA = pd.concat([ordersByUsersA['orders'],pd.Series(0, index=np.arange(data['visitorsPerDateA'].sum() - len(ordersByUsersA['orders'])), name='orders')],axis=0)\n",
    "\n",
    "sampleB = pd.concat([ordersByUsersB['orders'],pd.Series(0, index=np.arange(data['visitorsPerDateB'].sum() - len(ordersByUsersB['orders'])), name='orders')],axis=0)"
   ]
  },
  {
   "cell_type": "markdown",
   "metadata": {},
   "source": [
    "*Сформулируем 2 статистические гипотезы:*\n",
    "\n",
    "- H0: Статистические значимые различия конверсий между группами А и B <b>отсутствуют</b>.\n",
    "- Н1: Статистические значимые различия конверсий между группами А и B <b>присутствуют</b>."
   ]
  },
  {
   "cell_type": "code",
   "execution_count": 66,
   "metadata": {
    "scrolled": true
   },
   "outputs": [
    {
     "name": "stdout",
     "output_type": "stream",
     "text": [
      "p-value: 0.011\n",
      "Относительный прирост группы B к А: 0.160\n"
     ]
    }
   ],
   "source": [
    "# применим критерий и отформатируем p-value, округлив его до трёх знаков после запятой.\n",
    "print(\"p-value: {0:.3f}\".format(stats.mannwhitneyu(sampleA, sampleB)[1]))\n",
    "print(\"Относительный прирост группы B к А: {0:.3f}\".format(sampleB.mean()/sampleA.mean()-1))"
   ]
  },
  {
   "cell_type": "markdown",
   "metadata": {},
   "source": [
    "***Вывод:***<br><br>P-value меньше *0.05*, в таком случае мы отвергаем нулевую гипотезу.<br>Делаем вывод, что по \"сырым\" данным , между группами <b>А</b> и <b>В</b> присутствуют значимые статистические различия конверсий.<br> Относительный прирост группы <b>B</b> к <b>А</b> равен *16 %*."
   ]
  },
  {
   "cell_type": "markdown",
   "metadata": {},
   "source": [
    "### Посчитаем статистическую значимость различий в среднем чеке заказа между группами по «сырым» данным. ###"
   ]
  },
  {
   "cell_type": "markdown",
   "metadata": {},
   "source": [
    "*Сформулируем 2 статистические гипотезы:*\n",
    "\n",
    "- H0: Статистические значимые различия в среднем чеке заказа между группами А и B <b>отсутствуют</b>.\n",
    "- Н1: Статистические значимые различия в среднем чеке заказа между группами А и B <b>присутствуют</b>."
   ]
  },
  {
   "cell_type": "code",
   "execution_count": 67,
   "metadata": {},
   "outputs": [
    {
     "name": "stdout",
     "output_type": "stream",
     "text": [
      "p-value: 0.829\n",
      "Относительный показатель группы B к А: 0.287\n"
     ]
    }
   ],
   "source": [
    "# применим критерий и отформатируем p-value, округлив его до трёх знаков после запятой.\n",
    "print('p-value: {0:.3f}'.format(stats.mannwhitneyu(orders[orders['group']=='A']['revenue'], orders[orders['group']=='B']['revenue'])[1]))\n",
    "print('Относительный показатель группы B к А: {0:.3f}'.format(orders[orders['group']=='B']['revenue'].mean()/orders[orders['group']=='A']['revenue'].mean()-1)) "
   ]
  },
  {
   "cell_type": "markdown",
   "metadata": {},
   "source": [
    "***Вывод:***<br><br>P-value больше *0.05*, в таком случае мы принимаем нулевую гипотезу. <br>Делаем вывод, что по \"сырым\" данным, статистические значимые различия в среднем чеке заказа между группами <b>А</b> и <b>В</b> отсутствуют.<br> Наблюдаемое различие в среднем чеке заказа между группами <b>А</b> и <b>В</b> в *29 %* не являются статистически значимыми."
   ]
  },
  {
   "cell_type": "markdown",
   "metadata": {},
   "source": [
    "### Посчитаем статистическую значимость различий в среднем количестве заказов на посетителя между группами по «очищенным» данным. ###"
   ]
  },
  {
   "cell_type": "code",
   "execution_count": 68,
   "metadata": {},
   "outputs": [],
   "source": [
    "# cделаем срезы пользователей с числом заказов больше 2 — usersWithManyOrders \n",
    "# и пользователей, совершивших заказы дороже 53904 — usersWithExpensiveOrders. \n",
    "# объединим их в таблице abnormalUsers\n",
    "usersWithManyOrders = pd.concat(\n",
    "    [\n",
    "        ordersByUsersA[ordersByUsersA['orders'] > 2]['user_id'],\n",
    "        ordersByUsersB[ordersByUsersB['orders'] > 2]['user_id'],\n",
    "    ],\n",
    "    axis=0,\n",
    ")\n",
    "usersWithExpensiveOrders = orders[orders['revenue'] > 53904]['visitor_id']\n",
    "abnormalUsers = (\n",
    "    pd.concat([usersWithManyOrders, usersWithExpensiveOrders], axis=0)\n",
    "    .drop_duplicates()\n",
    "    .sort_values()\n",
    ")"
   ]
  },
  {
   "cell_type": "code",
   "execution_count": 69,
   "metadata": {},
   "outputs": [
    {
     "name": "stdout",
     "output_type": "stream",
     "text": [
      "16\n"
     ]
    }
   ],
   "source": [
    "# посчитаем количество аномальных пользователей\n",
    "print(len(abnormalUsers))"
   ]
  },
  {
   "cell_type": "code",
   "execution_count": 70,
   "metadata": {},
   "outputs": [],
   "source": [
    "# создадим срезы для каждой группы с очищенными данными, не включая аномальных пользователей\n",
    "sampleAFiltered = pd.concat(\n",
    "    [\n",
    "        ordersByUsersA[\n",
    "            np.logical_not(ordersByUsersA['user_id'].isin(abnormalUsers))\n",
    "        ]['orders'],\n",
    "        pd.Series(\n",
    "            0,\n",
    "            index=np.arange(\n",
    "                data['visitorsPerDateA'].sum() - len(ordersByUsersA['orders'])\n",
    "            ),\n",
    "            name='orders',\n",
    "        ),\n",
    "    ],\n",
    "    axis=0,\n",
    ")\n",
    "\n",
    "sampleBFiltered = pd.concat(\n",
    "    [\n",
    "        ordersByUsersB[\n",
    "            np.logical_not(ordersByUsersB['user_id'].isin(abnormalUsers))\n",
    "        ]['orders'],\n",
    "        pd.Series(\n",
    "            0,\n",
    "            index=np.arange(\n",
    "                data['visitorsPerDateB'].sum() - len(ordersByUsersB['orders'])\n",
    "            ),\n",
    "            name='orders',\n",
    "        ),\n",
    "    ],\n",
    "    axis=0,\n",
    ")"
   ]
  },
  {
   "cell_type": "markdown",
   "metadata": {},
   "source": [
    "*Сформулируем 2 статистические гипотезы:*\n",
    "\n",
    "- H0: Статистические значимые различия конверсий между группами А и B <b>отсутствуют</b>.\n",
    "- Н1: Статистические значимые различия конверсий между группами А и B <b>присутствуют</b>."
   ]
  },
  {
   "cell_type": "code",
   "execution_count": 71,
   "metadata": {},
   "outputs": [
    {
     "name": "stdout",
     "output_type": "stream",
     "text": [
      "p-value: 0.007\n",
      "Относительный показатель группы B к А: 0.189\n"
     ]
    }
   ],
   "source": [
    "# применим критерий и отформатируем p-value, округлив его до трёх знаков после запятой.\n",
    "print('p-value: {0:.3f}'.format(stats.mannwhitneyu(sampleAFiltered, sampleBFiltered)[1]))\n",
    "print('Относительный показатель группы B к А: {0:.3f}'.format(sampleBFiltered.mean()/sampleAFiltered.mean()-1)) "
   ]
  },
  {
   "cell_type": "markdown",
   "metadata": {},
   "source": [
    " ***Вывод:***<br><br>P-value меньше *0.05*, в таком случае мы отвергаем нулевую гипотезу. <br>Делаем вывод, что по \"очищенным\" данным, между группами <b>А</b> и <b>В</b> присутствуют значимые статистические различия конверсий.<br>Относительный прирост группы <b>B</b> к <b>А</b> равен *19 %*, что выше на *3 %*,чем по сырым данным (*16 %*)\n",
    "\n"
   ]
  },
  {
   "cell_type": "markdown",
   "metadata": {},
   "source": [
    "### Посчитаем статистическую значимость различий в среднем чеке заказа между группами по «очищенным» данным. ###"
   ]
  },
  {
   "cell_type": "markdown",
   "metadata": {},
   "source": [
    "*Сформулируем 2 статистические гипотезы:*\n",
    "\n",
    "- H0: Статистические значимые различия в среднем чеке заказа между группами А и B <b>отсутствуют</b>.\n",
    "- Н1: Статистические значимые различия в среднем чеке заказа между группами А и B <b>присутствуют</b>."
   ]
  },
  {
   "cell_type": "code",
   "execution_count": 72,
   "metadata": {},
   "outputs": [
    {
     "name": "stdout",
     "output_type": "stream",
     "text": [
      "p-value: 0.788\n",
      "Относительный показатель группы B к А: -0.032\n"
     ]
    }
   ],
   "source": [
    "print(\n",
    "    'p-value: {0:.3f}'.format(\n",
    "        stats.mannwhitneyu(\n",
    "            orders[\n",
    "                np.logical_and(\n",
    "                    orders['group'] == 'A',\n",
    "                    np.logical_not(orders['visitor_id'].isin(abnormalUsers)),\n",
    "                )\n",
    "            ]['revenue'],\n",
    "            orders[\n",
    "                np.logical_and(\n",
    "                    orders['group'] == 'B',\n",
    "                    np.logical_not(orders['visitor_id'].isin(abnormalUsers)),\n",
    "                )\n",
    "            ]['revenue'],\n",
    "        )[1]\n",
    "    )\n",
    ")\n",
    "\n",
    "print(\n",
    "    'Относительный показатель группы B к А: {0:.3f}'.format(\n",
    "        orders[\n",
    "            np.logical_and(\n",
    "                orders['group'] == 'B',\n",
    "                np.logical_not(orders['visitor_id'].isin(abnormalUsers)),\n",
    "            )\n",
    "        ]['revenue'].mean()\n",
    "        / orders[\n",
    "            np.logical_and(\n",
    "                orders['group'] == 'A',\n",
    "                np.logical_not(orders['visitor_id'].isin(abnormalUsers)),\n",
    "            )\n",
    "        ]['revenue'].mean()\n",
    "        - 1\n",
    "    )\n",
    ")"
   ]
  },
  {
   "cell_type": "markdown",
   "metadata": {},
   "source": [
    "***Вывод:***<br><br>P-value больше *0.05*, в таком случае мы принимаем нулевую гипотезу. <br>Делаем вывод, что по \"очищенным\" данным, статистические значимые различия в среднем чеке заказа между группами <b>А</b> и <b>В</b> отсутствуют.<br> Средний чек группы <b>B</b> по очищенным данным оказался чуть ниже (*-3%*) по отношению к среднему чеку группы <b>А</b>, в отличии от показателя аналогичных параметров по 'сырым' данным.(Средний чек заказа группы <b>B</b> выше среднего чека группы <b>А</b> приблизительно на *29 %*.) <br>Аномальные заказы оказывали существенное влияние на общую картину."
   ]
  },
  {
   "cell_type": "markdown",
   "metadata": {},
   "source": [
    "### Принимаем решение по результатам теста ###"
   ]
  },
  {
   "cell_type": "markdown",
   "metadata": {},
   "source": [
    "**Общий вывод:**<br><br>При расчете RICE, из 9 гипотез, наибольший приоритет получила <b>8</b> гипотеза - 'Добавить форму подписки на все основные страницы, чтобы собрать базу клиентов для email-рассылок'.<br><br>\n",
    "На графике кумулятивной выручки по группам, выручка группы <b>B</b> выше выручки группы <b>А</b> на протяжении всего заданного периода анализа. Так же наблюдается резкий скачок группы <b>B</b> в промежутке с *2019-08-18 - 2019-08-19*.<br><br>\n",
    "На графике кумулятивного среднего чека по группам, средний чек группы <b>B</b> уже не так стабилен, наблюдаются просадка показателей по отношению к группе <b>А</b> на период *2019-08-11 - 2019-08-15*. Далее показатель <b>B</b> испытывает резкий прирост в промежутке с *2019-08-18 - 2019-08-19*. И затем оба показателя идут параллельно.<br><br>\n",
    "Показатель относительного изменения кумулятивного среднего чека группы <b>B</b> испытывает рост до *2019-08-05*, далее резкий спад до *2019-08-13* и последующий рост до *2019-08-20* с плавным падением не ниже нулевого уровня.<br><br>\n",
    "Средний чек группы <b>B</b> выше, чем у группы <b>А</b>.\n",
    "В первых числах показатель кумулятивного среднего количества заказов на посетителя у группы <b>A</b> имел стремительный, пиковый рост и столь же стремительное падение.\n",
    "Далее на протяжении всего отрезка анализа, показатель группы <b>А</b> стабильно ниже, чем показатель группы <b>B</b>.<br><br> \n",
    "Показатель относительного изменения кумулятивного среднего количества заказов на посетителя группы <b>B</b>  лидирует по отношению к показателю группы <b>A</b> на протяжении всего периода анализа.\n",
    "Тенденция стабильно сохраняется на уровне *14 - 16 %*. На *2019-08-14* по *2019-08-17* приходился пик, который доходил до *20 %*.<br><br>\n",
    "Доминирующее число пользователей совершали 1 заказ в обоих группах, пользователей с 2 заказами гораздо меньше. Пользователи с 3 заказами – крайняя редкость.\n",
    "У доминирующей части пользователей сумма заказа не превышает 20 тысяч рублей. Так же есть единичные заказы свыше 80 тысяч рублей. Обнаружены  2 аномально больших заказа 1 294 500 рублей, 202 740 рублей которые и являются причиной скачка кумулятивного среднего чека группы <b>B</b>.<br><br>\n",
    "При проведении тестов на  статистическую значимость различий в среднем количестве заказов на посетителя между группами по «сырым» данным с использованием критерия Манна-Уитни , нулевая гипотеза была отвергнута. Делаем вывод, что по «сырым» данным , между группами <b>А</b> и <b>В</b> присутствуют значимые статистические различия конверсий. Относительный прирост группы <b>B</b> к <b>А</b> равен *16 %*.<br>\n",
    "При проведении аналогичного теста , но уже с очищенными данными, нулевая гипотеза была отвергнута. Делаем вывод, что по «очищенным» данным, между группами <b>А</b> и <b>В</b> присутствуют значимые статистические различия конверсий.\n",
    "Относительный прирост группы <b>B</b> к <b>А</b> равен *19 %*, что выше на *3 %*,чем по сырым данным (*16 %*).<br><br>\n",
    "При проведении тестов на статистическую значимость различий в среднем чеке заказа между группами по «сырым» данным, нулевая гипотеза была принята. Делаем вывод, что по «сырым» данным, статистические значимые различия в среднем чеке заказа между группами <b>А</b> и <b>В</b> отсутствуют.\n",
    "Наблюдаемое различие в среднем чеке заказа между группами <b>А</b> и <b>В</b> в *29 %* не являются статистически значимыми.\n",
    "При проведении аналогичного теста , но уже с очищенными данными, нулевая гипотеза была отвергнута. Делаем вывод, что по «очищенным» данным, статистические значимые различия в среднем чеке заказа между группами <b>А</b> и <b>В</b> отсутствуют.\n",
    "Средний чек группы <b>B</b> по очищенным данным оказался чуть ниже (*-3%*) по отношению к среднему чеку группы <b>А</b>, в отличии от показателя аналогичных параметров по 'сырым' данным. (Средний чек группы <b>B</b> выше, чем у группы <b>А</b> на *29 %*.)<br><br>\n",
    "Аномальные заказы оказывали существенное влияние на общую картину.\n"
   ]
  },
  {
   "cell_type": "markdown",
   "metadata": {},
   "source": [
    "**Варианты решений:**\n",
    "- Остановить тест, зафиксировать победу одной из групп.\n",
    "- Остановить тест, зафиксировать отсутствие различий между группами.\n",
    "- Продолжить тест.\n",
    "\n",
    "Предлагаю остановить тест, зафиксировать отсутствие различий между группами по сумме среднего чека, а так же победу группы <b>B</b> по причине того, что показатель конверсии выше, чем у группы <b>А</b> по «сырым»(*16 %*)  и «очищенным»(*19 %*) данным. Необходимо продумать стратегию по увеличению среднего чека. <br><br>Рекомендую добавить такие опции:\n",
    "- бесплатная доставка (или скидка) от опреденной потраченной суммы \n",
    "- растущая скидка от количества покупаемых товаров\n",
    "- рекомендуемые дополнительные товары в корзине или при оплате\n",
    "- программа лояльности (скидочные или накопительные карты постоянного покупателя)"
   ]
  }
 ],
 "metadata": {
  "ExecuteTimeLog": [
   {
    "duration": 8,
    "start_time": "2022-12-13T15:11:24.658Z"
   },
   {
    "duration": 769,
    "start_time": "2022-12-13T15:52:49.086Z"
   },
   {
    "duration": 257,
    "start_time": "2022-12-13T15:55:15.233Z"
   },
   {
    "duration": 3,
    "start_time": "2022-12-13T15:55:54.375Z"
   },
   {
    "duration": 123,
    "start_time": "2022-12-13T15:56:15.738Z"
   },
   {
    "duration": 13,
    "start_time": "2022-12-13T15:58:13.013Z"
   },
   {
    "duration": 17,
    "start_time": "2022-12-13T16:12:39.552Z"
   },
   {
    "duration": 34,
    "start_time": "2022-12-13T16:13:48.660Z"
   },
   {
    "duration": 14,
    "start_time": "2022-12-13T16:14:19.364Z"
   },
   {
    "duration": 9,
    "start_time": "2022-12-13T16:20:51.142Z"
   },
   {
    "duration": 10,
    "start_time": "2022-12-13T16:25:21.997Z"
   },
   {
    "duration": 8,
    "start_time": "2022-12-13T16:29:16.385Z"
   },
   {
    "duration": 11,
    "start_time": "2022-12-13T16:29:42.137Z"
   },
   {
    "duration": 7,
    "start_time": "2022-12-13T16:30:00.256Z"
   },
   {
    "duration": 5,
    "start_time": "2022-12-13T16:39:32.337Z"
   },
   {
    "duration": 6,
    "start_time": "2022-12-13T16:40:21.680Z"
   },
   {
    "duration": 5,
    "start_time": "2022-12-13T16:41:30.779Z"
   },
   {
    "duration": 6,
    "start_time": "2022-12-13T16:41:51.390Z"
   },
   {
    "duration": 4,
    "start_time": "2022-12-13T16:43:01.844Z"
   },
   {
    "duration": 56,
    "start_time": "2022-12-14T08:04:56.941Z"
   },
   {
    "duration": 833,
    "start_time": "2022-12-14T08:05:06.863Z"
   },
   {
    "duration": 242,
    "start_time": "2022-12-14T08:05:07.700Z"
   },
   {
    "duration": 11,
    "start_time": "2022-12-14T08:05:07.944Z"
   },
   {
    "duration": 69,
    "start_time": "2022-12-14T08:05:07.957Z"
   },
   {
    "duration": 17,
    "start_time": "2022-12-14T08:05:08.028Z"
   },
   {
    "duration": 14,
    "start_time": "2022-12-14T08:05:08.046Z"
   },
   {
    "duration": 13,
    "start_time": "2022-12-14T08:05:08.062Z"
   },
   {
    "duration": 21,
    "start_time": "2022-12-14T08:05:08.077Z"
   },
   {
    "duration": 13,
    "start_time": "2022-12-14T08:05:08.099Z"
   },
   {
    "duration": 23,
    "start_time": "2022-12-14T08:05:08.114Z"
   },
   {
    "duration": 7,
    "start_time": "2022-12-14T08:05:08.138Z"
   },
   {
    "duration": 46,
    "start_time": "2022-12-14T08:05:08.147Z"
   },
   {
    "duration": 8,
    "start_time": "2022-12-14T08:06:36.204Z"
   },
   {
    "duration": 3,
    "start_time": "2022-12-14T08:07:21.733Z"
   },
   {
    "duration": 8,
    "start_time": "2022-12-14T08:07:33.445Z"
   },
   {
    "duration": 5,
    "start_time": "2022-12-14T08:09:44.742Z"
   },
   {
    "duration": 2,
    "start_time": "2022-12-14T08:11:19.719Z"
   },
   {
    "duration": 4,
    "start_time": "2022-12-14T08:11:28.697Z"
   },
   {
    "duration": 12,
    "start_time": "2022-12-14T08:11:35.994Z"
   },
   {
    "duration": 6,
    "start_time": "2022-12-14T08:12:31.259Z"
   },
   {
    "duration": 10,
    "start_time": "2022-12-14T08:12:40.137Z"
   },
   {
    "duration": 10,
    "start_time": "2022-12-14T08:12:55.170Z"
   },
   {
    "duration": 4,
    "start_time": "2022-12-14T08:13:20.994Z"
   },
   {
    "duration": 10,
    "start_time": "2022-12-14T08:13:26.370Z"
   },
   {
    "duration": 11,
    "start_time": "2022-12-14T08:22:52.602Z"
   },
   {
    "duration": 7,
    "start_time": "2022-12-14T08:35:18.428Z"
   },
   {
    "duration": 11,
    "start_time": "2022-12-14T08:37:00.993Z"
   },
   {
    "duration": 12,
    "start_time": "2022-12-14T08:37:12.446Z"
   },
   {
    "duration": 4,
    "start_time": "2022-12-14T09:11:48.808Z"
   },
   {
    "duration": 27,
    "start_time": "2022-12-14T09:12:07.669Z"
   },
   {
    "duration": 14,
    "start_time": "2022-12-14T09:12:39.847Z"
   },
   {
    "duration": 11,
    "start_time": "2022-12-14T09:40:08.607Z"
   },
   {
    "duration": 5,
    "start_time": "2022-12-14T09:40:17.546Z"
   },
   {
    "duration": 23,
    "start_time": "2022-12-14T09:42:08.929Z"
   },
   {
    "duration": 12,
    "start_time": "2022-12-14T09:42:47.698Z"
   },
   {
    "duration": 153,
    "start_time": "2022-12-14T09:44:04.586Z"
   },
   {
    "duration": 158,
    "start_time": "2022-12-14T09:45:47.591Z"
   },
   {
    "duration": 127,
    "start_time": "2022-12-14T09:46:24.252Z"
   },
   {
    "duration": 79,
    "start_time": "2022-12-14T09:46:59.649Z"
   },
   {
    "duration": 6,
    "start_time": "2022-12-14T09:47:17.425Z"
   },
   {
    "duration": 4,
    "start_time": "2022-12-14T09:48:28.704Z"
   },
   {
    "duration": 12,
    "start_time": "2022-12-14T09:49:12.241Z"
   },
   {
    "duration": 9,
    "start_time": "2022-12-14T09:49:21.732Z"
   },
   {
    "duration": 4,
    "start_time": "2022-12-14T09:54:20.948Z"
   },
   {
    "duration": 4,
    "start_time": "2022-12-14T09:55:43.185Z"
   },
   {
    "duration": 4,
    "start_time": "2022-12-14T09:55:43.689Z"
   },
   {
    "duration": 10,
    "start_time": "2022-12-14T09:56:16.959Z"
   },
   {
    "duration": 4,
    "start_time": "2022-12-14T09:56:37.010Z"
   },
   {
    "duration": 3,
    "start_time": "2022-12-14T09:56:38.710Z"
   },
   {
    "duration": 10,
    "start_time": "2022-12-14T09:56:39.088Z"
   },
   {
    "duration": 4,
    "start_time": "2022-12-14T09:56:44.984Z"
   },
   {
    "duration": 10,
    "start_time": "2022-12-14T09:56:45.625Z"
   },
   {
    "duration": 7,
    "start_time": "2022-12-14T09:59:12.106Z"
   },
   {
    "duration": 6,
    "start_time": "2022-12-14T10:00:27.393Z"
   },
   {
    "duration": 5,
    "start_time": "2022-12-14T10:00:43.684Z"
   },
   {
    "duration": 233,
    "start_time": "2022-12-14T10:06:24.623Z"
   },
   {
    "duration": 162,
    "start_time": "2022-12-14T10:06:30.323Z"
   },
   {
    "duration": 152,
    "start_time": "2022-12-14T10:06:56.953Z"
   },
   {
    "duration": 219,
    "start_time": "2022-12-14T10:08:22.582Z"
   },
   {
    "duration": 181,
    "start_time": "2022-12-14T10:08:28.973Z"
   },
   {
    "duration": 229,
    "start_time": "2022-12-14T10:08:35.054Z"
   },
   {
    "duration": 187,
    "start_time": "2022-12-14T10:08:55.617Z"
   },
   {
    "duration": 169,
    "start_time": "2022-12-14T10:09:18.018Z"
   },
   {
    "duration": 4,
    "start_time": "2022-12-14T10:09:23.444Z"
   },
   {
    "duration": 170,
    "start_time": "2022-12-14T10:10:45.188Z"
   },
   {
    "duration": 185,
    "start_time": "2022-12-14T10:10:50.461Z"
   },
   {
    "duration": 215,
    "start_time": "2022-12-14T10:11:29.503Z"
   },
   {
    "duration": 228,
    "start_time": "2022-12-14T10:12:25.876Z"
   },
   {
    "duration": 198,
    "start_time": "2022-12-14T10:12:40.848Z"
   },
   {
    "duration": 233,
    "start_time": "2022-12-14T10:12:50.071Z"
   },
   {
    "duration": 264,
    "start_time": "2022-12-14T10:13:05.763Z"
   },
   {
    "duration": 220,
    "start_time": "2022-12-14T10:13:46.656Z"
   },
   {
    "duration": 831,
    "start_time": "2022-12-14T16:46:45.676Z"
   },
   {
    "duration": 208,
    "start_time": "2022-12-14T16:46:46.509Z"
   },
   {
    "duration": 12,
    "start_time": "2022-12-14T16:46:46.719Z"
   },
   {
    "duration": 11,
    "start_time": "2022-12-14T16:46:46.733Z"
   },
   {
    "duration": 10,
    "start_time": "2022-12-14T16:46:46.745Z"
   },
   {
    "duration": 11,
    "start_time": "2022-12-14T16:46:46.756Z"
   },
   {
    "duration": 17,
    "start_time": "2022-12-14T16:46:46.768Z"
   },
   {
    "duration": 11,
    "start_time": "2022-12-14T16:46:46.787Z"
   },
   {
    "duration": 11,
    "start_time": "2022-12-14T16:46:46.800Z"
   },
   {
    "duration": 12,
    "start_time": "2022-12-14T16:46:46.814Z"
   },
   {
    "duration": 14,
    "start_time": "2022-12-14T16:46:46.827Z"
   },
   {
    "duration": 14,
    "start_time": "2022-12-14T16:46:46.843Z"
   },
   {
    "duration": 9,
    "start_time": "2022-12-14T16:46:46.859Z"
   },
   {
    "duration": 8,
    "start_time": "2022-12-14T16:46:46.877Z"
   },
   {
    "duration": 8,
    "start_time": "2022-12-14T16:46:46.887Z"
   },
   {
    "duration": 8,
    "start_time": "2022-12-14T16:46:46.897Z"
   },
   {
    "duration": 13,
    "start_time": "2022-12-14T16:46:46.906Z"
   },
   {
    "duration": 8,
    "start_time": "2022-12-14T16:46:46.921Z"
   },
   {
    "duration": 13,
    "start_time": "2022-12-14T16:46:46.930Z"
   },
   {
    "duration": 7,
    "start_time": "2022-12-14T16:46:46.945Z"
   },
   {
    "duration": 33,
    "start_time": "2022-12-14T16:46:46.954Z"
   },
   {
    "duration": 8,
    "start_time": "2022-12-14T16:46:46.989Z"
   },
   {
    "duration": 18,
    "start_time": "2022-12-14T16:46:46.999Z"
   },
   {
    "duration": 8,
    "start_time": "2022-12-14T16:46:47.018Z"
   },
   {
    "duration": 187,
    "start_time": "2022-12-14T16:46:47.027Z"
   },
   {
    "duration": 131,
    "start_time": "2022-12-14T16:46:47.215Z"
   },
   {
    "duration": 8,
    "start_time": "2022-12-14T16:46:47.348Z"
   },
   {
    "duration": 27,
    "start_time": "2022-12-14T16:46:47.359Z"
   },
   {
    "duration": 7,
    "start_time": "2022-12-14T16:46:47.388Z"
   },
   {
    "duration": 9,
    "start_time": "2022-12-14T16:46:54.773Z"
   },
   {
    "duration": 331,
    "start_time": "2022-12-14T16:51:59.270Z"
   },
   {
    "duration": 5,
    "start_time": "2022-12-14T16:52:19.550Z"
   },
   {
    "duration": 4,
    "start_time": "2022-12-14T16:52:20.037Z"
   },
   {
    "duration": 258,
    "start_time": "2022-12-14T16:52:20.801Z"
   },
   {
    "duration": 6,
    "start_time": "2022-12-14T17:15:49.622Z"
   },
   {
    "duration": 14,
    "start_time": "2022-12-14T17:16:02.246Z"
   },
   {
    "duration": 9,
    "start_time": "2022-12-14T17:17:44.691Z"
   },
   {
    "duration": 5,
    "start_time": "2022-12-14T17:18:35.675Z"
   },
   {
    "duration": 12,
    "start_time": "2022-12-14T17:18:45.081Z"
   },
   {
    "duration": 7,
    "start_time": "2022-12-14T17:19:25.876Z"
   },
   {
    "duration": 5,
    "start_time": "2022-12-14T17:20:41.102Z"
   },
   {
    "duration": 777,
    "start_time": "2022-12-14T17:23:33.004Z"
   },
   {
    "duration": 7,
    "start_time": "2022-12-14T17:24:19.749Z"
   },
   {
    "duration": 5,
    "start_time": "2022-12-14T17:24:20.583Z"
   },
   {
    "duration": 788,
    "start_time": "2022-12-14T17:24:22.743Z"
   },
   {
    "duration": 5,
    "start_time": "2022-12-14T17:25:19.107Z"
   },
   {
    "duration": 5,
    "start_time": "2022-12-14T17:25:19.627Z"
   },
   {
    "duration": 255,
    "start_time": "2022-12-14T17:25:21.822Z"
   },
   {
    "duration": 261,
    "start_time": "2022-12-14T17:27:01.760Z"
   },
   {
    "duration": 45,
    "start_time": "2022-12-15T08:57:39.365Z"
   },
   {
    "duration": 803,
    "start_time": "2022-12-15T08:57:47.814Z"
   },
   {
    "duration": 215,
    "start_time": "2022-12-15T08:57:48.620Z"
   },
   {
    "duration": 12,
    "start_time": "2022-12-15T08:57:48.837Z"
   },
   {
    "duration": 11,
    "start_time": "2022-12-15T08:57:48.850Z"
   },
   {
    "duration": 10,
    "start_time": "2022-12-15T08:57:48.863Z"
   },
   {
    "duration": 9,
    "start_time": "2022-12-15T08:57:48.875Z"
   },
   {
    "duration": 14,
    "start_time": "2022-12-15T08:57:48.885Z"
   },
   {
    "duration": 15,
    "start_time": "2022-12-15T08:57:48.901Z"
   },
   {
    "duration": 10,
    "start_time": "2022-12-15T08:57:48.918Z"
   },
   {
    "duration": 13,
    "start_time": "2022-12-15T08:57:48.932Z"
   },
   {
    "duration": 5,
    "start_time": "2022-12-15T08:57:48.948Z"
   },
   {
    "duration": 10,
    "start_time": "2022-12-15T08:57:48.954Z"
   },
   {
    "duration": 7,
    "start_time": "2022-12-15T08:57:48.965Z"
   },
   {
    "duration": 6,
    "start_time": "2022-12-15T08:57:48.974Z"
   },
   {
    "duration": 6,
    "start_time": "2022-12-15T08:57:48.981Z"
   },
   {
    "duration": 5,
    "start_time": "2022-12-15T08:57:49.015Z"
   },
   {
    "duration": 16,
    "start_time": "2022-12-15T08:57:49.021Z"
   },
   {
    "duration": 19,
    "start_time": "2022-12-15T08:57:49.038Z"
   },
   {
    "duration": 12,
    "start_time": "2022-12-15T08:57:49.059Z"
   },
   {
    "duration": 9,
    "start_time": "2022-12-15T08:57:49.073Z"
   },
   {
    "duration": 17,
    "start_time": "2022-12-15T08:57:49.083Z"
   },
   {
    "duration": 19,
    "start_time": "2022-12-15T08:57:49.102Z"
   },
   {
    "duration": 20,
    "start_time": "2022-12-15T08:57:49.123Z"
   },
   {
    "duration": 8,
    "start_time": "2022-12-15T08:57:49.145Z"
   },
   {
    "duration": 188,
    "start_time": "2022-12-15T08:57:49.154Z"
   },
   {
    "duration": 134,
    "start_time": "2022-12-15T08:57:49.344Z"
   },
   {
    "duration": 6,
    "start_time": "2022-12-15T08:57:49.480Z"
   },
   {
    "duration": 11,
    "start_time": "2022-12-15T08:57:49.490Z"
   },
   {
    "duration": 13,
    "start_time": "2022-12-15T08:57:49.503Z"
   },
   {
    "duration": 10,
    "start_time": "2022-12-15T08:57:49.518Z"
   },
   {
    "duration": 298,
    "start_time": "2022-12-15T08:57:49.529Z"
   },
   {
    "duration": 5,
    "start_time": "2022-12-15T08:57:49.828Z"
   },
   {
    "duration": 10,
    "start_time": "2022-12-15T08:57:49.834Z"
   },
   {
    "duration": 11,
    "start_time": "2022-12-15T08:57:49.845Z"
   },
   {
    "duration": 228,
    "start_time": "2022-12-15T08:57:49.857Z"
   },
   {
    "duration": 180,
    "start_time": "2022-12-15T08:57:55.908Z"
   },
   {
    "duration": 125,
    "start_time": "2022-12-15T08:58:05.340Z"
   },
   {
    "duration": 118,
    "start_time": "2022-12-15T08:58:58.478Z"
   },
   {
    "duration": 15,
    "start_time": "2022-12-15T09:04:34.067Z"
   },
   {
    "duration": 12,
    "start_time": "2022-12-15T09:06:14.115Z"
   },
   {
    "duration": 149,
    "start_time": "2022-12-15T09:06:28.350Z"
   },
   {
    "duration": 8,
    "start_time": "2022-12-15T09:13:08.811Z"
   },
   {
    "duration": 9,
    "start_time": "2022-12-15T09:14:52.323Z"
   },
   {
    "duration": 12,
    "start_time": "2022-12-15T09:16:04.669Z"
   },
   {
    "duration": 8,
    "start_time": "2022-12-15T09:16:20.158Z"
   },
   {
    "duration": 178,
    "start_time": "2022-12-15T09:18:03.425Z"
   },
   {
    "duration": 163,
    "start_time": "2022-12-15T09:18:20.458Z"
   },
   {
    "duration": 320,
    "start_time": "2022-12-15T09:20:10.859Z"
   },
   {
    "duration": 369,
    "start_time": "2022-12-15T09:20:20.796Z"
   },
   {
    "duration": 345,
    "start_time": "2022-12-15T09:20:33.386Z"
   },
   {
    "duration": 330,
    "start_time": "2022-12-15T09:25:05.399Z"
   },
   {
    "duration": 77,
    "start_time": "2022-12-15T09:59:56.337Z"
   },
   {
    "duration": 43,
    "start_time": "2022-12-15T10:00:01.485Z"
   },
   {
    "duration": 789,
    "start_time": "2022-12-15T10:00:20.874Z"
   },
   {
    "duration": 230,
    "start_time": "2022-12-15T10:00:21.665Z"
   },
   {
    "duration": 12,
    "start_time": "2022-12-15T10:00:21.897Z"
   },
   {
    "duration": 58,
    "start_time": "2022-12-15T10:00:21.911Z"
   },
   {
    "duration": 44,
    "start_time": "2022-12-15T10:00:21.971Z"
   },
   {
    "duration": 34,
    "start_time": "2022-12-15T10:00:22.017Z"
   },
   {
    "duration": 67,
    "start_time": "2022-12-15T10:00:22.053Z"
   },
   {
    "duration": 27,
    "start_time": "2022-12-15T10:00:22.122Z"
   },
   {
    "duration": 67,
    "start_time": "2022-12-15T10:00:22.151Z"
   },
   {
    "duration": 32,
    "start_time": "2022-12-15T10:00:22.221Z"
   },
   {
    "duration": 35,
    "start_time": "2022-12-15T10:00:22.255Z"
   },
   {
    "duration": 20,
    "start_time": "2022-12-15T10:00:22.292Z"
   },
   {
    "duration": 53,
    "start_time": "2022-12-15T10:00:22.314Z"
   },
   {
    "duration": 36,
    "start_time": "2022-12-15T10:00:22.369Z"
   },
   {
    "duration": 22,
    "start_time": "2022-12-15T10:00:22.406Z"
   },
   {
    "duration": 42,
    "start_time": "2022-12-15T10:00:22.430Z"
   },
   {
    "duration": 47,
    "start_time": "2022-12-15T10:00:22.473Z"
   },
   {
    "duration": 37,
    "start_time": "2022-12-15T10:00:22.521Z"
   },
   {
    "duration": 78,
    "start_time": "2022-12-15T10:00:22.560Z"
   },
   {
    "duration": 27,
    "start_time": "2022-12-15T10:00:22.640Z"
   },
   {
    "duration": 66,
    "start_time": "2022-12-15T10:00:22.669Z"
   },
   {
    "duration": 61,
    "start_time": "2022-12-15T10:00:22.737Z"
   },
   {
    "duration": 85,
    "start_time": "2022-12-15T10:00:22.800Z"
   },
   {
    "duration": 57,
    "start_time": "2022-12-15T10:00:22.886Z"
   },
   {
    "duration": 196,
    "start_time": "2022-12-15T10:00:22.945Z"
   },
   {
    "duration": 122,
    "start_time": "2022-12-15T10:00:23.142Z"
   },
   {
    "duration": 6,
    "start_time": "2022-12-15T10:00:23.266Z"
   },
   {
    "duration": 38,
    "start_time": "2022-12-15T10:00:23.275Z"
   },
   {
    "duration": 69,
    "start_time": "2022-12-15T10:00:23.315Z"
   },
   {
    "duration": 26,
    "start_time": "2022-12-15T10:00:23.385Z"
   },
   {
    "duration": 356,
    "start_time": "2022-12-15T10:00:23.413Z"
   },
   {
    "duration": 4,
    "start_time": "2022-12-15T10:00:23.771Z"
   },
   {
    "duration": 53,
    "start_time": "2022-12-15T10:00:23.776Z"
   },
   {
    "duration": 85,
    "start_time": "2022-12-15T10:00:23.831Z"
   },
   {
    "duration": 253,
    "start_time": "2022-12-15T10:00:23.918Z"
   },
   {
    "duration": 8,
    "start_time": "2022-12-15T10:00:24.173Z"
   },
   {
    "duration": 486,
    "start_time": "2022-12-15T10:00:24.183Z"
   },
   {
    "duration": 5,
    "start_time": "2022-12-15T10:00:24.671Z"
   },
   {
    "duration": 16,
    "start_time": "2022-12-15T10:00:38.956Z"
   },
   {
    "duration": 5,
    "start_time": "2022-12-15T10:03:34.178Z"
   },
   {
    "duration": 4,
    "start_time": "2022-12-15T10:03:34.756Z"
   },
   {
    "duration": 231,
    "start_time": "2022-12-15T10:09:07.106Z"
   },
   {
    "duration": 47,
    "start_time": "2022-12-15T12:14:11.582Z"
   },
   {
    "duration": 6,
    "start_time": "2022-12-15T12:14:18.733Z"
   },
   {
    "duration": 779,
    "start_time": "2022-12-15T12:14:26.073Z"
   },
   {
    "duration": 219,
    "start_time": "2022-12-15T12:14:26.854Z"
   },
   {
    "duration": 11,
    "start_time": "2022-12-15T12:14:27.074Z"
   },
   {
    "duration": 29,
    "start_time": "2022-12-15T12:14:27.087Z"
   },
   {
    "duration": 11,
    "start_time": "2022-12-15T12:14:27.118Z"
   },
   {
    "duration": 18,
    "start_time": "2022-12-15T12:14:27.130Z"
   },
   {
    "duration": 21,
    "start_time": "2022-12-15T12:14:27.150Z"
   },
   {
    "duration": 18,
    "start_time": "2022-12-15T12:14:27.173Z"
   },
   {
    "duration": 13,
    "start_time": "2022-12-15T12:14:27.193Z"
   },
   {
    "duration": 16,
    "start_time": "2022-12-15T12:14:27.208Z"
   },
   {
    "duration": 13,
    "start_time": "2022-12-15T12:14:27.226Z"
   },
   {
    "duration": 18,
    "start_time": "2022-12-15T12:14:27.241Z"
   },
   {
    "duration": 23,
    "start_time": "2022-12-15T12:14:27.261Z"
   },
   {
    "duration": 15,
    "start_time": "2022-12-15T12:14:27.285Z"
   },
   {
    "duration": 28,
    "start_time": "2022-12-15T12:14:27.301Z"
   },
   {
    "duration": 23,
    "start_time": "2022-12-15T12:14:27.331Z"
   },
   {
    "duration": 35,
    "start_time": "2022-12-15T12:14:27.355Z"
   },
   {
    "duration": 11,
    "start_time": "2022-12-15T12:14:27.391Z"
   },
   {
    "duration": 26,
    "start_time": "2022-12-15T12:14:27.403Z"
   },
   {
    "duration": 25,
    "start_time": "2022-12-15T12:14:27.430Z"
   },
   {
    "duration": 16,
    "start_time": "2022-12-15T12:14:27.457Z"
   },
   {
    "duration": 17,
    "start_time": "2022-12-15T12:14:27.474Z"
   },
   {
    "duration": 31,
    "start_time": "2022-12-15T12:14:27.492Z"
   },
   {
    "duration": 17,
    "start_time": "2022-12-15T12:14:27.525Z"
   },
   {
    "duration": 184,
    "start_time": "2022-12-15T12:14:27.543Z"
   },
   {
    "duration": 125,
    "start_time": "2022-12-15T12:14:27.729Z"
   },
   {
    "duration": 6,
    "start_time": "2022-12-15T12:14:27.855Z"
   },
   {
    "duration": 4,
    "start_time": "2022-12-15T12:14:27.876Z"
   },
   {
    "duration": 6,
    "start_time": "2022-12-15T12:14:27.882Z"
   },
   {
    "duration": 10,
    "start_time": "2022-12-15T12:14:27.890Z"
   },
   {
    "duration": 293,
    "start_time": "2022-12-15T12:14:27.902Z"
   },
   {
    "duration": 4,
    "start_time": "2022-12-15T12:14:28.197Z"
   },
   {
    "duration": 18,
    "start_time": "2022-12-15T12:14:28.202Z"
   },
   {
    "duration": 26,
    "start_time": "2022-12-15T12:14:28.222Z"
   },
   {
    "duration": 233,
    "start_time": "2022-12-15T12:14:28.249Z"
   },
   {
    "duration": 8,
    "start_time": "2022-12-15T12:14:28.483Z"
   },
   {
    "duration": 344,
    "start_time": "2022-12-15T12:14:28.492Z"
   },
   {
    "duration": 4,
    "start_time": "2022-12-15T12:14:28.838Z"
   },
   {
    "duration": 4,
    "start_time": "2022-12-15T12:14:37.027Z"
   },
   {
    "duration": 5,
    "start_time": "2022-12-15T12:14:37.664Z"
   },
   {
    "duration": 4,
    "start_time": "2022-12-15T12:14:38.735Z"
   },
   {
    "duration": 870,
    "start_time": "2022-12-15T12:14:39.406Z"
   },
   {
    "duration": 4,
    "start_time": "2022-12-15T12:18:49.843Z"
   },
   {
    "duration": 4,
    "start_time": "2022-12-15T12:18:50.258Z"
   },
   {
    "duration": 273,
    "start_time": "2022-12-15T12:18:51.420Z"
   },
   {
    "duration": 5,
    "start_time": "2022-12-15T12:19:05.028Z"
   },
   {
    "duration": 4,
    "start_time": "2022-12-15T12:19:05.541Z"
   },
   {
    "duration": 4,
    "start_time": "2022-12-15T12:19:05.925Z"
   },
   {
    "duration": 234,
    "start_time": "2022-12-15T12:19:06.395Z"
   },
   {
    "duration": 11,
    "start_time": "2022-12-15T12:19:42.067Z"
   },
   {
    "duration": 4,
    "start_time": "2022-12-15T12:19:46.916Z"
   },
   {
    "duration": 4,
    "start_time": "2022-12-15T12:19:50.501Z"
   },
   {
    "duration": 242,
    "start_time": "2022-12-15T12:19:51.376Z"
   },
   {
    "duration": 5,
    "start_time": "2022-12-15T12:20:15.275Z"
   },
   {
    "duration": 5,
    "start_time": "2022-12-15T12:20:15.845Z"
   },
   {
    "duration": 5,
    "start_time": "2022-12-15T12:20:16.274Z"
   },
   {
    "duration": 218,
    "start_time": "2022-12-15T12:20:16.885Z"
   },
   {
    "duration": 764,
    "start_time": "2022-12-15T12:25:08.725Z"
   },
   {
    "duration": 5,
    "start_time": "2022-12-15T12:25:25.742Z"
   },
   {
    "duration": 5,
    "start_time": "2022-12-15T12:25:26.293Z"
   },
   {
    "duration": 288,
    "start_time": "2022-12-15T12:25:26.953Z"
   },
   {
    "duration": 8,
    "start_time": "2022-12-15T12:39:21.882Z"
   },
   {
    "duration": 10,
    "start_time": "2022-12-15T12:39:30.156Z"
   },
   {
    "duration": 311,
    "start_time": "2022-12-15T12:40:02.869Z"
   },
   {
    "duration": 324,
    "start_time": "2022-12-15T12:42:04.194Z"
   },
   {
    "duration": 333,
    "start_time": "2022-12-15T12:42:23.541Z"
   },
   {
    "duration": 310,
    "start_time": "2022-12-15T12:42:56.341Z"
   },
   {
    "duration": 320,
    "start_time": "2022-12-15T12:46:45.334Z"
   },
   {
    "duration": 397,
    "start_time": "2022-12-15T12:48:51.301Z"
   },
   {
    "duration": 342,
    "start_time": "2022-12-15T12:49:31.953Z"
   },
   {
    "duration": 12,
    "start_time": "2022-12-15T13:12:35.614Z"
   },
   {
    "duration": 53,
    "start_time": "2022-12-15T13:16:58.441Z"
   },
   {
    "duration": 7,
    "start_time": "2022-12-15T13:17:16.959Z"
   },
   {
    "duration": 10,
    "start_time": "2022-12-15T13:17:37.587Z"
   },
   {
    "duration": 11,
    "start_time": "2022-12-15T13:17:47.669Z"
   },
   {
    "duration": 11,
    "start_time": "2022-12-15T13:17:53.916Z"
   },
   {
    "duration": 6,
    "start_time": "2022-12-15T13:18:00.134Z"
   },
   {
    "duration": 9,
    "start_time": "2022-12-15T13:18:08.087Z"
   },
   {
    "duration": 109,
    "start_time": "2022-12-15T13:19:29.669Z"
   },
   {
    "duration": 3,
    "start_time": "2022-12-15T13:20:56.551Z"
   },
   {
    "duration": 9,
    "start_time": "2022-12-15T13:21:45.586Z"
   },
   {
    "duration": 106,
    "start_time": "2022-12-15T13:22:03.211Z"
   },
   {
    "duration": 9,
    "start_time": "2022-12-15T13:24:11.848Z"
   },
   {
    "duration": 989,
    "start_time": "2022-12-15T13:24:28.608Z"
   },
   {
    "duration": 6,
    "start_time": "2022-12-15T13:24:37.198Z"
   },
   {
    "duration": 103,
    "start_time": "2022-12-15T13:24:38.294Z"
   },
   {
    "duration": 3,
    "start_time": "2022-12-15T13:26:52.601Z"
   },
   {
    "duration": 127,
    "start_time": "2022-12-15T13:27:56.868Z"
   },
   {
    "duration": 175,
    "start_time": "2022-12-15T13:29:14.780Z"
   },
   {
    "duration": 140,
    "start_time": "2022-12-15T13:29:19.598Z"
   },
   {
    "duration": 717,
    "start_time": "2022-12-15T13:35:57.093Z"
   },
   {
    "duration": 4,
    "start_time": "2022-12-15T13:36:12.637Z"
   },
   {
    "duration": 12,
    "start_time": "2022-12-15T13:45:59.871Z"
   },
   {
    "duration": 3,
    "start_time": "2022-12-15T13:46:10.779Z"
   },
   {
    "duration": 124,
    "start_time": "2022-12-15T13:46:34.402Z"
   },
   {
    "duration": 51,
    "start_time": "2022-12-15T13:48:36.915Z"
   },
   {
    "duration": 5,
    "start_time": "2022-12-15T13:48:41.237Z"
   },
   {
    "duration": 64,
    "start_time": "2022-12-15T13:48:44.865Z"
   },
   {
    "duration": 152,
    "start_time": "2022-12-15T13:48:48.471Z"
   },
   {
    "duration": 152,
    "start_time": "2022-12-15T13:58:24.237Z"
   },
   {
    "duration": 3,
    "start_time": "2022-12-15T13:59:50.876Z"
   },
   {
    "duration": 5,
    "start_time": "2022-12-15T14:07:07.513Z"
   },
   {
    "duration": 5,
    "start_time": "2022-12-15T14:07:20.023Z"
   },
   {
    "duration": 9,
    "start_time": "2022-12-15T14:07:31.931Z"
   },
   {
    "duration": 4,
    "start_time": "2022-12-15T14:07:41.573Z"
   },
   {
    "duration": 5,
    "start_time": "2022-12-15T14:07:50.092Z"
   },
   {
    "duration": 52,
    "start_time": "2022-12-15T14:08:13.567Z"
   },
   {
    "duration": 6,
    "start_time": "2022-12-15T14:08:16.998Z"
   },
   {
    "duration": 6,
    "start_time": "2022-12-15T14:14:48.954Z"
   },
   {
    "duration": 180,
    "start_time": "2022-12-15T14:15:34.017Z"
   },
   {
    "duration": 3,
    "start_time": "2022-12-15T14:16:43.559Z"
   },
   {
    "duration": 153,
    "start_time": "2022-12-15T14:16:46.594Z"
   },
   {
    "duration": 4,
    "start_time": "2022-12-15T14:17:54.416Z"
   },
   {
    "duration": 165,
    "start_time": "2022-12-15T14:18:09.933Z"
   },
   {
    "duration": 4,
    "start_time": "2022-12-15T14:24:09.199Z"
   },
   {
    "duration": 62,
    "start_time": "2022-12-16T12:15:56.362Z"
   },
   {
    "duration": 5,
    "start_time": "2022-12-16T12:16:12.737Z"
   },
   {
    "duration": 950,
    "start_time": "2022-12-16T12:16:22.329Z"
   },
   {
    "duration": 300,
    "start_time": "2022-12-16T12:16:24.765Z"
   },
   {
    "duration": 17,
    "start_time": "2022-12-16T12:20:00.195Z"
   },
   {
    "duration": 17,
    "start_time": "2022-12-16T12:20:10.256Z"
   },
   {
    "duration": 3,
    "start_time": "2022-12-16T12:20:42.441Z"
   },
   {
    "duration": 101,
    "start_time": "2022-12-16T12:20:42.446Z"
   },
   {
    "duration": 7,
    "start_time": "2022-12-16T12:20:42.549Z"
   },
   {
    "duration": 26,
    "start_time": "2022-12-16T12:20:42.558Z"
   },
   {
    "duration": 37,
    "start_time": "2022-12-16T12:20:42.587Z"
   },
   {
    "duration": 19,
    "start_time": "2022-12-16T12:20:42.625Z"
   },
   {
    "duration": 11,
    "start_time": "2022-12-16T12:20:42.646Z"
   },
   {
    "duration": 7,
    "start_time": "2022-12-16T12:20:42.659Z"
   },
   {
    "duration": 9,
    "start_time": "2022-12-16T12:20:42.667Z"
   },
   {
    "duration": 48,
    "start_time": "2022-12-16T12:20:42.677Z"
   },
   {
    "duration": 10,
    "start_time": "2022-12-16T12:20:42.727Z"
   },
   {
    "duration": 7,
    "start_time": "2022-12-16T12:20:42.738Z"
   },
   {
    "duration": 30,
    "start_time": "2022-12-16T12:20:42.746Z"
   },
   {
    "duration": 45,
    "start_time": "2022-12-16T12:20:42.778Z"
   },
   {
    "duration": 33,
    "start_time": "2022-12-16T12:20:42.825Z"
   },
   {
    "duration": 16,
    "start_time": "2022-12-16T12:20:42.860Z"
   },
   {
    "duration": 66,
    "start_time": "2022-12-16T12:20:42.878Z"
   },
   {
    "duration": 10,
    "start_time": "2022-12-16T12:20:42.945Z"
   },
   {
    "duration": 15,
    "start_time": "2022-12-16T12:20:42.957Z"
   },
   {
    "duration": 15,
    "start_time": "2022-12-16T12:20:42.973Z"
   },
   {
    "duration": 51,
    "start_time": "2022-12-16T12:20:42.989Z"
   },
   {
    "duration": 12,
    "start_time": "2022-12-16T12:20:43.042Z"
   },
   {
    "duration": 61,
    "start_time": "2022-12-16T12:20:43.055Z"
   },
   {
    "duration": 19,
    "start_time": "2022-12-16T12:20:43.117Z"
   },
   {
    "duration": 182,
    "start_time": "2022-12-16T12:20:43.138Z"
   },
   {
    "duration": 122,
    "start_time": "2022-12-16T12:20:43.321Z"
   },
   {
    "duration": 24,
    "start_time": "2022-12-16T12:20:43.445Z"
   },
   {
    "duration": 44,
    "start_time": "2022-12-16T12:20:43.471Z"
   },
   {
    "duration": 9,
    "start_time": "2022-12-16T12:20:43.519Z"
   },
   {
    "duration": 13,
    "start_time": "2022-12-16T12:20:43.529Z"
   },
   {
    "duration": 369,
    "start_time": "2022-12-16T12:20:43.544Z"
   },
   {
    "duration": 5,
    "start_time": "2022-12-16T12:20:43.914Z"
   },
   {
    "duration": 11,
    "start_time": "2022-12-16T12:20:43.921Z"
   },
   {
    "duration": 24,
    "start_time": "2022-12-16T12:20:43.934Z"
   },
   {
    "duration": 342,
    "start_time": "2022-12-16T12:20:43.959Z"
   },
   {
    "duration": 10,
    "start_time": "2022-12-16T12:20:44.305Z"
   },
   {
    "duration": 380,
    "start_time": "2022-12-16T12:20:44.321Z"
   },
   {
    "duration": 5,
    "start_time": "2022-12-16T12:20:44.709Z"
   },
   {
    "duration": 8,
    "start_time": "2022-12-16T12:20:44.716Z"
   },
   {
    "duration": 12,
    "start_time": "2022-12-16T12:20:44.726Z"
   },
   {
    "duration": 362,
    "start_time": "2022-12-16T12:20:44.739Z"
   },
   {
    "duration": 8,
    "start_time": "2022-12-16T12:20:45.103Z"
   },
   {
    "duration": 312,
    "start_time": "2022-12-16T12:20:45.113Z"
   },
   {
    "duration": 6,
    "start_time": "2022-12-16T12:20:45.427Z"
   },
   {
    "duration": 7,
    "start_time": "2022-12-16T12:20:45.434Z"
   },
   {
    "duration": 178,
    "start_time": "2022-12-16T12:20:45.442Z"
   },
   {
    "duration": 6,
    "start_time": "2022-12-16T12:20:45.622Z"
   },
   {
    "duration": 6,
    "start_time": "2022-12-16T12:20:45.630Z"
   },
   {
    "duration": 186,
    "start_time": "2022-12-16T12:20:45.637Z"
   },
   {
    "duration": 6,
    "start_time": "2022-12-16T12:20:45.825Z"
   },
   {
    "duration": 6,
    "start_time": "2022-12-16T12:20:45.833Z"
   },
   {
    "duration": 5,
    "start_time": "2022-12-16T12:20:45.841Z"
   },
   {
    "duration": 194,
    "start_time": "2022-12-16T12:20:45.847Z"
   },
   {
    "duration": 4,
    "start_time": "2022-12-16T12:20:46.043Z"
   },
   {
    "duration": 16,
    "start_time": "2022-12-16T12:20:57.986Z"
   },
   {
    "duration": 124,
    "start_time": "2022-12-16T12:41:32.137Z"
   },
   {
    "duration": 98,
    "start_time": "2022-12-16T12:42:35.891Z"
   },
   {
    "duration": 10,
    "start_time": "2022-12-16T12:43:01.651Z"
   },
   {
    "duration": 8,
    "start_time": "2022-12-16T12:43:12.864Z"
   },
   {
    "duration": 24,
    "start_time": "2022-12-16T12:43:20.574Z"
   },
   {
    "duration": 9,
    "start_time": "2022-12-16T12:43:33.008Z"
   },
   {
    "duration": 25,
    "start_time": "2022-12-16T12:44:47.778Z"
   },
   {
    "duration": 199,
    "start_time": "2022-12-16T12:46:32.435Z"
   },
   {
    "duration": 21,
    "start_time": "2022-12-16T12:47:09.907Z"
   },
   {
    "duration": 13,
    "start_time": "2022-12-16T12:47:13.337Z"
   },
   {
    "duration": 10,
    "start_time": "2022-12-16T12:49:19.626Z"
   },
   {
    "duration": 125,
    "start_time": "2022-12-16T12:58:10.428Z"
   },
   {
    "duration": 9,
    "start_time": "2022-12-16T12:58:19.918Z"
   },
   {
    "duration": 11,
    "start_time": "2022-12-16T12:58:30.478Z"
   },
   {
    "duration": 7,
    "start_time": "2022-12-16T12:58:50.697Z"
   },
   {
    "duration": 7,
    "start_time": "2022-12-16T12:59:17.016Z"
   },
   {
    "duration": 12,
    "start_time": "2022-12-16T12:59:40.728Z"
   },
   {
    "duration": 6,
    "start_time": "2022-12-16T13:01:21.239Z"
   },
   {
    "duration": 4,
    "start_time": "2022-12-16T13:01:58.057Z"
   },
   {
    "duration": 7,
    "start_time": "2022-12-16T13:05:31.851Z"
   },
   {
    "duration": 502,
    "start_time": "2022-12-16T13:06:05.942Z"
   },
   {
    "duration": 11,
    "start_time": "2022-12-16T13:06:15.309Z"
   },
   {
    "duration": 33,
    "start_time": "2022-12-16T13:16:51.110Z"
   },
   {
    "duration": 25,
    "start_time": "2022-12-16T13:17:03.054Z"
   },
   {
    "duration": 23,
    "start_time": "2022-12-16T13:17:34.214Z"
   },
   {
    "duration": 26,
    "start_time": "2022-12-16T13:17:47.140Z"
   },
   {
    "duration": 22,
    "start_time": "2022-12-16T13:18:36.030Z"
   },
   {
    "duration": 9,
    "start_time": "2022-12-16T13:20:14.159Z"
   },
   {
    "duration": 71,
    "start_time": "2022-12-16T13:21:12.093Z"
   },
   {
    "duration": 9,
    "start_time": "2022-12-16T13:21:15.619Z"
   },
   {
    "duration": 21,
    "start_time": "2022-12-16T13:21:21.181Z"
   },
   {
    "duration": 21,
    "start_time": "2022-12-16T13:21:28.617Z"
   },
   {
    "duration": 70,
    "start_time": "2022-12-16T13:23:33.138Z"
   },
   {
    "duration": 24,
    "start_time": "2022-12-16T13:23:37.012Z"
   },
   {
    "duration": 21,
    "start_time": "2022-12-16T13:23:48.744Z"
   },
   {
    "duration": 13,
    "start_time": "2022-12-16T13:37:11.486Z"
   },
   {
    "duration": 10,
    "start_time": "2022-12-16T13:38:00.649Z"
   },
   {
    "duration": 10,
    "start_time": "2022-12-16T13:38:09.716Z"
   },
   {
    "duration": 32,
    "start_time": "2022-12-16T13:38:43.511Z"
   },
   {
    "duration": 21,
    "start_time": "2022-12-16T13:38:46.649Z"
   },
   {
    "duration": 10,
    "start_time": "2022-12-16T13:41:16.039Z"
   },
   {
    "duration": 9,
    "start_time": "2022-12-16T14:14:48.528Z"
   },
   {
    "duration": 8,
    "start_time": "2022-12-16T14:15:00.637Z"
   },
   {
    "duration": 10,
    "start_time": "2022-12-16T14:15:23.323Z"
   },
   {
    "duration": 12,
    "start_time": "2022-12-16T14:16:08.903Z"
   },
   {
    "duration": 5,
    "start_time": "2022-12-16T14:16:26.592Z"
   },
   {
    "duration": 8,
    "start_time": "2022-12-16T14:16:34.066Z"
   },
   {
    "duration": 1237,
    "start_time": "2022-12-16T14:16:39.933Z"
   },
   {
    "duration": 1492,
    "start_time": "2022-12-16T14:16:49.169Z"
   },
   {
    "duration": 16,
    "start_time": "2022-12-16T14:17:03.102Z"
   },
   {
    "duration": 9,
    "start_time": "2022-12-16T14:18:57.789Z"
   },
   {
    "duration": 10,
    "start_time": "2022-12-16T14:19:30.473Z"
   },
   {
    "duration": 10,
    "start_time": "2022-12-16T14:19:43.476Z"
   },
   {
    "duration": 9,
    "start_time": "2022-12-16T14:27:53.016Z"
   },
   {
    "duration": 4,
    "start_time": "2022-12-16T14:28:09.672Z"
   },
   {
    "duration": 7,
    "start_time": "2022-12-16T14:32:11.806Z"
   },
   {
    "duration": 3,
    "start_time": "2022-12-16T14:32:12.337Z"
   },
   {
    "duration": 7,
    "start_time": "2022-12-16T14:36:31.420Z"
   },
   {
    "duration": 3,
    "start_time": "2022-12-16T14:36:32.056Z"
   },
   {
    "duration": 7,
    "start_time": "2022-12-16T14:38:16.934Z"
   },
   {
    "duration": 33,
    "start_time": "2022-12-16T14:38:31.993Z"
   },
   {
    "duration": 22,
    "start_time": "2022-12-16T14:45:31.548Z"
   },
   {
    "duration": 1203,
    "start_time": "2022-12-17T06:20:25.609Z"
   },
   {
    "duration": 306,
    "start_time": "2022-12-17T06:20:26.814Z"
   },
   {
    "duration": 13,
    "start_time": "2022-12-17T06:20:27.122Z"
   },
   {
    "duration": 11,
    "start_time": "2022-12-17T06:20:27.138Z"
   },
   {
    "duration": 6,
    "start_time": "2022-12-17T06:20:27.151Z"
   },
   {
    "duration": 15,
    "start_time": "2022-12-17T06:20:27.159Z"
   },
   {
    "duration": 11,
    "start_time": "2022-12-17T06:20:27.176Z"
   },
   {
    "duration": 6,
    "start_time": "2022-12-17T06:20:27.189Z"
   },
   {
    "duration": 22,
    "start_time": "2022-12-17T06:20:27.197Z"
   },
   {
    "duration": 10,
    "start_time": "2022-12-17T06:20:27.221Z"
   },
   {
    "duration": 6,
    "start_time": "2022-12-17T06:20:27.232Z"
   },
   {
    "duration": 4,
    "start_time": "2022-12-17T06:20:27.240Z"
   },
   {
    "duration": 6,
    "start_time": "2022-12-17T06:20:27.245Z"
   },
   {
    "duration": 5,
    "start_time": "2022-12-17T06:20:27.252Z"
   },
   {
    "duration": 6,
    "start_time": "2022-12-17T06:20:27.258Z"
   },
   {
    "duration": 8,
    "start_time": "2022-12-17T06:20:27.265Z"
   },
   {
    "duration": 41,
    "start_time": "2022-12-17T06:20:27.275Z"
   },
   {
    "duration": 10,
    "start_time": "2022-12-17T06:20:27.317Z"
   },
   {
    "duration": 13,
    "start_time": "2022-12-17T06:20:27.328Z"
   },
   {
    "duration": 7,
    "start_time": "2022-12-17T06:20:27.342Z"
   },
   {
    "duration": 11,
    "start_time": "2022-12-17T06:20:27.351Z"
   },
   {
    "duration": 8,
    "start_time": "2022-12-17T06:20:27.364Z"
   },
   {
    "duration": 23,
    "start_time": "2022-12-17T06:20:27.373Z"
   },
   {
    "duration": 16,
    "start_time": "2022-12-17T06:20:27.398Z"
   },
   {
    "duration": 165,
    "start_time": "2022-12-17T06:20:27.416Z"
   },
   {
    "duration": 132,
    "start_time": "2022-12-17T06:20:27.583Z"
   },
   {
    "duration": 8,
    "start_time": "2022-12-17T06:20:27.717Z"
   },
   {
    "duration": 7,
    "start_time": "2022-12-17T06:20:27.729Z"
   },
   {
    "duration": 10,
    "start_time": "2022-12-17T06:20:27.738Z"
   },
   {
    "duration": 9,
    "start_time": "2022-12-17T06:20:27.749Z"
   },
   {
    "duration": 291,
    "start_time": "2022-12-17T06:20:27.759Z"
   },
   {
    "duration": 5,
    "start_time": "2022-12-17T06:20:28.051Z"
   },
   {
    "duration": 9,
    "start_time": "2022-12-17T06:20:28.057Z"
   },
   {
    "duration": 7,
    "start_time": "2022-12-17T06:20:28.068Z"
   },
   {
    "duration": 228,
    "start_time": "2022-12-17T06:20:28.077Z"
   },
   {
    "duration": 10,
    "start_time": "2022-12-17T06:20:28.307Z"
   },
   {
    "duration": 353,
    "start_time": "2022-12-17T06:20:28.318Z"
   },
   {
    "duration": 4,
    "start_time": "2022-12-17T06:20:28.672Z"
   },
   {
    "duration": 10,
    "start_time": "2022-12-17T06:20:28.678Z"
   },
   {
    "duration": 8,
    "start_time": "2022-12-17T06:20:28.689Z"
   },
   {
    "duration": 267,
    "start_time": "2022-12-17T06:20:28.698Z"
   },
   {
    "duration": 8,
    "start_time": "2022-12-17T06:20:28.967Z"
   },
   {
    "duration": 315,
    "start_time": "2022-12-17T06:20:28.977Z"
   },
   {
    "duration": 7,
    "start_time": "2022-12-17T06:20:29.293Z"
   },
   {
    "duration": 3,
    "start_time": "2022-12-17T06:20:29.312Z"
   },
   {
    "duration": 151,
    "start_time": "2022-12-17T06:20:29.317Z"
   },
   {
    "duration": 5,
    "start_time": "2022-12-17T06:20:29.470Z"
   },
   {
    "duration": 17,
    "start_time": "2022-12-17T06:20:29.477Z"
   },
   {
    "duration": 174,
    "start_time": "2022-12-17T06:20:29.496Z"
   },
   {
    "duration": 7,
    "start_time": "2022-12-17T06:20:29.672Z"
   },
   {
    "duration": 12,
    "start_time": "2022-12-17T06:20:29.681Z"
   },
   {
    "duration": 8,
    "start_time": "2022-12-17T06:20:29.694Z"
   },
   {
    "duration": 158,
    "start_time": "2022-12-17T06:20:29.704Z"
   },
   {
    "duration": 5,
    "start_time": "2022-12-17T06:20:29.864Z"
   },
   {
    "duration": 207,
    "start_time": "2022-12-17T06:20:29.871Z"
   },
   {
    "duration": 21,
    "start_time": "2022-12-17T06:20:30.081Z"
   },
   {
    "duration": 31,
    "start_time": "2022-12-17T06:20:30.113Z"
   },
   {
    "duration": 136,
    "start_time": "2022-12-17T06:20:30.146Z"
   },
   {
    "duration": 7,
    "start_time": "2022-12-17T06:20:30.284Z"
   },
   {
    "duration": 39,
    "start_time": "2022-12-17T06:20:30.293Z"
   },
   {
    "duration": 25,
    "start_time": "2022-12-17T06:20:30.335Z"
   },
   {
    "duration": 36,
    "start_time": "2022-12-17T06:20:30.362Z"
   },
   {
    "duration": 29,
    "start_time": "2022-12-17T06:20:30.401Z"
   },
   {
    "duration": 42,
    "start_time": "2022-12-17T06:20:30.432Z"
   },
   {
    "duration": 45,
    "start_time": "2022-12-17T06:20:30.475Z"
   },
   {
    "duration": 77,
    "start_time": "2022-12-17T06:20:30.522Z"
   },
   {
    "duration": 1238,
    "start_time": "2022-12-17T06:26:21.656Z"
   },
   {
    "duration": 13,
    "start_time": "2022-12-17T06:27:25.095Z"
   },
   {
    "duration": 15,
    "start_time": "2022-12-17T06:28:16.124Z"
   },
   {
    "duration": 11,
    "start_time": "2022-12-17T06:50:33.083Z"
   },
   {
    "duration": 1210,
    "start_time": "2022-12-17T06:50:41.325Z"
   },
   {
    "duration": 1355,
    "start_time": "2022-12-17T06:51:00.369Z"
   },
   {
    "duration": 9,
    "start_time": "2022-12-17T08:13:46.861Z"
   },
   {
    "duration": 8,
    "start_time": "2022-12-17T08:14:10.678Z"
   },
   {
    "duration": 4,
    "start_time": "2022-12-17T08:14:31.734Z"
   },
   {
    "duration": 8,
    "start_time": "2022-12-17T08:14:48.293Z"
   },
   {
    "duration": 4,
    "start_time": "2022-12-17T08:14:51.664Z"
   },
   {
    "duration": 3,
    "start_time": "2022-12-17T08:15:15.568Z"
   },
   {
    "duration": 4,
    "start_time": "2022-12-17T08:17:07.581Z"
   },
   {
    "duration": 92,
    "start_time": "2022-12-17T08:17:07.587Z"
   },
   {
    "duration": 8,
    "start_time": "2022-12-17T08:17:07.682Z"
   },
   {
    "duration": 11,
    "start_time": "2022-12-17T08:17:07.692Z"
   },
   {
    "duration": 7,
    "start_time": "2022-12-17T08:17:07.705Z"
   },
   {
    "duration": 25,
    "start_time": "2022-12-17T08:17:07.714Z"
   },
   {
    "duration": 13,
    "start_time": "2022-12-17T08:17:07.741Z"
   },
   {
    "duration": 7,
    "start_time": "2022-12-17T08:17:07.756Z"
   },
   {
    "duration": 11,
    "start_time": "2022-12-17T08:17:07.765Z"
   },
   {
    "duration": 12,
    "start_time": "2022-12-17T08:17:07.777Z"
   },
   {
    "duration": 24,
    "start_time": "2022-12-17T08:17:07.791Z"
   },
   {
    "duration": 19,
    "start_time": "2022-12-17T08:17:07.817Z"
   },
   {
    "duration": 8,
    "start_time": "2022-12-17T08:17:07.837Z"
   },
   {
    "duration": 4,
    "start_time": "2022-12-17T08:17:07.847Z"
   },
   {
    "duration": 7,
    "start_time": "2022-12-17T08:17:07.852Z"
   },
   {
    "duration": 10,
    "start_time": "2022-12-17T08:17:07.861Z"
   },
   {
    "duration": 14,
    "start_time": "2022-12-17T08:17:07.872Z"
   },
   {
    "duration": 28,
    "start_time": "2022-12-17T08:17:07.887Z"
   },
   {
    "duration": 26,
    "start_time": "2022-12-17T08:17:07.917Z"
   },
   {
    "duration": 9,
    "start_time": "2022-12-17T08:17:07.945Z"
   },
   {
    "duration": 28,
    "start_time": "2022-12-17T08:17:07.955Z"
   },
   {
    "duration": 12,
    "start_time": "2022-12-17T08:17:07.984Z"
   },
   {
    "duration": 26,
    "start_time": "2022-12-17T08:17:07.998Z"
   },
   {
    "duration": 10,
    "start_time": "2022-12-17T08:17:08.025Z"
   },
   {
    "duration": 169,
    "start_time": "2022-12-17T08:17:08.037Z"
   },
   {
    "duration": 124,
    "start_time": "2022-12-17T08:17:08.208Z"
   },
   {
    "duration": 6,
    "start_time": "2022-12-17T08:17:08.334Z"
   },
   {
    "duration": 10,
    "start_time": "2022-12-17T08:17:08.341Z"
   },
   {
    "duration": 5,
    "start_time": "2022-12-17T08:17:08.354Z"
   },
   {
    "duration": 6,
    "start_time": "2022-12-17T08:17:08.360Z"
   },
   {
    "duration": 323,
    "start_time": "2022-12-17T08:17:08.368Z"
   },
   {
    "duration": 4,
    "start_time": "2022-12-17T08:17:08.693Z"
   },
   {
    "duration": 8,
    "start_time": "2022-12-17T08:17:08.699Z"
   },
   {
    "duration": 20,
    "start_time": "2022-12-17T08:17:08.713Z"
   },
   {
    "duration": 238,
    "start_time": "2022-12-17T08:17:08.734Z"
   },
   {
    "duration": 8,
    "start_time": "2022-12-17T08:17:08.974Z"
   },
   {
    "duration": 368,
    "start_time": "2022-12-17T08:17:08.983Z"
   },
   {
    "duration": 4,
    "start_time": "2022-12-17T08:17:09.353Z"
   },
   {
    "duration": 8,
    "start_time": "2022-12-17T08:17:09.358Z"
   },
   {
    "duration": 8,
    "start_time": "2022-12-17T08:17:09.367Z"
   },
   {
    "duration": 277,
    "start_time": "2022-12-17T08:17:09.377Z"
   },
   {
    "duration": 9,
    "start_time": "2022-12-17T08:17:09.656Z"
   },
   {
    "duration": 383,
    "start_time": "2022-12-17T08:17:09.666Z"
   },
   {
    "duration": 6,
    "start_time": "2022-12-17T08:17:10.051Z"
   },
   {
    "duration": 7,
    "start_time": "2022-12-17T08:17:10.059Z"
   },
   {
    "duration": 182,
    "start_time": "2022-12-17T08:17:10.067Z"
   },
   {
    "duration": 5,
    "start_time": "2022-12-17T08:17:10.251Z"
   },
   {
    "duration": 20,
    "start_time": "2022-12-17T08:17:10.259Z"
   },
   {
    "duration": 212,
    "start_time": "2022-12-17T08:17:10.282Z"
   },
   {
    "duration": 19,
    "start_time": "2022-12-17T08:17:10.496Z"
   },
   {
    "duration": 35,
    "start_time": "2022-12-17T08:17:10.518Z"
   },
   {
    "duration": 8,
    "start_time": "2022-12-17T08:17:10.555Z"
   },
   {
    "duration": 167,
    "start_time": "2022-12-17T08:17:10.565Z"
   },
   {
    "duration": 5,
    "start_time": "2022-12-17T08:17:10.734Z"
   },
   {
    "duration": 221,
    "start_time": "2022-12-17T08:17:10.741Z"
   },
   {
    "duration": 23,
    "start_time": "2022-12-17T08:17:10.964Z"
   },
   {
    "duration": 9,
    "start_time": "2022-12-17T08:17:10.989Z"
   },
   {
    "duration": 166,
    "start_time": "2022-12-17T08:17:11.000Z"
   },
   {
    "duration": 7,
    "start_time": "2022-12-17T08:17:11.168Z"
   },
   {
    "duration": 26,
    "start_time": "2022-12-17T08:17:11.176Z"
   },
   {
    "duration": 25,
    "start_time": "2022-12-17T08:17:11.204Z"
   },
   {
    "duration": 9,
    "start_time": "2022-12-17T08:17:11.231Z"
   },
   {
    "duration": 6,
    "start_time": "2022-12-17T08:17:11.241Z"
   },
   {
    "duration": 10,
    "start_time": "2022-12-17T08:17:11.249Z"
   },
   {
    "duration": 24,
    "start_time": "2022-12-17T08:17:11.260Z"
   },
   {
    "duration": 44,
    "start_time": "2022-12-17T08:17:11.286Z"
   },
   {
    "duration": 3,
    "start_time": "2022-12-17T08:23:07.349Z"
   },
   {
    "duration": 85,
    "start_time": "2022-12-17T08:23:07.356Z"
   },
   {
    "duration": 9,
    "start_time": "2022-12-17T08:23:07.443Z"
   },
   {
    "duration": 12,
    "start_time": "2022-12-17T08:23:07.454Z"
   },
   {
    "duration": 15,
    "start_time": "2022-12-17T08:23:07.468Z"
   },
   {
    "duration": 21,
    "start_time": "2022-12-17T08:23:07.485Z"
   },
   {
    "duration": 22,
    "start_time": "2022-12-17T08:23:07.507Z"
   },
   {
    "duration": 8,
    "start_time": "2022-12-17T08:23:07.531Z"
   },
   {
    "duration": 8,
    "start_time": "2022-12-17T08:23:07.541Z"
   },
   {
    "duration": 16,
    "start_time": "2022-12-17T08:23:07.551Z"
   },
   {
    "duration": 8,
    "start_time": "2022-12-17T08:23:07.569Z"
   },
   {
    "duration": 4,
    "start_time": "2022-12-17T08:23:07.578Z"
   },
   {
    "duration": 31,
    "start_time": "2022-12-17T08:23:07.584Z"
   },
   {
    "duration": 7,
    "start_time": "2022-12-17T08:23:07.617Z"
   },
   {
    "duration": 9,
    "start_time": "2022-12-17T08:23:07.626Z"
   },
   {
    "duration": 28,
    "start_time": "2022-12-17T08:23:07.637Z"
   },
   {
    "duration": 37,
    "start_time": "2022-12-17T08:23:07.668Z"
   },
   {
    "duration": 38,
    "start_time": "2022-12-17T08:23:07.708Z"
   },
   {
    "duration": 20,
    "start_time": "2022-12-17T08:23:07.748Z"
   },
   {
    "duration": 16,
    "start_time": "2022-12-17T08:23:07.770Z"
   },
   {
    "duration": 22,
    "start_time": "2022-12-17T08:23:07.788Z"
   },
   {
    "duration": 20,
    "start_time": "2022-12-17T08:23:07.812Z"
   },
   {
    "duration": 17,
    "start_time": "2022-12-17T08:23:07.834Z"
   },
   {
    "duration": 10,
    "start_time": "2022-12-17T08:23:07.853Z"
   },
   {
    "duration": 181,
    "start_time": "2022-12-17T08:23:07.865Z"
   },
   {
    "duration": 137,
    "start_time": "2022-12-17T08:23:08.047Z"
   },
   {
    "duration": 7,
    "start_time": "2022-12-17T08:23:08.186Z"
   },
   {
    "duration": 10,
    "start_time": "2022-12-17T08:23:08.195Z"
   },
   {
    "duration": 12,
    "start_time": "2022-12-17T08:23:08.217Z"
   },
   {
    "duration": 14,
    "start_time": "2022-12-17T08:23:08.230Z"
   },
   {
    "duration": 257,
    "start_time": "2022-12-17T08:23:08.245Z"
   },
   {
    "duration": 9,
    "start_time": "2022-12-17T08:23:08.504Z"
   },
   {
    "duration": 5,
    "start_time": "2022-12-17T08:23:08.515Z"
   },
   {
    "duration": 9,
    "start_time": "2022-12-17T08:23:08.522Z"
   },
   {
    "duration": 274,
    "start_time": "2022-12-17T08:23:08.533Z"
   },
   {
    "duration": 9,
    "start_time": "2022-12-17T08:23:08.813Z"
   },
   {
    "duration": 422,
    "start_time": "2022-12-17T08:23:08.824Z"
   },
   {
    "duration": 5,
    "start_time": "2022-12-17T08:23:09.248Z"
   },
   {
    "duration": 8,
    "start_time": "2022-12-17T08:23:09.256Z"
   },
   {
    "duration": 8,
    "start_time": "2022-12-17T08:23:09.266Z"
   },
   {
    "duration": 297,
    "start_time": "2022-12-17T08:23:09.276Z"
   },
   {
    "duration": 9,
    "start_time": "2022-12-17T08:23:09.575Z"
   },
   {
    "duration": 365,
    "start_time": "2022-12-17T08:23:09.585Z"
   },
   {
    "duration": 8,
    "start_time": "2022-12-17T08:23:09.952Z"
   },
   {
    "duration": 6,
    "start_time": "2022-12-17T08:23:09.961Z"
   },
   {
    "duration": 179,
    "start_time": "2022-12-17T08:23:09.969Z"
   },
   {
    "duration": 4,
    "start_time": "2022-12-17T08:23:10.151Z"
   },
   {
    "duration": 7,
    "start_time": "2022-12-17T08:23:10.158Z"
   },
   {
    "duration": 237,
    "start_time": "2022-12-17T08:23:10.167Z"
   },
   {
    "duration": 12,
    "start_time": "2022-12-17T08:23:10.406Z"
   },
   {
    "duration": 37,
    "start_time": "2022-12-17T08:23:10.420Z"
   },
   {
    "duration": 21,
    "start_time": "2022-12-17T08:23:10.459Z"
   },
   {
    "duration": 168,
    "start_time": "2022-12-17T08:23:10.482Z"
   },
   {
    "duration": 5,
    "start_time": "2022-12-17T08:23:10.652Z"
   },
   {
    "duration": 219,
    "start_time": "2022-12-17T08:23:10.659Z"
   },
   {
    "duration": 21,
    "start_time": "2022-12-17T08:23:10.880Z"
   },
   {
    "duration": 35,
    "start_time": "2022-12-17T08:23:10.902Z"
   },
   {
    "duration": 152,
    "start_time": "2022-12-17T08:23:10.939Z"
   },
   {
    "duration": 6,
    "start_time": "2022-12-17T08:23:11.092Z"
   },
   {
    "duration": 28,
    "start_time": "2022-12-17T08:23:11.120Z"
   },
   {
    "duration": 12,
    "start_time": "2022-12-17T08:23:11.149Z"
   },
   {
    "duration": 8,
    "start_time": "2022-12-17T08:23:11.162Z"
   },
   {
    "duration": 6,
    "start_time": "2022-12-17T08:23:11.172Z"
   },
   {
    "duration": 9,
    "start_time": "2022-12-17T08:23:11.179Z"
   },
   {
    "duration": 48,
    "start_time": "2022-12-17T08:23:11.190Z"
   },
   {
    "duration": 14,
    "start_time": "2022-12-17T08:23:11.240Z"
   },
   {
    "duration": 1120,
    "start_time": "2022-12-17T08:23:34.392Z"
   },
   {
    "duration": 140,
    "start_time": "2022-12-17T08:23:35.515Z"
   },
   {
    "duration": 11,
    "start_time": "2022-12-17T08:23:35.657Z"
   },
   {
    "duration": 11,
    "start_time": "2022-12-17T08:23:35.669Z"
   },
   {
    "duration": 8,
    "start_time": "2022-12-17T08:23:35.681Z"
   },
   {
    "duration": 9,
    "start_time": "2022-12-17T08:23:35.690Z"
   },
   {
    "duration": 21,
    "start_time": "2022-12-17T08:23:35.701Z"
   },
   {
    "duration": 15,
    "start_time": "2022-12-17T08:23:35.723Z"
   },
   {
    "duration": 8,
    "start_time": "2022-12-17T08:23:35.740Z"
   },
   {
    "duration": 15,
    "start_time": "2022-12-17T08:23:35.750Z"
   },
   {
    "duration": 12,
    "start_time": "2022-12-17T08:23:35.766Z"
   },
   {
    "duration": 7,
    "start_time": "2022-12-17T08:23:35.779Z"
   },
   {
    "duration": 11,
    "start_time": "2022-12-17T08:23:35.787Z"
   },
   {
    "duration": 13,
    "start_time": "2022-12-17T08:23:35.800Z"
   },
   {
    "duration": 16,
    "start_time": "2022-12-17T08:23:35.815Z"
   },
   {
    "duration": 14,
    "start_time": "2022-12-17T08:23:35.833Z"
   },
   {
    "duration": 20,
    "start_time": "2022-12-17T08:23:35.848Z"
   },
   {
    "duration": 9,
    "start_time": "2022-12-17T08:23:35.869Z"
   },
   {
    "duration": 17,
    "start_time": "2022-12-17T08:23:35.879Z"
   },
   {
    "duration": 8,
    "start_time": "2022-12-17T08:23:35.898Z"
   },
   {
    "duration": 22,
    "start_time": "2022-12-17T08:23:35.907Z"
   },
   {
    "duration": 8,
    "start_time": "2022-12-17T08:23:35.931Z"
   },
   {
    "duration": 24,
    "start_time": "2022-12-17T08:23:35.941Z"
   },
   {
    "duration": 22,
    "start_time": "2022-12-17T08:23:35.968Z"
   },
   {
    "duration": 167,
    "start_time": "2022-12-17T08:23:35.992Z"
   },
   {
    "duration": 123,
    "start_time": "2022-12-17T08:23:36.161Z"
   },
   {
    "duration": 6,
    "start_time": "2022-12-17T08:23:36.285Z"
   },
   {
    "duration": 18,
    "start_time": "2022-12-17T08:23:36.295Z"
   },
   {
    "duration": 7,
    "start_time": "2022-12-17T08:23:36.314Z"
   },
   {
    "duration": 10,
    "start_time": "2022-12-17T08:23:36.323Z"
   },
   {
    "duration": 345,
    "start_time": "2022-12-17T08:23:36.334Z"
   },
   {
    "duration": 4,
    "start_time": "2022-12-17T08:23:36.681Z"
   },
   {
    "duration": 7,
    "start_time": "2022-12-17T08:23:36.686Z"
   },
   {
    "duration": 18,
    "start_time": "2022-12-17T08:23:36.695Z"
   },
   {
    "duration": 275,
    "start_time": "2022-12-17T08:23:36.715Z"
   },
   {
    "duration": 8,
    "start_time": "2022-12-17T08:23:36.992Z"
   },
   {
    "duration": 342,
    "start_time": "2022-12-17T08:23:37.001Z"
   },
   {
    "duration": 4,
    "start_time": "2022-12-17T08:23:37.345Z"
   },
   {
    "duration": 8,
    "start_time": "2022-12-17T08:23:37.350Z"
   },
   {
    "duration": 8,
    "start_time": "2022-12-17T08:23:37.360Z"
   },
   {
    "duration": 312,
    "start_time": "2022-12-17T08:23:37.369Z"
   },
   {
    "duration": 9,
    "start_time": "2022-12-17T08:23:37.683Z"
   },
   {
    "duration": 350,
    "start_time": "2022-12-17T08:23:37.693Z"
   },
   {
    "duration": 6,
    "start_time": "2022-12-17T08:23:38.045Z"
   },
   {
    "duration": 5,
    "start_time": "2022-12-17T08:23:38.052Z"
   },
   {
    "duration": 169,
    "start_time": "2022-12-17T08:23:38.058Z"
   },
   {
    "duration": 5,
    "start_time": "2022-12-17T08:23:38.229Z"
   },
   {
    "duration": 8,
    "start_time": "2022-12-17T08:23:38.235Z"
   },
   {
    "duration": 175,
    "start_time": "2022-12-17T08:23:38.245Z"
   },
   {
    "duration": 7,
    "start_time": "2022-12-17T08:23:38.424Z"
   },
   {
    "duration": 10,
    "start_time": "2022-12-17T08:23:38.433Z"
   },
   {
    "duration": 8,
    "start_time": "2022-12-17T08:23:38.445Z"
   },
   {
    "duration": 165,
    "start_time": "2022-12-17T08:23:38.454Z"
   },
   {
    "duration": 6,
    "start_time": "2022-12-17T08:23:38.622Z"
   },
   {
    "duration": 221,
    "start_time": "2022-12-17T08:23:38.631Z"
   },
   {
    "duration": 20,
    "start_time": "2022-12-17T08:23:38.854Z"
   },
   {
    "duration": 14,
    "start_time": "2022-12-17T08:23:38.876Z"
   },
   {
    "duration": 168,
    "start_time": "2022-12-17T08:23:38.891Z"
   },
   {
    "duration": 5,
    "start_time": "2022-12-17T08:23:39.061Z"
   },
   {
    "duration": 27,
    "start_time": "2022-12-17T08:23:39.068Z"
   },
   {
    "duration": 21,
    "start_time": "2022-12-17T08:23:39.097Z"
   },
   {
    "duration": 11,
    "start_time": "2022-12-17T08:23:39.119Z"
   },
   {
    "duration": 7,
    "start_time": "2022-12-17T08:23:39.131Z"
   },
   {
    "duration": 18,
    "start_time": "2022-12-17T08:23:39.140Z"
   },
   {
    "duration": 24,
    "start_time": "2022-12-17T08:23:39.160Z"
   },
   {
    "duration": 37,
    "start_time": "2022-12-17T08:23:39.185Z"
   },
   {
    "duration": 1213,
    "start_time": "2022-12-17T13:16:01.046Z"
   },
   {
    "duration": 294,
    "start_time": "2022-12-17T13:16:02.262Z"
   },
   {
    "duration": 12,
    "start_time": "2022-12-17T13:16:02.558Z"
   },
   {
    "duration": 27,
    "start_time": "2022-12-17T13:16:02.571Z"
   },
   {
    "duration": 15,
    "start_time": "2022-12-17T13:16:02.600Z"
   },
   {
    "duration": 25,
    "start_time": "2022-12-17T13:16:02.617Z"
   },
   {
    "duration": 17,
    "start_time": "2022-12-17T13:16:02.644Z"
   },
   {
    "duration": 23,
    "start_time": "2022-12-17T13:16:02.663Z"
   },
   {
    "duration": 23,
    "start_time": "2022-12-17T13:16:02.687Z"
   },
   {
    "duration": 23,
    "start_time": "2022-12-17T13:16:02.712Z"
   },
   {
    "duration": 20,
    "start_time": "2022-12-17T13:16:02.737Z"
   },
   {
    "duration": 12,
    "start_time": "2022-12-17T13:16:02.759Z"
   },
   {
    "duration": 13,
    "start_time": "2022-12-17T13:16:02.772Z"
   },
   {
    "duration": 10,
    "start_time": "2022-12-17T13:16:02.788Z"
   },
   {
    "duration": 7,
    "start_time": "2022-12-17T13:16:02.800Z"
   },
   {
    "duration": 20,
    "start_time": "2022-12-17T13:16:02.809Z"
   },
   {
    "duration": 18,
    "start_time": "2022-12-17T13:16:02.831Z"
   },
   {
    "duration": 16,
    "start_time": "2022-12-17T13:16:02.851Z"
   },
   {
    "duration": 21,
    "start_time": "2022-12-17T13:16:02.869Z"
   },
   {
    "duration": 13,
    "start_time": "2022-12-17T13:16:02.891Z"
   },
   {
    "duration": 31,
    "start_time": "2022-12-17T13:16:02.905Z"
   },
   {
    "duration": 25,
    "start_time": "2022-12-17T13:16:02.938Z"
   },
   {
    "duration": 31,
    "start_time": "2022-12-17T13:16:02.965Z"
   },
   {
    "duration": 13,
    "start_time": "2022-12-17T13:16:02.997Z"
   },
   {
    "duration": 174,
    "start_time": "2022-12-17T13:16:03.012Z"
   },
   {
    "duration": 115,
    "start_time": "2022-12-17T13:16:03.188Z"
   },
   {
    "duration": 7,
    "start_time": "2022-12-17T13:16:03.305Z"
   },
   {
    "duration": 18,
    "start_time": "2022-12-17T13:16:03.314Z"
   },
   {
    "duration": 12,
    "start_time": "2022-12-17T13:16:03.334Z"
   },
   {
    "duration": 13,
    "start_time": "2022-12-17T13:16:03.348Z"
   },
   {
    "duration": 312,
    "start_time": "2022-12-17T13:16:03.363Z"
   },
   {
    "duration": 5,
    "start_time": "2022-12-17T13:16:03.679Z"
   },
   {
    "duration": 7,
    "start_time": "2022-12-17T13:16:03.687Z"
   },
   {
    "duration": 14,
    "start_time": "2022-12-17T13:16:03.696Z"
   },
   {
    "duration": 284,
    "start_time": "2022-12-17T13:16:03.712Z"
   },
   {
    "duration": 10,
    "start_time": "2022-12-17T13:16:03.998Z"
   },
   {
    "duration": 438,
    "start_time": "2022-12-17T13:16:04.010Z"
   },
   {
    "duration": 4,
    "start_time": "2022-12-17T13:16:04.450Z"
   },
   {
    "duration": 9,
    "start_time": "2022-12-17T13:16:04.456Z"
   },
   {
    "duration": 11,
    "start_time": "2022-12-17T13:16:04.467Z"
   },
   {
    "duration": 325,
    "start_time": "2022-12-17T13:16:04.483Z"
   },
   {
    "duration": 9,
    "start_time": "2022-12-17T13:16:04.810Z"
   },
   {
    "duration": 332,
    "start_time": "2022-12-17T13:16:04.821Z"
   },
   {
    "duration": 7,
    "start_time": "2022-12-17T13:16:05.154Z"
   },
   {
    "duration": 14,
    "start_time": "2022-12-17T13:16:05.164Z"
   },
   {
    "duration": 192,
    "start_time": "2022-12-17T13:16:05.180Z"
   },
   {
    "duration": 6,
    "start_time": "2022-12-17T13:16:05.378Z"
   },
   {
    "duration": 12,
    "start_time": "2022-12-17T13:16:05.387Z"
   },
   {
    "duration": 220,
    "start_time": "2022-12-17T13:16:05.401Z"
   },
   {
    "duration": 7,
    "start_time": "2022-12-17T13:16:05.623Z"
   },
   {
    "duration": 24,
    "start_time": "2022-12-17T13:16:05.633Z"
   },
   {
    "duration": 24,
    "start_time": "2022-12-17T13:16:05.660Z"
   },
   {
    "duration": 204,
    "start_time": "2022-12-17T13:16:05.686Z"
   },
   {
    "duration": 5,
    "start_time": "2022-12-17T13:16:05.892Z"
   },
   {
    "duration": 233,
    "start_time": "2022-12-17T13:16:05.899Z"
   },
   {
    "duration": 21,
    "start_time": "2022-12-17T13:16:06.134Z"
   },
   {
    "duration": 68,
    "start_time": "2022-12-17T13:16:06.157Z"
   },
   {
    "duration": 168,
    "start_time": "2022-12-17T13:16:06.227Z"
   },
   {
    "duration": 6,
    "start_time": "2022-12-17T13:16:06.397Z"
   },
   {
    "duration": 73,
    "start_time": "2022-12-17T13:16:06.405Z"
   },
   {
    "duration": 60,
    "start_time": "2022-12-17T13:16:06.479Z"
   },
   {
    "duration": 29,
    "start_time": "2022-12-17T13:16:06.540Z"
   },
   {
    "duration": 28,
    "start_time": "2022-12-17T13:16:06.571Z"
   },
   {
    "duration": 20,
    "start_time": "2022-12-17T13:16:06.602Z"
   },
   {
    "duration": 59,
    "start_time": "2022-12-17T13:16:06.624Z"
   },
   {
    "duration": 40,
    "start_time": "2022-12-17T13:16:06.686Z"
   },
   {
    "duration": 1302,
    "start_time": "2022-12-17T14:32:29.394Z"
   },
   {
    "duration": 332,
    "start_time": "2022-12-17T14:32:30.698Z"
   },
   {
    "duration": 11,
    "start_time": "2022-12-17T14:32:31.032Z"
   },
   {
    "duration": 29,
    "start_time": "2022-12-17T14:32:31.045Z"
   },
   {
    "duration": 22,
    "start_time": "2022-12-17T14:32:31.076Z"
   },
   {
    "duration": 20,
    "start_time": "2022-12-17T14:32:31.100Z"
   },
   {
    "duration": 21,
    "start_time": "2022-12-17T14:32:31.122Z"
   },
   {
    "duration": 22,
    "start_time": "2022-12-17T14:32:31.146Z"
   },
   {
    "duration": 19,
    "start_time": "2022-12-17T14:32:31.170Z"
   },
   {
    "duration": 13,
    "start_time": "2022-12-17T14:32:31.191Z"
   },
   {
    "duration": 14,
    "start_time": "2022-12-17T14:32:31.206Z"
   },
   {
    "duration": 8,
    "start_time": "2022-12-17T14:32:31.221Z"
   },
   {
    "duration": 8,
    "start_time": "2022-12-17T14:32:31.230Z"
   },
   {
    "duration": 11,
    "start_time": "2022-12-17T14:32:31.239Z"
   },
   {
    "duration": 21,
    "start_time": "2022-12-17T14:32:31.252Z"
   },
   {
    "duration": 21,
    "start_time": "2022-12-17T14:32:31.275Z"
   },
   {
    "duration": 26,
    "start_time": "2022-12-17T14:32:31.298Z"
   },
   {
    "duration": 40,
    "start_time": "2022-12-17T14:32:31.326Z"
   },
   {
    "duration": 36,
    "start_time": "2022-12-17T14:32:31.368Z"
   },
   {
    "duration": 27,
    "start_time": "2022-12-17T14:32:31.405Z"
   },
   {
    "duration": 27,
    "start_time": "2022-12-17T14:32:31.434Z"
   },
   {
    "duration": 16,
    "start_time": "2022-12-17T14:32:31.462Z"
   },
   {
    "duration": 28,
    "start_time": "2022-12-17T14:32:31.479Z"
   },
   {
    "duration": 20,
    "start_time": "2022-12-17T14:32:31.509Z"
   },
   {
    "duration": 182,
    "start_time": "2022-12-17T14:32:31.531Z"
   },
   {
    "duration": 113,
    "start_time": "2022-12-17T14:32:31.714Z"
   },
   {
    "duration": 6,
    "start_time": "2022-12-17T14:32:31.829Z"
   },
   {
    "duration": 6,
    "start_time": "2022-12-17T14:32:31.838Z"
   },
   {
    "duration": 11,
    "start_time": "2022-12-17T14:32:31.846Z"
   },
   {
    "duration": 7,
    "start_time": "2022-12-17T14:32:31.859Z"
   },
   {
    "duration": 304,
    "start_time": "2022-12-17T14:32:31.867Z"
   },
   {
    "duration": 4,
    "start_time": "2022-12-17T14:32:32.173Z"
   },
   {
    "duration": 7,
    "start_time": "2022-12-17T14:32:32.178Z"
   },
   {
    "duration": 8,
    "start_time": "2022-12-17T14:32:32.186Z"
   },
   {
    "duration": 239,
    "start_time": "2022-12-17T14:32:32.195Z"
   },
   {
    "duration": 8,
    "start_time": "2022-12-17T14:32:32.435Z"
   },
   {
    "duration": 376,
    "start_time": "2022-12-17T14:32:32.445Z"
   },
   {
    "duration": 4,
    "start_time": "2022-12-17T14:32:32.823Z"
   },
   {
    "duration": 10,
    "start_time": "2022-12-17T14:32:32.828Z"
   },
   {
    "duration": 15,
    "start_time": "2022-12-17T14:32:32.840Z"
   },
   {
    "duration": 298,
    "start_time": "2022-12-17T14:32:32.857Z"
   },
   {
    "duration": 9,
    "start_time": "2022-12-17T14:32:33.156Z"
   },
   {
    "duration": 314,
    "start_time": "2022-12-17T14:32:33.167Z"
   },
   {
    "duration": 7,
    "start_time": "2022-12-17T14:32:33.483Z"
   },
   {
    "duration": 4,
    "start_time": "2022-12-17T14:32:33.492Z"
   },
   {
    "duration": 172,
    "start_time": "2022-12-17T14:32:33.497Z"
   },
   {
    "duration": 5,
    "start_time": "2022-12-17T14:32:33.670Z"
   },
   {
    "duration": 5,
    "start_time": "2022-12-17T14:32:33.676Z"
   },
   {
    "duration": 188,
    "start_time": "2022-12-17T14:32:33.683Z"
   },
   {
    "duration": 7,
    "start_time": "2022-12-17T14:32:33.873Z"
   },
   {
    "duration": 6,
    "start_time": "2022-12-17T14:32:33.882Z"
   },
   {
    "duration": 5,
    "start_time": "2022-12-17T14:32:33.890Z"
   },
   {
    "duration": 181,
    "start_time": "2022-12-17T14:32:33.896Z"
   },
   {
    "duration": 5,
    "start_time": "2022-12-17T14:32:34.079Z"
   },
   {
    "duration": 208,
    "start_time": "2022-12-17T14:32:34.086Z"
   },
   {
    "duration": 22,
    "start_time": "2022-12-17T14:32:34.296Z"
   },
   {
    "duration": 10,
    "start_time": "2022-12-17T14:32:34.320Z"
   },
   {
    "duration": 181,
    "start_time": "2022-12-17T14:32:34.332Z"
   },
   {
    "duration": 7,
    "start_time": "2022-12-17T14:32:34.516Z"
   },
   {
    "duration": 40,
    "start_time": "2022-12-17T14:32:34.525Z"
   },
   {
    "duration": 15,
    "start_time": "2022-12-17T14:32:34.567Z"
   },
   {
    "duration": 15,
    "start_time": "2022-12-17T14:32:34.584Z"
   },
   {
    "duration": 11,
    "start_time": "2022-12-17T14:32:34.602Z"
   },
   {
    "duration": 21,
    "start_time": "2022-12-17T14:32:34.615Z"
   },
   {
    "duration": 58,
    "start_time": "2022-12-17T14:32:34.638Z"
   },
   {
    "duration": 17,
    "start_time": "2022-12-17T14:32:34.699Z"
   },
   {
    "duration": 3,
    "start_time": "2022-12-17T14:33:24.447Z"
   },
   {
    "duration": 4,
    "start_time": "2022-12-17T14:33:26.011Z"
   },
   {
    "duration": 14,
    "start_time": "2022-12-17T14:33:26.517Z"
   },
   {
    "duration": 2,
    "start_time": "2022-12-17T14:33:46.169Z"
   },
   {
    "duration": 4,
    "start_time": "2022-12-17T14:33:47.077Z"
   },
   {
    "duration": 14,
    "start_time": "2022-12-17T14:33:47.409Z"
   },
   {
    "duration": 10,
    "start_time": "2022-12-17T14:51:59.189Z"
   },
   {
    "duration": 4,
    "start_time": "2022-12-17T14:52:25.600Z"
   },
   {
    "duration": 10,
    "start_time": "2022-12-17T14:53:02.459Z"
   },
   {
    "duration": 15,
    "start_time": "2022-12-17T14:55:00.007Z"
   },
   {
    "duration": 1075,
    "start_time": "2022-12-17T14:56:34.713Z"
   },
   {
    "duration": 115,
    "start_time": "2022-12-17T14:56:35.790Z"
   },
   {
    "duration": 12,
    "start_time": "2022-12-17T14:56:35.906Z"
   },
   {
    "duration": 11,
    "start_time": "2022-12-17T14:56:35.919Z"
   },
   {
    "duration": 9,
    "start_time": "2022-12-17T14:56:35.931Z"
   },
   {
    "duration": 10,
    "start_time": "2022-12-17T14:56:35.941Z"
   },
   {
    "duration": 12,
    "start_time": "2022-12-17T14:56:35.952Z"
   },
   {
    "duration": 8,
    "start_time": "2022-12-17T14:56:35.966Z"
   },
   {
    "duration": 8,
    "start_time": "2022-12-17T14:56:35.975Z"
   },
   {
    "duration": 13,
    "start_time": "2022-12-17T14:56:35.985Z"
   },
   {
    "duration": 10,
    "start_time": "2022-12-17T14:56:35.999Z"
   },
   {
    "duration": 5,
    "start_time": "2022-12-17T14:56:36.011Z"
   },
   {
    "duration": 6,
    "start_time": "2022-12-17T14:56:36.018Z"
   },
   {
    "duration": 5,
    "start_time": "2022-12-17T14:56:36.026Z"
   },
   {
    "duration": 5,
    "start_time": "2022-12-17T14:56:36.055Z"
   },
   {
    "duration": 12,
    "start_time": "2022-12-17T14:56:36.062Z"
   },
   {
    "duration": 15,
    "start_time": "2022-12-17T14:56:36.076Z"
   },
   {
    "duration": 15,
    "start_time": "2022-12-17T14:56:36.092Z"
   },
   {
    "duration": 12,
    "start_time": "2022-12-17T14:56:36.108Z"
   },
   {
    "duration": 74,
    "start_time": "2022-12-17T14:56:36.122Z"
   },
   {
    "duration": 3,
    "start_time": "2022-12-17T14:56:36.198Z"
   },
   {
    "duration": 10,
    "start_time": "2022-12-17T14:56:36.202Z"
   },
   {
    "duration": 13,
    "start_time": "2022-12-17T14:56:36.213Z"
   },
   {
    "duration": 6,
    "start_time": "2022-12-17T14:56:36.228Z"
   },
   {
    "duration": 20,
    "start_time": "2022-12-17T14:56:36.236Z"
   },
   {
    "duration": 18,
    "start_time": "2022-12-17T14:56:36.257Z"
   },
   {
    "duration": 8,
    "start_time": "2022-12-17T14:56:36.277Z"
   },
   {
    "duration": 177,
    "start_time": "2022-12-17T14:56:36.289Z"
   },
   {
    "duration": 137,
    "start_time": "2022-12-17T14:56:36.467Z"
   },
   {
    "duration": 8,
    "start_time": "2022-12-17T14:56:36.606Z"
   },
   {
    "duration": 13,
    "start_time": "2022-12-17T14:56:36.616Z"
   },
   {
    "duration": 11,
    "start_time": "2022-12-17T14:56:36.631Z"
   },
   {
    "duration": 14,
    "start_time": "2022-12-17T14:56:36.644Z"
   },
   {
    "duration": 310,
    "start_time": "2022-12-17T14:56:36.660Z"
   },
   {
    "duration": 5,
    "start_time": "2022-12-17T14:56:36.972Z"
   },
   {
    "duration": 7,
    "start_time": "2022-12-17T14:56:36.979Z"
   },
   {
    "duration": 7,
    "start_time": "2022-12-17T14:56:36.987Z"
   },
   {
    "duration": 229,
    "start_time": "2022-12-17T14:56:36.995Z"
   },
   {
    "duration": 7,
    "start_time": "2022-12-17T14:56:37.226Z"
   },
   {
    "duration": 335,
    "start_time": "2022-12-17T14:56:37.235Z"
   },
   {
    "duration": 4,
    "start_time": "2022-12-17T14:56:37.572Z"
   },
   {
    "duration": 8,
    "start_time": "2022-12-17T14:56:37.578Z"
   },
   {
    "duration": 11,
    "start_time": "2022-12-17T14:56:37.588Z"
   },
   {
    "duration": 317,
    "start_time": "2022-12-17T14:56:37.601Z"
   },
   {
    "duration": 10,
    "start_time": "2022-12-17T14:56:37.921Z"
   },
   {
    "duration": 347,
    "start_time": "2022-12-17T14:56:37.933Z"
   },
   {
    "duration": 7,
    "start_time": "2022-12-17T14:56:38.282Z"
   },
   {
    "duration": 9,
    "start_time": "2022-12-17T14:56:38.291Z"
   },
   {
    "duration": 184,
    "start_time": "2022-12-17T14:56:38.302Z"
   },
   {
    "duration": 4,
    "start_time": "2022-12-17T14:56:38.488Z"
   },
   {
    "duration": 10,
    "start_time": "2022-12-17T14:56:38.494Z"
   },
   {
    "duration": 177,
    "start_time": "2022-12-17T14:56:38.506Z"
   },
   {
    "duration": 6,
    "start_time": "2022-12-17T14:56:38.685Z"
   },
   {
    "duration": 19,
    "start_time": "2022-12-17T14:56:38.693Z"
   },
   {
    "duration": 5,
    "start_time": "2022-12-17T14:56:38.713Z"
   },
   {
    "duration": 179,
    "start_time": "2022-12-17T14:56:38.720Z"
   },
   {
    "duration": 4,
    "start_time": "2022-12-17T14:56:38.901Z"
   },
   {
    "duration": 241,
    "start_time": "2022-12-17T14:56:38.907Z"
   },
   {
    "duration": 25,
    "start_time": "2022-12-17T14:56:39.150Z"
   },
   {
    "duration": 12,
    "start_time": "2022-12-17T14:56:39.177Z"
   },
   {
    "duration": 191,
    "start_time": "2022-12-17T14:56:39.191Z"
   },
   {
    "duration": 11,
    "start_time": "2022-12-17T14:56:39.384Z"
   },
   {
    "duration": 32,
    "start_time": "2022-12-17T14:56:39.397Z"
   },
   {
    "duration": 29,
    "start_time": "2022-12-17T14:56:39.431Z"
   },
   {
    "duration": 10,
    "start_time": "2022-12-17T14:56:39.462Z"
   },
   {
    "duration": 8,
    "start_time": "2022-12-17T14:56:39.474Z"
   },
   {
    "duration": 20,
    "start_time": "2022-12-17T14:56:39.484Z"
   },
   {
    "duration": 40,
    "start_time": "2022-12-17T14:56:39.506Z"
   },
   {
    "duration": 18,
    "start_time": "2022-12-17T14:56:39.555Z"
   },
   {
    "duration": 164,
    "start_time": "2022-12-17T14:57:23.754Z"
   },
   {
    "duration": 81,
    "start_time": "2022-12-17T14:57:38.732Z"
   },
   {
    "duration": 75,
    "start_time": "2022-12-17T14:58:00.197Z"
   },
   {
    "duration": 64,
    "start_time": "2022-12-17T14:58:40.592Z"
   },
   {
    "duration": 27,
    "start_time": "2022-12-17T14:58:57.619Z"
   },
   {
    "duration": 63,
    "start_time": "2022-12-17T14:59:04.128Z"
   },
   {
    "duration": 6,
    "start_time": "2022-12-17T14:59:04.805Z"
   },
   {
    "duration": 20,
    "start_time": "2022-12-17T14:59:14.391Z"
   },
   {
    "duration": 7,
    "start_time": "2022-12-17T14:59:30.838Z"
   },
   {
    "duration": 5,
    "start_time": "2022-12-17T15:01:00.703Z"
   },
   {
    "duration": 6,
    "start_time": "2022-12-17T15:01:21.226Z"
   },
   {
    "duration": 11,
    "start_time": "2022-12-17T15:03:09.750Z"
   },
   {
    "duration": 8,
    "start_time": "2022-12-17T15:03:56.547Z"
   },
   {
    "duration": 1121,
    "start_time": "2022-12-17T15:04:06.044Z"
   },
   {
    "duration": 108,
    "start_time": "2022-12-17T15:04:07.168Z"
   },
   {
    "duration": 11,
    "start_time": "2022-12-17T15:04:07.278Z"
   },
   {
    "duration": 11,
    "start_time": "2022-12-17T15:04:07.291Z"
   },
   {
    "duration": 8,
    "start_time": "2022-12-17T15:04:07.304Z"
   },
   {
    "duration": 15,
    "start_time": "2022-12-17T15:04:07.313Z"
   },
   {
    "duration": 16,
    "start_time": "2022-12-17T15:04:07.330Z"
   },
   {
    "duration": 8,
    "start_time": "2022-12-17T15:04:07.354Z"
   },
   {
    "duration": 16,
    "start_time": "2022-12-17T15:04:07.363Z"
   },
   {
    "duration": 15,
    "start_time": "2022-12-17T15:04:07.382Z"
   },
   {
    "duration": 10,
    "start_time": "2022-12-17T15:04:07.399Z"
   },
   {
    "duration": 14,
    "start_time": "2022-12-17T15:04:07.411Z"
   },
   {
    "duration": 16,
    "start_time": "2022-12-17T15:04:07.427Z"
   },
   {
    "duration": 13,
    "start_time": "2022-12-17T15:04:07.446Z"
   },
   {
    "duration": 15,
    "start_time": "2022-12-17T15:04:07.461Z"
   },
   {
    "duration": 7,
    "start_time": "2022-12-17T15:04:07.478Z"
   },
   {
    "duration": 34,
    "start_time": "2022-12-17T15:04:07.487Z"
   },
   {
    "duration": 5,
    "start_time": "2022-12-17T15:04:07.523Z"
   },
   {
    "duration": 13,
    "start_time": "2022-12-17T15:04:07.530Z"
   },
   {
    "duration": 12,
    "start_time": "2022-12-17T15:04:07.545Z"
   },
   {
    "duration": 3,
    "start_time": "2022-12-17T15:04:07.559Z"
   },
   {
    "duration": 7,
    "start_time": "2022-12-17T15:04:07.564Z"
   },
   {
    "duration": 13,
    "start_time": "2022-12-17T15:04:07.573Z"
   },
   {
    "duration": 6,
    "start_time": "2022-12-17T15:04:07.588Z"
   },
   {
    "duration": 10,
    "start_time": "2022-12-17T15:04:07.596Z"
   },
   {
    "duration": 19,
    "start_time": "2022-12-17T15:04:07.608Z"
   },
   {
    "duration": 29,
    "start_time": "2022-12-17T15:04:07.629Z"
   },
   {
    "duration": 211,
    "start_time": "2022-12-17T15:04:07.664Z"
   },
   {
    "duration": 125,
    "start_time": "2022-12-17T15:04:07.876Z"
   },
   {
    "duration": 6,
    "start_time": "2022-12-17T15:04:08.003Z"
   },
   {
    "duration": 12,
    "start_time": "2022-12-17T15:04:08.010Z"
   },
   {
    "duration": 8,
    "start_time": "2022-12-17T15:04:08.024Z"
   },
   {
    "duration": 6,
    "start_time": "2022-12-17T15:04:08.034Z"
   },
   {
    "duration": 337,
    "start_time": "2022-12-17T15:04:08.041Z"
   },
   {
    "duration": 4,
    "start_time": "2022-12-17T15:04:08.380Z"
   },
   {
    "duration": 8,
    "start_time": "2022-12-17T15:04:08.386Z"
   },
   {
    "duration": 7,
    "start_time": "2022-12-17T15:04:08.395Z"
   },
   {
    "duration": 246,
    "start_time": "2022-12-17T15:04:08.404Z"
   },
   {
    "duration": 9,
    "start_time": "2022-12-17T15:04:08.654Z"
   },
   {
    "duration": 338,
    "start_time": "2022-12-17T15:04:08.665Z"
   },
   {
    "duration": 4,
    "start_time": "2022-12-17T15:04:09.006Z"
   },
   {
    "duration": 9,
    "start_time": "2022-12-17T15:04:09.012Z"
   },
   {
    "duration": 6,
    "start_time": "2022-12-17T15:04:09.023Z"
   },
   {
    "duration": 291,
    "start_time": "2022-12-17T15:04:09.031Z"
   },
   {
    "duration": 8,
    "start_time": "2022-12-17T15:04:09.324Z"
   },
   {
    "duration": 341,
    "start_time": "2022-12-17T15:04:09.334Z"
   },
   {
    "duration": 6,
    "start_time": "2022-12-17T15:04:09.676Z"
   },
   {
    "duration": 4,
    "start_time": "2022-12-17T15:04:09.684Z"
   },
   {
    "duration": 172,
    "start_time": "2022-12-17T15:04:09.689Z"
   },
   {
    "duration": 6,
    "start_time": "2022-12-17T15:04:09.862Z"
   },
   {
    "duration": 10,
    "start_time": "2022-12-17T15:04:09.870Z"
   },
   {
    "duration": 186,
    "start_time": "2022-12-17T15:04:09.882Z"
   },
   {
    "duration": 6,
    "start_time": "2022-12-17T15:04:10.070Z"
   },
   {
    "duration": 8,
    "start_time": "2022-12-17T15:04:10.078Z"
   },
   {
    "duration": 8,
    "start_time": "2022-12-17T15:04:10.088Z"
   },
   {
    "duration": 187,
    "start_time": "2022-12-17T15:04:10.097Z"
   },
   {
    "duration": 5,
    "start_time": "2022-12-17T15:04:10.286Z"
   },
   {
    "duration": 235,
    "start_time": "2022-12-17T15:04:10.293Z"
   },
   {
    "duration": 35,
    "start_time": "2022-12-17T15:04:10.530Z"
   },
   {
    "duration": 12,
    "start_time": "2022-12-17T15:04:10.567Z"
   },
   {
    "duration": 163,
    "start_time": "2022-12-17T15:04:10.581Z"
   },
   {
    "duration": 11,
    "start_time": "2022-12-17T15:04:10.746Z"
   },
   {
    "duration": 40,
    "start_time": "2022-12-17T15:04:10.758Z"
   },
   {
    "duration": 14,
    "start_time": "2022-12-17T15:04:10.800Z"
   },
   {
    "duration": 9,
    "start_time": "2022-12-17T15:04:10.816Z"
   },
   {
    "duration": 29,
    "start_time": "2022-12-17T15:04:10.826Z"
   },
   {
    "duration": 9,
    "start_time": "2022-12-17T15:04:10.857Z"
   },
   {
    "duration": 27,
    "start_time": "2022-12-17T15:04:10.868Z"
   },
   {
    "duration": 14,
    "start_time": "2022-12-17T15:04:10.897Z"
   },
   {
    "duration": 99,
    "start_time": "2022-12-17T15:04:50.112Z"
   },
   {
    "duration": 10,
    "start_time": "2022-12-17T15:05:08.781Z"
   },
   {
    "duration": 9,
    "start_time": "2022-12-17T15:05:32.158Z"
   },
   {
    "duration": 1056,
    "start_time": "2022-12-17T15:06:15.074Z"
   },
   {
    "duration": 133,
    "start_time": "2022-12-17T15:06:17.115Z"
   },
   {
    "duration": 10,
    "start_time": "2022-12-17T15:06:17.993Z"
   },
   {
    "duration": 12,
    "start_time": "2022-12-17T15:06:18.933Z"
   },
   {
    "duration": 5,
    "start_time": "2022-12-17T15:06:21.921Z"
   },
   {
    "duration": 8,
    "start_time": "2022-12-17T15:06:23.595Z"
   },
   {
    "duration": 12,
    "start_time": "2022-12-17T15:06:24.133Z"
   },
   {
    "duration": 7,
    "start_time": "2022-12-17T15:06:26.552Z"
   },
   {
    "duration": 8,
    "start_time": "2022-12-17T15:06:27.093Z"
   },
   {
    "duration": 11,
    "start_time": "2022-12-17T15:06:27.663Z"
   },
   {
    "duration": 6,
    "start_time": "2022-12-17T15:06:30.257Z"
   },
   {
    "duration": 4,
    "start_time": "2022-12-17T15:06:31.871Z"
   },
   {
    "duration": 4,
    "start_time": "2022-12-17T15:06:34.424Z"
   },
   {
    "duration": 5,
    "start_time": "2022-12-17T15:06:34.771Z"
   },
   {
    "duration": 4,
    "start_time": "2022-12-17T15:06:35.349Z"
   },
   {
    "duration": 7,
    "start_time": "2022-12-17T15:06:35.910Z"
   },
   {
    "duration": 15,
    "start_time": "2022-12-17T15:06:36.841Z"
   },
   {
    "duration": 4,
    "start_time": "2022-12-17T15:06:39.403Z"
   },
   {
    "duration": 11,
    "start_time": "2022-12-17T15:06:40.349Z"
   },
   {
    "duration": 8,
    "start_time": "2022-12-17T15:06:42.113Z"
   },
   {
    "duration": 103,
    "start_time": "2022-12-17T15:06:42.841Z"
   },
   {
    "duration": 13,
    "start_time": "2022-12-17T15:06:48.395Z"
   },
   {
    "duration": 5,
    "start_time": "2022-12-17T15:06:57.826Z"
   },
   {
    "duration": 5,
    "start_time": "2022-12-17T15:07:08.194Z"
   },
   {
    "duration": 5,
    "start_time": "2022-12-17T15:07:19.956Z"
   },
   {
    "duration": 790,
    "start_time": "2022-12-17T15:07:33.567Z"
   },
   {
    "duration": 5,
    "start_time": "2022-12-17T15:07:40.679Z"
   },
   {
    "duration": 6,
    "start_time": "2022-12-17T15:07:48.881Z"
   },
   {
    "duration": 3,
    "start_time": "2022-12-17T15:11:01.431Z"
   },
   {
    "duration": 7,
    "start_time": "2022-12-17T15:11:02.171Z"
   },
   {
    "duration": 13,
    "start_time": "2022-12-17T15:11:02.890Z"
   },
   {
    "duration": 4,
    "start_time": "2022-12-17T15:11:07.237Z"
   },
   {
    "duration": 5,
    "start_time": "2022-12-17T15:11:08.689Z"
   },
   {
    "duration": 15,
    "start_time": "2022-12-17T15:11:09.675Z"
   },
   {
    "duration": 5,
    "start_time": "2022-12-17T15:11:16.339Z"
   },
   {
    "duration": 171,
    "start_time": "2022-12-17T15:11:19.224Z"
   },
   {
    "duration": 118,
    "start_time": "2022-12-17T15:11:20.094Z"
   },
   {
    "duration": 7,
    "start_time": "2022-12-17T15:11:22.188Z"
   },
   {
    "duration": 3,
    "start_time": "2022-12-17T15:11:22.656Z"
   },
   {
    "duration": 5,
    "start_time": "2022-12-17T15:11:23.184Z"
   },
   {
    "duration": 5,
    "start_time": "2022-12-17T15:11:23.657Z"
   },
   {
    "duration": 308,
    "start_time": "2022-12-17T15:11:25.040Z"
   },
   {
    "duration": 5,
    "start_time": "2022-12-17T15:11:36.092Z"
   },
   {
    "duration": 5,
    "start_time": "2022-12-17T15:11:38.608Z"
   },
   {
    "duration": 5,
    "start_time": "2022-12-17T15:11:39.116Z"
   },
   {
    "duration": 235,
    "start_time": "2022-12-17T15:11:40.013Z"
   },
   {
    "duration": 8,
    "start_time": "2022-12-17T15:12:38.498Z"
   },
   {
    "duration": 317,
    "start_time": "2022-12-17T15:12:39.418Z"
   },
   {
    "duration": 4,
    "start_time": "2022-12-17T15:13:01.189Z"
   },
   {
    "duration": 5,
    "start_time": "2022-12-17T15:13:01.717Z"
   },
   {
    "duration": 4,
    "start_time": "2022-12-17T15:13:02.202Z"
   },
   {
    "duration": 229,
    "start_time": "2022-12-17T15:13:02.894Z"
   },
   {
    "duration": 8,
    "start_time": "2022-12-17T15:13:17.148Z"
   },
   {
    "duration": 392,
    "start_time": "2022-12-17T15:13:17.671Z"
   },
   {
    "duration": 6,
    "start_time": "2022-12-17T15:13:26.015Z"
   },
   {
    "duration": 4,
    "start_time": "2022-12-17T15:13:26.538Z"
   },
   {
    "duration": 180,
    "start_time": "2022-12-17T15:13:27.217Z"
   },
   {
    "duration": 4,
    "start_time": "2022-12-17T15:14:04.003Z"
   },
   {
    "duration": 4,
    "start_time": "2022-12-17T15:14:37.315Z"
   },
   {
    "duration": 166,
    "start_time": "2022-12-17T15:14:38.040Z"
   },
   {
    "duration": 7,
    "start_time": "2022-12-17T15:14:44.552Z"
   },
   {
    "duration": 5,
    "start_time": "2022-12-17T15:14:47.202Z"
   },
   {
    "duration": 4,
    "start_time": "2022-12-17T15:14:47.673Z"
   },
   {
    "duration": 159,
    "start_time": "2022-12-17T15:14:48.357Z"
   },
   {
    "duration": 5,
    "start_time": "2022-12-17T15:14:59.386Z"
   },
   {
    "duration": 200,
    "start_time": "2022-12-17T15:15:32.783Z"
   },
   {
    "duration": 27,
    "start_time": "2022-12-17T15:15:33.956Z"
   },
   {
    "duration": 14,
    "start_time": "2022-12-17T15:15:34.614Z"
   },
   {
    "duration": 136,
    "start_time": "2022-12-17T15:15:37.823Z"
   },
   {
    "duration": 10,
    "start_time": "2022-12-17T15:15:38.355Z"
   },
   {
    "duration": 23,
    "start_time": "2022-12-17T15:15:42.386Z"
   },
   {
    "duration": 12,
    "start_time": "2022-12-17T15:16:05.809Z"
   },
   {
    "duration": 10,
    "start_time": "2022-12-17T15:23:20.348Z"
   },
   {
    "duration": 2,
    "start_time": "2022-12-17T15:23:22.418Z"
   },
   {
    "duration": 9,
    "start_time": "2022-12-17T15:23:25.887Z"
   },
   {
    "duration": 26,
    "start_time": "2022-12-17T15:23:27.812Z"
   },
   {
    "duration": 16,
    "start_time": "2022-12-17T15:26:58.582Z"
   },
   {
    "duration": 1016,
    "start_time": "2022-12-18T09:19:03.226Z"
   },
   {
    "duration": 284,
    "start_time": "2022-12-18T09:19:04.245Z"
   },
   {
    "duration": 15,
    "start_time": "2022-12-18T09:19:04.536Z"
   },
   {
    "duration": 14,
    "start_time": "2022-12-18T09:19:04.554Z"
   },
   {
    "duration": 8,
    "start_time": "2022-12-18T09:19:04.571Z"
   },
   {
    "duration": 13,
    "start_time": "2022-12-18T09:19:04.581Z"
   },
   {
    "duration": 17,
    "start_time": "2022-12-18T09:19:04.596Z"
   },
   {
    "duration": 8,
    "start_time": "2022-12-18T09:19:04.615Z"
   },
   {
    "duration": 10,
    "start_time": "2022-12-18T09:19:04.625Z"
   },
   {
    "duration": 11,
    "start_time": "2022-12-18T09:19:04.636Z"
   },
   {
    "duration": 6,
    "start_time": "2022-12-18T09:19:04.649Z"
   },
   {
    "duration": 7,
    "start_time": "2022-12-18T09:19:04.656Z"
   },
   {
    "duration": 6,
    "start_time": "2022-12-18T09:19:04.665Z"
   },
   {
    "duration": 39,
    "start_time": "2022-12-18T09:19:04.673Z"
   },
   {
    "duration": 8,
    "start_time": "2022-12-18T09:19:04.714Z"
   },
   {
    "duration": 10,
    "start_time": "2022-12-18T09:19:04.723Z"
   },
   {
    "duration": 14,
    "start_time": "2022-12-18T09:19:04.735Z"
   },
   {
    "duration": 5,
    "start_time": "2022-12-18T09:19:04.751Z"
   },
   {
    "duration": 13,
    "start_time": "2022-12-18T09:19:04.757Z"
   },
   {
    "duration": 13,
    "start_time": "2022-12-18T09:19:04.772Z"
   },
   {
    "duration": 6,
    "start_time": "2022-12-18T09:19:04.787Z"
   },
   {
    "duration": 10,
    "start_time": "2022-12-18T09:19:04.812Z"
   },
   {
    "duration": 23,
    "start_time": "2022-12-18T09:19:04.824Z"
   },
   {
    "duration": 5,
    "start_time": "2022-12-18T09:19:04.849Z"
   },
   {
    "duration": 15,
    "start_time": "2022-12-18T09:19:04.856Z"
   },
   {
    "duration": 22,
    "start_time": "2022-12-18T09:19:04.873Z"
   },
   {
    "duration": 5,
    "start_time": "2022-12-18T09:19:04.896Z"
   },
   {
    "duration": 6,
    "start_time": "2022-12-18T09:19:04.902Z"
   },
   {
    "duration": 21,
    "start_time": "2022-12-18T09:19:04.910Z"
   },
   {
    "duration": 23,
    "start_time": "2022-12-18T09:19:04.933Z"
   },
   {
    "duration": 195,
    "start_time": "2022-12-18T09:19:04.958Z"
   },
   {
    "duration": 128,
    "start_time": "2022-12-18T09:19:05.154Z"
   },
   {
    "duration": 5,
    "start_time": "2022-12-18T09:19:05.284Z"
   },
   {
    "duration": 8,
    "start_time": "2022-12-18T09:19:05.291Z"
   },
   {
    "duration": 15,
    "start_time": "2022-12-18T09:19:05.300Z"
   },
   {
    "duration": 13,
    "start_time": "2022-12-18T09:19:05.316Z"
   },
   {
    "duration": 333,
    "start_time": "2022-12-18T09:19:05.330Z"
   },
   {
    "duration": 4,
    "start_time": "2022-12-18T09:19:05.665Z"
   },
   {
    "duration": 7,
    "start_time": "2022-12-18T09:19:05.671Z"
   },
   {
    "duration": 8,
    "start_time": "2022-12-18T09:19:05.679Z"
   },
   {
    "duration": 313,
    "start_time": "2022-12-18T09:19:05.691Z"
   },
   {
    "duration": 10,
    "start_time": "2022-12-18T09:19:06.006Z"
   },
   {
    "duration": 331,
    "start_time": "2022-12-18T09:19:06.017Z"
   },
   {
    "duration": 4,
    "start_time": "2022-12-18T09:19:06.350Z"
   },
   {
    "duration": 10,
    "start_time": "2022-12-18T09:19:06.357Z"
   },
   {
    "duration": 17,
    "start_time": "2022-12-18T09:19:06.369Z"
   },
   {
    "duration": 324,
    "start_time": "2022-12-18T09:19:06.388Z"
   },
   {
    "duration": 11,
    "start_time": "2022-12-18T09:19:06.714Z"
   },
   {
    "duration": 300,
    "start_time": "2022-12-18T09:19:06.727Z"
   },
   {
    "duration": 7,
    "start_time": "2022-12-18T09:19:07.029Z"
   },
   {
    "duration": 9,
    "start_time": "2022-12-18T09:19:07.038Z"
   },
   {
    "duration": 198,
    "start_time": "2022-12-18T09:19:07.048Z"
   },
   {
    "duration": 5,
    "start_time": "2022-12-18T09:19:07.247Z"
   },
   {
    "duration": 8,
    "start_time": "2022-12-18T09:19:07.253Z"
   },
   {
    "duration": 193,
    "start_time": "2022-12-18T09:19:07.262Z"
   },
   {
    "duration": 8,
    "start_time": "2022-12-18T09:19:07.457Z"
   },
   {
    "duration": 8,
    "start_time": "2022-12-18T09:19:07.467Z"
   },
   {
    "duration": 10,
    "start_time": "2022-12-18T09:19:07.477Z"
   },
   {
    "duration": 204,
    "start_time": "2022-12-18T09:19:07.511Z"
   },
   {
    "duration": 4,
    "start_time": "2022-12-18T09:19:07.717Z"
   },
   {
    "duration": 230,
    "start_time": "2022-12-18T09:19:07.724Z"
   },
   {
    "duration": 20,
    "start_time": "2022-12-18T09:19:07.956Z"
   },
   {
    "duration": 11,
    "start_time": "2022-12-18T09:19:07.977Z"
   },
   {
    "duration": 145,
    "start_time": "2022-12-18T09:19:07.989Z"
   },
   {
    "duration": 7,
    "start_time": "2022-12-18T09:19:08.136Z"
   },
   {
    "duration": 27,
    "start_time": "2022-12-18T09:19:08.144Z"
   },
   {
    "duration": 39,
    "start_time": "2022-12-18T09:19:08.173Z"
   },
   {
    "duration": 12,
    "start_time": "2022-12-18T09:19:08.215Z"
   },
   {
    "duration": 18,
    "start_time": "2022-12-18T09:19:08.229Z"
   },
   {
    "duration": 12,
    "start_time": "2022-12-18T09:19:08.249Z"
   },
   {
    "duration": 23,
    "start_time": "2022-12-18T09:19:08.263Z"
   },
   {
    "duration": 31,
    "start_time": "2022-12-18T09:19:08.288Z"
   }
  ],
  "kernelspec": {
   "display_name": "Python 3 (ipykernel)",
   "language": "python",
   "name": "python3"
  },
  "language_info": {
   "codemirror_mode": {
    "name": "ipython",
    "version": 3
   },
   "file_extension": ".py",
   "mimetype": "text/x-python",
   "name": "python",
   "nbconvert_exporter": "python",
   "pygments_lexer": "ipython3",
   "version": "3.8.6"
  },
  "toc": {
   "base_numbering": 1,
   "nav_menu": {},
   "number_sections": true,
   "sideBar": true,
   "skip_h1_title": true,
   "title_cell": "Table of Contents",
   "title_sidebar": "Contents",
   "toc_cell": false,
   "toc_position": {
    "height": "735px",
    "left": "43px",
    "top": "111.125px",
    "width": "292px"
   },
   "toc_section_display": true,
   "toc_window_display": true
  }
 },
 "nbformat": 4,
 "nbformat_minor": 2
}
