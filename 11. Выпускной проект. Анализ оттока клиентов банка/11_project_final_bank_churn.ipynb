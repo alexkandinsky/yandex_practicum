{
 "cells": [
  {
   "cell_type": "markdown",
   "metadata": {},
   "source": [
    "# Проект: Анализ оттока клиентов банка «Метанпром» #"
   ]
  },
  {
   "cell_type": "markdown",
   "metadata": {},
   "source": [
    "## Описание проекта: ##\n",
    "\n",
    "Проанализируйте клиентов банка «Метанпром» и выделите портреты клиентов, которые склонны уходить из банка.<br>\n",
    "Банк расположен в Ярославле, Ростов Великий и Рыбинск.\n",
    "\n",
    "<b>Заказчик</b>: Отдел маркетинга.\n",
    "\n",
    "<b>Цели исследования</b>: Необходимо предоставить рекомендации по минимизации оттока клиентов банка на основе проведенного анализа.\n",
    "\n",
    "<b>Задачи исследования</b>:\n",
    "- Провести предобработку и исследовательский анализ данных;\n",
    "- Выделить портрет клиентов, которые склонны уходить из банка;\n",
    "- Сформулировать и проверить ряд статистических гипотез;\n",
    "- Конкретезировать общий вывод и дать необходимые рекомендации;\n",
    "- Построить визуализацию (презентация и дашборд) на основе общего вывода."
   ]
  },
  {
   "cell_type": "markdown",
   "metadata": {},
   "source": [
    "### Описание данных: ###\n",
    "- <b>userid</b> — идентификатор пользователя;\n",
    "- <b>score</b> — баллы кредитного скоринга;\n",
    "- <b>City</b> — город;\n",
    "- <b>Gender</b> — пол;\n",
    "- <b>Age</b> — возраст;\n",
    "- <b>Objects</b> — количество объектов в собственности;\n",
    "- <b>Balance</b> — баланс на счёте;\n",
    "- <b>Products</b> — количество продуктов, которыми пользуется клиент;\n",
    "- <b>CreditCard</b> — есть ли кредитная карта;\n",
    "- <b>Loyalty</b> — активный клиент;\n",
    "- <b>estimated_salary</b> — заработная плата клиента;\n",
    "- <b>Churn</b> — ушёл или нет."
   ]
  },
  {
   "cell_type": "markdown",
   "metadata": {},
   "source": [
    "### План выполнения проекта: ###\n",
    "\n",
    "<b>Шаг 1</b>. Загрузим файл с данными и изучим общую информацию.\n",
    "\n",
    "<b>Шаг 2</b>. Подготовим данные.\n",
    "- Исправим нарушения стиля в наименовании столбцов ;\n",
    "- Проверим пропуски и типы данных. Откорректируем, если это потребуется;\n",
    "- Проверим данные на дубликаты.\n",
    "\n",
    "<b>Шаг 3</b>. Изучим и проверим данные.\n",
    "- Проведем анализ средний значений признаков и стандартного отклонения;\n",
    "- Построим гистограммы распределения для каждого признака;\n",
    "- Построим матрицу корреляции.\n",
    "\n",
    "<b>Шаг 4</b>. Выведение портрета клиентов, которые склонны и не склонны оттоку.\n",
    "\n",
    "<b>Шаг 5</b>. Проверка гипотез.\n",
    "- Различие дохода между теми клиентами, которые ушли и теми,которые остались;\n",
    "- Различие возраста между теми клиентами, которые ушли и теми, которые остались;\n",
    "- Различие кредитного скоринга между теми клиентами, которые ушли и теми, которые остались.\n",
    "\n",
    "<b>Шаг 6</b>. Общий вывод и рекомендации.\n",
    "\n",
    "<b>Шаг 7</b>. Презентация:\n",
    "- Цели исследования;\n",
    "- Общие выводы по исследованию;\n",
    "- Рекомендации;\n",
    "- Распределение количественных признаков;\n",
    "- Распределение категориальных признаков;\n",
    "- Связь признаков между собой;\n",
    "- Портреты клиентов склонных и не склонных к оттоку по городам;\n",
    "- Результаты проверки ряда гипотез;\n",
    "- Контакты для связи.\n"
   ]
  },
  {
   "cell_type": "markdown",
   "metadata": {},
   "source": [
    "## Шаг 1. Загрузим файл с данными и изучим общую информацию. ##"
   ]
  },
  {
   "cell_type": "code",
   "execution_count": 1,
   "metadata": {},
   "outputs": [],
   "source": [
    "# импорт необходимых для работы библиотек.\n",
    "import pandas as pd\n",
    "import numpy as np\n",
    "import matplotlib.pyplot as plt\n",
    "import seaborn as sns\n",
    "from scipy import stats as st"
   ]
  },
  {
   "cell_type": "code",
   "execution_count": 2,
   "metadata": {},
   "outputs": [
    {
     "data": {
      "text/html": [
       "<div>\n",
       "<style scoped>\n",
       "    .dataframe tbody tr th:only-of-type {\n",
       "        vertical-align: middle;\n",
       "    }\n",
       "\n",
       "    .dataframe tbody tr th {\n",
       "        vertical-align: top;\n",
       "    }\n",
       "\n",
       "    .dataframe thead th {\n",
       "        text-align: right;\n",
       "    }\n",
       "</style>\n",
       "<table border=\"1\" class=\"dataframe\">\n",
       "  <thead>\n",
       "    <tr style=\"text-align: right;\">\n",
       "      <th></th>\n",
       "      <th>userid</th>\n",
       "      <th>score</th>\n",
       "      <th>City</th>\n",
       "      <th>Gender</th>\n",
       "      <th>Age</th>\n",
       "      <th>Objects</th>\n",
       "      <th>Balance</th>\n",
       "      <th>Products</th>\n",
       "      <th>CreditCard</th>\n",
       "      <th>Loyalty</th>\n",
       "      <th>estimated_salary</th>\n",
       "      <th>Churn</th>\n",
       "    </tr>\n",
       "  </thead>\n",
       "  <tbody>\n",
       "    <tr>\n",
       "      <th>0</th>\n",
       "      <td>15677338</td>\n",
       "      <td>619</td>\n",
       "      <td>Ярославль</td>\n",
       "      <td>Ж</td>\n",
       "      <td>42</td>\n",
       "      <td>2</td>\n",
       "      <td>NaN</td>\n",
       "      <td>1</td>\n",
       "      <td>1</td>\n",
       "      <td>1</td>\n",
       "      <td>101348.88</td>\n",
       "      <td>1</td>\n",
       "    </tr>\n",
       "    <tr>\n",
       "      <th>1</th>\n",
       "      <td>15690047</td>\n",
       "      <td>608</td>\n",
       "      <td>Рыбинск</td>\n",
       "      <td>Ж</td>\n",
       "      <td>41</td>\n",
       "      <td>1</td>\n",
       "      <td>83807.86</td>\n",
       "      <td>1</td>\n",
       "      <td>0</td>\n",
       "      <td>1</td>\n",
       "      <td>112542.58</td>\n",
       "      <td>0</td>\n",
       "    </tr>\n",
       "    <tr>\n",
       "      <th>2</th>\n",
       "      <td>15662040</td>\n",
       "      <td>502</td>\n",
       "      <td>Ярославль</td>\n",
       "      <td>Ж</td>\n",
       "      <td>42</td>\n",
       "      <td>8</td>\n",
       "      <td>159660.80</td>\n",
       "      <td>3</td>\n",
       "      <td>1</td>\n",
       "      <td>0</td>\n",
       "      <td>113931.57</td>\n",
       "      <td>1</td>\n",
       "    </tr>\n",
       "    <tr>\n",
       "      <th>3</th>\n",
       "      <td>15744090</td>\n",
       "      <td>699</td>\n",
       "      <td>Ярославль</td>\n",
       "      <td>Ж</td>\n",
       "      <td>39</td>\n",
       "      <td>1</td>\n",
       "      <td>NaN</td>\n",
       "      <td>2</td>\n",
       "      <td>0</td>\n",
       "      <td>0</td>\n",
       "      <td>93826.63</td>\n",
       "      <td>0</td>\n",
       "    </tr>\n",
       "    <tr>\n",
       "      <th>4</th>\n",
       "      <td>15780624</td>\n",
       "      <td>850</td>\n",
       "      <td>Рыбинск</td>\n",
       "      <td>Ж</td>\n",
       "      <td>43</td>\n",
       "      <td>2</td>\n",
       "      <td>125510.82</td>\n",
       "      <td>1</td>\n",
       "      <td>1</td>\n",
       "      <td>1</td>\n",
       "      <td>79084.10</td>\n",
       "      <td>0</td>\n",
       "    </tr>\n",
       "  </tbody>\n",
       "</table>\n",
       "</div>"
      ],
      "text/plain": [
       "     userid  score       City Gender  Age  Objects    Balance  Products  \\\n",
       "0  15677338    619  Ярославль      Ж   42        2        NaN         1   \n",
       "1  15690047    608    Рыбинск      Ж   41        1   83807.86         1   \n",
       "2  15662040    502  Ярославль      Ж   42        8  159660.80         3   \n",
       "3  15744090    699  Ярославль      Ж   39        1        NaN         2   \n",
       "4  15780624    850    Рыбинск      Ж   43        2  125510.82         1   \n",
       "\n",
       "   CreditCard  Loyalty  estimated_salary  Churn  \n",
       "0           1        1         101348.88      1  \n",
       "1           0        1         112542.58      0  \n",
       "2           1        0         113931.57      1  \n",
       "3           0        0          93826.63      0  \n",
       "4           1        1          79084.10      0  "
      ]
     },
     "execution_count": 2,
     "metadata": {},
     "output_type": "execute_result"
    }
   ],
   "source": [
    "# считываем данные в переменную df и отображаем первые 5 строк датасета.\n",
    "df = pd.read_csv('bank_dataset.csv')\n",
    "df.head()"
   ]
  },
  {
   "cell_type": "code",
   "execution_count": 3,
   "metadata": {},
   "outputs": [
    {
     "name": "stdout",
     "output_type": "stream",
     "text": [
      "<class 'pandas.core.frame.DataFrame'>\n",
      "RangeIndex: 10000 entries, 0 to 9999\n",
      "Data columns (total 12 columns):\n",
      " #   Column            Non-Null Count  Dtype  \n",
      "---  ------            --------------  -----  \n",
      " 0   userid            10000 non-null  int64  \n",
      " 1   score             10000 non-null  int64  \n",
      " 2   City              10000 non-null  object \n",
      " 3   Gender            10000 non-null  object \n",
      " 4   Age               10000 non-null  int64  \n",
      " 5   Objects           10000 non-null  int64  \n",
      " 6   Balance           6383 non-null   float64\n",
      " 7   Products          10000 non-null  int64  \n",
      " 8   CreditCard        10000 non-null  int64  \n",
      " 9   Loyalty           10000 non-null  int64  \n",
      " 10  estimated_salary  10000 non-null  float64\n",
      " 11  Churn             10000 non-null  int64  \n",
      "dtypes: float64(2), int64(8), object(2)\n",
      "memory usage: 937.6+ KB\n"
     ]
    }
   ],
   "source": [
    "# выведем общую информацию о датасете.\n",
    "df.info()"
   ]
  },
  {
   "cell_type": "markdown",
   "metadata": {},
   "source": [
    "<span style='color:#00541F'><b>ВЫВОД ПО РАЗДЕЛУ:</b></span><br>\n",
    "- Файл с данными имеет <b>10000</b> строк и <b>12</b> столбцов с данными клиентов;\n",
    "- В названии столбцов присутствует нарушение стиля (необходим нижний регистр и snake_case);\n",
    "- В столбце *Balance* обнаружены многочисленные пропуски, в остальных столбцах пропуски отсутствуют;\n",
    "- Типы данных вполне корректны, соотвествуют значениям столбцов.\n",
    "\n",
    "На этапе предобработки данных стоят следующие задачи:\n",
    "- Скорректировать название столбцов на общепринятый и корректный стиль;\n",
    "- Изучить столбец *Balance* и принять решение о работе с пропусками;\n",
    "- Проверить наличие дубликатов в данных;\n",
    "- Провести категоризацию клиентов по кредитному рейтингу, возрасту, количеству объектов, балансу на счёте и заработной плате."
   ]
  },
  {
   "cell_type": "markdown",
   "metadata": {},
   "source": [
    "## Шаг 2. Подготовим данные. ##"
   ]
  },
  {
   "cell_type": "code",
   "execution_count": 4,
   "metadata": {},
   "outputs": [],
   "source": [
    "# преобразуем название столбцов к нижнему регистру.\n",
    "df.columns = df.columns.str.lower()"
   ]
  },
  {
   "cell_type": "code",
   "execution_count": 5,
   "metadata": {},
   "outputs": [
    {
     "data": {
      "text/html": [
       "<div>\n",
       "<style scoped>\n",
       "    .dataframe tbody tr th:only-of-type {\n",
       "        vertical-align: middle;\n",
       "    }\n",
       "\n",
       "    .dataframe tbody tr th {\n",
       "        vertical-align: top;\n",
       "    }\n",
       "\n",
       "    .dataframe thead th {\n",
       "        text-align: right;\n",
       "    }\n",
       "</style>\n",
       "<table border=\"1\" class=\"dataframe\">\n",
       "  <thead>\n",
       "    <tr style=\"text-align: right;\">\n",
       "      <th></th>\n",
       "      <th>user_id</th>\n",
       "      <th>score</th>\n",
       "      <th>city</th>\n",
       "      <th>gender</th>\n",
       "      <th>age</th>\n",
       "      <th>objects</th>\n",
       "      <th>balance</th>\n",
       "      <th>products</th>\n",
       "      <th>credit_card</th>\n",
       "      <th>loyalty</th>\n",
       "      <th>estimated_salary</th>\n",
       "      <th>churn</th>\n",
       "    </tr>\n",
       "  </thead>\n",
       "  <tbody>\n",
       "    <tr>\n",
       "      <th>0</th>\n",
       "      <td>15677338</td>\n",
       "      <td>619</td>\n",
       "      <td>Ярославль</td>\n",
       "      <td>Ж</td>\n",
       "      <td>42</td>\n",
       "      <td>2</td>\n",
       "      <td>NaN</td>\n",
       "      <td>1</td>\n",
       "      <td>1</td>\n",
       "      <td>1</td>\n",
       "      <td>101348.88</td>\n",
       "      <td>1</td>\n",
       "    </tr>\n",
       "    <tr>\n",
       "      <th>1</th>\n",
       "      <td>15690047</td>\n",
       "      <td>608</td>\n",
       "      <td>Рыбинск</td>\n",
       "      <td>Ж</td>\n",
       "      <td>41</td>\n",
       "      <td>1</td>\n",
       "      <td>83807.86</td>\n",
       "      <td>1</td>\n",
       "      <td>0</td>\n",
       "      <td>1</td>\n",
       "      <td>112542.58</td>\n",
       "      <td>0</td>\n",
       "    </tr>\n",
       "    <tr>\n",
       "      <th>2</th>\n",
       "      <td>15662040</td>\n",
       "      <td>502</td>\n",
       "      <td>Ярославль</td>\n",
       "      <td>Ж</td>\n",
       "      <td>42</td>\n",
       "      <td>8</td>\n",
       "      <td>159660.80</td>\n",
       "      <td>3</td>\n",
       "      <td>1</td>\n",
       "      <td>0</td>\n",
       "      <td>113931.57</td>\n",
       "      <td>1</td>\n",
       "    </tr>\n",
       "    <tr>\n",
       "      <th>3</th>\n",
       "      <td>15744090</td>\n",
       "      <td>699</td>\n",
       "      <td>Ярославль</td>\n",
       "      <td>Ж</td>\n",
       "      <td>39</td>\n",
       "      <td>1</td>\n",
       "      <td>NaN</td>\n",
       "      <td>2</td>\n",
       "      <td>0</td>\n",
       "      <td>0</td>\n",
       "      <td>93826.63</td>\n",
       "      <td>0</td>\n",
       "    </tr>\n",
       "    <tr>\n",
       "      <th>4</th>\n",
       "      <td>15780624</td>\n",
       "      <td>850</td>\n",
       "      <td>Рыбинск</td>\n",
       "      <td>Ж</td>\n",
       "      <td>43</td>\n",
       "      <td>2</td>\n",
       "      <td>125510.82</td>\n",
       "      <td>1</td>\n",
       "      <td>1</td>\n",
       "      <td>1</td>\n",
       "      <td>79084.10</td>\n",
       "      <td>0</td>\n",
       "    </tr>\n",
       "  </tbody>\n",
       "</table>\n",
       "</div>"
      ],
      "text/plain": [
       "    user_id  score       city gender  age  objects    balance  products  \\\n",
       "0  15677338    619  Ярославль      Ж   42        2        NaN         1   \n",
       "1  15690047    608    Рыбинск      Ж   41        1   83807.86         1   \n",
       "2  15662040    502  Ярославль      Ж   42        8  159660.80         3   \n",
       "3  15744090    699  Ярославль      Ж   39        1        NaN         2   \n",
       "4  15780624    850    Рыбинск      Ж   43        2  125510.82         1   \n",
       "\n",
       "   credit_card  loyalty  estimated_salary  churn  \n",
       "0            1        1         101348.88      1  \n",
       "1            0        1         112542.58      0  \n",
       "2            1        0         113931.57      1  \n",
       "3            0        0          93826.63      0  \n",
       "4            1        1          79084.10      0  "
      ]
     },
     "execution_count": 5,
     "metadata": {},
     "output_type": "execute_result"
    }
   ],
   "source": [
    "# столбцы userid и creditcard приведем к стилю snake_case.\n",
    "df.rename(columns={'userid':'user_id', 'creditcard':'credit_card'}, inplace=True)\n",
    "df.head()"
   ]
  },
  {
   "cell_type": "code",
   "execution_count": 6,
   "metadata": {},
   "outputs": [
    {
     "name": "stdout",
     "output_type": "stream",
     "text": [
      "Кол-во пропусков в столбце balance: 3617\n",
      "Кол-во пропусков в процентном соотношении в столбце balance: 36.17 %\n"
     ]
    }
   ],
   "source": [
    "# посчитаем количество пропусков.\n",
    "print('Кол-во пропусков в столбце balance:', df['balance'].isna().sum())\n",
    "print('Кол-во пропусков в процентном соотношении в столбце balance:', df['balance'].isna().mean()*100,'%')"
   ]
  },
  {
   "cell_type": "code",
   "execution_count": 7,
   "metadata": {},
   "outputs": [
    {
     "data": {
      "text/plain": [
       "count      6383.000000\n",
       "mean     119827.493793\n",
       "std       30095.056462\n",
       "min        3768.690000\n",
       "25%      100181.975000\n",
       "50%      119839.690000\n",
       "75%      139512.290000\n",
       "max      250898.090000\n",
       "Name: balance, dtype: float64"
      ]
     },
     "execution_count": 7,
     "metadata": {},
     "output_type": "execute_result"
    }
   ],
   "source": [
    "# минимальный баланс на счете составляет 3768, что далеко от нулевых показателей.\n",
    "df['balance'].describe()"
   ]
  },
  {
   "cell_type": "code",
   "execution_count": 8,
   "metadata": {},
   "outputs": [
    {
     "data": {
      "text/plain": [
       "array([nan])"
      ]
     },
     "execution_count": 8,
     "metadata": {},
     "output_type": "execute_result"
    }
   ],
   "source": [
    "# проверим содержание пропущенных значений.\n",
    "df[df['balance'].isna()]['balance'].unique()"
   ]
  },
  {
   "cell_type": "code",
   "execution_count": 9,
   "metadata": {},
   "outputs": [
    {
     "data": {
      "image/png": "[encoded data removed]",
      "text/plain": [
       "<Figure size 864x432 with 1 Axes>"
      ]
     },
     "metadata": {
      "needs_background": "light"
     },
     "output_type": "display_data"
    }
   ],
   "source": [
    "# построим гистограмму распределения баланса на счёте.\n",
    "plt.figure(figsize=(12, 6))\n",
    "plt.title('Гистограмма распределения баланса на счёте ', fontsize=18)\n",
    "sns.histplot(df['balance'], bins=20, color = 'blue', alpha = 0.5, kde=True, line_kws = {'color':'blue','linestyle': 'dashed'});"
   ]
  },
  {
   "cell_type": "markdown",
   "metadata": {},
   "source": [
    "<span style='color:#89AC76'><b>Примечание:</b></span><br>Выбросы отсутствуют, данные распределены вполне равномерно."
   ]
  },
  {
   "cell_type": "code",
   "execution_count": 10,
   "metadata": {},
   "outputs": [
    {
     "data": {
      "text/plain": [
       "city\n",
       "Ростов Великий       0\n",
       "Рыбинск           1199\n",
       "Ярославль         2418\n",
       "Name: balance, dtype: int64"
      ]
     },
     "execution_count": 10,
     "metadata": {},
     "output_type": "execute_result"
    }
   ],
   "source": [
    "# проверим распределение пропусков balance в разрезе по городам.\n",
    "df.groupby('city')['balance'].apply(lambda x: x.isna().sum())"
   ]
  },
  {
   "cell_type": "markdown",
   "metadata": {},
   "source": [
    "<span style='color:#89AC76'><b>Примечание:</b></span><br>В Ростове Великом пропуски отсутствуют, что нельзя сказать о Рыбинске(1199) и Ярославле(2418)."
   ]
  },
  {
   "cell_type": "code",
   "execution_count": 11,
   "metadata": {},
   "outputs": [
    {
     "data": {
      "text/plain": [
       "churn\n",
       "0    3117\n",
       "1     500\n",
       "Name: balance, dtype: int64"
      ]
     },
     "execution_count": 11,
     "metadata": {},
     "output_type": "execute_result"
    }
   ],
   "source": [
    "# проверим распределение пропусков balance в разрезе по категории ушел клиент(1) или нет(0).\n",
    "df.groupby('churn')['balance'].apply(lambda x: x.isna().sum())"
   ]
  },
  {
   "cell_type": "markdown",
   "metadata": {},
   "source": [
    "<span style='color:#89AC76'><b>Примечание:</b></span><br>\n",
    "Большинство клиентов с пропусками в категории balance остаются клиентами банка,но 500 клиентов все же уходят."
   ]
  },
  {
   "cell_type": "code",
   "execution_count": 12,
   "metadata": {},
   "outputs": [
    {
     "data": {
      "text/plain": [
       "credit_card\n",
       "0    1025\n",
       "1    2592\n",
       "Name: balance, dtype: int64"
      ]
     },
     "execution_count": 12,
     "metadata": {},
     "output_type": "execute_result"
    }
   ],
   "source": [
    "# проверим распределение пропусков balance в разрезе по категории наличия кредитной карты.\n",
    "df.groupby('credit_card')['balance'].apply(lambda x: x.isna().sum())"
   ]
  },
  {
   "cell_type": "markdown",
   "metadata": {},
   "source": [
    "<span style='color:#89AC76'><b>Примечание:</b></span><br>Большинство клиентов(2592) с пропусками в категории balance имеют кредитную карту."
   ]
  },
  {
   "cell_type": "code",
   "execution_count": 13,
   "metadata": {},
   "outputs": [
    {
     "data": {
      "text/plain": [
       "products\n",
       "1     905\n",
       "2    2600\n",
       "3      98\n",
       "4      14\n",
       "Name: balance, dtype: int64"
      ]
     },
     "execution_count": 13,
     "metadata": {},
     "output_type": "execute_result"
    }
   ],
   "source": [
    "# проверим распределение пропусков balance в разрезе по категории количество используемых продуктов.\n",
    "df.groupby('products')['balance'].apply(lambda x: x.isna().sum())"
   ]
  },
  {
   "cell_type": "markdown",
   "metadata": {},
   "source": [
    "<span style='color:#89AC76'><b>Примечание:</b></span><br>Большинство клиентов(2600) с пропусками в категории balance пользуются 2 продуктами."
   ]
  },
  {
   "cell_type": "code",
   "execution_count": 14,
   "metadata": {},
   "outputs": [
    {
     "data": {
      "text/plain": [
       "loyalty\n",
       "0    1744\n",
       "1    1873\n",
       "Name: balance, dtype: int64"
      ]
     },
     "execution_count": 14,
     "metadata": {},
     "output_type": "execute_result"
    }
   ],
   "source": [
    "# проверим распределение пропусков balance в разрезе по категории активности клиента.\n",
    "df.groupby('loyalty')['balance'].apply(lambda x: x.isna().sum())"
   ]
  },
  {
   "cell_type": "markdown",
   "metadata": {},
   "source": [
    "<span style='color:#89AC76'><b>Примечание:</b></span><br>По лояльности/нелояльности клиенты с пропусками в категории balance практически равны."
   ]
  },
  {
   "cell_type": "code",
   "execution_count": 15,
   "metadata": {},
   "outputs": [
    {
     "name": "stdout",
     "output_type": "stream",
     "text": [
      "Кол-во дубликатов в датасете: 0\n"
     ]
    }
   ],
   "source": [
    "# проверим наличие дубликатов.\n",
    "print('Кол-во дубликатов в датасете:', df.duplicated().sum())"
   ]
  },
  {
   "cell_type": "code",
   "execution_count": 16,
   "metadata": {},
   "outputs": [],
   "source": [
    "# заменим значения 'Ж' на 0 и 'M' на 1.\n",
    "df['gender'] = df['gender'].replace({'Ж':0, 'М':1})"
   ]
  },
  {
   "cell_type": "code",
   "execution_count": 17,
   "metadata": {},
   "outputs": [],
   "source": [
    "# заменим значения 'Ярославль' на 0, 'Рыбинск' на 1 и 'Ростов Великий' на 2.\n",
    "df['city_b'] = df['city'].replace({'Ярославль':0, 'Рыбинск':1, 'Ростов Великий':2})"
   ]
  },
  {
   "cell_type": "code",
   "execution_count": 18,
   "metadata": {},
   "outputs": [],
   "source": [
    "# для создания фиктивных переменных для каждого города используем ф-ию get_dummies\n",
    "df = pd.get_dummies(df)"
   ]
  },
  {
   "cell_type": "code",
   "execution_count": 19,
   "metadata": {},
   "outputs": [
    {
     "data": {
      "text/html": [
       "<div>\n",
       "<style scoped>\n",
       "    .dataframe tbody tr th:only-of-type {\n",
       "        vertical-align: middle;\n",
       "    }\n",
       "\n",
       "    .dataframe tbody tr th {\n",
       "        vertical-align: top;\n",
       "    }\n",
       "\n",
       "    .dataframe thead th {\n",
       "        text-align: right;\n",
       "    }\n",
       "</style>\n",
       "<table border=\"1\" class=\"dataframe\">\n",
       "  <thead>\n",
       "    <tr style=\"text-align: right;\">\n",
       "      <th></th>\n",
       "      <th>user_id</th>\n",
       "      <th>score</th>\n",
       "      <th>gender</th>\n",
       "      <th>age</th>\n",
       "      <th>objects</th>\n",
       "      <th>balance</th>\n",
       "      <th>products</th>\n",
       "      <th>credit_card</th>\n",
       "      <th>loyalty</th>\n",
       "      <th>estimated_salary</th>\n",
       "      <th>churn</th>\n",
       "      <th>city_b</th>\n",
       "      <th>city_Ростов Великий</th>\n",
       "      <th>city_Рыбинск</th>\n",
       "      <th>city_Ярославль</th>\n",
       "    </tr>\n",
       "  </thead>\n",
       "  <tbody>\n",
       "    <tr>\n",
       "      <th>0</th>\n",
       "      <td>15677338</td>\n",
       "      <td>619</td>\n",
       "      <td>0</td>\n",
       "      <td>42</td>\n",
       "      <td>2</td>\n",
       "      <td>NaN</td>\n",
       "      <td>1</td>\n",
       "      <td>1</td>\n",
       "      <td>1</td>\n",
       "      <td>101348.88</td>\n",
       "      <td>1</td>\n",
       "      <td>0</td>\n",
       "      <td>0</td>\n",
       "      <td>0</td>\n",
       "      <td>1</td>\n",
       "    </tr>\n",
       "    <tr>\n",
       "      <th>1</th>\n",
       "      <td>15690047</td>\n",
       "      <td>608</td>\n",
       "      <td>0</td>\n",
       "      <td>41</td>\n",
       "      <td>1</td>\n",
       "      <td>83807.86</td>\n",
       "      <td>1</td>\n",
       "      <td>0</td>\n",
       "      <td>1</td>\n",
       "      <td>112542.58</td>\n",
       "      <td>0</td>\n",
       "      <td>1</td>\n",
       "      <td>0</td>\n",
       "      <td>1</td>\n",
       "      <td>0</td>\n",
       "    </tr>\n",
       "    <tr>\n",
       "      <th>2</th>\n",
       "      <td>15662040</td>\n",
       "      <td>502</td>\n",
       "      <td>0</td>\n",
       "      <td>42</td>\n",
       "      <td>8</td>\n",
       "      <td>159660.80</td>\n",
       "      <td>3</td>\n",
       "      <td>1</td>\n",
       "      <td>0</td>\n",
       "      <td>113931.57</td>\n",
       "      <td>1</td>\n",
       "      <td>0</td>\n",
       "      <td>0</td>\n",
       "      <td>0</td>\n",
       "      <td>1</td>\n",
       "    </tr>\n",
       "    <tr>\n",
       "      <th>3</th>\n",
       "      <td>15744090</td>\n",
       "      <td>699</td>\n",
       "      <td>0</td>\n",
       "      <td>39</td>\n",
       "      <td>1</td>\n",
       "      <td>NaN</td>\n",
       "      <td>2</td>\n",
       "      <td>0</td>\n",
       "      <td>0</td>\n",
       "      <td>93826.63</td>\n",
       "      <td>0</td>\n",
       "      <td>0</td>\n",
       "      <td>0</td>\n",
       "      <td>0</td>\n",
       "      <td>1</td>\n",
       "    </tr>\n",
       "    <tr>\n",
       "      <th>4</th>\n",
       "      <td>15780624</td>\n",
       "      <td>850</td>\n",
       "      <td>0</td>\n",
       "      <td>43</td>\n",
       "      <td>2</td>\n",
       "      <td>125510.82</td>\n",
       "      <td>1</td>\n",
       "      <td>1</td>\n",
       "      <td>1</td>\n",
       "      <td>79084.10</td>\n",
       "      <td>0</td>\n",
       "      <td>1</td>\n",
       "      <td>0</td>\n",
       "      <td>1</td>\n",
       "      <td>0</td>\n",
       "    </tr>\n",
       "  </tbody>\n",
       "</table>\n",
       "</div>"
      ],
      "text/plain": [
       "    user_id  score  gender  age  objects    balance  products  credit_card  \\\n",
       "0  15677338    619       0   42        2        NaN         1            1   \n",
       "1  15690047    608       0   41        1   83807.86         1            0   \n",
       "2  15662040    502       0   42        8  159660.80         3            1   \n",
       "3  15744090    699       0   39        1        NaN         2            0   \n",
       "4  15780624    850       0   43        2  125510.82         1            1   \n",
       "\n",
       "   loyalty  estimated_salary  churn  city_b  city_Ростов Великий  \\\n",
       "0        1         101348.88      1       0                    0   \n",
       "1        1         112542.58      0       1                    0   \n",
       "2        0         113931.57      1       0                    0   \n",
       "3        0          93826.63      0       0                    0   \n",
       "4        1          79084.10      0       1                    0   \n",
       "\n",
       "   city_Рыбинск  city_Ярославль  \n",
       "0             0               1  \n",
       "1             1               0  \n",
       "2             0               1  \n",
       "3             0               1  \n",
       "4             1               0  "
      ]
     },
     "execution_count": 19,
     "metadata": {},
     "output_type": "execute_result"
    }
   ],
   "source": [
    "df.head()"
   ]
  },
  {
   "cell_type": "markdown",
   "metadata": {},
   "source": [
    "<span style='color:#00541F'><b>ВЫВОД ПО РАЗДЕЛУ:</b></span><br>\n",
    "- Произведена замена названий столбцов на общепринятый стиль;\n",
    "- Дубликаты в данных отсутствуют;\n",
    "- Заменены значения поля gender с <b>'Ж'</b> на <b>0</b> и с <b>'М'</b> на <b>1</b>;\n",
    "- В столбце *balance*  обнаружены многочисленные пропуски, составляющие <b>36.17%</b> от общего числа данных;\n",
    "    - Данные *balance* распределены вполне равномерно, какие либо выбросы отсутствуют;\n",
    "    - Пропущенные значения столбца *balance* отсутствуют в городе Ростов Великий;\n",
    "    - Большинство клиентов (<b>3117</b>) с пропусками в столбце balance остаются клиентами банка;\n",
    "    - Большинство клиентов (<b>2592</b>) с пропусками в столбце balance имеют кредитную карту;\n",
    "    - Большинство клиентов (<b>2600</b>) с пропусками в столбце balance пользуются 2 продуктами;\n",
    "    - По лояльности/нелояльности клиенты с пропусками в категории balance практически равны.\n",
    "\n",
    "Можно выдвинуть предположение, что возникновение многочисленных пропусков в столбце *balance* несут технический характер. <br>В удалении или замене пропусков нет необходимости, ибо мы не имеем достаточно информации о происходящем и тем самым можем исказить общую картину дальнейшего анализа. Принято решение оставить всё, как есть."
   ]
  },
  {
   "cell_type": "markdown",
   "metadata": {},
   "source": [
    "## Шаг 3. Изучим и проверим данные. ##"
   ]
  },
  {
   "cell_type": "code",
   "execution_count": 20,
   "metadata": {
    "scrolled": true
   },
   "outputs": [
    {
     "data": {
      "text/html": [
       "<div>\n",
       "<style scoped>\n",
       "    .dataframe tbody tr th:only-of-type {\n",
       "        vertical-align: middle;\n",
       "    }\n",
       "\n",
       "    .dataframe tbody tr th {\n",
       "        vertical-align: top;\n",
       "    }\n",
       "\n",
       "    .dataframe thead th {\n",
       "        text-align: right;\n",
       "    }\n",
       "</style>\n",
       "<table border=\"1\" class=\"dataframe\">\n",
       "  <thead>\n",
       "    <tr style=\"text-align: right;\">\n",
       "      <th></th>\n",
       "      <th>user_id</th>\n",
       "      <th>score</th>\n",
       "      <th>gender</th>\n",
       "      <th>age</th>\n",
       "      <th>objects</th>\n",
       "      <th>balance</th>\n",
       "      <th>products</th>\n",
       "      <th>credit_card</th>\n",
       "      <th>loyalty</th>\n",
       "      <th>estimated_salary</th>\n",
       "      <th>churn</th>\n",
       "      <th>city_b</th>\n",
       "      <th>city_Ростов Великий</th>\n",
       "      <th>city_Рыбинск</th>\n",
       "      <th>city_Ярославль</th>\n",
       "    </tr>\n",
       "  </thead>\n",
       "  <tbody>\n",
       "    <tr>\n",
       "      <th>count</th>\n",
       "      <td>1.000000e+04</td>\n",
       "      <td>10000.000000</td>\n",
       "      <td>10000.000000</td>\n",
       "      <td>10000.000000</td>\n",
       "      <td>10000.000000</td>\n",
       "      <td>6383.000000</td>\n",
       "      <td>10000.000000</td>\n",
       "      <td>10000.00000</td>\n",
       "      <td>10000.000000</td>\n",
       "      <td>10000.000000</td>\n",
       "      <td>10000.000000</td>\n",
       "      <td>10000.000000</td>\n",
       "      <td>10000.000000</td>\n",
       "      <td>10000.000000</td>\n",
       "      <td>10000.000000</td>\n",
       "    </tr>\n",
       "    <tr>\n",
       "      <th>mean</th>\n",
       "      <td>1.573368e+07</td>\n",
       "      <td>650.528800</td>\n",
       "      <td>0.545700</td>\n",
       "      <td>38.921800</td>\n",
       "      <td>5.012800</td>\n",
       "      <td>119827.493793</td>\n",
       "      <td>1.530200</td>\n",
       "      <td>0.70550</td>\n",
       "      <td>0.515100</td>\n",
       "      <td>100090.239881</td>\n",
       "      <td>0.203700</td>\n",
       "      <td>0.749500</td>\n",
       "      <td>0.250900</td>\n",
       "      <td>0.247700</td>\n",
       "      <td>0.501400</td>\n",
       "    </tr>\n",
       "    <tr>\n",
       "      <th>std</th>\n",
       "      <td>7.193619e+04</td>\n",
       "      <td>96.653299</td>\n",
       "      <td>0.497932</td>\n",
       "      <td>10.487806</td>\n",
       "      <td>2.892174</td>\n",
       "      <td>30095.056462</td>\n",
       "      <td>0.581654</td>\n",
       "      <td>0.45584</td>\n",
       "      <td>0.499797</td>\n",
       "      <td>57510.492818</td>\n",
       "      <td>0.402769</td>\n",
       "      <td>0.830433</td>\n",
       "      <td>0.433553</td>\n",
       "      <td>0.431698</td>\n",
       "      <td>0.500023</td>\n",
       "    </tr>\n",
       "    <tr>\n",
       "      <th>min</th>\n",
       "      <td>1.560844e+07</td>\n",
       "      <td>350.000000</td>\n",
       "      <td>0.000000</td>\n",
       "      <td>18.000000</td>\n",
       "      <td>0.000000</td>\n",
       "      <td>3768.690000</td>\n",
       "      <td>1.000000</td>\n",
       "      <td>0.00000</td>\n",
       "      <td>0.000000</td>\n",
       "      <td>11.580000</td>\n",
       "      <td>0.000000</td>\n",
       "      <td>0.000000</td>\n",
       "      <td>0.000000</td>\n",
       "      <td>0.000000</td>\n",
       "      <td>0.000000</td>\n",
       "    </tr>\n",
       "    <tr>\n",
       "      <th>25%</th>\n",
       "      <td>1.567126e+07</td>\n",
       "      <td>584.000000</td>\n",
       "      <td>0.000000</td>\n",
       "      <td>32.000000</td>\n",
       "      <td>3.000000</td>\n",
       "      <td>100181.975000</td>\n",
       "      <td>1.000000</td>\n",
       "      <td>0.00000</td>\n",
       "      <td>0.000000</td>\n",
       "      <td>51002.110000</td>\n",
       "      <td>0.000000</td>\n",
       "      <td>0.000000</td>\n",
       "      <td>0.000000</td>\n",
       "      <td>0.000000</td>\n",
       "      <td>0.000000</td>\n",
       "    </tr>\n",
       "    <tr>\n",
       "      <th>50%</th>\n",
       "      <td>1.573347e+07</td>\n",
       "      <td>652.000000</td>\n",
       "      <td>1.000000</td>\n",
       "      <td>37.000000</td>\n",
       "      <td>5.000000</td>\n",
       "      <td>119839.690000</td>\n",
       "      <td>1.000000</td>\n",
       "      <td>1.00000</td>\n",
       "      <td>1.000000</td>\n",
       "      <td>100193.915000</td>\n",
       "      <td>0.000000</td>\n",
       "      <td>0.000000</td>\n",
       "      <td>0.000000</td>\n",
       "      <td>0.000000</td>\n",
       "      <td>1.000000</td>\n",
       "    </tr>\n",
       "    <tr>\n",
       "      <th>75%</th>\n",
       "      <td>1.579597e+07</td>\n",
       "      <td>718.000000</td>\n",
       "      <td>1.000000</td>\n",
       "      <td>44.000000</td>\n",
       "      <td>7.000000</td>\n",
       "      <td>139512.290000</td>\n",
       "      <td>2.000000</td>\n",
       "      <td>1.00000</td>\n",
       "      <td>1.000000</td>\n",
       "      <td>149388.247500</td>\n",
       "      <td>0.000000</td>\n",
       "      <td>2.000000</td>\n",
       "      <td>1.000000</td>\n",
       "      <td>0.000000</td>\n",
       "      <td>1.000000</td>\n",
       "    </tr>\n",
       "    <tr>\n",
       "      <th>max</th>\n",
       "      <td>1.585843e+07</td>\n",
       "      <td>850.000000</td>\n",
       "      <td>1.000000</td>\n",
       "      <td>92.000000</td>\n",
       "      <td>10.000000</td>\n",
       "      <td>250898.090000</td>\n",
       "      <td>4.000000</td>\n",
       "      <td>1.00000</td>\n",
       "      <td>1.000000</td>\n",
       "      <td>199992.480000</td>\n",
       "      <td>1.000000</td>\n",
       "      <td>2.000000</td>\n",
       "      <td>1.000000</td>\n",
       "      <td>1.000000</td>\n",
       "      <td>1.000000</td>\n",
       "    </tr>\n",
       "  </tbody>\n",
       "</table>\n",
       "</div>"
      ],
      "text/plain": [
       "            user_id         score        gender           age       objects  \\\n",
       "count  1.000000e+04  10000.000000  10000.000000  10000.000000  10000.000000   \n",
       "mean   1.573368e+07    650.528800      0.545700     38.921800      5.012800   \n",
       "std    7.193619e+04     96.653299      0.497932     10.487806      2.892174   \n",
       "min    1.560844e+07    350.000000      0.000000     18.000000      0.000000   \n",
       "25%    1.567126e+07    584.000000      0.000000     32.000000      3.000000   \n",
       "50%    1.573347e+07    652.000000      1.000000     37.000000      5.000000   \n",
       "75%    1.579597e+07    718.000000      1.000000     44.000000      7.000000   \n",
       "max    1.585843e+07    850.000000      1.000000     92.000000     10.000000   \n",
       "\n",
       "             balance      products  credit_card       loyalty  \\\n",
       "count    6383.000000  10000.000000  10000.00000  10000.000000   \n",
       "mean   119827.493793      1.530200      0.70550      0.515100   \n",
       "std     30095.056462      0.581654      0.45584      0.499797   \n",
       "min      3768.690000      1.000000      0.00000      0.000000   \n",
       "25%    100181.975000      1.000000      0.00000      0.000000   \n",
       "50%    119839.690000      1.000000      1.00000      1.000000   \n",
       "75%    139512.290000      2.000000      1.00000      1.000000   \n",
       "max    250898.090000      4.000000      1.00000      1.000000   \n",
       "\n",
       "       estimated_salary         churn        city_b  city_Ростов Великий  \\\n",
       "count      10000.000000  10000.000000  10000.000000         10000.000000   \n",
       "mean      100090.239881      0.203700      0.749500             0.250900   \n",
       "std        57510.492818      0.402769      0.830433             0.433553   \n",
       "min           11.580000      0.000000      0.000000             0.000000   \n",
       "25%        51002.110000      0.000000      0.000000             0.000000   \n",
       "50%       100193.915000      0.000000      0.000000             0.000000   \n",
       "75%       149388.247500      0.000000      2.000000             1.000000   \n",
       "max       199992.480000      1.000000      2.000000             1.000000   \n",
       "\n",
       "       city_Рыбинск  city_Ярославль  \n",
       "count  10000.000000    10000.000000  \n",
       "mean       0.247700        0.501400  \n",
       "std        0.431698        0.500023  \n",
       "min        0.000000        0.000000  \n",
       "25%        0.000000        0.000000  \n",
       "50%        0.000000        1.000000  \n",
       "75%        0.000000        1.000000  \n",
       "max        1.000000        1.000000  "
      ]
     },
     "execution_count": 20,
     "metadata": {},
     "output_type": "execute_result"
    }
   ],
   "source": [
    "# изучим описательную статистику числовых данных.\n",
    "df.describe()"
   ]
  },
  {
   "cell_type": "markdown",
   "metadata": {},
   "source": [
    "<span style='color:#89AC76'><b>Примечание:</b></span><br>\n",
    "- Кредитный скоринг в среднем составляет 650 баллов, есть высокая вероятность получить одобрение по кредиту;\n",
    "- Мужчин немного больше, чем женщин, но не критично;\n",
    "- Возраст клиентов от 18 до 92 лет. Средний возраст клиента около 39 лет;\n",
    "- В среднем клиент имеет в собственности 5 объектов;\n",
    "- На своем счету в среднем клиент имеет около 120000 руб;\n",
    "- В среднем используются 1 - 2 продукта;\n",
    "- Средний клиент скорее всего имеет кредитную карту;\n",
    "- Лояльность клиентов составляет чуть больше 50%;\n",
    "- Средняя зарплата составляет 100000 руб;\n",
    "- Средний отток составляет порядка 20 %.\n"
   ]
  },
  {
   "cell_type": "markdown",
   "metadata": {},
   "source": [
    "### Распределение количественных признаков. ###"
   ]
  },
  {
   "cell_type": "code",
   "execution_count": 21,
   "metadata": {},
   "outputs": [],
   "source": [
    "# ф-ия распределения количественных признаков.\n",
    "def quan_tables(data):\n",
    "    for column in ['score', 'age', 'balance', 'estimated_salary']:\n",
    "            plt.figure(figsize=(15, 5))\n",
    "            sns.histplot(data=data, x=column, color='#6A5ACD');\n",
    "            plt.title(f'Распределение клиентов по признаку: {column}', fontsize = 15)\n",
    "            plt.ylabel('Кол-во клиентов')\n",
    "            plt.show()"
   ]
  },
  {
   "cell_type": "code",
   "execution_count": 22,
   "metadata": {},
   "outputs": [
    {
     "data": {
      "image/png": "[encoded data removed]",
      "text/plain": [
       "<Figure size 1080x360 with 1 Axes>"
      ]
     },
     "metadata": {
      "needs_background": "light"
     },
     "output_type": "display_data"
    },
    {
     "data": {
      "image/png": "[encoded data removed]",
      "text/plain": [
       "<Figure size 1080x360 with 1 Axes>"
      ]
     },
     "metadata": {
      "needs_background": "light"
     },
     "output_type": "display_data"
    },
    {
     "data": {
      "image/png": "[encoded data removed]",
      "text/plain": [
       "<Figure size 1080x360 with 1 Axes>"
      ]
     },
     "metadata": {
      "needs_background": "light"
     },
     "output_type": "display_data"
    },
    {
     "data": {
      "image/png": "[encoded data removed]",
      "text/plain": [
       "<Figure size 1080x360 with 1 Axes>"
      ]
     },
     "metadata": {
      "needs_background": "light"
     },
     "output_type": "display_data"
    }
   ],
   "source": [
    "quan_tables(df)"
   ]
  },
  {
   "cell_type": "markdown",
   "metadata": {},
   "source": [
    "<span style='color:#89AC76'><b>Примечание:</b></span><br>\n",
    "- Наблюдается небольшой всплеск распределения кредитного скоринга на значении 830. Смею предположить, что причиной данной аномалии является обрезка данных на значении 850. Возможно изначально имелись клиенты с более высоким рейтингом;\n",
    "- Заработная плата распределена однородно, наблюдается некое плато на протяжении всей гистограммы. Средняя заработная плата исходя из данных описательной статистики составляет 100000 руб;\n",
    "- Остальные признаки распределены нормально;"
   ]
  },
  {
   "cell_type": "markdown",
   "metadata": {},
   "source": [
    "### Распределение категориальных и дискретных признаков. ###"
   ]
  },
  {
   "cell_type": "code",
   "execution_count": 23,
   "metadata": {},
   "outputs": [],
   "source": [
    "# ф-ия распределения категориальных признаков.\n",
    "def cat_tables(data):\n",
    "    for column in ['city_b', 'gender', 'objects', 'products', 'credit_card', 'loyalty', 'churn']:\n",
    "        plt.figure(figsize=(15, 5))\n",
    "        ax = sns.countplot(data=data, x=column, palette = 'Set2');\n",
    "        plt.title(f'Распределение клиентов по признаку: {column}', fontsize = 15)\n",
    "        plt.ylabel('Кол-во клиентов')\n",
    "        plt.grid(True, axis='y', linestyle='--')\n",
    "        plt.show()"
   ]
  },
  {
   "cell_type": "code",
   "execution_count": 24,
   "metadata": {
    "scrolled": false
   },
   "outputs": [
    {
     "data": {
      "image/png": "[encoded data removed]",
      "text/plain": [
       "<Figure size 1080x360 with 1 Axes>"
      ]
     },
     "metadata": {
      "needs_background": "light"
     },
     "output_type": "display_data"
    },
    {
     "data": {
      "image/png": "[encoded data removed]",
      "text/plain": [
       "<Figure size 1080x360 with 1 Axes>"
      ]
     },
     "metadata": {
      "needs_background": "light"
     },
     "output_type": "display_data"
    },
    {
     "data": {
      "image/png": "[encoded data removed]",
      "text/plain": [
       "<Figure size 1080x360 with 1 Axes>"
      ]
     },
     "metadata": {
      "needs_background": "light"
     },
     "output_type": "display_data"
    },
    {
     "data": {
      "image/png": "[encoded data removed]",
      "text/plain": [
       "<Figure size 1080x360 with 1 Axes>"
      ]
     },
     "metadata": {
      "needs_background": "light"
     },
     "output_type": "display_data"
    },
    {
     "data": {
      "image/png": "[encoded data removed]",
      "text/plain": [
       "<Figure size 1080x360 with 1 Axes>"
      ]
     },
     "metadata": {
      "needs_background": "light"
     },
     "output_type": "display_data"
    },
    {
     "data": {
      "image/png": "[encoded data removed]",
      "text/plain": [
       "<Figure size 1080x360 with 1 Axes>"
      ]
     },
     "metadata": {
      "needs_background": "light"
     },
     "output_type": "display_data"
    },
    {
     "data": {
      "image/png": "[encoded data removed]",
      "text/plain": [
       "<Figure size 1080x360 with 1 Axes>"
      ]
     },
     "metadata": {
      "needs_background": "light"
     },
     "output_type": "display_data"
    }
   ],
   "source": [
    "cat_tables(df)"
   ]
  },
  {
   "cell_type": "markdown",
   "metadata": {},
   "source": [
    "<span style='color:#89AC76'><b>Примечание:</b></span><br>\n",
    "- Большая часть клиентов из Ярославля. В Рыбинске и Ростове Великом приблизительно одинаковое кол-во клиентов;\n",
    "- По соотношению полов, мужчин чуть больше, чем женщин (приблизительно на 10%);\n",
    "- Распределение по кол-ву объектов собственности практически однородно (от 1 до 9 объектами, владеют 1000 человек в каждой группе). Так присутствуют те у кого 0 объектов (приблизительно 400 человек) и у кого 10 объектов (приблизительно 500 человек);\n",
    "- Большинство клиентов пользуются 1 или 2 продуктами. Есть незначительные показатели клиентов с 3 продуктами и выше;\n",
    "- Средний балл кредитного скоринга составляет 650;\n",
    "- Чуть больше 70% клиентов пользуются кредитными картами;\n",
    "- Лояльность составляет приблизительно 53%;\n",
    "- Отток клиентов около 21%."
   ]
  },
  {
   "cell_type": "markdown",
   "metadata": {},
   "source": [
    "### Матрица корреляции. ###"
   ]
  },
  {
   "cell_type": "code",
   "execution_count": 25,
   "metadata": {},
   "outputs": [
    {
     "data": {
      "image/png": "[encoded data removed]",
      "text/plain": [
       "<Figure size 1440x1080 with 2 Axes>"
      ]
     },
     "metadata": {
      "needs_background": "light"
     },
     "output_type": "display_data"
    }
   ],
   "source": [
    "# построим матрицу корреляции.\n",
    "correlation_matrix=df.corr()\n",
    "plt.figure(figsize=(20,15))\n",
    "sns.heatmap(correlation_matrix, annot=True, square=True,  cmap='viridis', annot_kws = {'size':15})\n",
    "plt.title('Матрица корреляции', fontsize = 15)\n",
    "plt.show()"
   ]
  },
  {
   "cell_type": "markdown",
   "metadata": {},
   "source": [
    "<span style='color:#89AC76'><b>Примечание:</b></span><br>\n",
    "- Согласно шкале Чеддока присутствует слабая корреляция оттока с возрастом, балансом на счёте и городом Ростов Великий;\n",
    "- В общем и целом признаки слабо коррелируют между собой, максимальный показатель - 29%. <br>Можно предположить, что чем старше становится клиент, тем больше возрастает его склонность к оттоку."
   ]
  },
  {
   "cell_type": "markdown",
   "metadata": {},
   "source": [
    "<span style='color:#00541F'><b>ВЫВОД ПО РАЗДЕЛУ:</b></span><br>\n",
    "\n",
    "В ходе исследовательского анализа данных, были посчитаны средние и стандартные отклонения, построены гистограммы распределения и матрица корреляции. Стоит отметить странную однородность в распределении заработной платы и объектов собственности клиента, а так же небольшой всплеск в кредитном скоринге. Есть вероятность, что данные особенности обусловлены специфичностью выборки.\n",
    "\n",
    "На основании полученных данных мы можем сделать вывод:\n",
    "\n",
    "- Самый большой филиал находится в Ярославле (около <b>5000</b> клиентов);\n",
    "- В Рыбинске и Ростове Великом практически в два раза меньше и поровну (приблизительно по <b>2500</b> клиентов);\n",
    "- Присутствует <b>10%</b> перевес в сторону мужчин;\n",
    "- Средний возраст клиента составляет <b>39</b> лет;\n",
    "- Cредний остаток на балансе <b>120000</b> рублей;\n",
    "- Cредний доход в <b>100000</b> рублей;\n",
    "- В основном используется <b>1-2</b> продукта;\n",
    "- Средний бал кредитного скоринга - <b>650</b>;\n",
    "- В <b>70%</b> случаев это кредитная карта; \n",
    "- Клиент скорее лояльный, чем нет; \n",
    "- Вероятность ухода составляет <b>21%</b>."
   ]
  },
  {
   "cell_type": "markdown",
   "metadata": {},
   "source": [
    "## Шаг 4. Выведение портретов клиентов, которые склонны  и не склонны к оттоку. ## "
   ]
  },
  {
   "cell_type": "code",
   "execution_count": 26,
   "metadata": {},
   "outputs": [
    {
     "data": {
      "text/html": [
       "<div>\n",
       "<style scoped>\n",
       "    .dataframe tbody tr th:only-of-type {\n",
       "        vertical-align: middle;\n",
       "    }\n",
       "\n",
       "    .dataframe tbody tr th {\n",
       "        vertical-align: top;\n",
       "    }\n",
       "\n",
       "    .dataframe thead tr th {\n",
       "        text-align: left;\n",
       "    }\n",
       "</style>\n",
       "<table border=\"1\" class=\"dataframe\">\n",
       "  <thead>\n",
       "    <tr>\n",
       "      <th>city_b</th>\n",
       "      <th colspan=\"2\" halign=\"left\">0</th>\n",
       "      <th colspan=\"2\" halign=\"left\">1</th>\n",
       "      <th colspan=\"2\" halign=\"left\">2</th>\n",
       "    </tr>\n",
       "    <tr>\n",
       "      <th>churn</th>\n",
       "      <th>0</th>\n",
       "      <th>1</th>\n",
       "      <th>0</th>\n",
       "      <th>1</th>\n",
       "      <th>0</th>\n",
       "      <th>1</th>\n",
       "    </tr>\n",
       "  </thead>\n",
       "  <tbody>\n",
       "    <tr>\n",
       "      <th>score</th>\n",
       "      <td>651.162226</td>\n",
       "      <td>641.914815</td>\n",
       "      <td>652.104167</td>\n",
       "      <td>647.484262</td>\n",
       "      <td>653.261357</td>\n",
       "      <td>647.689189</td>\n",
       "    </tr>\n",
       "    <tr>\n",
       "      <th>gender</th>\n",
       "      <td>0.571598</td>\n",
       "      <td>0.432099</td>\n",
       "      <td>0.584302</td>\n",
       "      <td>0.440678</td>\n",
       "      <td>0.560472</td>\n",
       "      <td>0.449631</td>\n",
       "    </tr>\n",
       "    <tr>\n",
       "      <th>age</th>\n",
       "      <td>37.235966</td>\n",
       "      <td>45.133333</td>\n",
       "      <td>37.839147</td>\n",
       "      <td>44.147700</td>\n",
       "      <td>37.311504</td>\n",
       "      <td>44.894349</td>\n",
       "    </tr>\n",
       "    <tr>\n",
       "      <th>objects</th>\n",
       "      <td>5.005471</td>\n",
       "      <td>5.000000</td>\n",
       "      <td>5.107558</td>\n",
       "      <td>4.656174</td>\n",
       "      <td>5.011799</td>\n",
       "      <td>5.006143</td>\n",
       "    </tr>\n",
       "    <tr>\n",
       "      <th>balance</th>\n",
       "      <td>119484.839826</td>\n",
       "      <td>121915.781268</td>\n",
       "      <td>119820.561722</td>\n",
       "      <td>119792.058240</td>\n",
       "      <td>119427.106696</td>\n",
       "      <td>120361.075590</td>\n",
       "    </tr>\n",
       "    <tr>\n",
       "      <th>products</th>\n",
       "      <td>1.541389</td>\n",
       "      <td>1.476543</td>\n",
       "      <td>1.544574</td>\n",
       "      <td>1.513317</td>\n",
       "      <td>1.551032</td>\n",
       "      <td>1.454545</td>\n",
       "    </tr>\n",
       "    <tr>\n",
       "      <th>credit_card</th>\n",
       "      <td>0.707422</td>\n",
       "      <td>0.702469</td>\n",
       "      <td>0.699128</td>\n",
       "      <td>0.673123</td>\n",
       "      <td>0.716224</td>\n",
       "      <td>0.708845</td>\n",
       "    </tr>\n",
       "    <tr>\n",
       "      <th>loyalty</th>\n",
       "      <td>0.545433</td>\n",
       "      <td>0.367901</td>\n",
       "      <td>0.567345</td>\n",
       "      <td>0.341404</td>\n",
       "      <td>0.561652</td>\n",
       "      <td>0.363636</td>\n",
       "    </tr>\n",
       "    <tr>\n",
       "      <th>estimated_salary</th>\n",
       "      <td>99217.097331</td>\n",
       "      <td>103439.278296</td>\n",
       "      <td>98602.369864</td>\n",
       "      <td>103629.554818</td>\n",
       "      <td>102414.657876</td>\n",
       "      <td>98403.886450</td>\n",
       "    </tr>\n",
       "    <tr>\n",
       "      <th>city_Ростов Великий</th>\n",
       "      <td>0.000000</td>\n",
       "      <td>0.000000</td>\n",
       "      <td>0.000000</td>\n",
       "      <td>0.000000</td>\n",
       "      <td>1.000000</td>\n",
       "      <td>1.000000</td>\n",
       "    </tr>\n",
       "    <tr>\n",
       "      <th>city_Рыбинск</th>\n",
       "      <td>0.000000</td>\n",
       "      <td>0.000000</td>\n",
       "      <td>1.000000</td>\n",
       "      <td>1.000000</td>\n",
       "      <td>0.000000</td>\n",
       "      <td>0.000000</td>\n",
       "    </tr>\n",
       "    <tr>\n",
       "      <th>city_Ярославль</th>\n",
       "      <td>1.000000</td>\n",
       "      <td>1.000000</td>\n",
       "      <td>0.000000</td>\n",
       "      <td>0.000000</td>\n",
       "      <td>0.000000</td>\n",
       "      <td>0.000000</td>\n",
       "    </tr>\n",
       "  </tbody>\n",
       "</table>\n",
       "</div>"
      ],
      "text/plain": [
       "city_b                           0                             1  \\\n",
       "churn                            0              1              0   \n",
       "score                   651.162226     641.914815     652.104167   \n",
       "gender                    0.571598       0.432099       0.584302   \n",
       "age                      37.235966      45.133333      37.839147   \n",
       "objects                   5.005471       5.000000       5.107558   \n",
       "balance              119484.839826  121915.781268  119820.561722   \n",
       "products                  1.541389       1.476543       1.544574   \n",
       "credit_card               0.707422       0.702469       0.699128   \n",
       "loyalty                   0.545433       0.367901       0.567345   \n",
       "estimated_salary      99217.097331  103439.278296   98602.369864   \n",
       "city_Ростов Великий       0.000000       0.000000       0.000000   \n",
       "city_Рыбинск              0.000000       0.000000       1.000000   \n",
       "city_Ярославль            1.000000       1.000000       0.000000   \n",
       "\n",
       "city_b                                          2                 \n",
       "churn                            1              0              1  \n",
       "score                   647.484262     653.261357     647.689189  \n",
       "gender                    0.440678       0.560472       0.449631  \n",
       "age                      44.147700      37.311504      44.894349  \n",
       "objects                   4.656174       5.011799       5.006143  \n",
       "balance              119792.058240  119427.106696  120361.075590  \n",
       "products                  1.513317       1.551032       1.454545  \n",
       "credit_card               0.673123       0.716224       0.708845  \n",
       "loyalty                   0.341404       0.561652       0.363636  \n",
       "estimated_salary     103629.554818  102414.657876   98403.886450  \n",
       "city_Ростов Великий       0.000000       1.000000       1.000000  \n",
       "city_Рыбинск              1.000000       0.000000       0.000000  \n",
       "city_Ярославль            0.000000       0.000000       0.000000  "
      ]
     },
     "execution_count": 26,
     "metadata": {},
     "output_type": "execute_result"
    }
   ],
   "source": [
    "# таблица распределения признаков по городам и оттоку\n",
    "city_by_churn=df.groupby(['city_b', 'churn']).mean().T\n",
    "city_by_churn=city_by_churn.iloc[1:]\n",
    "city_by_churn"
   ]
  },
  {
   "cell_type": "code",
   "execution_count": 27,
   "metadata": {
    "scrolled": false
   },
   "outputs": [
    {
     "data": {
      "image/png": "[encoded data removed]",
      "text/plain": [
       "<Figure size 1122.38x360 with 3 Axes>"
      ]
     },
     "metadata": {
      "needs_background": "light"
     },
     "output_type": "display_data"
    },
    {
     "data": {
      "image/png": "[encoded data removed]",
      "text/plain": [
       "<Figure size 1122.38x360 with 3 Axes>"
      ]
     },
     "metadata": {
      "needs_background": "light"
     },
     "output_type": "display_data"
    },
    {
     "data": {
      "image/png": "[encoded data removed]",
      "text/plain": [
       "<Figure size 1122.38x360 with 3 Axes>"
      ]
     },
     "metadata": {
      "needs_background": "light"
     },
     "output_type": "display_data"
    },
    {
     "data": {
      "image/png": "[encoded data removed]",
      "text/plain": [
       "<Figure size 1122.38x360 with 3 Axes>"
      ]
     },
     "metadata": {
      "needs_background": "light"
     },
     "output_type": "display_data"
    },
    {
     "data": {
      "image/png": "[encoded data removed]",
      "text/plain": [
       "<Figure size 1122.38x360 with 3 Axes>"
      ]
     },
     "metadata": {
      "needs_background": "light"
     },
     "output_type": "display_data"
    },
    {
     "data": {
      "image/png": "[encoded data removed]",
      "text/plain": [
       "<Figure size 1122.38x360 with 3 Axes>"
      ]
     },
     "metadata": {
      "needs_background": "light"
     },
     "output_type": "display_data"
    },
    {
     "data": {
      "image/png": "[encoded data removed]",
      "text/plain": [
       "<Figure size 1122.38x360 with 3 Axes>"
      ]
     },
     "metadata": {
      "needs_background": "light"
     },
     "output_type": "display_data"
    },
    {
     "data": {
      "image/png": "[encoded data removed]",
      "text/plain": [
       "<Figure size 1122.38x360 with 3 Axes>"
      ]
     },
     "metadata": {
      "needs_background": "light"
     },
     "output_type": "display_data"
    },
    {
     "data": {
      "image/png": "[encoded data removed]",
      "text/plain": [
       "<Figure size 1122.38x360 with 3 Axes>"
      ]
     },
     "metadata": {
      "needs_background": "light"
     },
     "output_type": "display_data"
    },
    {
     "data": {
      "image/png": "[encoded data removed]",
      "text/plain": [
       "<Figure size 1122.38x360 with 3 Axes>"
      ]
     },
     "metadata": {
      "needs_background": "light"
     },
     "output_type": "display_data"
    },
    {
     "data": {
      "image/png": "[encoded data removed]",
      "text/plain": [
       "<Figure size 1122.38x360 with 3 Axes>"
      ]
     },
     "metadata": {
      "needs_background": "light"
     },
     "output_type": "display_data"
    },
    {
     "data": {
      "image/png": "[encoded data removed]",
      "text/plain": [
       "<Figure size 1122.38x360 with 3 Axes>"
      ]
     },
     "metadata": {
      "needs_background": "light"
     },
     "output_type": "display_data"
    },
    {
     "data": {
      "image/png": "[encoded data removed]",
      "text/plain": [
       "<Figure size 1122.38x360 with 3 Axes>"
      ]
     },
     "metadata": {
      "needs_background": "light"
     },
     "output_type": "display_data"
    },
    {
     "data": {
      "image/png": "[encoded data removed]",
      "text/plain": [
       "<Figure size 1122.38x360 with 3 Axes>"
      ]
     },
     "metadata": {
      "needs_background": "light"
     },
     "output_type": "display_data"
    },
    {
     "data": {
      "image/png": "[encoded data removed]",
      "text/plain": [
       "<Figure size 1122.38x360 with 3 Axes>"
      ]
     },
     "metadata": {
      "needs_background": "light"
     },
     "output_type": "display_data"
    }
   ],
   "source": [
    "# построим распределение признаков по каждому городу и оттоку клиентов.\n",
    "for i in df.columns:\n",
    "    sns.displot(data=df, x=i, bins=30, col='city_b', hue='churn', stat='density', multiple='stack', common_norm=False)"
   ]
  },
  {
   "cell_type": "markdown",
   "metadata": {},
   "source": [
    "<span style='color:#00541F'><b>ВЫВОД ПО РАЗДЕЛУ:</b></span><br>\n",
    "\n",
    "<span style='color:#9B2D30'>Портрет клиента из Ярославля склонного к оттоку:</span>\n",
    "- Возраст <b>40-60</b> лет;\n",
    "- Остаток на балансе <b>100000 - 150000</b> рублей;\n",
    "- Наличие кредитной карты;\n",
    "- Средняя заработная плата <b>103000</b> рублей;\n",
    "- Больше вероятно, что это будет женщина, чем мужчина;\n",
    "- Объекты собственности - в среднем <b>5</b> шт;\n",
    "- Использование <b>1</b>-<b>2</b> продуктов;\n",
    "- Кредитный скоринг <b>580 - 690</b>.\n",
    "\n",
    "<span style='color:#00541F'>Портрет клиента из Ярославля склонного остаться с банком:</span>\n",
    "- Возраст <b>30-45</b> лет;\n",
    "- Остаток на балансе <b>110000 - 130000</b> рублей;\n",
    "- Наличие кредитной карты;\n",
    "- Средняя заработная плата <b>99000</b> рублей;\n",
    "- Больше вероятно, что это будет мужчина, чем женщина;\n",
    "- Объекты собственности - в среднем <b>5</b> шт;\n",
    "- Использование <b>1</b>-<b>2</b> продуктов;\n",
    "- Кредитный скоринг <b>600 - 700</b>.\n",
    "\n",
    "<span style='color:#9B2D30'>Портрет клиента из Рыбинска склонного к оттоку:</span>\n",
    "- Возраст <b>40-55</b> года;\n",
    "- Остаток на балансе <b>70000 - 120000</b> рублей;\n",
    "- Наличие кредитной карты;\n",
    "- Средняя заработная плата <b>103000</b> рублей;\n",
    "- Больше вероятно, что это будет женщина, чем мужчина;;\n",
    "- Объекты собственности - в среднем <b>4</b> шт;\n",
    "- Использование <b>1</b>-<b>2</b> продуктов;\n",
    "- Кредитный скоринг <b>590 - 680</b>.\n",
    "\n",
    "<span style='color:#00541F'>Портрет клиента из Рыбинска склонного остаться с банком:</span>\n",
    "- Возраст <b>28-45</b> лет;\n",
    "- Остаток на балансе <b>70000 - 130000</b> рублей;\n",
    "- Наличие кредитной карты;\n",
    "- Средняя заработная плата <b>98000</b> рублей;\n",
    "- Больше вероятно, что это будет мужчина, чем женщина;\n",
    "- Объекты собственности - в среднем <b>5</b> шт;\n",
    "- Использование <b>1</b>-<b>2</b> продуктов;\n",
    "- Кредитный скоринг <b>550 - 700</b>.\n",
    "\n",
    "<span style='color:#9B2D30'>Портрет клиента из Ростова Великого склонного к оттоку:</span>\n",
    "- Возраст <b>40-55</b> года;\n",
    "- Остаток на балансе <b>100000 - 120000</b> рублей;\n",
    "- Наличие кредитной карты;\n",
    "- Средняя заработная плата <b>98000</b> рублей;\n",
    "- Больше вероятно, что это будет женщина, чем мужчина.\n",
    "- Объекты собственности - в среднем <b>5</b> шт;\n",
    "- Использование <b>1</b>-<b>2</b> продуктов;\n",
    "- Кредитный скоринг <b>580 - 640</b>.\n",
    "\n",
    "<span style='color:#00541F'>Портрет клиента из Ростова Великого склонного остаться с банком:</span>\n",
    "- Возраст <b>30-45</b> лет;\n",
    "- Остаток на балансе <b>100000 - 130000</b> рублей;\n",
    "- Наличие кредитной карты;\n",
    "- Средняя заработная плата <b>102000</b> рублей;\n",
    "- Больше вероятно, что это будет мужчина, чем женщина;\n",
    "- Объекты собственности - в среднем <b>5</b> шт;\n",
    "- Использование <b>1</b>-<b>2</b> продуктов;\n",
    "- Кредитный скоринг <b>550 - 740</b>.\n",
    "\n",
    "\n",
    "\n"
   ]
  },
  {
   "cell_type": "markdown",
   "metadata": {},
   "source": [
    "## Шаг 5. Проверка гипотез. ##"
   ]
  },
  {
   "cell_type": "markdown",
   "metadata": {},
   "source": [
    "### Различие дохода между теми клиентами, которые ушли и теми,которые остались. ###"
   ]
  },
  {
   "cell_type": "markdown",
   "metadata": {},
   "source": [
    "Проверим гипотезу различия дохода между теми клиентами, которые ушли и теми, которые остались.\n",
    "\n",
    "Сформулируем гипотезы:\n",
    "\n",
    "- H0: Средняя заработная плата между оставшимися и ушедшими клиентами банка равна;\n",
    "- H1: Средняя заработная плата между оставшимися и ушедшими клиентами банка отличается."
   ]
  },
  {
   "cell_type": "code",
   "execution_count": 28,
   "metadata": {},
   "outputs": [],
   "source": [
    "# доходы клиентов, которые остались.\n",
    "selection_0 = df.query('churn==0')\n",
    "\n",
    "# доходы клиентов, которые ушли.\n",
    "selection_1 = df.query('churn==1')\n"
   ]
  },
  {
   "cell_type": "code",
   "execution_count": 29,
   "metadata": {},
   "outputs": [
    {
     "data": {
      "text/plain": [
       "0    7963\n",
       "1    2037\n",
       "Name: churn, dtype: int64"
      ]
     },
     "execution_count": 29,
     "metadata": {},
     "output_type": "execute_result"
    }
   ],
   "source": [
    "# размер выборок.\n",
    "df['churn'].value_counts()"
   ]
  },
  {
   "cell_type": "code",
   "execution_count": 30,
   "metadata": {},
   "outputs": [
    {
     "data": {
      "image/png": "[encoded data removed]",
      "text/plain": [
       "<Figure size 546.375x504 with 1 Axes>"
      ]
     },
     "metadata": {
      "needs_background": "light"
     },
     "output_type": "display_data"
    }
   ],
   "source": [
    "# еще раз посмотрим на распределение заработной платы.\n",
    "sns.displot(data=df,x='estimated_salary', hue='churn', height=7, aspect=1, kde=True, multiple='stack')\n",
    "plt.title('Распределение признака: заработная плата клиента',fontsize=15)\n",
    "plt.show()"
   ]
  },
  {
   "cell_type": "code",
   "execution_count": 31,
   "metadata": {},
   "outputs": [
    {
     "name": "stdout",
     "output_type": "stream",
     "text": [
      "Дисперсия оставшихся: 3295401414.92\n",
      "Дисперсия ушедших: 3353848166.81\n"
     ]
    }
   ],
   "source": [
    "# выведем дисперсии выборок.\n",
    "print('Дисперсия оставшихся:',selection_0['estimated_salary'].var().round(2))\n",
    "print('Дисперсия ушедших:',selection_1['estimated_salary'].var().round(2))"
   ]
  },
  {
   "cell_type": "markdown",
   "metadata": {},
   "source": [
    "<span style='color:#89AC76'><b>Примечание:</b></span><br>\n",
    "Присутствует небольшое различие дисперсий, принято решение использовать статистический U-критерий Манна — Уитни."
   ]
  },
  {
   "cell_type": "code",
   "execution_count": 32,
   "metadata": {},
   "outputs": [
    {
     "name": "stdout",
     "output_type": "stream",
     "text": [
      "p-значение: 0.22705150930153783\n",
      "Не получилось отвергнуть нулевую гипотезу\n"
     ]
    }
   ],
   "source": [
    "# критический уровень статистической значимости.\n",
    "alpha = 0.05 \n",
    "\n",
    "results = st.mannwhitneyu(\n",
    "    selection_0['estimated_salary'], \n",
    "    selection_1['estimated_salary'])\n",
    "\n",
    "# проверяем гипотезу о равенстве медиан двух независимых совокупностей.\n",
    "print('p-значение:', results.pvalue)\n",
    "\n",
    "if (results.pvalue < alpha):\n",
    "    print(\"Отвергаем нулевую гипотезу\")\n",
    "else:\n",
    "    print(\"Не получилось отвергнуть нулевую гипотезу\")"
   ]
  },
  {
   "cell_type": "markdown",
   "metadata": {},
   "source": [
    "<span style='color:#89AC76'><b>Примечание:</b></span><br>\n",
    "Нулевая гипотеза не отвергнута, статистических различий средней заработной платы клиентов которые ушли / остались не наблюдается."
   ]
  },
  {
   "cell_type": "markdown",
   "metadata": {},
   "source": [
    "### Различие возраста между теми клиентами, которые ушли и теми, которые остались. ###"
   ]
  },
  {
   "cell_type": "markdown",
   "metadata": {},
   "source": [
    "Проверим гипотезу различия возраста между теми клиентами, которые ушли и теми, которые остались.\n",
    "\n",
    "Сформулируем гипотезы:\n",
    "\n",
    "- H0: Средний возраст оставшихся и ушедших клиентов банка равен;\n",
    "- H1: Средний возраст оставшихся и ушедших клиентов банка отличается."
   ]
  },
  {
   "cell_type": "code",
   "execution_count": 33,
   "metadata": {},
   "outputs": [
    {
     "data": {
      "image/png": "[encoded data removed]",
      "text/plain": [
       "<Figure size 546.375x504 with 1 Axes>"
      ]
     },
     "metadata": {
      "needs_background": "light"
     },
     "output_type": "display_data"
    }
   ],
   "source": [
    "# еще раз посмотрим на распределение возраста клиента.\n",
    "sns.displot(data=df,x='age', hue='churn', height=7, aspect=1, kde=True, multiple='stack')\n",
    "plt.title('Распределение признака: возраст клиента',fontsize=15)\n",
    "plt.show()"
   ]
  },
  {
   "cell_type": "code",
   "execution_count": 34,
   "metadata": {},
   "outputs": [
    {
     "name": "stdout",
     "output_type": "stream",
     "text": [
      "Дисперсия оставшихся: 102.52\n",
      "Дисперсия ушедших: 95.29\n"
     ]
    }
   ],
   "source": [
    "# выведем дисперсии выборок.\n",
    "print('Дисперсия оставшихся:',selection_0['age'].var().round(2))\n",
    "print('Дисперсия ушедших:',selection_1['age'].var().round(2))"
   ]
  },
  {
   "cell_type": "markdown",
   "metadata": {},
   "source": [
    "<span style='color:#89AC76'><b>Примечание:</b></span><br>\n",
    "Присутствует небольшое различие дисперсий, анологично, что в и первой гипотезе, используем U-критерий Манна — Уитни."
   ]
  },
  {
   "cell_type": "code",
   "execution_count": 35,
   "metadata": {},
   "outputs": [
    {
     "name": "stdout",
     "output_type": "stream",
     "text": [
      "p-значение: 3.2104014319371675e-230\n",
      "Отвергаем нулевую гипотезу\n"
     ]
    }
   ],
   "source": [
    "# критический уровень статистической значимости.\n",
    "alpha = 0.05 \n",
    "\n",
    "results = st.mannwhitneyu(\n",
    "    selection_0['age'], \n",
    "    selection_1['age'])\n",
    "\n",
    "# проверяем гипотезу о равенстве медиан двух независимых совокупностей.\n",
    "print('p-значение:', results.pvalue)\n",
    "\n",
    "if (results.pvalue < alpha):\n",
    "    print(\"Отвергаем нулевую гипотезу\")\n",
    "else:\n",
    "    print(\"Не получилось отвергнуть нулевую гипотезу\")"
   ]
  },
  {
   "cell_type": "markdown",
   "metadata": {},
   "source": [
    "<span style='color:#89AC76'><b>Примечание:</b></span><br>\n",
    "Нулевая гипотеза отвергнута, наблюдаются статистические различия среднего возраста клиентов которые ушли / остались."
   ]
  },
  {
   "cell_type": "markdown",
   "metadata": {},
   "source": [
    "### Различие кредитного скоринга между теми клиентами, которые ушли и теми, которые остались. ###"
   ]
  },
  {
   "cell_type": "markdown",
   "metadata": {},
   "source": [
    "Проверим гипотезу различия кредитного скоринга между теми клиентами, которые ушли и теми, которые остались.\n",
    "\n",
    "Сформулируем гипотезы:\n",
    "\n",
    "- H0: Среднее значение кредитного скоринга оставшихся и ушедших клиентов банка равно;\n",
    "- H1: Среднее значение кредитного скоринга оставшихся и ушедших клиентов банка отличается."
   ]
  },
  {
   "cell_type": "code",
   "execution_count": 36,
   "metadata": {},
   "outputs": [
    {
     "data": {
      "image/png": "[encoded data removed]",
      "text/plain": [
       "<Figure size 546.375x504 with 1 Axes>"
      ]
     },
     "metadata": {
      "needs_background": "light"
     },
     "output_type": "display_data"
    }
   ],
   "source": [
    "# еще раз посмотрим на распределение кредитного скоринга.\n",
    "sns.displot(data=df,x='score', hue='churn', height=7, aspect=1, kde=True, multiple='stack')\n",
    "plt.title('Распределение признака: кредитный скоринг',fontsize=15)\n",
    "plt.show()"
   ]
  },
  {
   "cell_type": "code",
   "execution_count": 37,
   "metadata": {},
   "outputs": [
    {
     "name": "stdout",
     "output_type": "stream",
     "text": [
      "Дисперсия оставшихся: 9149.66\n",
      "Дисперсия ушедших: 10064.4\n"
     ]
    }
   ],
   "source": [
    "# выведем дисперсии выборок.\n",
    "print('Дисперсия оставшихся:',selection_0['score'].var().round(2))\n",
    "print('Дисперсия ушедших:',selection_1['score'].var().round(2))"
   ]
  },
  {
   "cell_type": "markdown",
   "metadata": {},
   "source": [
    "<span style='color:#89AC76'><b>Примечание:</b></span><br>\n",
    "Присутствует различие дисперсий приблизительно 10%, анологично, что в предыдущих гипотезах, используем U-критерий Манна — Уитни."
   ]
  },
  {
   "cell_type": "code",
   "execution_count": 38,
   "metadata": {},
   "outputs": [
    {
     "name": "stdout",
     "output_type": "stream",
     "text": [
      "p-значение: 0.01986866117272834\n",
      "Отвергаем нулевую гипотезу\n"
     ]
    }
   ],
   "source": [
    "# критический уровень статистической значимости.\n",
    "alpha = 0.05 \n",
    "\n",
    "results = st.mannwhitneyu(\n",
    "    selection_0['score'], \n",
    "    selection_1['score'])\n",
    "\n",
    "# проверяем гипотезу о равенстве медиан двух независимых совокупностей.\n",
    "print('p-значение:', results.pvalue)\n",
    "\n",
    "if (results.pvalue < alpha):\n",
    "    print(\"Отвергаем нулевую гипотезу\")\n",
    "else:\n",
    "    print(\"Не получилось отвергнуть нулевую гипотезу\")"
   ]
  },
  {
   "cell_type": "markdown",
   "metadata": {},
   "source": [
    "<span style='color:#89AC76'><b>Примечание:</b></span><br>\n",
    "Нулевая гипотеза отвергнута, наблюдаются статистические различия среднего кредитного скоринга клиентов которые ушли / остались."
   ]
  },
  {
   "cell_type": "markdown",
   "metadata": {},
   "source": [
    "<span style='color:#00541F'><b>ВЫВОД ПО РАЗДЕЛУ:</b></span><br>\n",
    "\n",
    "Были проверены следующие гипотезы:\n",
    "- Равенство доходов клиентов которые ушли в отток / остались. Нулевая гипотеза <b>подтвердилась</b>;\n",
    "- Равенство возраста клиентов которые ушли в отток / остались. Нулевая гипотеза была <b>отвергнута</b>;\n",
    "- Равенство кредитного скоринга клиентов которые ушли в отток / остались. Нулевая гипотеза была <b>отвергнута</b>."
   ]
  },
  {
   "cell_type": "markdown",
   "metadata": {},
   "source": [
    "## Общий вывод и рекомендации. ##"
   ]
  },
  {
   "cell_type": "markdown",
   "metadata": {},
   "source": [
    "<span style='color:#00541F'><b>ОБЩИЙ ВЫВОД:</b></span><br>\n",
    "\n",
    "- В имеющихся данных содержится информация о <b>10000</b> уникальных клиентах банка из Ярославля, Рыбинска и Ростова Великого;\n",
    "- Самый большой филиал находится в Ярославле (<b>5000</b> клиентов), в Рыбинске и Ростове Великом равное количество клиентов;\n",
    "- Гендерный состав в приблизительно в размере <b>10%</b> перевешивает в сторону мужского пола;\n",
    "- Возраст клиентов варьируется от <b>18</b> до <b>92</b> лет, средний возраст клиента составляет <b>39</b> лет;\n",
    "- Остаток на балансе варьируется от <b>3768</b> до <b>250898</b> рублей, средний остаток на балансе составляет <b>120000</b> рублей;\n",
    "- Средняя заработная плата клиента составляет <b>100000</b> рублей;\n",
    "- Клиенты пользуются от <b>1</b> до <b>4</b> продуктов банка, чаще <b>1-2</b>-мя продуктами;\n",
    "- Кредитная карта есть у <b>70%</b> клиентов;\n",
    "- Количество лояльных клиентов составляет приблизительно <b>53%</b> от выборки;\n",
    "- Количество склонных к оттоку клиентов составляет <b>21%</b> от выборки.\n",
    "- Согласно матрице корреляции, мы имеем очень слабую связь между признаками.<br>Тем не менее мы делаем предположение, что чем старше становится клиентом, тем его склонность к оттоку возрастает;\n",
    "- В процентном соотношении по городам, больше всего отток происходит в Ростове Великом, меньше всего в Ярославе;\n",
    "- Кредитный скоринг не имеет значительной взаимосвязи с оттоком клиентов, <br>более того он практически равен между группами ушедших и оставшихся клиентов; \n",
    "- Клиенты - женщины чуть больше склонны к оттоку, нежели клиенты - мужчины;\n",
    "- Клиенты в возрасте <b>40</b> - <b>60</b> лет более склонны уходить, нежели клиенты более младшего возраста;\n",
    "- Отток среди клиентов с <b>3-4</b> продуктами в процентном соотношении выше(данные клиенты уходят практически все),<br> чем среди клиентов с <b>1-2</b> продуктами;\n",
    "- Количество объектов собственности и заработная плата не имеет значительную взаимосвязь с оттоком клиентов;\n",
    "- Лояльные клиенты склонны уходить меньше, чем не лояльные;\n",
    "- Были проверены следующие гипотезы:\n",
    "    - Равенство доходов клиентов которые ушли в отток / остались. Нулевая гипотеза <b>подтвердилась</b>;\n",
    "    - Равенство возраста клиентов которые ушли в отток / остались. Нулевая гипотеза была <b>отвергнута</b>;\n",
    "    - Равенство кредитного скоринга клиентов которые ушли в отток / остались. Нулевая гипотеза была <b>отвергнута</b>.\n",
    "\n",
    "<span style='color:#00541F'><b>В результате полученных выводов, можно сделать заключение о портрете клиента:</b></span><br></b>\n",
    "\n",
    "<span style='color:#9B2D30'><b>Клиент склонный уходить в отток:</b></span>\n",
    "- Пользователи проживающие в городе <b>Ростов Великий</b>;\n",
    "- Пользователи <b>женского</b> пола;\n",
    "- Пользователи в возрасте от <b>40</b> до <b>60</b> лет и выше;\n",
    "- Пользователи пользующиеся <b>3-4</b> продуктами банка;\n",
    "- Пользователи с <b>низким</b> уровнем лояльности.\n",
    "\n",
    "<span style='color:#00541F'><b>Клиент склонный остаться с банком:</b></span>\n",
    "- Пользователи проживающие в городе <b>Рыбинск</b>;\n",
    "- Пользователи <b>мужского</b> пола;\n",
    "- Пользователи в возрасте от <b>25</b> до <b>40</b> лет;\n",
    "- Пользователи пользующиеся <b>1-2</b> продуктами банка;\n",
    "- Пользователи с <b>высоким</b> уровнем лояльности."
   ]
  },
  {
   "cell_type": "markdown",
   "metadata": {},
   "source": [
    "<span style='color:#00541F'><b>РЕКОМЕНДАЦИИ:</b></span><br>\n",
    "\n",
    "- Предложения о вкладе с повышенной процентной ставкой, с акцентом на предпенсионную категорию граждан;\n",
    "- Клиентов с 1-2 продуктами необходимо увлечь своего рода спецпредложениями льготного кредитования, подарочными инвестиционными активами и т.д, для клиентов с 3-4 продуктами, необходимо сделать тоже самое, только расширить список предложений и сделать их еще более выгодными. Например добавить льготную ипотеку для данной категории клиентов.\n",
    "- Повышение лояльности пользователей за счёт создания удобных и простых сервисов для пользования банковскими услугами;\n",
    "- Следует изучить обстоятельства в городе Ростов Великий и заинтересовать предложениями, которые свойственны только данному городу;\n",
    "- С учетом приличного дохода у женщин, которые попадают в отток, можно предложить особенные кредитные условия для женщин-предпринимателей;\n",
    "- Возможно стоит заключить контракт с несколькими магазинами-партнерами, которые безусловно заинтересуют часть женщин. Добавить бонус в виде кэшбэка при оплата картой банка Метанпром. \n"
   ]
  },
  {
   "cell_type": "markdown",
   "metadata": {},
   "source": [
    "## Презентация. ##"
   ]
  },
  {
   "cell_type": "markdown",
   "metadata": {},
   "source": [
    "<span style='color:#4285B4'><b>ССЫЛКА НА ПРЕЗЕНТАЦИЮ:</b></span> https://drive.google.com/file/d/1Tfzzqd_NEHnZF0ZK53vGiA6Gba8ua-Wu/view?usp=share_link\n",
    "\n",
    "<span style='color:#4285B4'><b>ССЫЛКА НА ДАШБОРД:</b></span> https://public.tableau.com/app/profile/alexander4262/viz/final_project_bank_16775122612180/main_sheet"
   ]
  }
 ],
 "metadata": {
  "ExecuteTimeLog": [
   {
    "duration": 428,
    "start_time": "2023-02-22T08:13:18.465Z"
   },
   {
    "duration": 2,
    "start_time": "2023-02-22T08:13:36.144Z"
   },
   {
    "duration": 93,
    "start_time": "2023-02-22T08:14:14.219Z"
   },
   {
    "duration": 39,
    "start_time": "2023-02-22T08:14:52.766Z"
   },
   {
    "duration": 88,
    "start_time": "2023-02-22T08:16:34.654Z"
   },
   {
    "duration": 52,
    "start_time": "2023-02-22T08:16:45.093Z"
   },
   {
    "duration": 42,
    "start_time": "2023-02-22T08:17:46.726Z"
   },
   {
    "duration": 19,
    "start_time": "2023-02-22T08:19:15.495Z"
   },
   {
    "duration": 6,
    "start_time": "2023-02-22T08:19:34.766Z"
   },
   {
    "duration": 8,
    "start_time": "2023-02-22T08:19:42.534Z"
   },
   {
    "duration": 4,
    "start_time": "2023-02-22T08:19:47.312Z"
   },
   {
    "duration": 4,
    "start_time": "2023-02-22T09:03:39.093Z"
   },
   {
    "duration": 18,
    "start_time": "2023-02-22T09:03:40.726Z"
   },
   {
    "duration": 17,
    "start_time": "2023-02-22T09:04:42.759Z"
   },
   {
    "duration": 24,
    "start_time": "2023-02-22T09:07:59.165Z"
   },
   {
    "duration": 23,
    "start_time": "2023-02-22T09:08:22.796Z"
   },
   {
    "duration": 15,
    "start_time": "2023-02-22T09:08:32.118Z"
   },
   {
    "duration": 7,
    "start_time": "2023-02-22T09:08:41.796Z"
   },
   {
    "duration": 7,
    "start_time": "2023-02-22T09:08:52.061Z"
   },
   {
    "duration": 7,
    "start_time": "2023-02-22T09:09:00.787Z"
   },
   {
    "duration": 8,
    "start_time": "2023-02-22T09:09:04.386Z"
   },
   {
    "duration": 7,
    "start_time": "2023-02-22T09:09:17.663Z"
   },
   {
    "duration": 5,
    "start_time": "2023-02-22T09:09:41.370Z"
   },
   {
    "duration": 6,
    "start_time": "2023-02-22T09:09:56.128Z"
   },
   {
    "duration": 5,
    "start_time": "2023-02-22T09:09:59.912Z"
   },
   {
    "duration": 5,
    "start_time": "2023-02-22T09:10:13.525Z"
   },
   {
    "duration": 5,
    "start_time": "2023-02-22T09:10:46.733Z"
   },
   {
    "duration": 6,
    "start_time": "2023-02-22T09:11:25.928Z"
   },
   {
    "duration": 7,
    "start_time": "2023-02-22T09:11:49.333Z"
   },
   {
    "duration": 9,
    "start_time": "2023-02-22T09:12:07.231Z"
   },
   {
    "duration": 8,
    "start_time": "2023-02-22T09:12:11.965Z"
   },
   {
    "duration": 7,
    "start_time": "2023-02-22T09:12:20.283Z"
   },
   {
    "duration": 8,
    "start_time": "2023-02-22T09:12:54.977Z"
   },
   {
    "duration": 21,
    "start_time": "2023-02-22T09:14:12.861Z"
   },
   {
    "duration": 24,
    "start_time": "2023-02-22T09:14:28.447Z"
   },
   {
    "duration": 11,
    "start_time": "2023-02-22T09:14:37.778Z"
   },
   {
    "duration": 11,
    "start_time": "2023-02-22T09:14:47.619Z"
   },
   {
    "duration": 108,
    "start_time": "2023-02-22T09:15:01.610Z"
   },
   {
    "duration": 10,
    "start_time": "2023-02-22T09:15:05.548Z"
   },
   {
    "duration": 17,
    "start_time": "2023-02-22T09:15:12.737Z"
   },
   {
    "duration": 7,
    "start_time": "2023-02-22T09:15:42.545Z"
   },
   {
    "duration": 7,
    "start_time": "2023-02-22T09:15:49.924Z"
   },
   {
    "duration": 9,
    "start_time": "2023-02-22T09:16:00.063Z"
   },
   {
    "duration": 6,
    "start_time": "2023-02-22T09:16:05.725Z"
   },
   {
    "duration": 8,
    "start_time": "2023-02-22T09:16:56.800Z"
   },
   {
    "duration": 973,
    "start_time": "2023-02-22T09:29:43.066Z"
   },
   {
    "duration": 194,
    "start_time": "2023-02-22T09:29:49.130Z"
   },
   {
    "duration": 217,
    "start_time": "2023-02-22T09:30:31.953Z"
   },
   {
    "duration": 336,
    "start_time": "2023-02-22T09:32:17.727Z"
   },
   {
    "duration": 217,
    "start_time": "2023-02-22T09:37:20.063Z"
   },
   {
    "duration": 208,
    "start_time": "2023-02-22T09:37:27.547Z"
   },
   {
    "duration": 206,
    "start_time": "2023-02-22T09:37:49.329Z"
   },
   {
    "duration": 206,
    "start_time": "2023-02-22T09:38:05.297Z"
   },
   {
    "duration": 241,
    "start_time": "2023-02-22T09:38:12.553Z"
   },
   {
    "duration": 225,
    "start_time": "2023-02-22T09:38:44.993Z"
   },
   {
    "duration": 223,
    "start_time": "2023-02-22T09:38:50.000Z"
   },
   {
    "duration": 10,
    "start_time": "2023-02-22T09:40:10.562Z"
   },
   {
    "duration": 12,
    "start_time": "2023-02-22T09:42:22.329Z"
   },
   {
    "duration": 8,
    "start_time": "2023-02-22T09:42:32.767Z"
   },
   {
    "duration": 9,
    "start_time": "2023-02-22T09:42:40.141Z"
   },
   {
    "duration": 11,
    "start_time": "2023-02-22T09:43:49.787Z"
   },
   {
    "duration": 79,
    "start_time": "2023-02-22T15:10:25.899Z"
   },
   {
    "duration": 42,
    "start_time": "2023-02-22T15:21:20.453Z"
   },
   {
    "duration": 1305,
    "start_time": "2023-02-22T15:21:34.418Z"
   },
   {
    "duration": 96,
    "start_time": "2023-02-22T15:21:35.725Z"
   },
   {
    "duration": 13,
    "start_time": "2023-02-22T15:21:35.822Z"
   },
   {
    "duration": 5,
    "start_time": "2023-02-22T15:21:35.836Z"
   },
   {
    "duration": 20,
    "start_time": "2023-02-22T15:21:35.843Z"
   },
   {
    "duration": 6,
    "start_time": "2023-02-22T15:21:35.865Z"
   },
   {
    "duration": 36,
    "start_time": "2023-02-22T15:21:35.872Z"
   },
   {
    "duration": 6,
    "start_time": "2023-02-22T15:21:35.910Z"
   },
   {
    "duration": 303,
    "start_time": "2023-02-22T15:21:35.917Z"
   },
   {
    "duration": 14,
    "start_time": "2023-02-22T15:21:36.222Z"
   },
   {
    "duration": 13,
    "start_time": "2023-02-22T15:21:36.238Z"
   },
   {
    "duration": 15,
    "start_time": "2023-02-22T15:21:36.253Z"
   },
   {
    "duration": 9,
    "start_time": "2023-02-22T15:22:44.594Z"
   },
   {
    "duration": 8,
    "start_time": "2023-02-22T15:34:16.667Z"
   },
   {
    "duration": 9,
    "start_time": "2023-02-22T15:37:24.395Z"
   },
   {
    "duration": 98,
    "start_time": "2023-02-22T15:38:06.772Z"
   },
   {
    "duration": 13,
    "start_time": "2023-02-22T15:38:10.009Z"
   },
   {
    "duration": 13,
    "start_time": "2023-02-22T15:39:17.580Z"
   },
   {
    "duration": 18,
    "start_time": "2023-02-22T15:39:39.969Z"
   },
   {
    "duration": 25,
    "start_time": "2023-02-22T15:39:54.680Z"
   },
   {
    "duration": 18,
    "start_time": "2023-02-22T15:40:01.087Z"
   },
   {
    "duration": 1100,
    "start_time": "2023-02-22T15:40:23.845Z"
   },
   {
    "duration": 52,
    "start_time": "2023-02-22T15:40:25.778Z"
   },
   {
    "duration": 12,
    "start_time": "2023-02-22T15:40:26.689Z"
   },
   {
    "duration": 3,
    "start_time": "2023-02-22T15:40:30.889Z"
   },
   {
    "duration": 20,
    "start_time": "2023-02-22T15:40:31.473Z"
   },
   {
    "duration": 7,
    "start_time": "2023-02-22T15:40:35.581Z"
   },
   {
    "duration": 11,
    "start_time": "2023-02-22T15:40:36.324Z"
   },
   {
    "duration": 7,
    "start_time": "2023-02-22T15:40:39.058Z"
   },
   {
    "duration": 234,
    "start_time": "2023-02-22T15:40:39.805Z"
   },
   {
    "duration": 8,
    "start_time": "2023-02-22T15:40:44.230Z"
   },
   {
    "duration": 8,
    "start_time": "2023-02-22T15:40:47.028Z"
   },
   {
    "duration": 18,
    "start_time": "2023-02-22T15:41:04.160Z"
   },
   {
    "duration": 4,
    "start_time": "2023-02-22T15:41:28.116Z"
   },
   {
    "duration": 16,
    "start_time": "2023-02-22T15:41:36.098Z"
   },
   {
    "duration": 26,
    "start_time": "2023-02-22T15:41:56.169Z"
   },
   {
    "duration": 9,
    "start_time": "2023-02-22T15:42:01.302Z"
   },
   {
    "duration": 8,
    "start_time": "2023-02-22T15:42:41.048Z"
   },
   {
    "duration": 52,
    "start_time": "2023-02-22T15:53:31.634Z"
   },
   {
    "duration": 19,
    "start_time": "2023-02-22T15:54:08.051Z"
   },
   {
    "duration": 8,
    "start_time": "2023-02-22T15:54:28.569Z"
   },
   {
    "duration": 49,
    "start_time": "2023-02-22T15:58:32.242Z"
   },
   {
    "duration": 12,
    "start_time": "2023-02-22T15:58:36.858Z"
   },
   {
    "duration": 55,
    "start_time": "2023-02-22T15:59:14.870Z"
   },
   {
    "duration": 5,
    "start_time": "2023-02-22T15:59:34.794Z"
   },
   {
    "duration": 5,
    "start_time": "2023-02-22T15:59:56.465Z"
   },
   {
    "duration": 6,
    "start_time": "2023-02-22T16:01:12.756Z"
   },
   {
    "duration": 5,
    "start_time": "2023-02-22T16:01:13.583Z"
   },
   {
    "duration": 4,
    "start_time": "2023-02-22T16:04:03.697Z"
   },
   {
    "duration": 4,
    "start_time": "2023-02-22T16:15:07.963Z"
   },
   {
    "duration": 98,
    "start_time": "2023-02-22T16:15:14.628Z"
   },
   {
    "duration": 6,
    "start_time": "2023-02-22T16:15:17.325Z"
   },
   {
    "duration": 1209,
    "start_time": "2023-02-22T18:44:28.277Z"
   },
   {
    "duration": 109,
    "start_time": "2023-02-22T18:44:29.488Z"
   },
   {
    "duration": 11,
    "start_time": "2023-02-22T18:44:29.598Z"
   },
   {
    "duration": 5,
    "start_time": "2023-02-22T18:44:29.611Z"
   },
   {
    "duration": 13,
    "start_time": "2023-02-22T18:44:29.617Z"
   },
   {
    "duration": 9,
    "start_time": "2023-02-22T18:44:29.631Z"
   },
   {
    "duration": 9,
    "start_time": "2023-02-22T18:44:29.641Z"
   },
   {
    "duration": 6,
    "start_time": "2023-02-22T18:44:29.651Z"
   },
   {
    "duration": 237,
    "start_time": "2023-02-22T18:44:29.659Z"
   },
   {
    "duration": 7,
    "start_time": "2023-02-22T18:44:29.898Z"
   },
   {
    "duration": 17,
    "start_time": "2023-02-22T18:44:29.907Z"
   },
   {
    "duration": 7,
    "start_time": "2023-02-22T18:44:29.925Z"
   },
   {
    "duration": 6,
    "start_time": "2023-02-22T18:44:29.934Z"
   },
   {
    "duration": 6,
    "start_time": "2023-02-22T18:44:29.941Z"
   },
   {
    "duration": 10,
    "start_time": "2023-02-22T18:44:29.948Z"
   },
   {
    "duration": 6,
    "start_time": "2023-02-22T18:44:29.960Z"
   },
   {
    "duration": 145,
    "start_time": "2023-02-22T18:50:42.496Z"
   },
   {
    "duration": 371,
    "start_time": "2023-02-22T18:50:58.214Z"
   },
   {
    "duration": 162,
    "start_time": "2023-02-22T18:51:41.295Z"
   },
   {
    "duration": 303,
    "start_time": "2023-02-22T18:51:49.431Z"
   },
   {
    "duration": 158,
    "start_time": "2023-02-22T18:51:55.374Z"
   },
   {
    "duration": 109,
    "start_time": "2023-02-22T18:53:14.178Z"
   },
   {
    "duration": 12,
    "start_time": "2023-02-22T18:53:25.267Z"
   },
   {
    "duration": 5216,
    "start_time": "2023-02-22T18:53:31.184Z"
   },
   {
    "duration": 9,
    "start_time": "2023-02-22T18:54:17.872Z"
   },
   {
    "duration": 240,
    "start_time": "2023-02-22T18:54:37.123Z"
   },
   {
    "duration": 18,
    "start_time": "2023-02-22T18:55:22.860Z"
   },
   {
    "duration": 139,
    "start_time": "2023-02-22T18:55:41.284Z"
   },
   {
    "duration": 137,
    "start_time": "2023-02-22T18:56:05.614Z"
   },
   {
    "duration": 4,
    "start_time": "2023-02-22T18:56:22.378Z"
   },
   {
    "duration": 43,
    "start_time": "2023-02-22T18:56:26.960Z"
   },
   {
    "duration": 133,
    "start_time": "2023-02-22T18:57:26.966Z"
   },
   {
    "duration": 305,
    "start_time": "2023-02-22T18:58:59.733Z"
   },
   {
    "duration": 564,
    "start_time": "2023-02-22T18:59:41.669Z"
   },
   {
    "duration": 335,
    "start_time": "2023-02-22T18:59:58.197Z"
   },
   {
    "duration": 212,
    "start_time": "2023-02-22T19:02:27.750Z"
   },
   {
    "duration": 219,
    "start_time": "2023-02-22T19:02:40.251Z"
   },
   {
    "duration": 192,
    "start_time": "2023-02-22T19:02:51.833Z"
   },
   {
    "duration": 213,
    "start_time": "2023-02-22T19:03:08.117Z"
   },
   {
    "duration": 167,
    "start_time": "2023-02-22T19:04:19.886Z"
   },
   {
    "duration": 199,
    "start_time": "2023-02-22T19:05:18.964Z"
   },
   {
    "duration": 230,
    "start_time": "2023-02-22T19:06:14.865Z"
   },
   {
    "duration": 179,
    "start_time": "2023-02-22T19:06:25.562Z"
   },
   {
    "duration": 167,
    "start_time": "2023-02-22T19:06:35.349Z"
   },
   {
    "duration": 174,
    "start_time": "2023-02-22T19:10:35.639Z"
   },
   {
    "duration": 213,
    "start_time": "2023-02-22T19:10:57.043Z"
   },
   {
    "duration": 181,
    "start_time": "2023-02-22T19:12:00.773Z"
   },
   {
    "duration": 197,
    "start_time": "2023-02-22T19:13:23.728Z"
   },
   {
    "duration": 344,
    "start_time": "2023-02-22T19:14:21.317Z"
   },
   {
    "duration": 206,
    "start_time": "2023-02-22T19:14:42.122Z"
   },
   {
    "duration": 215,
    "start_time": "2023-02-22T19:14:48.606Z"
   },
   {
    "duration": 229,
    "start_time": "2023-02-22T19:14:54.567Z"
   },
   {
    "duration": 213,
    "start_time": "2023-02-22T19:14:58.697Z"
   },
   {
    "duration": 201,
    "start_time": "2023-02-22T19:15:03.043Z"
   },
   {
    "duration": 193,
    "start_time": "2023-02-22T19:15:08.739Z"
   },
   {
    "duration": 201,
    "start_time": "2023-02-22T19:15:26.886Z"
   },
   {
    "duration": 198,
    "start_time": "2023-02-22T19:15:47.709Z"
   },
   {
    "duration": 186,
    "start_time": "2023-02-22T19:16:06.926Z"
   },
   {
    "duration": 198,
    "start_time": "2023-02-22T19:16:34.045Z"
   },
   {
    "duration": 216,
    "start_time": "2023-02-22T19:17:04.094Z"
   },
   {
    "duration": 204,
    "start_time": "2023-02-22T19:19:46.318Z"
   },
   {
    "duration": 230,
    "start_time": "2023-02-22T19:19:57.100Z"
   },
   {
    "duration": 208,
    "start_time": "2023-02-22T19:31:15.472Z"
   },
   {
    "duration": 179,
    "start_time": "2023-02-22T19:33:04.675Z"
   },
   {
    "duration": 138,
    "start_time": "2023-02-22T19:33:10.827Z"
   },
   {
    "duration": 178,
    "start_time": "2023-02-22T19:33:21.640Z"
   },
   {
    "duration": 152,
    "start_time": "2023-02-22T19:33:43.536Z"
   },
   {
    "duration": 216,
    "start_time": "2023-02-22T19:33:54.270Z"
   },
   {
    "duration": 876,
    "start_time": "2023-02-22T19:34:06.150Z"
   },
   {
    "duration": 1032,
    "start_time": "2023-02-22T19:34:26.100Z"
   },
   {
    "duration": 923,
    "start_time": "2023-02-22T19:34:37.529Z"
   },
   {
    "duration": 118,
    "start_time": "2023-02-22T19:34:51.041Z"
   },
   {
    "duration": 865,
    "start_time": "2023-02-22T19:34:57.995Z"
   },
   {
    "duration": 1065,
    "start_time": "2023-02-22T19:35:16.884Z"
   },
   {
    "duration": 854,
    "start_time": "2023-02-22T19:35:50.941Z"
   },
   {
    "duration": 180,
    "start_time": "2023-02-22T19:36:37.844Z"
   },
   {
    "duration": 364,
    "start_time": "2023-02-22T19:36:42.514Z"
   },
   {
    "duration": 184,
    "start_time": "2023-02-22T19:36:48.941Z"
   },
   {
    "duration": 11,
    "start_time": "2023-02-22T19:40:28.536Z"
   },
   {
    "duration": 179,
    "start_time": "2023-02-22T19:41:04.730Z"
   },
   {
    "duration": 262,
    "start_time": "2023-02-22T19:42:04.447Z"
   },
   {
    "duration": 875,
    "start_time": "2023-02-22T19:42:18.664Z"
   },
   {
    "duration": 200,
    "start_time": "2023-02-22T19:42:32.482Z"
   },
   {
    "duration": 232,
    "start_time": "2023-02-22T19:42:39.032Z"
   },
   {
    "duration": 954,
    "start_time": "2023-02-22T19:43:40.033Z"
   },
   {
    "duration": 200,
    "start_time": "2023-02-22T19:43:56.932Z"
   },
   {
    "duration": 231,
    "start_time": "2023-02-22T19:44:06.492Z"
   },
   {
    "duration": 9,
    "start_time": "2023-02-22T19:48:29.797Z"
   },
   {
    "duration": 9,
    "start_time": "2023-02-22T19:48:45.228Z"
   },
   {
    "duration": 103,
    "start_time": "2023-02-22T19:48:49.656Z"
   },
   {
    "duration": 1069,
    "start_time": "2023-02-22T19:49:29.061Z"
   },
   {
    "duration": 246,
    "start_time": "2023-02-22T19:49:34.523Z"
   },
   {
    "duration": 215,
    "start_time": "2023-02-22T19:49:39.669Z"
   },
   {
    "duration": 150,
    "start_time": "2023-02-22T19:49:51.232Z"
   },
   {
    "duration": 127,
    "start_time": "2023-02-22T19:49:57.656Z"
   },
   {
    "duration": 139,
    "start_time": "2023-02-22T19:50:59.998Z"
   },
   {
    "duration": 146,
    "start_time": "2023-02-22T19:52:09.379Z"
   },
   {
    "duration": 63,
    "start_time": "2023-02-22T19:52:31.517Z"
   },
   {
    "duration": 154,
    "start_time": "2023-02-22T19:52:40.269Z"
   },
   {
    "duration": 134,
    "start_time": "2023-02-22T19:52:52.884Z"
   },
   {
    "duration": 143,
    "start_time": "2023-02-22T19:55:03.219Z"
   },
   {
    "duration": 18,
    "start_time": "2023-02-22T19:55:19.061Z"
   },
   {
    "duration": 139,
    "start_time": "2023-02-22T19:55:33.101Z"
   },
   {
    "duration": 144,
    "start_time": "2023-02-22T19:55:41.337Z"
   },
   {
    "duration": 140,
    "start_time": "2023-02-22T19:55:45.628Z"
   },
   {
    "duration": 142,
    "start_time": "2023-02-22T19:55:49.960Z"
   },
   {
    "duration": 32,
    "start_time": "2023-02-22T19:55:54.288Z"
   },
   {
    "duration": 139,
    "start_time": "2023-02-22T19:55:58.150Z"
   },
   {
    "duration": 139,
    "start_time": "2023-02-22T19:57:07.483Z"
   },
   {
    "duration": 144,
    "start_time": "2023-02-22T19:57:21.518Z"
   },
   {
    "duration": 17,
    "start_time": "2023-02-22T20:07:47.693Z"
   },
   {
    "duration": 929,
    "start_time": "2023-02-22T20:11:53.201Z"
   },
   {
    "duration": 152,
    "start_time": "2023-02-22T20:12:09.280Z"
   },
   {
    "duration": 129,
    "start_time": "2023-02-22T20:12:42.687Z"
   },
   {
    "duration": 41,
    "start_time": "2023-02-22T20:13:04.343Z"
   },
   {
    "duration": 142,
    "start_time": "2023-02-22T20:13:09.618Z"
   },
   {
    "duration": 357,
    "start_time": "2023-02-22T20:14:56.818Z"
   },
   {
    "duration": 149,
    "start_time": "2023-02-22T20:15:16.049Z"
   },
   {
    "duration": 144,
    "start_time": "2023-02-22T20:15:20.466Z"
   },
   {
    "duration": 226,
    "start_time": "2023-02-22T20:15:42.505Z"
   },
   {
    "duration": 199,
    "start_time": "2023-02-22T20:15:48.546Z"
   },
   {
    "duration": 970,
    "start_time": "2023-02-22T20:15:53.999Z"
   },
   {
    "duration": 211,
    "start_time": "2023-02-22T20:16:00.506Z"
   },
   {
    "duration": 4,
    "start_time": "2023-02-22T20:24:15.901Z"
   },
   {
    "duration": 4,
    "start_time": "2023-02-22T20:24:37.668Z"
   },
   {
    "duration": 767,
    "start_time": "2023-02-22T20:25:02.255Z"
   },
   {
    "duration": 4,
    "start_time": "2023-02-22T20:25:52.172Z"
   },
   {
    "duration": 4,
    "start_time": "2023-02-22T20:26:13.618Z"
   },
   {
    "duration": 4,
    "start_time": "2023-02-22T20:29:38.993Z"
   },
   {
    "duration": 1043,
    "start_time": "2023-02-22T20:29:46.752Z"
   },
   {
    "duration": 3,
    "start_time": "2023-02-22T20:30:28.215Z"
   },
   {
    "duration": 832,
    "start_time": "2023-02-22T20:30:28.952Z"
   },
   {
    "duration": 5,
    "start_time": "2023-02-22T20:30:54.615Z"
   },
   {
    "duration": 924,
    "start_time": "2023-02-22T20:30:55.578Z"
   },
   {
    "duration": 5,
    "start_time": "2023-02-22T20:32:34.496Z"
   },
   {
    "duration": 882,
    "start_time": "2023-02-22T20:32:35.193Z"
   },
   {
    "duration": 4,
    "start_time": "2023-02-22T20:34:38.482Z"
   },
   {
    "duration": 1042,
    "start_time": "2023-02-22T20:34:39.178Z"
   },
   {
    "duration": 6,
    "start_time": "2023-02-22T20:34:44.666Z"
   },
   {
    "duration": 930,
    "start_time": "2023-02-22T20:34:45.602Z"
   },
   {
    "duration": 4,
    "start_time": "2023-02-22T20:34:57.063Z"
   },
   {
    "duration": 877,
    "start_time": "2023-02-22T20:34:57.589Z"
   },
   {
    "duration": 4,
    "start_time": "2023-02-22T20:36:20.913Z"
   },
   {
    "duration": 3,
    "start_time": "2023-02-22T20:40:04.194Z"
   },
   {
    "duration": 586,
    "start_time": "2023-02-22T20:40:17.252Z"
   },
   {
    "duration": 3,
    "start_time": "2023-02-22T20:40:31.768Z"
   },
   {
    "duration": 898,
    "start_time": "2023-02-22T20:40:32.277Z"
   },
   {
    "duration": 4,
    "start_time": "2023-02-22T20:41:15.705Z"
   },
   {
    "duration": 791,
    "start_time": "2023-02-22T20:41:16.456Z"
   },
   {
    "duration": 4,
    "start_time": "2023-02-22T20:41:46.342Z"
   },
   {
    "duration": 761,
    "start_time": "2023-02-22T20:41:47.925Z"
   },
   {
    "duration": 4,
    "start_time": "2023-02-22T20:42:54.135Z"
   },
   {
    "duration": 1066,
    "start_time": "2023-02-22T20:42:54.966Z"
   },
   {
    "duration": 214,
    "start_time": "2023-02-22T20:44:04.048Z"
   },
   {
    "duration": 194,
    "start_time": "2023-02-22T20:44:12.301Z"
   },
   {
    "duration": 4,
    "start_time": "2023-02-22T20:45:57.475Z"
   },
   {
    "duration": 838,
    "start_time": "2023-02-22T20:45:58.050Z"
   },
   {
    "duration": 969,
    "start_time": "2023-02-22T20:46:34.369Z"
   },
   {
    "duration": 4,
    "start_time": "2023-02-22T20:47:03.983Z"
   },
   {
    "duration": 814,
    "start_time": "2023-02-22T20:47:04.571Z"
   },
   {
    "duration": 4,
    "start_time": "2023-02-22T20:47:16.751Z"
   },
   {
    "duration": 886,
    "start_time": "2023-02-22T20:47:25.571Z"
   },
   {
    "duration": 4,
    "start_time": "2023-02-22T20:48:41.065Z"
   },
   {
    "duration": 818,
    "start_time": "2023-02-22T20:48:41.548Z"
   },
   {
    "duration": 39,
    "start_time": "2023-02-22T21:09:57.620Z"
   },
   {
    "duration": 6,
    "start_time": "2023-02-22T21:14:28.568Z"
   },
   {
    "duration": 4,
    "start_time": "2023-02-22T21:14:33.192Z"
   },
   {
    "duration": 61,
    "start_time": "2023-02-22T21:14:40.204Z"
   },
   {
    "duration": 4,
    "start_time": "2023-02-22T21:14:46.827Z"
   },
   {
    "duration": 15,
    "start_time": "2023-02-22T21:14:55.783Z"
   },
   {
    "duration": 15,
    "start_time": "2023-02-22T21:15:00.801Z"
   },
   {
    "duration": 6,
    "start_time": "2023-02-22T21:15:17.514Z"
   },
   {
    "duration": 4,
    "start_time": "2023-02-22T21:15:30.779Z"
   },
   {
    "duration": 54,
    "start_time": "2023-02-23T09:18:57.194Z"
   },
   {
    "duration": 1342,
    "start_time": "2023-02-23T09:19:09.079Z"
   },
   {
    "duration": 103,
    "start_time": "2023-02-23T09:19:10.423Z"
   },
   {
    "duration": 13,
    "start_time": "2023-02-23T09:19:10.528Z"
   },
   {
    "duration": 4,
    "start_time": "2023-02-23T09:19:10.543Z"
   },
   {
    "duration": 13,
    "start_time": "2023-02-23T09:19:10.549Z"
   },
   {
    "duration": 6,
    "start_time": "2023-02-23T09:19:10.564Z"
   },
   {
    "duration": 37,
    "start_time": "2023-02-23T09:19:10.571Z"
   },
   {
    "duration": 6,
    "start_time": "2023-02-23T09:19:10.610Z"
   },
   {
    "duration": 229,
    "start_time": "2023-02-23T09:19:10.617Z"
   },
   {
    "duration": 9,
    "start_time": "2023-02-23T09:19:10.848Z"
   },
   {
    "duration": 7,
    "start_time": "2023-02-23T09:19:10.859Z"
   },
   {
    "duration": 7,
    "start_time": "2023-02-23T09:19:10.868Z"
   },
   {
    "duration": 32,
    "start_time": "2023-02-23T09:19:10.876Z"
   },
   {
    "duration": 7,
    "start_time": "2023-02-23T09:19:10.911Z"
   },
   {
    "duration": 10,
    "start_time": "2023-02-23T09:19:10.919Z"
   },
   {
    "duration": 8,
    "start_time": "2023-02-23T09:19:10.930Z"
   },
   {
    "duration": 65,
    "start_time": "2023-02-23T09:19:10.939Z"
   },
   {
    "duration": 4,
    "start_time": "2023-02-23T09:19:11.006Z"
   },
   {
    "duration": 910,
    "start_time": "2023-02-23T09:19:11.011Z"
   },
   {
    "duration": 4,
    "start_time": "2023-02-23T09:19:11.923Z"
   },
   {
    "duration": 1030,
    "start_time": "2023-02-23T09:19:11.929Z"
   },
   {
    "duration": 1168,
    "start_time": "2023-02-23T09:19:20.321Z"
   },
   {
    "duration": 5,
    "start_time": "2023-02-23T09:22:22.103Z"
   },
   {
    "duration": 19,
    "start_time": "2023-02-23T09:22:32.410Z"
   },
   {
    "duration": 940,
    "start_time": "2023-02-23T09:22:45.678Z"
   },
   {
    "duration": 1058,
    "start_time": "2023-02-23T09:24:01.816Z"
   },
   {
    "duration": 86,
    "start_time": "2023-02-23T09:31:58.840Z"
   },
   {
    "duration": 101,
    "start_time": "2023-02-23T09:32:03.169Z"
   },
   {
    "duration": 980,
    "start_time": "2023-02-23T09:32:23.418Z"
   },
   {
    "duration": 1049,
    "start_time": "2023-02-23T09:34:04.836Z"
   },
   {
    "duration": 14414,
    "start_time": "2023-02-23T09:45:54.896Z"
   },
   {
    "duration": 1136,
    "start_time": "2023-02-23T09:47:44.975Z"
   },
   {
    "duration": 1203,
    "start_time": "2023-02-23T09:48:43.856Z"
   },
   {
    "duration": 1109,
    "start_time": "2023-02-23T09:49:07.681Z"
   },
   {
    "duration": 1138,
    "start_time": "2023-02-23T09:49:15.482Z"
   },
   {
    "duration": 1531,
    "start_time": "2023-02-23T09:49:25.664Z"
   },
   {
    "duration": 1096,
    "start_time": "2023-02-23T09:49:30.739Z"
   },
   {
    "duration": 1176,
    "start_time": "2023-02-23T09:49:46.277Z"
   },
   {
    "duration": 1118,
    "start_time": "2023-02-23T09:50:02.393Z"
   },
   {
    "duration": 1084,
    "start_time": "2023-02-23T09:50:11.135Z"
   },
   {
    "duration": 1252,
    "start_time": "2023-02-23T09:50:24.791Z"
   },
   {
    "duration": 1083,
    "start_time": "2023-02-23T09:50:45.014Z"
   },
   {
    "duration": 1115,
    "start_time": "2023-02-23T09:51:05.680Z"
   },
   {
    "duration": 1112,
    "start_time": "2023-02-23T09:51:28.491Z"
   },
   {
    "duration": 1124,
    "start_time": "2023-02-23T09:51:37.702Z"
   },
   {
    "duration": 1098,
    "start_time": "2023-02-23T09:52:09.050Z"
   },
   {
    "duration": 55549,
    "start_time": "2023-02-23T10:54:28.216Z"
   },
   {
    "duration": 278,
    "start_time": "2023-02-23T11:46:37.690Z"
   },
   {
    "duration": 19040,
    "start_time": "2023-02-23T11:47:56.743Z"
   },
   {
    "duration": 71,
    "start_time": "2023-02-23T11:49:47.932Z"
   },
   {
    "duration": 19605,
    "start_time": "2023-02-23T11:53:37.852Z"
   },
   {
    "duration": 445,
    "start_time": "2023-02-23T11:53:57.459Z"
   },
   {
    "duration": 1472,
    "start_time": "2023-02-23T17:10:05.754Z"
   },
   {
    "duration": 116,
    "start_time": "2023-02-23T17:10:07.228Z"
   },
   {
    "duration": 17,
    "start_time": "2023-02-23T17:10:07.348Z"
   },
   {
    "duration": 4,
    "start_time": "2023-02-23T17:10:07.368Z"
   },
   {
    "duration": 19,
    "start_time": "2023-02-23T17:10:07.374Z"
   },
   {
    "duration": 8,
    "start_time": "2023-02-23T17:10:07.395Z"
   },
   {
    "duration": 27,
    "start_time": "2023-02-23T17:10:07.405Z"
   },
   {
    "duration": 35,
    "start_time": "2023-02-23T17:10:07.433Z"
   },
   {
    "duration": 298,
    "start_time": "2023-02-23T17:10:07.470Z"
   },
   {
    "duration": 8,
    "start_time": "2023-02-23T17:10:07.771Z"
   },
   {
    "duration": 8,
    "start_time": "2023-02-23T17:10:07.781Z"
   },
   {
    "duration": 12,
    "start_time": "2023-02-23T17:10:07.791Z"
   },
   {
    "duration": 14,
    "start_time": "2023-02-23T17:10:07.823Z"
   },
   {
    "duration": 119,
    "start_time": "2023-02-23T17:10:07.841Z"
   },
   {
    "duration": 14,
    "start_time": "2023-02-23T17:10:07.962Z"
   },
   {
    "duration": 10,
    "start_time": "2023-02-23T17:10:07.978Z"
   },
   {
    "duration": 58,
    "start_time": "2023-02-23T17:10:07.990Z"
   },
   {
    "duration": 5,
    "start_time": "2023-02-23T17:10:08.050Z"
   },
   {
    "duration": 1159,
    "start_time": "2023-02-23T17:10:08.060Z"
   },
   {
    "duration": 10,
    "start_time": "2023-02-23T17:10:09.225Z"
   },
   {
    "duration": 1119,
    "start_time": "2023-02-23T17:10:09.244Z"
   },
   {
    "duration": 1279,
    "start_time": "2023-02-23T17:10:10.366Z"
   },
   {
    "duration": 73,
    "start_time": "2023-02-23T17:10:11.648Z"
   },
   {
    "duration": 19256,
    "start_time": "2023-02-23T17:10:11.723Z"
   },
   {
    "duration": 11,
    "start_time": "2023-02-23T17:13:09.792Z"
   },
   {
    "duration": 1212,
    "start_time": "2023-02-23T17:16:29.063Z"
   },
   {
    "duration": 1162,
    "start_time": "2023-02-23T17:16:41.107Z"
   },
   {
    "duration": 1225,
    "start_time": "2023-02-23T17:17:17.469Z"
   },
   {
    "duration": 77,
    "start_time": "2023-02-23T17:18:09.893Z"
   },
   {
    "duration": 84,
    "start_time": "2023-02-23T17:18:42.813Z"
   },
   {
    "duration": 41,
    "start_time": "2023-02-23T17:19:02.162Z"
   },
   {
    "duration": 37,
    "start_time": "2023-02-23T17:19:56.567Z"
   },
   {
    "duration": 36,
    "start_time": "2023-02-23T17:20:26.837Z"
   },
   {
    "duration": 27,
    "start_time": "2023-02-23T17:22:03.578Z"
   },
   {
    "duration": 380,
    "start_time": "2023-02-23T17:23:26.064Z"
   },
   {
    "duration": 18502,
    "start_time": "2023-02-23T17:24:04.109Z"
   },
   {
    "duration": 1559,
    "start_time": "2023-02-23T17:26:25.759Z"
   },
   {
    "duration": 1597,
    "start_time": "2023-02-23T17:26:55.364Z"
   },
   {
    "duration": 87,
    "start_time": "2023-02-23T17:27:18.608Z"
   },
   {
    "duration": 2116,
    "start_time": "2023-02-23T17:27:23.460Z"
   },
   {
    "duration": 1597,
    "start_time": "2023-02-23T17:27:36.722Z"
   },
   {
    "duration": 81,
    "start_time": "2023-02-23T17:31:07.469Z"
   },
   {
    "duration": 678,
    "start_time": "2023-02-23T17:31:11.194Z"
   },
   {
    "duration": 1123,
    "start_time": "2023-02-23T17:31:28.071Z"
   },
   {
    "duration": 1569,
    "start_time": "2023-02-23T17:31:58.843Z"
   },
   {
    "duration": 17486,
    "start_time": "2023-02-23T17:37:36.183Z"
   },
   {
    "duration": 21699,
    "start_time": "2023-02-23T17:38:55.995Z"
   },
   {
    "duration": 90,
    "start_time": "2023-02-23T17:40:07.904Z"
   },
   {
    "duration": 662,
    "start_time": "2023-02-23T17:40:11.696Z"
   },
   {
    "duration": 17813,
    "start_time": "2023-02-23T17:40:57.650Z"
   },
   {
    "duration": 16762,
    "start_time": "2023-02-23T17:42:23.148Z"
   },
   {
    "duration": 1524,
    "start_time": "2023-02-23T17:43:30.588Z"
   },
   {
    "duration": 1802,
    "start_time": "2023-02-23T17:43:51.578Z"
   },
   {
    "duration": 18879,
    "start_time": "2023-02-23T17:46:13.392Z"
   },
   {
    "duration": 61,
    "start_time": "2023-02-23T17:54:10.979Z"
   },
   {
    "duration": 51,
    "start_time": "2023-02-23T17:56:33.607Z"
   },
   {
    "duration": 38,
    "start_time": "2023-02-23T17:56:40.498Z"
   },
   {
    "duration": 4,
    "start_time": "2023-02-23T18:13:51.905Z"
   },
   {
    "duration": 51,
    "start_time": "2023-02-24T11:33:07.692Z"
   },
   {
    "duration": 1391,
    "start_time": "2023-02-24T11:33:13.927Z"
   },
   {
    "duration": 96,
    "start_time": "2023-02-24T11:33:15.321Z"
   },
   {
    "duration": 13,
    "start_time": "2023-02-24T11:33:15.419Z"
   },
   {
    "duration": 3,
    "start_time": "2023-02-24T11:33:15.434Z"
   },
   {
    "duration": 14,
    "start_time": "2023-02-24T11:33:15.439Z"
   },
   {
    "duration": 6,
    "start_time": "2023-02-24T11:33:15.455Z"
   },
   {
    "duration": 8,
    "start_time": "2023-02-24T11:33:15.463Z"
   },
   {
    "duration": 5,
    "start_time": "2023-02-24T11:33:15.473Z"
   },
   {
    "duration": 273,
    "start_time": "2023-02-24T11:33:15.480Z"
   },
   {
    "duration": 8,
    "start_time": "2023-02-24T11:33:15.755Z"
   },
   {
    "duration": 6,
    "start_time": "2023-02-24T11:33:15.765Z"
   },
   {
    "duration": 8,
    "start_time": "2023-02-24T11:33:15.772Z"
   },
   {
    "duration": 6,
    "start_time": "2023-02-24T11:33:15.782Z"
   },
   {
    "duration": 6,
    "start_time": "2023-02-24T11:33:15.790Z"
   },
   {
    "duration": 12,
    "start_time": "2023-02-24T11:33:15.797Z"
   },
   {
    "duration": 43,
    "start_time": "2023-02-24T11:33:15.810Z"
   },
   {
    "duration": 39,
    "start_time": "2023-02-24T11:33:15.855Z"
   },
   {
    "duration": 4,
    "start_time": "2023-02-24T11:33:15.895Z"
   },
   {
    "duration": 936,
    "start_time": "2023-02-24T11:33:15.901Z"
   },
   {
    "duration": 5,
    "start_time": "2023-02-24T11:33:16.839Z"
   },
   {
    "duration": 1086,
    "start_time": "2023-02-24T11:33:16.853Z"
   },
   {
    "duration": 1153,
    "start_time": "2023-02-24T11:33:17.941Z"
   },
   {
    "duration": 33,
    "start_time": "2023-02-24T11:33:19.096Z"
   },
   {
    "duration": 14246,
    "start_time": "2023-02-24T11:33:19.131Z"
   },
   {
    "duration": 1114,
    "start_time": "2023-02-24T11:34:05.040Z"
   },
   {
    "duration": 1071,
    "start_time": "2023-02-24T11:34:15.956Z"
   },
   {
    "duration": 5,
    "start_time": "2023-02-24T11:51:52.071Z"
   },
   {
    "duration": 6,
    "start_time": "2023-02-24T11:52:00.423Z"
   },
   {
    "duration": 85,
    "start_time": "2023-02-24T11:53:37.186Z"
   },
   {
    "duration": 720,
    "start_time": "2023-02-24T11:53:43.086Z"
   },
   {
    "duration": 732,
    "start_time": "2023-02-24T11:54:36.556Z"
   },
   {
    "duration": 1345,
    "start_time": "2023-02-24T11:55:27.008Z"
   },
   {
    "duration": 788,
    "start_time": "2023-02-24T11:57:21.881Z"
   },
   {
    "duration": 822,
    "start_time": "2023-02-24T11:57:34.592Z"
   },
   {
    "duration": 824,
    "start_time": "2023-02-24T11:58:41.812Z"
   },
   {
    "duration": 700,
    "start_time": "2023-02-24T11:58:49.276Z"
   },
   {
    "duration": 737,
    "start_time": "2023-02-24T12:00:43.989Z"
   },
   {
    "duration": 914,
    "start_time": "2023-02-24T12:00:49.084Z"
   },
   {
    "duration": 707,
    "start_time": "2023-02-24T12:00:53.362Z"
   },
   {
    "duration": 696,
    "start_time": "2023-02-24T12:02:06.357Z"
   },
   {
    "duration": 799,
    "start_time": "2023-02-24T12:02:10.830Z"
   },
   {
    "duration": 1090,
    "start_time": "2023-02-24T12:02:17.167Z"
   },
   {
    "duration": 834,
    "start_time": "2023-02-24T12:02:22.670Z"
   },
   {
    "duration": 877,
    "start_time": "2023-02-24T12:02:28.706Z"
   },
   {
    "duration": 785,
    "start_time": "2023-02-24T12:02:35.990Z"
   },
   {
    "duration": 752,
    "start_time": "2023-02-24T12:02:43.394Z"
   },
   {
    "duration": 889,
    "start_time": "2023-02-24T12:04:39.838Z"
   },
   {
    "duration": 9,
    "start_time": "2023-02-24T12:24:17.164Z"
   },
   {
    "duration": 9,
    "start_time": "2023-02-24T12:24:29.179Z"
   },
   {
    "duration": 17,
    "start_time": "2023-02-24T12:24:35.761Z"
   },
   {
    "duration": 6,
    "start_time": "2023-02-24T12:31:28.371Z"
   },
   {
    "duration": 67,
    "start_time": "2023-02-24T12:31:50.967Z"
   },
   {
    "duration": 9,
    "start_time": "2023-02-24T12:31:56.170Z"
   },
   {
    "duration": 6,
    "start_time": "2023-02-24T12:32:28.523Z"
   },
   {
    "duration": 9,
    "start_time": "2023-02-24T12:32:53.847Z"
   },
   {
    "duration": 4,
    "start_time": "2023-02-24T12:34:24.363Z"
   },
   {
    "duration": 3,
    "start_time": "2023-02-24T12:39:18.584Z"
   },
   {
    "duration": 105,
    "start_time": "2023-02-24T12:39:52.810Z"
   },
   {
    "duration": 3,
    "start_time": "2023-02-24T12:41:28.299Z"
   },
   {
    "duration": 4,
    "start_time": "2023-02-24T12:41:37.229Z"
   },
   {
    "duration": 5,
    "start_time": "2023-02-24T12:41:37.778Z"
   },
   {
    "duration": 5,
    "start_time": "2023-02-24T12:52:45.378Z"
   },
   {
    "duration": 31,
    "start_time": "2023-02-24T12:54:53.844Z"
   },
   {
    "duration": 7,
    "start_time": "2023-02-24T12:55:29.800Z"
   },
   {
    "duration": 5,
    "start_time": "2023-02-24T12:57:10.197Z"
   },
   {
    "duration": 806,
    "start_time": "2023-02-24T12:57:13.427Z"
   },
   {
    "duration": 1077,
    "start_time": "2023-02-24T12:57:53.834Z"
   },
   {
    "duration": 1033,
    "start_time": "2023-02-24T12:58:10.574Z"
   },
   {
    "duration": 6,
    "start_time": "2023-02-24T12:58:16.178Z"
   },
   {
    "duration": 6,
    "start_time": "2023-02-24T13:04:31.397Z"
   },
   {
    "duration": 1098,
    "start_time": "2023-02-24T13:08:31.986Z"
   },
   {
    "duration": 5,
    "start_time": "2023-02-24T13:08:35.098Z"
   },
   {
    "duration": 5,
    "start_time": "2023-02-24T13:08:42.706Z"
   },
   {
    "duration": 9,
    "start_time": "2023-02-24T13:10:28.098Z"
   },
   {
    "duration": 765,
    "start_time": "2023-02-24T13:10:30.193Z"
   },
   {
    "duration": 5,
    "start_time": "2023-02-24T13:10:51.391Z"
   },
   {
    "duration": 13,
    "start_time": "2023-02-24T13:10:59.102Z"
   },
   {
    "duration": 6,
    "start_time": "2023-02-24T13:11:16.331Z"
   },
   {
    "duration": 11,
    "start_time": "2023-02-24T13:13:59.890Z"
   },
   {
    "duration": 7,
    "start_time": "2023-02-24T13:14:40.124Z"
   },
   {
    "duration": 6,
    "start_time": "2023-02-24T13:14:45.094Z"
   },
   {
    "duration": 4,
    "start_time": "2023-02-24T13:15:33.006Z"
   },
   {
    "duration": 7,
    "start_time": "2023-02-24T13:15:33.884Z"
   },
   {
    "duration": 900,
    "start_time": "2023-02-24T13:18:10.678Z"
   },
   {
    "duration": 5,
    "start_time": "2023-02-24T13:18:30.801Z"
   },
   {
    "duration": 776,
    "start_time": "2023-02-24T13:19:49.333Z"
   },
   {
    "duration": 6,
    "start_time": "2023-02-24T13:20:08.049Z"
   },
   {
    "duration": 953,
    "start_time": "2023-02-24T13:20:28.776Z"
   },
   {
    "duration": 859,
    "start_time": "2023-02-24T13:21:03.281Z"
   },
   {
    "duration": 5,
    "start_time": "2023-02-24T13:33:24.177Z"
   },
   {
    "duration": 4,
    "start_time": "2023-02-24T13:33:25.644Z"
   },
   {
    "duration": 3,
    "start_time": "2023-02-24T13:34:27.209Z"
   },
   {
    "duration": 6,
    "start_time": "2023-02-24T13:34:27.751Z"
   },
   {
    "duration": 8,
    "start_time": "2023-02-24T13:34:57.252Z"
   },
   {
    "duration": 5,
    "start_time": "2023-02-24T13:34:57.946Z"
   },
   {
    "duration": 5,
    "start_time": "2023-02-24T13:35:04.800Z"
   },
   {
    "duration": 9,
    "start_time": "2023-02-24T13:35:22.251Z"
   },
   {
    "duration": 5,
    "start_time": "2023-02-24T13:35:22.901Z"
   },
   {
    "duration": 5,
    "start_time": "2023-02-24T13:35:28.933Z"
   },
   {
    "duration": 5,
    "start_time": "2023-02-24T13:48:56.133Z"
   },
   {
    "duration": 5,
    "start_time": "2023-02-24T13:50:09.181Z"
   },
   {
    "duration": 95,
    "start_time": "2023-02-25T09:26:08.555Z"
   },
   {
    "duration": 1508,
    "start_time": "2023-02-25T09:26:19.163Z"
   },
   {
    "duration": 155,
    "start_time": "2023-02-25T09:26:20.676Z"
   },
   {
    "duration": 22,
    "start_time": "2023-02-25T09:26:20.832Z"
   },
   {
    "duration": 23,
    "start_time": "2023-02-25T09:26:20.857Z"
   },
   {
    "duration": 13,
    "start_time": "2023-02-25T09:26:20.882Z"
   },
   {
    "duration": 7,
    "start_time": "2023-02-25T09:26:20.896Z"
   },
   {
    "duration": 45,
    "start_time": "2023-02-25T09:26:20.905Z"
   },
   {
    "duration": 32,
    "start_time": "2023-02-25T09:26:20.959Z"
   },
   {
    "duration": 354,
    "start_time": "2023-02-25T09:26:20.993Z"
   },
   {
    "duration": 20,
    "start_time": "2023-02-25T09:26:21.361Z"
   },
   {
    "duration": 8,
    "start_time": "2023-02-25T09:26:21.383Z"
   },
   {
    "duration": 7,
    "start_time": "2023-02-25T09:26:21.393Z"
   },
   {
    "duration": 17,
    "start_time": "2023-02-25T09:26:21.402Z"
   },
   {
    "duration": 23,
    "start_time": "2023-02-25T09:26:21.432Z"
   },
   {
    "duration": 34,
    "start_time": "2023-02-25T09:26:21.456Z"
   },
   {
    "duration": 11,
    "start_time": "2023-02-25T09:26:21.492Z"
   },
   {
    "duration": 74,
    "start_time": "2023-02-25T09:26:21.505Z"
   },
   {
    "duration": 4,
    "start_time": "2023-02-25T09:26:21.580Z"
   },
   {
    "duration": 1066,
    "start_time": "2023-02-25T09:26:21.586Z"
   },
   {
    "duration": 5,
    "start_time": "2023-02-25T09:26:22.653Z"
   },
   {
    "duration": 1311,
    "start_time": "2023-02-25T09:26:22.659Z"
   },
   {
    "duration": 1317,
    "start_time": "2023-02-25T09:26:23.976Z"
   },
   {
    "duration": 63,
    "start_time": "2023-02-25T09:26:25.294Z"
   },
   {
    "duration": 14538,
    "start_time": "2023-02-25T09:26:25.358Z"
   },
   {
    "duration": 34,
    "start_time": "2023-02-25T09:26:39.897Z"
   },
   {
    "duration": 48,
    "start_time": "2023-02-25T09:26:39.932Z"
   },
   {
    "duration": 722,
    "start_time": "2023-02-25T09:26:39.981Z"
   },
   {
    "duration": 17,
    "start_time": "2023-02-25T09:26:40.706Z"
   },
   {
    "duration": 52,
    "start_time": "2023-02-25T09:26:40.728Z"
   },
   {
    "duration": 8,
    "start_time": "2023-02-25T09:26:40.781Z"
   },
   {
    "duration": 843,
    "start_time": "2023-02-25T09:26:40.791Z"
   },
   {
    "duration": 19,
    "start_time": "2023-02-25T09:26:41.635Z"
   },
   {
    "duration": 10,
    "start_time": "2023-02-25T09:26:41.671Z"
   },
   {
    "duration": 800,
    "start_time": "2023-02-25T09:26:41.683Z"
   },
   {
    "duration": 5,
    "start_time": "2023-02-25T09:26:42.485Z"
   },
   {
    "duration": 6,
    "start_time": "2023-02-25T09:26:42.491Z"
   },
   {
    "duration": 11,
    "start_time": "2023-02-25T09:31:35.234Z"
   },
   {
    "duration": 13,
    "start_time": "2023-02-25T09:34:20.454Z"
   },
   {
    "duration": 16,
    "start_time": "2023-02-25T09:45:03.647Z"
   },
   {
    "duration": 16,
    "start_time": "2023-02-25T09:52:07.566Z"
   },
   {
    "duration": 157,
    "start_time": "2023-02-25T10:03:05.697Z"
   },
   {
    "duration": 114,
    "start_time": "2023-02-25T10:03:09.516Z"
   },
   {
    "duration": 1914,
    "start_time": "2023-02-25T11:59:41.402Z"
   },
   {
    "duration": 138,
    "start_time": "2023-02-25T11:59:43.319Z"
   },
   {
    "duration": 24,
    "start_time": "2023-02-25T11:59:43.460Z"
   },
   {
    "duration": 29,
    "start_time": "2023-02-25T11:59:43.487Z"
   },
   {
    "duration": 29,
    "start_time": "2023-02-25T11:59:43.519Z"
   },
   {
    "duration": 42,
    "start_time": "2023-02-25T11:59:43.551Z"
   },
   {
    "duration": 16,
    "start_time": "2023-02-25T11:59:43.595Z"
   },
   {
    "duration": 12,
    "start_time": "2023-02-25T11:59:43.614Z"
   },
   {
    "duration": 389,
    "start_time": "2023-02-25T11:59:43.628Z"
   },
   {
    "duration": 30,
    "start_time": "2023-02-25T11:59:44.021Z"
   },
   {
    "duration": 18,
    "start_time": "2023-02-25T11:59:44.054Z"
   },
   {
    "duration": 17,
    "start_time": "2023-02-25T11:59:44.075Z"
   },
   {
    "duration": 11,
    "start_time": "2023-02-25T11:59:44.095Z"
   },
   {
    "duration": 31,
    "start_time": "2023-02-25T11:59:44.109Z"
   },
   {
    "duration": 21,
    "start_time": "2023-02-25T11:59:44.144Z"
   },
   {
    "duration": 23,
    "start_time": "2023-02-25T11:59:44.171Z"
   },
   {
    "duration": 69,
    "start_time": "2023-02-25T11:59:44.197Z"
   },
   {
    "duration": 9,
    "start_time": "2023-02-25T11:59:44.271Z"
   },
   {
    "duration": 1443,
    "start_time": "2023-02-25T11:59:44.283Z"
   },
   {
    "duration": 21,
    "start_time": "2023-02-25T11:59:45.729Z"
   },
   {
    "duration": 1315,
    "start_time": "2023-02-25T11:59:45.755Z"
   },
   {
    "duration": 1367,
    "start_time": "2023-02-25T11:59:47.072Z"
   },
   {
    "duration": 53,
    "start_time": "2023-02-25T11:59:48.442Z"
   },
   {
    "duration": 17070,
    "start_time": "2023-02-25T11:59:48.497Z"
   },
   {
    "duration": 9,
    "start_time": "2023-02-25T12:00:05.569Z"
   },
   {
    "duration": 17,
    "start_time": "2023-02-25T12:00:05.580Z"
   },
   {
    "duration": 946,
    "start_time": "2023-02-25T12:00:05.599Z"
   },
   {
    "duration": 12,
    "start_time": "2023-02-25T12:00:06.549Z"
   },
   {
    "duration": 30,
    "start_time": "2023-02-25T12:00:06.563Z"
   },
   {
    "duration": 1007,
    "start_time": "2023-02-25T12:00:06.595Z"
   },
   {
    "duration": 7,
    "start_time": "2023-02-25T12:00:07.604Z"
   },
   {
    "duration": 34,
    "start_time": "2023-02-25T12:00:07.613Z"
   },
   {
    "duration": 778,
    "start_time": "2023-02-25T12:00:07.649Z"
   },
   {
    "duration": 18,
    "start_time": "2023-02-25T12:00:08.429Z"
   },
   {
    "duration": 39,
    "start_time": "2023-02-25T12:00:08.459Z"
   },
   {
    "duration": 8,
    "start_time": "2023-02-25T12:05:15.403Z"
   },
   {
    "duration": 6,
    "start_time": "2023-02-25T12:05:24.180Z"
   },
   {
    "duration": 6,
    "start_time": "2023-02-25T12:05:32.670Z"
   },
   {
    "duration": 17,
    "start_time": "2023-02-25T12:06:19.556Z"
   },
   {
    "duration": 7,
    "start_time": "2023-02-25T12:09:43.382Z"
   },
   {
    "duration": 1256,
    "start_time": "2023-02-26T09:00:03.100Z"
   },
   {
    "duration": 154,
    "start_time": "2023-02-26T09:00:04.358Z"
   },
   {
    "duration": 16,
    "start_time": "2023-02-26T09:00:04.514Z"
   },
   {
    "duration": 6,
    "start_time": "2023-02-26T09:00:04.533Z"
   },
   {
    "duration": 15,
    "start_time": "2023-02-26T09:00:04.541Z"
   },
   {
    "duration": 7,
    "start_time": "2023-02-26T09:00:04.558Z"
   },
   {
    "duration": 18,
    "start_time": "2023-02-26T09:00:04.566Z"
   },
   {
    "duration": 8,
    "start_time": "2023-02-26T09:00:04.586Z"
   },
   {
    "duration": 284,
    "start_time": "2023-02-26T09:00:04.595Z"
   },
   {
    "duration": 10,
    "start_time": "2023-02-26T09:00:04.882Z"
   },
   {
    "duration": 8,
    "start_time": "2023-02-26T09:00:04.895Z"
   },
   {
    "duration": 49,
    "start_time": "2023-02-26T09:00:04.905Z"
   },
   {
    "duration": 24,
    "start_time": "2023-02-26T09:00:04.955Z"
   },
   {
    "duration": 14,
    "start_time": "2023-02-26T09:00:04.981Z"
   },
   {
    "duration": 10,
    "start_time": "2023-02-26T09:00:04.997Z"
   },
   {
    "duration": 8,
    "start_time": "2023-02-26T09:00:05.009Z"
   },
   {
    "duration": 53,
    "start_time": "2023-02-26T09:00:05.019Z"
   },
   {
    "duration": 5,
    "start_time": "2023-02-26T09:00:05.074Z"
   },
   {
    "duration": 955,
    "start_time": "2023-02-26T09:00:05.081Z"
   },
   {
    "duration": 4,
    "start_time": "2023-02-26T09:00:06.038Z"
   },
   {
    "duration": 1134,
    "start_time": "2023-02-26T09:00:06.044Z"
   },
   {
    "duration": 1212,
    "start_time": "2023-02-26T09:00:07.180Z"
   },
   {
    "duration": 45,
    "start_time": "2023-02-26T09:00:08.394Z"
   },
   {
    "duration": 16167,
    "start_time": "2023-02-26T09:00:08.441Z"
   },
   {
    "duration": 18,
    "start_time": "2023-02-26T09:00:24.610Z"
   },
   {
    "duration": 17,
    "start_time": "2023-02-26T09:00:24.631Z"
   },
   {
    "duration": 766,
    "start_time": "2023-02-26T09:00:24.658Z"
   },
   {
    "duration": 9,
    "start_time": "2023-02-26T09:00:25.435Z"
   },
   {
    "duration": 25,
    "start_time": "2023-02-26T09:00:25.446Z"
   },
   {
    "duration": 1013,
    "start_time": "2023-02-26T09:00:25.473Z"
   },
   {
    "duration": 8,
    "start_time": "2023-02-26T09:00:26.488Z"
   },
   {
    "duration": 30,
    "start_time": "2023-02-26T09:00:26.498Z"
   },
   {
    "duration": 988,
    "start_time": "2023-02-26T09:00:26.531Z"
   },
   {
    "duration": 7,
    "start_time": "2023-02-26T09:00:27.522Z"
   },
   {
    "duration": 23,
    "start_time": "2023-02-26T09:00:27.531Z"
   },
   {
    "duration": 100,
    "start_time": "2023-02-26T09:09:27.320Z"
   },
   {
    "duration": 1279,
    "start_time": "2023-02-26T09:56:09.048Z"
   },
   {
    "duration": 91,
    "start_time": "2023-02-26T09:56:10.329Z"
   },
   {
    "duration": 13,
    "start_time": "2023-02-26T09:56:10.422Z"
   },
   {
    "duration": 3,
    "start_time": "2023-02-26T09:56:10.438Z"
   },
   {
    "duration": 17,
    "start_time": "2023-02-26T09:56:10.442Z"
   },
   {
    "duration": 12,
    "start_time": "2023-02-26T09:56:10.461Z"
   },
   {
    "duration": 29,
    "start_time": "2023-02-26T09:56:10.474Z"
   },
   {
    "duration": 6,
    "start_time": "2023-02-26T09:56:10.505Z"
   },
   {
    "duration": 228,
    "start_time": "2023-02-26T09:56:10.513Z"
   },
   {
    "duration": 8,
    "start_time": "2023-02-26T09:56:10.744Z"
   },
   {
    "duration": 7,
    "start_time": "2023-02-26T09:56:10.753Z"
   },
   {
    "duration": 7,
    "start_time": "2023-02-26T09:56:10.762Z"
   },
   {
    "duration": 7,
    "start_time": "2023-02-26T09:56:10.771Z"
   },
   {
    "duration": 11,
    "start_time": "2023-02-26T09:56:10.802Z"
   },
   {
    "duration": 11,
    "start_time": "2023-02-26T09:56:10.815Z"
   },
   {
    "duration": 7,
    "start_time": "2023-02-26T09:56:10.827Z"
   },
   {
    "duration": 45,
    "start_time": "2023-02-26T09:56:10.836Z"
   },
   {
    "duration": 4,
    "start_time": "2023-02-26T09:56:10.903Z"
   },
   {
    "duration": 902,
    "start_time": "2023-02-26T09:56:10.909Z"
   },
   {
    "duration": 4,
    "start_time": "2023-02-26T09:56:11.813Z"
   },
   {
    "duration": 1037,
    "start_time": "2023-02-26T09:56:11.818Z"
   },
   {
    "duration": 1169,
    "start_time": "2023-02-26T09:56:12.856Z"
   },
   {
    "duration": 40,
    "start_time": "2023-02-26T09:56:14.028Z"
   },
   {
    "duration": 14318,
    "start_time": "2023-02-26T09:56:14.071Z"
   },
   {
    "duration": 15,
    "start_time": "2023-02-26T09:56:28.391Z"
   },
   {
    "duration": 6,
    "start_time": "2023-02-26T09:56:28.407Z"
   },
   {
    "duration": 714,
    "start_time": "2023-02-26T09:56:28.415Z"
   },
   {
    "duration": 6,
    "start_time": "2023-02-26T09:56:29.132Z"
   },
   {
    "duration": 17,
    "start_time": "2023-02-26T09:56:29.140Z"
   },
   {
    "duration": 859,
    "start_time": "2023-02-26T09:56:29.159Z"
   },
   {
    "duration": 5,
    "start_time": "2023-02-26T09:56:30.020Z"
   },
   {
    "duration": 27,
    "start_time": "2023-02-26T09:56:30.027Z"
   },
   {
    "duration": 728,
    "start_time": "2023-02-26T09:56:30.056Z"
   },
   {
    "duration": 5,
    "start_time": "2023-02-26T09:56:30.786Z"
   },
   {
    "duration": 29,
    "start_time": "2023-02-26T09:56:30.804Z"
   },
   {
    "duration": 11,
    "start_time": "2023-02-26T10:13:14.797Z"
   },
   {
    "duration": 1241,
    "start_time": "2023-02-26T10:13:17.466Z"
   },
   {
    "duration": 4,
    "start_time": "2023-02-26T10:14:50.753Z"
   },
   {
    "duration": 600,
    "start_time": "2023-02-26T10:36:49.938Z"
   },
   {
    "duration": 14969,
    "start_time": "2023-02-26T10:37:21.435Z"
   },
   {
    "duration": 14840,
    "start_time": "2023-02-26T10:39:54.913Z"
   },
   {
    "duration": 2011,
    "start_time": "2023-02-26T10:41:26.968Z"
   },
   {
    "duration": 1703,
    "start_time": "2023-02-26T10:41:46.139Z"
   },
   {
    "duration": 10,
    "start_time": "2023-02-26T10:50:26.715Z"
   },
   {
    "duration": 335,
    "start_time": "2023-02-26T10:50:34.047Z"
   },
   {
    "duration": 1807,
    "start_time": "2023-02-26T10:50:48.912Z"
   },
   {
    "duration": 278,
    "start_time": "2023-02-26T10:51:43.170Z"
   },
   {
    "duration": 291,
    "start_time": "2023-02-26T10:52:01.055Z"
   },
   {
    "duration": 472,
    "start_time": "2023-02-26T10:55:04.964Z"
   },
   {
    "duration": 15239,
    "start_time": "2023-02-26T10:58:47.794Z"
   },
   {
    "duration": 14930,
    "start_time": "2023-02-26T11:04:41.407Z"
   },
   {
    "duration": 85,
    "start_time": "2023-02-26T11:59:22.173Z"
   },
   {
    "duration": 1369,
    "start_time": "2023-02-27T09:16:03.637Z"
   },
   {
    "duration": 165,
    "start_time": "2023-02-27T09:16:05.008Z"
   },
   {
    "duration": 13,
    "start_time": "2023-02-27T09:16:05.176Z"
   },
   {
    "duration": 4,
    "start_time": "2023-02-27T09:16:05.191Z"
   },
   {
    "duration": 23,
    "start_time": "2023-02-27T09:16:05.196Z"
   },
   {
    "duration": 16,
    "start_time": "2023-02-27T09:16:05.221Z"
   },
   {
    "duration": 22,
    "start_time": "2023-02-27T09:16:05.239Z"
   },
   {
    "duration": 7,
    "start_time": "2023-02-27T09:16:05.262Z"
   },
   {
    "duration": 259,
    "start_time": "2023-02-27T09:16:05.270Z"
   },
   {
    "duration": 14,
    "start_time": "2023-02-27T09:16:05.534Z"
   },
   {
    "duration": 13,
    "start_time": "2023-02-27T09:16:05.549Z"
   },
   {
    "duration": 31,
    "start_time": "2023-02-27T09:16:05.565Z"
   },
   {
    "duration": 26,
    "start_time": "2023-02-27T09:16:05.598Z"
   },
   {
    "duration": 8,
    "start_time": "2023-02-27T09:16:05.627Z"
   },
   {
    "duration": 14,
    "start_time": "2023-02-27T09:16:05.637Z"
   },
   {
    "duration": 10,
    "start_time": "2023-02-27T09:16:05.654Z"
   },
   {
    "duration": 10,
    "start_time": "2023-02-27T09:16:05.666Z"
   },
   {
    "duration": 70,
    "start_time": "2023-02-27T09:16:05.677Z"
   },
   {
    "duration": 4,
    "start_time": "2023-02-27T09:16:05.748Z"
   },
   {
    "duration": 981,
    "start_time": "2023-02-27T09:16:05.754Z"
   },
   {
    "duration": 5,
    "start_time": "2023-02-27T09:16:06.736Z"
   },
   {
    "duration": 1203,
    "start_time": "2023-02-27T09:16:06.742Z"
   },
   {
    "duration": 1328,
    "start_time": "2023-02-27T09:16:07.947Z"
   },
   {
    "duration": 51,
    "start_time": "2023-02-27T09:16:09.277Z"
   },
   {
    "duration": 15900,
    "start_time": "2023-02-27T09:16:09.331Z"
   },
   {
    "duration": 9,
    "start_time": "2023-02-27T09:16:25.232Z"
   },
   {
    "duration": 15,
    "start_time": "2023-02-27T09:16:25.243Z"
   },
   {
    "duration": 809,
    "start_time": "2023-02-27T09:16:25.262Z"
   },
   {
    "duration": 7,
    "start_time": "2023-02-27T09:16:26.073Z"
   },
   {
    "duration": 34,
    "start_time": "2023-02-27T09:16:26.082Z"
   },
   {
    "duration": 938,
    "start_time": "2023-02-27T09:16:26.118Z"
   },
   {
    "duration": 6,
    "start_time": "2023-02-27T09:16:27.058Z"
   },
   {
    "duration": 14,
    "start_time": "2023-02-27T09:16:27.065Z"
   },
   {
    "duration": 812,
    "start_time": "2023-02-27T09:16:27.082Z"
   },
   {
    "duration": 9,
    "start_time": "2023-02-27T09:16:27.903Z"
   },
   {
    "duration": 19,
    "start_time": "2023-02-27T09:16:27.915Z"
   },
   {
    "duration": 1192,
    "start_time": "2023-02-27T09:56:04.225Z"
   },
   {
    "duration": 67,
    "start_time": "2023-02-27T09:56:05.419Z"
   },
   {
    "duration": 14,
    "start_time": "2023-02-27T09:56:05.488Z"
   },
   {
    "duration": 9,
    "start_time": "2023-02-27T09:56:05.504Z"
   },
   {
    "duration": 21,
    "start_time": "2023-02-27T09:56:05.515Z"
   },
   {
    "duration": 20,
    "start_time": "2023-02-27T09:56:05.538Z"
   },
   {
    "duration": 11,
    "start_time": "2023-02-27T09:56:05.560Z"
   },
   {
    "duration": 7,
    "start_time": "2023-02-27T09:56:05.573Z"
   },
   {
    "duration": 245,
    "start_time": "2023-02-27T09:56:05.581Z"
   },
   {
    "duration": 9,
    "start_time": "2023-02-27T09:56:05.829Z"
   },
   {
    "duration": 9,
    "start_time": "2023-02-27T09:56:05.839Z"
   },
   {
    "duration": 7,
    "start_time": "2023-02-27T09:56:05.849Z"
   },
   {
    "duration": 10,
    "start_time": "2023-02-27T09:56:05.857Z"
   },
   {
    "duration": 39,
    "start_time": "2023-02-27T09:56:05.869Z"
   },
   {
    "duration": 10,
    "start_time": "2023-02-27T09:56:05.910Z"
   },
   {
    "duration": 8,
    "start_time": "2023-02-27T09:56:05.921Z"
   },
   {
    "duration": 9,
    "start_time": "2023-02-27T09:56:05.931Z"
   },
   {
    "duration": 74,
    "start_time": "2023-02-27T09:56:05.942Z"
   },
   {
    "duration": 5,
    "start_time": "2023-02-27T09:56:06.018Z"
   },
   {
    "duration": 916,
    "start_time": "2023-02-27T09:56:06.024Z"
   },
   {
    "duration": 4,
    "start_time": "2023-02-27T09:56:06.942Z"
   },
   {
    "duration": 1102,
    "start_time": "2023-02-27T09:56:06.947Z"
   },
   {
    "duration": 1235,
    "start_time": "2023-02-27T09:56:08.050Z"
   },
   {
    "duration": 43,
    "start_time": "2023-02-27T09:56:09.288Z"
   },
   {
    "duration": 14751,
    "start_time": "2023-02-27T09:56:09.334Z"
   },
   {
    "duration": 17,
    "start_time": "2023-02-27T09:56:24.086Z"
   },
   {
    "duration": 12,
    "start_time": "2023-02-27T09:56:24.106Z"
   },
   {
    "duration": 790,
    "start_time": "2023-02-27T09:56:24.122Z"
   },
   {
    "duration": 7,
    "start_time": "2023-02-27T09:56:24.914Z"
   },
   {
    "duration": 15,
    "start_time": "2023-02-27T09:56:24.922Z"
   },
   {
    "duration": 870,
    "start_time": "2023-02-27T09:56:24.940Z"
   },
   {
    "duration": 5,
    "start_time": "2023-02-27T09:56:25.812Z"
   },
   {
    "duration": 13,
    "start_time": "2023-02-27T09:56:25.819Z"
   },
   {
    "duration": 724,
    "start_time": "2023-02-27T09:56:25.834Z"
   },
   {
    "duration": 6,
    "start_time": "2023-02-27T09:56:26.561Z"
   },
   {
    "duration": 14,
    "start_time": "2023-02-27T09:56:26.569Z"
   },
   {
    "duration": 1366,
    "start_time": "2023-02-27T10:29:03.402Z"
   },
   {
    "duration": 126,
    "start_time": "2023-02-27T10:29:04.770Z"
   },
   {
    "duration": 14,
    "start_time": "2023-02-27T10:29:04.899Z"
   },
   {
    "duration": 12,
    "start_time": "2023-02-27T10:29:04.915Z"
   },
   {
    "duration": 21,
    "start_time": "2023-02-27T10:29:04.929Z"
   },
   {
    "duration": 8,
    "start_time": "2023-02-27T10:29:04.952Z"
   },
   {
    "duration": 10,
    "start_time": "2023-02-27T10:29:04.962Z"
   },
   {
    "duration": 11,
    "start_time": "2023-02-27T10:29:04.974Z"
   },
   {
    "duration": 238,
    "start_time": "2023-02-27T10:29:04.987Z"
   },
   {
    "duration": 7,
    "start_time": "2023-02-27T10:29:05.227Z"
   },
   {
    "duration": 20,
    "start_time": "2023-02-27T10:29:05.236Z"
   },
   {
    "duration": 10,
    "start_time": "2023-02-27T10:29:05.257Z"
   },
   {
    "duration": 9,
    "start_time": "2023-02-27T10:29:05.269Z"
   },
   {
    "duration": 20,
    "start_time": "2023-02-27T10:29:05.280Z"
   },
   {
    "duration": 38,
    "start_time": "2023-02-27T10:29:05.302Z"
   },
   {
    "duration": 6,
    "start_time": "2023-02-27T10:29:05.342Z"
   },
   {
    "duration": 36,
    "start_time": "2023-02-27T10:29:05.349Z"
   },
   {
    "duration": 48,
    "start_time": "2023-02-27T10:29:05.387Z"
   },
   {
    "duration": 3,
    "start_time": "2023-02-27T10:29:05.437Z"
   },
   {
    "duration": 1040,
    "start_time": "2023-02-27T10:29:05.441Z"
   },
   {
    "duration": 5,
    "start_time": "2023-02-27T10:29:06.483Z"
   },
   {
    "duration": 906,
    "start_time": "2023-02-27T10:29:06.490Z"
   },
   {
    "duration": 1268,
    "start_time": "2023-02-27T10:29:07.400Z"
   },
   {
    "duration": 104,
    "start_time": "2023-02-27T10:29:08.670Z"
   },
   {
    "duration": 14476,
    "start_time": "2023-02-27T10:29:08.775Z"
   },
   {
    "duration": 8,
    "start_time": "2023-02-27T10:29:23.253Z"
   },
   {
    "duration": 10,
    "start_time": "2023-02-27T10:29:23.262Z"
   },
   {
    "duration": 786,
    "start_time": "2023-02-27T10:29:23.276Z"
   },
   {
    "duration": 5,
    "start_time": "2023-02-27T10:29:24.064Z"
   },
   {
    "duration": 36,
    "start_time": "2023-02-27T10:29:24.085Z"
   },
   {
    "duration": 951,
    "start_time": "2023-02-27T10:29:24.122Z"
   },
   {
    "duration": 13,
    "start_time": "2023-02-27T10:29:25.075Z"
   },
   {
    "duration": 20,
    "start_time": "2023-02-27T10:29:25.089Z"
   },
   {
    "duration": 1057,
    "start_time": "2023-02-27T10:29:25.111Z"
   },
   {
    "duration": 6,
    "start_time": "2023-02-27T10:29:26.170Z"
   },
   {
    "duration": 41,
    "start_time": "2023-02-27T10:29:26.188Z"
   },
   {
    "duration": 10,
    "start_time": "2023-02-27T10:29:44.634Z"
   },
   {
    "duration": 9,
    "start_time": "2023-02-27T10:29:51.502Z"
   },
   {
    "duration": 15,
    "start_time": "2023-02-27T10:29:59.098Z"
   },
   {
    "duration": 7,
    "start_time": "2023-02-27T10:30:45.475Z"
   },
   {
    "duration": 11,
    "start_time": "2023-02-27T10:30:46.264Z"
   },
   {
    "duration": 9,
    "start_time": "2023-02-27T10:30:50.207Z"
   },
   {
    "duration": 14,
    "start_time": "2023-02-27T10:30:51.224Z"
   },
   {
    "duration": 5,
    "start_time": "2023-02-27T10:31:55.119Z"
   },
   {
    "duration": 17,
    "start_time": "2023-02-27T10:31:55.571Z"
   },
   {
    "duration": 10,
    "start_time": "2023-02-27T10:31:56.170Z"
   },
   {
    "duration": 1126,
    "start_time": "2023-02-27T10:32:01.495Z"
   },
   {
    "duration": 65,
    "start_time": "2023-02-27T10:32:02.622Z"
   },
   {
    "duration": 12,
    "start_time": "2023-02-27T10:32:02.689Z"
   },
   {
    "duration": 20,
    "start_time": "2023-02-27T10:32:02.704Z"
   },
   {
    "duration": 25,
    "start_time": "2023-02-27T10:32:02.725Z"
   },
   {
    "duration": 9,
    "start_time": "2023-02-27T10:32:02.752Z"
   },
   {
    "duration": 18,
    "start_time": "2023-02-27T10:32:02.762Z"
   },
   {
    "duration": 7,
    "start_time": "2023-02-27T10:32:02.782Z"
   },
   {
    "duration": 250,
    "start_time": "2023-02-27T10:32:02.790Z"
   },
   {
    "duration": 8,
    "start_time": "2023-02-27T10:32:03.042Z"
   },
   {
    "duration": 21,
    "start_time": "2023-02-27T10:32:03.051Z"
   },
   {
    "duration": 36,
    "start_time": "2023-02-27T10:32:03.073Z"
   },
   {
    "duration": 14,
    "start_time": "2023-02-27T10:32:03.111Z"
   },
   {
    "duration": 25,
    "start_time": "2023-02-27T10:32:03.127Z"
   },
   {
    "duration": 9,
    "start_time": "2023-02-27T10:32:03.153Z"
   },
   {
    "duration": 13,
    "start_time": "2023-02-27T10:32:03.164Z"
   },
   {
    "duration": 27,
    "start_time": "2023-02-27T10:32:03.178Z"
   },
   {
    "duration": 24,
    "start_time": "2023-02-27T10:32:03.207Z"
   },
   {
    "duration": 19,
    "start_time": "2023-02-27T10:32:03.232Z"
   },
   {
    "duration": 15,
    "start_time": "2023-02-27T10:32:03.252Z"
   },
   {
    "duration": 65,
    "start_time": "2023-02-27T10:32:03.268Z"
   },
   {
    "duration": 3,
    "start_time": "2023-02-27T10:32:03.335Z"
   },
   {
    "duration": 954,
    "start_time": "2023-02-27T10:32:03.340Z"
   },
   {
    "duration": 4,
    "start_time": "2023-02-27T10:32:04.296Z"
   },
   {
    "duration": 147,
    "start_time": "2023-02-27T10:32:04.302Z"
   },
   {
    "duration": 0,
    "start_time": "2023-02-27T10:32:04.451Z"
   },
   {
    "duration": 0,
    "start_time": "2023-02-27T10:32:04.452Z"
   },
   {
    "duration": 0,
    "start_time": "2023-02-27T10:32:04.454Z"
   },
   {
    "duration": 0,
    "start_time": "2023-02-27T10:32:04.455Z"
   },
   {
    "duration": 0,
    "start_time": "2023-02-27T10:32:04.455Z"
   },
   {
    "duration": 0,
    "start_time": "2023-02-27T10:32:04.456Z"
   },
   {
    "duration": 0,
    "start_time": "2023-02-27T10:32:04.457Z"
   },
   {
    "duration": 0,
    "start_time": "2023-02-27T10:32:04.458Z"
   },
   {
    "duration": 0,
    "start_time": "2023-02-27T10:32:04.459Z"
   },
   {
    "duration": 0,
    "start_time": "2023-02-27T10:32:04.460Z"
   },
   {
    "duration": 0,
    "start_time": "2023-02-27T10:32:04.461Z"
   },
   {
    "duration": 0,
    "start_time": "2023-02-27T10:32:04.462Z"
   },
   {
    "duration": 0,
    "start_time": "2023-02-27T10:32:04.462Z"
   },
   {
    "duration": 0,
    "start_time": "2023-02-27T10:32:04.463Z"
   },
   {
    "duration": 1284,
    "start_time": "2023-02-27T10:32:35.025Z"
   },
   {
    "duration": 0,
    "start_time": "2023-02-27T10:32:36.311Z"
   },
   {
    "duration": 1169,
    "start_time": "2023-02-27T10:32:47.808Z"
   },
   {
    "duration": 61,
    "start_time": "2023-02-27T10:32:48.979Z"
   },
   {
    "duration": 10,
    "start_time": "2023-02-27T10:32:49.042Z"
   },
   {
    "duration": 22,
    "start_time": "2023-02-27T10:32:49.054Z"
   },
   {
    "duration": 38,
    "start_time": "2023-02-27T10:32:49.077Z"
   },
   {
    "duration": 14,
    "start_time": "2023-02-27T10:32:49.117Z"
   },
   {
    "duration": 10,
    "start_time": "2023-02-27T10:32:49.132Z"
   },
   {
    "duration": 6,
    "start_time": "2023-02-27T10:32:49.144Z"
   },
   {
    "duration": 225,
    "start_time": "2023-02-27T10:32:49.152Z"
   },
   {
    "duration": 15,
    "start_time": "2023-02-27T10:32:49.385Z"
   },
   {
    "duration": 10,
    "start_time": "2023-02-27T10:32:49.403Z"
   },
   {
    "duration": 7,
    "start_time": "2023-02-27T10:32:49.415Z"
   },
   {
    "duration": 7,
    "start_time": "2023-02-27T10:32:49.423Z"
   },
   {
    "duration": 6,
    "start_time": "2023-02-27T10:32:49.432Z"
   },
   {
    "duration": 10,
    "start_time": "2023-02-27T10:32:49.440Z"
   },
   {
    "duration": 14,
    "start_time": "2023-02-27T10:32:49.489Z"
   },
   {
    "duration": 12,
    "start_time": "2023-02-27T10:32:49.506Z"
   },
   {
    "duration": 10,
    "start_time": "2023-02-27T10:32:49.520Z"
   },
   {
    "duration": 11,
    "start_time": "2023-02-27T10:32:49.532Z"
   },
   {
    "duration": 11,
    "start_time": "2023-02-27T10:32:49.544Z"
   },
   {
    "duration": 76,
    "start_time": "2023-02-27T10:32:49.557Z"
   },
   {
    "duration": 4,
    "start_time": "2023-02-27T10:32:49.634Z"
   },
   {
    "duration": 1679,
    "start_time": "2023-02-27T10:32:49.639Z"
   },
   {
    "duration": 5,
    "start_time": "2023-02-27T10:32:51.320Z"
   },
   {
    "duration": 295,
    "start_time": "2023-02-27T10:32:51.327Z"
   },
   {
    "duration": 0,
    "start_time": "2023-02-27T10:32:51.624Z"
   },
   {
    "duration": 0,
    "start_time": "2023-02-27T10:32:51.625Z"
   },
   {
    "duration": 0,
    "start_time": "2023-02-27T10:32:51.627Z"
   },
   {
    "duration": 0,
    "start_time": "2023-02-27T10:32:51.628Z"
   },
   {
    "duration": 0,
    "start_time": "2023-02-27T10:32:51.685Z"
   },
   {
    "duration": 0,
    "start_time": "2023-02-27T10:32:51.686Z"
   },
   {
    "duration": 0,
    "start_time": "2023-02-27T10:32:51.687Z"
   },
   {
    "duration": 0,
    "start_time": "2023-02-27T10:32:51.688Z"
   },
   {
    "duration": 0,
    "start_time": "2023-02-27T10:32:51.689Z"
   },
   {
    "duration": 0,
    "start_time": "2023-02-27T10:32:51.690Z"
   },
   {
    "duration": 0,
    "start_time": "2023-02-27T10:32:51.691Z"
   },
   {
    "duration": 0,
    "start_time": "2023-02-27T10:32:51.692Z"
   },
   {
    "duration": 0,
    "start_time": "2023-02-27T10:32:51.693Z"
   },
   {
    "duration": 0,
    "start_time": "2023-02-27T10:32:51.695Z"
   },
   {
    "duration": 1197,
    "start_time": "2023-02-27T10:33:50.525Z"
   },
   {
    "duration": 0,
    "start_time": "2023-02-27T10:33:51.723Z"
   },
   {
    "duration": 1279,
    "start_time": "2023-02-27T10:33:57.964Z"
   },
   {
    "duration": 65,
    "start_time": "2023-02-27T10:33:59.245Z"
   },
   {
    "duration": 14,
    "start_time": "2023-02-27T10:33:59.312Z"
   },
   {
    "duration": 3,
    "start_time": "2023-02-27T10:33:59.329Z"
   },
   {
    "duration": 19,
    "start_time": "2023-02-27T10:33:59.334Z"
   },
   {
    "duration": 36,
    "start_time": "2023-02-27T10:33:59.354Z"
   },
   {
    "duration": 41,
    "start_time": "2023-02-27T10:33:59.393Z"
   },
   {
    "duration": 21,
    "start_time": "2023-02-27T10:33:59.436Z"
   },
   {
    "duration": 271,
    "start_time": "2023-02-27T10:33:59.458Z"
   },
   {
    "duration": 9,
    "start_time": "2023-02-27T10:33:59.733Z"
   },
   {
    "duration": 29,
    "start_time": "2023-02-27T10:33:59.744Z"
   },
   {
    "duration": 18,
    "start_time": "2023-02-27T10:33:59.775Z"
   },
   {
    "duration": 8,
    "start_time": "2023-02-27T10:33:59.794Z"
   },
   {
    "duration": 20,
    "start_time": "2023-02-27T10:33:59.803Z"
   },
   {
    "duration": 23,
    "start_time": "2023-02-27T10:33:59.824Z"
   },
   {
    "duration": 58,
    "start_time": "2023-02-27T10:33:59.849Z"
   },
   {
    "duration": 14,
    "start_time": "2023-02-27T10:33:59.909Z"
   },
   {
    "duration": 16,
    "start_time": "2023-02-27T10:33:59.924Z"
   },
   {
    "duration": 9,
    "start_time": "2023-02-27T10:33:59.942Z"
   },
   {
    "duration": 16,
    "start_time": "2023-02-27T10:33:59.953Z"
   },
   {
    "duration": 65,
    "start_time": "2023-02-27T10:33:59.970Z"
   },
   {
    "duration": 3,
    "start_time": "2023-02-27T10:34:00.037Z"
   },
   {
    "duration": 963,
    "start_time": "2023-02-27T10:34:00.042Z"
   },
   {
    "duration": 5,
    "start_time": "2023-02-27T10:34:01.008Z"
   },
   {
    "duration": 197,
    "start_time": "2023-02-27T10:34:01.016Z"
   },
   {
    "duration": 0,
    "start_time": "2023-02-27T10:34:01.216Z"
   },
   {
    "duration": 0,
    "start_time": "2023-02-27T10:34:01.218Z"
   },
   {
    "duration": 1,
    "start_time": "2023-02-27T10:34:01.219Z"
   },
   {
    "duration": 0,
    "start_time": "2023-02-27T10:34:01.222Z"
   },
   {
    "duration": 0,
    "start_time": "2023-02-27T10:34:01.223Z"
   },
   {
    "duration": 0,
    "start_time": "2023-02-27T10:34:01.227Z"
   },
   {
    "duration": 0,
    "start_time": "2023-02-27T10:34:01.228Z"
   },
   {
    "duration": 0,
    "start_time": "2023-02-27T10:34:01.229Z"
   },
   {
    "duration": 0,
    "start_time": "2023-02-27T10:34:01.230Z"
   },
   {
    "duration": 0,
    "start_time": "2023-02-27T10:34:01.231Z"
   },
   {
    "duration": 0,
    "start_time": "2023-02-27T10:34:01.232Z"
   },
   {
    "duration": 0,
    "start_time": "2023-02-27T10:34:01.233Z"
   },
   {
    "duration": 0,
    "start_time": "2023-02-27T10:34:01.234Z"
   },
   {
    "duration": 0,
    "start_time": "2023-02-27T10:34:01.235Z"
   },
   {
    "duration": 1170,
    "start_time": "2023-02-27T10:41:10.970Z"
   },
   {
    "duration": 6,
    "start_time": "2023-02-27T10:41:12.446Z"
   },
   {
    "duration": 11,
    "start_time": "2023-02-27T10:41:13.730Z"
   },
   {
    "duration": 1193,
    "start_time": "2023-02-27T10:41:21.862Z"
   },
   {
    "duration": 87,
    "start_time": "2023-02-27T10:41:23.058Z"
   },
   {
    "duration": 13,
    "start_time": "2023-02-27T10:41:23.147Z"
   },
   {
    "duration": 3,
    "start_time": "2023-02-27T10:41:23.162Z"
   },
   {
    "duration": 56,
    "start_time": "2023-02-27T10:41:23.167Z"
   },
   {
    "duration": 13,
    "start_time": "2023-02-27T10:41:23.225Z"
   },
   {
    "duration": 14,
    "start_time": "2023-02-27T10:41:23.240Z"
   },
   {
    "duration": 8,
    "start_time": "2023-02-27T10:41:23.256Z"
   },
   {
    "duration": 250,
    "start_time": "2023-02-27T10:41:23.265Z"
   },
   {
    "duration": 8,
    "start_time": "2023-02-27T10:41:23.518Z"
   },
   {
    "duration": 6,
    "start_time": "2023-02-27T10:41:23.528Z"
   },
   {
    "duration": 10,
    "start_time": "2023-02-27T10:41:23.536Z"
   },
   {
    "duration": 9,
    "start_time": "2023-02-27T10:41:23.547Z"
   },
   {
    "duration": 33,
    "start_time": "2023-02-27T10:41:23.557Z"
   },
   {
    "duration": 13,
    "start_time": "2023-02-27T10:41:23.592Z"
   },
   {
    "duration": 13,
    "start_time": "2023-02-27T10:41:23.607Z"
   },
   {
    "duration": 12,
    "start_time": "2023-02-27T10:41:23.621Z"
   },
   {
    "duration": 8,
    "start_time": "2023-02-27T10:41:23.634Z"
   },
   {
    "duration": 26,
    "start_time": "2023-02-27T10:41:23.643Z"
   },
   {
    "duration": 59,
    "start_time": "2023-02-27T10:41:23.670Z"
   },
   {
    "duration": 4,
    "start_time": "2023-02-27T10:41:23.730Z"
   },
   {
    "duration": 993,
    "start_time": "2023-02-27T10:41:23.735Z"
   },
   {
    "duration": 4,
    "start_time": "2023-02-27T10:41:24.730Z"
   },
   {
    "duration": 1754,
    "start_time": "2023-02-27T10:41:24.736Z"
   },
   {
    "duration": 2644,
    "start_time": "2023-02-27T10:41:26.492Z"
   },
   {
    "duration": 84,
    "start_time": "2023-02-27T10:41:29.139Z"
   },
   {
    "duration": 16036,
    "start_time": "2023-02-27T10:41:29.224Z"
   },
   {
    "duration": 6,
    "start_time": "2023-02-27T10:41:45.263Z"
   },
   {
    "duration": 15,
    "start_time": "2023-02-27T10:41:45.271Z"
   },
   {
    "duration": 755,
    "start_time": "2023-02-27T10:41:45.288Z"
   },
   {
    "duration": 6,
    "start_time": "2023-02-27T10:41:46.044Z"
   },
   {
    "duration": 12,
    "start_time": "2023-02-27T10:41:46.051Z"
   },
   {
    "duration": 851,
    "start_time": "2023-02-27T10:41:46.065Z"
   },
   {
    "duration": 5,
    "start_time": "2023-02-27T10:41:46.918Z"
   },
   {
    "duration": 13,
    "start_time": "2023-02-27T10:41:46.924Z"
   },
   {
    "duration": 827,
    "start_time": "2023-02-27T10:41:46.938Z"
   },
   {
    "duration": 5,
    "start_time": "2023-02-27T10:41:47.766Z"
   },
   {
    "duration": 20,
    "start_time": "2023-02-27T10:41:47.792Z"
   },
   {
    "duration": 12,
    "start_time": "2023-02-27T10:41:47.815Z"
   },
   {
    "duration": 3,
    "start_time": "2023-02-27T10:41:56.668Z"
   },
   {
    "duration": 9,
    "start_time": "2023-02-27T10:41:57.800Z"
   },
   {
    "duration": 15,
    "start_time": "2023-02-27T10:41:59.592Z"
   },
   {
    "duration": 1174,
    "start_time": "2023-02-27T10:42:47.994Z"
   },
   {
    "duration": 70,
    "start_time": "2023-02-27T10:42:49.170Z"
   },
   {
    "duration": 11,
    "start_time": "2023-02-27T10:42:49.242Z"
   },
   {
    "duration": 2,
    "start_time": "2023-02-27T10:42:49.255Z"
   },
   {
    "duration": 13,
    "start_time": "2023-02-27T10:42:49.259Z"
   },
   {
    "duration": 6,
    "start_time": "2023-02-27T10:42:49.274Z"
   },
   {
    "duration": 11,
    "start_time": "2023-02-27T10:42:49.281Z"
   },
   {
    "duration": 14,
    "start_time": "2023-02-27T10:42:49.293Z"
   },
   {
    "duration": 221,
    "start_time": "2023-02-27T10:42:49.308Z"
   },
   {
    "duration": 7,
    "start_time": "2023-02-27T10:42:49.531Z"
   },
   {
    "duration": 8,
    "start_time": "2023-02-27T10:42:49.539Z"
   },
   {
    "duration": 6,
    "start_time": "2023-02-27T10:42:49.548Z"
   },
   {
    "duration": 6,
    "start_time": "2023-02-27T10:42:49.555Z"
   },
   {
    "duration": 28,
    "start_time": "2023-02-27T10:42:49.563Z"
   },
   {
    "duration": 10,
    "start_time": "2023-02-27T10:42:49.593Z"
   },
   {
    "duration": 12,
    "start_time": "2023-02-27T10:42:49.605Z"
   },
   {
    "duration": 6,
    "start_time": "2023-02-27T10:42:49.619Z"
   },
   {
    "duration": 12,
    "start_time": "2023-02-27T10:42:49.627Z"
   },
   {
    "duration": 13,
    "start_time": "2023-02-27T10:42:49.640Z"
   },
   {
    "duration": 77,
    "start_time": "2023-02-27T10:42:49.654Z"
   },
   {
    "duration": 4,
    "start_time": "2023-02-27T10:42:49.732Z"
   },
   {
    "duration": 868,
    "start_time": "2023-02-27T10:42:49.738Z"
   },
   {
    "duration": 6,
    "start_time": "2023-02-27T10:42:50.608Z"
   },
   {
    "duration": 122,
    "start_time": "2023-02-27T10:42:50.616Z"
   },
   {
    "duration": 0,
    "start_time": "2023-02-27T10:42:50.739Z"
   },
   {
    "duration": 0,
    "start_time": "2023-02-27T10:42:50.740Z"
   },
   {
    "duration": 0,
    "start_time": "2023-02-27T10:42:50.741Z"
   },
   {
    "duration": 0,
    "start_time": "2023-02-27T10:42:50.742Z"
   },
   {
    "duration": 0,
    "start_time": "2023-02-27T10:42:50.743Z"
   },
   {
    "duration": 0,
    "start_time": "2023-02-27T10:42:50.744Z"
   },
   {
    "duration": 0,
    "start_time": "2023-02-27T10:42:50.745Z"
   },
   {
    "duration": 0,
    "start_time": "2023-02-27T10:42:50.746Z"
   },
   {
    "duration": 0,
    "start_time": "2023-02-27T10:42:50.747Z"
   },
   {
    "duration": 0,
    "start_time": "2023-02-27T10:42:50.748Z"
   },
   {
    "duration": 0,
    "start_time": "2023-02-27T10:42:50.749Z"
   },
   {
    "duration": 0,
    "start_time": "2023-02-27T10:42:50.750Z"
   },
   {
    "duration": 0,
    "start_time": "2023-02-27T10:42:50.751Z"
   },
   {
    "duration": 0,
    "start_time": "2023-02-27T10:42:50.752Z"
   },
   {
    "duration": 4,
    "start_time": "2023-02-27T10:43:15.334Z"
   },
   {
    "duration": 1053,
    "start_time": "2023-02-27T10:43:20.062Z"
   },
   {
    "duration": 1625,
    "start_time": "2023-02-27T10:43:49.603Z"
   },
   {
    "duration": 12,
    "start_time": "2023-02-27T10:48:28.138Z"
   },
   {
    "duration": 11,
    "start_time": "2023-02-27T10:51:31.055Z"
   },
   {
    "duration": 9,
    "start_time": "2023-02-27T10:51:38.422Z"
   },
   {
    "duration": 17,
    "start_time": "2023-02-27T10:51:46.311Z"
   },
   {
    "duration": 5,
    "start_time": "2023-02-27T10:52:24.137Z"
   },
   {
    "duration": 6,
    "start_time": "2023-02-27T10:52:33.939Z"
   },
   {
    "duration": 20,
    "start_time": "2023-02-27T10:52:52.795Z"
   },
   {
    "duration": 103,
    "start_time": "2023-02-27T10:53:11.586Z"
   },
   {
    "duration": 1115,
    "start_time": "2023-02-27T10:53:19.915Z"
   },
   {
    "duration": 56,
    "start_time": "2023-02-27T10:53:21.032Z"
   },
   {
    "duration": 14,
    "start_time": "2023-02-27T10:53:21.090Z"
   },
   {
    "duration": 6,
    "start_time": "2023-02-27T10:53:21.107Z"
   },
   {
    "duration": 14,
    "start_time": "2023-02-27T10:53:21.115Z"
   },
   {
    "duration": 8,
    "start_time": "2023-02-27T10:53:21.131Z"
   },
   {
    "duration": 8,
    "start_time": "2023-02-27T10:53:21.140Z"
   },
   {
    "duration": 5,
    "start_time": "2023-02-27T10:53:21.150Z"
   },
   {
    "duration": 243,
    "start_time": "2023-02-27T10:53:21.157Z"
   },
   {
    "duration": 10,
    "start_time": "2023-02-27T10:53:21.405Z"
   },
   {
    "duration": 9,
    "start_time": "2023-02-27T10:53:21.416Z"
   },
   {
    "duration": 7,
    "start_time": "2023-02-27T10:53:21.427Z"
   },
   {
    "duration": 6,
    "start_time": "2023-02-27T10:53:21.435Z"
   },
   {
    "duration": 7,
    "start_time": "2023-02-27T10:53:21.442Z"
   },
   {
    "duration": 42,
    "start_time": "2023-02-27T10:53:21.450Z"
   },
   {
    "duration": 12,
    "start_time": "2023-02-27T10:53:21.495Z"
   },
   {
    "duration": 17,
    "start_time": "2023-02-27T10:53:21.510Z"
   },
   {
    "duration": 13,
    "start_time": "2023-02-27T10:53:21.529Z"
   },
   {
    "duration": 11,
    "start_time": "2023-02-27T10:53:21.543Z"
   },
   {
    "duration": 62,
    "start_time": "2023-02-27T10:53:21.555Z"
   },
   {
    "duration": 3,
    "start_time": "2023-02-27T10:53:21.619Z"
   },
   {
    "duration": 904,
    "start_time": "2023-02-27T10:53:21.624Z"
   },
   {
    "duration": 4,
    "start_time": "2023-02-27T10:53:22.529Z"
   },
   {
    "duration": 1003,
    "start_time": "2023-02-27T10:53:22.534Z"
   },
   {
    "duration": 1911,
    "start_time": "2023-02-27T10:53:23.538Z"
   },
   {
    "duration": 144,
    "start_time": "2023-02-27T10:53:25.451Z"
   },
   {
    "duration": 0,
    "start_time": "2023-02-27T10:53:25.599Z"
   },
   {
    "duration": 0,
    "start_time": "2023-02-27T10:53:25.601Z"
   },
   {
    "duration": 0,
    "start_time": "2023-02-27T10:53:25.603Z"
   },
   {
    "duration": 0,
    "start_time": "2023-02-27T10:53:25.701Z"
   },
   {
    "duration": 0,
    "start_time": "2023-02-27T10:53:25.703Z"
   },
   {
    "duration": 0,
    "start_time": "2023-02-27T10:53:25.704Z"
   },
   {
    "duration": 0,
    "start_time": "2023-02-27T10:53:25.706Z"
   },
   {
    "duration": 0,
    "start_time": "2023-02-27T10:53:25.709Z"
   },
   {
    "duration": 0,
    "start_time": "2023-02-27T10:53:25.712Z"
   },
   {
    "duration": 0,
    "start_time": "2023-02-27T10:53:25.713Z"
   },
   {
    "duration": 0,
    "start_time": "2023-02-27T10:53:25.714Z"
   },
   {
    "duration": 0,
    "start_time": "2023-02-27T10:53:25.716Z"
   },
   {
    "duration": 19004,
    "start_time": "2023-02-27T10:54:46.031Z"
   },
   {
    "duration": 13,
    "start_time": "2023-02-27T10:55:11.130Z"
   },
   {
    "duration": 5,
    "start_time": "2023-02-27T10:55:12.258Z"
   },
   {
    "duration": 685,
    "start_time": "2023-02-27T10:55:14.708Z"
   },
   {
    "duration": 11,
    "start_time": "2023-02-27T10:55:18.085Z"
   },
   {
    "duration": 11,
    "start_time": "2023-02-27T10:55:19.458Z"
   },
   {
    "duration": 944,
    "start_time": "2023-02-27T10:55:22.085Z"
   },
   {
    "duration": 6,
    "start_time": "2023-02-27T10:55:25.661Z"
   },
   {
    "duration": 10,
    "start_time": "2023-02-27T10:55:26.377Z"
   },
   {
    "duration": 798,
    "start_time": "2023-02-27T10:55:29.153Z"
   },
   {
    "duration": 5,
    "start_time": "2023-02-27T10:55:29.961Z"
   },
   {
    "duration": 11,
    "start_time": "2023-02-27T10:55:33.037Z"
   },
   {
    "duration": 12,
    "start_time": "2023-02-27T10:58:03.462Z"
   },
   {
    "duration": 17,
    "start_time": "2023-02-27T10:58:18.023Z"
   },
   {
    "duration": 17,
    "start_time": "2023-02-27T10:58:29.413Z"
   },
   {
    "duration": 15,
    "start_time": "2023-02-27T11:04:39.096Z"
   },
   {
    "duration": 18,
    "start_time": "2023-02-27T11:04:50.268Z"
   },
   {
    "duration": 9,
    "start_time": "2023-02-27T11:12:47.937Z"
   },
   {
    "duration": 8,
    "start_time": "2023-02-27T11:12:51.244Z"
   },
   {
    "duration": 8,
    "start_time": "2023-02-27T11:12:56.161Z"
   },
   {
    "duration": 10,
    "start_time": "2023-02-27T11:13:06.099Z"
   },
   {
    "duration": 10,
    "start_time": "2023-02-27T11:13:10.500Z"
   },
   {
    "duration": 22,
    "start_time": "2023-02-27T11:13:40.280Z"
   },
   {
    "duration": 16,
    "start_time": "2023-02-27T11:13:49.400Z"
   },
   {
    "duration": 18,
    "start_time": "2023-02-27T11:16:06.199Z"
   },
   {
    "duration": 1278,
    "start_time": "2023-02-27T11:16:33.845Z"
   },
   {
    "duration": 0,
    "start_time": "2023-02-27T11:16:35.125Z"
   },
   {
    "duration": 0,
    "start_time": "2023-02-27T11:16:35.126Z"
   },
   {
    "duration": 1185,
    "start_time": "2023-02-27T11:16:47.574Z"
   },
   {
    "duration": 67,
    "start_time": "2023-02-27T11:16:48.761Z"
   },
   {
    "duration": 12,
    "start_time": "2023-02-27T11:16:48.829Z"
   },
   {
    "duration": 20,
    "start_time": "2023-02-27T11:16:48.842Z"
   },
   {
    "duration": 17,
    "start_time": "2023-02-27T11:16:48.865Z"
   },
   {
    "duration": 19,
    "start_time": "2023-02-27T11:16:48.883Z"
   },
   {
    "duration": 20,
    "start_time": "2023-02-27T11:16:48.904Z"
   },
   {
    "duration": 24,
    "start_time": "2023-02-27T11:16:48.926Z"
   },
   {
    "duration": 202,
    "start_time": "2023-02-27T11:16:48.952Z"
   },
   {
    "duration": 8,
    "start_time": "2023-02-27T11:16:49.156Z"
   },
   {
    "duration": 11,
    "start_time": "2023-02-27T11:16:49.165Z"
   },
   {
    "duration": 16,
    "start_time": "2023-02-27T11:16:49.177Z"
   },
   {
    "duration": 23,
    "start_time": "2023-02-27T11:16:49.195Z"
   },
   {
    "duration": 19,
    "start_time": "2023-02-27T11:16:49.222Z"
   },
   {
    "duration": 28,
    "start_time": "2023-02-27T11:16:49.243Z"
   },
   {
    "duration": 18,
    "start_time": "2023-02-27T11:16:49.273Z"
   },
   {
    "duration": 18,
    "start_time": "2023-02-27T11:16:49.293Z"
   },
   {
    "duration": 12,
    "start_time": "2023-02-27T11:16:49.313Z"
   },
   {
    "duration": 16,
    "start_time": "2023-02-27T11:16:49.327Z"
   },
   {
    "duration": 70,
    "start_time": "2023-02-27T11:16:49.344Z"
   },
   {
    "duration": 3,
    "start_time": "2023-02-27T11:16:49.416Z"
   },
   {
    "duration": 855,
    "start_time": "2023-02-27T11:16:49.420Z"
   },
   {
    "duration": 4,
    "start_time": "2023-02-27T11:16:50.276Z"
   },
   {
    "duration": 122,
    "start_time": "2023-02-27T11:16:50.285Z"
   },
   {
    "duration": 0,
    "start_time": "2023-02-27T11:16:50.409Z"
   },
   {
    "duration": 0,
    "start_time": "2023-02-27T11:16:50.410Z"
   },
   {
    "duration": 0,
    "start_time": "2023-02-27T11:16:50.411Z"
   },
   {
    "duration": 0,
    "start_time": "2023-02-27T11:16:50.412Z"
   },
   {
    "duration": 0,
    "start_time": "2023-02-27T11:16:50.413Z"
   },
   {
    "duration": 0,
    "start_time": "2023-02-27T11:16:50.414Z"
   },
   {
    "duration": 0,
    "start_time": "2023-02-27T11:16:50.415Z"
   },
   {
    "duration": 0,
    "start_time": "2023-02-27T11:16:50.416Z"
   },
   {
    "duration": 0,
    "start_time": "2023-02-27T11:16:50.418Z"
   },
   {
    "duration": 0,
    "start_time": "2023-02-27T11:16:50.421Z"
   },
   {
    "duration": 0,
    "start_time": "2023-02-27T11:16:50.423Z"
   },
   {
    "duration": 0,
    "start_time": "2023-02-27T11:16:50.424Z"
   },
   {
    "duration": 0,
    "start_time": "2023-02-27T11:16:50.425Z"
   },
   {
    "duration": 0,
    "start_time": "2023-02-27T11:16:50.426Z"
   },
   {
    "duration": 0,
    "start_time": "2023-02-27T11:16:50.427Z"
   },
   {
    "duration": 3,
    "start_time": "2023-02-27T11:17:14.172Z"
   },
   {
    "duration": 921,
    "start_time": "2023-02-27T11:17:16.328Z"
   },
   {
    "duration": 18,
    "start_time": "2023-02-27T11:17:22.530Z"
   },
   {
    "duration": 16,
    "start_time": "2023-02-27T11:17:36.731Z"
   },
   {
    "duration": 1111,
    "start_time": "2023-02-27T11:18:18.450Z"
   },
   {
    "duration": 70,
    "start_time": "2023-02-27T11:18:19.563Z"
   },
   {
    "duration": 12,
    "start_time": "2023-02-27T11:18:19.634Z"
   },
   {
    "duration": 3,
    "start_time": "2023-02-27T11:18:19.649Z"
   },
   {
    "duration": 24,
    "start_time": "2023-02-27T11:18:19.653Z"
   },
   {
    "duration": 7,
    "start_time": "2023-02-27T11:18:19.679Z"
   },
   {
    "duration": 9,
    "start_time": "2023-02-27T11:18:19.688Z"
   },
   {
    "duration": 6,
    "start_time": "2023-02-27T11:18:19.699Z"
   },
   {
    "duration": 209,
    "start_time": "2023-02-27T11:18:19.706Z"
   },
   {
    "duration": 8,
    "start_time": "2023-02-27T11:18:19.918Z"
   },
   {
    "duration": 7,
    "start_time": "2023-02-27T11:18:19.928Z"
   },
   {
    "duration": 7,
    "start_time": "2023-02-27T11:18:19.936Z"
   },
   {
    "duration": 7,
    "start_time": "2023-02-27T11:18:19.944Z"
   },
   {
    "duration": 38,
    "start_time": "2023-02-27T11:18:19.953Z"
   },
   {
    "duration": 9,
    "start_time": "2023-02-27T11:18:19.992Z"
   },
   {
    "duration": 6,
    "start_time": "2023-02-27T11:18:20.003Z"
   },
   {
    "duration": 13,
    "start_time": "2023-02-27T11:18:20.010Z"
   },
   {
    "duration": 10,
    "start_time": "2023-02-27T11:18:20.025Z"
   },
   {
    "duration": 11,
    "start_time": "2023-02-27T11:18:20.037Z"
   },
   {
    "duration": 77,
    "start_time": "2023-02-27T11:18:20.049Z"
   },
   {
    "duration": 5,
    "start_time": "2023-02-27T11:18:20.128Z"
   },
   {
    "duration": 830,
    "start_time": "2023-02-27T11:18:20.134Z"
   },
   {
    "duration": 5,
    "start_time": "2023-02-27T11:18:20.966Z"
   },
   {
    "duration": 116,
    "start_time": "2023-02-27T11:18:20.972Z"
   },
   {
    "duration": 0,
    "start_time": "2023-02-27T11:18:21.091Z"
   },
   {
    "duration": 0,
    "start_time": "2023-02-27T11:18:21.092Z"
   },
   {
    "duration": 0,
    "start_time": "2023-02-27T11:18:21.094Z"
   },
   {
    "duration": 0,
    "start_time": "2023-02-27T11:18:21.095Z"
   },
   {
    "duration": 0,
    "start_time": "2023-02-27T11:18:21.096Z"
   },
   {
    "duration": 0,
    "start_time": "2023-02-27T11:18:21.097Z"
   },
   {
    "duration": 0,
    "start_time": "2023-02-27T11:18:21.099Z"
   },
   {
    "duration": 0,
    "start_time": "2023-02-27T11:18:21.100Z"
   },
   {
    "duration": 0,
    "start_time": "2023-02-27T11:18:21.101Z"
   },
   {
    "duration": 0,
    "start_time": "2023-02-27T11:18:21.103Z"
   },
   {
    "duration": 0,
    "start_time": "2023-02-27T11:18:21.104Z"
   },
   {
    "duration": 0,
    "start_time": "2023-02-27T11:18:21.106Z"
   },
   {
    "duration": 0,
    "start_time": "2023-02-27T11:18:21.108Z"
   },
   {
    "duration": 0,
    "start_time": "2023-02-27T11:18:21.109Z"
   },
   {
    "duration": 0,
    "start_time": "2023-02-27T11:18:21.110Z"
   },
   {
    "duration": 4,
    "start_time": "2023-02-27T11:19:00.196Z"
   },
   {
    "duration": 988,
    "start_time": "2023-02-27T11:19:02.404Z"
   },
   {
    "duration": 1651,
    "start_time": "2023-02-27T11:19:21.242Z"
   },
   {
    "duration": 18,
    "start_time": "2023-02-27T11:19:48.664Z"
   },
   {
    "duration": 17,
    "start_time": "2023-02-27T11:30:10.993Z"
   },
   {
    "duration": 92,
    "start_time": "2023-02-27T11:30:28.472Z"
   },
   {
    "duration": 94,
    "start_time": "2023-02-27T11:30:41.481Z"
   },
   {
    "duration": 15,
    "start_time": "2023-02-27T11:32:24.588Z"
   },
   {
    "duration": 21,
    "start_time": "2023-02-27T11:32:45.897Z"
   },
   {
    "duration": 18,
    "start_time": "2023-02-27T11:33:17.373Z"
   },
   {
    "duration": 6,
    "start_time": "2023-02-27T11:33:29.476Z"
   },
   {
    "duration": 12,
    "start_time": "2023-02-27T11:33:57.031Z"
   },
   {
    "duration": 27,
    "start_time": "2023-02-27T11:34:30.285Z"
   },
   {
    "duration": 27,
    "start_time": "2023-02-27T11:36:27.678Z"
   },
   {
    "duration": 18,
    "start_time": "2023-02-27T11:36:34.208Z"
   },
   {
    "duration": 19,
    "start_time": "2023-02-27T11:36:38.915Z"
   },
   {
    "duration": 18,
    "start_time": "2023-02-27T11:37:59.921Z"
   },
   {
    "duration": 1228,
    "start_time": "2023-02-27T11:38:21.488Z"
   },
   {
    "duration": 119,
    "start_time": "2023-02-27T11:38:22.718Z"
   },
   {
    "duration": 13,
    "start_time": "2023-02-27T11:38:22.838Z"
   },
   {
    "duration": 5,
    "start_time": "2023-02-27T11:38:22.853Z"
   },
   {
    "duration": 16,
    "start_time": "2023-02-27T11:38:22.859Z"
   },
   {
    "duration": 7,
    "start_time": "2023-02-27T11:38:22.876Z"
   },
   {
    "duration": 30,
    "start_time": "2023-02-27T11:38:22.885Z"
   },
   {
    "duration": 19,
    "start_time": "2023-02-27T11:38:22.917Z"
   },
   {
    "duration": 268,
    "start_time": "2023-02-27T11:38:22.939Z"
   },
   {
    "duration": 12,
    "start_time": "2023-02-27T11:38:23.211Z"
   },
   {
    "duration": 23,
    "start_time": "2023-02-27T11:38:23.225Z"
   },
   {
    "duration": 20,
    "start_time": "2023-02-27T11:38:23.249Z"
   },
   {
    "duration": 7,
    "start_time": "2023-02-27T11:38:23.271Z"
   },
   {
    "duration": 11,
    "start_time": "2023-02-27T11:38:23.279Z"
   },
   {
    "duration": 22,
    "start_time": "2023-02-27T11:38:23.293Z"
   },
   {
    "duration": 7,
    "start_time": "2023-02-27T11:38:23.317Z"
   },
   {
    "duration": 15,
    "start_time": "2023-02-27T11:38:23.325Z"
   },
   {
    "duration": 27,
    "start_time": "2023-02-27T11:38:23.341Z"
   },
   {
    "duration": 42,
    "start_time": "2023-02-27T11:38:23.370Z"
   },
   {
    "duration": 70,
    "start_time": "2023-02-27T11:38:23.414Z"
   },
   {
    "duration": 8,
    "start_time": "2023-02-27T11:38:23.486Z"
   },
   {
    "duration": 1010,
    "start_time": "2023-02-27T11:38:23.497Z"
   },
   {
    "duration": 4,
    "start_time": "2023-02-27T11:38:24.509Z"
   },
   {
    "duration": 1147,
    "start_time": "2023-02-27T11:38:24.515Z"
   },
   {
    "duration": 1835,
    "start_time": "2023-02-27T11:38:25.665Z"
   },
   {
    "duration": 21,
    "start_time": "2023-02-27T11:38:27.502Z"
   },
   {
    "duration": 19900,
    "start_time": "2023-02-27T11:38:27.525Z"
   },
   {
    "duration": 10,
    "start_time": "2023-02-27T11:38:47.428Z"
   },
   {
    "duration": 10,
    "start_time": "2023-02-27T11:38:47.439Z"
   },
   {
    "duration": 749,
    "start_time": "2023-02-27T11:38:47.451Z"
   },
   {
    "duration": 8,
    "start_time": "2023-02-27T11:38:48.201Z"
   },
   {
    "duration": 18,
    "start_time": "2023-02-27T11:38:48.210Z"
   },
   {
    "duration": 878,
    "start_time": "2023-02-27T11:38:48.230Z"
   },
   {
    "duration": 6,
    "start_time": "2023-02-27T11:38:49.111Z"
   },
   {
    "duration": 27,
    "start_time": "2023-02-27T11:38:49.119Z"
   },
   {
    "duration": 779,
    "start_time": "2023-02-27T11:38:49.148Z"
   },
   {
    "duration": 5,
    "start_time": "2023-02-27T11:38:49.929Z"
   },
   {
    "duration": 37,
    "start_time": "2023-02-27T11:38:49.936Z"
   },
   {
    "duration": 1411,
    "start_time": "2023-02-27T13:26:46.554Z"
   },
   {
    "duration": 124,
    "start_time": "2023-02-27T13:26:47.967Z"
   },
   {
    "duration": 12,
    "start_time": "2023-02-27T13:26:48.093Z"
   },
   {
    "duration": 3,
    "start_time": "2023-02-27T13:26:48.108Z"
   },
   {
    "duration": 17,
    "start_time": "2023-02-27T13:26:48.112Z"
   },
   {
    "duration": 26,
    "start_time": "2023-02-27T13:26:48.131Z"
   },
   {
    "duration": 11,
    "start_time": "2023-02-27T13:26:48.159Z"
   },
   {
    "duration": 6,
    "start_time": "2023-02-27T13:26:48.171Z"
   },
   {
    "duration": 248,
    "start_time": "2023-02-27T13:26:48.179Z"
   },
   {
    "duration": 12,
    "start_time": "2023-02-27T13:26:48.431Z"
   },
   {
    "duration": 27,
    "start_time": "2023-02-27T13:26:48.444Z"
   },
   {
    "duration": 21,
    "start_time": "2023-02-27T13:26:48.473Z"
   },
   {
    "duration": 18,
    "start_time": "2023-02-27T13:26:48.496Z"
   },
   {
    "duration": 28,
    "start_time": "2023-02-27T13:26:48.516Z"
   },
   {
    "duration": 11,
    "start_time": "2023-02-27T13:26:48.546Z"
   },
   {
    "duration": 7,
    "start_time": "2023-02-27T13:26:48.558Z"
   },
   {
    "duration": 12,
    "start_time": "2023-02-27T13:26:48.567Z"
   },
   {
    "duration": 14,
    "start_time": "2023-02-27T13:26:48.581Z"
   },
   {
    "duration": 13,
    "start_time": "2023-02-27T13:26:48.596Z"
   },
   {
    "duration": 61,
    "start_time": "2023-02-27T13:26:48.610Z"
   },
   {
    "duration": 4,
    "start_time": "2023-02-27T13:26:48.672Z"
   },
   {
    "duration": 936,
    "start_time": "2023-02-27T13:26:48.678Z"
   },
   {
    "duration": 6,
    "start_time": "2023-02-27T13:26:49.621Z"
   },
   {
    "duration": 1075,
    "start_time": "2023-02-27T13:26:49.629Z"
   },
   {
    "duration": 1891,
    "start_time": "2023-02-27T13:26:50.705Z"
   },
   {
    "duration": 33,
    "start_time": "2023-02-27T13:26:52.598Z"
   },
   {
    "duration": 20199,
    "start_time": "2023-02-27T13:26:52.633Z"
   },
   {
    "duration": 9,
    "start_time": "2023-02-27T13:27:12.837Z"
   },
   {
    "duration": 5,
    "start_time": "2023-02-27T13:27:12.848Z"
   },
   {
    "duration": 984,
    "start_time": "2023-02-27T13:27:12.854Z"
   },
   {
    "duration": 7,
    "start_time": "2023-02-27T13:27:13.841Z"
   },
   {
    "duration": 70,
    "start_time": "2023-02-27T13:27:13.851Z"
   },
   {
    "duration": 1125,
    "start_time": "2023-02-27T13:27:13.923Z"
   },
   {
    "duration": 7,
    "start_time": "2023-02-27T13:27:15.051Z"
   },
   {
    "duration": 44,
    "start_time": "2023-02-27T13:27:15.060Z"
   },
   {
    "duration": 770,
    "start_time": "2023-02-27T13:27:15.106Z"
   },
   {
    "duration": 6,
    "start_time": "2023-02-27T13:27:15.878Z"
   },
   {
    "duration": 18,
    "start_time": "2023-02-27T13:27:15.885Z"
   }
  ],
  "kernelspec": {
   "display_name": "Python 3 (ipykernel)",
   "language": "python",
   "name": "python3"
  },
  "language_info": {
   "codemirror_mode": {
    "name": "ipython",
    "version": 3
   },
   "file_extension": ".py",
   "mimetype": "text/x-python",
   "name": "python",
   "nbconvert_exporter": "python",
   "pygments_lexer": "ipython3",
   "version": "3.8.6"
  },
  "toc": {
   "base_numbering": 1,
   "nav_menu": {},
   "number_sections": true,
   "sideBar": true,
   "skip_h1_title": true,
   "title_cell": "Table of Contents",
   "title_sidebar": "Contents",
   "toc_cell": false,
   "toc_position": {
    "height": "calc(100% - 180px)",
    "left": "10px",
    "top": "150px",
    "width": "366.188px"
   },
   "toc_section_display": true,
   "toc_window_display": true
  }
 },
 "nbformat": 4,
 "nbformat_minor": 2
}
