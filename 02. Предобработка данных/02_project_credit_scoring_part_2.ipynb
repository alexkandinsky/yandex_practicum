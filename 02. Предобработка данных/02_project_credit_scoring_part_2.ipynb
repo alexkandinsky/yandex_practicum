{
 "cells": [
  {
   "cell_type": "markdown",
   "id": "e888d4d2",
   "metadata": {
    "deletable": false,
    "editable": false,
    "id": "c81daeeb"
   },
   "source": [
    "#Проект: Исследование надежности заемщиков\n"
   ]
  },
  {
   "cell_type": "markdown",
   "id": "e286f211",
   "metadata": {
    "deletable": false,
    "editable": false,
    "id": "827c20bf"
   },
   "source": [
    "Во второй части проекта вы выполните шаги 3 и 4. Их вручную проверит ревьюер.\n",
    "Чтобы вам не пришлось писать код заново для шагов 1 и 2, мы добавили авторские решения в ячейки с кодом. \n",
    "\n"
   ]
  },
  {
   "cell_type": "markdown",
   "id": "2f223f76",
   "metadata": {
    "deletable": false,
    "editable": false,
    "id": "744d7639"
   },
   "source": [
    "## Откройте таблицу и изучите общую информацию о данных"
   ]
  },
  {
   "cell_type": "markdown",
   "id": "1451438f",
   "metadata": {
    "deletable": false,
    "editable": false,
    "id": "e7a14c31"
   },
   "source": [
    "**Задание 1. Импортируйте библиотеку pandas. Считайте данные из csv-файла в датафрейм и сохраните в переменную `data`. Путь к файлу:**\n",
    "\n",
    "`/datasets/data.csv`"
   ]
  },
  {
   "cell_type": "code",
   "execution_count": 1,
   "id": "77411a8b",
   "metadata": {
    "deletable": false,
    "id": "7bcf75c9"
   },
   "outputs": [],
   "source": [
    "import pandas as pd\n",
    "try:\n",
    "    data = pd.read_csv('/datasets/data.csv')\n",
    "except:\n",
    "    data = pd.read_csv('https://code.s3.yandex.net/datasets/data.csv')"
   ]
  },
  {
   "cell_type": "markdown",
   "id": "c9cb452b",
   "metadata": {
    "deletable": false,
    "editable": false,
    "id": "b8038fe3"
   },
   "source": [
    "**Задание 2. Выведите первые 20 строчек датафрейма `data` на экран.**"
   ]
  },
  {
   "cell_type": "code",
   "execution_count": 2,
   "id": "1e693b10",
   "metadata": {
    "deletable": false,
    "id": "2a7cab99",
    "outputId": "1a8f3ef2-d323-4ec2-ddf7-89670b5944c4"
   },
   "outputs": [
    {
     "data": {
      "text/html": [
       "<div>\n",
       "<style scoped>\n",
       "    .dataframe tbody tr th:only-of-type {\n",
       "        vertical-align: middle;\n",
       "    }\n",
       "\n",
       "    .dataframe tbody tr th {\n",
       "        vertical-align: top;\n",
       "    }\n",
       "\n",
       "    .dataframe thead th {\n",
       "        text-align: right;\n",
       "    }\n",
       "</style>\n",
       "<table border=\"1\" class=\"dataframe\">\n",
       "  <thead>\n",
       "    <tr style=\"text-align: right;\">\n",
       "      <th></th>\n",
       "      <th>children</th>\n",
       "      <th>days_employed</th>\n",
       "      <th>dob_years</th>\n",
       "      <th>education</th>\n",
       "      <th>education_id</th>\n",
       "      <th>family_status</th>\n",
       "      <th>family_status_id</th>\n",
       "      <th>gender</th>\n",
       "      <th>income_type</th>\n",
       "      <th>debt</th>\n",
       "      <th>total_income</th>\n",
       "      <th>purpose</th>\n",
       "    </tr>\n",
       "  </thead>\n",
       "  <tbody>\n",
       "    <tr>\n",
       "      <th>0</th>\n",
       "      <td>1</td>\n",
       "      <td>-8437.673028</td>\n",
       "      <td>42</td>\n",
       "      <td>высшее</td>\n",
       "      <td>0</td>\n",
       "      <td>женат / замужем</td>\n",
       "      <td>0</td>\n",
       "      <td>F</td>\n",
       "      <td>сотрудник</td>\n",
       "      <td>0</td>\n",
       "      <td>253875.639453</td>\n",
       "      <td>покупка жилья</td>\n",
       "    </tr>\n",
       "    <tr>\n",
       "      <th>1</th>\n",
       "      <td>1</td>\n",
       "      <td>-4024.803754</td>\n",
       "      <td>36</td>\n",
       "      <td>среднее</td>\n",
       "      <td>1</td>\n",
       "      <td>женат / замужем</td>\n",
       "      <td>0</td>\n",
       "      <td>F</td>\n",
       "      <td>сотрудник</td>\n",
       "      <td>0</td>\n",
       "      <td>112080.014102</td>\n",
       "      <td>приобретение автомобиля</td>\n",
       "    </tr>\n",
       "    <tr>\n",
       "      <th>2</th>\n",
       "      <td>0</td>\n",
       "      <td>-5623.422610</td>\n",
       "      <td>33</td>\n",
       "      <td>Среднее</td>\n",
       "      <td>1</td>\n",
       "      <td>женат / замужем</td>\n",
       "      <td>0</td>\n",
       "      <td>M</td>\n",
       "      <td>сотрудник</td>\n",
       "      <td>0</td>\n",
       "      <td>145885.952297</td>\n",
       "      <td>покупка жилья</td>\n",
       "    </tr>\n",
       "    <tr>\n",
       "      <th>3</th>\n",
       "      <td>3</td>\n",
       "      <td>-4124.747207</td>\n",
       "      <td>32</td>\n",
       "      <td>среднее</td>\n",
       "      <td>1</td>\n",
       "      <td>женат / замужем</td>\n",
       "      <td>0</td>\n",
       "      <td>M</td>\n",
       "      <td>сотрудник</td>\n",
       "      <td>0</td>\n",
       "      <td>267628.550329</td>\n",
       "      <td>дополнительное образование</td>\n",
       "    </tr>\n",
       "    <tr>\n",
       "      <th>4</th>\n",
       "      <td>0</td>\n",
       "      <td>340266.072047</td>\n",
       "      <td>53</td>\n",
       "      <td>среднее</td>\n",
       "      <td>1</td>\n",
       "      <td>гражданский брак</td>\n",
       "      <td>1</td>\n",
       "      <td>F</td>\n",
       "      <td>пенсионер</td>\n",
       "      <td>0</td>\n",
       "      <td>158616.077870</td>\n",
       "      <td>сыграть свадьбу</td>\n",
       "    </tr>\n",
       "    <tr>\n",
       "      <th>5</th>\n",
       "      <td>0</td>\n",
       "      <td>-926.185831</td>\n",
       "      <td>27</td>\n",
       "      <td>высшее</td>\n",
       "      <td>0</td>\n",
       "      <td>гражданский брак</td>\n",
       "      <td>1</td>\n",
       "      <td>M</td>\n",
       "      <td>компаньон</td>\n",
       "      <td>0</td>\n",
       "      <td>255763.565419</td>\n",
       "      <td>покупка жилья</td>\n",
       "    </tr>\n",
       "    <tr>\n",
       "      <th>6</th>\n",
       "      <td>0</td>\n",
       "      <td>-2879.202052</td>\n",
       "      <td>43</td>\n",
       "      <td>высшее</td>\n",
       "      <td>0</td>\n",
       "      <td>женат / замужем</td>\n",
       "      <td>0</td>\n",
       "      <td>F</td>\n",
       "      <td>компаньон</td>\n",
       "      <td>0</td>\n",
       "      <td>240525.971920</td>\n",
       "      <td>операции с жильем</td>\n",
       "    </tr>\n",
       "    <tr>\n",
       "      <th>7</th>\n",
       "      <td>0</td>\n",
       "      <td>-152.779569</td>\n",
       "      <td>50</td>\n",
       "      <td>СРЕДНЕЕ</td>\n",
       "      <td>1</td>\n",
       "      <td>женат / замужем</td>\n",
       "      <td>0</td>\n",
       "      <td>M</td>\n",
       "      <td>сотрудник</td>\n",
       "      <td>0</td>\n",
       "      <td>135823.934197</td>\n",
       "      <td>образование</td>\n",
       "    </tr>\n",
       "    <tr>\n",
       "      <th>8</th>\n",
       "      <td>2</td>\n",
       "      <td>-6929.865299</td>\n",
       "      <td>35</td>\n",
       "      <td>ВЫСШЕЕ</td>\n",
       "      <td>0</td>\n",
       "      <td>гражданский брак</td>\n",
       "      <td>1</td>\n",
       "      <td>F</td>\n",
       "      <td>сотрудник</td>\n",
       "      <td>0</td>\n",
       "      <td>95856.832424</td>\n",
       "      <td>на проведение свадьбы</td>\n",
       "    </tr>\n",
       "    <tr>\n",
       "      <th>9</th>\n",
       "      <td>0</td>\n",
       "      <td>-2188.756445</td>\n",
       "      <td>41</td>\n",
       "      <td>среднее</td>\n",
       "      <td>1</td>\n",
       "      <td>женат / замужем</td>\n",
       "      <td>0</td>\n",
       "      <td>M</td>\n",
       "      <td>сотрудник</td>\n",
       "      <td>0</td>\n",
       "      <td>144425.938277</td>\n",
       "      <td>покупка жилья для семьи</td>\n",
       "    </tr>\n",
       "    <tr>\n",
       "      <th>10</th>\n",
       "      <td>2</td>\n",
       "      <td>-4171.483647</td>\n",
       "      <td>36</td>\n",
       "      <td>высшее</td>\n",
       "      <td>0</td>\n",
       "      <td>женат / замужем</td>\n",
       "      <td>0</td>\n",
       "      <td>M</td>\n",
       "      <td>компаньон</td>\n",
       "      <td>0</td>\n",
       "      <td>113943.491460</td>\n",
       "      <td>покупка недвижимости</td>\n",
       "    </tr>\n",
       "    <tr>\n",
       "      <th>11</th>\n",
       "      <td>0</td>\n",
       "      <td>-792.701887</td>\n",
       "      <td>40</td>\n",
       "      <td>среднее</td>\n",
       "      <td>1</td>\n",
       "      <td>женат / замужем</td>\n",
       "      <td>0</td>\n",
       "      <td>F</td>\n",
       "      <td>сотрудник</td>\n",
       "      <td>0</td>\n",
       "      <td>77069.234271</td>\n",
       "      <td>покупка коммерческой недвижимости</td>\n",
       "    </tr>\n",
       "    <tr>\n",
       "      <th>12</th>\n",
       "      <td>0</td>\n",
       "      <td>NaN</td>\n",
       "      <td>65</td>\n",
       "      <td>среднее</td>\n",
       "      <td>1</td>\n",
       "      <td>гражданский брак</td>\n",
       "      <td>1</td>\n",
       "      <td>M</td>\n",
       "      <td>пенсионер</td>\n",
       "      <td>0</td>\n",
       "      <td>NaN</td>\n",
       "      <td>сыграть свадьбу</td>\n",
       "    </tr>\n",
       "    <tr>\n",
       "      <th>13</th>\n",
       "      <td>0</td>\n",
       "      <td>-1846.641941</td>\n",
       "      <td>54</td>\n",
       "      <td>неоконченное высшее</td>\n",
       "      <td>2</td>\n",
       "      <td>женат / замужем</td>\n",
       "      <td>0</td>\n",
       "      <td>F</td>\n",
       "      <td>сотрудник</td>\n",
       "      <td>0</td>\n",
       "      <td>130458.228857</td>\n",
       "      <td>приобретение автомобиля</td>\n",
       "    </tr>\n",
       "    <tr>\n",
       "      <th>14</th>\n",
       "      <td>0</td>\n",
       "      <td>-1844.956182</td>\n",
       "      <td>56</td>\n",
       "      <td>высшее</td>\n",
       "      <td>0</td>\n",
       "      <td>гражданский брак</td>\n",
       "      <td>1</td>\n",
       "      <td>F</td>\n",
       "      <td>компаньон</td>\n",
       "      <td>1</td>\n",
       "      <td>165127.911772</td>\n",
       "      <td>покупка жилой недвижимости</td>\n",
       "    </tr>\n",
       "    <tr>\n",
       "      <th>15</th>\n",
       "      <td>1</td>\n",
       "      <td>-972.364419</td>\n",
       "      <td>26</td>\n",
       "      <td>среднее</td>\n",
       "      <td>1</td>\n",
       "      <td>женат / замужем</td>\n",
       "      <td>0</td>\n",
       "      <td>F</td>\n",
       "      <td>сотрудник</td>\n",
       "      <td>0</td>\n",
       "      <td>116820.904450</td>\n",
       "      <td>строительство собственной недвижимости</td>\n",
       "    </tr>\n",
       "    <tr>\n",
       "      <th>16</th>\n",
       "      <td>0</td>\n",
       "      <td>-1719.934226</td>\n",
       "      <td>35</td>\n",
       "      <td>среднее</td>\n",
       "      <td>1</td>\n",
       "      <td>женат / замужем</td>\n",
       "      <td>0</td>\n",
       "      <td>F</td>\n",
       "      <td>сотрудник</td>\n",
       "      <td>0</td>\n",
       "      <td>289202.704229</td>\n",
       "      <td>недвижимость</td>\n",
       "    </tr>\n",
       "    <tr>\n",
       "      <th>17</th>\n",
       "      <td>0</td>\n",
       "      <td>-2369.999720</td>\n",
       "      <td>33</td>\n",
       "      <td>высшее</td>\n",
       "      <td>0</td>\n",
       "      <td>гражданский брак</td>\n",
       "      <td>1</td>\n",
       "      <td>M</td>\n",
       "      <td>сотрудник</td>\n",
       "      <td>0</td>\n",
       "      <td>90410.586745</td>\n",
       "      <td>строительство недвижимости</td>\n",
       "    </tr>\n",
       "    <tr>\n",
       "      <th>18</th>\n",
       "      <td>0</td>\n",
       "      <td>400281.136913</td>\n",
       "      <td>53</td>\n",
       "      <td>среднее</td>\n",
       "      <td>1</td>\n",
       "      <td>вдовец / вдова</td>\n",
       "      <td>2</td>\n",
       "      <td>F</td>\n",
       "      <td>пенсионер</td>\n",
       "      <td>0</td>\n",
       "      <td>56823.777243</td>\n",
       "      <td>на покупку подержанного автомобиля</td>\n",
       "    </tr>\n",
       "    <tr>\n",
       "      <th>19</th>\n",
       "      <td>0</td>\n",
       "      <td>-10038.818549</td>\n",
       "      <td>48</td>\n",
       "      <td>СРЕДНЕЕ</td>\n",
       "      <td>1</td>\n",
       "      <td>в разводе</td>\n",
       "      <td>3</td>\n",
       "      <td>F</td>\n",
       "      <td>сотрудник</td>\n",
       "      <td>0</td>\n",
       "      <td>242831.107982</td>\n",
       "      <td>на покупку своего автомобиля</td>\n",
       "    </tr>\n",
       "  </tbody>\n",
       "</table>\n",
       "</div>"
      ],
      "text/plain": [
       "    children  days_employed  dob_years            education  education_id  \\\n",
       "0          1   -8437.673028         42               высшее             0   \n",
       "1          1   -4024.803754         36              среднее             1   \n",
       "2          0   -5623.422610         33              Среднее             1   \n",
       "3          3   -4124.747207         32              среднее             1   \n",
       "4          0  340266.072047         53              среднее             1   \n",
       "5          0    -926.185831         27               высшее             0   \n",
       "6          0   -2879.202052         43               высшее             0   \n",
       "7          0    -152.779569         50              СРЕДНЕЕ             1   \n",
       "8          2   -6929.865299         35               ВЫСШЕЕ             0   \n",
       "9          0   -2188.756445         41              среднее             1   \n",
       "10         2   -4171.483647         36               высшее             0   \n",
       "11         0    -792.701887         40              среднее             1   \n",
       "12         0            NaN         65              среднее             1   \n",
       "13         0   -1846.641941         54  неоконченное высшее             2   \n",
       "14         0   -1844.956182         56               высшее             0   \n",
       "15         1    -972.364419         26              среднее             1   \n",
       "16         0   -1719.934226         35              среднее             1   \n",
       "17         0   -2369.999720         33               высшее             0   \n",
       "18         0  400281.136913         53              среднее             1   \n",
       "19         0  -10038.818549         48              СРЕДНЕЕ             1   \n",
       "\n",
       "       family_status  family_status_id gender income_type  debt  \\\n",
       "0    женат / замужем                 0      F   сотрудник     0   \n",
       "1    женат / замужем                 0      F   сотрудник     0   \n",
       "2    женат / замужем                 0      M   сотрудник     0   \n",
       "3    женат / замужем                 0      M   сотрудник     0   \n",
       "4   гражданский брак                 1      F   пенсионер     0   \n",
       "5   гражданский брак                 1      M   компаньон     0   \n",
       "6    женат / замужем                 0      F   компаньон     0   \n",
       "7    женат / замужем                 0      M   сотрудник     0   \n",
       "8   гражданский брак                 1      F   сотрудник     0   \n",
       "9    женат / замужем                 0      M   сотрудник     0   \n",
       "10   женат / замужем                 0      M   компаньон     0   \n",
       "11   женат / замужем                 0      F   сотрудник     0   \n",
       "12  гражданский брак                 1      M   пенсионер     0   \n",
       "13   женат / замужем                 0      F   сотрудник     0   \n",
       "14  гражданский брак                 1      F   компаньон     1   \n",
       "15   женат / замужем                 0      F   сотрудник     0   \n",
       "16   женат / замужем                 0      F   сотрудник     0   \n",
       "17  гражданский брак                 1      M   сотрудник     0   \n",
       "18    вдовец / вдова                 2      F   пенсионер     0   \n",
       "19         в разводе                 3      F   сотрудник     0   \n",
       "\n",
       "     total_income                                 purpose  \n",
       "0   253875.639453                           покупка жилья  \n",
       "1   112080.014102                 приобретение автомобиля  \n",
       "2   145885.952297                           покупка жилья  \n",
       "3   267628.550329              дополнительное образование  \n",
       "4   158616.077870                         сыграть свадьбу  \n",
       "5   255763.565419                           покупка жилья  \n",
       "6   240525.971920                       операции с жильем  \n",
       "7   135823.934197                             образование  \n",
       "8    95856.832424                   на проведение свадьбы  \n",
       "9   144425.938277                 покупка жилья для семьи  \n",
       "10  113943.491460                    покупка недвижимости  \n",
       "11   77069.234271       покупка коммерческой недвижимости  \n",
       "12            NaN                         сыграть свадьбу  \n",
       "13  130458.228857                 приобретение автомобиля  \n",
       "14  165127.911772              покупка жилой недвижимости  \n",
       "15  116820.904450  строительство собственной недвижимости  \n",
       "16  289202.704229                            недвижимость  \n",
       "17   90410.586745              строительство недвижимости  \n",
       "18   56823.777243      на покупку подержанного автомобиля  \n",
       "19  242831.107982            на покупку своего автомобиля  "
      ]
     },
     "execution_count": 2,
     "metadata": {},
     "output_type": "execute_result"
    }
   ],
   "source": [
    "data.head(20)"
   ]
  },
  {
   "cell_type": "markdown",
   "id": "70cdb6c1",
   "metadata": {
    "deletable": false,
    "editable": false,
    "id": "1c12e233"
   },
   "source": [
    "**Задание 3. Выведите основную информацию о датафрейме с помощью метода `info()`.**"
   ]
  },
  {
   "cell_type": "code",
   "execution_count": 3,
   "id": "2751f17e",
   "metadata": {
    "deletable": false,
    "id": "2b757bca",
    "outputId": "15376089-8dad-46c9-b520-c05248d43158"
   },
   "outputs": [
    {
     "name": "stdout",
     "output_type": "stream",
     "text": [
      "<class 'pandas.core.frame.DataFrame'>\n",
      "RangeIndex: 21525 entries, 0 to 21524\n",
      "Data columns (total 12 columns):\n",
      " #   Column            Non-Null Count  Dtype  \n",
      "---  ------            --------------  -----  \n",
      " 0   children          21525 non-null  int64  \n",
      " 1   days_employed     19351 non-null  float64\n",
      " 2   dob_years         21525 non-null  int64  \n",
      " 3   education         21525 non-null  object \n",
      " 4   education_id      21525 non-null  int64  \n",
      " 5   family_status     21525 non-null  object \n",
      " 6   family_status_id  21525 non-null  int64  \n",
      " 7   gender            21525 non-null  object \n",
      " 8   income_type       21525 non-null  object \n",
      " 9   debt              21525 non-null  int64  \n",
      " 10  total_income      19351 non-null  float64\n",
      " 11  purpose           21525 non-null  object \n",
      "dtypes: float64(2), int64(5), object(5)\n",
      "memory usage: 2.0+ MB\n"
     ]
    }
   ],
   "source": [
    "data.info()"
   ]
  },
  {
   "cell_type": "markdown",
   "id": "39fdb5e8",
   "metadata": {
    "deletable": false,
    "editable": false,
    "id": "333ec665"
   },
   "source": [
    "## Предобработка данных"
   ]
  },
  {
   "cell_type": "markdown",
   "id": "80bfa7de",
   "metadata": {
    "deletable": false,
    "editable": false,
    "id": "02d92d53"
   },
   "source": [
    "### Удаление пропусков"
   ]
  },
  {
   "cell_type": "markdown",
   "id": "a2501ef6",
   "metadata": {
    "deletable": false,
    "editable": false,
    "id": "cd84967c"
   },
   "source": [
    "**Задание 4. Выведите количество пропущенных значений для каждого столбца. Используйте комбинацию двух методов.**"
   ]
  },
  {
   "cell_type": "code",
   "execution_count": 4,
   "id": "3b143954",
   "metadata": {
    "deletable": false,
    "id": "7f9b2309",
    "outputId": "81f4d817-781c-465c-ed15-91ce4446810d"
   },
   "outputs": [
    {
     "data": {
      "text/plain": [
       "children               0\n",
       "days_employed       2174\n",
       "dob_years              0\n",
       "education              0\n",
       "education_id           0\n",
       "family_status          0\n",
       "family_status_id       0\n",
       "gender                 0\n",
       "income_type            0\n",
       "debt                   0\n",
       "total_income        2174\n",
       "purpose                0\n",
       "dtype: int64"
      ]
     },
     "execution_count": 4,
     "metadata": {},
     "output_type": "execute_result"
    }
   ],
   "source": [
    "data.isna().sum()"
   ]
  },
  {
   "cell_type": "markdown",
   "id": "ca5a45c8",
   "metadata": {
    "deletable": false,
    "editable": false,
    "id": "db86e27b"
   },
   "source": [
    "**Задание 5. В двух столбцах есть пропущенные значения. Один из них — `days_employed`. Пропуски в этом столбце вы обработаете на следующем этапе. Другой столбец с пропущенными значениями — `total_income` — хранит данные о доходах. На сумму дохода сильнее всего влияет тип занятости, поэтому заполнить пропуски в этом столбце нужно медианным значением по каждому типу из столбца `income_type`. Например, у человека с типом занятости `сотрудник` пропуск в столбце `total_income` должен быть заполнен медианным доходом среди всех записей с тем же типом.**"
   ]
  },
  {
   "cell_type": "code",
   "execution_count": 5,
   "id": "9808a924",
   "metadata": {
    "deletable": false,
    "id": "42006a93"
   },
   "outputs": [],
   "source": [
    "for t in data['income_type'].unique():\n",
    "    data.loc[(data['income_type'] == t) & (data['total_income'].isna()), 'total_income'] = \\\n",
    "    data.loc[(data['income_type'] == t), 'total_income'].median()"
   ]
  },
  {
   "cell_type": "markdown",
   "id": "91f2298f",
   "metadata": {
    "deletable": false,
    "editable": false,
    "id": "89da5ece"
   },
   "source": [
    "### Обработка аномальных значений"
   ]
  },
  {
   "cell_type": "markdown",
   "id": "6cf7e63b",
   "metadata": {
    "deletable": false,
    "editable": false,
    "id": "57964554"
   },
   "source": [
    "**Задание 6. В данных могут встречаться артефакты (аномалии) — значения, которые не отражают действительность и появились по какой-то ошибке. таким артефактом будет отрицательное количество дней трудового стажа в столбце `days_employed`. Для реальных данных это нормально. Обработайте значения в этом столбце: замените все отрицательные значения положительными с помощью метода `abs()`.**"
   ]
  },
  {
   "cell_type": "code",
   "execution_count": 6,
   "id": "a56708c1",
   "metadata": {
    "deletable": false,
    "id": "f6f055bf"
   },
   "outputs": [],
   "source": [
    "data['days_employed'] = data['days_employed'].abs()"
   ]
  },
  {
   "cell_type": "markdown",
   "id": "974c76d3",
   "metadata": {
    "deletable": false,
    "editable": false,
    "id": "6107dd2f"
   },
   "source": [
    "**Задание 7. Для каждого типа занятости выведите медианное значение трудового стажа `days_employed` в днях.**"
   ]
  },
  {
   "cell_type": "code",
   "execution_count": 7,
   "id": "fc156c11",
   "metadata": {
    "deletable": false,
    "id": "85a5faf6",
    "outputId": "801ef80e-522b-4668-f34e-565af7432bcf"
   },
   "outputs": [
    {
     "data": {
      "text/plain": [
       "income_type\n",
       "безработный        366413.652744\n",
       "в декрете            3296.759962\n",
       "госслужащий          2689.368353\n",
       "компаньон            1547.382223\n",
       "пенсионер          365213.306266\n",
       "предприниматель       520.848083\n",
       "сотрудник            1574.202821\n",
       "студент               578.751554\n",
       "Name: days_employed, dtype: float64"
      ]
     },
     "execution_count": 7,
     "metadata": {},
     "output_type": "execute_result"
    }
   ],
   "source": [
    "data.groupby('income_type')['days_employed'].agg('median')"
   ]
  },
  {
   "cell_type": "markdown",
   "id": "d6bccfe4",
   "metadata": {
    "deletable": false,
    "editable": false,
    "id": "38d1a030"
   },
   "source": [
    "У двух типов (безработные и пенсионеры) получатся аномально большие значения. Исправить такие значения сложно, поэтому оставьте их как есть. Тем более этот столбец не понадобится вам для исследования."
   ]
  },
  {
   "cell_type": "markdown",
   "id": "80f54acf",
   "metadata": {
    "deletable": false,
    "editable": false,
    "id": "d8a9f147"
   },
   "source": [
    "**Задание 8. Выведите перечень уникальных значений столбца `children`.**"
   ]
  },
  {
   "cell_type": "code",
   "execution_count": 8,
   "id": "7376ed4d",
   "metadata": {
    "deletable": false,
    "id": "ef5056eb",
    "outputId": "6975b15c-7f95-4697-d16d-a0c79b657b03"
   },
   "outputs": [
    {
     "data": {
      "text/plain": [
       "array([ 1,  0,  3,  2, -1,  4, 20,  5])"
      ]
     },
     "execution_count": 8,
     "metadata": {},
     "output_type": "execute_result"
    }
   ],
   "source": [
    "data['children'].unique()"
   ]
  },
  {
   "cell_type": "markdown",
   "id": "fac28dc2",
   "metadata": {
    "deletable": false,
    "editable": false,
    "id": "40b9ebf2"
   },
   "source": [
    "**Задание 9. В столбце `children` есть два аномальных значения. Удалите строки, в которых встречаются такие аномальные значения из датафрейма `data`.**"
   ]
  },
  {
   "cell_type": "code",
   "execution_count": 9,
   "id": "94fb4e03",
   "metadata": {
    "deletable": false,
    "id": "3ff9801d"
   },
   "outputs": [],
   "source": [
    "data = data[(data['children'] != -1) & (data['children'] != 20)]"
   ]
  },
  {
   "cell_type": "markdown",
   "id": "5aa853ee",
   "metadata": {
    "deletable": false,
    "editable": false,
    "id": "bbc4d0ce"
   },
   "source": [
    "**Задание 10. Ещё раз выведите перечень уникальных значений столбца `children`, чтобы убедиться, что артефакты удалены.**"
   ]
  },
  {
   "cell_type": "code",
   "execution_count": 10,
   "id": "69ebe468",
   "metadata": {
    "deletable": false,
    "id": "ad4fa8b7",
    "outputId": "b2097101-d49d-44d9-901b-32a65c9463d1"
   },
   "outputs": [
    {
     "data": {
      "text/plain": [
       "array([1, 0, 3, 2, 4, 5])"
      ]
     },
     "execution_count": 10,
     "metadata": {},
     "output_type": "execute_result"
    }
   ],
   "source": [
    "data['children'].unique()"
   ]
  },
  {
   "cell_type": "markdown",
   "id": "4b6cff8c",
   "metadata": {
    "deletable": false,
    "editable": false,
    "id": "75440b63"
   },
   "source": [
    "### Удаление пропусков (продолжение)"
   ]
  },
  {
   "cell_type": "markdown",
   "id": "5e787fde",
   "metadata": {
    "deletable": false,
    "editable": false,
    "id": "f4ea573f"
   },
   "source": [
    "**Задание 11. Заполните пропуски в столбце `days_employed` медианными значениями по каждого типа занятости `income_type`.**"
   ]
  },
  {
   "cell_type": "code",
   "execution_count": 11,
   "id": "b37c39bb",
   "metadata": {
    "deletable": false,
    "id": "af6b1a7e"
   },
   "outputs": [],
   "source": [
    "for t in data['income_type'].unique():\n",
    "    data.loc[(data['income_type'] == t) & (data['days_employed'].isna()), 'days_employed'] = \\\n",
    "    data.loc[(data['income_type'] == t), 'days_employed'].median()"
   ]
  },
  {
   "cell_type": "markdown",
   "id": "91317b72",
   "metadata": {
    "deletable": false,
    "editable": false,
    "id": "2753f40d"
   },
   "source": [
    "**Задание 12. Убедитесь, что все пропуски заполнены. Проверьте себя и ещё раз выведите количество пропущенных значений для каждого столбца с помощью двух методов.**"
   ]
  },
  {
   "cell_type": "code",
   "execution_count": 12,
   "id": "8cd1007f",
   "metadata": {
    "deletable": false,
    "id": "55f78bc2",
    "outputId": "8da1e4e1-358e-4e87-98c9-f261bce0a7b2"
   },
   "outputs": [
    {
     "data": {
      "text/plain": [
       "children            0\n",
       "days_employed       0\n",
       "dob_years           0\n",
       "education           0\n",
       "education_id        0\n",
       "family_status       0\n",
       "family_status_id    0\n",
       "gender              0\n",
       "income_type         0\n",
       "debt                0\n",
       "total_income        0\n",
       "purpose             0\n",
       "dtype: int64"
      ]
     },
     "execution_count": 12,
     "metadata": {},
     "output_type": "execute_result"
    }
   ],
   "source": [
    "data.isna().sum()"
   ]
  },
  {
   "cell_type": "markdown",
   "id": "d2b0d35c",
   "metadata": {
    "deletable": false,
    "editable": false,
    "id": "ddc81e43"
   },
   "source": [
    "### Изменение типов данных"
   ]
  },
  {
   "cell_type": "markdown",
   "id": "f3f0aa73",
   "metadata": {
    "deletable": false,
    "editable": false,
    "id": "42d19d24"
   },
   "source": [
    "**Задание 13. Замените вещественный тип данных в столбце `total_income` на целочисленный с помощью метода `astype()`.**"
   ]
  },
  {
   "cell_type": "code",
   "execution_count": 13,
   "id": "caf900e9",
   "metadata": {
    "deletable": false,
    "id": "920b65ad"
   },
   "outputs": [],
   "source": [
    "data['total_income'] = data['total_income'].astype(int)"
   ]
  },
  {
   "cell_type": "markdown",
   "id": "5074cfa8",
   "metadata": {
    "deletable": false,
    "editable": false,
    "id": "80c420ba"
   },
   "source": [
    "### Обработка дубликатов"
   ]
  },
  {
   "cell_type": "markdown",
   "id": "062d2271",
   "metadata": {
    "deletable": false,
    "editable": false
   },
   "source": [
    "**Задание 14. Обработайте неявные дубликаты в столбце `education`. В этом столбце есть одни и те же значения, но записанные по-разному: с использованием заглавных и строчных букв. Приведите их к нижнему регистру. Проверьте остальные столбцы.**"
   ]
  },
  {
   "cell_type": "code",
   "execution_count": 14,
   "id": "e2cf5465",
   "metadata": {
    "deletable": false
   },
   "outputs": [],
   "source": [
    "data['education'] = data['education'].str.lower()"
   ]
  },
  {
   "cell_type": "markdown",
   "id": "ae7f4a16",
   "metadata": {
    "deletable": false,
    "editable": false,
    "id": "dc587695"
   },
   "source": [
    "**Задание 15. Выведите на экран количество строк-дубликатов в данных. Если такие строки присутствуют, удалите их.**"
   ]
  },
  {
   "cell_type": "code",
   "execution_count": 15,
   "id": "6f02015e",
   "metadata": {
    "deletable": false,
    "id": "3ee445e4",
    "outputId": "9684deba-1934-42d1-99e1-cda61740f822"
   },
   "outputs": [
    {
     "data": {
      "text/plain": [
       "71"
      ]
     },
     "execution_count": 15,
     "metadata": {},
     "output_type": "execute_result"
    }
   ],
   "source": [
    "data.duplicated().sum()"
   ]
  },
  {
   "cell_type": "code",
   "execution_count": 16,
   "id": "50456e39",
   "metadata": {
    "deletable": false,
    "id": "8575fe05"
   },
   "outputs": [],
   "source": [
    "data = data.drop_duplicates()"
   ]
  },
  {
   "cell_type": "markdown",
   "id": "5b4137b0",
   "metadata": {
    "deletable": false,
    "editable": false,
    "id": "9904cf55"
   },
   "source": [
    "### Категоризация данных"
   ]
  },
  {
   "cell_type": "markdown",
   "id": "5ab7c8f6",
   "metadata": {
    "deletable": false,
    "editable": false,
    "id": "72fcc8a2"
   },
   "source": [
    "**Задание 16. На основании диапазонов, указанных ниже, создайте в датафрейме `data` столбец `total_income_category` с категориями:**\n",
    "\n",
    "- 0–30000 — `'E'`;\n",
    "- 30001–50000 — `'D'`;\n",
    "- 50001–200000 — `'C'`;\n",
    "- 200001–1000000 — `'B'`;\n",
    "- 1000001 и выше — `'A'`.\n",
    "\n",
    "\n",
    "**Например, кредитополучателю с доходом 25000 нужно назначить категорию `'E'`, а клиенту, получающему 235000, — `'B'`. Используйте собственную функцию с именем `categorize_income()` и метод `apply()`.**"
   ]
  },
  {
   "cell_type": "code",
   "execution_count": 17,
   "id": "65aafe43",
   "metadata": {
    "deletable": false,
    "id": "e1771346"
   },
   "outputs": [],
   "source": [
    "def categorize_income(income):\n",
    "    try:\n",
    "        if 0 <= income <= 30000:\n",
    "            return 'E'\n",
    "        elif 30001 <= income <= 50000:\n",
    "            return 'D'\n",
    "        elif 50001 <= income <= 200000:\n",
    "            return 'C'\n",
    "        elif 200001 <= income <= 1000000:\n",
    "            return 'B'\n",
    "        elif income >= 1000001:\n",
    "            return 'A'\n",
    "    except:\n",
    "        pass"
   ]
  },
  {
   "cell_type": "code",
   "execution_count": 18,
   "id": "ca9a739e",
   "metadata": {
    "deletable": false,
    "id": "d5f3586d"
   },
   "outputs": [],
   "source": [
    "data['total_income_category'] = data['total_income'].apply(categorize_income)"
   ]
  },
  {
   "cell_type": "markdown",
   "id": "e8b95d34",
   "metadata": {
    "deletable": false,
    "editable": false,
    "id": "dde49b5c"
   },
   "source": [
    "**Задание 17. Выведите на экран перечень уникальных целей взятия кредита из столбца `purpose`.**"
   ]
  },
  {
   "cell_type": "code",
   "execution_count": 19,
   "id": "9a3a56dd",
   "metadata": {
    "deletable": false,
    "id": "f67ce9b3",
    "outputId": "673c12d9-7d7e-4ae0-9812-c622c89dd244"
   },
   "outputs": [
    {
     "data": {
      "text/plain": [
       "array(['покупка жилья', 'приобретение автомобиля',\n",
       "       'дополнительное образование', 'сыграть свадьбу',\n",
       "       'операции с жильем', 'образование', 'на проведение свадьбы',\n",
       "       'покупка жилья для семьи', 'покупка недвижимости',\n",
       "       'покупка коммерческой недвижимости', 'покупка жилой недвижимости',\n",
       "       'строительство собственной недвижимости', 'недвижимость',\n",
       "       'строительство недвижимости', 'на покупку подержанного автомобиля',\n",
       "       'на покупку своего автомобиля',\n",
       "       'операции с коммерческой недвижимостью',\n",
       "       'строительство жилой недвижимости', 'жилье',\n",
       "       'операции со своей недвижимостью', 'автомобили',\n",
       "       'заняться образованием', 'сделка с подержанным автомобилем',\n",
       "       'получение образования', 'автомобиль', 'свадьба',\n",
       "       'получение дополнительного образования', 'покупка своего жилья',\n",
       "       'операции с недвижимостью', 'получение высшего образования',\n",
       "       'свой автомобиль', 'сделка с автомобилем',\n",
       "       'профильное образование', 'высшее образование',\n",
       "       'покупка жилья для сдачи', 'на покупку автомобиля', 'ремонт жилью',\n",
       "       'заняться высшим образованием'], dtype=object)"
      ]
     },
     "execution_count": 19,
     "metadata": {},
     "output_type": "execute_result"
    }
   ],
   "source": [
    "data['purpose'].unique()"
   ]
  },
  {
   "cell_type": "markdown",
   "id": "3d04f924",
   "metadata": {
    "deletable": false,
    "editable": false,
    "id": "85d0aef0"
   },
   "source": [
    "**Задание 18. Создайте функцию, которая на основании данных из столбца `purpose` сформирует новый столбец `purpose_category`, в который войдут следующие категории:**\n",
    "\n",
    "- `'операции с автомобилем'`,\n",
    "- `'операции с недвижимостью'`,\n",
    "- `'проведение свадьбы'`,\n",
    "- `'получение образования'`.\n",
    "\n",
    "**Например, если в столбце `purpose` находится подстрока `'на покупку автомобиля'`, то в столбце `purpose_category` должна появиться строка `'операции с автомобилем'`.**\n",
    "\n",
    "**Используйте собственную функцию с именем `categorize_purpose()` и метод `apply()`. Изучите данные в столбце `purpose` и определите, какие подстроки помогут вам правильно определить категорию.**"
   ]
  },
  {
   "cell_type": "code",
   "execution_count": 20,
   "id": "56a0b09a",
   "metadata": {
    "deletable": false,
    "id": "e149fab4"
   },
   "outputs": [],
   "source": [
    "def categorize_purpose(row):\n",
    "    try:\n",
    "        if 'автом' in row:\n",
    "            return 'операции с автомобилем'\n",
    "        elif 'жил' in row or 'недвиж' in row:\n",
    "            return 'операции с недвижимостью'\n",
    "        elif 'свад' in row:\n",
    "            return 'проведение свадьбы'\n",
    "        elif 'образов' in row:\n",
    "            return 'получение образования'\n",
    "    except:\n",
    "        return 'нет категории'"
   ]
  },
  {
   "cell_type": "code",
   "execution_count": 21,
   "id": "48b97eef",
   "metadata": {
    "deletable": false,
    "id": "bf36e69b"
   },
   "outputs": [],
   "source": [
    "data['purpose_category'] = data['purpose'].apply(categorize_purpose)"
   ]
  },
  {
   "cell_type": "markdown",
   "id": "15d3260b",
   "metadata": {
    "deletable": false,
    "editable": false,
    "id": "09b242bf"
   },
   "source": [
    "### Шаг 3. Исследуйте данные и ответьте на вопросы"
   ]
  },
  {
   "cell_type": "markdown",
   "id": "2ce7604f",
   "metadata": {
    "deletable": false,
    "editable": false,
    "id": "c5d66278"
   },
   "source": [
    "#### 3.1 Есть ли зависимость между количеством детей и возвратом кредита в срок?"
   ]
  },
  {
   "cell_type": "code",
   "execution_count": 31,
   "id": "f28566b8",
   "metadata": {
    "deletable": false,
    "id": "2cacfc4a",
    "scrolled": true
   },
   "outputs": [
    {
     "data": {
      "text/html": [
       "<div>\n",
       "<style scoped>\n",
       "    .dataframe tbody tr th:only-of-type {\n",
       "        vertical-align: middle;\n",
       "    }\n",
       "\n",
       "    .dataframe tbody tr th {\n",
       "        vertical-align: top;\n",
       "    }\n",
       "\n",
       "    .dataframe thead th {\n",
       "        text-align: right;\n",
       "    }\n",
       "</style>\n",
       "<table border=\"1\" class=\"dataframe\">\n",
       "  <thead>\n",
       "    <tr style=\"text-align: right;\">\n",
       "      <th></th>\n",
       "      <th>Общее количество клиентов категории</th>\n",
       "      <th>Количество невозвратов</th>\n",
       "      <th>%</th>\n",
       "    </tr>\n",
       "    <tr>\n",
       "      <th>children</th>\n",
       "      <th></th>\n",
       "      <th></th>\n",
       "      <th></th>\n",
       "    </tr>\n",
       "  </thead>\n",
       "  <tbody>\n",
       "    <tr>\n",
       "      <th>0</th>\n",
       "      <td>14091</td>\n",
       "      <td>1063</td>\n",
       "      <td>7.54</td>\n",
       "    </tr>\n",
       "    <tr>\n",
       "      <th>1</th>\n",
       "      <td>4808</td>\n",
       "      <td>444</td>\n",
       "      <td>9.23</td>\n",
       "    </tr>\n",
       "    <tr>\n",
       "      <th>2</th>\n",
       "      <td>2052</td>\n",
       "      <td>194</td>\n",
       "      <td>9.45</td>\n",
       "    </tr>\n",
       "    <tr>\n",
       "      <th>3</th>\n",
       "      <td>330</td>\n",
       "      <td>27</td>\n",
       "      <td>8.18</td>\n",
       "    </tr>\n",
       "    <tr>\n",
       "      <th>4</th>\n",
       "      <td>41</td>\n",
       "      <td>4</td>\n",
       "      <td>9.76</td>\n",
       "    </tr>\n",
       "    <tr>\n",
       "      <th>5</th>\n",
       "      <td>9</td>\n",
       "      <td>0</td>\n",
       "      <td>0.00</td>\n",
       "    </tr>\n",
       "  </tbody>\n",
       "</table>\n",
       "</div>"
      ],
      "text/plain": [
       "          Общее количество клиентов категории  Количество невозвратов     %\n",
       "children                                                                   \n",
       "0                                       14091                    1063  7.54\n",
       "1                                        4808                     444  9.23\n",
       "2                                        2052                     194  9.45\n",
       "3                                         330                      27  8.18\n",
       "4                                          41                       4  9.76\n",
       "5                                           9                       0  0.00"
      ]
     },
     "execution_count": 31,
     "metadata": {},
     "output_type": "execute_result"
    }
   ],
   "source": [
    "children_pivot = data.pivot_table(index = ['children'], values = 'debt', aggfunc = ['count', 'sum', 'mean'])\n",
    "children_pivot.columns = ['Общее количество клиентов категории', 'Количество невозвратов', '%']\n",
    "children_pivot['%'] = children_pivot['%'].round(4)*100\n",
    "children_pivot\n"
   ]
  },
  {
   "cell_type": "markdown",
   "id": "165de874",
   "metadata": {
    "deletable": false,
    "id": "3a6b99ec"
   },
   "source": [
    "**Вывод:**\n",
    "___Прямой зависимости нет, если проигнорировать выброс в случае категории клиентов с 3 и 5 детьми, то можно наблюдать рост невозвратов в процентном соотношении, по мере увеличения количества детей. Наиболее надежными заемщиками являются люди без детей или имеющие 3 - х детей, их доля невозвратов самая низкая среди предлагаемых категорий (8.18%). Далее идут клиенты имеющие 1 или 2 детей, их доля невозвратов чуть выше (9.23 и 9.45%). Самые ненадежные заемщики с высокой долей невозвратов (9.76%), это категория клиентов с 4 детьми. В случае с категорией имеющих 5 детей, выборка не показательна, по причине недостаточного количества клиентов для осуществления выводов.___"
   ]
  },
  {
   "cell_type": "markdown",
   "id": "42841a4c",
   "metadata": {
    "deletable": false,
    "editable": false,
    "id": "97be82ca"
   },
   "source": [
    "#### 3.2 Есть ли зависимость между семейным положением и возвратом кредита в срок?"
   ]
  },
  {
   "cell_type": "code",
   "execution_count": 36,
   "id": "e0a36b78",
   "metadata": {
    "deletable": false,
    "id": "dc3f7ee8",
    "scrolled": true
   },
   "outputs": [
    {
     "data": {
      "text/html": [
       "<div>\n",
       "<style scoped>\n",
       "    .dataframe tbody tr th:only-of-type {\n",
       "        vertical-align: middle;\n",
       "    }\n",
       "\n",
       "    .dataframe tbody tr th {\n",
       "        vertical-align: top;\n",
       "    }\n",
       "\n",
       "    .dataframe thead th {\n",
       "        text-align: right;\n",
       "    }\n",
       "</style>\n",
       "<table border=\"1\" class=\"dataframe\">\n",
       "  <thead>\n",
       "    <tr style=\"text-align: right;\">\n",
       "      <th></th>\n",
       "      <th>Общее количество клиентов категории</th>\n",
       "      <th>Количество невозвратов</th>\n",
       "      <th>%</th>\n",
       "    </tr>\n",
       "    <tr>\n",
       "      <th>family_status</th>\n",
       "      <th></th>\n",
       "      <th></th>\n",
       "      <th></th>\n",
       "    </tr>\n",
       "  </thead>\n",
       "  <tbody>\n",
       "    <tr>\n",
       "      <th>Не женат / не замужем</th>\n",
       "      <td>2796</td>\n",
       "      <td>273</td>\n",
       "      <td>9.76</td>\n",
       "    </tr>\n",
       "    <tr>\n",
       "      <th>в разводе</th>\n",
       "      <td>1189</td>\n",
       "      <td>84</td>\n",
       "      <td>7.06</td>\n",
       "    </tr>\n",
       "    <tr>\n",
       "      <th>вдовец / вдова</th>\n",
       "      <td>951</td>\n",
       "      <td>63</td>\n",
       "      <td>6.62</td>\n",
       "    </tr>\n",
       "    <tr>\n",
       "      <th>гражданский брак</th>\n",
       "      <td>4134</td>\n",
       "      <td>385</td>\n",
       "      <td>9.31</td>\n",
       "    </tr>\n",
       "    <tr>\n",
       "      <th>женат / замужем</th>\n",
       "      <td>12261</td>\n",
       "      <td>927</td>\n",
       "      <td>7.56</td>\n",
       "    </tr>\n",
       "  </tbody>\n",
       "</table>\n",
       "</div>"
      ],
      "text/plain": [
       "                       Общее количество клиентов категории  \\\n",
       "family_status                                                \n",
       "Не женат / не замужем                                 2796   \n",
       "в разводе                                             1189   \n",
       "вдовец / вдова                                         951   \n",
       "гражданский брак                                      4134   \n",
       "женат / замужем                                      12261   \n",
       "\n",
       "                       Количество невозвратов     %  \n",
       "family_status                                        \n",
       "Не женат / не замужем                     273  9.76  \n",
       "в разводе                                  84  7.06  \n",
       "вдовец / вдова                             63  6.62  \n",
       "гражданский брак                          385  9.31  \n",
       "женат / замужем                           927  7.56  "
      ]
     },
     "execution_count": 36,
     "metadata": {},
     "output_type": "execute_result"
    }
   ],
   "source": [
    "family_status_pivot = data.pivot_table(index=['family_status'], values='debt',aggfunc=['count','sum', 'mean'])\n",
    "family_status_pivot.columns = ['Общее количество клиентов категории', 'Количество невозвратов', '%']\n",
    "family_status_pivot['%'] = family_status_pivot['%'].round(4)*100 \n",
    "family_status_pivot"
   ]
  },
  {
   "cell_type": "markdown",
   "id": "83d03ab0",
   "metadata": {
    "deletable": false,
    "id": "1cef7837"
   },
   "source": [
    "**Вывод:** ___Зависимость есть. Клиенты не состоящие в браке имеют самую высокую долю невозвратов по кредиту (9.76%). Чуть ниже доля (9.31%) невозвратов у клиентов состоящих в гражданском браке. Далее следуют клиенты состоящие в браке (7.56%). Самыми надежными заемщиками являются категории клиентов в разводе (7.06%) и овдовевших супругов (6.62%).___"
   ]
  },
  {
   "cell_type": "markdown",
   "id": "a78f1971",
   "metadata": {
    "deletable": false,
    "editable": false,
    "id": "1e8b2fca"
   },
   "source": [
    "#### 3.3 Есть ли зависимость между уровнем дохода и возвратом кредита в срок?"
   ]
  },
  {
   "cell_type": "code",
   "execution_count": 37,
   "id": "278646e0",
   "metadata": {
    "deletable": false,
    "id": "cd7e3720"
   },
   "outputs": [
    {
     "data": {
      "text/html": [
       "<div>\n",
       "<style scoped>\n",
       "    .dataframe tbody tr th:only-of-type {\n",
       "        vertical-align: middle;\n",
       "    }\n",
       "\n",
       "    .dataframe tbody tr th {\n",
       "        vertical-align: top;\n",
       "    }\n",
       "\n",
       "    .dataframe thead th {\n",
       "        text-align: right;\n",
       "    }\n",
       "</style>\n",
       "<table border=\"1\" class=\"dataframe\">\n",
       "  <thead>\n",
       "    <tr style=\"text-align: right;\">\n",
       "      <th></th>\n",
       "      <th>Общее количество клиентов категории</th>\n",
       "      <th>Количество невозвратов</th>\n",
       "      <th>%</th>\n",
       "    </tr>\n",
       "    <tr>\n",
       "      <th>total_income_category</th>\n",
       "      <th></th>\n",
       "      <th></th>\n",
       "      <th></th>\n",
       "    </tr>\n",
       "  </thead>\n",
       "  <tbody>\n",
       "    <tr>\n",
       "      <th>A</th>\n",
       "      <td>25</td>\n",
       "      <td>2</td>\n",
       "      <td>8.00</td>\n",
       "    </tr>\n",
       "    <tr>\n",
       "      <th>B</th>\n",
       "      <td>5014</td>\n",
       "      <td>354</td>\n",
       "      <td>7.06</td>\n",
       "    </tr>\n",
       "    <tr>\n",
       "      <th>C</th>\n",
       "      <td>15921</td>\n",
       "      <td>1353</td>\n",
       "      <td>8.50</td>\n",
       "    </tr>\n",
       "    <tr>\n",
       "      <th>D</th>\n",
       "      <td>349</td>\n",
       "      <td>21</td>\n",
       "      <td>6.02</td>\n",
       "    </tr>\n",
       "    <tr>\n",
       "      <th>E</th>\n",
       "      <td>22</td>\n",
       "      <td>2</td>\n",
       "      <td>9.09</td>\n",
       "    </tr>\n",
       "  </tbody>\n",
       "</table>\n",
       "</div>"
      ],
      "text/plain": [
       "                       Общее количество клиентов категории  \\\n",
       "total_income_category                                        \n",
       "A                                                       25   \n",
       "B                                                     5014   \n",
       "C                                                    15921   \n",
       "D                                                      349   \n",
       "E                                                       22   \n",
       "\n",
       "                       Количество невозвратов     %  \n",
       "total_income_category                                \n",
       "A                                           2  8.00  \n",
       "B                                         354  7.06  \n",
       "C                                        1353  8.50  \n",
       "D                                          21  6.02  \n",
       "E                                           2  9.09  "
      ]
     },
     "execution_count": 37,
     "metadata": {},
     "output_type": "execute_result"
    }
   ],
   "source": [
    "income_category_pivot = data.pivot_table(index=['total_income_category'], values='debt', aggfunc=['count','sum','mean'])\n",
    "income_category_pivot.columns = ['Общее количество клиентов категории', 'Количество невозвратов', '%']\n",
    "income_category_pivot['%'] = income_category_pivot['%'].round(4)*100 \n",
    "income_category_pivot"
   ]
  },
  {
   "cell_type": "markdown",
   "id": "1d5f976c",
   "metadata": {
    "deletable": false,
    "id": "e8593def"
   },
   "source": [
    "**Вывод:** ___Самая высокая доля (9.09%) просрочек по кредиту у категории 'E' (уровень дохода до 30 тыс.руб), клиенты относящиеся к данной категории, являются по мнению банка, ненадежными заемщиками. Далее по росту надежности идут клиенты категории 'C'- (уровень дохода 50 -200 тыс.руб) (8.50%),'A'- (уровень дохода 1 млн.руб и выше) (8%) и категория 'B' - (уровень дохода 200 тыс.руб - 1 млн.руб) (7.06%). Клиенты категории 'D' (уровень дохода 30 - 50 тыс.руб) являются самыми надежными заемщиками (6.02%). Так же можно заметить, что по мере роста доходов, сначала наблюдается увеличение роста количества невозвратов ('C'- уровень дохода 50 -200 тыс.руб - 8.50%), а затем происходит улучшение динамики в диапозоне клиентов категории B (уровень дохода 200 тыс.руб - 1 млн.руб. - 7.06%). В общем и целом, категории B и D для банка являются самыми желанными клиентами. Исходя из данных показателей, делаю вывод что, прямая зависимость роста количества невозвратов от уровня дохода отсутствует.___"
   ]
  },
  {
   "cell_type": "markdown",
   "id": "6b669b6c",
   "metadata": {
    "deletable": false,
    "editable": false,
    "id": "99ecbd1f"
   },
   "source": [
    "#### 3.4 Как разные цели кредита влияют на его возврат в срок?"
   ]
  },
  {
   "cell_type": "code",
   "execution_count": 38,
   "id": "a360a682",
   "metadata": {
    "deletable": false,
    "id": "2b687290"
   },
   "outputs": [
    {
     "data": {
      "text/html": [
       "<div>\n",
       "<style scoped>\n",
       "    .dataframe tbody tr th:only-of-type {\n",
       "        vertical-align: middle;\n",
       "    }\n",
       "\n",
       "    .dataframe tbody tr th {\n",
       "        vertical-align: top;\n",
       "    }\n",
       "\n",
       "    .dataframe thead th {\n",
       "        text-align: right;\n",
       "    }\n",
       "</style>\n",
       "<table border=\"1\" class=\"dataframe\">\n",
       "  <thead>\n",
       "    <tr style=\"text-align: right;\">\n",
       "      <th></th>\n",
       "      <th>Общее количество клиентов категории</th>\n",
       "      <th>Количество невозвратов</th>\n",
       "      <th>%</th>\n",
       "    </tr>\n",
       "    <tr>\n",
       "      <th>purpose_category</th>\n",
       "      <th></th>\n",
       "      <th></th>\n",
       "      <th></th>\n",
       "    </tr>\n",
       "  </thead>\n",
       "  <tbody>\n",
       "    <tr>\n",
       "      <th>операции с автомобилем</th>\n",
       "      <td>4279</td>\n",
       "      <td>400</td>\n",
       "      <td>9.35</td>\n",
       "    </tr>\n",
       "    <tr>\n",
       "      <th>операции с недвижимостью</th>\n",
       "      <td>10751</td>\n",
       "      <td>780</td>\n",
       "      <td>7.26</td>\n",
       "    </tr>\n",
       "    <tr>\n",
       "      <th>получение образования</th>\n",
       "      <td>3988</td>\n",
       "      <td>369</td>\n",
       "      <td>9.25</td>\n",
       "    </tr>\n",
       "    <tr>\n",
       "      <th>проведение свадьбы</th>\n",
       "      <td>2313</td>\n",
       "      <td>183</td>\n",
       "      <td>7.91</td>\n",
       "    </tr>\n",
       "  </tbody>\n",
       "</table>\n",
       "</div>"
      ],
      "text/plain": [
       "                          Общее количество клиентов категории  \\\n",
       "purpose_category                                                \n",
       "операции с автомобилем                                   4279   \n",
       "операции с недвижимостью                                10751   \n",
       "получение образования                                    3988   \n",
       "проведение свадьбы                                       2313   \n",
       "\n",
       "                          Количество невозвратов     %  \n",
       "purpose_category                                        \n",
       "операции с автомобилем                       400  9.35  \n",
       "операции с недвижимостью                     780  7.26  \n",
       "получение образования                        369  9.25  \n",
       "проведение свадьбы                           183  7.91  "
      ]
     },
     "execution_count": 38,
     "metadata": {},
     "output_type": "execute_result"
    }
   ],
   "source": [
    "purpose_category_pivot = data.pivot_table(index=['purpose_category'], values='debt', aggfunc=['count', 'sum', 'mean'])\n",
    "purpose_category_pivot.columns = ['Общее количество клиентов категории', 'Количество невозвратов', '%']\n",
    "purpose_category_pivot['%'] = purpose_category_pivot['%'].round(4)*100\n",
    "purpose_category_pivot"
   ]
  },
  {
   "cell_type": "markdown",
   "id": "30410319",
   "metadata": {
    "deletable": false,
    "id": "b4bb2ce6"
   },
   "source": [
    "**Вывод:** ___Наиболее надежными заемщиками являются те, кто берут кредиты на операции с недвижимостью (7%). Менее надежными являются клиенты, которые берут кредиты на проведение свадьбы (8%). Самые ненадежные обращаются за кредитом на покупку автомобиля и получения образования (9%).___"
   ]
  },
  {
   "cell_type": "markdown",
   "id": "623cd138",
   "metadata": {
    "deletable": false,
    "editable": false,
    "id": "09c3ac4c"
   },
   "source": [
    "#### 3.5 Приведите возможные причины появления пропусков в исходных данных."
   ]
  },
  {
   "cell_type": "markdown",
   "id": "59b965fd",
   "metadata": {
    "deletable": false,
    "id": "9da2ceda"
   },
   "source": [
    "*Ответ:* ___Причинами могут быть ошибки ввода или сокрытие информации.___"
   ]
  },
  {
   "cell_type": "markdown",
   "id": "651fcd7e",
   "metadata": {
    "deletable": false,
    "editable": false,
    "id": "7b0487d6"
   },
   "source": [
    "#### 3.6 Объясните, почему заполнить пропуски медианным значением — лучшее решение для количественных переменных."
   ]
  },
  {
   "cell_type": "markdown",
   "id": "71708f86",
   "metadata": {
    "deletable": false,
    "id": "7ecf2b8e"
   },
   "source": [
    "*Ответ:* ___Медианное значение имеет наиболее устойчивую характеристику, так как на нее не влияют случайные выбросы. Если количество данных велико и они имеют нормальное распределение, то медиана будет равняться среднему значению.___"
   ]
  },
  {
   "cell_type": "markdown",
   "id": "d401c302",
   "metadata": {
    "deletable": false,
    "editable": false,
    "id": "6db5255a"
   },
   "source": [
    "### Шаг 4: общий вывод."
   ]
  },
  {
   "cell_type": "markdown",
   "id": "496c522a",
   "metadata": {
    "deletable": false,
    "id": "bad65432"
   },
   "source": [
    "\n",
    "___Наиболее желанным заемщиком для банка является клиент, подходящий под следующие характеристики. Люди состоящие в браке, вдовцы или вдовы, не имеющие детей, с уровнем дохода категории ‘D’ (30 тыс. рублей – 50 тыс. рублей), цель получения кредита: операции с недвижимостью или проведение свадьбы.<br><br>\n",
    "В противовес, наиболее рискованным клиентом является заемщик не состоящий в официальном браке или живущий в гражданском браке, содержащий 1, 2 или  4 детей, с уровнем дохода категории ‘E’ (до 30 тыс. рублей), цель получения кредита: операции с автомобилем или получение образования.___ \n"
   ]
  }
 ],
 "metadata": {
  "ExecuteTimeLog": [
   {
    "duration": 1059,
    "start_time": "2022-09-16T05:33:03.575Z"
   },
   {
    "duration": 79,
    "start_time": "2022-09-16T05:33:08.609Z"
   },
   {
    "duration": 36,
    "start_time": "2022-09-16T05:33:14.594Z"
   },
   {
    "duration": 16,
    "start_time": "2022-09-16T05:33:20.140Z"
   },
   {
    "duration": 12,
    "start_time": "2022-09-16T05:33:23.625Z"
   },
   {
    "duration": 33,
    "start_time": "2022-09-16T05:33:27.302Z"
   },
   {
    "duration": 4,
    "start_time": "2022-09-16T05:33:30.074Z"
   },
   {
    "duration": 7,
    "start_time": "2022-09-16T05:33:32.596Z"
   },
   {
    "duration": 4,
    "start_time": "2022-09-16T05:33:35.564Z"
   },
   {
    "duration": 6,
    "start_time": "2022-09-16T05:33:38.020Z"
   },
   {
    "duration": 5,
    "start_time": "2022-09-16T05:33:40.662Z"
   },
   {
    "duration": 33,
    "start_time": "2022-09-16T05:33:43.634Z"
   },
   {
    "duration": 13,
    "start_time": "2022-09-16T05:33:46.299Z"
   },
   {
    "duration": 4,
    "start_time": "2022-09-16T05:33:49.038Z"
   },
   {
    "duration": 17,
    "start_time": "2022-09-16T05:33:51.856Z"
   },
   {
    "duration": 18,
    "start_time": "2022-09-16T05:33:54.296Z"
   },
   {
    "duration": 28,
    "start_time": "2022-09-16T05:33:56.442Z"
   },
   {
    "duration": 4,
    "start_time": "2022-09-16T05:34:00.972Z"
   },
   {
    "duration": 10,
    "start_time": "2022-09-16T05:34:03.184Z"
   },
   {
    "duration": 9,
    "start_time": "2022-09-16T05:34:06.999Z"
   },
   {
    "duration": 4,
    "start_time": "2022-09-16T05:34:11.008Z"
   },
   {
    "duration": 8,
    "start_time": "2022-09-16T05:34:13.098Z"
   },
   {
    "duration": 87,
    "start_time": "2022-09-16T05:56:08.496Z"
   },
   {
    "duration": 36,
    "start_time": "2022-09-16T05:56:20.858Z"
   },
   {
    "duration": 37,
    "start_time": "2022-09-16T06:01:43.366Z"
   },
   {
    "duration": 22,
    "start_time": "2022-09-16T06:06:44.690Z"
   },
   {
    "duration": 24,
    "start_time": "2022-09-16T06:07:46.222Z"
   },
   {
    "duration": 17,
    "start_time": "2022-09-16T06:11:00.641Z"
   },
   {
    "duration": 34,
    "start_time": "2022-09-16T06:11:07.693Z"
   },
   {
    "duration": 21,
    "start_time": "2022-09-16T06:18:03.514Z"
   },
   {
    "duration": 99,
    "start_time": "2022-09-16T06:27:38.898Z"
   },
   {
    "duration": 29,
    "start_time": "2022-09-16T06:28:21.585Z"
   },
   {
    "duration": 23,
    "start_time": "2022-09-16T06:29:02.729Z"
   },
   {
    "duration": 24,
    "start_time": "2022-09-16T06:47:07.030Z"
   },
   {
    "duration": 30,
    "start_time": "2022-09-16T06:56:29.835Z"
   },
   {
    "duration": 24,
    "start_time": "2022-09-16T07:26:37.603Z"
   },
   {
    "duration": 28,
    "start_time": "2022-09-16T07:28:56.241Z"
   },
   {
    "duration": 7,
    "start_time": "2022-09-16T07:30:56.915Z"
   },
   {
    "duration": 7,
    "start_time": "2022-09-16T07:31:50.008Z"
   },
   {
    "duration": 23,
    "start_time": "2022-09-16T07:32:27.034Z"
   },
   {
    "duration": 38,
    "start_time": "2022-09-16T07:32:56.637Z"
   },
   {
    "duration": 51,
    "start_time": "2022-09-16T13:22:08.527Z"
   },
   {
    "duration": 8,
    "start_time": "2022-09-16T13:22:17.061Z"
   },
   {
    "duration": 514,
    "start_time": "2022-09-16T13:22:28.551Z"
   },
   {
    "duration": 24,
    "start_time": "2022-09-16T13:22:31.347Z"
   },
   {
    "duration": 27,
    "start_time": "2022-09-16T13:22:40.993Z"
   },
   {
    "duration": 37,
    "start_time": "2022-09-16T13:22:45.348Z"
   },
   {
    "duration": 21,
    "start_time": "2022-09-16T13:23:20.683Z"
   },
   {
    "duration": 28,
    "start_time": "2022-09-16T13:23:25.203Z"
   },
   {
    "duration": 11,
    "start_time": "2022-09-16T13:23:27.976Z"
   },
   {
    "duration": 8,
    "start_time": "2022-09-16T13:25:08.547Z"
   },
   {
    "duration": 13,
    "start_time": "2022-09-16T13:27:56.663Z"
   },
   {
    "duration": 11,
    "start_time": "2022-09-16T13:36:37.767Z"
   },
   {
    "duration": 13,
    "start_time": "2022-09-16T13:36:45.111Z"
   },
   {
    "duration": 397,
    "start_time": "2022-09-16T13:37:17.858Z"
   },
   {
    "duration": 22,
    "start_time": "2022-09-16T13:40:52.318Z"
   },
   {
    "duration": 26,
    "start_time": "2022-09-16T13:41:09.706Z"
   },
   {
    "duration": 31,
    "start_time": "2022-09-16T13:41:17.068Z"
   },
   {
    "duration": 23,
    "start_time": "2022-09-16T13:42:12.305Z"
   },
   {
    "duration": 43,
    "start_time": "2022-09-16T13:42:27.633Z"
   },
   {
    "duration": 13,
    "start_time": "2022-09-16T13:43:19.444Z"
   },
   {
    "duration": 14,
    "start_time": "2022-09-16T13:44:19.139Z"
   },
   {
    "duration": 0,
    "start_time": "2022-09-16T13:44:41.084Z"
   },
   {
    "duration": 34,
    "start_time": "2022-09-16T13:44:51.280Z"
   },
   {
    "duration": 6,
    "start_time": "2022-09-16T13:47:15.945Z"
   },
   {
    "duration": 14,
    "start_time": "2022-09-16T13:57:07.982Z"
   },
   {
    "duration": 20,
    "start_time": "2022-09-16T13:57:32.393Z"
   },
   {
    "duration": 20,
    "start_time": "2022-09-16T13:58:51.203Z"
   },
   {
    "duration": 19,
    "start_time": "2022-09-16T13:58:59.188Z"
   },
   {
    "duration": 19,
    "start_time": "2022-09-16T13:59:05.840Z"
   },
   {
    "duration": 19,
    "start_time": "2022-09-16T13:59:11.450Z"
   },
   {
    "duration": 23,
    "start_time": "2022-09-16T14:00:12.881Z"
   },
   {
    "duration": 9,
    "start_time": "2022-09-16T14:03:06.326Z"
   },
   {
    "duration": 16,
    "start_time": "2022-09-16T14:03:49.970Z"
   },
   {
    "duration": 12,
    "start_time": "2022-09-16T14:10:04.085Z"
   },
   {
    "duration": 11,
    "start_time": "2022-09-16T14:10:14.177Z"
   },
   {
    "duration": 12,
    "start_time": "2022-09-16T14:13:29.554Z"
   },
   {
    "duration": 778,
    "start_time": "2022-09-17T07:40:14.720Z"
   },
   {
    "duration": 10,
    "start_time": "2022-09-17T07:45:15.648Z"
   },
   {
    "duration": 8,
    "start_time": "2022-09-17T07:45:18.652Z"
   },
   {
    "duration": 25,
    "start_time": "2022-09-17T07:45:35.625Z"
   },
   {
    "duration": 74,
    "start_time": "2022-09-17T07:50:09.538Z"
   },
   {
    "duration": 760,
    "start_time": "2022-09-17T07:50:18.220Z"
   },
   {
    "duration": 999,
    "start_time": "2022-09-17T07:50:38.324Z"
   },
   {
    "duration": 1190,
    "start_time": "2022-09-17T07:51:18.219Z"
   },
   {
    "duration": 24,
    "start_time": "2022-09-17T07:51:39.389Z"
   },
   {
    "duration": 10,
    "start_time": "2022-09-17T07:54:01.421Z"
   },
   {
    "duration": 16,
    "start_time": "2022-09-17T07:54:19.790Z"
   },
   {
    "duration": 21,
    "start_time": "2022-09-17T07:54:29.916Z"
   },
   {
    "duration": 21,
    "start_time": "2022-09-17T07:55:00.652Z"
   },
   {
    "duration": 235,
    "start_time": "2022-09-17T07:55:32.405Z"
   },
   {
    "duration": 236,
    "start_time": "2022-09-17T07:55:51.008Z"
   },
   {
    "duration": 25,
    "start_time": "2022-09-17T07:56:31.293Z"
   },
   {
    "duration": 25,
    "start_time": "2022-09-17T07:57:16.415Z"
   },
   {
    "duration": 1803,
    "start_time": "2022-09-17T07:59:39.235Z"
   },
   {
    "duration": 24,
    "start_time": "2022-09-17T07:59:45.973Z"
   },
   {
    "duration": 70,
    "start_time": "2022-09-17T08:00:29.095Z"
   },
   {
    "duration": 18,
    "start_time": "2022-09-17T08:00:30.632Z"
   },
   {
    "duration": 17,
    "start_time": "2022-09-17T08:00:35.022Z"
   },
   {
    "duration": 16,
    "start_time": "2022-09-17T08:00:39.417Z"
   },
   {
    "duration": 12,
    "start_time": "2022-09-17T08:00:42.714Z"
   },
   {
    "duration": 36,
    "start_time": "2022-09-17T08:00:46.712Z"
   },
   {
    "duration": 4,
    "start_time": "2022-09-17T08:00:49.242Z"
   },
   {
    "duration": 8,
    "start_time": "2022-09-17T08:00:51.246Z"
   },
   {
    "duration": 4,
    "start_time": "2022-09-17T08:00:54.363Z"
   },
   {
    "duration": 6,
    "start_time": "2022-09-17T08:00:56.690Z"
   },
   {
    "duration": 6,
    "start_time": "2022-09-17T08:00:58.985Z"
   },
   {
    "duration": 35,
    "start_time": "2022-09-17T08:01:01.489Z"
   },
   {
    "duration": 10,
    "start_time": "2022-09-17T08:01:03.990Z"
   },
   {
    "duration": 4,
    "start_time": "2022-09-17T08:01:06.249Z"
   },
   {
    "duration": 11,
    "start_time": "2022-09-17T08:01:08.251Z"
   },
   {
    "duration": 24,
    "start_time": "2022-09-17T08:01:09.963Z"
   },
   {
    "duration": 19,
    "start_time": "2022-09-17T08:01:11.803Z"
   },
   {
    "duration": 3,
    "start_time": "2022-09-17T08:01:15.556Z"
   },
   {
    "duration": 10,
    "start_time": "2022-09-17T08:01:17.697Z"
   },
   {
    "duration": 6,
    "start_time": "2022-09-17T08:01:20.588Z"
   },
   {
    "duration": 4,
    "start_time": "2022-09-17T08:01:24.355Z"
   },
   {
    "duration": 9,
    "start_time": "2022-09-17T08:01:26.489Z"
   },
   {
    "duration": 27,
    "start_time": "2022-09-17T08:01:29.519Z"
   },
   {
    "duration": 28,
    "start_time": "2022-09-17T08:09:24.414Z"
   },
   {
    "duration": 30,
    "start_time": "2022-09-17T08:09:28.309Z"
   },
   {
    "duration": 31,
    "start_time": "2022-09-17T08:10:22.605Z"
   },
   {
    "duration": 17,
    "start_time": "2022-09-17T08:13:16.758Z"
   },
   {
    "duration": 19,
    "start_time": "2022-09-17T08:13:30.397Z"
   },
   {
    "duration": 229,
    "start_time": "2022-09-17T08:16:55.617Z"
   },
   {
    "duration": 24,
    "start_time": "2022-09-17T08:17:12.915Z"
   },
   {
    "duration": 40,
    "start_time": "2022-09-17T08:22:14.946Z"
   },
   {
    "duration": 28,
    "start_time": "2022-09-17T08:22:45.464Z"
   },
   {
    "duration": 10,
    "start_time": "2022-09-17T08:23:51.214Z"
   },
   {
    "duration": 696,
    "start_time": "2022-09-18T08:37:35.520Z"
   },
   {
    "duration": 24,
    "start_time": "2022-09-18T08:37:36.218Z"
   },
   {
    "duration": 17,
    "start_time": "2022-09-18T08:37:36.244Z"
   },
   {
    "duration": 9,
    "start_time": "2022-09-18T08:37:36.263Z"
   },
   {
    "duration": 55,
    "start_time": "2022-09-18T08:37:36.274Z"
   },
   {
    "duration": 3,
    "start_time": "2022-09-18T08:37:36.331Z"
   },
   {
    "duration": 14,
    "start_time": "2022-09-18T08:37:36.336Z"
   },
   {
    "duration": 5,
    "start_time": "2022-09-18T08:37:36.352Z"
   },
   {
    "duration": 16,
    "start_time": "2022-09-18T08:37:36.359Z"
   },
   {
    "duration": 7,
    "start_time": "2022-09-18T08:37:36.378Z"
   },
   {
    "duration": 45,
    "start_time": "2022-09-18T08:37:36.387Z"
   },
   {
    "duration": 10,
    "start_time": "2022-09-18T08:37:36.434Z"
   },
   {
    "duration": 5,
    "start_time": "2022-09-18T08:37:36.446Z"
   },
   {
    "duration": 16,
    "start_time": "2022-09-18T08:37:36.452Z"
   },
   {
    "duration": 23,
    "start_time": "2022-09-18T08:37:36.469Z"
   },
   {
    "duration": 44,
    "start_time": "2022-09-18T08:37:36.494Z"
   },
   {
    "duration": 3,
    "start_time": "2022-09-18T08:37:36.540Z"
   },
   {
    "duration": 16,
    "start_time": "2022-09-18T08:37:36.545Z"
   },
   {
    "duration": 12,
    "start_time": "2022-09-18T08:37:36.563Z"
   },
   {
    "duration": 7,
    "start_time": "2022-09-18T08:37:36.576Z"
   },
   {
    "duration": 15,
    "start_time": "2022-09-18T08:37:36.584Z"
   },
   {
    "duration": 39,
    "start_time": "2022-09-18T08:37:36.600Z"
   },
   {
    "duration": 28,
    "start_time": "2022-09-18T08:37:36.641Z"
   },
   {
    "duration": 14,
    "start_time": "2022-09-18T08:49:45.911Z"
   },
   {
    "duration": 13,
    "start_time": "2022-09-18T08:51:22.434Z"
   },
   {
    "duration": 91,
    "start_time": "2022-09-18T09:06:03.443Z"
   },
   {
    "duration": 25,
    "start_time": "2022-09-18T09:06:25.769Z"
   },
   {
    "duration": 2222,
    "start_time": "2022-09-18T09:07:03.352Z"
   },
   {
    "duration": 11,
    "start_time": "2022-09-18T09:11:19.031Z"
   },
   {
    "duration": 28,
    "start_time": "2022-09-18T09:11:25.269Z"
   },
   {
    "duration": 27,
    "start_time": "2022-09-18T09:11:51.229Z"
   },
   {
    "duration": 42,
    "start_time": "2022-09-18T09:12:09.031Z"
   },
   {
    "duration": 32,
    "start_time": "2022-09-18T09:13:13.526Z"
   },
   {
    "duration": 821,
    "start_time": "2022-09-18T09:14:52.426Z"
   },
   {
    "duration": 31,
    "start_time": "2022-09-18T09:15:24.921Z"
   },
   {
    "duration": 31,
    "start_time": "2022-09-18T09:16:00.428Z"
   },
   {
    "duration": 32,
    "start_time": "2022-09-18T09:17:31.178Z"
   },
   {
    "duration": 36,
    "start_time": "2022-09-18T09:17:49.131Z"
   },
   {
    "duration": 27,
    "start_time": "2022-09-18T09:19:24.350Z"
   },
   {
    "duration": 32,
    "start_time": "2022-09-18T09:19:36.146Z"
   },
   {
    "duration": 32,
    "start_time": "2022-09-18T09:19:39.731Z"
   },
   {
    "duration": 39,
    "start_time": "2022-09-18T09:20:39.238Z"
   },
   {
    "duration": 26,
    "start_time": "2022-09-18T09:21:26.032Z"
   },
   {
    "duration": 26,
    "start_time": "2022-09-18T09:22:01.627Z"
   },
   {
    "duration": 17,
    "start_time": "2022-09-18T09:35:26.082Z"
   },
   {
    "duration": 34,
    "start_time": "2022-09-18T09:36:35.165Z"
   },
   {
    "duration": 44,
    "start_time": "2022-09-18T09:36:47.228Z"
   },
   {
    "duration": 39,
    "start_time": "2022-09-18T09:39:35.333Z"
   },
   {
    "duration": 43,
    "start_time": "2022-09-18T09:39:41.972Z"
   },
   {
    "duration": 46,
    "start_time": "2022-09-18T09:41:31.747Z"
   },
   {
    "duration": 43,
    "start_time": "2022-09-18T09:42:45.897Z"
   },
   {
    "duration": 1508,
    "start_time": "2022-09-18T09:43:30.912Z"
   },
   {
    "duration": 32,
    "start_time": "2022-09-18T09:45:45.632Z"
   },
   {
    "duration": 42,
    "start_time": "2022-09-18T09:45:56.437Z"
   },
   {
    "duration": 934,
    "start_time": "2022-09-18T09:46:27.367Z"
   },
   {
    "duration": 49,
    "start_time": "2022-09-18T09:46:39.150Z"
   },
   {
    "duration": 41,
    "start_time": "2022-09-18T09:47:00.348Z"
   },
   {
    "duration": 1200,
    "start_time": "2022-09-18T09:48:59.509Z"
   },
   {
    "duration": 1196,
    "start_time": "2022-09-18T09:49:23.857Z"
   },
   {
    "duration": 27,
    "start_time": "2022-09-18T09:49:43.348Z"
   },
   {
    "duration": 86,
    "start_time": "2022-09-18T10:05:29.058Z"
   },
   {
    "duration": 24,
    "start_time": "2022-09-18T10:05:29.147Z"
   },
   {
    "duration": 23,
    "start_time": "2022-09-18T10:05:29.174Z"
   },
   {
    "duration": 37,
    "start_time": "2022-09-18T10:05:29.199Z"
   },
   {
    "duration": 65,
    "start_time": "2022-09-18T10:05:29.239Z"
   },
   {
    "duration": 3,
    "start_time": "2022-09-18T10:05:29.306Z"
   },
   {
    "duration": 28,
    "start_time": "2022-09-18T10:05:29.311Z"
   },
   {
    "duration": 13,
    "start_time": "2022-09-18T10:05:29.341Z"
   },
   {
    "duration": 9,
    "start_time": "2022-09-18T10:05:29.356Z"
   },
   {
    "duration": 5,
    "start_time": "2022-09-18T10:05:29.367Z"
   },
   {
    "duration": 39,
    "start_time": "2022-09-18T10:05:29.373Z"
   },
   {
    "duration": 24,
    "start_time": "2022-09-18T10:05:29.414Z"
   },
   {
    "duration": 16,
    "start_time": "2022-09-18T10:05:29.440Z"
   },
   {
    "duration": 12,
    "start_time": "2022-09-18T10:05:29.459Z"
   },
   {
    "duration": 24,
    "start_time": "2022-09-18T10:05:29.473Z"
   },
   {
    "duration": 30,
    "start_time": "2022-09-18T10:05:29.499Z"
   },
   {
    "duration": 3,
    "start_time": "2022-09-18T10:05:29.534Z"
   },
   {
    "duration": 20,
    "start_time": "2022-09-18T10:05:29.541Z"
   },
   {
    "duration": 7,
    "start_time": "2022-09-18T10:05:29.563Z"
   },
   {
    "duration": 6,
    "start_time": "2022-09-18T10:05:29.571Z"
   },
   {
    "duration": 13,
    "start_time": "2022-09-18T10:05:29.578Z"
   },
   {
    "duration": 51,
    "start_time": "2022-09-18T10:05:29.592Z"
   },
   {
    "duration": 31,
    "start_time": "2022-09-18T10:05:29.644Z"
   },
   {
    "duration": 268,
    "start_time": "2022-09-18T10:06:26.773Z"
   },
   {
    "duration": 33,
    "start_time": "2022-09-18T10:06:41.866Z"
   },
   {
    "duration": 35,
    "start_time": "2022-09-18T10:08:19.267Z"
   },
   {
    "duration": 42,
    "start_time": "2022-09-18T10:09:04.696Z"
   },
   {
    "duration": 2670,
    "start_time": "2022-09-18T10:14:42.038Z"
   },
   {
    "duration": 5134,
    "start_time": "2022-09-18T10:14:58.146Z"
   },
   {
    "duration": 30,
    "start_time": "2022-09-18T10:15:10.655Z"
   },
   {
    "duration": 691,
    "start_time": "2022-09-18T14:18:25.112Z"
   },
   {
    "duration": 23,
    "start_time": "2022-09-18T14:18:25.808Z"
   },
   {
    "duration": 14,
    "start_time": "2022-09-18T14:18:25.834Z"
   },
   {
    "duration": 10,
    "start_time": "2022-09-18T14:18:25.850Z"
   },
   {
    "duration": 81,
    "start_time": "2022-09-18T14:18:25.862Z"
   },
   {
    "duration": 10,
    "start_time": "2022-09-18T14:18:25.944Z"
   },
   {
    "duration": 27,
    "start_time": "2022-09-18T14:18:25.955Z"
   },
   {
    "duration": 125,
    "start_time": "2022-09-18T14:18:25.983Z"
   },
   {
    "duration": 83,
    "start_time": "2022-09-18T14:18:26.110Z"
   },
   {
    "duration": 10,
    "start_time": "2022-09-18T14:18:26.196Z"
   },
   {
    "duration": 49,
    "start_time": "2022-09-18T14:18:26.208Z"
   },
   {
    "duration": 10,
    "start_time": "2022-09-18T14:18:26.260Z"
   },
   {
    "duration": 4,
    "start_time": "2022-09-18T14:18:26.272Z"
   },
   {
    "duration": 28,
    "start_time": "2022-09-18T14:18:26.278Z"
   },
   {
    "duration": 34,
    "start_time": "2022-09-18T14:18:26.307Z"
   },
   {
    "duration": 20,
    "start_time": "2022-09-18T14:18:26.343Z"
   },
   {
    "duration": 3,
    "start_time": "2022-09-18T14:18:26.365Z"
   },
   {
    "duration": 22,
    "start_time": "2022-09-18T14:18:26.370Z"
   },
   {
    "duration": 33,
    "start_time": "2022-09-18T14:18:26.394Z"
   },
   {
    "duration": 25,
    "start_time": "2022-09-18T14:18:26.429Z"
   },
   {
    "duration": 17,
    "start_time": "2022-09-18T14:18:26.455Z"
   },
   {
    "duration": 33,
    "start_time": "2022-09-18T14:18:26.474Z"
   },
   {
    "duration": 28,
    "start_time": "2022-09-18T14:18:26.509Z"
   },
   {
    "duration": 25,
    "start_time": "2022-09-18T14:18:26.538Z"
   },
   {
    "duration": 935,
    "start_time": "2022-09-18T14:23:07.424Z"
   },
   {
    "duration": 1470,
    "start_time": "2022-09-18T14:25:36.159Z"
   },
   {
    "duration": 1095,
    "start_time": "2022-09-18T14:27:30.990Z"
   },
   {
    "duration": 822,
    "start_time": "2022-09-18T14:28:15.576Z"
   },
   {
    "duration": 808,
    "start_time": "2022-09-18T14:28:27.734Z"
   },
   {
    "duration": 32,
    "start_time": "2022-09-18T14:28:40.264Z"
   },
   {
    "duration": 68,
    "start_time": "2022-09-18T14:33:44.896Z"
   },
   {
    "duration": 17,
    "start_time": "2022-09-18T14:33:44.966Z"
   },
   {
    "duration": 25,
    "start_time": "2022-09-18T14:33:44.984Z"
   },
   {
    "duration": 30,
    "start_time": "2022-09-18T14:33:45.014Z"
   },
   {
    "duration": 41,
    "start_time": "2022-09-18T14:33:45.046Z"
   },
   {
    "duration": 3,
    "start_time": "2022-09-18T14:33:45.089Z"
   },
   {
    "duration": 11,
    "start_time": "2022-09-18T14:33:45.093Z"
   },
   {
    "duration": 19,
    "start_time": "2022-09-18T14:33:45.106Z"
   },
   {
    "duration": 8,
    "start_time": "2022-09-18T14:33:45.127Z"
   },
   {
    "duration": 7,
    "start_time": "2022-09-18T14:33:45.138Z"
   },
   {
    "duration": 38,
    "start_time": "2022-09-18T14:33:45.147Z"
   },
   {
    "duration": 25,
    "start_time": "2022-09-18T14:33:45.187Z"
   },
   {
    "duration": 3,
    "start_time": "2022-09-18T14:33:45.221Z"
   },
   {
    "duration": 12,
    "start_time": "2022-09-18T14:33:45.226Z"
   },
   {
    "duration": 16,
    "start_time": "2022-09-18T14:33:45.239Z"
   },
   {
    "duration": 17,
    "start_time": "2022-09-18T14:33:45.257Z"
   },
   {
    "duration": 3,
    "start_time": "2022-09-18T14:33:45.276Z"
   },
   {
    "duration": 37,
    "start_time": "2022-09-18T14:33:45.280Z"
   },
   {
    "duration": 14,
    "start_time": "2022-09-18T14:33:45.320Z"
   },
   {
    "duration": 6,
    "start_time": "2022-09-18T14:33:45.335Z"
   },
   {
    "duration": 11,
    "start_time": "2022-09-18T14:33:45.342Z"
   },
   {
    "duration": 982,
    "start_time": "2022-09-18T14:33:45.355Z"
   },
   {
    "duration": 0,
    "start_time": "2022-09-18T14:33:46.339Z"
   },
   {
    "duration": 0,
    "start_time": "2022-09-18T14:33:46.341Z"
   },
   {
    "duration": 25,
    "start_time": "2022-09-18T14:33:56.813Z"
   },
   {
    "duration": 26,
    "start_time": "2022-09-18T14:34:10.254Z"
   },
   {
    "duration": 33,
    "start_time": "2022-09-18T14:34:15.394Z"
   },
   {
    "duration": 78,
    "start_time": "2022-09-18T14:34:56.688Z"
   },
   {
    "duration": 14,
    "start_time": "2022-09-18T14:34:56.768Z"
   },
   {
    "duration": 14,
    "start_time": "2022-09-18T14:34:56.784Z"
   },
   {
    "duration": 26,
    "start_time": "2022-09-18T14:34:56.801Z"
   },
   {
    "duration": 32,
    "start_time": "2022-09-18T14:34:56.830Z"
   },
   {
    "duration": 4,
    "start_time": "2022-09-18T14:34:56.864Z"
   },
   {
    "duration": 11,
    "start_time": "2022-09-18T14:34:56.870Z"
   },
   {
    "duration": 4,
    "start_time": "2022-09-18T14:34:56.882Z"
   },
   {
    "duration": 13,
    "start_time": "2022-09-18T14:34:56.888Z"
   },
   {
    "duration": 7,
    "start_time": "2022-09-18T14:34:56.906Z"
   },
   {
    "duration": 36,
    "start_time": "2022-09-18T14:34:56.915Z"
   },
   {
    "duration": 10,
    "start_time": "2022-09-18T14:34:56.953Z"
   },
   {
    "duration": 4,
    "start_time": "2022-09-18T14:34:56.965Z"
   },
   {
    "duration": 15,
    "start_time": "2022-09-18T14:34:56.970Z"
   },
   {
    "duration": 18,
    "start_time": "2022-09-18T14:34:57.015Z"
   },
   {
    "duration": 18,
    "start_time": "2022-09-18T14:34:57.034Z"
   },
   {
    "duration": 3,
    "start_time": "2022-09-18T14:34:57.054Z"
   },
   {
    "duration": 15,
    "start_time": "2022-09-18T14:34:57.059Z"
   },
   {
    "duration": 13,
    "start_time": "2022-09-18T14:34:57.076Z"
   },
   {
    "duration": 13,
    "start_time": "2022-09-18T14:34:57.091Z"
   },
   {
    "duration": 23,
    "start_time": "2022-09-18T14:34:57.105Z"
   },
   {
    "duration": 30,
    "start_time": "2022-09-18T14:34:57.130Z"
   },
   {
    "duration": 31,
    "start_time": "2022-09-18T14:34:57.162Z"
   },
   {
    "duration": 38,
    "start_time": "2022-09-18T14:34:57.202Z"
   },
   {
    "duration": 40,
    "start_time": "2022-09-18T14:38:45.397Z"
   },
   {
    "duration": 44,
    "start_time": "2022-09-18T14:42:09.692Z"
   },
   {
    "duration": 30,
    "start_time": "2022-09-18T14:43:09.971Z"
   },
   {
    "duration": 26,
    "start_time": "2022-09-18T14:43:36.413Z"
   },
   {
    "duration": 33,
    "start_time": "2022-09-18T14:43:42.788Z"
   },
   {
    "duration": 32,
    "start_time": "2022-09-18T14:43:48.877Z"
   },
   {
    "duration": 34,
    "start_time": "2022-09-18T14:45:13.090Z"
   },
   {
    "duration": 63,
    "start_time": "2022-09-18T16:44:52.456Z"
   },
   {
    "duration": 14,
    "start_time": "2022-09-18T16:44:52.521Z"
   },
   {
    "duration": 20,
    "start_time": "2022-09-18T16:44:52.536Z"
   },
   {
    "duration": 7,
    "start_time": "2022-09-18T16:44:52.558Z"
   },
   {
    "duration": 45,
    "start_time": "2022-09-18T16:44:52.566Z"
   },
   {
    "duration": 2,
    "start_time": "2022-09-18T16:44:52.613Z"
   },
   {
    "duration": 10,
    "start_time": "2022-09-18T16:44:52.617Z"
   },
   {
    "duration": 4,
    "start_time": "2022-09-18T16:44:52.629Z"
   },
   {
    "duration": 8,
    "start_time": "2022-09-18T16:44:52.634Z"
   },
   {
    "duration": 7,
    "start_time": "2022-09-18T16:44:52.644Z"
   },
   {
    "duration": 30,
    "start_time": "2022-09-18T16:44:52.652Z"
   },
   {
    "duration": 9,
    "start_time": "2022-09-18T16:44:52.699Z"
   },
   {
    "duration": 4,
    "start_time": "2022-09-18T16:44:52.709Z"
   },
   {
    "duration": 15,
    "start_time": "2022-09-18T16:44:52.714Z"
   },
   {
    "duration": 41,
    "start_time": "2022-09-18T16:44:52.730Z"
   },
   {
    "duration": 17,
    "start_time": "2022-09-18T16:44:52.772Z"
   },
   {
    "duration": 10,
    "start_time": "2022-09-18T16:44:52.790Z"
   },
   {
    "duration": 13,
    "start_time": "2022-09-18T16:44:52.802Z"
   },
   {
    "duration": 11,
    "start_time": "2022-09-18T16:44:52.817Z"
   },
   {
    "duration": 10,
    "start_time": "2022-09-18T16:44:52.829Z"
   },
   {
    "duration": 10,
    "start_time": "2022-09-18T16:44:52.840Z"
   },
   {
    "duration": 25,
    "start_time": "2022-09-18T16:44:52.851Z"
   },
   {
    "duration": 37,
    "start_time": "2022-09-18T16:44:52.878Z"
   },
   {
    "duration": 25,
    "start_time": "2022-09-18T16:44:52.917Z"
   },
   {
    "duration": 27,
    "start_time": "2022-09-18T16:44:52.944Z"
   },
   {
    "duration": 682,
    "start_time": "2022-09-19T01:13:50.057Z"
   },
   {
    "duration": 22,
    "start_time": "2022-09-19T01:13:50.741Z"
   },
   {
    "duration": 14,
    "start_time": "2022-09-19T01:13:50.765Z"
   },
   {
    "duration": 9,
    "start_time": "2022-09-19T01:13:50.781Z"
   },
   {
    "duration": 34,
    "start_time": "2022-09-19T01:13:50.791Z"
   },
   {
    "duration": 3,
    "start_time": "2022-09-19T01:13:50.827Z"
   },
   {
    "duration": 33,
    "start_time": "2022-09-19T01:13:50.832Z"
   },
   {
    "duration": 5,
    "start_time": "2022-09-19T01:13:50.867Z"
   },
   {
    "duration": 13,
    "start_time": "2022-09-19T01:13:50.874Z"
   },
   {
    "duration": 4,
    "start_time": "2022-09-19T01:13:50.890Z"
   },
   {
    "duration": 41,
    "start_time": "2022-09-19T01:13:50.895Z"
   },
   {
    "duration": 18,
    "start_time": "2022-09-19T01:13:50.937Z"
   },
   {
    "duration": 24,
    "start_time": "2022-09-19T01:13:50.956Z"
   },
   {
    "duration": 16,
    "start_time": "2022-09-19T01:13:50.982Z"
   },
   {
    "duration": 27,
    "start_time": "2022-09-19T01:13:51.000Z"
   },
   {
    "duration": 18,
    "start_time": "2022-09-19T01:13:51.028Z"
   },
   {
    "duration": 4,
    "start_time": "2022-09-19T01:13:51.048Z"
   },
   {
    "duration": 17,
    "start_time": "2022-09-19T01:13:51.053Z"
   },
   {
    "duration": 6,
    "start_time": "2022-09-19T01:13:51.072Z"
   },
   {
    "duration": 4,
    "start_time": "2022-09-19T01:13:51.079Z"
   },
   {
    "duration": 31,
    "start_time": "2022-09-19T01:13:51.084Z"
   },
   {
    "duration": 45,
    "start_time": "2022-09-19T01:13:51.116Z"
   },
   {
    "duration": 31,
    "start_time": "2022-09-19T01:13:51.162Z"
   },
   {
    "duration": 31,
    "start_time": "2022-09-19T01:13:51.195Z"
   },
   {
    "duration": 42,
    "start_time": "2022-09-19T01:13:51.228Z"
   },
   {
    "duration": 26,
    "start_time": "2022-09-19T01:15:02.229Z"
   },
   {
    "duration": 26,
    "start_time": "2022-09-19T01:15:43.990Z"
   },
   {
    "duration": 26,
    "start_time": "2022-09-19T01:16:12.464Z"
   },
   {
    "duration": 29,
    "start_time": "2022-09-19T01:16:20.863Z"
   },
   {
    "duration": 33,
    "start_time": "2022-09-19T01:16:27.848Z"
   },
   {
    "duration": 27,
    "start_time": "2022-09-19T01:16:32.315Z"
   },
   {
    "duration": 302,
    "start_time": "2022-09-19T01:41:14.792Z"
   },
   {
    "duration": 604,
    "start_time": "2022-09-19T01:41:55.590Z"
   },
   {
    "duration": 49,
    "start_time": "2022-09-19T01:51:03.414Z"
   },
   {
    "duration": 69,
    "start_time": "2022-09-19T01:51:23.241Z"
   },
   {
    "duration": 42,
    "start_time": "2022-09-19T01:52:17.596Z"
   },
   {
    "duration": 29,
    "start_time": "2022-09-19T01:53:46.352Z"
   },
   {
    "duration": 32,
    "start_time": "2022-09-19T02:19:20.112Z"
   },
   {
    "duration": 80,
    "start_time": "2022-09-19T02:31:17.969Z"
   },
   {
    "duration": 62,
    "start_time": "2022-09-19T03:10:45.267Z"
   }
  ],
  "colab": {
   "name": "dpp_template_part2.ipynb",
   "provenance": []
  },
  "kernelspec": {
   "display_name": "Python 3 (ipykernel)",
   "language": "python",
   "name": "python3"
  },
  "language_info": {
   "codemirror_mode": {
    "name": "ipython",
    "version": 3
   },
   "file_extension": ".py",
   "mimetype": "text/x-python",
   "name": "python",
   "nbconvert_exporter": "python",
   "pygments_lexer": "ipython3",
   "version": "3.8.6"
  },
  "toc": {
   "base_numbering": 1,
   "nav_menu": {},
   "number_sections": true,
   "sideBar": true,
   "skip_h1_title": true,
   "title_cell": "Table of Contents",
   "title_sidebar": "Contents",
   "toc_cell": false,
   "toc_position": {},
   "toc_section_display": true,
   "toc_window_display": false
  }
 },
 "nbformat": 4,
 "nbformat_minor": 5
}
